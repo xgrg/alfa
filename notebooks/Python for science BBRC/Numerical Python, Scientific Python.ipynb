{
 "cells": [
  {
   "cell_type": "markdown",
   "metadata": {},
   "source": [
    "os\n",
    "shutil\n"
   ]
  },
  {
   "cell_type": "code",
   "execution_count": 1,
   "metadata": {
    "collapsed": true
   },
   "outputs": [],
   "source": [
    "import sys"
   ]
  },
  {
   "cell_type": "code",
   "execution_count": 2,
   "metadata": {
    "collapsed": false
   },
   "outputs": [
    {
     "data": {
      "text/plain": [
       "['',\n",
       " '/home/grg/dipy',\n",
       " '/home/grg/brainvisa/source/capsul/trunk',\n",
       " '/home/grg/brainvisa/build/trunk/python',\n",
       " '/tmp/brainvisa-cmake/python',\n",
       " '/home/grg/git/choropleth/pluricent/python',\n",
       " '/home/grg/git/kandu',\n",
       " '/home/grg/git/snapbase/python',\n",
       " '/home/grg/git/nistats',\n",
       " '/home/grg/jupyter/lib/python2.7',\n",
       " '/home/grg/jupyter/lib/python2.7/plat-x86_64-linux-gnu',\n",
       " '/home/grg/jupyter/lib/python2.7/lib-tk',\n",
       " '/home/grg/jupyter/lib/python2.7/lib-old',\n",
       " '/home/grg/jupyter/lib/python2.7/lib-dynload',\n",
       " '/usr/lib/python2.7',\n",
       " '/usr/lib/python2.7/plat-x86_64-linux-gnu',\n",
       " '/usr/lib/python2.7/lib-tk',\n",
       " '/home/grg/jupyter/local/lib/python2.7/site-packages',\n",
       " '/home/grg/git/nipype',\n",
       " '/home/grg/jupyter/lib/python2.7/site-packages',\n",
       " '/home/grg/jupyter/local/lib/python2.7/site-packages/IPython/extensions',\n",
       " '/home/grg/.ipython']"
      ]
     },
     "execution_count": 2,
     "metadata": {},
     "output_type": "execute_result"
    }
   ],
   "source": [
    "sys.path"
   ]
  },
  {
   "cell_type": "code",
   "execution_count": null,
   "metadata": {
    "collapsed": true
   },
   "outputs": [],
   "source": []
  }
 ],
 "metadata": {
  "kernelspec": {
   "display_name": "Python 2",
   "language": "python",
   "name": "python2"
  },
  "language_info": {
   "codemirror_mode": {
    "name": "ipython",
    "version": 2
   },
   "file_extension": ".py",
   "mimetype": "text/x-python",
   "name": "python",
   "nbconvert_exporter": "python",
   "pygments_lexer": "ipython2",
   "version": "2.7.11+"
  }
 },
 "nbformat": 4,
 "nbformat_minor": 1
}
