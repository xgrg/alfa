{
 "cells": [
  {
   "cell_type": "markdown",
   "metadata": {},
   "source": [
    "More strings"
   ]
  },
  {
   "cell_type": "code",
   "execution_count": 30,
   "metadata": {
    "collapsed": false
   },
   "outputs": [],
   "source": [
    "l = 'once upon a time'.split(' ')"
   ]
  },
  {
   "cell_type": "code",
   "execution_count": 31,
   "metadata": {
    "collapsed": false
   },
   "outputs": [
    {
     "data": {
      "text/plain": [
       "'once-upon-a-time'"
      ]
     },
     "execution_count": 31,
     "metadata": {},
     "output_type": "execute_result"
    }
   ],
   "source": [
    "'-'.join(l)"
   ]
  },
  {
   "cell_type": "code",
   "execution_count": 35,
   "metadata": {
    "collapsed": false
   },
   "outputs": [
    {
     "name": "stdout",
     "output_type": "stream",
     "text": [
      "Brainstorming has lost\n",
      "Brainstorming has won\n",
      "Brainstorming has almost won\n"
     ]
    }
   ],
   "source": [
    "s = 'Brainstorming has lost'\n",
    "print s\n",
    "s = s.replace('lost', 'won')\n",
    "print s\n",
    "\n",
    "l = s.split(' ')\n",
    "l.insert(2, 'almost')\n",
    "print ' '.join(l)"
   ]
  },
  {
   "cell_type": "markdown",
   "metadata": {},
   "source": [
    "List comprehension"
   ]
  },
  {
   "cell_type": "code",
   "execution_count": 8,
   "metadata": {
    "collapsed": false
   },
   "outputs": [
    {
     "name": "stdout",
     "output_type": "stream",
     "text": [
      "['dogs', 'cats', 'birds']\n"
     ]
    }
   ],
   "source": [
    "animals_list = ['dog', 'cat', 'bird']\n",
    "a = ['%ss'%each for each in animals_list]\n",
    "print a"
   ]
  },
  {
   "cell_type": "markdown",
   "metadata": {},
   "source": [
    "`In` keyword and more `for` loops"
   ]
  },
  {
   "cell_type": "code",
   "execution_count": 22,
   "metadata": {
    "collapsed": false
   },
   "outputs": [
    {
     "name": "stdout",
     "output_type": "stream",
     "text": [
      "True\n",
      "True\n",
      "a is not in dog\n",
      "a is in cat\n",
      "a is not in bird\n"
     ]
    }
   ],
   "source": [
    "print 'dog' in animals_list\n",
    "print 'storm' in 'brainstorming'\n",
    "\n",
    "for each in animals_list:\n",
    "    if 'a' in each:\n",
    "        print 'a is in %s'%each\n",
    "    else:\n",
    "        print 'a is not in %s'%each"
   ]
  },
  {
   "cell_type": "code",
   "execution_count": 15,
   "metadata": {
    "collapsed": false
   },
   "outputs": [
    {
     "name": "stdout",
     "output_type": "stream",
     "text": [
      "dog is in 0 position\n",
      "cat is in 1 position\n",
      "bird is in 2 position\n"
     ]
    }
   ],
   "source": [
    "for i, each in enumerate(animals_list):\n",
    "    print each, 'is in %s position'%i   "
   ]
  },
  {
   "cell_type": "code",
   "execution_count": 17,
   "metadata": {
    "collapsed": false
   },
   "outputs": [
    {
     "name": "stdout",
     "output_type": "stream",
     "text": [
      "dog has 4 legs\n",
      "cat has 4 legs\n",
      "bird has 2 legs\n"
     ]
    }
   ],
   "source": [
    "how_many_legs = [4, 4, 2]\n",
    "for animal, n_legs in zip(animals_list, how_many_legs):\n",
    "    print '%s has %s legs'%(animal, n_legs)"
   ]
  },
  {
   "cell_type": "code",
   "execution_count": 19,
   "metadata": {
    "collapsed": false
   },
   "outputs": [
    {
     "name": "stdout",
     "output_type": "stream",
     "text": [
      "{'bird': 2, 'dog': 4, 'cat': 4}\n"
     ]
    }
   ],
   "source": [
    "# converting it to a dictionary using list comprehension\n",
    "d = dict([(animal, n_legs) for animal, n_legs in zip(animals_list, how_many_legs)])\n",
    "print d"
   ]
  },
  {
   "cell_type": "markdown",
   "metadata": {},
   "source": [
    "Json format"
   ]
  },
  {
   "cell_type": "code",
   "execution_count": 20,
   "metadata": {
    "collapsed": false
   },
   "outputs": [
    {
     "data": {
      "text/plain": [
       "{u'bird': 2, u'cat': 4, u'dog': 4}"
      ]
     },
     "execution_count": 20,
     "metadata": {},
     "output_type": "execute_result"
    }
   ],
   "source": [
    "import json\n",
    "json.dump(d, open('/tmp/test.json','w'))\n",
    "\n",
    "d2 = json.load(open('/tmp/test.json', 'r'))\n",
    "d2"
   ]
  },
  {
   "cell_type": "markdown",
   "metadata": {
    "slideshow": {
     "slide_type": "slide"
    }
   },
   "source": [
    "# The os module"
   ]
  },
  {
   "cell_type": "code",
   "execution_count": 1,
   "metadata": {
    "collapsed": false,
    "slideshow": {
     "slide_type": "fragment"
    }
   },
   "outputs": [
    {
     "data": {
      "text/plain": [
       "'/home/grg/git/alfa/notebooks/Python for science BBRC'"
      ]
     },
     "execution_count": 1,
     "metadata": {},
     "output_type": "execute_result"
    }
   ],
   "source": [
    "import os\n",
    "os.getcwd()"
   ]
  },
  {
   "cell_type": "code",
   "execution_count": 2,
   "metadata": {
    "collapsed": false,
    "slideshow": {
     "slide_type": "fragment"
    }
   },
   "outputs": [
    {
     "data": {
      "text/plain": [
       "['Welcome session Python for science BBRC.slides.html',\n",
       " '.ipynb_checkpoints',\n",
       " 'custom.css',\n",
       " 'Numerical Python, Scientific Python.ipynb',\n",
       " 'nilearn.png',\n",
       " 'default_transition.tpl',\n",
       " 'Welcome session Python for science BBRC.ipynb']"
      ]
     },
     "execution_count": 2,
     "metadata": {},
     "output_type": "execute_result"
    }
   ],
   "source": [
    "os.listdir(os.curdir)"
   ]
  },
  {
   "cell_type": "code",
   "execution_count": 3,
   "metadata": {
    "collapsed": true,
    "slideshow": {
     "slide_type": "fragment"
    }
   },
   "outputs": [],
   "source": [
    "os.mkdir('/tmp/junkdir')"
   ]
  },
  {
   "cell_type": "code",
   "execution_count": 8,
   "metadata": {
    "collapsed": false,
    "slideshow": {
     "slide_type": "fragment"
    }
   },
   "outputs": [
    {
     "data": {
      "text/plain": [
       "True"
      ]
     },
     "execution_count": 8,
     "metadata": {},
     "output_type": "execute_result"
    }
   ],
   "source": [
    "'junkdir' in os.listdir('/tmp')"
   ]
  },
  {
   "cell_type": "code",
   "execution_count": 9,
   "metadata": {
    "collapsed": true,
    "slideshow": {
     "slide_type": "fragment"
    }
   },
   "outputs": [],
   "source": [
    "os.rmdir('/tmp/junkdir')"
   ]
  },
  {
   "cell_type": "code",
   "execution_count": 10,
   "metadata": {
    "collapsed": false,
    "slideshow": {
     "slide_type": "fragment"
    }
   },
   "outputs": [
    {
     "data": {
      "text/plain": [
       "False"
      ]
     },
     "execution_count": 10,
     "metadata": {},
     "output_type": "execute_result"
    }
   ],
   "source": [
    "'junkdir' in os.listdir('/tmp')"
   ]
  },
  {
   "cell_type": "code",
   "execution_count": 11,
   "metadata": {
    "collapsed": true,
    "slideshow": {
     "slide_type": "fragment"
    }
   },
   "outputs": [],
   "source": [
    "fp = open('/tmp/junk.txt', 'w')\n",
    "fp.write('hello world\\n')\n",
    "fp.close()"
   ]
  },
  {
   "cell_type": "code",
   "execution_count": 12,
   "metadata": {
    "collapsed": false,
    "slideshow": {
     "slide_type": "fragment"
    }
   },
   "outputs": [
    {
     "name": "stdout",
     "output_type": "stream",
     "text": [
      "hello world\n",
      "\n"
     ]
    }
   ],
   "source": [
    "fp = open('/tmp/junk.txt')\n",
    "print fp.read()"
   ]
  },
  {
   "cell_type": "code",
   "execution_count": 13,
   "metadata": {
    "collapsed": true
   },
   "outputs": [],
   "source": [
    "os.remove('/tmp/junk.txt')"
   ]
  },
  {
   "cell_type": "code",
   "execution_count": 15,
   "metadata": {
    "collapsed": false
   },
   "outputs": [
    {
     "data": {
      "text/plain": [
       "'/tmp'"
      ]
     },
     "execution_count": 15,
     "metadata": {},
     "output_type": "execute_result"
    }
   ],
   "source": [
    "os.chdir('/tmp')\n",
    "os.getcwd()"
   ]
  },
  {
   "cell_type": "code",
   "execution_count": 16,
   "metadata": {
    "collapsed": false
   },
   "outputs": [
    {
     "data": {
      "text/plain": [
       "'./junk.txt'"
      ]
     },
     "execution_count": 16,
     "metadata": {},
     "output_type": "execute_result"
    }
   ],
   "source": [
    "os.path.join(os.curdir, 'junk.txt')"
   ]
  },
  {
   "cell_type": "code",
   "execution_count": 17,
   "metadata": {
    "collapsed": false
   },
   "outputs": [
    {
     "data": {
      "text/plain": [
       "'/tmp/junk.txt'"
      ]
     },
     "execution_count": 17,
     "metadata": {},
     "output_type": "execute_result"
    }
   ],
   "source": [
    "os.path.abspath(os.path.join(os.curdir, 'junk.txt'))"
   ]
  },
  {
   "cell_type": "code",
   "execution_count": 18,
   "metadata": {
    "collapsed": false
   },
   "outputs": [
    {
     "data": {
      "text/plain": [
       "'/tmp'"
      ]
     },
     "execution_count": 18,
     "metadata": {},
     "output_type": "execute_result"
    }
   ],
   "source": [
    "os.path.dirname(os.path.abspath(os.path.join(os.curdir, 'junk.txt')))"
   ]
  },
  {
   "cell_type": "code",
   "execution_count": 20,
   "metadata": {
    "collapsed": false
   },
   "outputs": [
    {
     "data": {
      "text/plain": [
       "'junk.txt'"
      ]
     },
     "execution_count": 20,
     "metadata": {},
     "output_type": "execute_result"
    }
   ],
   "source": [
    "os.path.basename(os.path.abspath(os.path.join(os.curdir, 'junk.txt')))"
   ]
  },
  {
   "cell_type": "code",
   "execution_count": 21,
   "metadata": {
    "collapsed": false
   },
   "outputs": [
    {
     "data": {
      "text/plain": [
       "('/tmp/junk', '.txt')"
      ]
     },
     "execution_count": 21,
     "metadata": {},
     "output_type": "execute_result"
    }
   ],
   "source": [
    "os.path.splitext(os.path.abspath(os.path.join(os.curdir, 'junk.txt'))) "
   ]
  },
  {
   "cell_type": "code",
   "execution_count": 22,
   "metadata": {
    "collapsed": false
   },
   "outputs": [
    {
     "data": {
      "text/plain": [
       "False"
      ]
     },
     "execution_count": 22,
     "metadata": {},
     "output_type": "execute_result"
    }
   ],
   "source": [
    "os.path.exists('junk.txt')"
   ]
  },
  {
   "cell_type": "code",
   "execution_count": 23,
   "metadata": {
    "collapsed": false
   },
   "outputs": [
    {
     "data": {
      "text/plain": [
       "False"
      ]
     },
     "execution_count": 23,
     "metadata": {},
     "output_type": "execute_result"
    }
   ],
   "source": [
    "os.path.isfile('junk.txt') "
   ]
  },
  {
   "cell_type": "code",
   "execution_count": 24,
   "metadata": {
    "collapsed": false
   },
   "outputs": [
    {
     "data": {
      "text/plain": [
       "False"
      ]
     },
     "execution_count": 24,
     "metadata": {},
     "output_type": "execute_result"
    }
   ],
   "source": [
    "os.path.isdir('junk.txt') "
   ]
  },
  {
   "cell_type": "code",
   "execution_count": 25,
   "metadata": {
    "collapsed": false
   },
   "outputs": [
    {
     "data": {
      "text/plain": [
       "0"
      ]
     },
     "execution_count": 25,
     "metadata": {},
     "output_type": "execute_result"
    }
   ],
   "source": [
    "os.system('ls') "
   ]
  },
  {
   "cell_type": "code",
   "execution_count": 28,
   "metadata": {
    "collapsed": false
   },
   "outputs": [
    {
     "name": "stdout",
     "output_type": "stream",
     "text": [
      "/tmp/tmpt6dKG3.png\n",
      "/tmp/tmpN0rjFE.png\n",
      "/tmp/tmp_zno3u.png\n",
      "/tmp/tmpVscz57.png\n",
      "/tmp/tmpVCJdSI.png\n",
      "/tmp/tmp3hsXFD.png\n",
      "/tmp/tmpCwxvWk.png\n",
      "/tmp/tmpsKZYSC.png\n",
      "/tmp/tmp_7P7K8.png\n",
      "/tmp/tmp4qWVlI.png\n",
      "/tmp/tmp1U2cQd.png\n",
      "/tmp/tmp3qMKCS.png\n",
      "/tmp/tmpkzIP86.png\n",
      "/tmp/tmpj9beMA.png\n",
      "/tmp/tmpOY0MgA.png\n",
      "/tmp/tmp8LTsxI.png\n",
      "/tmp/justificatifs.pdf\n",
      "/tmp/tmpnYAjSS.png\n",
      "/tmp/tmpaKQDWo.png\n",
      "/tmp/tmpGMgoN0.m\n",
      "/tmp/tmpHsmSEh.png\n",
      "/tmp/g656082.png\n",
      "/tmp/tmpPdrmyZ.png\n",
      "/tmp/tmp5RtBXH.png\n",
      "/tmp/tmpONde2R.png\n",
      "/tmp/tmpgJfgOP.png\n",
      "/tmp/tmpQ1iE1u.png\n",
      "/tmp/tmpLJxYji.png\n",
      "/tmp/tmpVX_6eM.png\n",
      "/tmp/tmpU6sXqG.png\n",
      "/tmp/tmpH_KAH4.png\n",
      "/tmp/tmpyke9Nz.png\n",
      "/tmp/tmpza4b7L.png\n",
      "/tmp/tmp8QVbnB.png\n",
      "/tmp/tmpJ0HRrN.png\n",
      "/tmp/tmppa2oca.png\n",
      "/tmp/PMorlat.pdf\n",
      "/tmp/tmpcrULR_.png\n",
      "/tmp/tmpepadyj.png\n",
      "/tmp/tmppf0199.png\n",
      "/tmp/tmpb21Isk.png\n",
      "/tmp/tmpx7zcgy.png\n",
      "/tmp/tmpdZh2ju.m\n",
      "/tmp/tmpoVNlDx.png\n",
      "/tmp/1471-2156-12-82.pdf\n",
      "/tmp/tmp3NfKcS.png\n",
      "/tmp/tmpJYSA3m.png\n",
      "/tmp/tmpDKJlqB.png\n",
      "/tmp/tmpfLLUIz.png\n",
      "/tmp/tmpemuSwE.png\n",
      "/tmp/tmp6P9wRu.m\n",
      "/tmp/tmpAiD5VE.png\n",
      "/tmp/tmpBG5ry2.png\n",
      "/tmp/munkres.m\n",
      "/tmp/tmpf2ykuT.png\n",
      "/tmp/tmpF0rMdR.png\n",
      "/tmp/tmpQwHstc.png\n",
      "/tmp/tmpEWmb_L.png\n",
      "/tmp/tmpTOXuLr.png\n",
      "/tmp/tmpGllUqd.png\n",
      "/tmp/tmprCCQSN.png\n",
      "/tmp/tmp2fFFJf.png\n",
      "/tmp/tmpmlrCXk.png\n",
      "/tmp/tmp07e5eV.png\n",
      "/tmp/tmp3AIRpj.png\n",
      "/tmp/OrdredemissionpersonnelGO.pdf\n",
      "/tmp/tmpIeP58s.png\n",
      "/tmp/tmp9ESVL0.png\n",
      "/tmp/tmpMfXfQA.png\n",
      "/tmp/tmpW6NN67.png\n",
      "/tmp/tmpOzfYHR.png\n",
      "/tmp/cv.pdf\n",
      "/tmp/tmpjrOPuC.png\n",
      "/tmp/tmpFIHcIl.png\n",
      "/tmp/tmp4UigVs.png\n",
      "/tmp/tmpkJTMer.png\n",
      "/tmp/tmpZAiC7J.png\n",
      "/tmp/tmpUl0LCu.png\n",
      "/tmp/tmpiifTyp.png\n",
      "/tmp/tmp3YtcMP.png\n",
      "/tmp/tmpXjls6D.png\n",
      "/tmp/tmpzBMI7c.png\n",
      "/tmp/tmpgwcJ9Q.png\n",
      "/tmp/tmpVWx55i.png\n",
      "/tmp/tmpXgkNdt.m\n",
      "/tmp/tmp60UOKA.png\n",
      "/tmp/tmpfufP7s.png\n",
      "/tmp/tmpXgXOVr.png\n",
      "/tmp/tmpBoyJlu.png\n",
      "/tmp/tmpI2RgRQ.png\n",
      "/tmp/tmpGhIbRe.png\n",
      "/tmp/tmpGO3A5u.png\n",
      "/tmp/tmpGvT2Fg.png\n",
      "/tmp/tmpOf6kVp.png\n",
      "/tmp/tmpKwHz4Y.png\n",
      "/tmp/tmpTvXFcA.png\n",
      "/tmp/tmpfg0XsS.png\n",
      "/tmp/Jin(2014).pdf\n",
      "/tmp/tmpeQeihz.png\n",
      "/tmp/tmp1BTSx4.png\n",
      "/tmp/tmpGHcIo2.png\n",
      "/tmp/tmpdk25Uh.png\n",
      "/tmp/tmpyeObc_.png\n",
      "/tmp/Objectives.pdf\n",
      "/tmp/tmpggJcuj.png\n",
      "/tmp/tmpHRFUtj.png\n",
      "/tmp/tmpwp7o6T.png\n",
      "/tmp/tmpVNDfw0.png\n",
      "/tmp/tmpLjWWeb.png\n",
      "/tmp/tmpggqR2_.png\n",
      "/tmp/tmpddDB57.png\n",
      "/tmp/tmpYZTl9F.png\n",
      "/tmp/tmpLBfrCs.png\n",
      "/tmp/tmp2NWzZl.png\n",
      "/tmp/tmpS_s3qf.png\n",
      "/tmp/tmpk6bkyS.png\n",
      "/tmp/tmpAtkNYo.png\n",
      "/tmp/tmpOctL04.png\n",
      "/tmp/tmpUpU2nq.png\n",
      "/tmp/tmpNqsJ8Y.png\n",
      "/tmp/Contrato Alquiler Carrer Roger de Flor 84.pdf\n",
      "/tmp/tmpi5ASht.png\n",
      "/tmp/WalkingTest.avi\n",
      "/tmp/tmp4ylWI2.png\n",
      "/tmp/tmpdG1lDh.png\n",
      "/tmp/tmp6pgEZG.png\n",
      "/tmp/tmpMKd_Y0.png\n",
      "/tmp/ICT_for_Assessment_and_Rehabilitation_in_Alzheimer’s_Disease_and_Related_Disorders.PDF\n",
      "/tmp/tmp2sbAwu.png\n",
      "/tmp/tmpnbkF93.png\n",
      "/tmp/tmpJLM0oJ.png\n",
      "/tmp/tmpbV6qhZ.png\n",
      "/tmp/tmpCfBDP3.png\n",
      "/tmp/tmp1aJYdL.png\n",
      "/tmp/tmpP4bH3O.png\n",
      "/tmp/tmpdkbXeM.png\n",
      "/tmp/tmphJdI5b.png\n",
      "/tmp/tmp05w0QF.png\n",
      "/tmp/tmpwga6bG.png\n",
      "/tmp/tmp1wa_XF.png\n",
      "/tmp/tmpOPqX2P.png\n",
      "/tmp/tmpuGfHaI.png\n",
      "/tmp/tmpwgLY7V.png\n",
      "/tmp/Verbatimgroupmeeting.pdf\n",
      "/tmp/tmpV4DBwj.png\n",
      "/tmp/tmpaEiEQF.png\n",
      "/tmp/tmpRwdNZT.png\n",
      "/tmp/tmpUkJHUK.png\n",
      "/tmp/bv_29468_0\n",
      "/tmp/tmpyqpHD_.png\n",
      "/tmp/tmp2maS7H.png\n",
      "/tmp/tmpbRaj8v.png\n",
      "/tmp/tmpMYSgOr.png\n",
      "/tmp/tmpnfM9py.m\n",
      "/tmp/tmp6XwxVW.m\n",
      "/tmp/tmpRG7Ulg.png\n",
      "/tmp/tmpCGrzou.png\n",
      "/tmp/tmp3fXFk6.png\n",
      "/tmp/tmpk_nTfr.png\n",
      "/tmp/tmpHMk5UO.png\n",
      "/tmp/tmpSc8ZZj.png\n",
      "/tmp/config-err-P0GwOK\n",
      "/tmp/tmpwDxnyB.svg\n",
      "/tmp/tmpcDXVbz.png\n",
      "/tmp/tmpCCmlE3.png\n",
      "/tmp/tmpa7bzKQ.png\n",
      "/tmp/tmpZ697Ey.png\n",
      "/tmp/1-s2.0-S1053811908010987-main.pdf\n",
      "/tmp/tmpoWphxd.png\n",
      "/tmp/PIIS1552526016331247.pdf\n",
      "/tmp/tmpq2cU9D.png\n",
      "/tmp/tmp9LV_iB.png\n",
      "/tmp/tmpvohE9v.png\n",
      "/tmp/tmplekpW2.png\n",
      "/tmp/tmptiL7vj.png\n",
      "/tmp/tmploWpel.png\n",
      "/tmp/tmpkwWE88.png\n",
      "/tmp/tmpI0QiGJ.png\n",
      "/tmp/tmpfDXk0_.png\n",
      "/tmp/tmp7dL5jI.png\n",
      "/tmp/tmppKl2Ck.png\n",
      "/tmp/tmp1FOdAF.png\n",
      "/tmp/tmpFXRHk0.png\n",
      "/tmp/tmp6ZFntF.png\n",
      "/tmp/genotype_map.csv\n",
      "/tmp/tmpO7Gpnc.png\n",
      "/tmp/test.mesh.minf\n",
      "/tmp/jama_Lyon_2017_mn_170003.pdf\n",
      "/tmp/tmpm8iMz1.svg\n",
      "/tmp/tmpLm2ttn.png\n",
      "/tmp/tmp4og8Ru.png\n",
      "/tmp/md.png\n",
      "/tmp/tmpcshLjj.png\n",
      "/tmp/tmpEZa8Ew.png\n",
      "/tmp/tmpIvaDmY.png\n",
      "/tmp/jpi-47888743680180496430630\n",
      "/tmp/tmpcQb4zA.png\n",
      "/tmp/tmpcUDdLk.m\n",
      "/tmp/tmpmfG0dG.png\n",
      "/tmp/tmp7nbSzw.png\n",
      "/tmp/tmpMdxo_D.png\n",
      "/tmp/tmpXV1sYN.m\n",
      "/tmp/tmpH268GG.png\n",
      "/tmp/tmpagFTq8.png\n",
      "/tmp/LCClogDemons.gif\n",
      "/tmp/tmp6Dpke4.png\n",
      "/tmp/tmptFEVDl.png\n",
      "/tmp/tmpQ9siIt.png\n",
      "/tmp/tmpTSaw0y.png\n",
      "/tmp/tmpDWHhwL.png\n",
      "/tmp/tmp1nRi3W.png\n",
      "/tmp/tmpFImZBY.png\n",
      "/tmp/tmp8nOS0u.png\n",
      "/tmp/tmpolbGIF.png\n",
      "/tmp/tmp8g7Gn9.png\n",
      "/tmp/tmpo0EaD3.png\n",
      "/tmp/tmpBPVTQs.png\n",
      "/tmp/easyjet.pdf\n",
      "/tmp/tmpNi2Owf.png\n",
      "/tmp/tmpixdzeA.png\n",
      "/tmp/MODELE ATTESTATION NON PAIEMENT.pdf\n",
      "/tmp/tmpmVSNnF.png\n",
      "/tmp/tmp09d0Kh.png\n",
      "/tmp/tmp6jI2vg.m\n",
      "/tmp/tmpVmBYiW.png\n",
      "/tmp/tmp_0PFaq.png\n",
      "/tmp/tmp1Pp34Y.png\n",
      "/tmp/tmpzFqwGR.png\n",
      "/tmp/tmp5tVxBr.png\n",
      "/tmp/tmpukor_S.png\n",
      "/tmp/tmpZZmcl6.png\n",
      "/tmp/tmpWAaYjb.m\n",
      "/tmp/tmpUZhsHX.png\n",
      "/tmp/tmprZHN2L.png\n",
      "/tmp/awp132.pdf\n",
      "/tmp/tmpUTkmsu.png\n",
      "/tmp/tmpghkinu.png\n",
      "/tmp/tmp9OyZW_.png\n",
      "/tmp/tmpY0r5UB.png\n",
      "/tmp/tmp4raJdr.png\n",
      "/tmp/tmpgVKxom.png\n",
      "/tmp/tmpFXacdz.png\n",
      "/tmp/tmp5IoDGd.png\n",
      "/tmp/tmpNKqhco.png\n",
      "/tmp/tmpxfLzvZ.png\n",
      "/tmp/tmpF1STMA.png\n",
      "/tmp/tmpqEzosq.png\n",
      "/tmp/tmpLQkE1z.png\n",
      "/tmp/tmpzLP6wY.png\n",
      "/tmp/tmp5R7jXv.png\n",
      "/tmp/tmppt1qSr.png\n",
      "/tmp/tmpee7o_I.png\n",
      "/tmp/VerbatimMNC317-03-2017.pdf\n",
      "/tmp/tmph2wNlU.png\n",
      "/tmp/tmp4_kKMr.png\n",
      "/tmp/tmpUdFP4a.png\n",
      "/tmp/tmp6C1rBB.png\n",
      "/tmp/tmpVbWgP0.png\n",
      "/tmp/tmpvSz05q.png\n",
      "/tmp/tmpUiM2aT.png\n",
      "/tmp/tmpDhkEk0.png\n",
      "/tmp/tmpmpX0gP.png\n",
      "/tmp/tmpKy8iUl.png\n",
      "/tmp/tmpMldcjs.png\n",
      "/tmp/tmpSfmpfX.png\n",
      "/tmp/tmpvTyRsT.png\n",
      "/tmp/tmpbPwUE4.png\n",
      "/tmp/tmpyzU5mu.svg\n",
      "/tmp/tmpE1Uvct.png\n",
      "/tmp/Consigne chat.pdf\n",
      "/tmp/tmpLwKuKb.png\n",
      "/tmp/tmp5_iwRE.png\n",
      "/tmp/tmpYDmrut.png\n",
      "/tmp/tmpGCctLL.png\n",
      "/tmp/tmp1gVdfm.png\n",
      "/tmp/tmpeAg3O6.png\n",
      "/tmp/tmpdrzT9s.m\n",
      "/tmp/tmpIuqrhP.png\n",
      "/tmp/tmpo5EU8j.png\n",
      "/tmp/tmp3PdINJ.png\n",
      "/tmp/tmp6fgDLh.png\n",
      "/tmp/tmp8RRpc6.png\n",
      "/tmp/tmpzWURob.png\n",
      "/tmp/tmpiqa8Z3.png\n",
      "/tmp/tmpi4yNuc.png\n",
      "/tmp/tmpPaKniE.png\n",
      "/tmp/tmp5gF6RM.png\n",
      "/tmp/tmpI2cgsG.png\n",
      "/tmp/tmp6p9Pbt.png\n",
      "/tmp/tmp6g7Y4e.png\n",
      "/tmp/tmpjA4GrT.png\n",
      "/tmp/tmpbjz8ox.png\n",
      "/tmp/tmpGRZ6fG.png\n",
      "/tmp/tmpdmyITp.png\n",
      "/tmp/tmpJDFxwM.png\n",
      "/tmp/test.mesh\n",
      "/tmp/tmpQiJz1O.png\n",
      "/tmp/tmpD2kfQP.png\n",
      "/tmp/tmpLgfhb2.png\n",
      "/tmp/tmpIpPanM.png\n",
      "/tmp/tmp9eOUZ4.png\n",
      "/tmp/tmp7gnwlV.png\n",
      "/tmp/tmpVeuMaV.png\n",
      "/tmp/tmp7OhlLu.png\n",
      "/tmp/tmp7BCV_4.png\n",
      "/tmp/tmp2qhhF4.png\n",
      "/tmp/tmp8UyBXG.png\n",
      "/tmp/tmpmHTel9.png\n",
      "/tmp/left_temporal.nii.gz.minf\n",
      "/tmp/tmpi0Vik7.png\n",
      "/tmp/tmpmdjaQU.png\n",
      "/tmp/.X0-lock\n",
      "/tmp/tmptZHCxX.png\n",
      "/tmp/tmpy2qQGk.png\n",
      "/tmp/tmpmodkXa.png\n",
      "/tmp/tmpjTbPMn.png\n",
      "/tmp/tmp1mKiQG.png\n",
      "/tmp/tmpmFOd_U.m\n",
      "/tmp/tmpsJMH6A.png\n",
      "/tmp/atom-1.13.1-grg.sock\n",
      "/tmp/tmpschMyd.png\n",
      "/tmp/tmpukAWGG.m\n",
      "/tmp/tmpwtiIYM.png\n",
      "/tmp/tmp2i5chz.png\n",
      "/tmp/tmpzgd488.png\n",
      "/tmp/tmpd0rF52.png\n",
      "/tmp/tmp2VjQUq.png\n",
      "/tmp/tmpEEUSX3.png\n",
      "/tmp/tmpz_T5Cg.png\n",
      "/tmp/2017_NOM COGNOM Objectius.docx\n",
      "/tmp/tmp8rCcmG.png\n",
      "/tmp/tmpPb4JZO.png\n",
      "/tmp/tmpCk1HRm.png\n",
      "/tmp/tmp_TvTrU.png\n",
      "/tmp/tmpaUTzQw.png\n",
      "/tmp/tmpiJejtS.png\n",
      "/tmp/tmpfB2PF1.png\n",
      "/tmp/tmp1jaD_U.png\n",
      "/tmp/firefox-52.0.tar.bz2\n",
      "/tmp/tmpkiWjV3.png\n",
      "/tmp/tmpBz0IvB.png\n",
      "/tmp/animated.gif\n",
      "/tmp/tmpNA_Uqy.png\n",
      "/tmp/tmpK2qIjP.png\n",
      "/tmp/tmpqtJjao.png\n",
      "/tmp/tmp9XFK6j.png\n",
      "/tmp/tmpyfzNnO.png\n",
      "/tmp/tmpYcGjIv.png\n",
      "/tmp/tmpW6UbPn.png\n",
      "/tmp/jpi-57513032005465911991116\n",
      "/tmp/tmpNwZT9I.png\n",
      "/tmp/tmpe9hQd1.png\n",
      "/tmp/tmpMibMlL.png\n",
      "/tmp/xauth-1000-_0\n",
      "/tmp/tmp8n_Goe.png\n",
      "/tmp/tmpR3UXjH.png\n",
      "/tmp/tmpAJm4At.png\n",
      "/tmp/tmplTvfLu.png\n",
      "/tmp/tmpld48Gy.png\n",
      "/tmp/tmpFUpHVI.png\n",
      "/tmp/tmprNeebo.png\n",
      "/tmp/tmplcyK8k.png\n",
      "/tmp/tmpo4KUDj.m\n",
      "/tmp/tmp3OdPBg.png\n",
      "/tmp/tmp7akckb.m\n",
      "/tmp/tmpbcvZi7.png\n",
      "/tmp/tmpD4jSQh.png\n",
      "/tmp/tmpGBeByK.png\n",
      "/tmp/tmpwz7BXH.png\n",
      "/tmp/tmpVoFaNE.png\n",
      "/tmp/tmpcW3Zi2.png\n",
      "/tmp/tmpddb_fa.m\n",
      "/tmp/tmp1H6a9T.m\n",
      "/tmp/lapjv.m\n",
      "/tmp/tmpiV5PxZ.png\n",
      "/tmp/Verbatimgroupmeeting (1).pdf\n",
      "/tmp/tmpXMxeXp.png\n",
      "/tmp/tmpcJlFa8.png\n",
      "/tmp/tmpys7JPA.png\n",
      "/tmp/tmpTXKkNp.png\n",
      "/tmp/tmpYmoGWc.png\n",
      "/tmp/tmpu4N87J.png\n",
      "/tmp/tmp2Vnjda.png\n",
      "/tmp/tmpf9_Phf.png\n",
      "/tmp/tmpzJwPfR.png\n",
      "/tmp/Fiche de renseignements - Création Missionnaire - Missionnaire.pdf\n",
      "/tmp/tmphISPXl.png\n",
      "/tmp/tmpQx0T0t.png\n",
      "/tmp/tmpEJC5WX.png\n",
      "/tmp/tmp2TtX0y.png\n",
      "/tmp/tmpKb3vc5.png\n",
      "/tmp/tmp7dvBmy.png\n",
      "/tmp/FDuveauPRobert.pdf\n",
      "/tmp/ampa.svg\n",
      "/tmp/tmpm0bJaj.png\n",
      "/tmp/tmpBfORUY.png\n",
      "/tmp/tmpVVf5Ry.png\n",
      "/tmp/tmpn_Y6XL.png\n",
      "/tmp/tmpIiax8M.png\n",
      "/tmp/tmpICYGID.png\n",
      "/tmp/tmpISO4GR.png\n",
      "/tmp/tmpRsTh4h.png\n",
      "/tmp/tmpRctCH6.png\n",
      "/tmp/tmpNFAmtA.png\n",
      "/tmp/tmphYjyyE.png\n",
      "/tmp/tmp01mbCP.png\n",
      "/tmp/firefox-51.0.tar.bz2\n",
      "/tmp/tmpNoLlWy.png\n",
      "/tmp/tmpuYkGl0.png\n",
      "/tmp/tmpNGIVvq.png\n",
      "/tmp/tmp25C0Yf.png\n",
      "/tmp/tmprgevqT.png\n",
      "/tmp/tmpj5ys1j.png\n",
      "/tmp/tmpM84aZn.png\n",
      "/tmp/tmpFQusEq.png\n",
      "/tmp/tmp7c6Nb6.png\n",
      "/tmp/tmpKHWM7s.png\n",
      "/tmp/tmpAL1jXH.png\n",
      "/tmp/tmpq2xdn6.png\n",
      "/tmp/tmpxymxQS.png\n",
      "/tmp/tmpUiOJZ2.png\n",
      "/tmp/tmpxCIzEW.png\n",
      "/tmp/tmpp1UDZb.png\n",
      "/tmp/tmp3r9EDM.png\n",
      "/tmp/tmpfUHDSp.png\n",
      "/tmp/tmp3yCQ4Q.png\n",
      "/tmp/tmpWuiMQX.png\n",
      "/tmp/tmpTFnyAT.png\n",
      "/tmp/tmpuRejFc.png\n",
      "/tmp/tmpY4sUPl.png\n",
      "/tmp/tmpRYhIV4.png\n",
      "/tmp/tmpLHKC5o.png\n",
      "/tmp/tmpRgWAOL.png\n",
      "/tmp/tmpZMMNMx.png\n",
      "/tmp/tmpOhxhH2.png\n",
      "/tmp/tmpqBmWcz.png\n",
      "/tmp/tmpv31RQo.png\n",
      "/tmp/tmp10RLq2.m\n",
      "/tmp/tmpfYKHk1.png\n",
      "/tmp/tmpOnhu7N.png\n",
      "/tmp/tmpRNpHdU.png\n",
      "/tmp/tmp7gqjOz.png\n",
      "/tmp/tmpjX7EZW.png\n",
      "/tmp/tmpadwACU.m\n",
      "/tmp/tmpd_LYqr.png\n",
      "/tmp/tmpT7Rwxd.png\n",
      "/tmp/tmpRStsLu.png\n",
      "/tmp/tmpG7D4HS.png\n",
      "/tmp/tmpMFo9NN.png\n",
      "/tmp/CV model intern IMIM_MCB.doc\n",
      "/tmp/tmpcWfAjv.png\n",
      "/tmp/tmplJ3Qoh.png\n",
      "/tmp/tmpperEat.png\n",
      "/tmp/tmpr5iVng.png\n",
      "/tmp/right_perivent.nii.gz.minf\n",
      "/tmp/tmpnhP9rl.png\n",
      "/tmp/tmpW48lgV.png\n",
      "/tmp/tmpocFnom.png\n",
      "/tmp/tmpCGNQ_w.png\n",
      "/tmp/tmp9t17gT.png\n",
      "/tmp/tmpGKa9Du.png\n",
      "/tmp/MINERVA_BSC.sqlite\n",
      "/tmp/tmp6anuxL.png\n",
      "/tmp/tmpMxAzX9.png\n",
      "/tmp/tmphPWQZe.png\n",
      "/tmp/tmpl3Qf0Z.png\n",
      "/tmp/tmpy1YLYG.png\n",
      "/tmp/tmptG5KiX.png\n",
      "/tmp/tmp5On7pE.png\n",
      "/tmp/tmposVc5q.png\n",
      "/tmp/tmpGmA2Wv.png\n",
      "/tmp/dossier_presse_national_2017.pdf\n",
      "/tmp/tmpfk_Pek.png\n",
      "/tmp/tmpDvkdLq.png\n",
      "/tmp/tmpt6pXRE.m\n",
      "/tmp/tmpjkyuyL.png\n",
      "/tmp/tmpi2m04s.png\n",
      "/tmp/tmpdIO12N.png\n",
      "/tmp/tmpPnIrth.png\n",
      "/tmp/tmpzT1fYp.png\n",
      "/tmp/tmpkZK_Bs.png\n",
      "/tmp/tmp_lyYSG.png\n",
      "/tmp/tmpJQKLZJ.png\n",
      "/tmp/tmpit2JHk.png\n",
      "/tmp/tmpXzrFpg.png\n",
      "/tmp/RIB Banque Populaire.pdf\n",
      "/tmp/tmpAZQy1Q.png\n",
      "/tmp/tmpI0_w5a.png\n",
      "/tmp/tmpsIDA7C.png\n",
      "/tmp/tmpoyTvJY.png\n",
      "/tmp/tmpfR179G.png\n",
      "/tmp/tmp3gnv6X.png\n",
      "/tmp/tmpdVIaUW.png\n",
      "/tmp/Passeport (4 premières pages).pdf\n",
      "/tmp/tmpShJb67.png\n",
      "/tmp/tmpqvYd4S.png\n",
      "/tmp/tmpb1ZMG3.png\n",
      "/tmp/PIIS1552526014024625.pdf\n",
      "/tmp/tmpoZYLBS.png\n",
      "/tmp/tmpyp9i6X.png\n",
      "/tmp/tmpSVLKvr.png\n",
      "/tmp/tmposzut7.png\n",
      "/tmp/tmpxqhrYG.png\n",
      "/tmp/HBM-38-1191.pdf\n",
      "/tmp/tmpm6BFeM.png\n",
      "/tmp/tmpjb0keB.png\n",
      "/tmp/right_perivent.nii.gz\n",
      "/tmp/tmpvBNhwk.png\n",
      "/tmp/tmpCihtxy.png\n",
      "/tmp/tmpnjM9uo.png\n",
      "/tmp/tmpv1aQvY.png\n",
      "/tmp/interaction.xls\n",
      "/tmp/matchedgroups.json\n",
      "/tmp/tmpT7_Q4e.png\n",
      "/tmp/tmp3ksiMW.m\n",
      "/tmp/tmpsXdxaH.png\n",
      "/tmp/tmpywNOLj.m\n",
      "/tmp/tmp002xWa.png\n",
      "/tmp/covariates.xls\n",
      "/tmp/tmpDmIEnA.png\n",
      "/tmp/tmpOkujha.png\n",
      "/tmp/BoardingPass.pdf\n",
      "/tmp/tmpRK62uX.png\n",
      "/tmp/tmpwKpkpX.png\n",
      "/tmp/tmpk5LqGZ.png\n",
      "/tmp/tmpuH28W4.png\n",
      "/tmp/tmpkBnIKO.png\n",
      "/tmp/tmpaolR3O.png\n",
      "/tmp/tmpj8dMp3.png\n",
      "/tmp/inscripcio_la_cursa.pdf\n",
      "/tmp/tmp6KkAbx.png\n",
      "/tmp/thresholded.nii.gz\n",
      "/tmp/tmprjBDX1.png\n",
      "/tmp/Xeroxdriver.log\n",
      "/tmp/bv_29468_2\n",
      "/tmp/tmpXgcMWv.png\n",
      "/tmp/tmpP4oaoX.png\n",
      "/tmp/dartel.json\n",
      "/tmp/tmp53nVWi.png\n",
      "/tmp/tmpx93J7M.png\n",
      "/tmp/tmpdan9la.png\n",
      "/tmp/tmpqixOz2.png\n",
      "/tmp/tmptDX_UN.png\n",
      "/tmp/tmpzhqqTy.png\n",
      "/tmp/tmp4T0EOS.png\n",
      "/tmp/AccessingtheUKBiobankresource.pdf\n",
      "/tmp/tmpH6Pf0l.png\n",
      "/tmp/tmpjWM6I6.png\n",
      "/tmp/tmp6vRlcZ.png\n",
      "/tmp/tmpUp82cP.png\n",
      "/tmp/tmpZ6QFOM.png\n",
      "/tmp/UpAndGoTest-1.avi\n",
      "/tmp/tmpkraAXp.png\n",
      "/tmp/tmpzcseSv.png\n",
      "/tmp/tmp_xeKuA.png\n",
      "/tmp/tmpJcVsWJ.png\n",
      "/tmp/tmphGpDwR.png\n",
      "/tmp/tmpQVmX9P.png\n",
      "/tmp/tmpq0OYAp.png\n",
      "/tmp/tmp5zs3ID.m\n",
      "/tmp/tmpAZg67l.png\n",
      "/tmp/tmpr3eue6.png\n",
      "/tmp/tmp8KXiP0.png\n",
      "/tmp/tmp91YHE6.png\n",
      "/tmp/tmpyueANf.png\n",
      "/tmp/tmpEDuE5x.png\n",
      "/tmp/tmpyYIorX.png\n",
      "/tmp/tmpn17JLC.png\n",
      "/tmp/tmpaWSC5c.svg\n",
      "/tmp/tmpU7k27p.png\n",
      "/tmp/tmpiLbIeg.png\n",
      "/tmp/tmpANThOE.png\n",
      "/tmp/tmpTtz2wy.png\n",
      "/tmp/tmprYRe1G.png\n",
      "/tmp/ScipyLectures.pdf\n",
      "/tmp/tmpEgcqEX.png\n",
      "/tmp/tmp5rHled.png\n",
      "/tmp/tmpRPSTA8.png\n",
      "/tmp/tmpnmF9xe.png\n",
      "/tmp/tmpsXfAD_.png\n",
      "/tmp/tmpbo3y3d.png\n",
      "/tmp/bv_29468_1\n",
      "/tmp/tmptYCA3n.png\n",
      "/tmp/tmpCwwgZk.png\n",
      "/tmp/tmpR5n8d9.png\n",
      "/tmp/tmp0zh1lL.png\n",
      "/tmp/tmptsyFF3.png\n",
      "/tmp/tmpPIVQ4y.png\n",
      "/tmp/tmpbmUNxN.png\n",
      "/tmp/tmpnyAFFT.png\n",
      "/tmp/tmpMDJrQ2.png\n",
      "/tmp/tmpekrvIf.png\n",
      "/tmp/tmp7md2Jo.png\n",
      "/tmp/tmpFzFuN9.png\n",
      "/tmp/tmpNnBRWj.png\n",
      "/tmp/dartel.html\n",
      "/tmp/tmprYjuYr.png\n",
      "/tmp/tmpl1vx6_.png\n",
      "/tmp/tmpDgKmBS.png\n",
      "/tmp/tmpnMEG65.png\n",
      "/tmp/tmpuSrgPX.png\n",
      "/tmp/tmpXQPa9S.png\n",
      "/tmp/tmpRhHV6G.png\n",
      "/tmp/tmpIjrvZE.png\n",
      "/tmp/tmpjoNfyv.png\n",
      "/tmp/tmpxJrcxX.png\n",
      "/tmp/tmpvBPpzq.png\n",
      "/tmp/tmpwJ69fH.png\n",
      "/tmp/tmp_Is5Qo.png\n",
      "/tmp/tmpWUi3Jx.png\n",
      "/tmp/tmpAUKLXn.png\n",
      "/tmp/tmpHh0FHY.png\n",
      "/tmp/tmpLESMT3.png\n",
      "/tmp/tmpsKopkS.png\n",
      "/tmp/tmpNCq1Al.png\n",
      "/tmp/tmplslAOu.png\n",
      "/tmp/tmpVAAmMn.png\n",
      "/tmp/tmpIgcHdL.png\n",
      "/tmp/tmplG8Dwp.png\n",
      "/tmp/tmpHYYrjd.png\n",
      "/tmp/tmpnV79E0.png\n",
      "/tmp/tmpGAo_AF.png\n",
      "/tmp/tmpsLPFgF.png\n",
      "/tmp/jpi-57511052724776405213995\n",
      "/tmp/tmp99inHA.png\n",
      "/tmp/tmpnZ1O2b.png\n",
      "/tmp/tmpjol3Cy.png\n",
      "/tmp/tmpqiOvwe.png\n",
      "/tmp/tmpC8BFYk.png\n",
      "/tmp/tmpV9ty3o.png\n",
      "/tmp/Fiche de renseignements - Création Missionnaire - Missionnaire (1).pdf\n",
      "/tmp/tmpumtk7W.png\n",
      "/tmp/tmpzHGf4E.png\n",
      "/tmp/tmpP5P9eg.png\n",
      "/tmp/tmpxoG0Te.png\n",
      "/tmp/tmpirqcW5.png\n",
      "/tmp/tmpFVcvO9.png\n",
      "/tmp/tmp9HYtvr.png\n",
      "/tmp/tmpiX8VFD.png\n",
      "/tmp/tmprq9chM.png\n",
      "/tmp/tmpvdBhfk.png\n",
      "/tmp/tmpQZCdGK.png\n",
      "/tmp/tmpUafR_w.png\n",
      "/tmp/tmp7CRi02.png\n",
      "/tmp/tmpBulBzB.png\n",
      "/tmp/tmpTbw9NM.png\n",
      "/tmp/tmpVydJed.png\n",
      "/tmp/tmp3V8pbP.png\n",
      "/tmp/tmpburJOM.png\n",
      "/tmp/Jacques Touchon.pdf\n",
      "/tmp/tmpEok470.png\n",
      "/tmp/tmp1MPDyn.png\n",
      "/tmp/tmpYxwAkI.png\n",
      "/tmp/tmpVCjPZ0.png\n",
      "/tmp/tmpk1tw6w.png\n",
      "/tmp/tmp8we16R.png\n",
      "/tmp/tmpGnXkfQ.png\n",
      "/tmp/tmpinnjF2.png\n",
      "/tmp/tmpjpDl0X.png\n",
      "/tmp/tmprjLCiR.png\n",
      "/tmp/tmpmR86IU.png\n",
      "/tmp/tmpbydvEF.png\n",
      "/tmp/tmp5tzzl2.png\n",
      "/tmp/tmpMFunvp.png\n",
      "/tmp/tmpVl3wU3.png\n",
      "/tmp/tmpdhKCRi.png\n",
      "/tmp/tmpCHX46S.png\n",
      "/tmp/tmpLHEq0d.png\n",
      "/tmp/tmpatGFq3.png\n",
      "/tmp/tmp7ZkGLQ.png\n",
      "/tmp/tmpGKY0q6.png\n",
      "/tmp/tmpbGe60T.png\n",
      "/tmp/tmp4rXZyq.png\n",
      "/tmp/tmpTjvBka.png\n",
      "/tmp/tmpCHi6N2.png\n",
      "/tmp/tmpeNwFjg.png\n",
      "/tmp/sulci_list.txt\n",
      "/tmp/tmpr3enpz.m\n",
      "/tmp/Consigne chat.doc\n",
      "/tmp/tmpgTtJfE.png\n",
      "/tmp/tmpI1P2Id.png\n",
      "/tmp/tmpGS3lLw.png\n",
      "/tmp/tmpLLdg4y.png\n",
      "/tmp/tmprJtoLZ.png\n",
      "/tmp/tmpp6atIb.png\n",
      "/tmp/tmp_iJmVa.png\n",
      "/tmp/tmpIh6ifW.png\n",
      "/tmp/tmpwhfisN.png\n",
      "/tmp/f_ALFA_match_gsb2.m\n",
      "/tmp/tmpHWY2xY.png\n",
      "/tmp/tmp1NzjSX.png\n",
      "/tmp/tmpdmsWC9.png\n",
      "/tmp/tmpgHQGyp.png\n",
      "/tmp/tmp70jmNy.png\n",
      "/tmp/tmp2pRgke.png\n",
      "/tmp/tmppIf7Um.png\n",
      "/tmp/tmp3zu9F0.png\n",
      "/tmp/tmpNNAnm3.png\n",
      "/tmp/tmp4XNSKx.png\n",
      "/tmp/thresholded2_spmT.nii.gz\n",
      "/tmp/tmpoWXKZL.png\n",
      "/tmp/sdata2016102.pdf\n",
      "/tmp/tmphGj7q0.png\n",
      "/tmp/thresholded_map.nii.gz\n",
      "/tmp/tmpy8set6.png\n",
      "/tmp/tmpwBykrj.png\n",
      "/tmp/Ordre_de_mission_sans_frais.doc\n",
      "/tmp/rois2.nii.gz\n",
      "/tmp/tmpOMvSYk.png\n",
      "/tmp/tmpRt8HM7.png\n",
      "/tmp/tmp71rg6W.png\n",
      "/tmp/tmpRxRu5f.png\n",
      "/tmp/tmp5_FHB0.png\n",
      "/tmp/tmpS5aZUZ.png\n",
      "/tmp/tmpTQODgp.png\n",
      "/tmp/tmpNkSf6y.png\n",
      "/tmp/tmpZvNuUZ.png\n",
      "/tmp/tmpxxLYVS.png\n",
      "/tmp/tmpR4L5Qa.png\n",
      "/tmp/tmpH55eGn.png\n",
      "/tmp/tmpZB8Unl.png\n",
      "/tmp/tmpma1OaI.png\n",
      "/tmp/tmpb2_fEA.png\n",
      "/tmp/tmpXj8ETM.png\n",
      "/tmp/tmp0eLfGa.png\n",
      "/tmp/tmp3AZ6LM.png\n",
      "/tmp/tmpZ2CWaS.png\n",
      "/tmp/tmpAngZqY.png\n",
      "/tmp/tmphw9FKw.png\n",
      "/tmp/tmppYmgzc.png\n",
      "/tmp/tmpFzafGE.png\n",
      "/tmp/tmp1OGWVW.png\n",
      "/tmp/tmpI3LyeE.png\n",
      "/tmp/tmpaCjunA.png\n",
      "/tmp/tmpKNwSDj.png\n",
      "/tmp/manifest.fingerprint\n",
      "/tmp/crl-set\n",
      "/tmp/manifest.json\n",
      "/tmp/manifest.fingerprint\n",
      "/tmp/crl-set\n",
      "/tmp/manifest.json\n",
      "/tmp/manifest.fingerprint\n",
      "/tmp/crl-set\n",
      "/tmp/manifest.json\n",
      "/tmp/manifest.fingerprint\n",
      "/tmp/crl-set\n",
      "/tmp/manifest.json\n",
      "/tmp/manifest.fingerprint\n",
      "/tmp/crl-set\n",
      "/tmp/manifest.json\n",
      "/tmp/manifest.fingerprint\n",
      "/tmp/crl-set\n",
      "/tmp/manifest.json\n",
      "/tmp/manifest.fingerprint\n",
      "/tmp/crl-set\n",
      "/tmp/manifest.json\n",
      "/tmp/X0\n",
      "/tmp/.parentlock\n",
      "/tmp/manifest.fingerprint\n",
      "/tmp/crl-set\n",
      "/tmp/manifest.json\n",
      "/tmp/manifest.fingerprint\n",
      "/tmp/crl-set\n",
      "/tmp/manifest.json\n",
      "/tmp/manifest.fingerprint\n",
      "/tmp/crl-set\n",
      "/tmp/manifest.json\n",
      "/tmp/manifest.fingerprint\n",
      "/tmp/crl-set\n",
      "/tmp/manifest.json\n",
      "/tmp/manifest.fingerprint\n",
      "/tmp/crl-set\n",
      "/tmp/manifest.json\n",
      "/tmp/manifest.fingerprint\n",
      "/tmp/crl-set\n",
      "/tmp/manifest.json\n",
      "/tmp/10550.png\n",
      "/tmp/12483.png\n",
      "/tmp/44491.png\n",
      "/tmp/10319.png\n",
      "/tmp/10613.png\n",
      "/tmp/11191.png\n",
      "/tmp/44004.png\n",
      "/tmp/10346.png\n",
      "/tmp/77040.png\n",
      "/tmp/55630.png\n",
      "/tmp/10144.png\n",
      "/tmp/10053.png\n",
      "/tmp/11679.png\n",
      "/tmp/77109.png\n",
      "/tmp/11514.png\n",
      "/tmp/66030.png\n",
      "/tmp/12445.png\n",
      "/tmp/11195.png\n",
      "/tmp/55469.png\n",
      "/tmp/13059.png\n",
      "/tmp/11687.png\n",
      "/tmp/11414.png\n",
      "/tmp/10151.png\n",
      "/tmp/10052.png\n",
      "/tmp/55529.png\n",
      "/tmp/10778.png\n",
      "/tmp/10298.png\n",
      "/tmp/11042.png\n",
      "/tmp/12858.png\n",
      "/tmp/11262.png\n",
      "/tmp/12624.png\n",
      "/tmp/10026.png\n",
      "/tmp/21084.png\n",
      "/tmp/21002.png\n",
      "/tmp/11803.png\n",
      "/tmp/11436.png\n",
      "/tmp/12324.png\n",
      "/tmp/13151.png\n",
      "/tmp/11630.png\n",
      "/tmp/11686.png\n",
      "/tmp/66133.png\n",
      "/tmp/10397.png\n",
      "/tmp/10071.png\n",
      "/tmp/10855.png\n",
      "/tmp/10235.png\n",
      "/tmp/13345.png\n",
      "/tmp/44091.png\n",
      "/tmp/10150.png\n",
      "/tmp/10251.png\n",
      "/tmp/12548.png\n",
      "/tmp/10070.png\n",
      "/tmp/10338.png\n",
      "/tmp/77188.png\n",
      "/tmp/13293.png\n",
      "/tmp/66019.png\n",
      "/tmp/11355.png\n",
      "/tmp/10697.png\n",
      "/tmp/10162.png\n",
      "/tmp/11201.png\n",
      "/tmp/10482.png\n",
      "/tmp/12379.png\n",
      "/tmp/10541.png\n",
      "/tmp/21092.png\n",
      "/tmp/12730.png\n",
      "/tmp/66128.png\n",
      "/tmp/77252.png\n",
      "/tmp/10787.png\n",
      "/tmp/66048.png\n",
      "/tmp/77179.png\n",
      "/tmp/10577.png\n",
      "/tmp/12975.png\n",
      "/tmp/12391.png\n",
      "/tmp/10522.png\n",
      "/tmp/10942.png\n",
      "/tmp/11144.png\n",
      "/tmp/12245.png\n",
      "/tmp/11593.png\n",
      "/tmp/10703.png\n",
      "/tmp/10023.png\n",
      "/tmp/13054.png\n",
      "/tmp/44119.png\n",
      "/tmp/10515.png\n",
      "/tmp/10870.png\n",
      "/tmp/11184.png\n",
      "/tmp/55166.png\n",
      "/tmp/10418.png\n",
      "/tmp/11658.png\n",
      "/tmp/12067.png\n",
      "/tmp/11943.png\n",
      "/tmp/10330.png\n",
      "/tmp/11858.png\n",
      "/tmp/44205.png\n",
      "/tmp/11620.png\n",
      "/tmp/12582.png\n",
      "/tmp/10750.png\n",
      "/tmp/12637.png\n",
      "/tmp/11691.png\n",
      "/tmp/12995.png\n",
      "/tmp/21130.png\n",
      "/tmp/12417.png\n",
      "/tmp/10354.png\n",
      "/tmp/10035.png\n",
      "/tmp/66026.png\n",
      "/tmp/13063.png\n",
      "/tmp/11641.png\n",
      "/tmp/55388.png\n",
      "/tmp/12516.png\n",
      "/tmp/11136.png\n",
      "/tmp/12704.png\n",
      "/tmp/55708.png\n",
      "/tmp/11291.png\n",
      "/tmp/11252.png\n",
      "/tmp/13268.png\n",
      "/tmp/10453.png\n",
      "/tmp/77034.png\n",
      "/tmp/66164.png\n",
      "/tmp/12711.png\n",
      "/tmp/13309.png\n",
      "/tmp/12878.png\n",
      "/tmp/11038.png\n",
      "/tmp/44043.png\n",
      "/tmp/55488.png\n",
      "/tmp/10988.png\n",
      "/tmp/10433.png\n",
      "/tmp/44632.png\n",
      "/tmp/66017.png\n",
      "/tmp/12963.png\n",
      "/tmp/12724.png\n",
      "/tmp/11829.png\n",
      "/tmp/10361.png\n",
      "/tmp/10496.png\n",
      "/tmp/55353.png\n",
      "/tmp/10593.png\n",
      "/tmp/10396.png\n",
      "/tmp/13144.png\n",
      "/tmp/10737.png\n",
      "/tmp/12970.png\n",
      "/tmp/12810.png\n",
      "/tmp/10645.png\n",
      "/tmp/44141.png\n",
      "/tmp/13312.png\n",
      "/tmp/11351.png\n",
      "/tmp/11360.png\n",
      "/tmp/11426.png\n",
      "/tmp/12920.png\n",
      "/tmp/44723.png\n",
      "/tmp/44660.png\n",
      "/tmp/66492.png\n",
      "/tmp/44046.png\n",
      "/tmp/10325.png\n",
      "/tmp/77217.png\n",
      "/tmp/10199.png\n",
      "/tmp/11590.png\n",
      "/tmp/44147.png\n",
      "/tmp/21073.png\n",
      "/tmp/77037.png\n",
      "/tmp/66270.png\n",
      "/tmp/11561.png\n",
      "/tmp/10056.png\n",
      "/tmp/11461.png\n",
      "/tmp/10634.png\n",
      "/tmp/66257.png\n",
      "/tmp/66131.png\n",
      "/tmp/10530.png\n",
      "/tmp/66141.png\n",
      "/tmp/13322.png\n",
      "/tmp/10794.png\n",
      "/tmp/12636.png\n",
      "/tmp/11387.png\n",
      "/tmp/10106.png\n",
      "/tmp/13169.png\n",
      "/tmp/11139.png\n",
      "/tmp/12271.png\n",
      "/tmp/11415.png\n",
      "/tmp/13242.png\n",
      "/tmp/10118.png\n",
      "/tmp/11979.png\n",
      "/tmp/66169.png\n",
      "/tmp/77195.png\n",
      "/tmp/12279.png\n",
      "/tmp/13244.png\n",
      "/tmp/11180.png\n",
      "/tmp/10809.png\n",
      "/tmp/10263.png\n",
      "/tmp/77024.png\n",
      "/tmp/10117.png\n",
      "/tmp/44057.png\n",
      "/tmp/10225.png\n",
      "/tmp/21011.png\n",
      "/tmp/13061.png\n",
      "/tmp/10536.png\n",
      "/tmp/66309.png\n",
      "/tmp/55323.png\n",
      "/tmp/66335.png\n",
      "/tmp/12659.png\n",
      "/tmp/12783.png\n",
      "/tmp/13215.png\n",
      "/tmp/66293.png\n",
      "/tmp/13043.png\n",
      "/tmp/13035.png\n",
      "/tmp/13217.png\n",
      "/tmp/77151.png\n",
      "/tmp/12032.png\n",
      "/tmp/12785.png\n",
      "/tmp/10253.png\n",
      "/tmp/10213.png\n",
      "/tmp/10200.png\n",
      "/tmp/10102.png\n",
      "/tmp/12812.png\n",
      "/tmp/66039.png\n",
      "/tmp/13075.png\n",
      "/tmp/10016.png\n",
      "/tmp/10248.png\n",
      "/tmp/11114.png\n",
      "/tmp/11152.png\n",
      "/tmp/10090.png\n",
      "/tmp/10946.png\n",
      "/tmp/12174.png\n",
      "/tmp/12056.png\n",
      "/tmp/13070.png\n",
      "/tmp/10563.png\n",
      "/tmp/11902.png\n",
      "/tmp/11656.png\n",
      "/tmp/10822.png\n",
      "/tmp/12172.png\n",
      "/tmp/66267.png\n",
      "/tmp/10901.png\n",
      "/tmp/12252.png\n",
      "/tmp/11937.png\n",
      "/tmp/12121.png\n",
      "/tmp/11030.png\n",
      "/tmp/11156.png\n",
      "/tmp/13090.png\n",
      "/tmp/12861.png\n",
      "/tmp/10108.png\n",
      "/tmp/77241.png\n",
      "/tmp/12904.png\n",
      "/tmp/13238.png\n",
      "/tmp/12502.png\n",
      "/tmp/12323.png\n",
      "/tmp/21051.png\n",
      "/tmp/10416.png\n",
      "/tmp/10099.png\n",
      "/tmp/11292.png\n",
      "/tmp/77093.png\n",
      "/tmp/11458.png\n",
      "/tmp/11830.png\n",
      "/tmp/10065.png\n",
      "/tmp/55297.png\n",
      "/tmp/44151.png\n",
      "/tmp/11007.png\n",
      "/tmp/13008.png\n",
      "/tmp/55734.png\n",
      "/tmp/11614.png\n",
      "/tmp/10724.png\n",
      "/tmp/12787.png\n",
      "/tmp/12409.png\n",
      "/tmp/12941.png\n",
      "/tmp/11225.png\n",
      "/tmp/10217.png\n",
      "/tmp/10158.png\n",
      "/tmp/12327.png\n",
      "/tmp/11872.png\n",
      "/tmp/10436.png\n",
      "/tmp/12304.png\n",
      "/tmp/13306.png\n",
      "/tmp/10362.png\n",
      "/tmp/13083.png\n",
      "/tmp/10735.png\n",
      "/tmp/10334.png\n",
      "/tmp/10096.png\n",
      "/tmp/12493.png\n",
      "/tmp/13417.png\n",
      "/tmp/11012.png\n",
      "/tmp/10972.png\n",
      "/tmp/11597.png\n",
      "/tmp/13127.png\n",
      "/tmp/10326.png\n",
      "/tmp/66042.png\n",
      "/tmp/10385.png\n",
      "/tmp/66094.png\n",
      "/tmp/11254.png\n",
      "/tmp/10678.png\n",
      "/tmp/10245.png\n",
      "/tmp/55539.png\n",
      "/tmp/12699.png\n",
      "/tmp/55483.png\n",
      "/tmp/66183.png\n",
      "/tmp/77027.png\n",
      "/tmp/10329.png\n",
      "/tmp/66368.png\n",
      "/tmp/66050.png\n",
      "/tmp/10025.png\n",
      "/tmp/11583.png\n",
      "/tmp/10858.png\n",
      "/tmp/21012.png\n",
      "/tmp/11245.png\n",
      "/tmp/10317.png\n",
      "/tmp/10461.png\n",
      "/tmp/11219.png\n",
      "/tmp/11247.png\n",
      "/tmp/10212.png\n",
      "/tmp/11638.png\n",
      "/tmp/10692.png\n",
      "/tmp/10370.png\n",
      "/tmp/10693.png\n",
      "/tmp/10242.png\n",
      "/tmp/10324.png\n",
      "/tmp/55200.png\n",
      "/tmp/11137.png\n",
      "/tmp/21042.png\n",
      "/tmp/13118.png\n",
      "/tmp/12079.png\n",
      "/tmp/12765.png\n",
      "/tmp/10821.png\n",
      "/tmp/10226.png\n",
      "/tmp/11478.png\n",
      "/tmp/10657.png\n",
      "/tmp/10811.png\n",
      "/tmp/66361.png\n",
      "/tmp/11592.png\n",
      "/tmp/10367.png\n",
      "/tmp/10846.png\n",
      "/tmp/55793.png\n",
      "/tmp/55778.png\n",
      "/tmp/12296.png\n",
      "/tmp/10051.png\n",
      "/tmp/66239.png\n",
      "/tmp/10493.png\n",
      "/tmp/11540.png\n",
      "/tmp/10417.png\n",
      "/tmp/12771.png\n",
      "/tmp/12186.png\n",
      "/tmp/11127.png\n",
      "/tmp/12479.png\n",
      "/tmp/12772.png\n",
      "/tmp/11054.png\n",
      "/tmp/66264.png\n",
      "/tmp/11222.png\n",
      "/tmp/12331.png\n",
      "/tmp/11264.png\n",
      "/tmp/11092.png\n",
      "/tmp/10841.png\n",
      "/tmp/77130.png\n",
      "/tmp/11305.png\n",
      "/tmp/11768.png\n",
      "/tmp/12930.png\n",
      "/tmp/77175.png\n",
      "/tmp/10419.png\n",
      "/tmp/12893.png\n",
      "/tmp/77152.png\n",
      "/tmp/11213.png\n",
      "/tmp/10180.png\n",
      "/tmp/10040.png\n",
      "/tmp/10576.png\n",
      "/tmp/10015.png\n",
      "/tmp/66125.png\n",
      "/tmp/77094.png\n",
      "/tmp/10393.png\n",
      "/tmp/13367.png\n",
      "/tmp/77140.png\n",
      "/tmp/12947.png\n",
      "/tmp/66159.png\n",
      "/tmp/10894.png\n",
      "/tmp/10756.png\n",
      "/tmp/12140.png\n",
      "/tmp/10668.png\n",
      "/tmp/21039.png\n",
      "/tmp/10081.png\n",
      "/tmp/11047.png\n",
      "/tmp/11019.png\n",
      "/tmp/10504.png\n",
      "/tmp/10450.png\n",
      "/tmp/11196.png\n",
      "/tmp/55057.png\n",
      "/tmp/11045.png\n",
      "/tmp/12239.png\n",
      "/tmp/11474.png\n",
      "/tmp/55667.png\n",
      "/tmp/77117.png\n",
      "/tmp/10259.png\n",
      "/tmp/66089.png\n",
      "/tmp/11721.png\n",
      "/tmp/77096.png\n",
      "/tmp/11796.png\n",
      "/tmp/11850.png\n",
      "/tmp/11323.png\n",
      "/tmp/44094.png\n",
      "/tmp/77044.png\n",
      "/tmp/55854.png\n",
      "/tmp/11874.png\n",
      "/tmp/11941.png\n",
      "/tmp/11327.png\n",
      "/tmp/10166.png\n",
      "/tmp/11610.png\n",
      "/tmp/55636.png\n",
      "/tmp/10630.png\n",
      "/tmp/21056.png\n",
      "/tmp/10182.png\n",
      "/tmp/13214.png\n",
      "/tmp/10049.png\n",
      "/tmp/13235.png\n",
      "/tmp/10134.png\n",
      "/tmp/10741.png\n",
      "/tmp/10038.png\n",
      "/tmp/12399.png\n",
      "/tmp/66020.png\n",
      "/tmp/12425.png\n",
      "/tmp/66085.png\n",
      "/tmp/11711.png\n",
      "/tmp/66240.png\n",
      "/tmp/12269.png\n",
      "/tmp/10178.png\n",
      "/tmp/11416.png\n",
      "/tmp/10322.png\n",
      "/tmp/10744.png\n",
      "/tmp/13188.png\n",
      "/tmp/11975.png\n",
      "/tmp/44229.png\n",
      "/tmp/10156.png\n",
      "/tmp/12484.png\n",
      "/tmp/12244.png\n",
      "/tmp/10029.png\n",
      "/tmp/11383.png\n",
      "/tmp/11646.png\n",
      "/tmp/10013.png\n",
      "/tmp/10042.png\n",
      "/tmp/77263.png\n",
      "/tmp/11550.png\n",
      "/tmp/11552.png\n",
      "/tmp/10028.png\n",
      "/tmp/12015.png\n",
      "/tmp/12356.png\n",
      "/tmp/77068.png\n",
      "/tmp/10160.png\n",
      "/tmp/10696.png\n",
      "/tmp/10701.png\n",
      "/tmp/12122.png\n",
      "/tmp/10170.png\n",
      "/tmp/11798.png\n",
      "/tmp/13138.png\n",
      "/tmp/11747.png\n",
      "/tmp/44068.png\n",
      "/tmp/10725.png\n",
      "/tmp/10682.png\n",
      "/tmp/55538.png\n",
      "/tmp/10365.png\n",
      "/tmp/12308.png\n",
      "/tmp/10528.png\n",
      "/tmp/55351.png\n",
      "/tmp/66312.png\n",
      "/tmp/12511.png\n",
      "/tmp/77254.png\n",
      "/tmp/10944.png\n",
      "/tmp/77191.png\n",
      "/tmp/77056.png\n",
      "/tmp/10850.png\n",
      "/tmp/12874.png\n",
      "/tmp/66268.png\n",
      "/tmp/10265.png\n",
      "/tmp/10518.png\n",
      "/tmp/12125.png\n",
      "/tmp/10900.png\n",
      "/tmp/11882.png\n",
      "/tmp/10463.png\n",
      "/tmp/12715.png\n",
      "/tmp/10881.png\n",
      "/tmp/10426.png\n",
      "/tmp/77192.png\n",
      "/tmp/11407.png\n",
      "/tmp/10538.png\n",
      "/tmp/11048.png\n",
      "/tmp/10308.png\n",
      "/tmp/12138.png\n",
      "/tmp/11063.png\n",
      "/tmp/12133.png\n",
      "/tmp/11737.png\n",
      "/tmp/77047.png\n",
      "/tmp/55152.png\n",
      "/tmp/77076.png\n",
      "/tmp/11015.png\n",
      "/tmp/13236.png\n",
      "/tmp/11133.png\n",
      "/tmp/10282.png\n",
      "/tmp/55370.png\n",
      "/tmp/10034.png\n",
      "/tmp/12778.png\n",
      "/tmp/10551.png\n",
      "/tmp/10486.png\n",
      "/tmp/13049.png\n",
      "/tmp/66341.png\n",
      "/tmp/12767.png\n",
      "/tmp/10313.png\n",
      "/tmp/66162.png\n",
      "/tmp/12841.png\n",
      "/tmp/10036.png\n",
      "/tmp/66498.png\n",
      "/tmp/55216.png\n",
      "/tmp/12823.png\n",
      "/tmp/10024.png\n",
      "/tmp/11939.png\n",
      "/tmp/55355.png\n",
      "/tmp/10041.png\n",
      "/tmp/13105.png\n",
      "/tmp/12976.png\n",
      "/tmp/manifest.fingerprint\n",
      "/tmp/crl-set\n",
      "/tmp/manifest.json\n",
      "/tmp/libmozavutil.so\n",
      "/tmp/libmozsqlite3.so\n",
      "/tmp/libssl3.so\n",
      "/tmp/updater\n",
      "/tmp/platform.ini\n",
      "/tmp/update-settings.ini\n",
      "/tmp/libnspr4.so\n",
      "/tmp/libmozsandbox.so\n",
      "/tmp/libplds4.so\n",
      "/tmp/application.ini\n",
      "/tmp/libnssdbm3.so\n",
      "/tmp/omni.ja\n",
      "/tmp/firefox-bin\n",
      "/tmp/libsoftokn3.chk\n",
      "/tmp/run-mozilla.sh\n",
      "/tmp/libxul.so\n",
      "/tmp/crashreporter\n",
      "/tmp/libnssdbm3.chk\n",
      "/tmp/plugin-container\n",
      "/tmp/libfreeblpriv3.so\n",
      "/tmp/libnssutil3.so\n",
      "/tmp/libplc4.so\n",
      "/tmp/crashreporter.ini\n",
      "/tmp/minidump-analyzer\n",
      "/tmp/precomplete\n",
      "/tmp/firefox\n",
      "/tmp/libmozgtk.so\n",
      "/tmp/icudt58l.dat\n",
      "/tmp/removed-files\n",
      "/tmp/libfreeblpriv3.chk\n",
      "/tmp/chrome.manifest\n",
      "/tmp/dependentlibs.list\n",
      "/tmp/Throbber-small.gif\n",
      "/tmp/libnss3.so\n",
      "/tmp/libnssckbi.so\n",
      "/tmp/libmozavcodec.so\n",
      "/tmp/libsoftokn3.so\n",
      "/tmp/updater.ini\n",
      "/tmp/libsmime3.so\n",
      "/tmp/liblgpllibs.so\n",
      "/tmp/libclearkey.so\n",
      "/tmp/clearkey.info\n",
      "/tmp/fr.aff\n",
      "/tmp/fr.dic\n",
      "/tmp/blocklist.xml\n",
      "/tmp/crashreporter-override.ini\n",
      "/tmp/omni.ja\n",
      "/tmp/chrome.manifest\n",
      "/tmp/default32.png\n",
      "/tmp/default48.png\n",
      "/tmp/default16.png\n",
      "/tmp/aushelper@mozilla.org.xpi\n",
      "/tmp/webcompat@mozilla.org.xpi\n",
      "/tmp/e10srollout@mozilla.org.xpi\n",
      "/tmp/firefox@getpocket.com.xpi\n",
      "/tmp/mozicon128.png\n",
      "/tmp/{972ce4c6-7e08-4474-a285-3208198ce6fd}.xpi\n",
      "/tmp/channel-prefs.js\n",
      "/tmp/updater.png\n",
      "/tmp/EmojiOneMozilla.ttf\n",
      "/tmp/libmozgtk.so\n",
      "/tmp/manifest.fingerprint\n",
      "/tmp/crl-set\n",
      "/tmp/manifest.json\n",
      "/tmp/manifest.fingerprint\n",
      "/tmp/crl-set\n",
      "/tmp/manifest.json\n",
      "/tmp/manifest.fingerprint\n",
      "/tmp/crl-set\n",
      "/tmp/manifest.json\n",
      "/tmp/manifest.fingerprint\n",
      "/tmp/crl-set\n",
      "/tmp/manifest.json\n",
      "/tmp/database.sqlite\n",
      "/tmp/database_fso.html\n",
      "/tmp/manifest.fingerprint\n",
      "/tmp/crl-set\n",
      "/tmp/manifest.json\n",
      "/tmp/manifest.fingerprint\n",
      "/tmp/crl-set\n",
      "/tmp/manifest.json\n",
      "/tmp/manifest.fingerprint\n",
      "/tmp/crl-set\n",
      "/tmp/manifest.json\n",
      "/tmp/FIDMAG_pruebas.sqlite\n",
      "/tmp/MINERVA.sqlite\n",
      "/tmp/FIDMAG_pruebas3.sqlite\n",
      "/tmp/manifest.fingerprint\n",
      "/tmp/crl-set\n",
      "/tmp/manifest.json\n",
      "/tmp/xauth-1000-_0\n",
      "/tmp/SingletonSocket\n",
      "/tmp/SingletonCookie\n",
      "/tmp/database.sqlite\n",
      "/tmp/database_fso.html\n",
      "/tmp/manifest.fingerprint\n",
      "/tmp/crl-set\n",
      "/tmp/manifest.json\n",
      "/tmp/manifest.fingerprint\n",
      "/tmp/crl-set\n",
      "/tmp/manifest.json\n",
      "/tmp/manifest.fingerprint\n",
      "/tmp/crl-set\n",
      "/tmp/manifest.json\n",
      "/tmp/1765\n",
      "/tmp/manifest.fingerprint\n",
      "/tmp/crl-set\n",
      "/tmp/manifest.json\n",
      "/tmp/manifest.fingerprint\n",
      "/tmp/crl-set\n",
      "/tmp/manifest.json\n",
      "/tmp/44229_stats.csv\n",
      "/tmp/10367_stats.csv\n",
      "/tmp/55636_stats.csv\n",
      "/tmp/21073_stats.csv\n",
      "/tmp/12711_stats.csv\n",
      "/tmp/11747_stats.csv\n",
      "/tmp/44491_stats.csv\n",
      "/tmp/11133_stats.csv\n",
      "/tmp/10313_stats.csv\n",
      "/tmp/66264_stats.csv\n",
      "/tmp/11114_stats.csv\n",
      "/tmp/10166_stats.csv\n",
      "/tmp/10144_stats.csv\n",
      "/tmp/55057_stats.csv\n",
      "/tmp/12893_stats.csv\n",
      "/tmp/21042_stats.csv\n",
      "/tmp/11387_stats.csv\n",
      "/tmp/12483_stats.csv\n",
      "/tmp/44141_stats.csv\n",
      "/tmp/12637_stats.csv\n",
      "/tmp/77191_stats.csv\n",
      "/tmp/12172_stats.csv\n",
      "/tmp/10530_stats.csv\n",
      "/tmp/10725_stats.csv\n",
      "/tmp/11254_stats.csv\n",
      "/tmp/77175_stats.csv\n",
      "/tmp/13138_stats.csv\n",
      "/tmp/13090_stats.csv\n",
      "/tmp/77179_stats.csv\n",
      "/tmp/11461_stats.csv\n",
      "/tmp/11414_stats.csv\n",
      "/tmp/12271_stats.csv\n",
      "/tmp/66085_stats.csv\n",
      "/tmp/10025_stats.csv\n",
      "/tmp/21002_stats.csv\n",
      "/tmp/10150_stats.csv\n",
      "/tmp/10259_stats.csv\n",
      "/tmp/44043_stats.csv\n",
      "/tmp/13236_stats.csv\n",
      "/tmp/77151_stats.csv\n",
      "/tmp/10365_stats.csv\n",
      "/tmp/10744_stats.csv\n",
      "/tmp/10263_stats.csv\n",
      "/tmp/10178_stats.csv\n",
      "/tmp/10988_stats.csv\n",
      "/tmp/10051_stats.csv\n",
      "/tmp/10972_stats.csv\n",
      "/tmp/66094_stats.csv\n",
      "/tmp/10090_stats.csv\n",
      "/tmp/55854_stats.csv\n",
      "/tmp/66020_stats.csv\n",
      "/tmp/55539_stats.csv\n",
      "/tmp/10162_stats.csv\n",
      "/tmp/10028_stats.csv\n",
      "/tmp/55734_stats.csv\n",
      "/tmp/10324_stats.csv\n",
      "/tmp/12941_stats.csv\n",
      "/tmp/11630_stats.csv\n",
      "/tmp/11975_stats.csv\n",
      "/tmp/11798_stats.csv\n",
      "/tmp/55488_stats.csv\n",
      "/tmp/10577_stats.csv\n",
      "/tmp/10226_stats.csv\n",
      "/tmp/10354_stats.csv\n",
      "/tmp/10038_stats.csv\n",
      "/tmp/21012_stats.csv\n",
      "/tmp/10317_stats.csv\n",
      "/tmp/11610_stats.csv\n",
      "/tmp/10634_stats.csv\n",
      "/tmp/21084_stats.csv\n",
      "/tmp/12772_stats.csv\n",
      "/tmp/11561_stats.csv\n",
      "/tmp/10944_stats.csv\n",
      "/tmp/10846_stats.csv\n",
      "/tmp/66240_stats.csv\n",
      "/tmp/66312_stats.csv\n",
      "/tmp/12067_stats.csv\n",
      "/tmp/10678_stats.csv\n",
      "/tmp/12930_stats.csv\n",
      "/tmp/10217_stats.csv\n",
      "/tmp/77192_stats.csv\n",
      "/tmp/11656_stats.csv\n",
      "/tmp/11620_stats.csv\n",
      "/tmp/10035_stats.csv\n",
      "/tmp/10213_stats.csv\n",
      "/tmp/44723_stats.csv\n",
      "/tmp/12624_stats.csv\n",
      "/tmp/66361_stats.csv\n",
      "/tmp/11351_stats.csv\n",
      "/tmp/11156_stats.csv\n",
      "/tmp/12079_stats.csv\n",
      "/tmp/13242_stats.csv\n",
      "/tmp/12269_stats.csv\n",
      "/tmp/10160_stats.csv\n",
      "/tmp/10894_stats.csv\n",
      "/tmp/12699_stats.csv\n",
      "/tmp/10056_stats.csv\n",
      "/tmp/11614_stats.csv\n",
      "/tmp/10613_stats.csv\n",
      "/tmp/12778_stats.csv\n",
      "/tmp/12327_stats.csv\n",
      "/tmp/11191_stats.csv\n",
      "/tmp/21051_stats.csv\n",
      "/tmp/66368_stats.csv\n",
      "/tmp/10026_stats.csv\n",
      "/tmp/77241_stats.csv\n",
      "/tmp/10645_stats.csv\n",
      "/tmp/12858_stats.csv\n",
      "/tmp/13054_stats.csv\n",
      "/tmp/10265_stats.csv\n",
      "/tmp/11638_stats.csv\n",
      "/tmp/10518_stats.csv\n",
      "/tmp/77040_stats.csv\n",
      "/tmp/12920_stats.csv\n",
      "/tmp/11858_stats.csv\n",
      "/tmp/12810_stats.csv\n",
      "/tmp/10515_stats.csv\n",
      "/tmp/10703_stats.csv\n",
      "/tmp/21092_stats.csv\n",
      "/tmp/77096_stats.csv\n",
      "/tmp/10016_stats.csv\n",
      "/tmp/10253_stats.csv\n",
      "/tmp/12122_stats.csv\n",
      "/tmp/11092_stats.csv\n",
      "/tmp/55152_stats.csv\n",
      "/tmp/10013_stats.csv\n",
      "/tmp/12186_stats.csv\n",
      "/tmp/10668_stats.csv\n",
      "/tmp/13127_stats.csv\n",
      "/tmp/10235_stats.csv\n",
      "/tmp/13214_stats.csv\n",
      "/tmp/11012_stats.csv\n",
      "/tmp/11038_stats.csv\n",
      "/tmp/66039_stats.csv\n",
      "/tmp/11592_stats.csv\n",
      "/tmp/11646_stats.csv\n",
      "/tmp/66128_stats.csv\n",
      "/tmp/77093_stats.csv\n",
      "/tmp/10850_stats.csv\n",
      "/tmp/12724_stats.csv\n",
      "/tmp/10841_stats.csv\n",
      "/tmp/10901_stats.csv\n",
      "/tmp/11225_stats.csv\n",
      "/tmp/11552_stats.csv\n",
      "/tmp/44147_stats.csv\n",
      "/tmp/13312_stats.csv\n",
      "/tmp/66019_stats.csv\n",
      "/tmp/10361_stats.csv\n",
      "/tmp/55529_stats.csv\n",
      "/tmp/13417_stats.csv\n",
      "/tmp/12963_stats.csv\n",
      "/tmp/55793_stats.csv\n",
      "/tmp/21056_stats.csv\n",
      "/tmp/12252_stats.csv\n",
      "/tmp/13235_stats.csv\n",
      "/tmp/66141_stats.csv\n",
      "/tmp/13306_stats.csv\n",
      "/tmp/10870_stats.csv\n",
      "/tmp/12125_stats.csv\n",
      "/tmp/10750_stats.csv\n",
      "/tmp/55708_stats.csv\n",
      "/tmp/12783_stats.csv\n",
      "/tmp/66239_stats.csv\n",
      "/tmp/13215_stats.csv\n",
      "/tmp/10942_stats.csv\n",
      "/tmp/12331_stats.csv\n",
      "/tmp/12121_stats.csv\n",
      "/tmp/77109_stats.csv\n",
      "/tmp/55353_stats.csv\n",
      "/tmp/12324_stats.csv\n",
      "/tmp/13238_stats.csv\n",
      "/tmp/10426_stats.csv\n",
      "/tmp/77024_stats.csv\n",
      "/tmp/77076_stats.csv\n",
      "/tmp/55351_stats.csv\n",
      "/tmp/55483_stats.csv\n",
      "/tmp/77152_stats.csv\n",
      "/tmp/11305_stats.csv\n",
      "/tmp/10325_stats.csv\n",
      "/tmp/13309_stats.csv\n",
      "/tmp/12715_stats.csv\n",
      "/tmp/11407_stats.csv\n",
      "/tmp/12425_stats.csv\n",
      "/tmp/13118_stats.csv\n",
      "/tmp/10822_stats.csv\n",
      "/tmp/12138_stats.csv\n",
      "/tmp/10737_stats.csv\n",
      "/tmp/11292_stats.csv\n",
      "/tmp/13268_stats.csv\n",
      "/tmp/44046_stats.csv\n",
      "/tmp/66270_stats.csv\n",
      "/tmp/66267_stats.csv\n",
      "/tmp/10493_stats.csv\n",
      "/tmp/11979_stats.csv\n",
      "/tmp/12296_stats.csv\n",
      "/tmp/10657_stats.csv\n",
      "/tmp/11144_stats.csv\n",
      "/tmp/77056_stats.csv\n",
      "/tmp/12279_stats.csv\n",
      "/tmp/12995_stats.csv\n",
      "/tmp/11180_stats.csv\n",
      "/tmp/10396_stats.csv\n",
      "/tmp/66169_stats.csv\n",
      "/tmp/10170_stats.csv\n",
      "/tmp/12823_stats.csv\n",
      "/tmp/11201_stats.csv\n",
      "/tmp/55778_stats.csv\n",
      "/tmp/66125_stats.csv\n",
      "/tmp/77263_stats.csv\n",
      "/tmp/10701_stats.csv\n",
      "/tmp/11939_stats.csv\n",
      "/tmp/55216_stats.csv\n",
      "/tmp/11941_stats.csv\n",
      "/tmp/10334_stats.csv\n",
      "/tmp/12704_stats.csv\n",
      "/tmp/12032_stats.csv\n",
      "/tmp/12659_stats.csv\n",
      "/tmp/10385_stats.csv\n",
      "/tmp/11360_stats.csv\n",
      "/tmp/11686_stats.csv\n",
      "/tmp/12874_stats.csv\n",
      "/tmp/13293_stats.csv\n",
      "/tmp/13070_stats.csv\n",
      "/tmp/10106_stats.csv\n",
      "/tmp/10536_stats.csv\n",
      "/tmp/13105_stats.csv\n",
      "/tmp/44119_stats.csv\n",
      "/tmp/11583_stats.csv\n",
      "/tmp/10370_stats.csv\n",
      "/tmp/11597_stats.csv\n",
      "/tmp/11048_stats.csv\n",
      "/tmp/12245_stats.csv\n",
      "/tmp/10504_stats.csv\n",
      "/tmp/10416_stats.csv\n",
      "/tmp/66341_stats.csv\n",
      "/tmp/11426_stats.csv\n",
      "/tmp/11721_stats.csv\n",
      "/tmp/10322_stats.csv\n",
      "/tmp/13043_stats.csv\n",
      "/tmp/10858_stats.csv\n",
      "/tmp/10049_stats.csv\n",
      "/tmp/13083_stats.csv\n",
      "/tmp/10417_stats.csv\n",
      "/tmp/44068_stats.csv\n",
      "/tmp/12174_stats.csv\n",
      "/tmp/10522_stats.csv\n",
      "/tmp/12399_stats.csv\n",
      "/tmp/66164_stats.csv\n",
      "/tmp/10794_stats.csv\n",
      "/tmp/10180_stats.csv\n",
      "/tmp/10461_stats.csv\n",
      "/tmp/11803_stats.csv\n",
      "/tmp/10330_stats.csv\n",
      "/tmp/12861_stats.csv\n",
      "/tmp/55630_stats.csv\n",
      "/tmp/10697_stats.csv\n",
      "/tmp/66293_stats.csv\n",
      "/tmp/11196_stats.csv\n",
      "/tmp/44094_stats.csv\n",
      "/tmp/77117_stats.csv\n",
      "/tmp/11137_stats.csv\n",
      "/tmp/10486_stats.csv\n",
      "/tmp/10346_stats.csv\n",
      "/tmp/66492_stats.csv\n",
      "/tmp/66498_stats.csv\n",
      "/tmp/12304_stats.csv\n",
      "/tmp/10563_stats.csv\n",
      "/tmp/10245_stats.csv\n",
      "/tmp/66048_stats.csv\n",
      "/tmp/11687_stats.csv\n",
      "/tmp/10735_stats.csv\n",
      "/tmp/55200_stats.csv\n",
      "/tmp/10081_stats.csv\n",
      "/tmp/12771_stats.csv\n",
      "/tmp/11127_stats.csv\n",
      "/tmp/11458_stats.csv\n",
      "/tmp/11436_stats.csv\n",
      "/tmp/66030_stats.csv\n",
      "/tmp/10251_stats.csv\n",
      "/tmp/12479_stats.csv\n",
      "/tmp/66133_stats.csv\n",
      "/tmp/10550_stats.csv\n",
      "/tmp/10821_stats.csv\n",
      "/tmp/10065_stats.csv\n",
      "/tmp/13244_stats.csv\n",
      "/tmp/11247_stats.csv\n",
      "/tmp/11711_stats.csv\n",
      "/tmp/10298_stats.csv\n",
      "/tmp/10096_stats.csv\n",
      "/tmp/12140_stats.csv\n",
      "/tmp/11054_stats.csv\n",
      "/tmp/11943_stats.csv\n",
      "/tmp/12417_stats.csv\n",
      "/tmp/10319_stats.csv\n",
      "/tmp/11047_stats.csv\n",
      "/tmp/55297_stats.csv\n",
      "/tmp/10541_stats.csv\n",
      "/tmp/12056_stats.csv\n",
      "/tmp/10693_stats.csv\n",
      "/tmp/77068_stats.csv\n",
      "/tmp/13035_stats.csv\n",
      "/tmp/77094_stats.csv\n",
      "/tmp/10362_stats.csv\n",
      "/tmp/10242_stats.csv\n",
      "/tmp/55667_stats.csv\n",
      "/tmp/11045_stats.csv\n",
      "/tmp/10071_stats.csv\n",
      "/tmp/13151_stats.csv\n",
      "/tmp/13008_stats.csv\n",
      "/tmp/66257_stats.csv\n",
      "/tmp/12975_stats.csv\n",
      "/tmp/44660_stats.csv\n",
      "/tmp/10787_stats.csv\n",
      "/tmp/10682_stats.csv\n",
      "/tmp/12730_stats.csv\n",
      "/tmp/44057_stats.csv\n",
      "/tmp/12904_stats.csv\n",
      "/tmp/10024_stats.csv\n",
      "/tmp/10212_stats.csv\n",
      "/tmp/13345_stats.csv\n",
      "/tmp/77034_stats.csv\n",
      "/tmp/10419_stats.csv\n",
      "/tmp/12015_stats.csv\n",
      "/tmp/10118_stats.csv\n",
      "/tmp/77027_stats.csv\n",
      "/tmp/11415_stats.csv\n",
      "/tmp/55469_stats.csv\n",
      "/tmp/44632_stats.csv\n",
      "/tmp/13188_stats.csv\n",
      "/tmp/66268_stats.csv\n",
      "/tmp/77217_stats.csv\n",
      "/tmp/10248_stats.csv\n",
      "/tmp/21130_stats.csv\n",
      "/tmp/10724_stats.csv\n",
      "/tmp/11830_stats.csv\n",
      "/tmp/12785_stats.csv\n",
      "/tmp/77140_stats.csv\n",
      "/tmp/10453_stats.csv\n",
      "/tmp/66017_stats.csv\n",
      "/tmp/13217_stats.csv\n",
      "/tmp/11679_stats.csv\n",
      "/tmp/10538_stats.csv\n",
      "/tmp/66089_stats.csv\n",
      "/tmp/12548_stats.csv\n",
      "/tmp/77188_stats.csv\n",
      "/tmp/21039_stats.csv\n",
      "/tmp/12244_stats.csv\n",
      "/tmp/10134_stats.csv\n",
      "/tmp/10029_stats.csv\n",
      "/tmp/10778_stats.csv\n",
      "/tmp/44091_stats.csv\n",
      "/tmp/11252_stats.csv\n",
      "/tmp/11019_stats.csv\n",
      "/tmp/44151_stats.csv\n",
      "/tmp/13049_stats.csv\n",
      "/tmp/11213_stats.csv\n",
      "/tmp/10070_stats.csv\n",
      "/tmp/10528_stats.csv\n",
      "/tmp/11184_stats.csv\n",
      "/tmp/10496_stats.csv\n",
      "/tmp/10630_stats.csv\n",
      "/tmp/12516_stats.csv\n",
      "/tmp/12323_stats.csv\n",
      "/tmp/11416_stats.csv\n",
      "/tmp/12493_stats.csv\n",
      "/tmp/10393_stats.csv\n",
      "/tmp/77252_stats.csv\n",
      "/tmp/11768_stats.csv\n",
      "/tmp/13367_stats.csv\n",
      "/tmp/11139_stats.csv\n",
      "/tmp/10052_stats.csv\n",
      "/tmp/11152_stats.csv\n",
      "/tmp/10329_stats.csv\n",
      "/tmp/10855_stats.csv\n",
      "/tmp/12239_stats.csv\n",
      "/tmp/77044_stats.csv\n",
      "/tmp/55166_stats.csv\n",
      "/tmp/10042_stats.csv\n",
      "/tmp/13075_stats.csv\n",
      "/tmp/10946_stats.csv\n",
      "/tmp/11222_stats.csv\n",
      "/tmp/10053_stats.csv\n",
      "/tmp/55323_stats.csv\n",
      "/tmp/11323_stats.csv\n",
      "/tmp/66131_stats.csv\n",
      "/tmp/10436_stats.csv\n",
      "/tmp/11514_stats.csv\n",
      "/tmp/11593_stats.csv\n",
      "/tmp/12409_stats.csv\n",
      "/tmp/66335_stats.csv\n",
      "/tmp/10881_stats.csv\n",
      "/tmp/10811_stats.csv\n",
      "/tmp/11383_stats.csv\n",
      "/tmp/10551_stats.csv\n",
      "/tmp/10015_stats.csv\n",
      "/tmp/44004_stats.csv\n",
      "/tmp/10593_stats.csv\n",
      "/tmp/10756_stats.csv\n",
      "/tmp/12767_stats.csv\n",
      "/tmp/10151_stats.csv\n",
      "/tmp/10338_stats.csv\n",
      "/tmp/11262_stats.csv\n",
      "/tmp/77130_stats.csv\n",
      "/tmp/13061_stats.csv\n",
      "/tmp/12379_stats.csv\n",
      "/tmp/13144_stats.csv\n",
      "/tmp/11327_stats.csv\n",
      "/tmp/12947_stats.csv\n",
      "/tmp/11550_stats.csv\n",
      "/tmp/21011_stats.csv\n",
      "/tmp/10741_stats.csv\n",
      "/tmp/10036_stats.csv\n",
      "/tmp/10900_stats.csv\n",
      "/tmp/11245_stats.csv\n",
      "/tmp/10282_stats.csv\n",
      "/tmp/10200_stats.csv\n",
      "/tmp/10692_stats.csv\n",
      "/tmp/66162_stats.csv\n",
      "/tmp/11030_stats.csv\n",
      "/tmp/11195_stats.csv\n",
      "/tmp/12841_stats.csv\n",
      "/tmp/11355_stats.csv\n",
      "/tmp/10809_stats.csv\n",
      "/tmp/12970_stats.csv\n",
      "/tmp/12976_stats.csv\n",
      "/tmp/44205_stats.csv\n",
      "/tmp/12787_stats.csv\n",
      "/tmp/66309_stats.csv\n",
      "/tmp/10023_stats.csv\n",
      "/tmp/10696_stats.csv\n",
      "/tmp/13059_stats.csv\n",
      "/tmp/77195_stats.csv\n",
      "/tmp/12636_stats.csv\n",
      "/tmp/77047_stats.csv\n",
      "/tmp/11937_stats.csv\n",
      "/tmp/11474_stats.csv\n",
      "/tmp/12582_stats.csv\n",
      "/tmp/10041_stats.csv\n",
      "/tmp/10418_stats.csv\n",
      "/tmp/12391_stats.csv\n",
      "/tmp/11015_stats.csv\n",
      "/tmp/55388_stats.csv\n",
      "/tmp/10108_stats.csv\n",
      "/tmp/11737_stats.csv\n",
      "/tmp/10182_stats.csv\n",
      "/tmp/10326_stats.csv\n",
      "/tmp/66026_stats.csv\n",
      "/tmp/12133_stats.csv\n",
      "/tmp/10156_stats.csv\n",
      "/tmp/11874_stats.csv\n",
      "/tmp/55538_stats.csv\n",
      "/tmp/10225_stats.csv\n",
      "/tmp/12511_stats.csv\n",
      "/tmp/12878_stats.csv\n",
      "/tmp/66159_stats.csv\n",
      "/tmp/55370_stats.csv\n",
      "/tmp/11796_stats.csv\n",
      "/tmp/12308_stats.csv\n",
      "/tmp/11264_stats.csv\n",
      "/tmp/11872_stats.csv\n",
      "/tmp/11063_stats.csv\n",
      "/tmp/12765_stats.csv\n",
      "/tmp/10463_stats.csv\n",
      "/tmp/11641_stats.csv\n",
      "/tmp/11540_stats.csv\n",
      "/tmp/12484_stats.csv\n",
      "/tmp/11658_stats.csv\n",
      "/tmp/11007_stats.csv\n",
      "/tmp/11829_stats.csv\n",
      "/tmp/10117_stats.csv\n",
      "/tmp/66183_stats.csv\n",
      "/tmp/55355_stats.csv\n",
      "/tmp/10308_stats.csv\n",
      "/tmp/77254_stats.csv\n",
      "/tmp/12812_stats.csv\n",
      "/tmp/10102_stats.csv\n",
      "/tmp/10450_stats.csv\n",
      "/tmp/10433_stats.csv\n",
      "/tmp/11590_stats.csv\n",
      "/tmp/10158_stats.csv\n",
      "/tmp/10397_stats.csv\n",
      "/tmp/77037_stats.csv\n",
      "/tmp/12502_stats.csv\n",
      "/tmp/10040_stats.csv\n",
      "/tmp/11882_stats.csv\n",
      "/tmp/10034_stats.csv\n",
      "/tmp/10482_stats.csv\n",
      "/tmp/66042_stats.csv\n",
      "/tmp/11850_stats.csv\n",
      "/tmp/13169_stats.csv\n",
      "/tmp/12356_stats.csv\n",
      "/tmp/10576_stats.csv\n",
      "/tmp/10099_stats.csv\n",
      "/tmp/11291_stats.csv\n",
      "/tmp/11042_stats.csv\n",
      "/tmp/11478_stats.csv\n",
      "/tmp/11136_stats.csv\n",
      "/tmp/10199_stats.csv\n",
      "/tmp/11219_stats.csv\n",
      "/tmp/66050_stats.csv\n",
      "/tmp/11902_stats.csv\n",
      "/tmp/12445_stats.csv\n",
      "/tmp/11691_stats.csv\n",
      "/tmp/13322_stats.csv\n",
      "/tmp/13063_stats.csv\n",
      "/tmp/manifest.fingerprint\n",
      "/tmp/crl-set\n",
      "/tmp/manifest.json\n",
      "/tmp/manifest.fingerprint\n",
      "/tmp/crl-set\n",
      "/tmp/manifest.json\n",
      "/tmp/manifest.fingerprint\n",
      "/tmp/crl-set\n",
      "/tmp/manifest.json\n",
      "/tmp/manifest.fingerprint\n",
      "/tmp/crl-set\n",
      "/tmp/manifest.json\n",
      "/tmp/manifest.fingerprint\n",
      "/tmp/crl-set\n",
      "/tmp/manifest.json\n",
      "/tmp/manifest.fingerprint\n",
      "/tmp/crl-set\n",
      "/tmp/manifest.json\n"
     ]
    }
   ],
   "source": [
    "for dirpath, dirnames, filenames in os.walk(os.curdir): \n",
    "    for fp in filenames:\n",
    "        print os.path.abspath(fp) "
   ]
  },
  {
   "cell_type": "code",
   "execution_count": 29,
   "metadata": {
    "collapsed": true
   },
   "outputs": [],
   "source": [
    "import shutil\n",
    "shutil.move\n",
    "shutil.rmtree\n",
    "shutil.copy"
   ]
  },
  {
   "cell_type": "code",
   "execution_count": 93,
   "metadata": {
    "collapsed": false
   },
   "outputs": [
    {
     "name": "stdout",
     "output_type": "stream",
     "text": [
      "['populations.txt']\n"
     ]
    }
   ],
   "source": [
    "import glob\n",
    "txtfiles = glob.glob('*.txt')\n",
    "print txtfiles"
   ]
  },
  {
   "cell_type": "markdown",
   "metadata": {},
   "source": [
    "# Numpy"
   ]
  },
  {
   "cell_type": "code",
   "execution_count": 56,
   "metadata": {
    "collapsed": false
   },
   "outputs": [
    {
     "name": "stdout",
     "output_type": "stream",
     "text": [
      "cos(0) = 1.0\n",
      "log(1) = 0.0\n",
      "exp(0) = 1.0\n",
      "1\n",
      "(4,)\n",
      "1.5\n",
      "1.11803398875\n",
      "2\n",
      "(2, 3)\n",
      "6\n",
      "[ 3 12]\n",
      "[[0 3]\n",
      " [1 4]\n",
      " [2 5]]\n"
     ]
    }
   ],
   "source": [
    "import numpy as np\n",
    "c = np.cos(0)\n",
    "print 'cos(0) = %s'%c\n",
    "d = np.log(1)\n",
    "print 'log(1) = %s'%d\n",
    "e = np.exp(0)\n",
    "print 'exp(0) = %s'%e\n",
    "\n",
    "a = np.array([0, 1, 2, 3]) \n",
    "print a.ndim\n",
    "print a.shape\n",
    "print a.mean()\n",
    "print a.std()\n",
    "b = np.array([[0, 1, 2], [3, 4, 5]])\n",
    "print b.ndim\n",
    "print b.shape\n",
    "print np.sum(a)\n",
    "print np.sum(b, axis=1)\n",
    "print b.T"
   ]
  },
  {
   "cell_type": "code",
   "execution_count": 38,
   "metadata": {
    "collapsed": false
   },
   "outputs": [
    {
     "data": {
      "text/plain": [
       "array([0, 1, 2, 3, 4, 5, 6, 7, 8, 9])"
      ]
     },
     "execution_count": 38,
     "metadata": {},
     "output_type": "execute_result"
    }
   ],
   "source": [
    "a = np.arange(10)\n",
    "a"
   ]
  },
  {
   "cell_type": "code",
   "execution_count": 39,
   "metadata": {
    "collapsed": false
   },
   "outputs": [
    {
     "data": {
      "text/plain": [
       "array([[0, 1, 2],\n",
       "       [3, 4, 5]])"
      ]
     },
     "execution_count": 39,
     "metadata": {},
     "output_type": "execute_result"
    }
   ],
   "source": [
    "b = np.array([[0, 1, 2], [3, 4, 5]])\n",
    "b"
   ]
  },
  {
   "cell_type": "code",
   "execution_count": 45,
   "metadata": {
    "collapsed": false
   },
   "outputs": [
    {
     "data": {
      "text/plain": [
       "array([ 0. ,  0.2,  0.4,  0.6,  0.8,  1. ])"
      ]
     },
     "execution_count": 45,
     "metadata": {},
     "output_type": "execute_result"
    }
   ],
   "source": [
    "c = np.linspace(0, 1, 6)\n",
    "c"
   ]
  },
  {
   "cell_type": "code",
   "execution_count": 40,
   "metadata": {
    "collapsed": false
   },
   "outputs": [
    {
     "data": {
      "text/plain": [
       "array([[ 1.,  1.,  1.],\n",
       "       [ 1.,  1.,  1.],\n",
       "       [ 1.,  1.,  1.]])"
      ]
     },
     "execution_count": 40,
     "metadata": {},
     "output_type": "execute_result"
    }
   ],
   "source": [
    "a = np.ones((3, 3))\n",
    "a"
   ]
  },
  {
   "cell_type": "code",
   "execution_count": 41,
   "metadata": {
    "collapsed": false
   },
   "outputs": [
    {
     "data": {
      "text/plain": [
       "array([[ 0.,  0.],\n",
       "       [ 0.,  0.]])"
      ]
     },
     "execution_count": 41,
     "metadata": {},
     "output_type": "execute_result"
    }
   ],
   "source": [
    "b = np.zeros((2, 2))\n",
    "b"
   ]
  },
  {
   "cell_type": "code",
   "execution_count": 43,
   "metadata": {
    "collapsed": false
   },
   "outputs": [
    {
     "data": {
      "text/plain": [
       "array([[ 1.,  0.,  0.],\n",
       "       [ 0.,  1.,  0.],\n",
       "       [ 0.,  0.,  1.]])"
      ]
     },
     "execution_count": 43,
     "metadata": {},
     "output_type": "execute_result"
    }
   ],
   "source": [
    "c = np.eye(3)\n",
    "c"
   ]
  },
  {
   "cell_type": "markdown",
   "metadata": {},
   "source": [
    "## Visualization"
   ]
  },
  {
   "cell_type": "code",
   "execution_count": 154,
   "metadata": {
    "collapsed": false
   },
   "outputs": [
    {
     "data": {
      "image/png": "[encoded data removed]",
      "text/plain": [
       "<matplotlib.figure.Figure at 0x7f61e45367d0>"
      ]
     },
     "metadata": {},
     "output_type": "display_data"
    }
   ],
   "source": [
    "%matplotlib inline\n",
    "import matplotlib.pyplot as plt\n",
    "x = np.linspace(0,10,100)\n",
    "y = np.cos(x)\n",
    "plt.plot(x, y)\n",
    "plt.show()"
   ]
  },
  {
   "cell_type": "code",
   "execution_count": 49,
   "metadata": {
    "collapsed": false
   },
   "outputs": [
    {
     "data": {
      "image/png": "[encoded data removed]",
      "text/plain": [
       "<matplotlib.figure.Figure at 0x7f61f0e0df10>"
      ]
     },
     "metadata": {},
     "output_type": "display_data"
    }
   ],
   "source": [
    "plt.plot(x, y, 'o')\n",
    "plt.show()"
   ]
  },
  {
   "cell_type": "code",
   "execution_count": 155,
   "metadata": {
    "collapsed": false
   },
   "outputs": [
    {
     "data": {
      "text/plain": [
       "([array([  1.,  11.,  11.,  11.,  11.,  11.,  11.,  11.,  11.,  11.]),\n",
       "  array([ 56.,  44.,   0.,   0.,   0.,   0.,   0.,   0.,   0.,   0.])],\n",
       " array([ -0.99994717,   0.10004755,   1.20004227,   2.30003698,\n",
       "          3.4000317 ,   4.50002642,   5.60002113,   6.70001585,\n",
       "          7.80001057,   8.90000528,  10.        ]),\n",
       " <a list of 2 Lists of Patches objects>)"
      ]
     },
     "execution_count": 155,
     "metadata": {},
     "output_type": "execute_result"
    },
    {
     "data": {
      "image/png": "[encoded data removed]",
      "text/plain": [
       "<matplotlib.figure.Figure at 0x7f61e48eec50>"
      ]
     },
     "metadata": {},
     "output_type": "display_data"
    }
   ],
   "source": [
    "plt.hist(zip([x,y]))"
   ]
  },
  {
   "cell_type": "code",
   "execution_count": 134,
   "metadata": {
    "collapsed": false
   },
   "outputs": [
    {
     "data": {
      "image/png": "[encoded data removed]",
      "text/plain": [
       "<matplotlib.figure.Figure at 0x7f61e46a7850>"
      ]
     },
     "metadata": {},
     "output_type": "display_data"
    }
   ],
   "source": [
    "x = np.random.rand(30,1)\n",
    "y = np.random.rand(30,1)\n",
    "plt.scatter(x,y,marker='o',c='r')\n",
    "plt.show()"
   ]
  },
  {
   "cell_type": "code",
   "execution_count": 50,
   "metadata": {
    "collapsed": false
   },
   "outputs": [
    {
     "data": {
      "text/plain": [
       "<matplotlib.colorbar.Colorbar at 0x7f61ee84af50>"
      ]
     },
     "execution_count": 50,
     "metadata": {},
     "output_type": "execute_result"
    },
    {
     "data": {
      "image/png": "[encoded data removed]",
      "text/plain": [
       "<matplotlib.figure.Figure at 0x7f61ee994290>"
      ]
     },
     "metadata": {},
     "output_type": "display_data"
    }
   ],
   "source": [
    "image = np.random.rand(30, 30)\n",
    "plt.imshow(image, cmap=plt.cm.hot) \n",
    "plt.colorbar()"
   ]
  },
  {
   "cell_type": "markdown",
   "metadata": {},
   "source": [
    "Matplotlib website\n",
    "\n",
    "Quickly, slicing, arithmetic operations"
   ]
  },
  {
   "cell_type": "code",
   "execution_count": 63,
   "metadata": {
    "collapsed": false
   },
   "outputs": [
    {
     "name": "stdout",
     "output_type": "stream",
     "text": [
      "# year\thare\tlynx\tcarrot\r\n",
      "1900\t30e3\t4e3\t48300\r\n",
      "1901\t47.2e3\t6.1e3\t48200\r\n",
      "1902\t70.2e3\t9.8e3\t41500\r\n",
      "1903\t77.4e3\t35.2e3\t38200\r\n",
      "1904\t36.3e3\t59.4e3\t40600\r\n",
      "1905\t20.6e3\t41.7e3\t39800\r\n",
      "1906\t18.1e3\t19e3\t38600\r\n",
      "1907\t21.4e3\t13e3\t42300\r\n",
      "1908\t22e3\t8.3e3\t44500\r\n",
      "1909\t25.4e3\t9.1e3\t42100\r\n",
      "1910\t27.1e3\t7.4e3\t46000\r\n",
      "1911\t40.3e3\t8e3\t46800\r\n",
      "1912\t57e3\t12.3e3\t43800\r\n",
      "1913\t76.6e3\t19.5e3\t40900\r\n",
      "1914\t52.3e3\t45.7e3\t39400\r\n",
      "1915\t19.5e3\t51.1e3\t39000\r\n",
      "1916\t11.2e3\t29.7e3\t36700\r\n",
      "1917\t7.6e3\t15.8e3\t41800\r\n",
      "1918\t14.6e3\t9.7e3\t43300\r\n",
      "1919\t16.2e3\t10.1e3\t41300\r\n",
      "1920\t24.7e3\t8.6e3\t47300\r\n"
     ]
    }
   ],
   "source": [
    "os.chdir('/home/grg/git/alfa/notebooks/Python for science BBRC')\n",
    "!cat ./populations.txt"
   ]
  },
  {
   "cell_type": "code",
   "execution_count": 82,
   "metadata": {
    "collapsed": false
   },
   "outputs": [
    {
     "data": {
      "text/plain": [
       "array([ 1900.,  1901.,  1902.,  1903.,  1904.,  1905.,  1906.,  1907.,\n",
       "        1908.,  1909.,  1910.,  1911.,  1912.,  1913.,  1914.,  1915.,\n",
       "        1916.,  1917.,  1918.,  1919.,  1920.])"
      ]
     },
     "execution_count": 82,
     "metadata": {},
     "output_type": "execute_result"
    }
   ],
   "source": [
    "data = np.loadtxt('populations.txt')\n",
    "year, hares, lynxes, carrots = data.T\n",
    "year"
   ]
  },
  {
   "cell_type": "code",
   "execution_count": 89,
   "metadata": {
    "collapsed": false
   },
   "outputs": [
    {
     "data": {
      "text/plain": [
       "<matplotlib.legend.Legend at 0x7f61ec234710>"
      ]
     },
     "execution_count": 89,
     "metadata": {},
     "output_type": "execute_result"
    },
    {
     "data": {
      "image/png": "[encoded data removed]",
      "text/plain": [
       "<matplotlib.figure.Figure at 0x7f61ec5c8a10>"
      ]
     },
     "metadata": {},
     "output_type": "display_data"
    }
   ],
   "source": [
    "from matplotlib import pyplot as plt \n",
    "plt.axes([0.2, 0.1, 0.5, 0.8]) \n",
    "plt.plot(year, hares, year, lynxes, year, carrots) \n",
    "plt.ylim([0,80000])\n",
    "plt.legend(('Hare', 'Lynx', 'Carrot'), loc=(1.05, 0.5)) "
   ]
  },
  {
   "cell_type": "code",
   "execution_count": 87,
   "metadata": {
    "collapsed": false
   },
   "outputs": [
    {
     "name": "stdout",
     "output_type": "stream",
     "text": [
      "[ 34080.95238095  20166.66666667  42400.        ]\n",
      "[ 20897.90645809  16254.59153691   3322.50622558]\n"
     ]
    }
   ],
   "source": [
    "populations = data[:, 1:] \n",
    "print populations.mean(axis=0) \n",
    "print populations.std(axis=0) "
   ]
  },
  {
   "cell_type": "markdown",
   "metadata": {},
   "source": [
    "Which species has the highest population each year?"
   ]
  },
  {
   "cell_type": "code",
   "execution_count": 73,
   "metadata": {
    "collapsed": false
   },
   "outputs": [
    {
     "data": {
      "text/plain": [
       "array([2, 2, 0, 0, 1, 1, 2, 2, 2, 2, 2, 2, 0, 0, 0, 1, 2, 2, 2, 2, 2])"
      ]
     },
     "execution_count": 73,
     "metadata": {},
     "output_type": "execute_result"
    }
   ],
   "source": [
    "np.argmax(populations, axis=1) "
   ]
  },
  {
   "cell_type": "code",
   "execution_count": 88,
   "metadata": {
    "collapsed": false
   },
   "outputs": [],
   "source": [
    "populations[populations<30000] = 30000"
   ]
  },
  {
   "cell_type": "code",
   "execution_count": 99,
   "metadata": {
    "collapsed": false
   },
   "outputs": [
    {
     "data": {
      "text/plain": [
       "[<matplotlib.lines.Line2D at 0x7f61e7ff8510>]"
      ]
     },
     "execution_count": 99,
     "metadata": {},
     "output_type": "execute_result"
    },
    {
     "data": {
      "image/png": "[encoded data removed]",
      "text/plain": [
       "<matplotlib.figure.Figure at 0x7f61ec2ca2d0>"
      ]
     },
     "metadata": {},
     "output_type": "display_data"
    }
   ],
   "source": [
    "x=np.linspace(-1,1,2000) \n",
    "y=np.cos(x)+0.3*np.random.rand(2000) \n",
    "p=np.polynomial.Chebyshev.fit(x,y,90) \n",
    "p=np.polynomial.Polynomial.fit(x,y,3)\n",
    "\n",
    "t=np.linspace(-1,1,200) \n",
    "plt.plot(x,y,'r.') \n",
    "plt.plot(t,p(t),'k-',lw=3) "
   ]
  },
  {
   "cell_type": "code",
   "execution_count": 111,
   "metadata": {
    "collapsed": true
   },
   "outputs": [],
   "source": [
    "import pandas as pd # p. 284"
   ]
  },
  {
   "cell_type": "code",
   "execution_count": 112,
   "metadata": {
    "collapsed": false
   },
   "outputs": [
    {
     "data": {
      "text/html": [
       "<div>\n",
       "<table border=\"1\" class=\"dataframe\">\n",
       "  <thead>\n",
       "    <tr style=\"text-align: right;\">\n",
       "      <th></th>\n",
       "      <th>subject</th>\n",
       "      <th>apo</th>\n",
       "      <th>age</th>\n",
       "      <th>gender</th>\n",
       "      <th>educyears</th>\n",
       "      <th>ventricles</th>\n",
       "    </tr>\n",
       "  </thead>\n",
       "  <tbody>\n",
       "    <tr>\n",
       "      <th>0</th>\n",
       "      <td>10070</td>\n",
       "      <td>0</td>\n",
       "      <td>50.781656</td>\n",
       "      <td>0</td>\n",
       "      <td>10</td>\n",
       "      <td>4.520876</td>\n",
       "    </tr>\n",
       "    <tr>\n",
       "      <th>1</th>\n",
       "      <td>10102</td>\n",
       "      <td>0</td>\n",
       "      <td>64.065708</td>\n",
       "      <td>1</td>\n",
       "      <td>18</td>\n",
       "      <td>16.507219</td>\n",
       "    </tr>\n",
       "    <tr>\n",
       "      <th>2</th>\n",
       "      <td>10108</td>\n",
       "      <td>0</td>\n",
       "      <td>58.683094</td>\n",
       "      <td>0</td>\n",
       "      <td>15</td>\n",
       "      <td>10.421616</td>\n",
       "    </tr>\n",
       "    <tr>\n",
       "      <th>3</th>\n",
       "      <td>10235</td>\n",
       "      <td>0</td>\n",
       "      <td>61.245722</td>\n",
       "      <td>0</td>\n",
       "      <td>8</td>\n",
       "      <td>7.564201</td>\n",
       "    </tr>\n",
       "    <tr>\n",
       "      <th>4</th>\n",
       "      <td>10365</td>\n",
       "      <td>0</td>\n",
       "      <td>48.720055</td>\n",
       "      <td>0</td>\n",
       "      <td>12</td>\n",
       "      <td>7.770477</td>\n",
       "    </tr>\n",
       "  </tbody>\n",
       "</table>\n",
       "</div>"
      ],
      "text/plain": [
       "   subject  apo        age  gender  educyears  ventricles\n",
       "0    10070    0  50.781656       0         10    4.520876\n",
       "1    10102    0  64.065708       1         18   16.507219\n",
       "2    10108    0  58.683094       0         15   10.421616\n",
       "3    10235    0  61.245722       0          8    7.564201\n",
       "4    10365    0  48.720055       0         12    7.770477"
      ]
     },
     "execution_count": 112,
     "metadata": {},
     "output_type": "execute_result"
    }
   ],
   "source": [
    "df = pd.read_excel('/home/grg/spm/data/covariates.xls') #read_csv etc..\n",
    "df.head()"
   ]
  },
  {
   "cell_type": "code",
   "execution_count": 108,
   "metadata": {
    "collapsed": false
   },
   "outputs": [
    {
     "data": {
      "text/html": [
       "<div>\n",
       "<table border=\"1\" class=\"dataframe\">\n",
       "  <thead>\n",
       "    <tr style=\"text-align: right;\">\n",
       "      <th></th>\n",
       "      <th>cos</th>\n",
       "      <th>sin</th>\n",
       "      <th>t</th>\n",
       "    </tr>\n",
       "  </thead>\n",
       "  <tbody>\n",
       "    <tr>\n",
       "      <th>0</th>\n",
       "      <td>0.960170</td>\n",
       "      <td>0.279415</td>\n",
       "      <td>-6.000000</td>\n",
       "    </tr>\n",
       "    <tr>\n",
       "      <th>1</th>\n",
       "      <td>0.609977</td>\n",
       "      <td>0.792419</td>\n",
       "      <td>-5.368421</td>\n",
       "    </tr>\n",
       "    <tr>\n",
       "      <th>2</th>\n",
       "      <td>0.024451</td>\n",
       "      <td>0.999701</td>\n",
       "      <td>-4.736842</td>\n",
       "    </tr>\n",
       "    <tr>\n",
       "      <th>3</th>\n",
       "      <td>-0.570509</td>\n",
       "      <td>0.821291</td>\n",
       "      <td>-4.105263</td>\n",
       "    </tr>\n",
       "    <tr>\n",
       "      <th>4</th>\n",
       "      <td>-0.945363</td>\n",
       "      <td>0.326021</td>\n",
       "      <td>-3.473684</td>\n",
       "    </tr>\n",
       "  </tbody>\n",
       "</table>\n",
       "</div>"
      ],
      "text/plain": [
       "        cos       sin         t\n",
       "0  0.960170  0.279415 -6.000000\n",
       "1  0.609977  0.792419 -5.368421\n",
       "2  0.024451  0.999701 -4.736842\n",
       "3 -0.570509  0.821291 -4.105263\n",
       "4 -0.945363  0.326021 -3.473684"
      ]
     },
     "execution_count": 108,
     "metadata": {},
     "output_type": "execute_result"
    }
   ],
   "source": [
    "import numpy as np \n",
    "t=np.linspace(-6,6,20) \n",
    "sin_t=np.sin(t) \n",
    "cos_t=np.cos(t)\n",
    "\n",
    "df = pd.DataFrame({'t':t,'sin':sin_t,'cos':cos_t}) \n",
    "df.head()"
   ]
  },
  {
   "cell_type": "code",
   "execution_count": 116,
   "metadata": {
    "collapsed": false
   },
   "outputs": [
    {
     "name": "stdout",
     "output_type": "stream",
     "text": [
      "12.4375007228\n"
     ]
    }
   ],
   "source": [
    "df.columns\n",
    "#print df['ventricles']\n",
    "print df[df['apo'] == 0]['ventricles'].mean()"
   ]
  },
  {
   "cell_type": "code",
   "execution_count": 117,
   "metadata": {
    "collapsed": true
   },
   "outputs": [],
   "source": [
    "groupby_apo = df.groupby('apo') "
   ]
  },
  {
   "cell_type": "code",
   "execution_count": 119,
   "metadata": {
    "collapsed": false
   },
   "outputs": [
    {
     "data": {
      "text/html": [
       "<div>\n",
       "<table border=\"1\" class=\"dataframe\">\n",
       "  <thead>\n",
       "    <tr style=\"text-align: right;\">\n",
       "      <th></th>\n",
       "      <th>subject</th>\n",
       "      <th>apo</th>\n",
       "      <th>age</th>\n",
       "      <th>gender</th>\n",
       "      <th>educyears</th>\n",
       "      <th>ventricles</th>\n",
       "    </tr>\n",
       "  </thead>\n",
       "  <tbody>\n",
       "    <tr>\n",
       "      <th>0</th>\n",
       "      <td>10070</td>\n",
       "      <td>0</td>\n",
       "      <td>50.781656</td>\n",
       "      <td>0</td>\n",
       "      <td>10</td>\n",
       "      <td>4.520876</td>\n",
       "    </tr>\n",
       "    <tr>\n",
       "      <th>1</th>\n",
       "      <td>10102</td>\n",
       "      <td>0</td>\n",
       "      <td>64.065708</td>\n",
       "      <td>1</td>\n",
       "      <td>18</td>\n",
       "      <td>16.507219</td>\n",
       "    </tr>\n",
       "    <tr>\n",
       "      <th>2</th>\n",
       "      <td>10108</td>\n",
       "      <td>0</td>\n",
       "      <td>58.683094</td>\n",
       "      <td>0</td>\n",
       "      <td>15</td>\n",
       "      <td>10.421616</td>\n",
       "    </tr>\n",
       "    <tr>\n",
       "      <th>3</th>\n",
       "      <td>10235</td>\n",
       "      <td>0</td>\n",
       "      <td>61.245722</td>\n",
       "      <td>0</td>\n",
       "      <td>8</td>\n",
       "      <td>7.564201</td>\n",
       "    </tr>\n",
       "    <tr>\n",
       "      <th>4</th>\n",
       "      <td>10365</td>\n",
       "      <td>0</td>\n",
       "      <td>48.720055</td>\n",
       "      <td>0</td>\n",
       "      <td>12</td>\n",
       "      <td>7.770477</td>\n",
       "    </tr>\n",
       "    <tr>\n",
       "      <th>102</th>\n",
       "      <td>10015</td>\n",
       "      <td>1</td>\n",
       "      <td>50.707734</td>\n",
       "      <td>0</td>\n",
       "      <td>17</td>\n",
       "      <td>11.754392</td>\n",
       "    </tr>\n",
       "    <tr>\n",
       "      <th>103</th>\n",
       "      <td>10041</td>\n",
       "      <td>1</td>\n",
       "      <td>56.936345</td>\n",
       "      <td>0</td>\n",
       "      <td>17</td>\n",
       "      <td>7.124654</td>\n",
       "    </tr>\n",
       "    <tr>\n",
       "      <th>104</th>\n",
       "      <td>10090</td>\n",
       "      <td>1</td>\n",
       "      <td>52.418891</td>\n",
       "      <td>1</td>\n",
       "      <td>11</td>\n",
       "      <td>11.322461</td>\n",
       "    </tr>\n",
       "    <tr>\n",
       "      <th>105</th>\n",
       "      <td>10150</td>\n",
       "      <td>1</td>\n",
       "      <td>62.318960</td>\n",
       "      <td>0</td>\n",
       "      <td>17</td>\n",
       "      <td>7.784479</td>\n",
       "    </tr>\n",
       "    <tr>\n",
       "      <th>106</th>\n",
       "      <td>10282</td>\n",
       "      <td>1</td>\n",
       "      <td>57.700205</td>\n",
       "      <td>0</td>\n",
       "      <td>15</td>\n",
       "      <td>12.747449</td>\n",
       "    </tr>\n",
       "    <tr>\n",
       "      <th>146</th>\n",
       "      <td>10013</td>\n",
       "      <td>2</td>\n",
       "      <td>55.414100</td>\n",
       "      <td>0</td>\n",
       "      <td>11</td>\n",
       "      <td>16.858685</td>\n",
       "    </tr>\n",
       "    <tr>\n",
       "      <th>147</th>\n",
       "      <td>10023</td>\n",
       "      <td>2</td>\n",
       "      <td>61.065024</td>\n",
       "      <td>1</td>\n",
       "      <td>18</td>\n",
       "      <td>18.370717</td>\n",
       "    </tr>\n",
       "    <tr>\n",
       "      <th>148</th>\n",
       "      <td>10024</td>\n",
       "      <td>2</td>\n",
       "      <td>49.401780</td>\n",
       "      <td>0</td>\n",
       "      <td>18</td>\n",
       "      <td>5.885149</td>\n",
       "    </tr>\n",
       "    <tr>\n",
       "      <th>149</th>\n",
       "      <td>10028</td>\n",
       "      <td>2</td>\n",
       "      <td>61.122519</td>\n",
       "      <td>1</td>\n",
       "      <td>17</td>\n",
       "      <td>10.525290</td>\n",
       "    </tr>\n",
       "    <tr>\n",
       "      <th>150</th>\n",
       "      <td>10032</td>\n",
       "      <td>2</td>\n",
       "      <td>55.386721</td>\n",
       "      <td>0</td>\n",
       "      <td>10</td>\n",
       "      <td>7.536559</td>\n",
       "    </tr>\n",
       "    <tr>\n",
       "      <th>289</th>\n",
       "      <td>10016</td>\n",
       "      <td>3</td>\n",
       "      <td>48.583162</td>\n",
       "      <td>0</td>\n",
       "      <td>17</td>\n",
       "      <td>5.096349</td>\n",
       "    </tr>\n",
       "    <tr>\n",
       "      <th>290</th>\n",
       "      <td>10025</td>\n",
       "      <td>3</td>\n",
       "      <td>66.609172</td>\n",
       "      <td>1</td>\n",
       "      <td>17</td>\n",
       "      <td>12.093340</td>\n",
       "    </tr>\n",
       "    <tr>\n",
       "      <th>291</th>\n",
       "      <td>10026</td>\n",
       "      <td>3</td>\n",
       "      <td>66.699521</td>\n",
       "      <td>0</td>\n",
       "      <td>18</td>\n",
       "      <td>19.916831</td>\n",
       "    </tr>\n",
       "    <tr>\n",
       "      <th>292</th>\n",
       "      <td>10029</td>\n",
       "      <td>3</td>\n",
       "      <td>50.433949</td>\n",
       "      <td>0</td>\n",
       "      <td>17</td>\n",
       "      <td>9.488333</td>\n",
       "    </tr>\n",
       "    <tr>\n",
       "      <th>293</th>\n",
       "      <td>10034</td>\n",
       "      <td>3</td>\n",
       "      <td>49.275838</td>\n",
       "      <td>0</td>\n",
       "      <td>18</td>\n",
       "      <td>9.748717</td>\n",
       "    </tr>\n",
       "    <tr>\n",
       "      <th>449</th>\n",
       "      <td>10065</td>\n",
       "      <td>4</td>\n",
       "      <td>47.293634</td>\n",
       "      <td>1</td>\n",
       "      <td>17</td>\n",
       "      <td>9.672536</td>\n",
       "    </tr>\n",
       "    <tr>\n",
       "      <th>450</th>\n",
       "      <td>10071</td>\n",
       "      <td>4</td>\n",
       "      <td>50.811773</td>\n",
       "      <td>0</td>\n",
       "      <td>12</td>\n",
       "      <td>5.617455</td>\n",
       "    </tr>\n",
       "    <tr>\n",
       "      <th>451</th>\n",
       "      <td>10096</td>\n",
       "      <td>4</td>\n",
       "      <td>50.973306</td>\n",
       "      <td>1</td>\n",
       "      <td>18</td>\n",
       "      <td>6.951561</td>\n",
       "    </tr>\n",
       "    <tr>\n",
       "      <th>452</th>\n",
       "      <td>10144</td>\n",
       "      <td>4</td>\n",
       "      <td>57.883641</td>\n",
       "      <td>0</td>\n",
       "      <td>8</td>\n",
       "      <td>11.855270</td>\n",
       "    </tr>\n",
       "    <tr>\n",
       "      <th>453</th>\n",
       "      <td>10180</td>\n",
       "      <td>4</td>\n",
       "      <td>62.924025</td>\n",
       "      <td>0</td>\n",
       "      <td>12</td>\n",
       "      <td>10.087387</td>\n",
       "    </tr>\n",
       "  </tbody>\n",
       "</table>\n",
       "</div>"
      ],
      "text/plain": [
       "     subject  apo        age  gender  educyears  ventricles\n",
       "0      10070    0  50.781656       0         10    4.520876\n",
       "1      10102    0  64.065708       1         18   16.507219\n",
       "2      10108    0  58.683094       0         15   10.421616\n",
       "3      10235    0  61.245722       0          8    7.564201\n",
       "4      10365    0  48.720055       0         12    7.770477\n",
       "102    10015    1  50.707734       0         17   11.754392\n",
       "103    10041    1  56.936345       0         17    7.124654\n",
       "104    10090    1  52.418891       1         11   11.322461\n",
       "105    10150    1  62.318960       0         17    7.784479\n",
       "106    10282    1  57.700205       0         15   12.747449\n",
       "146    10013    2  55.414100       0         11   16.858685\n",
       "147    10023    2  61.065024       1         18   18.370717\n",
       "148    10024    2  49.401780       0         18    5.885149\n",
       "149    10028    2  61.122519       1         17   10.525290\n",
       "150    10032    2  55.386721       0         10    7.536559\n",
       "289    10016    3  48.583162       0         17    5.096349\n",
       "290    10025    3  66.609172       1         17   12.093340\n",
       "291    10026    3  66.699521       0         18   19.916831\n",
       "292    10029    3  50.433949       0         17    9.488333\n",
       "293    10034    3  49.275838       0         18    9.748717\n",
       "449    10065    4  47.293634       1         17    9.672536\n",
       "450    10071    4  50.811773       0         12    5.617455\n",
       "451    10096    4  50.973306       1         18    6.951561\n",
       "452    10144    4  57.883641       0          8   11.855270\n",
       "453    10180    4  62.924025       0         12   10.087387"
      ]
     },
     "execution_count": 119,
     "metadata": {},
     "output_type": "execute_result"
    }
   ],
   "source": [
    "groupby_apo.head()"
   ]
  },
  {
   "cell_type": "code",
   "execution_count": 122,
   "metadata": {
    "collapsed": false
   },
   "outputs": [
    {
     "data": {
      "text/plain": [
       "array([[<matplotlib.axes._subplots.AxesSubplot object at 0x7f62037b7590>,\n",
       "        <matplotlib.axes._subplots.AxesSubplot object at 0x7f6203765410>,\n",
       "        <matplotlib.axes._subplots.AxesSubplot object at 0x7f62036bf450>],\n",
       "       [<matplotlib.axes._subplots.AxesSubplot object at 0x7f620372ac90>,\n",
       "        <matplotlib.axes._subplots.AxesSubplot object at 0x7f6203662cd0>,\n",
       "        <matplotlib.axes._subplots.AxesSubplot object at 0x7f62035e2b50>],\n",
       "       [<matplotlib.axes._subplots.AxesSubplot object at 0x7f6203551c90>,\n",
       "        <matplotlib.axes._subplots.AxesSubplot object at 0x7f62034d4b10>,\n",
       "        <matplotlib.axes._subplots.AxesSubplot object at 0x7f620343ba50>]], dtype=object)"
      ]
     },
     "execution_count": 122,
     "metadata": {},
     "output_type": "execute_result"
    },
    {
     "data": {
      "image/png": "[encoded data removed]",
      "text/plain": [
       "<matplotlib.figure.Figure at 0x7f61e556d510>"
      ]
     },
     "metadata": {},
     "output_type": "display_data"
    }
   ],
   "source": [
    "from pandas.tools import plotting \n",
    "plotting.scatter_matrix(df[['age', 'educyears', 'ventricles']]) "
   ]
  },
  {
   "cell_type": "markdown",
   "metadata": {},
   "source": [
    "Simple linear model"
   ]
  },
  {
   "cell_type": "code",
   "execution_count": 142,
   "metadata": {
    "collapsed": true
   },
   "outputs": [],
   "source": [
    "from scipy import stats"
   ]
  },
  {
   "cell_type": "code",
   "execution_count": 205,
   "metadata": {
    "collapsed": false
   },
   "outputs": [],
   "source": [
    "t = stats.distributions.t.rvs(2.7, scale=1, size=100)"
   ]
  },
  {
   "cell_type": "code",
   "execution_count": 206,
   "metadata": {
    "collapsed": false
   },
   "outputs": [
    {
     "data": {
      "text/plain": [
       "(array([  1.,   1.,   0.,   5.,  11.,  36.,  25.,  15.,   4.,   2.]),\n",
       " array([-7.09447431, -5.93612437, -4.77777443, -3.6194245 , -2.46107456,\n",
       "        -1.30272462, -0.14437468,  1.01397526,  2.17232519,  3.33067513,\n",
       "         4.48902507]),\n",
       " <a list of 10 Patch objects>)"
      ]
     },
     "execution_count": 206,
     "metadata": {},
     "output_type": "execute_result"
    },
    {
     "data": {
      "image/png": "[encoded data removed]",
      "text/plain": [
       "<matplotlib.figure.Figure at 0x7f61d9244d90>"
      ]
     },
     "metadata": {},
     "output_type": "display_data"
    }
   ],
   "source": [
    "plt.hist(t)"
   ]
  },
  {
   "cell_type": "code",
   "execution_count": 207,
   "metadata": {
    "collapsed": false
   },
   "outputs": [],
   "source": [
    "x = np.linspace(-5,5,100)\n",
    "param = stats.t.fit(t)\n",
    "pdf_fitted = stats.t.pdf(x, loc=param[1], scale=param[2], df=param[0])"
   ]
  },
  {
   "cell_type": "code",
   "execution_count": 208,
   "metadata": {
    "collapsed": false
   },
   "outputs": [
    {
     "data": {
      "text/plain": [
       "[<matplotlib.lines.Line2D at 0x7f61d92ab3d0>]"
      ]
     },
     "execution_count": 208,
     "metadata": {},
     "output_type": "execute_result"
    },
    {
     "data": {
      "image/png": "[encoded data removed]",
      "text/plain": [
       "<matplotlib.figure.Figure at 0x7f61d90e0c90>"
      ]
     },
     "metadata": {},
     "output_type": "display_data"
    }
   ],
   "source": [
    "plt.plot(x,pdf_fitted,'b-')"
   ]
  },
  {
   "cell_type": "code",
   "execution_count": null,
   "metadata": {
    "collapsed": true
   },
   "outputs": [],
   "source": []
  }
 ],
 "metadata": {
  "kernelspec": {
   "display_name": "Python 2",
   "language": "python",
   "name": "python2"
  },
  "language_info": {
   "codemirror_mode": {
    "name": "ipython",
    "version": 2
   },
   "file_extension": ".py",
   "mimetype": "text/x-python",
   "name": "python",
   "nbconvert_exporter": "python",
   "pygments_lexer": "ipython2",
   "version": "2.7.11+"
  }
 },
 "nbformat": 4,
 "nbformat_minor": 1
}
