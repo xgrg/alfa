{
 "cells": [
  {
   "cell_type": "markdown",
   "metadata": {
    "slideshow": {
     "slide_type": "skip"
    }
   },
   "source": [
    "#### NB\n",
    "- custom.css should be in same folder as the notebook\n",
    "- then to display the slides"
   ]
  },
  {
   "cell_type": "code",
   "execution_count": null,
   "metadata": {
    "collapsed": true,
    "slideshow": {
     "slide_type": "skip"
    }
   },
   "outputs": [],
   "source": [
    "jupyter nbconvert Welcome\\ session\\ Python\\ for\\ science\\ BBRC.ipynb --to slides --post serve --template default_transition"
   ]
  },
  {
   "cell_type": "markdown",
   "metadata": {
    "slideshow": {
     "slide_type": "slide"
    }
   },
   "source": [
    "# Welcome session on Python for science\n",
    "\n",
    "\n",
    "BarcelonaBeta Brain Research Center - April 4 2017\n",
    "![logo](https://barcelonabrainimaging.org/xnat/images/logo.png)\n",
    "\n",
    "Check-list:\n",
    "- Python 2.7\n",
    "- IPython\n",
    "- Jupyter"
   ]
  },
  {
   "cell_type": "markdown",
   "metadata": {
    "slideshow": {
     "slide_type": "slide"
    }
   },
   "source": [
    "### Why Python?"
   ]
  },
  {
   "cell_type": "markdown",
   "metadata": {
    "slideshow": {
     "slide_type": "fragment"
    }
   },
   "source": [
    "  - for Science!\n",
    "  - Easy, educational, many *gateways* to other languages and *multiplatform*.\n",
    "  - Modular, modules, bricks, versatile *(e.g. text processing, linear algebra, web development)*\n",
    "  - Human *readable*\n",
    "  - GPL-compatible (open source) *Free!*\n",
    "  - It is everywhere.  "
   ]
  },
  {
   "cell_type": "markdown",
   "metadata": {
    "slideshow": {
     "slide_type": "fragment"
    }
   },
   "source": [
    "Great for working / teaching / sharing."
   ]
  },
  {
   "cell_type": "markdown",
   "metadata": {
    "slideshow": {
     "slide_type": "fragment"
    }
   },
   "source": [
    "The scientist's needs:\n",
    "- get data\n",
    "- manipulate, process data\n",
    "- visualize results\n",
    "- communicate results"
   ]
  },
  {
   "cell_type": "markdown",
   "metadata": {
    "slideshow": {
     "slide_type": "slide"
    }
   },
   "source": [
    "## Slack \n",
    "\n",
    "![Slack](https://forger.typo3.org/images/slack.svg)"
   ]
  },
  {
   "cell_type": "markdown",
   "metadata": {
    "slideshow": {
     "slide_type": "fragment"
    }
   },
   "source": [
    "Ask your questions, learn, comment, share on everything.\n",
    "\n",
    "Multi-platform, mobile apps, etc.\n",
    "\n",
    "Visit http://fpmaragall.slack.com/\n",
    "\n",
    "Communication based on real-time discussions in topic-oriented channels.\n",
    "\n",
    "Join **#python** now !\n",
    "\n"
   ]
  },
  {
   "cell_type": "markdown",
   "metadata": {
    "slideshow": {
     "slide_type": "slide"
    }
   },
   "source": [
    "### Structure of the course :\n",
    "\n",
    "\n",
    "- *April 3 1:15pm-2:45pm* - **Getting started in Python** (~90 minutes)\n",
    "\n",
    "- *April 10 2pm-3pm* - **Hands-on Numerical Python, Scientific Python and Visualization** (~60 minutes)\n",
    "\n",
    "- *April 24 2pm-3pm* - **Applications to Statistics, Machine Learning and Neuroimaging** (~60 minutes)\n"
   ]
  },
  {
   "cell_type": "markdown",
   "metadata": {
    "slideshow": {
     "slide_type": "slide"
    }
   },
   "source": [
    "### Resources :\n",
    "\n",
    "\n",
    "- **Dive into Python** (http://diveintopython.com)\n",
    "\n",
    "- **Scipy lectures** (http://scipy-lectures.net)"
   ]
  },
  {
   "cell_type": "markdown",
   "metadata": {
    "slideshow": {
     "slide_type": "slide"
    }
   },
   "source": [
    "### Bestiary :\n",
    "\n",
    "\n",
    "- **Python**: the language\n",
    "\n",
    "- **Anaconda**: a \"distribution\" *(Python and friends)*\n",
    "\n",
    "- **IPython**: Interactive Python *(Python with some helpers)*\n",
    "\n",
    "- **IPython Notebook**: Python in your browser *(these slides are a IPython Notebook !)*\n",
    "\n",
    "![nilearn](nilearn.png)"
   ]
  },
  {
   "cell_type": "markdown",
   "metadata": {
    "slideshow": {
     "slide_type": "fragment"
    }
   },
   "source": [
    "The interactive workflow: **IPython** and a **text editor**"
   ]
  },
  {
   "cell_type": "markdown",
   "metadata": {
    "slideshow": {
     "slide_type": "slide"
    }
   },
   "source": [
    "### Hello world!\n",
    "\n",
    "Open a terminal and start `python`"
   ]
  },
  {
   "cell_type": "code",
   "execution_count": 1,
   "metadata": {
    "collapsed": false,
    "slideshow": {
     "slide_type": "fragment"
    }
   },
   "outputs": [
    {
     "name": "stdout",
     "output_type": "stream",
     "text": [
      "Hello world!\n"
     ]
    }
   ],
   "source": [
    "print('Hello world!')"
   ]
  },
  {
   "cell_type": "markdown",
   "metadata": {
    "slideshow": {
     "slide_type": "slide"
    }
   },
   "source": [
    "### Ipython\n",
    "\n",
    "Now pen a terminal and start `ipython`"
   ]
  },
  {
   "cell_type": "code",
   "execution_count": 2,
   "metadata": {
    "collapsed": false,
    "slideshow": {
     "slide_type": "fragment"
    }
   },
   "outputs": [
    {
     "name": "stdout",
     "output_type": "stream",
     "text": [
      "Hello world!\n"
     ]
    }
   ],
   "source": [
    "print('Hello world!')"
   ]
  },
  {
   "cell_type": "markdown",
   "metadata": {
    "slideshow": {
     "slide_type": "fragment"
    }
   },
   "source": [
    "Now what's the difference ?"
   ]
  },
  {
   "cell_type": "markdown",
   "metadata": {
    "slideshow": {
     "slide_type": "slide"
    }
   },
   "source": [
    "### Your first `Python` script\n",
    "\n",
    "Now choose your *favorite editor* and create `my_file.py`."
   ]
  },
  {
   "cell_type": "code",
   "execution_count": 6,
   "metadata": {
    "collapsed": false,
    "slideshow": {
     "slide_type": "fragment"
    }
   },
   "outputs": [
    {
     "name": "stdout",
     "output_type": "stream",
     "text": [
      "Hello world !\n"
     ]
    }
   ],
   "source": [
    "s = 'Hello world !'\n",
    "print(s)"
   ]
  },
  {
   "cell_type": "markdown",
   "metadata": {
    "slideshow": {
     "slide_type": "fragment"
    }
   },
   "source": [
    "IPython tips"
   ]
  },
  {
   "cell_type": "markdown",
   "metadata": {
    "slideshow": {
     "slide_type": "slide"
    }
   },
   "source": [
    "### Basic types\n",
    "\n",
    "- Integers\n",
    "\n",
    "- Floats\n",
    "\n",
    "- Complex\n",
    "\n",
    "- Booleans\n",
    "\n",
    "Weakly typed\n",
    "\n",
    "Arithmetical operations\n",
    "\n",
    "Casting"
   ]
  },
  {
   "cell_type": "markdown",
   "metadata": {
    "slideshow": {
     "slide_type": "slide"
    }
   },
   "source": [
    "### Containers\n",
    "\n",
    "- Lists\n",
    "\n",
    "- Dictionaries"
   ]
  },
  {
   "cell_type": "markdown",
   "metadata": {
    "slideshow": {
     "slide_type": "slide"
    }
   },
   "source": [
    "Strings"
   ]
  },
  {
   "cell_type": "markdown",
   "metadata": {
    "slideshow": {
     "slide_type": "slide"
    }
   },
   "source": [
    "Dictionaries"
   ]
  },
  {
   "cell_type": "markdown",
   "metadata": {
    "slideshow": {
     "slide_type": "slide"
    }
   },
   "source": [
    "Functions"
   ]
  },
  {
   "cell_type": "markdown",
   "metadata": {
    "slideshow": {
     "slide_type": "slide"
    }
   },
   "source": [
    "Reusing code: import"
   ]
  },
  {
   "cell_type": "markdown",
   "metadata": {
    "slideshow": {
     "slide_type": "slide"
    }
   },
   "source": [
    "Modules, packages"
   ]
  },
  {
   "cell_type": "markdown",
   "metadata": {
    "slideshow": {
     "slide_type": "slide"
    }
   },
   "source": [
    "Inputs / outputs"
   ]
  }
 ],
 "metadata": {
  "celltoolbar": "Slideshow",
  "kernelspec": {
   "display_name": "Python 2",
   "language": "python",
   "name": "python2"
  },
  "language_info": {
   "codemirror_mode": {
    "name": "ipython",
    "version": 2
   },
   "file_extension": ".py",
   "mimetype": "text/x-python",
   "name": "python",
   "nbconvert_exporter": "python",
   "pygments_lexer": "ipython2",
   "version": "2.7.11+"
  }
 },
 "nbformat": 4,
 "nbformat_minor": 1
}
