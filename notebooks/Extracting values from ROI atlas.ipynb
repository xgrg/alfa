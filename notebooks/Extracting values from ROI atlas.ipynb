{
 "cells": [
  {
   "cell_type": "code",
   "execution_count": null,
   "metadata": {
    "collapsed": false
   },
   "outputs": [
    {
     "name": "stderr",
     "output_type": "stream",
     "text": [
      "/home/grg/jupyter/local/lib/python2.7/site-packages/sklearn/cross_validation.py:44: DeprecationWarning: This module was deprecated in version 0.18 in favor of the model_selection module into which all the refactored classes and functions are moved. Also note that the interface of the new CV iterators are different from that of this module. This module will be removed in 0.20.\n",
      "  \"This module will be removed in 0.20.\", DeprecationWarning)\n"
     ]
    }
   ],
   "source": [
    "%run /home/grg/git/alfa/nilearn-helper.py\n",
    "%matplotlib inline\n",
    "from glob import glob\n",
    "import os.path as osp\n",
    "from nistats import thresholding\n",
    "import numpy as np\n",
    "from nilearn import image, plotting\n",
    "import nibabel as nib\n",
    "import json\n",
    "import os"
   ]
  },
  {
   "cell_type": "markdown",
   "metadata": {},
   "source": [
    "### Compile values from create ROI"
   ]
  },
  {
   "cell_type": "code",
   "execution_count": null,
   "metadata": {
    "collapsed": false,
    "scrolled": false
   },
   "outputs": [
    {
     "name": "stdout",
     "output_type": "stream",
     "text": [
      "48 regions -  532 subjects\n",
      "AimsRoiFeatures -i /tmp/jhu-labels_skeleton.nii.gz -s /home/grg/tbss_bsc_subjects/MD/vol0000.nii.gz -o /tmp/roivalues_labels_tbss_MD_skel/10010_stats.csv\n",
      "AimsRoiFeatures -i /tmp/jhu-labels_skeleton.nii.gz -s /home/grg/tbss_bsc_subjects/MD/vol0001.nii.gz -o /tmp/roivalues_labels_tbss_MD_skel/10013_stats.csv\n"
     ]
    }
   ],
   "source": [
    "for prefix in ['MD','L1','RD']: \n",
    "    for atlas in ['labels','tracts']:\n",
    "        roivalues_wd = '/tmp/roivalues_%s_tbss_%s_skel/'%(atlas, prefix) # Folder where the files containing the ROI values will be stored\n",
    "        data_wd = '/home/grg/tbss_bsc_subjects/' # Folder containing the images over which the ROI values will be extracted\n",
    "\n",
    "        #subjects = json.load(open(osp.join('/home/grg/spm', 'data', 'subjects.json'))) # List of subjects\n",
    "        subjects = sorted([e.split('/')[-1].split('_')[0] for e in glob('/home/grg/bsc_output/data/origdata/*')])\n",
    "\n",
    "        # Load the collection of ROIs\n",
    "        rois_fp = '/tmp/jhu-%s_skeleton.nii.gz'%atlas\n",
    "        rois = np.asarray(nib.load(rois_fp).dataobj)\n",
    "        nb_roi = len(np.unique(rois)) - 1\n",
    "        print nb_roi, 'regions - ', len(subjects), 'subjects'\n",
    "\n",
    "        # Iterate over subjects\n",
    "        for i, s in enumerate(subjects):\n",
    "            try:\n",
    "                mdfp = osp.join(data_wd, prefix, 'vol%04d.nii.gz'%(i))\n",
    "                # Build the command and run it\n",
    "                cmd = 'AimsRoiFeatures -i %s -s %s -o %s'%(rois_fp, mdfp, osp.join(roivalues_wd, '%s_stats.csv'%s))\n",
    "                print cmd\n",
    "                os.system(cmd)\n",
    "            except Exception as e:\n",
    "                print s, e"
   ]
  },
  {
   "cell_type": "code",
   "execution_count": 6,
   "metadata": {
    "collapsed": true
   },
   "outputs": [],
   "source": []
  },
  {
   "cell_type": "code",
   "execution_count": null,
   "metadata": {
    "collapsed": true
   },
   "outputs": [],
   "source": []
  }
 ],
 "metadata": {
  "kernelspec": {
   "display_name": "Python 2",
   "language": "python",
   "name": "python2"
  },
  "language_info": {
   "codemirror_mode": {
    "name": "ipython",
    "version": 2
   },
   "file_extension": ".py",
   "mimetype": "text/x-python",
   "name": "python",
   "nbconvert_exporter": "python",
   "pygments_lexer": "ipython2",
   "version": "2.7.11+"
  }
 },
 "nbformat": 4,
 "nbformat_minor": 1
}
