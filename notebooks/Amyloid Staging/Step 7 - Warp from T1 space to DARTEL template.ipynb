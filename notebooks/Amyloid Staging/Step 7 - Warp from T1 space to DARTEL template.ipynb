{
 "cells": [
  {
   "cell_type": "markdown",
   "metadata": {},
   "source": [
    "## Copy T1-space maps and DARTEL imports to a single folder\n",
    "\n",
    "Maybe DARTEL imports are not necessary and can be used directly from the origin folder.\n",
    "\n",
    "- Copy T1-space DWI images to a single folder\n",
    "- Make sure they are already gunzipped\n",
    "- Make sure that c1 and dwi do match correctly (remove headers from c1 if necessary)"
   ]
  },
  {
   "cell_type": "code",
   "execution_count": 35,
   "metadata": {
    "collapsed": false
   },
   "outputs": [
    {
     "name": "stdout",
     "output_type": "stream",
     "text": [
      "114 FA maps\n",
      "114 MD maps\n",
      "114 L1 maps\n",
      "114 RD maps\n",
      "114 rc1 maps\n",
      "114 c1 maps\n"
     ]
    }
   ],
   "source": [
    "from glob import glob\n",
    "import os\n",
    "import os.path as osp\n",
    "ind = '/home/grg/data/AmylStaging'\n",
    "oud = '/tmp/dartel_FA'\n",
    "\n",
    "dartel_dir = '/home/grg/data/AmylStaging/dartel'\n",
    "\n",
    "fa_maps = sorted([e for e in glob(osp.join(ind, '*', 'DWI', '*_FA_t1space*')) if e.endswith('.nii') or e.endswith('.nii.gz')])\n",
    "md_maps = sorted([e for e in glob(osp.join(ind, '*', 'DWI', '*_MD_t1space*')) if e.endswith('.nii') or e.endswith('.nii.gz')])\n",
    "l1_maps = sorted([e for e in glob(osp.join(ind, '*', 'DWI', '*_L1_t1space*')) if e.endswith('.nii') or e.endswith('.nii.gz')])\n",
    "rd_maps = sorted([e for e in glob(osp.join(ind, '*', 'DWI', '*_RD_t1space*')) if e.endswith('.nii') or e.endswith('.nii.gz')])\n",
    "rc1_maps = sorted([e for e in glob(osp.join(ind, '*', 'T1', '*_rc1*')) if e.endswith('.nii') or e.endswith('.nii.gz')])\n",
    "c1_maps = sorted([e for e in glob(osp.join(ind, '*', 'T1', '*_c1*')) if e.endswith('.nii') or e.endswith('.nii.gz')])\n",
    "\n",
    "print('%s FA maps'%len(fa_maps))\n",
    "print('%s MD maps'%len(md_maps))\n",
    "print('%s L1 maps'%len(l1_maps))\n",
    "print('%s RD maps'%len(rd_maps))\n",
    "print('%s rc1 maps'%len(rc1_maps))\n",
    "print('%s c1 maps'%len(c1_maps))\n",
    "\n",
    "cmds = []\n",
    "for maps in [fa_maps, md_maps, l1_maps, rd_maps]:\n",
    "  for each in maps:\n",
    "    bn = osp.basename(each)\n",
    "    fp = osp.join(oud, 'native', bn)\n",
    "    cmd = 'cp %s %s; gunzip %s'%(each, fp, fp)\n",
    "    #cmds.append(cmd)\n",
    "    \n",
    "for i, j in zip(c1_maps, rc1_maps):\n",
    "    bn = osp.basename(i)\n",
    "    fp = osp.join(oud, 'c1', bn)\n",
    "    cmd = 'cp %s %s'%(i, fp)\n",
    "    #cmds.append(cmd)\n",
    "    bn = osp.basename(j)\n",
    "    fp = osp.join(oud, 'rc1', bn)\n",
    "    cmd = 'cp %s %s'%(j, fp)\n",
    "    #cmds.append(cmd)\n",
    "    \n",
    "# remove headers from native and c1\n",
    "for e in glob(osp.join(oud, 'native', '*nii')):\n",
    "    cmd = 'python /home/grg/git/alfa/remove_headers.py %s --replace'%e\n",
    "    cmds.append(cmd)\n",
    "\n",
    "fp1 = '/tmp/preparation_dartelnorm.sh'\n",
    "w = open(fp1, 'w')\n",
    "for e in cmds:    \n",
    "    w.write('%s\\n'%e)\n",
    "w.close()"
   ]
  },
  {
   "cell_type": "code",
   "execution_count": 37,
   "metadata": {
    "collapsed": false
   },
   "outputs": [
    {
     "data": {
      "text/plain": [
       "456"
      ]
     },
     "execution_count": 37,
     "metadata": {},
     "output_type": "execute_result"
    }
   ],
   "source": [
    "len(cmds)"
   ]
  },
  {
   "cell_type": "markdown",
   "metadata": {},
   "source": [
    "### First coregister T1-space DWI images"
   ]
  },
  {
   "cell_type": "code",
   "execution_count": 26,
   "metadata": {
    "collapsed": false
   },
   "outputs": [
    {
     "name": "stdout",
     "output_type": "stream",
     "text": [
      "python /home/grg/git/alfa/spm/CoregDWI.py /tmp/dartel_FA/c1 /tmp/dartel_FA/rc1 /tmp/dartel_FA/native /tmp/amyloid_subjects.json /tmp/dartel_FA/realigned_FA \"_FA\"\n"
     ]
    }
   ],
   "source": [
    "import os\n",
    "cmd_coreg_dwi = 'python /home/grg/git/alfa/spm/CoregDWI.py'\n",
    "cmd_dartelnorm2mni = 'python /home/grg/git/alfa/spm/DARTELNorm2MNI.py'\n",
    "cmd_removeheaders = 'python /home/grg/git/alfa/remove_headers.py'\n",
    "cmd_coreg_mni = 'python /home/grg/git/alfa/spm/CoregMNI.py'\n",
    "\n",
    "c1_fp = osp.join(oud, 'c1')\n",
    "rc1_fp = osp.join(oud, 'rc1')\n",
    "dwi_t1space_fp = osp.join(oud, 'native')\n",
    "subjects_fp = '/tmp/amyloid_subjects.json'\n",
    "realigned_dwi_fp = osp.join(oud, 'realigned_FA')\n",
    "cmd = '%s %s %s %s %s %s \"_FA\"'%(cmd_coreg_dwi, c1_fp, rc1_fp, dwi_t1space_fp, subjects_fp, realigned_dwi_fp)\n",
    "print cmd"
   ]
  },
  {
   "cell_type": "markdown",
   "metadata": {},
   "source": [
    "- Move realigned DWI images (from realigned_FA/*/*) to same folder"
   ]
  },
  {
   "cell_type": "code",
   "execution_count": 34,
   "metadata": {
    "collapsed": false
   },
   "outputs": [
    {
     "name": "stdout",
     "output_type": "stream",
     "text": [
      "cp /tmp/dartel_FA/realigned_FA/*/*/r*t1space.nii /tmp/dartel_FA/realigned_FA\n"
     ]
    }
   ],
   "source": [
    "cmd = 'cp %s/*/*/r*t1space.nii %s'%(realigned_dwi_fp, realigned_dwi_fp)\n",
    "#os.system(cmd)\n",
    "print cmd"
   ]
  },
  {
   "cell_type": "code",
   "execution_count": null,
   "metadata": {
    "collapsed": true
   },
   "outputs": [],
   "source": []
  },
  {
   "cell_type": "markdown",
   "metadata": {},
   "source": [
    "### DARTELNorm2MNI"
   ]
  },
  {
   "cell_type": "code",
   "execution_count": 39,
   "metadata": {
    "collapsed": false
   },
   "outputs": [
    {
     "name": "stdout",
     "output_type": "stream",
     "text": [
      "python /home/grg/git/alfa/spm/DARTELNorm2MNI.py /home/grg/data/AmylStaging/dartel/ /tmp/dartel_FA/realigned_FA /tmp/dartel_FA/rc1 /tmp/amyloid_subjects_few.json /home/grg/data/AmylStaging/dartel/Template_6.nii FA_t1space\n"
     ]
    }
   ],
   "source": [
    "ff_fp = '/home/grg/data/AmylStaging/dartel/'\n",
    "subjects_fp = '/tmp/amyloid_subjects_few.json'\n",
    "tpl_fp = '/home/grg/data/AmylStaging/dartel/Template_6.nii'\n",
    "fp = 'FA_t1space'\n",
    "cmd = '%s %s %s %s %s %s %s'%(cmd_dartelnorm2mni, ff_fp, realigned_dwi_fp, rc1_fp, subjects_fp, tpl_fp, fp)\n",
    "print cmd"
   ]
  },
  {
   "cell_type": "markdown",
   "metadata": {},
   "source": [
    "- Move the warped DWI images (from `[rc1_fp]/[DARTELNorm2MNI]` folder) to the same single folder `[warped_fp]`\n"
   ]
  },
  {
   "cell_type": "markdown",
   "metadata": {},
   "source": [
    "### Coregister with MNI template"
   ]
  },
  {
   "cell_type": "code",
   "execution_count": 11,
   "metadata": {
    "collapsed": false
   },
   "outputs": [
    {
     "name": "stdout",
     "output_type": "stream",
     "text": [
      "python /home/grg/git/alfa/spm/CoregMNI.py /tmp/dartel/warped_fa .\n"
     ]
    }
   ],
   "source": [
    "cmd = '%s %s .'%(cmd_coreg_mni, warped_fp)\n",
    "print cmd"
   ]
  },
  {
   "cell_type": "code",
   "execution_count": null,
   "metadata": {
    "collapsed": true
   },
   "outputs": [],
   "source": []
  },
  {
   "cell_type": "markdown",
   "metadata": {},
   "source": [
    "### Remove headers from final DWI images"
   ]
  },
  {
   "cell_type": "code",
   "execution_count": 10,
   "metadata": {
    "collapsed": false
   },
   "outputs": [
    {
     "name": "stdout",
     "output_type": "stream",
     "text": [
      "python /home/grg/git/alfa/remove_headers.py /tmp/dartel/warped_fa/*\n"
     ]
    }
   ],
   "source": [
    "warped_fp = '/tmp/dartel/warped_fa'\n",
    "cmd = '%s %s/*'%(cmd_removeheaders, warped_fp)\n",
    "print cmd"
   ]
  }
 ],
 "metadata": {
  "kernelspec": {
   "display_name": "Python 2",
   "language": "python",
   "name": "python2"
  },
  "language_info": {
   "codemirror_mode": {
    "name": "ipython",
    "version": 2
   },
   "file_extension": ".py",
   "mimetype": "text/x-python",
   "name": "python",
   "nbconvert_exporter": "python",
   "pygments_lexer": "ipython2",
   "version": "2.7.11+"
  }
 },
 "nbformat": 4,
 "nbformat_minor": 1
}
