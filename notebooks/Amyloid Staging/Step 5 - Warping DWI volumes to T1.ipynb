{
 "cells": [
  {
   "cell_type": "code",
   "execution_count": 3,
   "metadata": {
    "collapsed": false
   },
   "outputs": [
    {
     "name": "stdout",
     "output_type": "stream",
     "text": [
      "[['ANTS', '3', '-m', 'CC[', '/home/grg/data/AmylStaging/10019/T1/10019_mabonlm_nobias_spm_c2_d2.nii.gz,', '/home/grg/data/AmylStaging/10019/DWI/10019_B0_brain_seg_1.nii.gz,', '1,', '4]', '-r', 'Gauss[0,3]', '-t', 'Elast[1.5]', '-i', '30x20x10', '-o', '/home/grg/data/AmylStaging/10019/DWI/ants_elast_dwi-to-t1_.nii.gz']]\n"
     ]
    }
   ],
   "source": [
    "import sys, string\n",
    "sys.path.append('/home/grg/git/thesaurus/')\n",
    "import thesaurus as th\n",
    "jf = '/home/grg/git/thesaurus/alfa_dwi_pipeline_aug2016.json'\n",
    "dd = '/home/grg/data/AmylStaging'\n",
    "json_io = '/home/grg/git/thesaurus/alfa_dwi_pipeline_io_aug2016.json'\n",
    "step = 'ants_dwi_to_t1'\n",
    "\n",
    "subjects = [string.atoi(e) for e in open('/tmp/amyloid_subjects.txt').read().split('\\n') if e != '']\n",
    "failed = [12118, 13041, 55854, 10162, 10515, 10627, 10649, 10711, 10949, 11262, 11514, 11745, 12279, 12741, 12991, 13035, 13105, 13107, 13193, 13259, \n",
    "             21136, 21138, 44008, 44301, 44396, 66008, 66027, 66100, 66162, 66301, 77012, 77164]\n",
    "subjects = [e for e in subjects if not e in failed]\n",
    "subjects = [10019]\n",
    "\n",
    "a = th.ALFAHelper(directory=dd, jsonfile=json_io)\n",
    "\n",
    "cmds = []\n",
    "for s in subjects:  \n",
    "    cmd = a.parse_command(str(s), step, jsonfile=jf)\n",
    "    cmds.append(cmd)\n",
    " \n",
    "# Writing commands in a textfile\n",
    "fp1 = '/tmp/%s.sh'%step\n",
    "fp2 = '/tmp/%s.workflow'%step\n",
    "w = open(fp1, 'w')\n",
    "for e in cmds:\n",
    "    w.write('%s\\n'%e)\n",
    "w.close()\n",
    "\n",
    "import sys\n",
    "sys.path.append('/home/grg/git/alfa')\n",
    "import create_workflow as cw\n",
    "names = [str(e) for e in subjects]\n",
    "\n",
    "cw.create_workflow(fp1, fp2, names=names, verbose=True)"
   ]
  },
  {
   "cell_type": "code",
   "execution_count": 4,
   "metadata": {
    "collapsed": false
   },
   "outputs": [
    {
     "data": {
      "text/plain": [
       "u'ANTS 3 -m CC[ /home/grg/data/AmylStaging/10019/T1/10019_mabonlm_nobias_spm_c2_d2.nii.gz, /home/grg/data/AmylStaging/10019/DWI/10019_B0_brain_seg_1.nii.gz, 1, 4] -r Gauss[0,3] -t Elast[1.5] -i 30x20x10 -o /home/grg/data/AmylStaging/10019/DWI/ants_elast_dwi-to-t1_.nii.gz'"
      ]
     },
     "execution_count": 4,
     "metadata": {},
     "output_type": "execute_result"
    }
   ],
   "source": [
    "cmds[0]"
   ]
  },
  {
   "cell_type": "code",
   "execution_count": null,
   "metadata": {
    "collapsed": true
   },
   "outputs": [],
   "source": []
  }
 ],
 "metadata": {
  "kernelspec": {
   "display_name": "Python 2",
   "language": "python",
   "name": "python2"
  },
  "language_info": {
   "codemirror_mode": {
    "name": "ipython",
    "version": 2
   },
   "file_extension": ".py",
   "mimetype": "text/x-python",
   "name": "python",
   "nbconvert_exporter": "python",
   "pygments_lexer": "ipython2",
   "version": "2.7.11+"
  }
 },
 "nbformat": 4,
 "nbformat_minor": 1
}
