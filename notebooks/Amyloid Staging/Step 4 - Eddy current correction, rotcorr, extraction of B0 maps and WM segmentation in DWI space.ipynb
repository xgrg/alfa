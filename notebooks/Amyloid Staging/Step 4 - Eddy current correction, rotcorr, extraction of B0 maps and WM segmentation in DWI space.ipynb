{
 "cells": [
  {
   "cell_type": "markdown",
   "metadata": {
    "collapsed": true
   },
   "source": [
    "### Extract B0 maps from DWI volumes"
   ]
  },
  {
   "cell_type": "code",
   "execution_count": 23,
   "metadata": {
    "collapsed": false
   },
   "outputs": [
    {
     "name": "stdout",
     "output_type": "stream",
     "text": [
      "[['fsl5.0-eddy_correct', '/home/grg/data/AmylStaging/10019/DWI/10019_denoised.nii', '/home/grg/data/AmylStaging/10019/DWI/10019_denoised_corrected.nii.gz', '0'], ['fsl5.0-eddy_correct', '/home/grg/data/AmylStaging/10044/DWI/10044_denoised.nii', '/home/grg/data/AmylStaging/10044/DWI/10044_denoised_corrected.nii.gz', '0'], ['fsl5.0-eddy_correct', '/home/grg/data/AmylStaging/10065/DWI/10065_denoised.nii', '/home/grg/data/AmylStaging/10065/DWI/10065_denoised_corrected.nii.gz', '0'], ['fsl5.0-eddy_correct', '/home/grg/data/AmylStaging/10070/DWI/10070_denoised.nii', '/home/grg/data/AmylStaging/10070/DWI/10070_denoised_corrected.nii.gz', '0'], ['fsl5.0-eddy_correct', '/home/grg/data/AmylStaging/10137/DWI/10137_denoised.nii', '/home/grg/data/AmylStaging/10137/DWI/10137_denoised_corrected.nii.gz', '0'], ['fsl5.0-eddy_correct', '/home/grg/data/AmylStaging/10200/DWI/10200_denoised.nii', '/home/grg/data/AmylStaging/10200/DWI/10200_denoised_corrected.nii.gz', '0'], ['fsl5.0-eddy_correct', '/home/grg/data/AmylStaging/10225/DWI/10225_denoised.nii', '/home/grg/data/AmylStaging/10225/DWI/10225_denoised_corrected.nii.gz', '0'], ['fsl5.0-eddy_correct', '/home/grg/data/AmylStaging/10235/DWI/10235_denoised.nii', '/home/grg/data/AmylStaging/10235/DWI/10235_denoised_corrected.nii.gz', '0'], ['fsl5.0-eddy_correct', '/home/grg/data/AmylStaging/10245/DWI/10245_denoised.nii', '/home/grg/data/AmylStaging/10245/DWI/10245_denoised_corrected.nii.gz', '0'], ['fsl5.0-eddy_correct', '/home/grg/data/AmylStaging/10319/DWI/10319_denoised.nii', '/home/grg/data/AmylStaging/10319/DWI/10319_denoised_corrected.nii.gz', '0'], ['fsl5.0-eddy_correct', '/home/grg/data/AmylStaging/10329/DWI/10329_denoised.nii', '/home/grg/data/AmylStaging/10329/DWI/10329_denoised_corrected.nii.gz', '0'], ['fsl5.0-eddy_correct', '/home/grg/data/AmylStaging/10424/DWI/10424_denoised.nii', '/home/grg/data/AmylStaging/10424/DWI/10424_denoised_corrected.nii.gz', '0'], ['fsl5.0-eddy_correct', '/home/grg/data/AmylStaging/10560/DWI/10560_denoised.nii', '/home/grg/data/AmylStaging/10560/DWI/10560_denoised_corrected.nii.gz', '0'], ['fsl5.0-eddy_correct', '/home/grg/data/AmylStaging/10613/DWI/10613_denoised.nii', '/home/grg/data/AmylStaging/10613/DWI/10613_denoised_corrected.nii.gz', '0'], ['fsl5.0-eddy_correct', '/home/grg/data/AmylStaging/10696/DWI/10696_denoised.nii', '/home/grg/data/AmylStaging/10696/DWI/10696_denoised_corrected.nii.gz', '0'], ['fsl5.0-eddy_correct', '/home/grg/data/AmylStaging/10711/DWI/10711_denoised.nii', '/home/grg/data/AmylStaging/10711/DWI/10711_denoised_corrected.nii.gz', '0'], ['fsl5.0-eddy_correct', '/home/grg/data/AmylStaging/10724/DWI/10724_denoised.nii', '/home/grg/data/AmylStaging/10724/DWI/10724_denoised_corrected.nii.gz', '0'], ['fsl5.0-eddy_correct', '/home/grg/data/AmylStaging/10779/DWI/10779_denoised.nii', '/home/grg/data/AmylStaging/10779/DWI/10779_denoised_corrected.nii.gz', '0'], ['fsl5.0-eddy_correct', '/home/grg/data/AmylStaging/10810/DWI/10810_denoised.nii', '/home/grg/data/AmylStaging/10810/DWI/10810_denoised_corrected.nii.gz', '0'], ['fsl5.0-eddy_correct', '/home/grg/data/AmylStaging/10881/DWI/10881_denoised.nii', '/home/grg/data/AmylStaging/10881/DWI/10881_denoised_corrected.nii.gz', '0'], ['fsl5.0-eddy_correct', '/home/grg/data/AmylStaging/11042/DWI/11042_denoised.nii', '/home/grg/data/AmylStaging/11042/DWI/11042_denoised_corrected.nii.gz', '0'], ['fsl5.0-eddy_correct', '/home/grg/data/AmylStaging/11055/DWI/11055_denoised.nii', '/home/grg/data/AmylStaging/11055/DWI/11055_denoised_corrected.nii.gz', '0'], ['fsl5.0-eddy_correct', '/home/grg/data/AmylStaging/11111/DWI/11111_denoised.nii', '/home/grg/data/AmylStaging/11111/DWI/11111_denoised_corrected.nii.gz', '0'], ['fsl5.0-eddy_correct', '/home/grg/data/AmylStaging/11114/DWI/11114_denoised.nii', '/home/grg/data/AmylStaging/11114/DWI/11114_denoised_corrected.nii.gz', '0'], ['fsl5.0-eddy_correct', '/home/grg/data/AmylStaging/11125/DWI/11125_denoised.nii', '/home/grg/data/AmylStaging/11125/DWI/11125_denoised_corrected.nii.gz', '0'], ['fsl5.0-eddy_correct', '/home/grg/data/AmylStaging/11127/DWI/11127_denoised.nii', '/home/grg/data/AmylStaging/11127/DWI/11127_denoised_corrected.nii.gz', '0'], ['fsl5.0-eddy_correct', '/home/grg/data/AmylStaging/11132/DWI/11132_denoised.nii', '/home/grg/data/AmylStaging/11132/DWI/11132_denoised_corrected.nii.gz', '0'], ['fsl5.0-eddy_correct', '/home/grg/data/AmylStaging/11248/DWI/11248_denoised.nii', '/home/grg/data/AmylStaging/11248/DWI/11248_denoised_corrected.nii.gz', '0'], ['fsl5.0-eddy_correct', '/home/grg/data/AmylStaging/11257/DWI/11257_denoised.nii', '/home/grg/data/AmylStaging/11257/DWI/11257_denoised_corrected.nii.gz', '0'], ['fsl5.0-eddy_correct', '/home/grg/data/AmylStaging/11273/DWI/11273_denoised.nii', '/home/grg/data/AmylStaging/11273/DWI/11273_denoised_corrected.nii.gz', '0'], ['fsl5.0-eddy_correct', '/home/grg/data/AmylStaging/11291/DWI/11291_denoised.nii', '/home/grg/data/AmylStaging/11291/DWI/11291_denoised_corrected.nii.gz', '0'], ['fsl5.0-eddy_correct', '/home/grg/data/AmylStaging/11387/DWI/11387_denoised.nii', '/home/grg/data/AmylStaging/11387/DWI/11387_denoised_corrected.nii.gz', '0'], ['fsl5.0-eddy_correct', '/home/grg/data/AmylStaging/11397/DWI/11397_denoised.nii', '/home/grg/data/AmylStaging/11397/DWI/11397_denoised_corrected.nii.gz', '0'], ['fsl5.0-eddy_correct', '/home/grg/data/AmylStaging/11478/DWI/11478_denoised.nii', '/home/grg/data/AmylStaging/11478/DWI/11478_denoised_corrected.nii.gz', '0'], ['fsl5.0-eddy_correct', '/home/grg/data/AmylStaging/11514/DWI/11514_denoised.nii', '/home/grg/data/AmylStaging/11514/DWI/11514_denoised_corrected.nii.gz', '0'], ['fsl5.0-eddy_correct', '/home/grg/data/AmylStaging/11540/DWI/11540_denoised.nii', '/home/grg/data/AmylStaging/11540/DWI/11540_denoised_corrected.nii.gz', '0'], ['fsl5.0-eddy_correct', '/home/grg/data/AmylStaging/11587/DWI/11587_denoised.nii', '/home/grg/data/AmylStaging/11587/DWI/11587_denoised_corrected.nii.gz', '0'], ['fsl5.0-eddy_correct', '/home/grg/data/AmylStaging/11593/DWI/11593_denoised.nii', '/home/grg/data/AmylStaging/11593/DWI/11593_denoised_corrected.nii.gz', '0'], ['fsl5.0-eddy_correct', '/home/grg/data/AmylStaging/11656/DWI/11656_denoised.nii', '/home/grg/data/AmylStaging/11656/DWI/11656_denoised_corrected.nii.gz', '0'], ['fsl5.0-eddy_correct', '/home/grg/data/AmylStaging/11711/DWI/11711_denoised.nii', '/home/grg/data/AmylStaging/11711/DWI/11711_denoised_corrected.nii.gz', '0'], ['fsl5.0-eddy_correct', '/home/grg/data/AmylStaging/11742/DWI/11742_denoised.nii', '/home/grg/data/AmylStaging/11742/DWI/11742_denoised_corrected.nii.gz', '0'], ['fsl5.0-eddy_correct', '/home/grg/data/AmylStaging/11745/DWI/11745_denoised.nii', '/home/grg/data/AmylStaging/11745/DWI/11745_denoised_corrected.nii.gz', '0'], ['fsl5.0-eddy_correct', '/home/grg/data/AmylStaging/11747/DWI/11747_denoised.nii', '/home/grg/data/AmylStaging/11747/DWI/11747_denoised_corrected.nii.gz', '0'], ['fsl5.0-eddy_correct', '/home/grg/data/AmylStaging/11829/DWI/11829_denoised.nii', '/home/grg/data/AmylStaging/11829/DWI/11829_denoised_corrected.nii.gz', '0'], ['fsl5.0-eddy_correct', '/home/grg/data/AmylStaging/11866/DWI/11866_denoised.nii', '/home/grg/data/AmylStaging/11866/DWI/11866_denoised_corrected.nii.gz', '0'], ['fsl5.0-eddy_correct', '/home/grg/data/AmylStaging/12118/DWI/12118_denoised.nii', '/home/grg/data/AmylStaging/12118/DWI/12118_denoised_corrected.nii.gz', '0'], ['fsl5.0-eddy_correct', '/home/grg/data/AmylStaging/12184/DWI/12184_denoised.nii', '/home/grg/data/AmylStaging/12184/DWI/12184_denoised_corrected.nii.gz', '0'], ['fsl5.0-eddy_correct', '/home/grg/data/AmylStaging/12269/DWI/12269_denoised.nii', '/home/grg/data/AmylStaging/12269/DWI/12269_denoised_corrected.nii.gz', '0'], ['fsl5.0-eddy_correct', '/home/grg/data/AmylStaging/12279/DWI/12279_denoised.nii', '/home/grg/data/AmylStaging/12279/DWI/12279_denoised_corrected.nii.gz', '0'], ['fsl5.0-eddy_correct', '/home/grg/data/AmylStaging/12304/DWI/12304_denoised.nii', '/home/grg/data/AmylStaging/12304/DWI/12304_denoised_corrected.nii.gz', '0'], ['fsl5.0-eddy_correct', '/home/grg/data/AmylStaging/12308/DWI/12308_denoised.nii', '/home/grg/data/AmylStaging/12308/DWI/12308_denoised_corrected.nii.gz', '0'], ['fsl5.0-eddy_correct', '/home/grg/data/AmylStaging/12627/DWI/12627_denoised.nii', '/home/grg/data/AmylStaging/12627/DWI/12627_denoised_corrected.nii.gz', '0'], ['fsl5.0-eddy_correct', '/home/grg/data/AmylStaging/12741/DWI/12741_denoised.nii', '/home/grg/data/AmylStaging/12741/DWI/12741_denoised_corrected.nii.gz', '0'], ['fsl5.0-eddy_correct', '/home/grg/data/AmylStaging/12769/DWI/12769_denoised.nii', '/home/grg/data/AmylStaging/12769/DWI/12769_denoised_corrected.nii.gz', '0'], ['fsl5.0-eddy_correct', '/home/grg/data/AmylStaging/12778/DWI/12778_denoised.nii', '/home/grg/data/AmylStaging/12778/DWI/12778_denoised_corrected.nii.gz', '0'], ['fsl5.0-eddy_correct', '/home/grg/data/AmylStaging/12783/DWI/12783_denoised.nii', '/home/grg/data/AmylStaging/12783/DWI/12783_denoised_corrected.nii.gz', '0'], ['fsl5.0-eddy_correct', '/home/grg/data/AmylStaging/12810/DWI/12810_denoised.nii', '/home/grg/data/AmylStaging/12810/DWI/12810_denoised_corrected.nii.gz', '0'], ['fsl5.0-eddy_correct', '/home/grg/data/AmylStaging/12991/DWI/12991_denoised.nii', '/home/grg/data/AmylStaging/12991/DWI/12991_denoised_corrected.nii.gz', '0'], ['fsl5.0-eddy_correct', '/home/grg/data/AmylStaging/13035/DWI/13035_denoised.nii', '/home/grg/data/AmylStaging/13035/DWI/13035_denoised_corrected.nii.gz', '0'], ['fsl5.0-eddy_correct', '/home/grg/data/AmylStaging/13041/DWI/13041_denoised.nii', '/home/grg/data/AmylStaging/13041/DWI/13041_denoised_corrected.nii.gz', '0'], ['fsl5.0-eddy_correct', '/home/grg/data/AmylStaging/13059/DWI/13059_denoised.nii', '/home/grg/data/AmylStaging/13059/DWI/13059_denoised_corrected.nii.gz', '0'], ['fsl5.0-eddy_correct', '/home/grg/data/AmylStaging/13105/DWI/13105_denoised.nii', '/home/grg/data/AmylStaging/13105/DWI/13105_denoised_corrected.nii.gz', '0'], ['fsl5.0-eddy_correct', '/home/grg/data/AmylStaging/13107/DWI/13107_denoised.nii', '/home/grg/data/AmylStaging/13107/DWI/13107_denoised_corrected.nii.gz', '0'], ['fsl5.0-eddy_correct', '/home/grg/data/AmylStaging/13166/DWI/13166_denoised.nii', '/home/grg/data/AmylStaging/13166/DWI/13166_denoised_corrected.nii.gz', '0'], ['fsl5.0-eddy_correct', '/home/grg/data/AmylStaging/13193/DWI/13193_denoised.nii', '/home/grg/data/AmylStaging/13193/DWI/13193_denoised_corrected.nii.gz', '0'], ['fsl5.0-eddy_correct', '/home/grg/data/AmylStaging/13244/DWI/13244_denoised.nii', '/home/grg/data/AmylStaging/13244/DWI/13244_denoised_corrected.nii.gz', '0'], ['fsl5.0-eddy_correct', '/home/grg/data/AmylStaging/13259/DWI/13259_denoised.nii', '/home/grg/data/AmylStaging/13259/DWI/13259_denoised_corrected.nii.gz', '0'], ['fsl5.0-eddy_correct', '/home/grg/data/AmylStaging/21136/DWI/21136_denoised.nii', '/home/grg/data/AmylStaging/21136/DWI/21136_denoised_corrected.nii.gz', '0'], ['fsl5.0-eddy_correct', '/home/grg/data/AmylStaging/21138/DWI/21138_denoised.nii', '/home/grg/data/AmylStaging/21138/DWI/21138_denoised_corrected.nii.gz', '0'], ['fsl5.0-eddy_correct', '/home/grg/data/AmylStaging/21156/DWI/21156_denoised.nii', '/home/grg/data/AmylStaging/21156/DWI/21156_denoised_corrected.nii.gz', '0'], ['fsl5.0-eddy_correct', '/home/grg/data/AmylStaging/44008/DWI/44008_denoised.nii', '/home/grg/data/AmylStaging/44008/DWI/44008_denoised_corrected.nii.gz', '0'], ['fsl5.0-eddy_correct', '/home/grg/data/AmylStaging/44158/DWI/44158_denoised.nii', '/home/grg/data/AmylStaging/44158/DWI/44158_denoised_corrected.nii.gz', '0'], ['fsl5.0-eddy_correct', '/home/grg/data/AmylStaging/44214/DWI/44214_denoised.nii', '/home/grg/data/AmylStaging/44214/DWI/44214_denoised_corrected.nii.gz', '0'], ['fsl5.0-eddy_correct', '/home/grg/data/AmylStaging/44231/DWI/44231_denoised.nii', '/home/grg/data/AmylStaging/44231/DWI/44231_denoised_corrected.nii.gz', '0'], ['fsl5.0-eddy_correct', '/home/grg/data/AmylStaging/44301/DWI/44301_denoised.nii', '/home/grg/data/AmylStaging/44301/DWI/44301_denoised_corrected.nii.gz', '0'], ['fsl5.0-eddy_correct', '/home/grg/data/AmylStaging/44304/DWI/44304_denoised.nii', '/home/grg/data/AmylStaging/44304/DWI/44304_denoised_corrected.nii.gz', '0'], ['fsl5.0-eddy_correct', '/home/grg/data/AmylStaging/44329/DWI/44329_denoised.nii', '/home/grg/data/AmylStaging/44329/DWI/44329_denoised_corrected.nii.gz', '0'], ['fsl5.0-eddy_correct', '/home/grg/data/AmylStaging/44349/DWI/44349_denoised.nii', '/home/grg/data/AmylStaging/44349/DWI/44349_denoised_corrected.nii.gz', '0'], ['fsl5.0-eddy_correct', '/home/grg/data/AmylStaging/44363/DWI/44363_denoised.nii', '/home/grg/data/AmylStaging/44363/DWI/44363_denoised_corrected.nii.gz', '0'], ['fsl5.0-eddy_correct', '/home/grg/data/AmylStaging/44396/DWI/44396_denoised.nii', '/home/grg/data/AmylStaging/44396/DWI/44396_denoised_corrected.nii.gz', '0'], ['fsl5.0-eddy_correct', '/home/grg/data/AmylStaging/44660/DWI/44660_denoised.nii', '/home/grg/data/AmylStaging/44660/DWI/44660_denoised_corrected.nii.gz', '0'], ['fsl5.0-eddy_correct', '/home/grg/data/AmylStaging/55038/DWI/55038_denoised.nii', '/home/grg/data/AmylStaging/55038/DWI/55038_denoised_corrected.nii.gz', '0'], ['fsl5.0-eddy_correct', '/home/grg/data/AmylStaging/55210/DWI/55210_denoised.nii', '/home/grg/data/AmylStaging/55210/DWI/55210_denoised_corrected.nii.gz', '0'], ['fsl5.0-eddy_correct', '/home/grg/data/AmylStaging/55607/DWI/55607_denoised.nii', '/home/grg/data/AmylStaging/55607/DWI/55607_denoised_corrected.nii.gz', '0'], ['fsl5.0-eddy_correct', '/home/grg/data/AmylStaging/55630/DWI/55630_denoised.nii', '/home/grg/data/AmylStaging/55630/DWI/55630_denoised_corrected.nii.gz', '0'], ['fsl5.0-eddy_correct', '/home/grg/data/AmylStaging/55777/DWI/55777_denoised.nii', '/home/grg/data/AmylStaging/55777/DWI/55777_denoised_corrected.nii.gz', '0'], ['fsl5.0-eddy_correct', '/home/grg/data/AmylStaging/55797/DWI/55797_denoised.nii', '/home/grg/data/AmylStaging/55797/DWI/55797_denoised_corrected.nii.gz', '0'], ['fsl5.0-eddy_correct', '/home/grg/data/AmylStaging/55834/DWI/55834_denoised.nii', '/home/grg/data/AmylStaging/55834/DWI/55834_denoised_corrected.nii.gz', '0'], ['fsl5.0-eddy_correct', '/home/grg/data/AmylStaging/55854/DWI/55854_denoised.nii', '/home/grg/data/AmylStaging/55854/DWI/55854_denoised_corrected.nii.gz', '0'], ['fsl5.0-eddy_correct', '/home/grg/data/AmylStaging/66008/DWI/66008_denoised.nii', '/home/grg/data/AmylStaging/66008/DWI/66008_denoised_corrected.nii.gz', '0'], ['fsl5.0-eddy_correct', '/home/grg/data/AmylStaging/66027/DWI/66027_denoised.nii', '/home/grg/data/AmylStaging/66027/DWI/66027_denoised_corrected.nii.gz', '0'], ['fsl5.0-eddy_correct', '/home/grg/data/AmylStaging/66045/DWI/66045_denoised.nii', '/home/grg/data/AmylStaging/66045/DWI/66045_denoised_corrected.nii.gz', '0'], ['fsl5.0-eddy_correct', '/home/grg/data/AmylStaging/66067/DWI/66067_denoised.nii', '/home/grg/data/AmylStaging/66067/DWI/66067_denoised_corrected.nii.gz', '0'], ['fsl5.0-eddy_correct', '/home/grg/data/AmylStaging/66100/DWI/66100_denoised.nii', '/home/grg/data/AmylStaging/66100/DWI/66100_denoised_corrected.nii.gz', '0'], ['fsl5.0-eddy_correct', '/home/grg/data/AmylStaging/66162/DWI/66162_denoised.nii', '/home/grg/data/AmylStaging/66162/DWI/66162_denoised_corrected.nii.gz', '0'], ['fsl5.0-eddy_correct', '/home/grg/data/AmylStaging/66224/DWI/66224_denoised.nii', '/home/grg/data/AmylStaging/66224/DWI/66224_denoised_corrected.nii.gz', '0'], ['fsl5.0-eddy_correct', '/home/grg/data/AmylStaging/66237/DWI/66237_denoised.nii', '/home/grg/data/AmylStaging/66237/DWI/66237_denoised_corrected.nii.gz', '0'], ['fsl5.0-eddy_correct', '/home/grg/data/AmylStaging/66249/DWI/66249_denoised.nii', '/home/grg/data/AmylStaging/66249/DWI/66249_denoised_corrected.nii.gz', '0'], ['fsl5.0-eddy_correct', '/home/grg/data/AmylStaging/66296/DWI/66296_denoised.nii', '/home/grg/data/AmylStaging/66296/DWI/66296_denoised_corrected.nii.gz', '0'], ['fsl5.0-eddy_correct', '/home/grg/data/AmylStaging/66301/DWI/66301_denoised.nii', '/home/grg/data/AmylStaging/66301/DWI/66301_denoised_corrected.nii.gz', '0'], ['fsl5.0-eddy_correct', '/home/grg/data/AmylStaging/66488/DWI/66488_denoised.nii', '/home/grg/data/AmylStaging/66488/DWI/66488_denoised_corrected.nii.gz', '0'], ['fsl5.0-eddy_correct', '/home/grg/data/AmylStaging/66489/DWI/66489_denoised.nii', '/home/grg/data/AmylStaging/66489/DWI/66489_denoised_corrected.nii.gz', '0'], ['fsl5.0-eddy_correct', '/home/grg/data/AmylStaging/77012/DWI/77012_denoised.nii', '/home/grg/data/AmylStaging/77012/DWI/77012_denoised_corrected.nii.gz', '0'], ['fsl5.0-eddy_correct', '/home/grg/data/AmylStaging/77101/DWI/77101_denoised.nii', '/home/grg/data/AmylStaging/77101/DWI/77101_denoised_corrected.nii.gz', '0'], ['fsl5.0-eddy_correct', '/home/grg/data/AmylStaging/77104/DWI/77104_denoised.nii', '/home/grg/data/AmylStaging/77104/DWI/77104_denoised_corrected.nii.gz', '0'], ['fsl5.0-eddy_correct', '/home/grg/data/AmylStaging/77164/DWI/77164_denoised.nii', '/home/grg/data/AmylStaging/77164/DWI/77164_denoised_corrected.nii.gz', '0'], ['fsl5.0-eddy_correct', '/home/grg/data/AmylStaging/77224/DWI/77224_denoised.nii', '/home/grg/data/AmylStaging/77224/DWI/77224_denoised_corrected.nii.gz', '0'], ['fsl5.0-eddy_correct', '/home/grg/data/AmylStaging/77341/DWI/77341_denoised.nii', '/home/grg/data/AmylStaging/77341/DWI/77341_denoised_corrected.nii.gz', '0']]\n"
     ]
    }
   ],
   "source": [
    "import sys, string\n",
    "sys.path.append('/home/grg/git/thesaurus/')\n",
    "import thesaurus as th\n",
    "jf = '/home/grg/git/thesaurus/alfa_dwi_pipeline_aug2016.json'\n",
    "dd = '/home/grg/data/AmylStaging'\n",
    "json_io = '/home/grg/git/thesaurus/alfa_dwi_pipeline_io_aug2016.json'\n",
    "\n",
    "step = 'eddycorrect'\n",
    "\n",
    "subjects = [string.atoi(e) for e in open('/tmp/amyloid_subjects.txt').read().split('\\n') if e != '']\n",
    "subjects = [string.atoi(e) for e in open('/tmp/today_list.txt').read().split('\\n') if e != '']\n",
    "\n",
    "a = th.ALFAHelper(directory=dd, jsonfile=json_io)\n",
    "\n",
    "cmds = []\n",
    "names = []\n",
    "for s in subjects:  \n",
    "    names.append(s)\n",
    "    cmd = a.parse_command(str(s), step, jsonfile=jf)\n",
    "    cmds.append(cmd)\n",
    " \n",
    "# Writing commands in a textfile\n",
    "fp1 = '/tmp/%s.sh'%step\n",
    "fp2 = '/tmp/%s.workflow'%step\n",
    "w = open(fp1, 'w')\n",
    "for e in cmds:\n",
    "    w.write('%s\\n'%e)\n",
    "w.close()\n",
    "\n",
    "import sys\n",
    "sys.path.append('/home/grg/git/alfa')\n",
    "import create_workflow as cw\n",
    "\n",
    "cw.create_workflow(fp1, fp2, names=names, verbose=True)"
   ]
  },
  {
   "cell_type": "markdown",
   "metadata": {},
   "source": [
    "### Extracting B0 maps"
   ]
  },
  {
   "cell_type": "code",
   "execution_count": 37,
   "metadata": {
    "collapsed": false
   },
   "outputs": [
    {
     "name": "stdout",
     "output_type": "stream",
     "text": [
      "[['fsl5.0-fslroi', '/home/grg/data/AmylStaging/10019/DWI/10019_denoised_corrected.nii.gz', '/home/grg/data/AmylStaging/10019/DWI/10019_B0.nii.gz', '0', '1']]\n"
     ]
    }
   ],
   "source": [
    "subjects = ['10019']\n",
    "step = 'extractb0'\n",
    "a = th.ALFAHelper(directory=dd, jsonfile=json_io)\n",
    "\n",
    "cmds = []\n",
    "for s in subjects:  \n",
    "    cmd = a.parse_command(str(s), step, jsonfile=jf)\n",
    "    cmds.append(cmd)\n",
    " \n",
    "# Writing commands in a textfile\n",
    "fp1 = '/tmp/%s.sh'%step\n",
    "fp2 = '/tmp/%s.workflow'%step\n",
    "w = open(fp1, 'w')\n",
    "for e in cmds:\n",
    "    w.write('%s\\n'%e)\n",
    "w.close()\n",
    "\n",
    "import sys\n",
    "sys.path.append('/home/grg/git/alfa')\n",
    "import create_workflow as cw\n",
    "names = [str(e) for e in subjects]\n",
    "\n",
    "cw.create_workflow(fp1, fp2, names=names, verbose=True)"
   ]
  },
  {
   "cell_type": "markdown",
   "metadata": {},
   "source": [
    "### Running WM segmentation on B0 maps"
   ]
  },
  {
   "cell_type": "code",
   "execution_count": 36,
   "metadata": {
    "collapsed": false
   },
   "outputs": [
    {
     "name": "stdout",
     "output_type": "stream",
     "text": [
      "[['fsl5.0-bet', '/home/grg/data/AmylStaging/12118/DWI/12118_B0.nii', '/home/grg/data/AmylStaging/12118/DWI/12118_B0_brain.nii.gz', '-R', '-f', '0.25', '-g', '0', '-m'], ['fsl5.0-bet', '/home/grg/data/AmylStaging/13041/DWI/13041_B0.nii', '/home/grg/data/AmylStaging/13041/DWI/13041_B0_brain.nii.gz', '-R', '-f', '0.25', '-g', '0', '-m'], ['fsl5.0-bet', '/home/grg/data/AmylStaging/55854/DWI/55854_B0.nii', '/home/grg/data/AmylStaging/55854/DWI/55854_B0_brain.nii.gz', '-R', '-f', '0.25', '-g', '0', '-m'], ['fsl5.0-bet', '/home/grg/data/AmylStaging/10162/DWI/10162_B0.nii', '/home/grg/data/AmylStaging/10162/DWI/10162_B0_brain.nii.gz', '-R', '-f', '0.25', '-g', '0', '-m'], ['fsl5.0-bet', '/home/grg/data/AmylStaging/10515/DWI/10515_B0.nii', '/home/grg/data/AmylStaging/10515/DWI/10515_B0_brain.nii.gz', '-R', '-f', '0.25', '-g', '0', '-m'], ['fsl5.0-bet', '/home/grg/data/AmylStaging/10627/DWI/10627_B0.nii', '/home/grg/data/AmylStaging/10627/DWI/10627_B0_brain.nii.gz', '-R', '-f', '0.25', '-g', '0', '-m'], ['fsl5.0-bet', '/home/grg/data/AmylStaging/10649/DWI/10649_B0.nii', '/home/grg/data/AmylStaging/10649/DWI/10649_B0_brain.nii.gz', '-R', '-f', '0.25', '-g', '0', '-m'], ['fsl5.0-bet', '/home/grg/data/AmylStaging/10711/DWI/10711_B0.nii', '/home/grg/data/AmylStaging/10711/DWI/10711_B0_brain.nii.gz', '-R', '-f', '0.25', '-g', '0', '-m'], ['fsl5.0-bet', '/home/grg/data/AmylStaging/10949/DWI/10949_B0.nii', '/home/grg/data/AmylStaging/10949/DWI/10949_B0_brain.nii.gz', '-R', '-f', '0.25', '-g', '0', '-m'], ['fsl5.0-bet', '/home/grg/data/AmylStaging/11262/DWI/11262_B0.nii', '/home/grg/data/AmylStaging/11262/DWI/11262_B0_brain.nii.gz', '-R', '-f', '0.25', '-g', '0', '-m'], ['fsl5.0-bet', '/home/grg/data/AmylStaging/11514/DWI/11514_B0.nii', '/home/grg/data/AmylStaging/11514/DWI/11514_B0_brain.nii.gz', '-R', '-f', '0.25', '-g', '0', '-m'], ['fsl5.0-bet', '/home/grg/data/AmylStaging/11745/DWI/11745_B0.nii', '/home/grg/data/AmylStaging/11745/DWI/11745_B0_brain.nii.gz', '-R', '-f', '0.25', '-g', '0', '-m'], ['fsl5.0-bet', '/home/grg/data/AmylStaging/12279/DWI/12279_B0.nii', '/home/grg/data/AmylStaging/12279/DWI/12279_B0_brain.nii.gz', '-R', '-f', '0.25', '-g', '0', '-m'], ['fsl5.0-bet', '/home/grg/data/AmylStaging/12741/DWI/12741_B0.nii', '/home/grg/data/AmylStaging/12741/DWI/12741_B0_brain.nii.gz', '-R', '-f', '0.25', '-g', '0', '-m'], ['fsl5.0-bet', '/home/grg/data/AmylStaging/12991/DWI/12991_B0.nii', '/home/grg/data/AmylStaging/12991/DWI/12991_B0_brain.nii.gz', '-R', '-f', '0.25', '-g', '0', '-m'], ['fsl5.0-bet', '/home/grg/data/AmylStaging/13035/DWI/13035_B0.nii', '/home/grg/data/AmylStaging/13035/DWI/13035_B0_brain.nii.gz', '-R', '-f', '0.25', '-g', '0', '-m'], ['fsl5.0-bet', '/home/grg/data/AmylStaging/13105/DWI/13105_B0.nii', '/home/grg/data/AmylStaging/13105/DWI/13105_B0_brain.nii.gz', '-R', '-f', '0.25', '-g', '0', '-m'], ['fsl5.0-bet', '/home/grg/data/AmylStaging/13107/DWI/13107_B0.nii', '/home/grg/data/AmylStaging/13107/DWI/13107_B0_brain.nii.gz', '-R', '-f', '0.25', '-g', '0', '-m'], ['fsl5.0-bet', '/home/grg/data/AmylStaging/13193/DWI/13193_B0.nii', '/home/grg/data/AmylStaging/13193/DWI/13193_B0_brain.nii.gz', '-R', '-f', '0.25', '-g', '0', '-m'], ['fsl5.0-bet', '/home/grg/data/AmylStaging/13259/DWI/13259_B0.nii', '/home/grg/data/AmylStaging/13259/DWI/13259_B0_brain.nii.gz', '-R', '-f', '0.25', '-g', '0', '-m'], ['fsl5.0-bet', '/home/grg/data/AmylStaging/21136/DWI/21136_B0.nii', '/home/grg/data/AmylStaging/21136/DWI/21136_B0_brain.nii.gz', '-R', '-f', '0.25', '-g', '0', '-m'], ['fsl5.0-bet', '/home/grg/data/AmylStaging/21138/DWI/21138_B0.nii', '/home/grg/data/AmylStaging/21138/DWI/21138_B0_brain.nii.gz', '-R', '-f', '0.25', '-g', '0', '-m'], ['fsl5.0-bet', '/home/grg/data/AmylStaging/44008/DWI/44008_B0.nii', '/home/grg/data/AmylStaging/44008/DWI/44008_B0_brain.nii.gz', '-R', '-f', '0.25', '-g', '0', '-m'], ['fsl5.0-bet', '/home/grg/data/AmylStaging/44301/DWI/44301_B0.nii', '/home/grg/data/AmylStaging/44301/DWI/44301_B0_brain.nii.gz', '-R', '-f', '0.25', '-g', '0', '-m'], ['fsl5.0-bet', '/home/grg/data/AmylStaging/44396/DWI/44396_B0.nii', '/home/grg/data/AmylStaging/44396/DWI/44396_B0_brain.nii.gz', '-R', '-f', '0.25', '-g', '0', '-m'], ['fsl5.0-bet', '/home/grg/data/AmylStaging/66008/DWI/66008_B0.nii', '/home/grg/data/AmylStaging/66008/DWI/66008_B0_brain.nii.gz', '-R', '-f', '0.25', '-g', '0', '-m'], ['fsl5.0-bet', '/home/grg/data/AmylStaging/66027/DWI/66027_B0.nii', '/home/grg/data/AmylStaging/66027/DWI/66027_B0_brain.nii.gz', '-R', '-f', '0.25', '-g', '0', '-m'], ['fsl5.0-bet', '/home/grg/data/AmylStaging/66100/DWI/66100_B0.nii', '/home/grg/data/AmylStaging/66100/DWI/66100_B0_brain.nii.gz', '-R', '-f', '0.25', '-g', '0', '-m'], ['fsl5.0-bet', '/home/grg/data/AmylStaging/66162/DWI/66162_B0.nii', '/home/grg/data/AmylStaging/66162/DWI/66162_B0_brain.nii.gz', '-R', '-f', '0.25', '-g', '0', '-m'], ['fsl5.0-bet', '/home/grg/data/AmylStaging/66301/DWI/66301_B0.nii', '/home/grg/data/AmylStaging/66301/DWI/66301_B0_brain.nii.gz', '-R', '-f', '0.25', '-g', '0', '-m'], ['fsl5.0-bet', '/home/grg/data/AmylStaging/77012/DWI/77012_B0.nii', '/home/grg/data/AmylStaging/77012/DWI/77012_B0_brain.nii.gz', '-R', '-f', '0.25', '-g', '0', '-m'], ['fsl5.0-bet', '/home/grg/data/AmylStaging/77164/DWI/77164_B0.nii', '/home/grg/data/AmylStaging/77164/DWI/77164_B0_brain.nii.gz', '-R', '-f', '0.25', '-g', '0', '-m']]\n"
     ]
    }
   ],
   "source": [
    "#subjects = ['10019']\n",
    "step = 'fslbet.25'\n",
    "a = th.ALFAHelper(directory=dd, jsonfile=json_io)\n",
    "\n",
    "cmds = []\n",
    "for s in subjects:  \n",
    "    cmd = a.parse_command(str(s), step, jsonfile=jf)\n",
    "    cmds.append(cmd)\n",
    " \n",
    "# Writing commands in a textfile\n",
    "fp1 = '/tmp/%s.sh'%step\n",
    "fp2 = '/tmp/%s.workflow'%step\n",
    "w = open(fp1, 'w')\n",
    "for e in cmds:\n",
    "    w.write('%s\\n'%e)\n",
    "w.close()\n",
    "\n",
    "import sys\n",
    "sys.path.append('/home/grg/git/alfa')\n",
    "import create_workflow as cw\n",
    "names = [str(e) for e in subjects]\n",
    "\n",
    "cw.create_workflow(fp1, fp2, names=names, verbose=True)"
   ]
  },
  {
   "cell_type": "code",
   "execution_count": 39,
   "metadata": {
    "collapsed": false
   },
   "outputs": [
    {
     "name": "stdout",
     "output_type": "stream",
     "text": [
      "[['fsl5.0-fast', '-t', '1', '-n', '3', '-B', '-b', '-g', '-o', '/home/grg/data/AmylStaging/12118/DWI/12118_B0_brain', '/home/grg/data/AmylStaging/12118/DWI/12118_B0_brain.nii.gz'], ['fsl5.0-fast', '-t', '1', '-n', '3', '-B', '-b', '-g', '-o', '/home/grg/data/AmylStaging/13041/DWI/13041_B0_brain', '/home/grg/data/AmylStaging/13041/DWI/13041_B0_brain.nii.gz'], ['fsl5.0-fast', '-t', '1', '-n', '3', '-B', '-b', '-g', '-o', '/home/grg/data/AmylStaging/55854/DWI/55854_B0_brain', '/home/grg/data/AmylStaging/55854/DWI/55854_B0_brain.nii.gz'], ['fsl5.0-fast', '-t', '1', '-n', '3', '-B', '-b', '-g', '-o', '/home/grg/data/AmylStaging/10162/DWI/10162_B0_brain', '/home/grg/data/AmylStaging/10162/DWI/10162_B0_brain.nii.gz'], ['fsl5.0-fast', '-t', '1', '-n', '3', '-B', '-b', '-g', '-o', '/home/grg/data/AmylStaging/10515/DWI/10515_B0_brain', '/home/grg/data/AmylStaging/10515/DWI/10515_B0_brain.nii.gz'], ['fsl5.0-fast', '-t', '1', '-n', '3', '-B', '-b', '-g', '-o', '/home/grg/data/AmylStaging/10627/DWI/10627_B0_brain', '/home/grg/data/AmylStaging/10627/DWI/10627_B0_brain.nii.gz'], ['fsl5.0-fast', '-t', '1', '-n', '3', '-B', '-b', '-g', '-o', '/home/grg/data/AmylStaging/10649/DWI/10649_B0_brain', '/home/grg/data/AmylStaging/10649/DWI/10649_B0_brain.nii.gz'], ['fsl5.0-fast', '-t', '1', '-n', '3', '-B', '-b', '-g', '-o', '/home/grg/data/AmylStaging/10711/DWI/10711_B0_brain', '/home/grg/data/AmylStaging/10711/DWI/10711_B0_brain.nii.gz'], ['fsl5.0-fast', '-t', '1', '-n', '3', '-B', '-b', '-g', '-o', '/home/grg/data/AmylStaging/10949/DWI/10949_B0_brain', '/home/grg/data/AmylStaging/10949/DWI/10949_B0_brain.nii.gz'], ['fsl5.0-fast', '-t', '1', '-n', '3', '-B', '-b', '-g', '-o', '/home/grg/data/AmylStaging/11262/DWI/11262_B0_brain', '/home/grg/data/AmylStaging/11262/DWI/11262_B0_brain.nii.gz'], ['fsl5.0-fast', '-t', '1', '-n', '3', '-B', '-b', '-g', '-o', '/home/grg/data/AmylStaging/11514/DWI/11514_B0_brain', '/home/grg/data/AmylStaging/11514/DWI/11514_B0_brain.nii.gz'], ['fsl5.0-fast', '-t', '1', '-n', '3', '-B', '-b', '-g', '-o', '/home/grg/data/AmylStaging/11745/DWI/11745_B0_brain', '/home/grg/data/AmylStaging/11745/DWI/11745_B0_brain.nii.gz'], ['fsl5.0-fast', '-t', '1', '-n', '3', '-B', '-b', '-g', '-o', '/home/grg/data/AmylStaging/12279/DWI/12279_B0_brain', '/home/grg/data/AmylStaging/12279/DWI/12279_B0_brain.nii.gz'], ['fsl5.0-fast', '-t', '1', '-n', '3', '-B', '-b', '-g', '-o', '/home/grg/data/AmylStaging/12741/DWI/12741_B0_brain', '/home/grg/data/AmylStaging/12741/DWI/12741_B0_brain.nii.gz'], ['fsl5.0-fast', '-t', '1', '-n', '3', '-B', '-b', '-g', '-o', '/home/grg/data/AmylStaging/12991/DWI/12991_B0_brain', '/home/grg/data/AmylStaging/12991/DWI/12991_B0_brain.nii.gz'], ['fsl5.0-fast', '-t', '1', '-n', '3', '-B', '-b', '-g', '-o', '/home/grg/data/AmylStaging/13035/DWI/13035_B0_brain', '/home/grg/data/AmylStaging/13035/DWI/13035_B0_brain.nii.gz'], ['fsl5.0-fast', '-t', '1', '-n', '3', '-B', '-b', '-g', '-o', '/home/grg/data/AmylStaging/13105/DWI/13105_B0_brain', '/home/grg/data/AmylStaging/13105/DWI/13105_B0_brain.nii.gz'], ['fsl5.0-fast', '-t', '1', '-n', '3', '-B', '-b', '-g', '-o', '/home/grg/data/AmylStaging/13107/DWI/13107_B0_brain', '/home/grg/data/AmylStaging/13107/DWI/13107_B0_brain.nii.gz'], ['fsl5.0-fast', '-t', '1', '-n', '3', '-B', '-b', '-g', '-o', '/home/grg/data/AmylStaging/13193/DWI/13193_B0_brain', '/home/grg/data/AmylStaging/13193/DWI/13193_B0_brain.nii.gz'], ['fsl5.0-fast', '-t', '1', '-n', '3', '-B', '-b', '-g', '-o', '/home/grg/data/AmylStaging/13259/DWI/13259_B0_brain', '/home/grg/data/AmylStaging/13259/DWI/13259_B0_brain.nii.gz'], ['fsl5.0-fast', '-t', '1', '-n', '3', '-B', '-b', '-g', '-o', '/home/grg/data/AmylStaging/21136/DWI/21136_B0_brain', '/home/grg/data/AmylStaging/21136/DWI/21136_B0_brain.nii.gz'], ['fsl5.0-fast', '-t', '1', '-n', '3', '-B', '-b', '-g', '-o', '/home/grg/data/AmylStaging/21138/DWI/21138_B0_brain', '/home/grg/data/AmylStaging/21138/DWI/21138_B0_brain.nii.gz'], ['fsl5.0-fast', '-t', '1', '-n', '3', '-B', '-b', '-g', '-o', '/home/grg/data/AmylStaging/44008/DWI/44008_B0_brain', '/home/grg/data/AmylStaging/44008/DWI/44008_B0_brain.nii.gz'], ['fsl5.0-fast', '-t', '1', '-n', '3', '-B', '-b', '-g', '-o', '/home/grg/data/AmylStaging/44301/DWI/44301_B0_brain', '/home/grg/data/AmylStaging/44301/DWI/44301_B0_brain.nii.gz'], ['fsl5.0-fast', '-t', '1', '-n', '3', '-B', '-b', '-g', '-o', '/home/grg/data/AmylStaging/44396/DWI/44396_B0_brain', '/home/grg/data/AmylStaging/44396/DWI/44396_B0_brain.nii.gz'], ['fsl5.0-fast', '-t', '1', '-n', '3', '-B', '-b', '-g', '-o', '/home/grg/data/AmylStaging/66008/DWI/66008_B0_brain', '/home/grg/data/AmylStaging/66008/DWI/66008_B0_brain.nii.gz'], ['fsl5.0-fast', '-t', '1', '-n', '3', '-B', '-b', '-g', '-o', '/home/grg/data/AmylStaging/66027/DWI/66027_B0_brain', '/home/grg/data/AmylStaging/66027/DWI/66027_B0_brain.nii.gz'], ['fsl5.0-fast', '-t', '1', '-n', '3', '-B', '-b', '-g', '-o', '/home/grg/data/AmylStaging/66100/DWI/66100_B0_brain', '/home/grg/data/AmylStaging/66100/DWI/66100_B0_brain.nii.gz'], ['fsl5.0-fast', '-t', '1', '-n', '3', '-B', '-b', '-g', '-o', '/home/grg/data/AmylStaging/66162/DWI/66162_B0_brain', '/home/grg/data/AmylStaging/66162/DWI/66162_B0_brain.nii.gz'], ['fsl5.0-fast', '-t', '1', '-n', '3', '-B', '-b', '-g', '-o', '/home/grg/data/AmylStaging/66301/DWI/66301_B0_brain', '/home/grg/data/AmylStaging/66301/DWI/66301_B0_brain.nii.gz'], ['fsl5.0-fast', '-t', '1', '-n', '3', '-B', '-b', '-g', '-o', '/home/grg/data/AmylStaging/77012/DWI/77012_B0_brain', '/home/grg/data/AmylStaging/77012/DWI/77012_B0_brain.nii.gz'], ['fsl5.0-fast', '-t', '1', '-n', '3', '-B', '-b', '-g', '-o', '/home/grg/data/AmylStaging/77164/DWI/77164_B0_brain', '/home/grg/data/AmylStaging/77164/DWI/77164_B0_brain.nii.gz']]\n"
     ]
    }
   ],
   "source": [
    "#subjects = ['10019']\n",
    "step = 'fslfast'\n",
    "a = th.ALFAHelper(directory=dd, jsonfile=json_io)\n",
    "\n",
    "cmds = []\n",
    "for s in subjects:  \n",
    "    cmd = a.parse_command(str(s), step, jsonfile=jf)\n",
    "    cmds.append(cmd)\n",
    " \n",
    "# Writing commands in a textfile\n",
    "fp1 = '/tmp/%s.sh'%step\n",
    "fp2 = '/tmp/%s.workflow'%step\n",
    "w = open(fp1, 'w')\n",
    "for e in cmds:\n",
    "    w.write('%s\\n'%e)\n",
    "w.close()\n",
    "\n",
    "import sys\n",
    "sys.path.append('/home/grg/git/alfa')\n",
    "import create_workflow as cw\n",
    "names = [str(e) for e in subjects]\n",
    "\n",
    "cw.create_workflow(fp1, fp2, names=names, verbose=True)"
   ]
  },
  {
   "cell_type": "markdown",
   "metadata": {},
   "source": [
    "### Dilate WM masks"
   ]
  },
  {
   "cell_type": "code",
   "execution_count": 40,
   "metadata": {
    "collapsed": false
   },
   "outputs": [
    {
     "name": "stdout",
     "output_type": "stream",
     "text": [
      "[['fsl5.0-fslmaths', '/home/grg/data/AmylStaging/12118/T1/12118_mabonlm_nobias_spm_c2.nii', '-kernel', 'sphere', '2', '-dilD', '/home/grg/data/AmylStaging/12118/T1/12118_mabonlm_nobias_spm_c2_d2.nii.gz'], ['fsl5.0-fslmaths', '/home/grg/data/AmylStaging/13041/T1/13041_mabonlm_nobias_spm_c2.nii', '-kernel', 'sphere', '2', '-dilD', '/home/grg/data/AmylStaging/13041/T1/13041_mabonlm_nobias_spm_c2_d2.nii.gz'], ['fsl5.0-fslmaths', '/home/grg/data/AmylStaging/55854/T1/55854_mabonlm_nobias_spm_c2.nii', '-kernel', 'sphere', '2', '-dilD', '/home/grg/data/AmylStaging/55854/T1/55854_mabonlm_nobias_spm_c2_d2.nii.gz'], ['fsl5.0-fslmaths', '/home/grg/data/AmylStaging/10162/T1/10162_mabonlm_nobias_spm_c2.nii', '-kernel', 'sphere', '2', '-dilD', '/home/grg/data/AmylStaging/10162/T1/10162_mabonlm_nobias_spm_c2_d2.nii.gz'], ['fsl5.0-fslmaths', '/home/grg/data/AmylStaging/10515/T1/10515_mabonlm_nobias_spm_c2.nii', '-kernel', 'sphere', '2', '-dilD', '/home/grg/data/AmylStaging/10515/T1/10515_mabonlm_nobias_spm_c2_d2.nii.gz'], ['fsl5.0-fslmaths', '/home/grg/data/AmylStaging/10627/T1/10627_mabonlm_nobias_spm_c2.nii', '-kernel', 'sphere', '2', '-dilD', '/home/grg/data/AmylStaging/10627/T1/10627_mabonlm_nobias_spm_c2_d2.nii.gz'], ['fsl5.0-fslmaths', '/home/grg/data/AmylStaging/10649/T1/10649_mabonlm_nobias_spm_c2.nii', '-kernel', 'sphere', '2', '-dilD', '/home/grg/data/AmylStaging/10649/T1/10649_mabonlm_nobias_spm_c2_d2.nii.gz'], ['fsl5.0-fslmaths', '/home/grg/data/AmylStaging/10711/T1/10711_mabonlm_nobias_spm_c2.nii', '-kernel', 'sphere', '2', '-dilD', '/home/grg/data/AmylStaging/10711/T1/10711_mabonlm_nobias_spm_c2_d2.nii.gz'], ['fsl5.0-fslmaths', '/home/grg/data/AmylStaging/10949/T1/10949_mabonlm_nobias_spm_c2.nii', '-kernel', 'sphere', '2', '-dilD', '/home/grg/data/AmylStaging/10949/T1/10949_mabonlm_nobias_spm_c2_d2.nii.gz'], ['fsl5.0-fslmaths', '/home/grg/data/AmylStaging/11262/T1/11262_mabonlm_nobias_spm_c2.nii', '-kernel', 'sphere', '2', '-dilD', '/home/grg/data/AmylStaging/11262/T1/11262_mabonlm_nobias_spm_c2_d2.nii.gz'], ['fsl5.0-fslmaths', '/home/grg/data/AmylStaging/11514/T1/11514_mabonlm_nobias_spm_c2.nii', '-kernel', 'sphere', '2', '-dilD', '/home/grg/data/AmylStaging/11514/T1/11514_mabonlm_nobias_spm_c2_d2.nii.gz'], ['fsl5.0-fslmaths', '/home/grg/data/AmylStaging/11745/T1/11745_mabonlm_nobias_spm_c2.nii', '-kernel', 'sphere', '2', '-dilD', '/home/grg/data/AmylStaging/11745/T1/11745_mabonlm_nobias_spm_c2_d2.nii.gz'], ['fsl5.0-fslmaths', '/home/grg/data/AmylStaging/12279/T1/12279_mabonlm_nobias_spm_c2.nii', '-kernel', 'sphere', '2', '-dilD', '/home/grg/data/AmylStaging/12279/T1/12279_mabonlm_nobias_spm_c2_d2.nii.gz'], ['fsl5.0-fslmaths', '/home/grg/data/AmylStaging/12741/T1/12741_mabonlm_nobias_spm_c2.nii', '-kernel', 'sphere', '2', '-dilD', '/home/grg/data/AmylStaging/12741/T1/12741_mabonlm_nobias_spm_c2_d2.nii.gz'], ['fsl5.0-fslmaths', '/home/grg/data/AmylStaging/12991/T1/12991_mabonlm_nobias_spm_c2.nii', '-kernel', 'sphere', '2', '-dilD', '/home/grg/data/AmylStaging/12991/T1/12991_mabonlm_nobias_spm_c2_d2.nii.gz'], ['fsl5.0-fslmaths', '/home/grg/data/AmylStaging/13035/T1/13035_mabonlm_nobias_spm_c2.nii', '-kernel', 'sphere', '2', '-dilD', '/home/grg/data/AmylStaging/13035/T1/13035_mabonlm_nobias_spm_c2_d2.nii.gz'], ['fsl5.0-fslmaths', '/home/grg/data/AmylStaging/13105/T1/13105_mabonlm_nobias_spm_c2.nii', '-kernel', 'sphere', '2', '-dilD', '/home/grg/data/AmylStaging/13105/T1/13105_mabonlm_nobias_spm_c2_d2.nii.gz'], ['fsl5.0-fslmaths', '/home/grg/data/AmylStaging/13107/T1/13107_mabonlm_nobias_spm_c2.nii', '-kernel', 'sphere', '2', '-dilD', '/home/grg/data/AmylStaging/13107/T1/13107_mabonlm_nobias_spm_c2_d2.nii.gz'], ['fsl5.0-fslmaths', '/home/grg/data/AmylStaging/13193/T1/13193_mabonlm_nobias_spm_c2.nii', '-kernel', 'sphere', '2', '-dilD', '/home/grg/data/AmylStaging/13193/T1/13193_mabonlm_nobias_spm_c2_d2.nii.gz'], ['fsl5.0-fslmaths', '/home/grg/data/AmylStaging/13259/T1/13259_mabonlm_nobias_spm_c2.nii', '-kernel', 'sphere', '2', '-dilD', '/home/grg/data/AmylStaging/13259/T1/13259_mabonlm_nobias_spm_c2_d2.nii.gz'], ['fsl5.0-fslmaths', '/home/grg/data/AmylStaging/21136/T1/21136_mabonlm_nobias_spm_c2.nii', '-kernel', 'sphere', '2', '-dilD', '/home/grg/data/AmylStaging/21136/T1/21136_mabonlm_nobias_spm_c2_d2.nii.gz'], ['fsl5.0-fslmaths', '/home/grg/data/AmylStaging/21138/T1/21138_mabonlm_nobias_spm_c2.nii', '-kernel', 'sphere', '2', '-dilD', '/home/grg/data/AmylStaging/21138/T1/21138_mabonlm_nobias_spm_c2_d2.nii.gz'], ['fsl5.0-fslmaths', '/home/grg/data/AmylStaging/44008/T1/44008_mabonlm_nobias_spm_c2.nii', '-kernel', 'sphere', '2', '-dilD', '/home/grg/data/AmylStaging/44008/T1/44008_mabonlm_nobias_spm_c2_d2.nii.gz'], ['fsl5.0-fslmaths', '/home/grg/data/AmylStaging/44301/T1/44301_mabonlm_nobias_spm_c2.nii', '-kernel', 'sphere', '2', '-dilD', '/home/grg/data/AmylStaging/44301/T1/44301_mabonlm_nobias_spm_c2_d2.nii.gz'], ['fsl5.0-fslmaths', '/home/grg/data/AmylStaging/44396/T1/44396_mabonlm_nobias_spm_c2.nii', '-kernel', 'sphere', '2', '-dilD', '/home/grg/data/AmylStaging/44396/T1/44396_mabonlm_nobias_spm_c2_d2.nii.gz'], ['fsl5.0-fslmaths', '/home/grg/data/AmylStaging/66008/T1/66008_mabonlm_nobias_spm_c2.nii', '-kernel', 'sphere', '2', '-dilD', '/home/grg/data/AmylStaging/66008/T1/66008_mabonlm_nobias_spm_c2_d2.nii.gz'], ['fsl5.0-fslmaths', '/home/grg/data/AmylStaging/66027/T1/66027_mabonlm_nobias_spm_c2.nii', '-kernel', 'sphere', '2', '-dilD', '/home/grg/data/AmylStaging/66027/T1/66027_mabonlm_nobias_spm_c2_d2.nii.gz'], ['fsl5.0-fslmaths', '/home/grg/data/AmylStaging/66100/T1/66100_mabonlm_nobias_spm_c2.nii', '-kernel', 'sphere', '2', '-dilD', '/home/grg/data/AmylStaging/66100/T1/66100_mabonlm_nobias_spm_c2_d2.nii.gz'], ['fsl5.0-fslmaths', '/home/grg/data/AmylStaging/66162/T1/66162_mabonlm_nobias_spm_c2.nii', '-kernel', 'sphere', '2', '-dilD', '/home/grg/data/AmylStaging/66162/T1/66162_mabonlm_nobias_spm_c2_d2.nii.gz'], ['fsl5.0-fslmaths', '/home/grg/data/AmylStaging/66301/T1/66301_mabonlm_nobias_spm_c2.nii', '-kernel', 'sphere', '2', '-dilD', '/home/grg/data/AmylStaging/66301/T1/66301_mabonlm_nobias_spm_c2_d2.nii.gz'], ['fsl5.0-fslmaths', '/home/grg/data/AmylStaging/77012/T1/77012_mabonlm_nobias_spm_c2.nii', '-kernel', 'sphere', '2', '-dilD', '/home/grg/data/AmylStaging/77012/T1/77012_mabonlm_nobias_spm_c2_d2.nii.gz'], ['fsl5.0-fslmaths', '/home/grg/data/AmylStaging/77164/T1/77164_mabonlm_nobias_spm_c2.nii', '-kernel', 'sphere', '2', '-dilD', '/home/grg/data/AmylStaging/77164/T1/77164_mabonlm_nobias_spm_c2_d2.nii.gz']]\n"
     ]
    }
   ],
   "source": [
    "#subjects = ['10019']\n",
    "step = 'dilate'\n",
    "a = th.ALFAHelper(directory=dd, jsonfile=json_io)\n",
    "\n",
    "cmds = []\n",
    "for s in subjects:  \n",
    "    cmd = a.parse_command(str(s), step, jsonfile=jf)\n",
    "    cmds.append(cmd)\n",
    " \n",
    "# Writing commands in a textfile\n",
    "fp1 = '/tmp/%s.sh'%step\n",
    "fp2 = '/tmp/%s.workflow'%step\n",
    "w = open(fp1, 'w')\n",
    "for e in cmds:\n",
    "    w.write('%s\\n'%e)\n",
    "w.close()\n",
    "\n",
    "import sys\n",
    "sys.path.append('/home/grg/git/alfa')\n",
    "import create_workflow as cw\n",
    "names = [str(e) for e in subjects]\n",
    "\n",
    "cw.create_workflow(fp1, fp2, names=names, verbose=True)"
   ]
  },
  {
   "cell_type": "markdown",
   "metadata": {},
   "source": [
    "### Motion correction of bvec files"
   ]
  },
  {
   "cell_type": "code",
   "execution_count": 21,
   "metadata": {
    "collapsed": false
   },
   "outputs": [
    {
     "name": "stdout",
     "output_type": "stream",
     "text": [
      "[['fsl5.0-fdt_rotate_bvecs', '/home/grg/data/AmylStaging/10019/DWI/10019.bvec', '/home/grg/data/AmylStaging/10019/DWI/10019_rotcorr.bvec', '/home/grg/data/AmylStaging/10019/DWI/10019_denoised_corrected.ecclog'], ['fsl5.0-fdt_rotate_bvecs', '/home/grg/data/AmylStaging/10044/DWI/10044.bvec', '/home/grg/data/AmylStaging/10044/DWI/10044_rotcorr.bvec', '/home/grg/data/AmylStaging/10044/DWI/10044_denoised_corrected.ecclog'], ['fsl5.0-fdt_rotate_bvecs', '/home/grg/data/AmylStaging/10065/DWI/10065.bvec', '/home/grg/data/AmylStaging/10065/DWI/10065_rotcorr.bvec', '/home/grg/data/AmylStaging/10065/DWI/10065_denoised_corrected.ecclog'], ['fsl5.0-fdt_rotate_bvecs', '/home/grg/data/AmylStaging/10070/DWI/10070.bvec', '/home/grg/data/AmylStaging/10070/DWI/10070_rotcorr.bvec', '/home/grg/data/AmylStaging/10070/DWI/10070_denoised_corrected.ecclog'], ['fsl5.0-fdt_rotate_bvecs', '/home/grg/data/AmylStaging/10137/DWI/10137.bvec', '/home/grg/data/AmylStaging/10137/DWI/10137_rotcorr.bvec', '/home/grg/data/AmylStaging/10137/DWI/10137_denoised_corrected.ecclog'], ['fsl5.0-fdt_rotate_bvecs', '/home/grg/data/AmylStaging/10162/DWI/10162.bvec', '/home/grg/data/AmylStaging/10162/DWI/10162_rotcorr.bvec', '/home/grg/data/AmylStaging/10162/DWI/10162_denoised_corrected.ecclog'], ['fsl5.0-fdt_rotate_bvecs', '/home/grg/data/AmylStaging/10200/DWI/10200.bvec', '/home/grg/data/AmylStaging/10200/DWI/10200_rotcorr.bvec', '/home/grg/data/AmylStaging/10200/DWI/10200_denoised_corrected.ecclog'], ['fsl5.0-fdt_rotate_bvecs', '/home/grg/data/AmylStaging/10225/DWI/10225.bvec', '/home/grg/data/AmylStaging/10225/DWI/10225_rotcorr.bvec', '/home/grg/data/AmylStaging/10225/DWI/10225_denoised_corrected.ecclog'], ['fsl5.0-fdt_rotate_bvecs', '/home/grg/data/AmylStaging/10235/DWI/10235.bvec', '/home/grg/data/AmylStaging/10235/DWI/10235_rotcorr.bvec', '/home/grg/data/AmylStaging/10235/DWI/10235_denoised_corrected.ecclog'], ['fsl5.0-fdt_rotate_bvecs', '/home/grg/data/AmylStaging/10245/DWI/10245.bvec', '/home/grg/data/AmylStaging/10245/DWI/10245_rotcorr.bvec', '/home/grg/data/AmylStaging/10245/DWI/10245_denoised_corrected.ecclog'], ['fsl5.0-fdt_rotate_bvecs', '/home/grg/data/AmylStaging/10319/DWI/10319.bvec', '/home/grg/data/AmylStaging/10319/DWI/10319_rotcorr.bvec', '/home/grg/data/AmylStaging/10319/DWI/10319_denoised_corrected.ecclog'], ['fsl5.0-fdt_rotate_bvecs', '/home/grg/data/AmylStaging/10329/DWI/10329.bvec', '/home/grg/data/AmylStaging/10329/DWI/10329_rotcorr.bvec', '/home/grg/data/AmylStaging/10329/DWI/10329_denoised_corrected.ecclog'], ['fsl5.0-fdt_rotate_bvecs', '/home/grg/data/AmylStaging/10424/DWI/10424.bvec', '/home/grg/data/AmylStaging/10424/DWI/10424_rotcorr.bvec', '/home/grg/data/AmylStaging/10424/DWI/10424_denoised_corrected.ecclog'], ['fsl5.0-fdt_rotate_bvecs', '/home/grg/data/AmylStaging/10515/DWI/10515.bvec', '/home/grg/data/AmylStaging/10515/DWI/10515_rotcorr.bvec', '/home/grg/data/AmylStaging/10515/DWI/10515_denoised_corrected.ecclog'], ['fsl5.0-fdt_rotate_bvecs', '/home/grg/data/AmylStaging/10560/DWI/10560.bvec', '/home/grg/data/AmylStaging/10560/DWI/10560_rotcorr.bvec', '/home/grg/data/AmylStaging/10560/DWI/10560_denoised_corrected.ecclog'], ['fsl5.0-fdt_rotate_bvecs', '/home/grg/data/AmylStaging/10613/DWI/10613.bvec', '/home/grg/data/AmylStaging/10613/DWI/10613_rotcorr.bvec', '/home/grg/data/AmylStaging/10613/DWI/10613_denoised_corrected.ecclog'], ['fsl5.0-fdt_rotate_bvecs', '/home/grg/data/AmylStaging/10627/DWI/10627.bvec', '/home/grg/data/AmylStaging/10627/DWI/10627_rotcorr.bvec', '/home/grg/data/AmylStaging/10627/DWI/10627_denoised_corrected.ecclog'], ['fsl5.0-fdt_rotate_bvecs', '/home/grg/data/AmylStaging/10649/DWI/10649.bvec', '/home/grg/data/AmylStaging/10649/DWI/10649_rotcorr.bvec', '/home/grg/data/AmylStaging/10649/DWI/10649_denoised_corrected.ecclog'], ['fsl5.0-fdt_rotate_bvecs', '/home/grg/data/AmylStaging/10696/DWI/10696.bvec', '/home/grg/data/AmylStaging/10696/DWI/10696_rotcorr.bvec', '/home/grg/data/AmylStaging/10696/DWI/10696_denoised_corrected.ecclog'], ['fsl5.0-fdt_rotate_bvecs', '/home/grg/data/AmylStaging/10711/DWI/10711.bvec', '/home/grg/data/AmylStaging/10711/DWI/10711_rotcorr.bvec', '/home/grg/data/AmylStaging/10711/DWI/10711_denoised_corrected.ecclog'], ['fsl5.0-fdt_rotate_bvecs', '/home/grg/data/AmylStaging/10724/DWI/10724.bvec', '/home/grg/data/AmylStaging/10724/DWI/10724_rotcorr.bvec', '/home/grg/data/AmylStaging/10724/DWI/10724_denoised_corrected.ecclog'], ['fsl5.0-fdt_rotate_bvecs', '/home/grg/data/AmylStaging/10779/DWI/10779.bvec', '/home/grg/data/AmylStaging/10779/DWI/10779_rotcorr.bvec', '/home/grg/data/AmylStaging/10779/DWI/10779_denoised_corrected.ecclog'], ['fsl5.0-fdt_rotate_bvecs', '/home/grg/data/AmylStaging/10810/DWI/10810.bvec', '/home/grg/data/AmylStaging/10810/DWI/10810_rotcorr.bvec', '/home/grg/data/AmylStaging/10810/DWI/10810_denoised_corrected.ecclog'], ['fsl5.0-fdt_rotate_bvecs', '/home/grg/data/AmylStaging/10881/DWI/10881.bvec', '/home/grg/data/AmylStaging/10881/DWI/10881_rotcorr.bvec', '/home/grg/data/AmylStaging/10881/DWI/10881_denoised_corrected.ecclog'], ['fsl5.0-fdt_rotate_bvecs', '/home/grg/data/AmylStaging/10949/DWI/10949.bvec', '/home/grg/data/AmylStaging/10949/DWI/10949_rotcorr.bvec', '/home/grg/data/AmylStaging/10949/DWI/10949_denoised_corrected.ecclog'], ['fsl5.0-fdt_rotate_bvecs', '/home/grg/data/AmylStaging/11042/DWI/11042.bvec', '/home/grg/data/AmylStaging/11042/DWI/11042_rotcorr.bvec', '/home/grg/data/AmylStaging/11042/DWI/11042_denoised_corrected.ecclog'], ['fsl5.0-fdt_rotate_bvecs', '/home/grg/data/AmylStaging/11055/DWI/11055.bvec', '/home/grg/data/AmylStaging/11055/DWI/11055_rotcorr.bvec', '/home/grg/data/AmylStaging/11055/DWI/11055_denoised_corrected.ecclog'], ['fsl5.0-fdt_rotate_bvecs', '/home/grg/data/AmylStaging/11111/DWI/11111.bvec', '/home/grg/data/AmylStaging/11111/DWI/11111_rotcorr.bvec', '/home/grg/data/AmylStaging/11111/DWI/11111_denoised_corrected.ecclog'], ['fsl5.0-fdt_rotate_bvecs', '/home/grg/data/AmylStaging/11114/DWI/11114.bvec', '/home/grg/data/AmylStaging/11114/DWI/11114_rotcorr.bvec', '/home/grg/data/AmylStaging/11114/DWI/11114_denoised_corrected.ecclog'], ['fsl5.0-fdt_rotate_bvecs', '/home/grg/data/AmylStaging/11125/DWI/11125.bvec', '/home/grg/data/AmylStaging/11125/DWI/11125_rotcorr.bvec', '/home/grg/data/AmylStaging/11125/DWI/11125_denoised_corrected.ecclog'], ['fsl5.0-fdt_rotate_bvecs', '/home/grg/data/AmylStaging/11127/DWI/11127.bvec', '/home/grg/data/AmylStaging/11127/DWI/11127_rotcorr.bvec', '/home/grg/data/AmylStaging/11127/DWI/11127_denoised_corrected.ecclog'], ['fsl5.0-fdt_rotate_bvecs', '/home/grg/data/AmylStaging/11132/DWI/11132.bvec', '/home/grg/data/AmylStaging/11132/DWI/11132_rotcorr.bvec', '/home/grg/data/AmylStaging/11132/DWI/11132_denoised_corrected.ecclog'], ['fsl5.0-fdt_rotate_bvecs', '/home/grg/data/AmylStaging/11248/DWI/11248.bvec', '/home/grg/data/AmylStaging/11248/DWI/11248_rotcorr.bvec', '/home/grg/data/AmylStaging/11248/DWI/11248_denoised_corrected.ecclog'], ['fsl5.0-fdt_rotate_bvecs', '/home/grg/data/AmylStaging/11257/DWI/11257.bvec', '/home/grg/data/AmylStaging/11257/DWI/11257_rotcorr.bvec', '/home/grg/data/AmylStaging/11257/DWI/11257_denoised_corrected.ecclog'], ['fsl5.0-fdt_rotate_bvecs', '/home/grg/data/AmylStaging/11262/DWI/11262.bvec', '/home/grg/data/AmylStaging/11262/DWI/11262_rotcorr.bvec', '/home/grg/data/AmylStaging/11262/DWI/11262_denoised_corrected.ecclog'], ['fsl5.0-fdt_rotate_bvecs', '/home/grg/data/AmylStaging/11273/DWI/11273.bvec', '/home/grg/data/AmylStaging/11273/DWI/11273_rotcorr.bvec', '/home/grg/data/AmylStaging/11273/DWI/11273_denoised_corrected.ecclog'], ['fsl5.0-fdt_rotate_bvecs', '/home/grg/data/AmylStaging/11291/DWI/11291.bvec', '/home/grg/data/AmylStaging/11291/DWI/11291_rotcorr.bvec', '/home/grg/data/AmylStaging/11291/DWI/11291_denoised_corrected.ecclog'], ['fsl5.0-fdt_rotate_bvecs', '/home/grg/data/AmylStaging/11387/DWI/11387.bvec', '/home/grg/data/AmylStaging/11387/DWI/11387_rotcorr.bvec', '/home/grg/data/AmylStaging/11387/DWI/11387_denoised_corrected.ecclog'], ['fsl5.0-fdt_rotate_bvecs', '/home/grg/data/AmylStaging/11397/DWI/11397.bvec', '/home/grg/data/AmylStaging/11397/DWI/11397_rotcorr.bvec', '/home/grg/data/AmylStaging/11397/DWI/11397_denoised_corrected.ecclog'], ['fsl5.0-fdt_rotate_bvecs', '/home/grg/data/AmylStaging/11478/DWI/11478.bvec', '/home/grg/data/AmylStaging/11478/DWI/11478_rotcorr.bvec', '/home/grg/data/AmylStaging/11478/DWI/11478_denoised_corrected.ecclog'], ['fsl5.0-fdt_rotate_bvecs', '/home/grg/data/AmylStaging/11514/DWI/11514.bvec', '/home/grg/data/AmylStaging/11514/DWI/11514_rotcorr.bvec', '/home/grg/data/AmylStaging/11514/DWI/11514_denoised_corrected.ecclog'], ['fsl5.0-fdt_rotate_bvecs', '/home/grg/data/AmylStaging/11540/DWI/11540.bvec', '/home/grg/data/AmylStaging/11540/DWI/11540_rotcorr.bvec', '/home/grg/data/AmylStaging/11540/DWI/11540_denoised_corrected.ecclog'], ['fsl5.0-fdt_rotate_bvecs', '/home/grg/data/AmylStaging/11587/DWI/11587.bvec', '/home/grg/data/AmylStaging/11587/DWI/11587_rotcorr.bvec', '/home/grg/data/AmylStaging/11587/DWI/11587_denoised_corrected.ecclog'], ['fsl5.0-fdt_rotate_bvecs', '/home/grg/data/AmylStaging/11593/DWI/11593.bvec', '/home/grg/data/AmylStaging/11593/DWI/11593_rotcorr.bvec', '/home/grg/data/AmylStaging/11593/DWI/11593_denoised_corrected.ecclog'], ['fsl5.0-fdt_rotate_bvecs', '/home/grg/data/AmylStaging/11656/DWI/11656.bvec', '/home/grg/data/AmylStaging/11656/DWI/11656_rotcorr.bvec', '/home/grg/data/AmylStaging/11656/DWI/11656_denoised_corrected.ecclog'], ['fsl5.0-fdt_rotate_bvecs', '/home/grg/data/AmylStaging/11711/DWI/11711.bvec', '/home/grg/data/AmylStaging/11711/DWI/11711_rotcorr.bvec', '/home/grg/data/AmylStaging/11711/DWI/11711_denoised_corrected.ecclog'], ['fsl5.0-fdt_rotate_bvecs', '/home/grg/data/AmylStaging/11742/DWI/11742.bvec', '/home/grg/data/AmylStaging/11742/DWI/11742_rotcorr.bvec', '/home/grg/data/AmylStaging/11742/DWI/11742_denoised_corrected.ecclog'], ['fsl5.0-fdt_rotate_bvecs', '/home/grg/data/AmylStaging/11745/DWI/11745.bvec', '/home/grg/data/AmylStaging/11745/DWI/11745_rotcorr.bvec', '/home/grg/data/AmylStaging/11745/DWI/11745_denoised_corrected.ecclog'], ['fsl5.0-fdt_rotate_bvecs', '/home/grg/data/AmylStaging/11747/DWI/11747.bvec', '/home/grg/data/AmylStaging/11747/DWI/11747_rotcorr.bvec', '/home/grg/data/AmylStaging/11747/DWI/11747_denoised_corrected.ecclog'], ['fsl5.0-fdt_rotate_bvecs', '/home/grg/data/AmylStaging/11829/DWI/11829.bvec', '/home/grg/data/AmylStaging/11829/DWI/11829_rotcorr.bvec', '/home/grg/data/AmylStaging/11829/DWI/11829_denoised_corrected.ecclog'], ['fsl5.0-fdt_rotate_bvecs', '/home/grg/data/AmylStaging/11866/DWI/11866.bvec', '/home/grg/data/AmylStaging/11866/DWI/11866_rotcorr.bvec', '/home/grg/data/AmylStaging/11866/DWI/11866_denoised_corrected.ecclog'], ['fsl5.0-fdt_rotate_bvecs', '/home/grg/data/AmylStaging/12118/DWI/12118.bvec', '/home/grg/data/AmylStaging/12118/DWI/12118_rotcorr.bvec', '/home/grg/data/AmylStaging/12118/DWI/12118_denoised_corrected.ecclog'], ['fsl5.0-fdt_rotate_bvecs', '/home/grg/data/AmylStaging/12184/DWI/12184.bvec', '/home/grg/data/AmylStaging/12184/DWI/12184_rotcorr.bvec', '/home/grg/data/AmylStaging/12184/DWI/12184_denoised_corrected.ecclog'], ['fsl5.0-fdt_rotate_bvecs', '/home/grg/data/AmylStaging/12269/DWI/12269.bvec', '/home/grg/data/AmylStaging/12269/DWI/12269_rotcorr.bvec', '/home/grg/data/AmylStaging/12269/DWI/12269_denoised_corrected.ecclog'], ['fsl5.0-fdt_rotate_bvecs', '/home/grg/data/AmylStaging/12279/DWI/12279.bvec', '/home/grg/data/AmylStaging/12279/DWI/12279_rotcorr.bvec', '/home/grg/data/AmylStaging/12279/DWI/12279_denoised_corrected.ecclog'], ['fsl5.0-fdt_rotate_bvecs', '/home/grg/data/AmylStaging/12304/DWI/12304.bvec', '/home/grg/data/AmylStaging/12304/DWI/12304_rotcorr.bvec', '/home/grg/data/AmylStaging/12304/DWI/12304_denoised_corrected.ecclog'], ['fsl5.0-fdt_rotate_bvecs', '/home/grg/data/AmylStaging/12308/DWI/12308.bvec', '/home/grg/data/AmylStaging/12308/DWI/12308_rotcorr.bvec', '/home/grg/data/AmylStaging/12308/DWI/12308_denoised_corrected.ecclog'], ['fsl5.0-fdt_rotate_bvecs', '/home/grg/data/AmylStaging/12627/DWI/12627.bvec', '/home/grg/data/AmylStaging/12627/DWI/12627_rotcorr.bvec', '/home/grg/data/AmylStaging/12627/DWI/12627_denoised_corrected.ecclog'], ['fsl5.0-fdt_rotate_bvecs', '/home/grg/data/AmylStaging/12741/DWI/12741.bvec', '/home/grg/data/AmylStaging/12741/DWI/12741_rotcorr.bvec', '/home/grg/data/AmylStaging/12741/DWI/12741_denoised_corrected.ecclog'], ['fsl5.0-fdt_rotate_bvecs', '/home/grg/data/AmylStaging/12769/DWI/12769.bvec', '/home/grg/data/AmylStaging/12769/DWI/12769_rotcorr.bvec', '/home/grg/data/AmylStaging/12769/DWI/12769_denoised_corrected.ecclog'], ['fsl5.0-fdt_rotate_bvecs', '/home/grg/data/AmylStaging/12778/DWI/12778.bvec', '/home/grg/data/AmylStaging/12778/DWI/12778_rotcorr.bvec', '/home/grg/data/AmylStaging/12778/DWI/12778_denoised_corrected.ecclog'], ['fsl5.0-fdt_rotate_bvecs', '/home/grg/data/AmylStaging/12783/DWI/12783.bvec', '/home/grg/data/AmylStaging/12783/DWI/12783_rotcorr.bvec', '/home/grg/data/AmylStaging/12783/DWI/12783_denoised_corrected.ecclog'], ['fsl5.0-fdt_rotate_bvecs', '/home/grg/data/AmylStaging/12810/DWI/12810.bvec', '/home/grg/data/AmylStaging/12810/DWI/12810_rotcorr.bvec', '/home/grg/data/AmylStaging/12810/DWI/12810_denoised_corrected.ecclog'], ['fsl5.0-fdt_rotate_bvecs', '/home/grg/data/AmylStaging/12991/DWI/12991.bvec', '/home/grg/data/AmylStaging/12991/DWI/12991_rotcorr.bvec', '/home/grg/data/AmylStaging/12991/DWI/12991_denoised_corrected.ecclog'], ['fsl5.0-fdt_rotate_bvecs', '/home/grg/data/AmylStaging/13035/DWI/13035.bvec', '/home/grg/data/AmylStaging/13035/DWI/13035_rotcorr.bvec', '/home/grg/data/AmylStaging/13035/DWI/13035_denoised_corrected.ecclog'], ['fsl5.0-fdt_rotate_bvecs', '/home/grg/data/AmylStaging/13041/DWI/13041.bvec', '/home/grg/data/AmylStaging/13041/DWI/13041_rotcorr.bvec', '/home/grg/data/AmylStaging/13041/DWI/13041_denoised_corrected.ecclog'], ['fsl5.0-fdt_rotate_bvecs', '/home/grg/data/AmylStaging/13059/DWI/13059.bvec', '/home/grg/data/AmylStaging/13059/DWI/13059_rotcorr.bvec', '/home/grg/data/AmylStaging/13059/DWI/13059_denoised_corrected.ecclog'], ['fsl5.0-fdt_rotate_bvecs', '/home/grg/data/AmylStaging/13105/DWI/13105.bvec', '/home/grg/data/AmylStaging/13105/DWI/13105_rotcorr.bvec', '/home/grg/data/AmylStaging/13105/DWI/13105_denoised_corrected.ecclog'], ['fsl5.0-fdt_rotate_bvecs', '/home/grg/data/AmylStaging/13107/DWI/13107.bvec', '/home/grg/data/AmylStaging/13107/DWI/13107_rotcorr.bvec', '/home/grg/data/AmylStaging/13107/DWI/13107_denoised_corrected.ecclog'], ['fsl5.0-fdt_rotate_bvecs', '/home/grg/data/AmylStaging/13166/DWI/13166.bvec', '/home/grg/data/AmylStaging/13166/DWI/13166_rotcorr.bvec', '/home/grg/data/AmylStaging/13166/DWI/13166_denoised_corrected.ecclog'], ['fsl5.0-fdt_rotate_bvecs', '/home/grg/data/AmylStaging/13193/DWI/13193.bvec', '/home/grg/data/AmylStaging/13193/DWI/13193_rotcorr.bvec', '/home/grg/data/AmylStaging/13193/DWI/13193_denoised_corrected.ecclog'], ['fsl5.0-fdt_rotate_bvecs', '/home/grg/data/AmylStaging/13244/DWI/13244.bvec', '/home/grg/data/AmylStaging/13244/DWI/13244_rotcorr.bvec', '/home/grg/data/AmylStaging/13244/DWI/13244_denoised_corrected.ecclog'], ['fsl5.0-fdt_rotate_bvecs', '/home/grg/data/AmylStaging/13259/DWI/13259.bvec', '/home/grg/data/AmylStaging/13259/DWI/13259_rotcorr.bvec', '/home/grg/data/AmylStaging/13259/DWI/13259_denoised_corrected.ecclog'], ['fsl5.0-fdt_rotate_bvecs', '/home/grg/data/AmylStaging/21136/DWI/21136.bvec', '/home/grg/data/AmylStaging/21136/DWI/21136_rotcorr.bvec', '/home/grg/data/AmylStaging/21136/DWI/21136_denoised_corrected.ecclog'], ['fsl5.0-fdt_rotate_bvecs', '/home/grg/data/AmylStaging/21138/DWI/21138.bvec', '/home/grg/data/AmylStaging/21138/DWI/21138_rotcorr.bvec', '/home/grg/data/AmylStaging/21138/DWI/21138_denoised_corrected.ecclog'], ['fsl5.0-fdt_rotate_bvecs', '/home/grg/data/AmylStaging/21156/DWI/21156.bvec', '/home/grg/data/AmylStaging/21156/DWI/21156_rotcorr.bvec', '/home/grg/data/AmylStaging/21156/DWI/21156_denoised_corrected.ecclog'], ['fsl5.0-fdt_rotate_bvecs', '/home/grg/data/AmylStaging/44008/DWI/44008.bvec', '/home/grg/data/AmylStaging/44008/DWI/44008_rotcorr.bvec', '/home/grg/data/AmylStaging/44008/DWI/44008_denoised_corrected.ecclog'], ['fsl5.0-fdt_rotate_bvecs', '/home/grg/data/AmylStaging/44158/DWI/44158.bvec', '/home/grg/data/AmylStaging/44158/DWI/44158_rotcorr.bvec', '/home/grg/data/AmylStaging/44158/DWI/44158_denoised_corrected.ecclog'], ['fsl5.0-fdt_rotate_bvecs', '/home/grg/data/AmylStaging/44214/DWI/44214.bvec', '/home/grg/data/AmylStaging/44214/DWI/44214_rotcorr.bvec', '/home/grg/data/AmylStaging/44214/DWI/44214_denoised_corrected.ecclog'], ['fsl5.0-fdt_rotate_bvecs', '/home/grg/data/AmylStaging/44231/DWI/44231.bvec', '/home/grg/data/AmylStaging/44231/DWI/44231_rotcorr.bvec', '/home/grg/data/AmylStaging/44231/DWI/44231_denoised_corrected.ecclog'], ['fsl5.0-fdt_rotate_bvecs', '/home/grg/data/AmylStaging/44301/DWI/44301.bvec', '/home/grg/data/AmylStaging/44301/DWI/44301_rotcorr.bvec', '/home/grg/data/AmylStaging/44301/DWI/44301_denoised_corrected.ecclog'], ['fsl5.0-fdt_rotate_bvecs', '/home/grg/data/AmylStaging/44304/DWI/44304.bvec', '/home/grg/data/AmylStaging/44304/DWI/44304_rotcorr.bvec', '/home/grg/data/AmylStaging/44304/DWI/44304_denoised_corrected.ecclog'], ['fsl5.0-fdt_rotate_bvecs', '/home/grg/data/AmylStaging/44329/DWI/44329.bvec', '/home/grg/data/AmylStaging/44329/DWI/44329_rotcorr.bvec', '/home/grg/data/AmylStaging/44329/DWI/44329_denoised_corrected.ecclog'], ['fsl5.0-fdt_rotate_bvecs', '/home/grg/data/AmylStaging/44349/DWI/44349.bvec', '/home/grg/data/AmylStaging/44349/DWI/44349_rotcorr.bvec', '/home/grg/data/AmylStaging/44349/DWI/44349_denoised_corrected.ecclog'], ['fsl5.0-fdt_rotate_bvecs', '/home/grg/data/AmylStaging/44363/DWI/44363.bvec', '/home/grg/data/AmylStaging/44363/DWI/44363_rotcorr.bvec', '/home/grg/data/AmylStaging/44363/DWI/44363_denoised_corrected.ecclog'], ['fsl5.0-fdt_rotate_bvecs', '/home/grg/data/AmylStaging/44396/DWI/44396.bvec', '/home/grg/data/AmylStaging/44396/DWI/44396_rotcorr.bvec', '/home/grg/data/AmylStaging/44396/DWI/44396_denoised_corrected.ecclog'], ['fsl5.0-fdt_rotate_bvecs', '/home/grg/data/AmylStaging/44660/DWI/44660.bvec', '/home/grg/data/AmylStaging/44660/DWI/44660_rotcorr.bvec', '/home/grg/data/AmylStaging/44660/DWI/44660_denoised_corrected.ecclog'], ['fsl5.0-fdt_rotate_bvecs', '/home/grg/data/AmylStaging/55038/DWI/55038.bvec', '/home/grg/data/AmylStaging/55038/DWI/55038_rotcorr.bvec', '/home/grg/data/AmylStaging/55038/DWI/55038_denoised_corrected.ecclog'], ['fsl5.0-fdt_rotate_bvecs', '/home/grg/data/AmylStaging/55210/DWI/55210.bvec', '/home/grg/data/AmylStaging/55210/DWI/55210_rotcorr.bvec', '/home/grg/data/AmylStaging/55210/DWI/55210_denoised_corrected.ecclog'], ['fsl5.0-fdt_rotate_bvecs', '/home/grg/data/AmylStaging/55607/DWI/55607.bvec', '/home/grg/data/AmylStaging/55607/DWI/55607_rotcorr.bvec', '/home/grg/data/AmylStaging/55607/DWI/55607_denoised_corrected.ecclog'], ['fsl5.0-fdt_rotate_bvecs', '/home/grg/data/AmylStaging/55630/DWI/55630.bvec', '/home/grg/data/AmylStaging/55630/DWI/55630_rotcorr.bvec', '/home/grg/data/AmylStaging/55630/DWI/55630_denoised_corrected.ecclog'], ['fsl5.0-fdt_rotate_bvecs', '/home/grg/data/AmylStaging/55777/DWI/55777.bvec', '/home/grg/data/AmylStaging/55777/DWI/55777_rotcorr.bvec', '/home/grg/data/AmylStaging/55777/DWI/55777_denoised_corrected.ecclog'], ['fsl5.0-fdt_rotate_bvecs', '/home/grg/data/AmylStaging/55797/DWI/55797.bvec', '/home/grg/data/AmylStaging/55797/DWI/55797_rotcorr.bvec', '/home/grg/data/AmylStaging/55797/DWI/55797_denoised_corrected.ecclog'], ['fsl5.0-fdt_rotate_bvecs', '/home/grg/data/AmylStaging/55834/DWI/55834.bvec', '/home/grg/data/AmylStaging/55834/DWI/55834_rotcorr.bvec', '/home/grg/data/AmylStaging/55834/DWI/55834_denoised_corrected.ecclog'], ['fsl5.0-fdt_rotate_bvecs', '/home/grg/data/AmylStaging/55854/DWI/55854.bvec', '/home/grg/data/AmylStaging/55854/DWI/55854_rotcorr.bvec', '/home/grg/data/AmylStaging/55854/DWI/55854_denoised_corrected.ecclog'], ['fsl5.0-fdt_rotate_bvecs', '/home/grg/data/AmylStaging/66008/DWI/66008.bvec', '/home/grg/data/AmylStaging/66008/DWI/66008_rotcorr.bvec', '/home/grg/data/AmylStaging/66008/DWI/66008_denoised_corrected.ecclog'], ['fsl5.0-fdt_rotate_bvecs', '/home/grg/data/AmylStaging/66027/DWI/66027.bvec', '/home/grg/data/AmylStaging/66027/DWI/66027_rotcorr.bvec', '/home/grg/data/AmylStaging/66027/DWI/66027_denoised_corrected.ecclog'], ['fsl5.0-fdt_rotate_bvecs', '/home/grg/data/AmylStaging/66045/DWI/66045.bvec', '/home/grg/data/AmylStaging/66045/DWI/66045_rotcorr.bvec', '/home/grg/data/AmylStaging/66045/DWI/66045_denoised_corrected.ecclog'], ['fsl5.0-fdt_rotate_bvecs', '/home/grg/data/AmylStaging/66067/DWI/66067.bvec', '/home/grg/data/AmylStaging/66067/DWI/66067_rotcorr.bvec', '/home/grg/data/AmylStaging/66067/DWI/66067_denoised_corrected.ecclog'], ['fsl5.0-fdt_rotate_bvecs', '/home/grg/data/AmylStaging/66100/DWI/66100.bvec', '/home/grg/data/AmylStaging/66100/DWI/66100_rotcorr.bvec', '/home/grg/data/AmylStaging/66100/DWI/66100_denoised_corrected.ecclog'], ['fsl5.0-fdt_rotate_bvecs', '/home/grg/data/AmylStaging/66162/DWI/66162.bvec', '/home/grg/data/AmylStaging/66162/DWI/66162_rotcorr.bvec', '/home/grg/data/AmylStaging/66162/DWI/66162_denoised_corrected.ecclog'], ['fsl5.0-fdt_rotate_bvecs', '/home/grg/data/AmylStaging/66224/DWI/66224.bvec', '/home/grg/data/AmylStaging/66224/DWI/66224_rotcorr.bvec', '/home/grg/data/AmylStaging/66224/DWI/66224_denoised_corrected.ecclog'], ['fsl5.0-fdt_rotate_bvecs', '/home/grg/data/AmylStaging/66237/DWI/66237.bvec', '/home/grg/data/AmylStaging/66237/DWI/66237_rotcorr.bvec', '/home/grg/data/AmylStaging/66237/DWI/66237_denoised_corrected.ecclog'], ['fsl5.0-fdt_rotate_bvecs', '/home/grg/data/AmylStaging/66249/DWI/66249.bvec', '/home/grg/data/AmylStaging/66249/DWI/66249_rotcorr.bvec', '/home/grg/data/AmylStaging/66249/DWI/66249_denoised_corrected.ecclog'], ['fsl5.0-fdt_rotate_bvecs', '/home/grg/data/AmylStaging/66296/DWI/66296.bvec', '/home/grg/data/AmylStaging/66296/DWI/66296_rotcorr.bvec', '/home/grg/data/AmylStaging/66296/DWI/66296_denoised_corrected.ecclog'], ['fsl5.0-fdt_rotate_bvecs', '/home/grg/data/AmylStaging/66301/DWI/66301.bvec', '/home/grg/data/AmylStaging/66301/DWI/66301_rotcorr.bvec', '/home/grg/data/AmylStaging/66301/DWI/66301_denoised_corrected.ecclog'], ['fsl5.0-fdt_rotate_bvecs', '/home/grg/data/AmylStaging/66488/DWI/66488.bvec', '/home/grg/data/AmylStaging/66488/DWI/66488_rotcorr.bvec', '/home/grg/data/AmylStaging/66488/DWI/66488_denoised_corrected.ecclog'], ['fsl5.0-fdt_rotate_bvecs', '/home/grg/data/AmylStaging/66489/DWI/66489.bvec', '/home/grg/data/AmylStaging/66489/DWI/66489_rotcorr.bvec', '/home/grg/data/AmylStaging/66489/DWI/66489_denoised_corrected.ecclog'], ['fsl5.0-fdt_rotate_bvecs', '/home/grg/data/AmylStaging/77012/DWI/77012.bvec', '/home/grg/data/AmylStaging/77012/DWI/77012_rotcorr.bvec', '/home/grg/data/AmylStaging/77012/DWI/77012_denoised_corrected.ecclog'], ['fsl5.0-fdt_rotate_bvecs', '/home/grg/data/AmylStaging/77101/DWI/77101.bvec', '/home/grg/data/AmylStaging/77101/DWI/77101_rotcorr.bvec', '/home/grg/data/AmylStaging/77101/DWI/77101_denoised_corrected.ecclog'], ['fsl5.0-fdt_rotate_bvecs', '/home/grg/data/AmylStaging/77104/DWI/77104.bvec', '/home/grg/data/AmylStaging/77104/DWI/77104_rotcorr.bvec', '/home/grg/data/AmylStaging/77104/DWI/77104_denoised_corrected.ecclog'], ['fsl5.0-fdt_rotate_bvecs', '/home/grg/data/AmylStaging/77164/DWI/77164.bvec', '/home/grg/data/AmylStaging/77164/DWI/77164_rotcorr.bvec', '/home/grg/data/AmylStaging/77164/DWI/77164_denoised_corrected.ecclog'], ['fsl5.0-fdt_rotate_bvecs', '/home/grg/data/AmylStaging/77224/DWI/77224.bvec', '/home/grg/data/AmylStaging/77224/DWI/77224_rotcorr.bvec', '/home/grg/data/AmylStaging/77224/DWI/77224_denoised_corrected.ecclog'], ['fsl5.0-fdt_rotate_bvecs', '/home/grg/data/AmylStaging/77341/DWI/77341.bvec', '/home/grg/data/AmylStaging/77341/DWI/77341_rotcorr.bvec', '/home/grg/data/AmylStaging/77341/DWI/77341_denoised_corrected.ecclog']]\n"
     ]
    }
   ],
   "source": [
    "step = 'rotcorr'\n",
    "a = th.ALFAHelper(directory=dd, jsonfile=json_io)\n",
    "\n",
    "cmds = []\n",
    "names = []\n",
    "for s in subjects:\n",
    "    names.append(s)\n",
    "    cmd = a.parse_command(str(s), step, jsonfile=jf)\n",
    "    cmds.append(cmd)\n",
    " \n",
    "# Writing commands in a textfile\n",
    "fp1 = '/tmp/%s.sh'%step\n",
    "fp2 = '/tmp/%s.workflow'%step\n",
    "w = open(fp1, 'w')\n",
    "for e in cmds:\n",
    "    w.write('%s\\n'%e)\n",
    "w.close()\n",
    "\n",
    "import sys\n",
    "sys.path.append('/home/grg/git/alfa')\n",
    "import create_workflow as cw\n",
    "\n",
    "cw.create_workflow(fp1, fp2, names=names, verbose=True)"
   ]
  },
  {
   "cell_type": "code",
   "execution_count": 3,
   "metadata": {
    "collapsed": false
   },
   "outputs": [],
   "source": [
    "more /tmp/rotcorr.sh"
   ]
  },
  {
   "cell_type": "code",
   "execution_count": null,
   "metadata": {
    "collapsed": true
   },
   "outputs": [],
   "source": []
  }
 ],
 "metadata": {
  "kernelspec": {
   "display_name": "Python 2",
   "language": "python",
   "name": "python2"
  },
  "language_info": {
   "codemirror_mode": {
    "name": "ipython",
    "version": 2
   },
   "file_extension": ".py",
   "mimetype": "text/x-python",
   "name": "python",
   "nbconvert_exporter": "python",
   "pygments_lexer": "ipython2",
   "version": "2.7.11+"
  }
 },
 "nbformat": 4,
 "nbformat_minor": 1
}
