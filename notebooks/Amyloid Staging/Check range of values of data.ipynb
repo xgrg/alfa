{
 "cells": [
  {
   "cell_type": "code",
   "execution_count": 28,
   "metadata": {
    "collapsed": false
   },
   "outputs": [],
   "source": [
    "import os.path as osp\n",
    "from glob import glob\n",
    "import nibabel as nib\n",
    "import numpy as np\n",
    "dd = '/home/grg/data/AmylStaging'\n",
    "errors = []\n",
    "dwi = sorted(glob(osp.join(dd, '*', 'DWI', '?????.nii')))\n",
    "bvec = sorted(glob(osp.join(dd, '*', 'DWI', '?????.bvec')))\n",
    "bval = sorted(glob(osp.join(dd, '*', 'DWI', '?????.bval')))"
   ]
  },
  {
   "cell_type": "code",
   "execution_count": 33,
   "metadata": {
    "collapsed": false
   },
   "outputs": [
    {
     "name": "stdout",
     "output_type": "stream",
     "text": [
      "('/home/grg/data/AmylStaging/10019/DWI/10019.nii', 198.98202514648438, 191420.70819091797, 72, 72, 1, 1)\n",
      "('/home/grg/data/AmylStaging/10044/DWI/10044.nii', 198.98202514648438, 191420.70819091797, 72, 72, 1, 1)\n",
      "('/home/grg/data/AmylStaging/10065/DWI/10065.nii', 198.98202514648438, 191420.70819091797, 1, 1, 72, 72)\n",
      "('/home/grg/data/AmylStaging/10070/DWI/10070.nii', 198.98202514648438, 191420.70819091797, 72, 72, 1, 1)\n",
      "('/home/grg/data/AmylStaging/10137/DWI/10137.nii', 198.98202514648438, 191420.70819091797, 72, 72, 1, 1)\n",
      "('/home/grg/data/AmylStaging/10162/DWI/10162.nii', 198.98202514648438, 191420.70819091797, 72, 72, 1, 1)\n",
      "('/home/grg/data/AmylStaging/10200/DWI/10200.nii', 198.98202514648438, 191420.70819091797, 72, 72, 1, 1)\n",
      "('/home/grg/data/AmylStaging/10225/DWI/10225.nii', 198.98202514648438, 191420.70819091797, 72, 72, 1, 1)\n",
      "('/home/grg/data/AmylStaging/10235/DWI/10235.nii', 198.98202514648438, 191420.70819091797, 72, 72, 1, 1)\n",
      "('/home/grg/data/AmylStaging/10245/DWI/10245.nii', 198.98202514648438, 191420.70819091797, 72, 72, 1, 1)\n",
      "('/home/grg/data/AmylStaging/10319/DWI/10319.nii', 198.98202514648438, 191420.70819091797, 72, 72, 1, 1)\n",
      "('/home/grg/data/AmylStaging/10329/DWI/10329.nii', 198.98202514648438, 191420.70819091797, 72, 72, 1, 1)\n",
      "('/home/grg/data/AmylStaging/10424/DWI/10424.nii', 198.98202514648438, 191420.70819091797, 72, 72, 1, 1)\n",
      "('/home/grg/data/AmylStaging/10515/DWI/10515.nii', 198.98202514648438, 191420.70819091797, 1, 1, 72, 72)\n",
      "('/home/grg/data/AmylStaging/10560/DWI/10560.nii', 198.98202514648438, 191420.70819091797, 72, 72, 1, 1)\n",
      "('/home/grg/data/AmylStaging/10613/DWI/10613.nii', 198.98202514648438, 191420.70819091797, 1, 1, 72, 72)\n",
      "('/home/grg/data/AmylStaging/10627/DWI/10627.nii', 198.98202514648438, 191420.70819091797, 72, 72, 1, 1)\n",
      "('/home/grg/data/AmylStaging/10649/DWI/10649.nii', 198.98202514648438, 191420.70819091797, 72, 72, 1, 1)\n",
      "('/home/grg/data/AmylStaging/10696/DWI/10696.nii', 198.98202514648438, 191420.70819091797, 72, 72, 1, 1)\n",
      "('/home/grg/data/AmylStaging/10711/DWI/10711.nii', 198.98202514648438, 191420.70819091797, 72, 72, 1, 1)\n",
      "('/home/grg/data/AmylStaging/10724/DWI/10724.nii', 198.98202514648438, 191420.70819091797, 72, 72, 1, 1)\n",
      "('/home/grg/data/AmylStaging/10779/DWI/10779.nii', 198.98202514648438, 191420.70819091797, 72, 72, 1, 1)\n",
      "('/home/grg/data/AmylStaging/10810/DWI/10810.nii', 198.98202514648438, 191420.70819091797, 72, 72, 1, 1)\n",
      "('/home/grg/data/AmylStaging/10881/DWI/10881.nii', 198.98202514648438, 191420.70819091797, 72, 72, 1, 1)\n",
      "('/home/grg/data/AmylStaging/10949/DWI/10949.nii', 198.98202514648438, 191420.70819091797, 1, 1, 72, 72)\n",
      "('/home/grg/data/AmylStaging/11042/DWI/11042.nii', 198.98202514648438, 191420.70819091797, 72, 72, 1, 1)\n",
      "('/home/grg/data/AmylStaging/11055/DWI/11055.nii', 198.98202514648438, 191420.70819091797, 72, 72, 1, 1)\n",
      "('/home/grg/data/AmylStaging/11111/DWI/11111.nii', 198.98202514648438, 191420.70819091797, 72, 72, 1, 1)\n",
      "('/home/grg/data/AmylStaging/11114/DWI/11114.nii', 198.98202514648438, 191420.70819091797, 1, 1, 72, 72)\n",
      "('/home/grg/data/AmylStaging/11125/DWI/11125.nii', 198.98202514648438, 191420.70819091797, 72, 72, 1, 1)\n",
      "('/home/grg/data/AmylStaging/11127/DWI/11127.nii', 198.98202514648438, 191420.70819091797, 72, 72, 1, 1)\n",
      "('/home/grg/data/AmylStaging/11132/DWI/11132.nii', 198.98202514648438, 191420.70819091797, 72, 72, 1, 1)\n",
      "('/home/grg/data/AmylStaging/11248/DWI/11248.nii', 198.98202514648438, 191420.70819091797, 1, 1, 72, 72)\n",
      "('/home/grg/data/AmylStaging/11257/DWI/11257.nii', 198.98202514648438, 191420.70819091797, 72, 72, 1, 1)\n",
      "('/home/grg/data/AmylStaging/11262/DWI/11262.nii', 198.98202514648438, 191420.70819091797, 72, 72, 1, 1)\n",
      "('/home/grg/data/AmylStaging/11273/DWI/11273.nii', 198.98202514648438, 191420.70819091797, 72, 72, 1, 1)\n",
      "('/home/grg/data/AmylStaging/11291/DWI/11291.nii', 198.98202514648438, 191420.70819091797, 72, 72, 1, 1)\n",
      "('/home/grg/data/AmylStaging/11387/DWI/11387.nii', 198.98202514648438, 191420.70819091797, 72, 72, 1, 1)\n",
      "('/home/grg/data/AmylStaging/11397/DWI/11397.nii', 198.98202514648438, 191420.70819091797, 72, 72, 1, 1)\n",
      "('/home/grg/data/AmylStaging/11478/DWI/11478.nii', 198.98202514648438, 191420.70819091797, 72, 72, 1, 1)\n",
      "('/home/grg/data/AmylStaging/11514/DWI/11514.nii', 198.98202514648438, 191420.70819091797, 72, 72, 1, 1)\n",
      "('/home/grg/data/AmylStaging/11540/DWI/11540.nii', 198.98202514648438, 191420.70819091797, 72, 72, 1, 1)\n",
      "('/home/grg/data/AmylStaging/11587/DWI/11587.nii', 198.98202514648438, 191420.70819091797, 72, 72, 1, 1)\n",
      "('/home/grg/data/AmylStaging/11593/DWI/11593.nii', 198.98202514648438, 191420.70819091797, 72, 72, 1, 1)\n",
      "('/home/grg/data/AmylStaging/11656/DWI/11656.nii', 198.98202514648438, 191420.70819091797, 72, 72, 1, 1)\n",
      "('/home/grg/data/AmylStaging/11711/DWI/11711.nii', 198.98202514648438, 191420.70819091797, 1, 1, 72, 72)\n",
      "('/home/grg/data/AmylStaging/11742/DWI/11742.nii', 198.98202514648438, 191420.70819091797, 72, 72, 1, 1)\n",
      "('/home/grg/data/AmylStaging/11745/DWI/11745.nii', 198.98202514648438, 191420.70819091797, 72, 72, 1, 1)\n",
      "('/home/grg/data/AmylStaging/11747/DWI/11747.nii', 198.98202514648438, 191420.70819091797, 72, 72, 1, 1)\n",
      "('/home/grg/data/AmylStaging/11829/DWI/11829.nii', 198.98202514648438, 191420.70819091797, 1, 1, 72, 72)\n",
      "('/home/grg/data/AmylStaging/11866/DWI/11866.nii', 198.98202514648438, 191420.70819091797, 72, 72, 1, 1)\n",
      "('/home/grg/data/AmylStaging/12118/DWI/12118.nii', 198.98202514648438, 191420.70819091797, 1, 1, 72, 72)\n",
      "('/home/grg/data/AmylStaging/12184/DWI/12184.nii', 198.98202514648438, 191420.70819091797, 1, 1, 72, 72)\n",
      "('/home/grg/data/AmylStaging/12269/DWI/12269.nii', 198.98202514648438, 191420.70819091797, 72, 72, 1, 1)\n",
      "('/home/grg/data/AmylStaging/12279/DWI/12279.nii', 198.98202514648438, 191420.70819091797, 72, 72, 1, 1)\n",
      "('/home/grg/data/AmylStaging/12304/DWI/12304.nii', 198.98202514648438, 191420.70819091797, 72, 72, 1, 1)\n",
      "('/home/grg/data/AmylStaging/12308/DWI/12308.nii', 198.98202514648438, 191420.70819091797, 1, 1, 72, 72)\n",
      "('/home/grg/data/AmylStaging/12627/DWI/12627.nii', 198.98202514648438, 191420.70819091797, 72, 72, 1, 1)\n",
      "('/home/grg/data/AmylStaging/12741/DWI/12741.nii', 198.98202514648438, 191420.70819091797, 72, 72, 1, 1)\n",
      "('/home/grg/data/AmylStaging/12769/DWI/12769.nii', 198.98202514648438, 191420.70819091797, 72, 72, 1, 1)\n",
      "('/home/grg/data/AmylStaging/12778/DWI/12778.nii', 198.98202514648438, 191420.70819091797, 1, 1, 72, 72)\n",
      "('/home/grg/data/AmylStaging/12783/DWI/12783.nii', 198.98202514648438, 191420.70819091797, 72, 72, 1, 1)\n",
      "('/home/grg/data/AmylStaging/12810/DWI/12810.nii', 198.98202514648438, 191420.70819091797, 1, 1, 72, 72)\n",
      "('/home/grg/data/AmylStaging/12991/DWI/12991.nii', 198.98202514648438, 191420.70819091797, 72, 72, 1, 1)\n",
      "('/home/grg/data/AmylStaging/13035/DWI/13035.nii', 198.98202514648438, 191420.70819091797, 72, 72, 1, 1)\n",
      "('/home/grg/data/AmylStaging/13041/DWI/13041.nii', 198.98202514648438, 191420.70819091797, 72, 72, 1, 1)\n",
      "('/home/grg/data/AmylStaging/13059/DWI/13059.nii', 198.98202514648438, 191420.70819091797, 72, 72, 1, 1)\n",
      "('/home/grg/data/AmylStaging/13105/DWI/13105.nii', 198.98202514648438, 191420.70819091797, 72, 72, 1, 1)\n",
      "('/home/grg/data/AmylStaging/13107/DWI/13107.nii', 198.98202514648438, 191420.70819091797, 72, 72, 1, 1)\n",
      "('/home/grg/data/AmylStaging/13166/DWI/13166.nii', 198.98202514648438, 191420.70819091797, 72, 72, 1, 1)\n",
      "('/home/grg/data/AmylStaging/13193/DWI/13193.nii', 198.98202514648438, 191420.70819091797, 72, 72, 1, 1)\n",
      "('/home/grg/data/AmylStaging/13244/DWI/13244.nii', 198.98202514648438, 191420.70819091797, 72, 72, 1, 1)\n",
      "('/home/grg/data/AmylStaging/13259/DWI/13259.nii', 198.98202514648438, 191420.70819091797, 72, 72, 1, 1)\n",
      "('/home/grg/data/AmylStaging/21136/DWI/21136.nii', 198.98202514648438, 191420.70819091797, 72, 72, 1, 1)\n",
      "('/home/grg/data/AmylStaging/21138/DWI/21138.nii', 198.98202514648438, 191420.70819091797, 72, 72, 1, 1)\n",
      "('/home/grg/data/AmylStaging/21156/DWI/21156.nii', 198.98202514648438, 191420.70819091797, 72, 72, 1, 1)\n",
      "('/home/grg/data/AmylStaging/44008/DWI/44008.nii', 198.98202514648438, 191420.70819091797, 72, 72, 1, 1)\n",
      "('/home/grg/data/AmylStaging/44158/DWI/44158.nii', 198.98202514648438, 191420.70819091797, 72, 72, 1, 1)\n",
      "('/home/grg/data/AmylStaging/44214/DWI/44214.nii', 198.98202514648438, 191420.70819091797, 72, 72, 1, 1)\n",
      "('/home/grg/data/AmylStaging/44231/DWI/44231.nii', 198.98202514648438, 191420.70819091797, 72, 72, 1, 1)\n",
      "('/home/grg/data/AmylStaging/44301/DWI/44301.nii', 198.98202514648438, 191420.70819091797, 72, 72, 1, 1)\n",
      "('/home/grg/data/AmylStaging/44304/DWI/44304.nii', 198.98202514648438, 191420.70819091797, 1, 1, 72, 72)\n",
      "('/home/grg/data/AmylStaging/44329/DWI/44329.nii', 198.98202514648438, 191420.70819091797, 72, 72, 1, 1)\n",
      "('/home/grg/data/AmylStaging/44349/DWI/44349.nii', 198.98202514648438, 191420.70819091797, 72, 72, 1, 1)\n",
      "('/home/grg/data/AmylStaging/44363/DWI/44363.nii', 198.98202514648438, 191420.70819091797, 72, 72, 1, 1)\n",
      "('/home/grg/data/AmylStaging/44396/DWI/44396.nii', 198.98202514648438, 191420.70819091797, 72, 72, 1, 1)\n",
      "('/home/grg/data/AmylStaging/44660/DWI/44660.nii', 198.98202514648438, 191420.70819091797, 1, 1, 72, 72)\n",
      "('/home/grg/data/AmylStaging/55038/DWI/55038.nii', 198.98202514648438, 191420.70819091797, 1, 1, 72, 72)\n",
      "('/home/grg/data/AmylStaging/55210/DWI/55210.nii', 198.98202514648438, 191420.70819091797, 72, 72, 1, 1)\n",
      "('/home/grg/data/AmylStaging/55607/DWI/55607.nii', 198.98202514648438, 191420.70819091797, 72, 72, 1, 1)\n",
      "('/home/grg/data/AmylStaging/55630/DWI/55630.nii', 198.98202514648438, 191420.70819091797, 72, 72, 1, 1)\n",
      "('/home/grg/data/AmylStaging/55777/DWI/55777.nii', 198.98202514648438, 191420.70819091797, 72, 72, 1, 1)\n",
      "('/home/grg/data/AmylStaging/55797/DWI/55797.nii', 198.98202514648438, 191420.70819091797, 72, 72, 1, 1)\n",
      "('/home/grg/data/AmylStaging/55834/DWI/55834.nii', 198.98202514648438, 191420.70819091797, 72, 72, 1, 1)\n",
      "('/home/grg/data/AmylStaging/55854/DWI/55854.nii', 198.98202514648438, 191420.70819091797, 72, 72, 1, 1)\n",
      "('/home/grg/data/AmylStaging/66008/DWI/66008.nii', 198.98202514648438, 191420.70819091797, 72, 72, 1, 1)\n",
      "('/home/grg/data/AmylStaging/66027/DWI/66027.nii', 198.98202514648438, 191420.70819091797, 72, 72, 1, 1)\n",
      "('/home/grg/data/AmylStaging/66045/DWI/66045.nii', 198.98202514648438, 191420.70819091797, 72, 72, 1, 1)\n",
      "('/home/grg/data/AmylStaging/66067/DWI/66067.nii', 198.98202514648438, 191420.70819091797, 72, 72, 1, 1)\n",
      "('/home/grg/data/AmylStaging/66100/DWI/66100.nii', 198.98202514648438, 191420.70819091797, 72, 72, 1, 1)\n",
      "('/home/grg/data/AmylStaging/66162/DWI/66162.nii', 198.98202514648438, 191420.70819091797, 72, 72, 1, 1)\n",
      "('/home/grg/data/AmylStaging/66224/DWI/66224.nii', 198.98202514648438, 191420.70819091797, 72, 72, 1, 1)\n",
      "('/home/grg/data/AmylStaging/66237/DWI/66237.nii', 198.98202514648438, 191420.70819091797, 1, 1, 72, 72)\n",
      "('/home/grg/data/AmylStaging/66249/DWI/66249.nii', 198.98202514648438, 191420.70819091797, 72, 72, 1, 1)\n",
      "('/home/grg/data/AmylStaging/66296/DWI/66296.nii', 198.98202514648438, 191420.70819091797, 72, 72, 1, 1)\n",
      "('/home/grg/data/AmylStaging/66301/DWI/66301.nii', 198.98202514648438, 191420.70819091797, 72, 72, 1, 1)\n",
      "('/home/grg/data/AmylStaging/66488/DWI/66488.nii', 198.98202514648438, 191420.70819091797, 72, 72, 1, 1)\n",
      "('/home/grg/data/AmylStaging/66489/DWI/66489.nii', 198.98202514648438, 191420.70819091797, 72, 72, 1, 1)\n",
      "('/home/grg/data/AmylStaging/77012/DWI/77012.nii', 198.98202514648438, 191420.70819091797, 72, 72, 1, 1)\n",
      "('/home/grg/data/AmylStaging/77101/DWI/77101.nii', 198.98202514648438, 191420.70819091797, 72, 72, 1, 1)\n",
      "('/home/grg/data/AmylStaging/77104/DWI/77104.nii', 198.98202514648438, 191420.70819091797, 72, 72, 1, 1)\n",
      "('/home/grg/data/AmylStaging/77164/DWI/77164.nii', 198.98202514648438, 191420.70819091797, 72, 72, 1, 1)\n",
      "('/home/grg/data/AmylStaging/77224/DWI/77224.nii', 198.98202514648438, 191420.70819091797, 72, 72, 1, 1)\n",
      "('/home/grg/data/AmylStaging/77341/DWI/77341.nii', 198.98202514648438, 191420.70819091797, 72, 72, 1, 1)\n"
     ]
    }
   ],
   "source": [
    "for e, bve, bva in zip(dwi, bvec, bval):\n",
    "    #i = nib.load(e).dataobj\n",
    "    len_bval = len(open(bva).read().split('\\t'))\n",
    "    len_bval2 = len(open(bva).read().split(' '))\n",
    "    len_bvec = len(open(bve).read().split('\\n')[0].split('\\t'))\n",
    "    len_bvec2 = len(open(bve).read().split('\\n')[0].split(' '))\n",
    "\n",
    "    res = (e, i.slope, np.array(i).max(), len_bval, len_bvec, len_bval2, len_bvec2)\n",
    "    if len_bval != 72 or (len_bvec != 72 and len_bvec2 != 72):\n",
    "        errors.append(res)\n",
    "    print res"
   ]
  },
  {
   "cell_type": "code",
   "execution_count": 27,
   "metadata": {
    "collapsed": false
   },
   "outputs": [
    {
     "data": {
      "text/plain": [
       "{'10065',\n",
       " '10515',\n",
       " '10613',\n",
       " '10949',\n",
       " '11114',\n",
       " '11248',\n",
       " '11711',\n",
       " '11829',\n",
       " '12118',\n",
       " '12184',\n",
       " '12308',\n",
       " '12778',\n",
       " '12810',\n",
       " '44304',\n",
       " '44660',\n",
       " '55038',\n",
       " '66237'}"
      ]
     },
     "execution_count": 27,
     "metadata": {},
     "output_type": "execute_result"
    }
   ],
   "source": [
    "set(sorted([e[0].split('/')[-1][:5] for e in errors]))"
   ]
  },
  {
   "cell_type": "code",
   "execution_count": null,
   "metadata": {
    "collapsed": true
   },
   "outputs": [],
   "source": []
  }
 ],
 "metadata": {
  "kernelspec": {
   "display_name": "Python 2",
   "language": "python",
   "name": "python2"
  },
  "language_info": {
   "codemirror_mode": {
    "name": "ipython",
    "version": 2
   },
   "file_extension": ".py",
   "mimetype": "text/x-python",
   "name": "python",
   "nbconvert_exporter": "python",
   "pygments_lexer": "ipython2",
   "version": "2.7.11+"
  }
 },
 "nbformat": 4,
 "nbformat_minor": 1
}
