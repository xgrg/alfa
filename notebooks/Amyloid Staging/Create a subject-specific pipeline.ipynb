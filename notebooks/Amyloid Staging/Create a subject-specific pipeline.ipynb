{
 "cells": [
  {
   "cell_type": "markdown",
   "metadata": {},
   "source": [
    "# Create a subject-specific pipeline"
   ]
  },
  {
   "cell_type": "code",
   "execution_count": 11,
   "metadata": {
    "collapsed": false
   },
   "outputs": [
    {
     "name": "stdout",
     "output_type": "stream",
     "text": [
      "[['/bin/bash', '/tmp/subject_pipelines/10162.sh'], ['/bin/bash', '/tmp/subject_pipelines/10515.sh'], ['/bin/bash', '/tmp/subject_pipelines/10627.sh'], ['/bin/bash', '/tmp/subject_pipelines/10649.sh'], ['/bin/bash', '/tmp/subject_pipelines/10949.sh'], ['/bin/bash', '/tmp/subject_pipelines/11262.sh']]\n"
     ]
    }
   ],
   "source": [
    "import os.path as osp\n",
    "import numpy as np\n",
    "import nibabel as np\n",
    "from glob import glob\n",
    "import sys, string\n",
    "sys.path.append('/home/grg/git/thesaurus')\n",
    "import thesaurus as th\n",
    "jf = '/home/grg/git/thesaurus/alfa_dwi_pipeline_aug2016.json'\n",
    "dd = '/home/grg/data/AmylStaging'\n",
    "json_io = '/home/grg/git/thesaurus/alfa_dwi_pipeline_io_aug2016.json'\n",
    "\n",
    "steps = ['eddycorrect', 'rotcorr', 'dtifit', 'radial', 'warp_fa_to_t1', 'warp_md_to_t1', 'warp_l1_to_t1', 'warp_rd_to_t1']\n",
    "\n",
    "subjects = [10162, 10515, 10627, 10649, 10949, 11262]\n",
    "\n",
    "for subject in subjects:\n",
    "    a = th.ALFAHelper(directory=dd, jsonfile=json_io)\n",
    "    ecclog_fp = osp.join(dd, str(subject), 'DWI', '%s_denoised_corrected.ecclog'%subject)\n",
    "    cmds = ['rm %s'%ecclog_fp]\n",
    "    for step in steps:\n",
    "        cmd = a.parse_command(str(subject), step, jsonfile=jf)\n",
    "        cmds.append(cmd)\n",
    "\n",
    "    fp1 = '/tmp/subject_pipelines/%s.sh'%subject\n",
    "    w = open(fp1, 'w')\n",
    "    for e in cmds:\n",
    "        w.write('%s\\n'%e)\n",
    "    w.close()\n",
    "\n",
    "fp1 = '/tmp/pipelines.sh'\n",
    "fp2 = '/tmp/pipelines.workflow'\n",
    "w = open(fp1, 'w')\n",
    "names = []\n",
    "for e in sorted(glob('/tmp/subject_pipelines/*.sh')):\n",
    "    names.append(e.split('/')[-1][:5])\n",
    "    w.write('/bin/bash %s\\n'%e)\n",
    "w.close()\n",
    "\n",
    "sys.path.append('/home/grg/git/alfa')\n",
    "import create_workflow as cw\n",
    "cw.create_workflow(fp1, fp2, names=names, verbose=True)"
   ]
  },
  {
   "cell_type": "code",
   "execution_count": null,
   "metadata": {
    "collapsed": true
   },
   "outputs": [],
   "source": []
  }
 ],
 "metadata": {
  "kernelspec": {
   "display_name": "Python 2",
   "language": "python",
   "name": "python2"
  },
  "language_info": {
   "codemirror_mode": {
    "name": "ipython",
    "version": 2
   },
   "file_extension": ".py",
   "mimetype": "text/x-python",
   "name": "python",
   "nbconvert_exporter": "python",
   "pygments_lexer": "ipython2",
   "version": "2.7.11+"
  }
 },
 "nbformat": 4,
 "nbformat_minor": 1
}
