{
 "cells": [
  {
   "cell_type": "markdown",
   "metadata": {},
   "source": [
    "# MD maps with amyloid staging\n"
   ]
  },
  {
   "cell_type": "code",
   "execution_count": 6,
   "metadata": {
    "collapsed": false
   },
   "outputs": [],
   "source": [
    "%run /home/grg/git/alfa/nilearn-helper.py\n",
    "import sys\n",
    "import pandas as pd\n",
    "sys.path.append('/home/grg/git/alfa/')\n",
    "import multireg_spm12 as mreg\n",
    "reload(mreg)\n",
    "%matplotlib inline"
   ]
  },
  {
   "cell_type": "code",
   "execution_count": 7,
   "metadata": {
    "collapsed": false
   },
   "outputs": [
    {
     "name": "stdout",
     "output_type": "stream",
     "text": [
      "Found SPM files: ['/home/grg/SPM/2018/amylstaging_MDwocsf/estimatecontrasts/SPM.mat']\n"
     ]
    },
    {
     "data": {
      "text/html": [
       "<div>\n",
       "<style>\n",
       "    .dataframe thead tr:only-child th {\n",
       "        text-align: right;\n",
       "    }\n",
       "\n",
       "    .dataframe thead th {\n",
       "        text-align: left;\n",
       "    }\n",
       "\n",
       "    .dataframe tbody tr th {\n",
       "        vertical-align: top;\n",
       "    }\n",
       "</style>\n",
       "<table border=\"1\" class=\"dataframe\">\n",
       "  <thead>\n",
       "    <tr style=\"text-align: right;\">\n",
       "      <th></th>\n",
       "      <th>images</th>\n",
       "      <th>age</th>\n",
       "      <th>gender</th>\n",
       "      <th>NC</th>\n",
       "      <th>HT</th>\n",
       "      <th>HO</th>\n",
       "    </tr>\n",
       "  </thead>\n",
       "  <tbody>\n",
       "    <tr>\n",
       "      <th>0</th>\n",
       "      <td>/home/grg/data/AmylStaging/dartel_final/spm/MD...</td>\n",
       "      <td>63.422313</td>\n",
       "      <td>2</td>\n",
       "      <td>1</td>\n",
       "      <td>0</td>\n",
       "      <td>0</td>\n",
       "    </tr>\n",
       "    <tr>\n",
       "      <th>1</th>\n",
       "      <td>/home/grg/data/AmylStaging/dartel_final/spm/MD...</td>\n",
       "      <td>54.757016</td>\n",
       "      <td>1</td>\n",
       "      <td>1</td>\n",
       "      <td>0</td>\n",
       "      <td>0</td>\n",
       "    </tr>\n",
       "    <tr>\n",
       "      <th>2</th>\n",
       "      <td>/home/grg/data/AmylStaging/dartel_final/spm/MD...</td>\n",
       "      <td>50.390144</td>\n",
       "      <td>2</td>\n",
       "      <td>0</td>\n",
       "      <td>0</td>\n",
       "      <td>1</td>\n",
       "    </tr>\n",
       "    <tr>\n",
       "      <th>3</th>\n",
       "      <td>/home/grg/data/AmylStaging/dartel_final/spm/MD...</td>\n",
       "      <td>54.151951</td>\n",
       "      <td>1</td>\n",
       "      <td>1</td>\n",
       "      <td>0</td>\n",
       "      <td>0</td>\n",
       "    </tr>\n",
       "    <tr>\n",
       "      <th>4</th>\n",
       "      <td>/home/grg/data/AmylStaging/dartel_final/spm/MD...</td>\n",
       "      <td>52.878850</td>\n",
       "      <td>1</td>\n",
       "      <td>1</td>\n",
       "      <td>0</td>\n",
       "      <td>0</td>\n",
       "    </tr>\n",
       "  </tbody>\n",
       "</table>\n",
       "</div>"
      ],
      "text/plain": [
       "                                              images        age  gender  NC  \\\n",
       "0  /home/grg/data/AmylStaging/dartel_final/spm/MD...  63.422313       2   1   \n",
       "1  /home/grg/data/AmylStaging/dartel_final/spm/MD...  54.757016       1   1   \n",
       "2  /home/grg/data/AmylStaging/dartel_final/spm/MD...  50.390144       2   0   \n",
       "3  /home/grg/data/AmylStaging/dartel_final/spm/MD...  54.151951       1   1   \n",
       "4  /home/grg/data/AmylStaging/dartel_final/spm/MD...  52.878850       1   1   \n",
       "\n",
       "   HT  HO  \n",
       "0   0   0  \n",
       "1   0   0  \n",
       "2   0   1  \n",
       "3   0   0  \n",
       "4   0   0  "
      ]
     },
     "execution_count": 7,
     "metadata": {},
     "output_type": "execute_result"
    }
   ],
   "source": [
    "excel_fp = '/home/grg/SPM/2018/amylstaging_MDwocsf.xls'\n",
    "\n",
    "analysis_name, ext = osp.splitext(osp.split(excel_fp)[1])\n",
    "paramtype = analysis_name.split('_')[1]\n",
    "analysis_wd = osp.join(osp.dirname(excel_fp), analysis_name)\n",
    "spm = glob(osp.join(analysis_wd, 'estimatecontrasts/SPM.mat'))\n",
    "#aal_fp = '/usr/local/MATLAB/R2014a/toolbox/spm12/toolbox/aal/ROI_MNI_V5.nii'\n",
    "mask_fp = '/home/grg/spm/MNI_T1_brain_wo_csf.nii'\n",
    "print 'Found SPM files:', spm\n",
    "pd.read_excel(excel_fp).head()"
   ]
  },
  {
   "cell_type": "code",
   "execution_count": 8,
   "metadata": {
    "collapsed": false,
    "scrolled": true
   },
   "outputs": [
    {
     "name": "stdout",
     "output_type": "stream",
     "text": [
      "Reading /home/grg/SPM/2018/amylstaging_MDwocsf.xls looking up column MDwocsf ...\n",
      "Analysis name: amylstaging_MDwocsf\n",
      "First column: images\n",
      "Columns in the model: [u'age', u'gender', u'NC', u'HT', u'HO']\n",
      "Non-carriers / Heterozygotes / Homozygotes detected\n",
      "Effect of Gender\n",
      "Effect of Linear age\n",
      "Analysis name: amylstaging_MDwocsf\n",
      "Scans (107): [u'/home/grg/data/AmylStaging/dartel_final/spm/MD_wo_csf/10019_MD_wo_csf_s.nii', u'/home/grg/data/AmylStaging/dartel_final/spm/MD_wo_csf/10044_MD_wo_csf_s.nii', u'/home/grg/data/AmylStaging/dartel_final/spm/MD_wo_csf/10065_MD_wo_csf_s.nii', u'/home/grg/data/AmylStaging/dartel_final/spm/MD_wo_csf/10070_MD_wo_csf_s.nii', u'/home/grg/data/AmylStaging/dartel_final/spm/MD_wo_csf/10137_MD_wo_csf_s.nii', u'/home/grg/data/AmylStaging/dartel_final/spm/MD_wo_csf/10162_MD_wo_csf_s.nii', u'/home/grg/data/AmylStaging/dartel_final/spm/MD_wo_csf/10200_MD_wo_csf_s.nii', u'/home/grg/data/AmylStaging/dartel_final/spm/MD_wo_csf/10225_MD_wo_csf_s.nii', u'/home/grg/data/AmylStaging/dartel_final/spm/MD_wo_csf/10235_MD_wo_csf_s.nii', u'/home/grg/data/AmylStaging/dartel_final/spm/MD_wo_csf/10245_MD_wo_csf_s.nii', u'/home/grg/data/AmylStaging/dartel_final/spm/MD_wo_csf/10319_MD_wo_csf_s.nii', u'/home/grg/data/AmylStaging/dartel_final/spm/MD_wo_csf/10329_MD_wo_csf_s.nii', u'/home/grg/data/AmylStaging/dartel_final/spm/MD_wo_csf/10424_MD_wo_csf_s.nii', u'/home/grg/data/AmylStaging/dartel_final/spm/MD_wo_csf/10515_MD_wo_csf_s.nii', u'/home/grg/data/AmylStaging/dartel_final/spm/MD_wo_csf/10560_MD_wo_csf_s.nii', u'/home/grg/data/AmylStaging/dartel_final/spm/MD_wo_csf/10613_MD_wo_csf_s.nii', u'/home/grg/data/AmylStaging/dartel_final/spm/MD_wo_csf/10627_MD_wo_csf_s.nii', u'/home/grg/data/AmylStaging/dartel_final/spm/MD_wo_csf/10649_MD_wo_csf_s.nii', u'/home/grg/data/AmylStaging/dartel_final/spm/MD_wo_csf/10696_MD_wo_csf_s.nii', u'/home/grg/data/AmylStaging/dartel_final/spm/MD_wo_csf/10711_MD_wo_csf_s.nii', u'/home/grg/data/AmylStaging/dartel_final/spm/MD_wo_csf/10724_MD_wo_csf_s.nii', u'/home/grg/data/AmylStaging/dartel_final/spm/MD_wo_csf/10810_MD_wo_csf_s.nii', u'/home/grg/data/AmylStaging/dartel_final/spm/MD_wo_csf/10881_MD_wo_csf_s.nii', u'/home/grg/data/AmylStaging/dartel_final/spm/MD_wo_csf/10949_MD_wo_csf_s.nii', u'/home/grg/data/AmylStaging/dartel_final/spm/MD_wo_csf/11042_MD_wo_csf_s.nii', u'/home/grg/data/AmylStaging/dartel_final/spm/MD_wo_csf/11125_MD_wo_csf_s.nii', u'/home/grg/data/AmylStaging/dartel_final/spm/MD_wo_csf/11127_MD_wo_csf_s.nii', u'/home/grg/data/AmylStaging/dartel_final/spm/MD_wo_csf/11132_MD_wo_csf_s.nii', u'/home/grg/data/AmylStaging/dartel_final/spm/MD_wo_csf/11248_MD_wo_csf_s.nii', u'/home/grg/data/AmylStaging/dartel_final/spm/MD_wo_csf/11257_MD_wo_csf_s.nii', u'/home/grg/data/AmylStaging/dartel_final/spm/MD_wo_csf/11262_MD_wo_csf_s.nii', u'/home/grg/data/AmylStaging/dartel_final/spm/MD_wo_csf/11273_MD_wo_csf_s.nii', u'/home/grg/data/AmylStaging/dartel_final/spm/MD_wo_csf/11291_MD_wo_csf_s.nii', u'/home/grg/data/AmylStaging/dartel_final/spm/MD_wo_csf/11387_MD_wo_csf_s.nii', u'/home/grg/data/AmylStaging/dartel_final/spm/MD_wo_csf/11397_MD_wo_csf_s.nii', u'/home/grg/data/AmylStaging/dartel_final/spm/MD_wo_csf/11478_MD_wo_csf_s.nii', u'/home/grg/data/AmylStaging/dartel_final/spm/MD_wo_csf/11514_MD_wo_csf_s.nii', u'/home/grg/data/AmylStaging/dartel_final/spm/MD_wo_csf/11587_MD_wo_csf_s.nii', u'/home/grg/data/AmylStaging/dartel_final/spm/MD_wo_csf/11593_MD_wo_csf_s.nii', u'/home/grg/data/AmylStaging/dartel_final/spm/MD_wo_csf/11656_MD_wo_csf_s.nii', u'/home/grg/data/AmylStaging/dartel_final/spm/MD_wo_csf/11711_MD_wo_csf_s.nii', u'/home/grg/data/AmylStaging/dartel_final/spm/MD_wo_csf/11742_MD_wo_csf_s.nii', u'/home/grg/data/AmylStaging/dartel_final/spm/MD_wo_csf/11745_MD_wo_csf_s.nii', u'/home/grg/data/AmylStaging/dartel_final/spm/MD_wo_csf/11747_MD_wo_csf_s.nii', u'/home/grg/data/AmylStaging/dartel_final/spm/MD_wo_csf/11829_MD_wo_csf_s.nii', u'/home/grg/data/AmylStaging/dartel_final/spm/MD_wo_csf/11866_MD_wo_csf_s.nii', u'/home/grg/data/AmylStaging/dartel_final/spm/MD_wo_csf/12118_MD_wo_csf_s.nii', u'/home/grg/data/AmylStaging/dartel_final/spm/MD_wo_csf/12184_MD_wo_csf_s.nii', u'/home/grg/data/AmylStaging/dartel_final/spm/MD_wo_csf/12269_MD_wo_csf_s.nii', u'/home/grg/data/AmylStaging/dartel_final/spm/MD_wo_csf/12279_MD_wo_csf_s.nii', u'/home/grg/data/AmylStaging/dartel_final/spm/MD_wo_csf/12304_MD_wo_csf_s.nii', u'/home/grg/data/AmylStaging/dartel_final/spm/MD_wo_csf/12308_MD_wo_csf_s.nii', u'/home/grg/data/AmylStaging/dartel_final/spm/MD_wo_csf/12627_MD_wo_csf_s.nii', u'/home/grg/data/AmylStaging/dartel_final/spm/MD_wo_csf/12741_MD_wo_csf_s.nii', u'/home/grg/data/AmylStaging/dartel_final/spm/MD_wo_csf/12769_MD_wo_csf_s.nii', u'/home/grg/data/AmylStaging/dartel_final/spm/MD_wo_csf/12778_MD_wo_csf_s.nii', u'/home/grg/data/AmylStaging/dartel_final/spm/MD_wo_csf/12991_MD_wo_csf_s.nii', u'/home/grg/data/AmylStaging/dartel_final/spm/MD_wo_csf/13035_MD_wo_csf_s.nii', u'/home/grg/data/AmylStaging/dartel_final/spm/MD_wo_csf/13041_MD_wo_csf_s.nii', u'/home/grg/data/AmylStaging/dartel_final/spm/MD_wo_csf/13059_MD_wo_csf_s.nii', u'/home/grg/data/AmylStaging/dartel_final/spm/MD_wo_csf/13105_MD_wo_csf_s.nii', u'/home/grg/data/AmylStaging/dartel_final/spm/MD_wo_csf/13107_MD_wo_csf_s.nii', u'/home/grg/data/AmylStaging/dartel_final/spm/MD_wo_csf/13166_MD_wo_csf_s.nii', u'/home/grg/data/AmylStaging/dartel_final/spm/MD_wo_csf/13193_MD_wo_csf_s.nii', u'/home/grg/data/AmylStaging/dartel_final/spm/MD_wo_csf/13244_MD_wo_csf_s.nii', u'/home/grg/data/AmylStaging/dartel_final/spm/MD_wo_csf/13259_MD_wo_csf_s.nii', u'/home/grg/data/AmylStaging/dartel_final/spm/MD_wo_csf/21136_MD_wo_csf_s.nii', u'/home/grg/data/AmylStaging/dartel_final/spm/MD_wo_csf/21138_MD_wo_csf_s.nii', u'/home/grg/data/AmylStaging/dartel_final/spm/MD_wo_csf/21156_MD_wo_csf_s.nii', u'/home/grg/data/AmylStaging/dartel_final/spm/MD_wo_csf/44008_MD_wo_csf_s.nii', u'/home/grg/data/AmylStaging/dartel_final/spm/MD_wo_csf/44158_MD_wo_csf_s.nii', u'/home/grg/data/AmylStaging/dartel_final/spm/MD_wo_csf/44214_MD_wo_csf_s.nii', u'/home/grg/data/AmylStaging/dartel_final/spm/MD_wo_csf/44231_MD_wo_csf_s.nii', u'/home/grg/data/AmylStaging/dartel_final/spm/MD_wo_csf/44301_MD_wo_csf_s.nii', u'/home/grg/data/AmylStaging/dartel_final/spm/MD_wo_csf/44304_MD_wo_csf_s.nii', u'/home/grg/data/AmylStaging/dartel_final/spm/MD_wo_csf/44329_MD_wo_csf_s.nii', u'/home/grg/data/AmylStaging/dartel_final/spm/MD_wo_csf/44349_MD_wo_csf_s.nii', u'/home/grg/data/AmylStaging/dartel_final/spm/MD_wo_csf/44363_MD_wo_csf_s.nii', u'/home/grg/data/AmylStaging/dartel_final/spm/MD_wo_csf/44396_MD_wo_csf_s.nii', u'/home/grg/data/AmylStaging/dartel_final/spm/MD_wo_csf/44660_MD_wo_csf_s.nii', u'/home/grg/data/AmylStaging/dartel_final/spm/MD_wo_csf/55038_MD_wo_csf_s.nii', u'/home/grg/data/AmylStaging/dartel_final/spm/MD_wo_csf/55210_MD_wo_csf_s.nii', u'/home/grg/data/AmylStaging/dartel_final/spm/MD_wo_csf/55607_MD_wo_csf_s.nii', u'/home/grg/data/AmylStaging/dartel_final/spm/MD_wo_csf/55630_MD_wo_csf_s.nii', u'/home/grg/data/AmylStaging/dartel_final/spm/MD_wo_csf/55777_MD_wo_csf_s.nii', u'/home/grg/data/AmylStaging/dartel_final/spm/MD_wo_csf/55797_MD_wo_csf_s.nii', u'/home/grg/data/AmylStaging/dartel_final/spm/MD_wo_csf/55834_MD_wo_csf_s.nii', u'/home/grg/data/AmylStaging/dartel_final/spm/MD_wo_csf/55854_MD_wo_csf_s.nii', u'/home/grg/data/AmylStaging/dartel_final/spm/MD_wo_csf/66008_MD_wo_csf_s.nii', u'/home/grg/data/AmylStaging/dartel_final/spm/MD_wo_csf/66027_MD_wo_csf_s.nii', u'/home/grg/data/AmylStaging/dartel_final/spm/MD_wo_csf/66045_MD_wo_csf_s.nii', u'/home/grg/data/AmylStaging/dartel_final/spm/MD_wo_csf/66067_MD_wo_csf_s.nii', u'/home/grg/data/AmylStaging/dartel_final/spm/MD_wo_csf/66100_MD_wo_csf_s.nii', u'/home/grg/data/AmylStaging/dartel_final/spm/MD_wo_csf/66162_MD_wo_csf_s.nii', u'/home/grg/data/AmylStaging/dartel_final/spm/MD_wo_csf/66224_MD_wo_csf_s.nii', u'/home/grg/data/AmylStaging/dartel_final/spm/MD_wo_csf/66237_MD_wo_csf_s.nii', u'/home/grg/data/AmylStaging/dartel_final/spm/MD_wo_csf/66249_MD_wo_csf_s.nii', u'/home/grg/data/AmylStaging/dartel_final/spm/MD_wo_csf/66296_MD_wo_csf_s.nii', u'/home/grg/data/AmylStaging/dartel_final/spm/MD_wo_csf/66301_MD_wo_csf_s.nii', u'/home/grg/data/AmylStaging/dartel_final/spm/MD_wo_csf/66488_MD_wo_csf_s.nii', u'/home/grg/data/AmylStaging/dartel_final/spm/MD_wo_csf/66489_MD_wo_csf_s.nii', u'/home/grg/data/AmylStaging/dartel_final/spm/MD_wo_csf/77012_MD_wo_csf_s.nii', u'/home/grg/data/AmylStaging/dartel_final/spm/MD_wo_csf/77101_MD_wo_csf_s.nii', u'/home/grg/data/AmylStaging/dartel_final/spm/MD_wo_csf/77104_MD_wo_csf_s.nii', u'/home/grg/data/AmylStaging/dartel_final/spm/MD_wo_csf/77164_MD_wo_csf_s.nii', u'/home/grg/data/AmylStaging/dartel_final/spm/MD_wo_csf/77224_MD_wo_csf_s.nii', u'/home/grg/data/AmylStaging/dartel_final/spm/MD_wo_csf/77341_MD_wo_csf_s.nii']\n",
      "Vectors (5)\n",
      "Names (5): [u'age', u'gender', u'NC', u'HT', u'HO']\n",
      "Contrasts (5): [('HO>HT', 'T', ['HO', 'HT'], [1, -1]), ('HO>NC', 'T', ['HO', 'NC'], [1, -1]), ('HT>NC', 'T', ['HT', 'NC'], [1, -1]), ('Effect Gender', 'T', ['gender'], [1]), ('Effect Linear age', 'T', ['age'], [1])]\n",
      "# of scans included in the analysis: 107\n"
     ]
    },
    {
     "data": {
      "text/html": [
       "<div>\n",
       "<style>\n",
       "    .dataframe thead tr:only-child th {\n",
       "        text-align: right;\n",
       "    }\n",
       "\n",
       "    .dataframe thead th {\n",
       "        text-align: left;\n",
       "    }\n",
       "\n",
       "    .dataframe tbody tr th {\n",
       "        vertical-align: top;\n",
       "    }\n",
       "</style>\n",
       "<table border=\"1\" class=\"dataframe\">\n",
       "  <thead>\n",
       "    <tr style=\"text-align: right;\">\n",
       "      <th></th>\n",
       "      <th>contrast name</th>\n",
       "      <th>contrast type</th>\n",
       "      <th>covariate names</th>\n",
       "      <th>covariate weights</th>\n",
       "    </tr>\n",
       "  </thead>\n",
       "  <tbody>\n",
       "    <tr>\n",
       "      <th>0</th>\n",
       "      <td>HO&gt;HT</td>\n",
       "      <td>T</td>\n",
       "      <td>[HO, HT]</td>\n",
       "      <td>[1.0, -1.0]</td>\n",
       "    </tr>\n",
       "    <tr>\n",
       "      <th>1</th>\n",
       "      <td>HO&gt;NC</td>\n",
       "      <td>T</td>\n",
       "      <td>[HO, NC]</td>\n",
       "      <td>[1.0, -1.0]</td>\n",
       "    </tr>\n",
       "    <tr>\n",
       "      <th>2</th>\n",
       "      <td>HT&gt;NC</td>\n",
       "      <td>T</td>\n",
       "      <td>[HT, NC]</td>\n",
       "      <td>[1.0, -1.0]</td>\n",
       "    </tr>\n",
       "    <tr>\n",
       "      <th>3</th>\n",
       "      <td>Effect Gender</td>\n",
       "      <td>T</td>\n",
       "      <td>[gender]</td>\n",
       "      <td>[1.0]</td>\n",
       "    </tr>\n",
       "    <tr>\n",
       "      <th>4</th>\n",
       "      <td>Effect Linear age</td>\n",
       "      <td>T</td>\n",
       "      <td>[age]</td>\n",
       "      <td>[1.0]</td>\n",
       "    </tr>\n",
       "  </tbody>\n",
       "</table>\n",
       "</div>"
      ]
     },
     "metadata": {},
     "output_type": "display_data"
    }
   ],
   "source": [
    "print 'Reading', excel_fp, 'looking up column', paramtype, '...'\n",
    "a = mreg.generic_version(excel_fp, analysis_wd, mask_fp, analysis_name)\n",
    "n1 = a.get_node('modeldesign')\n",
    "n3 = a.get_node('estimatecontrasts')\n",
    "print '# of scans included in the analysis:', len(n1.inputs.in_files)\n",
    "display_html(pd.DataFrame([e for e in n3.inputs.contrasts], \n",
    "             columns=['contrast name', 'contrast type', 'covariate names', 'covariate weights']))"
   ]
  },
  {
   "cell_type": "code",
   "execution_count": 9,
   "metadata": {
    "collapsed": false
   },
   "outputs": [
    {
     "ename": "AssertionError",
     "evalue": "",
     "output_type": "error",
     "traceback": [
      "\u001b[0;31m---------------------------------------------------------------------------\u001b[0m",
      "\u001b[0;31mAssertionError\u001b[0m                            Traceback (most recent call last)",
      "\u001b[0;32m<ipython-input-9-d38ca7a8a39f>\u001b[0m in \u001b[0;36m<module>\u001b[0;34m()\u001b[0m\n\u001b[1;32m      1\u001b[0m \u001b[0mspm_mat_file\u001b[0m \u001b[0;34m=\u001b[0m \u001b[0;34m'/tmp/analysis_amylstaging/ALFA_data_staging/estimatecontrasts/SPM.mat'\u001b[0m\u001b[0;34m\u001b[0m\u001b[0m\n\u001b[0;32m----> 2\u001b[0;31m \u001b[0mout\u001b[0m \u001b[0;34m=\u001b[0m \u001b[0mpyAAL\u001b[0m\u001b[0;34m.\u001b[0m\u001b[0mpyAAL\u001b[0m\u001b[0;34m(\u001b[0m\u001b[0mspm_mat_file\u001b[0m\u001b[0;34m,\u001b[0m \u001b[0;36m2\u001b[0m\u001b[0;34m,\u001b[0m \u001b[0mk\u001b[0m\u001b[0;34m=\u001b[0m\u001b[0;36m10\u001b[0m\u001b[0;34m,\u001b[0m \u001b[0mmode\u001b[0m\u001b[0;34m=\u001b[0m\u001b[0;36m2\u001b[0m\u001b[0;34m)\u001b[0m\u001b[0;34m\u001b[0m\u001b[0m\n\u001b[0m\u001b[1;32m      3\u001b[0m \u001b[0mpyAAL\u001b[0m\u001b[0;34m.\u001b[0m\u001b[0mto_dataframe\u001b[0m\u001b[0;34m(\u001b[0m\u001b[0mout\u001b[0m\u001b[0;34m)\u001b[0m\u001b[0;34m\u001b[0m\u001b[0m\n",
      "\u001b[0;32m/home/grg/git/pyAAL/pyAAL.pyc\u001b[0m in \u001b[0;36mpyAAL\u001b[0;34m(source, contrast, k, threshold, mode, verbose)\u001b[0m\n\u001b[1;32m     87\u001b[0m     \u001b[0;34m'''`threshold` is a threshold on the spmT map.'''\u001b[0m\u001b[0;34m\u001b[0m\u001b[0m\n\u001b[1;32m     88\u001b[0m \u001b[0;34m\u001b[0m\u001b[0m\n\u001b[0;32m---> 89\u001b[0;31m     \u001b[0;32massert\u001b[0m\u001b[0;34m(\u001b[0m\u001b[0mosp\u001b[0m\u001b[0;34m.\u001b[0m\u001b[0misfile\u001b[0m\u001b[0;34m(\u001b[0m\u001b[0msource\u001b[0m\u001b[0;34m)\u001b[0m\u001b[0;34m)\u001b[0m\u001b[0;34m\u001b[0m\u001b[0m\n\u001b[0m\u001b[1;32m     90\u001b[0m     \u001b[0mfilename\u001b[0m\u001b[0;34m,\u001b[0m \u001b[0mext\u001b[0m \u001b[0;34m=\u001b[0m \u001b[0mosp\u001b[0m\u001b[0;34m.\u001b[0m\u001b[0msplitext\u001b[0m\u001b[0;34m(\u001b[0m\u001b[0msource\u001b[0m\u001b[0;34m)\u001b[0m\u001b[0;34m\u001b[0m\u001b[0m\n\u001b[1;32m     91\u001b[0m     \u001b[0mworkingDir\u001b[0m \u001b[0;34m=\u001b[0m \u001b[0mosp\u001b[0m\u001b[0;34m.\u001b[0m\u001b[0msplit\u001b[0m\u001b[0;34m(\u001b[0m\u001b[0msource\u001b[0m\u001b[0;34m)\u001b[0m\u001b[0;34m[\u001b[0m\u001b[0;36m0\u001b[0m\u001b[0;34m]\u001b[0m\u001b[0;34m\u001b[0m\u001b[0m\n",
      "\u001b[0;31mAssertionError\u001b[0m: "
     ]
    }
   ],
   "source": [
    "spm_mat_file = '/tmp/analysis_amylstaging/ALFA_data_staging/estimatecontrasts/SPM.mat'\n",
    "out = pyAAL.pyAAL(spm_mat_file, 2, k=10, mode=2)\n",
    "pyAAL.to_dataframe(out)"
   ]
  },
  {
   "cell_type": "code",
   "execution_count": null,
   "metadata": {
    "collapsed": false,
    "scrolled": false
   },
   "outputs": [],
   "source": [
    "sections = sections_allcontrasts(analysis_wd, paramtype, axis='z', mode='uncorrected')"
   ]
  },
  {
   "cell_type": "code",
   "execution_count": null,
   "metadata": {
    "collapsed": true
   },
   "outputs": [],
   "source": []
  }
 ],
 "metadata": {
  "kernelspec": {
   "display_name": "Python 2",
   "language": "python",
   "name": "python2"
  },
  "language_info": {
   "codemirror_mode": {
    "name": "ipython",
    "version": 2
   },
   "file_extension": ".py",
   "mimetype": "text/x-python",
   "name": "python",
   "nbconvert_exporter": "python",
   "pygments_lexer": "ipython2",
   "version": "2.7.11+"
  }
 },
 "nbformat": 4,
 "nbformat_minor": 1
}
