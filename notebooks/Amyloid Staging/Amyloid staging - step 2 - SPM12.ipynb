{
 "cells": [
  {
   "cell_type": "code",
   "execution_count": 5,
   "metadata": {
    "collapsed": false
   },
   "outputs": [
    {
     "name": "stdout",
     "output_type": "stream",
     "text": [
      "[['python', '/home/grg/git/alfa/spm/nipype_spm12.py', '-i', '/home/grg/data/AmylStaging/10019/T1/10019_mabonlm_nobias.nii'], ['python', '/home/grg/git/alfa/spm/nipype_spm12.py', '-i', '/home/grg/data/AmylStaging/10044/T1/10044_mabonlm_nobias.nii'], ['python', '/home/grg/git/alfa/spm/nipype_spm12.py', '-i', '/home/grg/data/AmylStaging/10065/T1/10065_mabonlm_nobias.nii'], ['python', '/home/grg/git/alfa/spm/nipype_spm12.py', '-i', '/home/grg/data/AmylStaging/10070/T1/10070_mabonlm_nobias.nii'], ['python', '/home/grg/git/alfa/spm/nipype_spm12.py', '-i', '/home/grg/data/AmylStaging/10137/T1/10137_mabonlm_nobias.nii'], ['python', '/home/grg/git/alfa/spm/nipype_spm12.py', '-i', '/home/grg/data/AmylStaging/10162/T1/10162_mabonlm_nobias.nii'], ['python', '/home/grg/git/alfa/spm/nipype_spm12.py', '-i', '/home/grg/data/AmylStaging/10200/T1/10200_mabonlm_nobias.nii'], ['python', '/home/grg/git/alfa/spm/nipype_spm12.py', '-i', '/home/grg/data/AmylStaging/10225/T1/10225_mabonlm_nobias.nii'], ['python', '/home/grg/git/alfa/spm/nipype_spm12.py', '-i', '/home/grg/data/AmylStaging/10235/T1/10235_mabonlm_nobias.nii'], ['python', '/home/grg/git/alfa/spm/nipype_spm12.py', '-i', '/home/grg/data/AmylStaging/10245/T1/10245_mabonlm_nobias.nii'], ['python', '/home/grg/git/alfa/spm/nipype_spm12.py', '-i', '/home/grg/data/AmylStaging/10319/T1/10319_mabonlm_nobias.nii'], ['python', '/home/grg/git/alfa/spm/nipype_spm12.py', '-i', '/home/grg/data/AmylStaging/10329/T1/10329_mabonlm_nobias.nii'], ['python', '/home/grg/git/alfa/spm/nipype_spm12.py', '-i', '/home/grg/data/AmylStaging/10424/T1/10424_mabonlm_nobias.nii'], ['python', '/home/grg/git/alfa/spm/nipype_spm12.py', '-i', '/home/grg/data/AmylStaging/10515/T1/10515_mabonlm_nobias.nii'], ['python', '/home/grg/git/alfa/spm/nipype_spm12.py', '-i', '/home/grg/data/AmylStaging/10560/T1/10560_mabonlm_nobias.nii'], ['python', '/home/grg/git/alfa/spm/nipype_spm12.py', '-i', '/home/grg/data/AmylStaging/10613/T1/10613_mabonlm_nobias.nii'], ['python', '/home/grg/git/alfa/spm/nipype_spm12.py', '-i', '/home/grg/data/AmylStaging/10627/T1/10627_mabonlm_nobias.nii'], ['python', '/home/grg/git/alfa/spm/nipype_spm12.py', '-i', '/home/grg/data/AmylStaging/10649/T1/10649_mabonlm_nobias.nii'], ['python', '/home/grg/git/alfa/spm/nipype_spm12.py', '-i', '/home/grg/data/AmylStaging/10696/T1/10696_mabonlm_nobias.nii'], ['python', '/home/grg/git/alfa/spm/nipype_spm12.py', '-i', '/home/grg/data/AmylStaging/10711/T1/10711_mabonlm_nobias.nii'], ['python', '/home/grg/git/alfa/spm/nipype_spm12.py', '-i', '/home/grg/data/AmylStaging/10724/T1/10724_mabonlm_nobias.nii'], ['python', '/home/grg/git/alfa/spm/nipype_spm12.py', '-i', '/home/grg/data/AmylStaging/10779/T1/10779_mabonlm_nobias.nii'], ['python', '/home/grg/git/alfa/spm/nipype_spm12.py', '-i', '/home/grg/data/AmylStaging/10810/T1/10810_mabonlm_nobias.nii'], ['python', '/home/grg/git/alfa/spm/nipype_spm12.py', '-i', '/home/grg/data/AmylStaging/10881/T1/10881_mabonlm_nobias.nii'], ['python', '/home/grg/git/alfa/spm/nipype_spm12.py', '-i', '/home/grg/data/AmylStaging/10949/T1/10949_mabonlm_nobias.nii'], ['python', '/home/grg/git/alfa/spm/nipype_spm12.py', '-i', '/home/grg/data/AmylStaging/11042/T1/11042_mabonlm_nobias.nii'], ['python', '/home/grg/git/alfa/spm/nipype_spm12.py', '-i', '/home/grg/data/AmylStaging/11055/T1/11055_mabonlm_nobias.nii'], ['python', '/home/grg/git/alfa/spm/nipype_spm12.py', '-i', '/home/grg/data/AmylStaging/11111/T1/11111_mabonlm_nobias.nii'], ['python', '/home/grg/git/alfa/spm/nipype_spm12.py', '-i', '/home/grg/data/AmylStaging/11114/T1/11114_mabonlm_nobias.nii'], ['python', '/home/grg/git/alfa/spm/nipype_spm12.py', '-i', '/home/grg/data/AmylStaging/11125/T1/11125_mabonlm_nobias.nii'], ['python', '/home/grg/git/alfa/spm/nipype_spm12.py', '-i', '/home/grg/data/AmylStaging/11127/T1/11127_mabonlm_nobias.nii'], ['python', '/home/grg/git/alfa/spm/nipype_spm12.py', '-i', '/home/grg/data/AmylStaging/11132/T1/11132_mabonlm_nobias.nii'], ['python', '/home/grg/git/alfa/spm/nipype_spm12.py', '-i', '/home/grg/data/AmylStaging/11248/T1/11248_mabonlm_nobias.nii'], ['python', '/home/grg/git/alfa/spm/nipype_spm12.py', '-i', '/home/grg/data/AmylStaging/11257/T1/11257_mabonlm_nobias.nii'], ['python', '/home/grg/git/alfa/spm/nipype_spm12.py', '-i', '/home/grg/data/AmylStaging/11262/T1/11262_mabonlm_nobias.nii'], ['python', '/home/grg/git/alfa/spm/nipype_spm12.py', '-i', '/home/grg/data/AmylStaging/11273/T1/11273_mabonlm_nobias.nii'], ['python', '/home/grg/git/alfa/spm/nipype_spm12.py', '-i', '/home/grg/data/AmylStaging/11291/T1/11291_mabonlm_nobias.nii'], ['python', '/home/grg/git/alfa/spm/nipype_spm12.py', '-i', '/home/grg/data/AmylStaging/11387/T1/11387_mabonlm_nobias.nii'], ['python', '/home/grg/git/alfa/spm/nipype_spm12.py', '-i', '/home/grg/data/AmylStaging/11397/T1/11397_mabonlm_nobias.nii'], ['python', '/home/grg/git/alfa/spm/nipype_spm12.py', '-i', '/home/grg/data/AmylStaging/11478/T1/11478_mabonlm_nobias.nii'], ['python', '/home/grg/git/alfa/spm/nipype_spm12.py', '-i', '/home/grg/data/AmylStaging/11514/T1/11514_mabonlm_nobias.nii'], ['python', '/home/grg/git/alfa/spm/nipype_spm12.py', '-i', '/home/grg/data/AmylStaging/11540/T1/11540_mabonlm_nobias.nii'], ['python', '/home/grg/git/alfa/spm/nipype_spm12.py', '-i', '/home/grg/data/AmylStaging/11587/T1/11587_mabonlm_nobias.nii'], ['python', '/home/grg/git/alfa/spm/nipype_spm12.py', '-i', '/home/grg/data/AmylStaging/11593/T1/11593_mabonlm_nobias.nii'], ['python', '/home/grg/git/alfa/spm/nipype_spm12.py', '-i', '/home/grg/data/AmylStaging/11656/T1/11656_mabonlm_nobias.nii'], ['python', '/home/grg/git/alfa/spm/nipype_spm12.py', '-i', '/home/grg/data/AmylStaging/11711/T1/11711_mabonlm_nobias.nii'], ['python', '/home/grg/git/alfa/spm/nipype_spm12.py', '-i', '/home/grg/data/AmylStaging/11742/T1/11742_mabonlm_nobias.nii'], ['python', '/home/grg/git/alfa/spm/nipype_spm12.py', '-i', '/home/grg/data/AmylStaging/11745/T1/11745_mabonlm_nobias.nii'], ['python', '/home/grg/git/alfa/spm/nipype_spm12.py', '-i', '/home/grg/data/AmylStaging/11747/T1/11747_mabonlm_nobias.nii'], ['python', '/home/grg/git/alfa/spm/nipype_spm12.py', '-i', '/home/grg/data/AmylStaging/11829/T1/11829_mabonlm_nobias.nii'], ['python', '/home/grg/git/alfa/spm/nipype_spm12.py', '-i', '/home/grg/data/AmylStaging/11866/T1/11866_mabonlm_nobias.nii'], ['python', '/home/grg/git/alfa/spm/nipype_spm12.py', '-i', '/home/grg/data/AmylStaging/12118/T1/12118_mabonlm_nobias.nii'], ['python', '/home/grg/git/alfa/spm/nipype_spm12.py', '-i', '/home/grg/data/AmylStaging/12184/T1/12184_mabonlm_nobias.nii'], ['python', '/home/grg/git/alfa/spm/nipype_spm12.py', '-i', '/home/grg/data/AmylStaging/12269/T1/12269_mabonlm_nobias.nii'], ['python', '/home/grg/git/alfa/spm/nipype_spm12.py', '-i', '/home/grg/data/AmylStaging/12279/T1/12279_mabonlm_nobias.nii'], ['python', '/home/grg/git/alfa/spm/nipype_spm12.py', '-i', '/home/grg/data/AmylStaging/12304/T1/12304_mabonlm_nobias.nii'], ['python', '/home/grg/git/alfa/spm/nipype_spm12.py', '-i', '/home/grg/data/AmylStaging/12308/T1/12308_mabonlm_nobias.nii'], ['python', '/home/grg/git/alfa/spm/nipype_spm12.py', '-i', '/home/grg/data/AmylStaging/12627/T1/12627_mabonlm_nobias.nii'], ['python', '/home/grg/git/alfa/spm/nipype_spm12.py', '-i', '/home/grg/data/AmylStaging/12741/T1/12741_mabonlm_nobias.nii'], ['python', '/home/grg/git/alfa/spm/nipype_spm12.py', '-i', '/home/grg/data/AmylStaging/12769/T1/12769_mabonlm_nobias.nii'], ['python', '/home/grg/git/alfa/spm/nipype_spm12.py', '-i', '/home/grg/data/AmylStaging/12778/T1/12778_mabonlm_nobias.nii'], ['python', '/home/grg/git/alfa/spm/nipype_spm12.py', '-i', '/home/grg/data/AmylStaging/12783/T1/12783_mabonlm_nobias.nii'], ['python', '/home/grg/git/alfa/spm/nipype_spm12.py', '-i', '/home/grg/data/AmylStaging/12810/T1/12810_mabonlm_nobias.nii'], ['python', '/home/grg/git/alfa/spm/nipype_spm12.py', '-i', '/home/grg/data/AmylStaging/12991/T1/12991_mabonlm_nobias.nii'], ['python', '/home/grg/git/alfa/spm/nipype_spm12.py', '-i', '/home/grg/data/AmylStaging/13035/T1/13035_mabonlm_nobias.nii'], ['python', '/home/grg/git/alfa/spm/nipype_spm12.py', '-i', '/home/grg/data/AmylStaging/13041/T1/13041_mabonlm_nobias.nii'], ['python', '/home/grg/git/alfa/spm/nipype_spm12.py', '-i', '/home/grg/data/AmylStaging/13059/T1/13059_mabonlm_nobias.nii'], ['python', '/home/grg/git/alfa/spm/nipype_spm12.py', '-i', '/home/grg/data/AmylStaging/13105/T1/13105_mabonlm_nobias.nii'], ['python', '/home/grg/git/alfa/spm/nipype_spm12.py', '-i', '/home/grg/data/AmylStaging/13107/T1/13107_mabonlm_nobias.nii'], ['python', '/home/grg/git/alfa/spm/nipype_spm12.py', '-i', '/home/grg/data/AmylStaging/13166/T1/13166_mabonlm_nobias.nii'], ['python', '/home/grg/git/alfa/spm/nipype_spm12.py', '-i', '/home/grg/data/AmylStaging/13193/T1/13193_mabonlm_nobias.nii'], ['python', '/home/grg/git/alfa/spm/nipype_spm12.py', '-i', '/home/grg/data/AmylStaging/13244/T1/13244_mabonlm_nobias.nii'], ['python', '/home/grg/git/alfa/spm/nipype_spm12.py', '-i', '/home/grg/data/AmylStaging/13259/T1/13259_mabonlm_nobias.nii'], ['python', '/home/grg/git/alfa/spm/nipype_spm12.py', '-i', '/home/grg/data/AmylStaging/21136/T1/21136_mabonlm_nobias.nii'], ['python', '/home/grg/git/alfa/spm/nipype_spm12.py', '-i', '/home/grg/data/AmylStaging/21138/T1/21138_mabonlm_nobias.nii'], ['python', '/home/grg/git/alfa/spm/nipype_spm12.py', '-i', '/home/grg/data/AmylStaging/21156/T1/21156_mabonlm_nobias.nii'], ['python', '/home/grg/git/alfa/spm/nipype_spm12.py', '-i', '/home/grg/data/AmylStaging/44008/T1/44008_mabonlm_nobias.nii'], ['python', '/home/grg/git/alfa/spm/nipype_spm12.py', '-i', '/home/grg/data/AmylStaging/44158/T1/44158_mabonlm_nobias.nii'], ['python', '/home/grg/git/alfa/spm/nipype_spm12.py', '-i', '/home/grg/data/AmylStaging/44214/T1/44214_mabonlm_nobias.nii'], ['python', '/home/grg/git/alfa/spm/nipype_spm12.py', '-i', '/home/grg/data/AmylStaging/44231/T1/44231_mabonlm_nobias.nii'], ['python', '/home/grg/git/alfa/spm/nipype_spm12.py', '-i', '/home/grg/data/AmylStaging/44301/T1/44301_mabonlm_nobias.nii'], ['python', '/home/grg/git/alfa/spm/nipype_spm12.py', '-i', '/home/grg/data/AmylStaging/44304/T1/44304_mabonlm_nobias.nii'], ['python', '/home/grg/git/alfa/spm/nipype_spm12.py', '-i', '/home/grg/data/AmylStaging/44329/T1/44329_mabonlm_nobias.nii'], ['python', '/home/grg/git/alfa/spm/nipype_spm12.py', '-i', '/home/grg/data/AmylStaging/44349/T1/44349_mabonlm_nobias.nii'], ['python', '/home/grg/git/alfa/spm/nipype_spm12.py', '-i', '/home/grg/data/AmylStaging/44363/T1/44363_mabonlm_nobias.nii'], ['python', '/home/grg/git/alfa/spm/nipype_spm12.py', '-i', '/home/grg/data/AmylStaging/44396/T1/44396_mabonlm_nobias.nii'], ['python', '/home/grg/git/alfa/spm/nipype_spm12.py', '-i', '/home/grg/data/AmylStaging/44660/T1/44660_mabonlm_nobias.nii'], ['python', '/home/grg/git/alfa/spm/nipype_spm12.py', '-i', '/home/grg/data/AmylStaging/55038/T1/55038_mabonlm_nobias.nii'], ['python', '/home/grg/git/alfa/spm/nipype_spm12.py', '-i', '/home/grg/data/AmylStaging/55210/T1/55210_mabonlm_nobias.nii'], ['python', '/home/grg/git/alfa/spm/nipype_spm12.py', '-i', '/home/grg/data/AmylStaging/55607/T1/55607_mabonlm_nobias.nii'], ['python', '/home/grg/git/alfa/spm/nipype_spm12.py', '-i', '/home/grg/data/AmylStaging/55630/T1/55630_mabonlm_nobias.nii'], ['python', '/home/grg/git/alfa/spm/nipype_spm12.py', '-i', '/home/grg/data/AmylStaging/55777/T1/55777_mabonlm_nobias.nii'], ['python', '/home/grg/git/alfa/spm/nipype_spm12.py', '-i', '/home/grg/data/AmylStaging/55797/T1/55797_mabonlm_nobias.nii'], ['python', '/home/grg/git/alfa/spm/nipype_spm12.py', '-i', '/home/grg/data/AmylStaging/55834/T1/55834_mabonlm_nobias.nii'], ['python', '/home/grg/git/alfa/spm/nipype_spm12.py', '-i', '/home/grg/data/AmylStaging/55854/T1/55854_mabonlm_nobias.nii'], ['python', '/home/grg/git/alfa/spm/nipype_spm12.py', '-i', '/home/grg/data/AmylStaging/66008/T1/66008_mabonlm_nobias.nii'], ['python', '/home/grg/git/alfa/spm/nipype_spm12.py', '-i', '/home/grg/data/AmylStaging/66027/T1/66027_mabonlm_nobias.nii'], ['python', '/home/grg/git/alfa/spm/nipype_spm12.py', '-i', '/home/grg/data/AmylStaging/66045/T1/66045_mabonlm_nobias.nii'], ['python', '/home/grg/git/alfa/spm/nipype_spm12.py', '-i', '/home/grg/data/AmylStaging/66067/T1/66067_mabonlm_nobias.nii'], ['python', '/home/grg/git/alfa/spm/nipype_spm12.py', '-i', '/home/grg/data/AmylStaging/66100/T1/66100_mabonlm_nobias.nii'], ['python', '/home/grg/git/alfa/spm/nipype_spm12.py', '-i', '/home/grg/data/AmylStaging/66162/T1/66162_mabonlm_nobias.nii'], ['python', '/home/grg/git/alfa/spm/nipype_spm12.py', '-i', '/home/grg/data/AmylStaging/66224/T1/66224_mabonlm_nobias.nii'], ['python', '/home/grg/git/alfa/spm/nipype_spm12.py', '-i', '/home/grg/data/AmylStaging/66237/T1/66237_mabonlm_nobias.nii'], ['python', '/home/grg/git/alfa/spm/nipype_spm12.py', '-i', '/home/grg/data/AmylStaging/66249/T1/66249_mabonlm_nobias.nii'], ['python', '/home/grg/git/alfa/spm/nipype_spm12.py', '-i', '/home/grg/data/AmylStaging/66296/T1/66296_mabonlm_nobias.nii'], ['python', '/home/grg/git/alfa/spm/nipype_spm12.py', '-i', '/home/grg/data/AmylStaging/66301/T1/66301_mabonlm_nobias.nii'], ['python', '/home/grg/git/alfa/spm/nipype_spm12.py', '-i', '/home/grg/data/AmylStaging/66488/T1/66488_mabonlm_nobias.nii'], ['python', '/home/grg/git/alfa/spm/nipype_spm12.py', '-i', '/home/grg/data/AmylStaging/66489/T1/66489_mabonlm_nobias.nii'], ['python', '/home/grg/git/alfa/spm/nipype_spm12.py', '-i', '/home/grg/data/AmylStaging/77012/T1/77012_mabonlm_nobias.nii'], ['python', '/home/grg/git/alfa/spm/nipype_spm12.py', '-i', '/home/grg/data/AmylStaging/77101/T1/77101_mabonlm_nobias.nii'], ['python', '/home/grg/git/alfa/spm/nipype_spm12.py', '-i', '/home/grg/data/AmylStaging/77104/T1/77104_mabonlm_nobias.nii'], ['python', '/home/grg/git/alfa/spm/nipype_spm12.py', '-i', '/home/grg/data/AmylStaging/77164/T1/77164_mabonlm_nobias.nii'], ['python', '/home/grg/git/alfa/spm/nipype_spm12.py', '-i', '/home/grg/data/AmylStaging/77224/T1/77224_mabonlm_nobias.nii'], ['python', '/home/grg/git/alfa/spm/nipype_spm12.py', '-i', '/home/grg/data/AmylStaging/77341/T1/77341_mabonlm_nobias.nii']]\n"
     ]
    }
   ],
   "source": [
    "import sys\n",
    "sys.path.append('/home/grg/git/xnat-monitor/')\n",
    "import bbrc\n",
    "from bbrc import xnat\n",
    "import string, os\n",
    "import os.path as osp\n",
    "import numpy as np\n",
    "from glob import glob\n",
    "sys.path.append('/home/grg/git/thesaurus/')\n",
    "import thesaurus as th\n",
    "subjects = [string.atoi(e) for e in open('/tmp/amyloid_subjects.txt').read().split('\\n') if e != '']\n",
    "#subjects = [10724, 11042, 11055, 11111, 11114, 11397]\n",
    "jf = '/home/grg/git/thesaurus/alfa_dwi_pipeline_aug2016.json'\n",
    "dd = '/home/grg/data/AmylStaging'\n",
    "json_io = '/home/grg/git/thesaurus/alfa_dwi_pipeline_io_aug2016.json'\n",
    "a = th.ALFAHelper(directory=dd, jsonfile=json_io)\n",
    "\n",
    "cmds = []\n",
    "e = 'nipype_spm12'\n",
    "for s in subjects:          \n",
    "    cmd = a.parse_command(str(s), e, jsonfile=jf)\n",
    "    cmds.append(cmd)\n",
    " \n",
    "# Writing commands in a textfile\n",
    "fp1 = '/tmp/spm12.sh'\n",
    "fp2 = '/tmp/spm12.workflow'\n",
    "w = open(fp1, 'w')\n",
    "for e in cmds:\n",
    "    w.write('%s\\n'%e)\n",
    "w.close()\n",
    "\n",
    "import sys\n",
    "sys.path.append('/home/grg/git/alfa')\n",
    "import create_workflow as cw\n",
    "names = subjects\n",
    "cw.create_workflow(fp1, fp2, names=names, verbose=True)"
   ]
  },
  {
   "cell_type": "markdown",
   "metadata": {
    "collapsed": true
   },
   "source": [
    "### Saving failed ones"
   ]
  },
  {
   "cell_type": "code",
   "execution_count": 7,
   "metadata": {
    "collapsed": false
   },
   "outputs": [
    {
     "name": "stdout",
     "output_type": "stream",
     "text": [
      "[['python', '/home/grg/git/alfa/spm/nipype_spm12.py', '-i', '/home/grg/data/AmylStaging/10319/T1/10319.nii'], ['python', '/home/grg/git/alfa/spm/nipype_spm12.py', '-i', '/home/grg/data/AmylStaging/10724/T1/10724.nii'], ['python', '/home/grg/git/alfa/spm/nipype_spm12.py', '-i', '/home/grg/data/AmylStaging/10949/T1/10949.nii'], ['python', '/home/grg/git/alfa/spm/nipype_spm12.py', '-i', '/home/grg/data/AmylStaging/11042/T1/11042.nii'], ['python', '/home/grg/git/alfa/spm/nipype_spm12.py', '-i', '/home/grg/data/AmylStaging/11055/T1/11055.nii'], ['python', '/home/grg/git/alfa/spm/nipype_spm12.py', '-i', '/home/grg/data/AmylStaging/11111/T1/11111.nii'], ['python', '/home/grg/git/alfa/spm/nipype_spm12.py', '-i', '/home/grg/data/AmylStaging/11397/T1/11397.nii'], ['python', '/home/grg/git/alfa/spm/nipype_spm12.py', '-i', '/home/grg/data/AmylStaging/11587/T1/11587.nii'], ['python', '/home/grg/git/alfa/spm/nipype_spm12.py', '-i', '/home/grg/data/AmylStaging/11593/T1/11593.nii'], ['python', '/home/grg/git/alfa/spm/nipype_spm12.py', '-i', '/home/grg/data/AmylStaging/12184/T1/12184.nii'], ['python', '/home/grg/git/alfa/spm/nipype_spm12.py', '-i', '/home/grg/data/AmylStaging/12741/T1/12741.nii'], ['python', '/home/grg/git/alfa/spm/nipype_spm12.py', '-i', '/home/grg/data/AmylStaging/12769/T1/12769.nii'], ['python', '/home/grg/git/alfa/spm/nipype_spm12.py', '-i', '/home/grg/data/AmylStaging/12783/T1/12783.nii'], ['python', '/home/grg/git/alfa/spm/nipype_spm12.py', '-i', '/home/grg/data/AmylStaging/13193/T1/13193.nii'], ['python', '/home/grg/git/alfa/spm/nipype_spm12.py', '-i', '/home/grg/data/AmylStaging/44158/T1/44158.nii'], ['python', '/home/grg/git/alfa/spm/nipype_spm12.py', '-i', '/home/grg/data/AmylStaging/44660/T1/44660.nii'], ['python', '/home/grg/git/alfa/spm/nipype_spm12.py', '-i', '/home/grg/data/AmylStaging/55777/T1/55777.nii'], ['python', '/home/grg/git/alfa/spm/nipype_spm12.py', '-i', '/home/grg/data/AmylStaging/66045/T1/66045.nii'], ['python', '/home/grg/git/alfa/spm/nipype_spm12.py', '-i', '/home/grg/data/AmylStaging/66488/T1/66488.nii'], ['python', '/home/grg/git/alfa/spm/nipype_spm12.py', '-i', '/home/grg/data/AmylStaging/77164/T1/77164.nii']]\n"
     ]
    }
   ],
   "source": [
    "failed = [10319, 10724, 10949, 11042, 11055, 11111, 11397, 11587, 11593, 12184, 12741, 12769, 12783, 13193, 44158, 44660, 55777, 66045, 66488, 77164]\n",
    "jf = '/home/grg/git/thesaurus/alfa_dwi_pipeline_aug2016.json'\n",
    "dd = '/home/grg/data/AmylStaging'\n",
    "json_io = '/home/grg/git/thesaurus/alfa_dwi_pipeline_io_aug2016.json'\n",
    "a = th.ALFAHelper(directory=dd, jsonfile=json_io)\n",
    "\n",
    "cmds = []\n",
    "e = 'nipype_spm12'\n",
    "for s in failed:          \n",
    "    cmd = a.parse_command(str(s), e, jsonfile=jf)\n",
    "    cmds.append(cmd)\n",
    " \n",
    "# Writing commands in a textfile\n",
    "fp1 = '/tmp/spm12_failed.sh'\n",
    "fp2 = '/tmp/spm12_failed.workflow'\n",
    "w = open(fp1, 'w')\n",
    "for e in cmds:\n",
    "    w.write('%s\\n'%e)\n",
    "w.close()\n",
    "\n",
    "import sys\n",
    "sys.path.append('/home/grg/git/alfa')\n",
    "import create_workflow as cw\n",
    "names = failed\n",
    "cw.create_workflow(fp1, fp2, names=names, verbose=True)"
   ]
  },
  {
   "cell_type": "code",
   "execution_count": 9,
   "metadata": {
    "collapsed": false
   },
   "outputs": [],
   "source": [
    "failed = [11111, 11397, 11587, 11593, 12184, 12741, 12769, 12783, 13193, 44158, 44660, 55777, 66045, 66488, 77164]\n",
    "import os.path as osp\n",
    "import sys\n",
    "sys.path.append('/home/grg/git/alfa/spm')\n",
    "import nipype_spm12 as n\n",
    "from nipype.pipeline.engine import Workflow, Node\n",
    "inputs = [osp.join(dd, str(s), 'T1', '%s.nii'%s) for s in failed]\n",
    "\n",
    "w = Workflow('spm12')\n",
    "nodes = [Node(n.nipype_spm12(e), str(s)) for s, e in zip(failed, inputs)]\n",
    "w.add_nodes(nodes)\n",
    "w.run(plugin='MultiProc', plugin_args={'n_procs' : 6})"
   ]
  },
  {
   "cell_type": "code",
   "execution_count": null,
   "metadata": {
    "collapsed": true
   },
   "outputs": [],
   "source": []
  }
 ],
 "metadata": {
  "kernelspec": {
   "display_name": "Python 2",
   "language": "python",
   "name": "python2"
  },
  "language_info": {
   "codemirror_mode": {
    "name": "ipython",
    "version": 2
   },
   "file_extension": ".py",
   "mimetype": "text/x-python",
   "name": "python",
   "nbconvert_exporter": "python",
   "pygments_lexer": "ipython2",
   "version": "2.7.11+"
  }
 },
 "nbformat": 4,
 "nbformat_minor": 1
}
