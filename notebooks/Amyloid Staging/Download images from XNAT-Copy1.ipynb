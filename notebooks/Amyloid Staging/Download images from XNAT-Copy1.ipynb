{
 "cells": [
  {
   "cell_type": "markdown",
   "metadata": {},
   "source": [
    "# Download images from XNAT"
   ]
  },
  {
   "cell_type": "code",
   "execution_count": 1,
   "metadata": {
    "collapsed": true
   },
   "outputs": [],
   "source": [
    "import os\n",
    "path_to_repository = '/home/grg/git/xnat-monitor'\n",
    "os.chdir(path_to_repository)\n",
    "import bbrc"
   ]
  },
  {
   "cell_type": "markdown",
   "metadata": {},
   "source": [
    "Setting up a connection to XNAT and defining which images to retrieve."
   ]
  },
  {
   "cell_type": "code",
   "execution_count": 13,
   "metadata": {
    "collapsed": false
   },
   "outputs": [
    {
     "name": "stdout",
     "output_type": "stream",
     "text": [
      "['11540'] 1\n"
     ]
    }
   ],
   "source": [
    "# Author: Grégory Operto <goperto@barcelonabeta.org>\n",
    "\n",
    "from pyxnat import Interface\n",
    "from bbrc import xnat\n",
    "\n",
    "config_file = '/home/grg/.xnat_bsc.cfg'\n",
    "dest_dir = '/tmp/amyloid2'\n",
    "project = 'ALFA_OPCIONAL'\n",
    "subjects = ['11540'] #[e for e in open('/tmp/amyloid_subjects.txt').read().split('\\n') if e != '']\n",
    "sequences = ['T1_ALFA1', 'DWI_ALFA1']\n",
    "\n",
    "# Setting up an active connexion to XNAT\n",
    "central = Interface(config=config_file)\n",
    "print subjects, len(subjects)"
   ]
  },
  {
   "cell_type": "code",
   "execution_count": 14,
   "metadata": {
    "collapsed": false
   },
   "outputs": [
    {
     "name": "stdout",
     "output_type": "stream",
     "text": [
      "11540 has the following sequences {'201': 'B1_calibration', '601': 'RS_ALFA1', '1301': 'DWI_ALFA1', '1201': 'rDWI_ALFA1', '203': 'B1_calibration', '404': 'T1_Axial', '403': 'T1_Coronal', '401': 'T1_ALFA1', '501': 'rRS_ALFA1', '0-OT1': 'T1_Coronal', '0-OT3': 'T1_ALFA1', '0-OT2': 'T1_Axial', '0-OT5': 'DWI_ALFA1', '0-OT4': 'FLAIR_ALFA1', '301': 'B0_ALFA1', '701': 'SE-fMRI-AP', '103': 'SmartBrain SENSE', '101': 'SmartBrain SENSE', '104': 'Patient Aligned MPR AWPLAN_SMARTPLAN_TYPE_BRAIN', '903': 'FLAIR_Coronal', '901': 'FLAIR_ALFA1', '904': 'FLAIR_Axial', '1101': 'IR_ALFA1', '801': 'SE-fMRI-PA', '1001': 'T2_ALFA1'}\n",
      "Resource files of sequence T1_ALFA1: [<File Object> 11540_401.nii.gz]\n",
      "[u'/tmp/amyloid2/NIFTI/11540_401.nii.gz'] have been created successfully\n",
      "Resource files of sequence DWI_ALFA1: [<File Object> 11540_1301.nii.gz, <File Object> 11540_1301.bvec, <File Object> 11540_1301.bval]\n",
      "[u'/tmp/amyloid2/NIFTI/11540_1301.nii.gz', u'/tmp/amyloid2/NIFTI/11540_1301.bvec', u'/tmp/amyloid2/NIFTI/11540_1301.bval'] have been created successfully\n",
      "\n"
     ]
    }
   ],
   "source": [
    "# Selecting a project from which download images\n",
    "p = central.select.project(project)\n",
    "# Get a list of subjects in the project to download all of them (instead of a list)\n",
    "#subjects = [e.label() for e in list(p.subjects())]\n",
    "\n",
    "for subject in subjects:\n",
    "    # For each subject iterate on associated experiments\n",
    "    exp = list(p.subject(str(subject)).experiments())    \n",
    "    for e in exp:\n",
    "        # Get a list of available sequences\n",
    "        d = xnat.series_desc(central, e.id())        \n",
    "        print('%s has the following sequences %s'%(subject, d))\n",
    "        for sq in sequences:                    \n",
    "            # Get the scan corresponding to sequence if available and select the NIFTI resource\n",
    "            if sq in d.values():\n",
    "                sids = [k for k,v in d.items() if v == sq and not k.startswith('0')]\n",
    "                assert(len(sids)!=0)\n",
    "                for sid in sids:\n",
    "                    sc = e.scan(sid)\n",
    "                    res = sc.resource('NIFTI')\n",
    "\n",
    "                    # Displays a list of contained files\n",
    "                    print('Resource files of sequence %s: %s'%(sq, list(res.files())))\n",
    "\n",
    "                    # Download the corresponding archive and extract it in dest_dir\n",
    "                    fp1 = res.get(dest_dir, extract=True)\n",
    "                    print('%s have been created successfully'%fp1)\n",
    "            else:\n",
    "                print('%s is missing for subject %s'%(sq, subject))\n",
    "    print('')"
   ]
  },
  {
   "cell_type": "markdown",
   "metadata": {},
   "source": [
    "Are there any missing subjects?"
   ]
  },
  {
   "cell_type": "code",
   "execution_count": null,
   "metadata": {
    "collapsed": false
   },
   "outputs": [],
   "source": [
    "import os.path as osp\n",
    "from glob import glob\n",
    "import pandas as pd\n",
    "\n",
    "wd = '/tmp/downloads/NIFTI'\n",
    "t = [[subject, len(glob(osp.join(wd, '%s*'%subject)))] for subject in subjects]\n",
    "df = pd.DataFrame(t, columns=['subject', 'n'])\n",
    "\n",
    "missing = df[df['n']==0]['subject'].tolist()\n",
    "print('Missing subjects: %s'%missing)"
   ]
  },
  {
   "cell_type": "markdown",
   "metadata": {},
   "source": [
    "Applying online protocol validation on first missing subject (first experiment if any)"
   ]
  },
  {
   "cell_type": "code",
   "execution_count": null,
   "metadata": {
    "collapsed": false
   },
   "outputs": [],
   "source": [
    "first = missing[0]\n",
    "expid = xnat.subject_experiments(central, project, first)[0].id()\n",
    "destination = [['goperto@barcelonabeta.org'], ['goperto@barcelonabeta.org']]\n",
    "res, logs = xnat.check_session(central, expid, destination=destination, send_mail=True)\n",
    "print('%s resulted with %s'%(first, ['SUCCESS', 'WARNING', 'ERRORS'][res]))"
   ]
  }
 ],
 "metadata": {
  "kernelspec": {
   "display_name": "Python 2",
   "language": "python",
   "name": "python2"
  },
  "language_info": {
   "codemirror_mode": {
    "name": "ipython",
    "version": 2
   },
   "file_extension": ".py",
   "mimetype": "text/x-python",
   "name": "python",
   "nbconvert_exporter": "python",
   "pygments_lexer": "ipython2",
   "version": "2.7.11+"
  }
 },
 "nbformat": 4,
 "nbformat_minor": 1
}
