{
 "cells": [
  {
   "cell_type": "markdown",
   "metadata": {},
   "source": []
  },
  {
   "cell_type": "code",
   "execution_count": 15,
   "metadata": {
    "collapsed": false
   },
   "outputs": [],
   "source": [
    "import numpy as np\n",
    "import nibabel as nib\n",
    "import pandas as pd\n",
    "from joblib import Parallel, delayed\n",
    "\n",
    "def map_values(map_fp, atlas, func):\n",
    "     m = np.array(nib.load(map_fp).dataobj)\n",
    "     n_labels = len(np.unique(atlas))\n",
    "     label_values = [func(m[atlas==label]) for label in range(1, n_labels)]\n",
    "     return label_values\n",
    "\n",
    "def regions_values(atlas_im, maps_fp, subjects=None, labels=None, func=np.mean,\n",
    "      n_jobs=7):\n",
    "   \n",
    "     atlas = np.array(atlas_im.dataobj)\n",
    "\n",
    "     n_labels = len(np.unique(atlas))\n",
    "     log.info('%s labels in %s'%(n_labels, atlas_fp))\n",
    "\n",
    "\n",
    "     df = Parallel(n_jobs=n_jobs, verbose=1)(\\\n",
    "         delayed(map_values)(maps_fp[i], atlas, func)\\\n",
    "         for i in xrange(len(maps_fp)))\n",
    "\n",
    "     columns = labels if not labels is None \\\n",
    "             else [str(e) for e in range(1, n_labels)]\n",
    "\n",
    "     res = pd.DataFrame(df, columns=columns)\n",
    "\n",
    "     res['subject'] = xrange(len(maps_fp)) if subjects is None else subjects\n",
    "     res = res.set_index('subject')\n",
    "\n",
    "     return res"
   ]
  },
  {
   "cell_type": "markdown",
   "metadata": {},
   "source": []
  },
  {
   "cell_type": "code",
   "execution_count": 5,
   "metadata": {
    "collapsed": false
   },
   "outputs": [
    {
     "name": "stderr",
     "output_type": "stream",
     "text": [
      "[Parallel(n_jobs=7)]: Done 137 tasks      | elapsed:    5.8s\n",
      "[Parallel(n_jobs=7)]: Done 505 out of 505 | elapsed:   16.2s finished\n"
     ]
    },
    {
     "data": {
      "text/html": [
       "<div>\n",
       "<style>\n",
       "    .dataframe thead tr:only-child th {\n",
       "        text-align: right;\n",
       "    }\n",
       "\n",
       "    .dataframe thead th {\n",
       "        text-align: left;\n",
       "    }\n",
       "\n",
       "    .dataframe tbody tr th {\n",
       "        vertical-align: top;\n",
       "    }\n",
       "</style>\n",
       "<table border=\"1\" class=\"dataframe\">\n",
       "  <thead>\n",
       "    <tr style=\"text-align: right;\">\n",
       "      <th></th>\n",
       "      <th>Middle cerebellar peduncle</th>\n",
       "      <th>Pontine crossing tract</th>\n",
       "      <th>Genu of corpus callosum</th>\n",
       "      <th>Body of corpus callosum</th>\n",
       "      <th>Splenium of corpus callosum</th>\n",
       "      <th>Fornix</th>\n",
       "      <th>Corticospinal tract R</th>\n",
       "      <th>Corticospinal tract L</th>\n",
       "      <th>Medial lemniscus R</th>\n",
       "    </tr>\n",
       "    <tr>\n",
       "      <th>subject</th>\n",
       "      <th></th>\n",
       "      <th></th>\n",
       "      <th></th>\n",
       "      <th></th>\n",
       "      <th></th>\n",
       "      <th></th>\n",
       "      <th></th>\n",
       "      <th></th>\n",
       "      <th></th>\n",
       "    </tr>\n",
       "  </thead>\n",
       "  <tbody>\n",
       "    <tr>\n",
       "      <th>10538</th>\n",
       "      <td>0.000817</td>\n",
       "      <td>0.000895</td>\n",
       "      <td>0.000757</td>\n",
       "      <td>0.000818</td>\n",
       "      <td>0.000833</td>\n",
       "      <td>0.000849</td>\n",
       "      <td>0.000819</td>\n",
       "      <td>0.000834</td>\n",
       "      <td>0.000716</td>\n",
       "    </tr>\n",
       "    <tr>\n",
       "      <th>12252</th>\n",
       "      <td>0.000850</td>\n",
       "      <td>0.000896</td>\n",
       "      <td>0.000719</td>\n",
       "      <td>0.000816</td>\n",
       "      <td>0.000817</td>\n",
       "      <td>0.000850</td>\n",
       "      <td>0.000843</td>\n",
       "      <td>0.000834</td>\n",
       "      <td>0.000743</td>\n",
       "    </tr>\n",
       "    <tr>\n",
       "      <th>55708</th>\n",
       "      <td>0.000853</td>\n",
       "      <td>0.000929</td>\n",
       "      <td>0.000732</td>\n",
       "      <td>0.000851</td>\n",
       "      <td>0.000795</td>\n",
       "      <td>0.000922</td>\n",
       "      <td>0.000839</td>\n",
       "      <td>0.000872</td>\n",
       "      <td>0.000786</td>\n",
       "    </tr>\n",
       "    <tr>\n",
       "      <th>12121</th>\n",
       "      <td>0.000842</td>\n",
       "      <td>0.000926</td>\n",
       "      <td>0.000810</td>\n",
       "      <td>0.000846</td>\n",
       "      <td>0.000826</td>\n",
       "      <td>0.000868</td>\n",
       "      <td>0.000810</td>\n",
       "      <td>0.000822</td>\n",
       "      <td>0.000723</td>\n",
       "    </tr>\n",
       "    <tr>\n",
       "      <th>11015</th>\n",
       "      <td>0.000847</td>\n",
       "      <td>0.000879</td>\n",
       "      <td>0.000805</td>\n",
       "      <td>0.000877</td>\n",
       "      <td>0.000856</td>\n",
       "      <td>0.000839</td>\n",
       "      <td>0.000814</td>\n",
       "      <td>0.000792</td>\n",
       "      <td>0.000831</td>\n",
       "    </tr>\n",
       "  </tbody>\n",
       "</table>\n",
       "</div>"
      ],
      "text/plain": [
       "         Middle cerebellar peduncle  Pontine crossing tract  \\\n",
       "subject                                                       \n",
       "10538                      0.000817                0.000895   \n",
       "12252                      0.000850                0.000896   \n",
       "55708                      0.000853                0.000929   \n",
       "12121                      0.000842                0.000926   \n",
       "11015                      0.000847                0.000879   \n",
       "\n",
       "         Genu of corpus callosum  Body of corpus callosum  \\\n",
       "subject                                                     \n",
       "10538                   0.000757                 0.000818   \n",
       "12252                   0.000719                 0.000816   \n",
       "55708                   0.000732                 0.000851   \n",
       "12121                   0.000810                 0.000846   \n",
       "11015                   0.000805                 0.000877   \n",
       "\n",
       "         Splenium of corpus callosum    Fornix  Corticospinal tract R  \\\n",
       "subject                                                                 \n",
       "10538                       0.000833  0.000849               0.000819   \n",
       "12252                       0.000817  0.000850               0.000843   \n",
       "55708                       0.000795  0.000922               0.000839   \n",
       "12121                       0.000826  0.000868               0.000810   \n",
       "11015                       0.000856  0.000839               0.000814   \n",
       "\n",
       "         Corticospinal tract L  Medial lemniscus R  \n",
       "subject                                             \n",
       "10538                 0.000834            0.000716  \n",
       "12252                 0.000834            0.000743  \n",
       "55708                 0.000872            0.000786  \n",
       "12121                 0.000822            0.000723  \n",
       "11015                 0.000792            0.000831  "
      ]
     },
     "execution_count": 5,
     "metadata": {},
     "output_type": "execute_result"
    }
   ],
   "source": [
    "atlas_fp = '/home/grg/SPM/2016-2017/ROIapoE/ROI_DARTEL/csf5/rois.nii.gz'\n",
    "maps_fp = glob('/home/grg/data/ALFA_DWI/dartel_ALFA_DWI/dartel_csf.5/rswr*.nii')\n",
    "subjects = [e.split('/')[-1][4:9] for e in maps_fp]\n",
    "names = {1: 'Middle cerebellar peduncle', 2: 'Pontine crossing tract',\n",
    "        3: 'Genu of corpus callosum', 4: 'Body of corpus callosum',\n",
    "        5: 'Splenium of corpus callosum',  6: 'Fornix',\n",
    "        7: 'Corticospinal tract R',  8: 'Corticospinal tract L',\n",
    "        9: 'Medial lemniscus R'}\n",
    "df = regions_values(atlas_fp, maps_fp, subjects=subjects, labels=names.values())\n",
    "df.head()"
   ]
  },
  {
   "cell_type": "code",
   "execution_count": 1,
   "metadata": {
    "collapsed": false
   },
   "outputs": [
    {
     "name": "stderr",
     "output_type": "stream",
     "text": [
      "/home/grg/jupyter/local/lib/python2.7/site-packages/sklearn/cross_validation.py:44: DeprecationWarning: This module was deprecated in version 0.18 in favor of the model_selection module into which all the refactored classes and functions are moved. Also note that the interface of the new CV iterators are different from that of this module. This module will be removed in 0.20.\n",
      "  \"This module will be removed in 0.20.\", DeprecationWarning)\n"
     ]
    },
    {
     "data": {
      "text/plain": [
       "<nilearn.plotting.displays.OrthoSlicer at 0x7fbe691dc3d0>"
      ]
     },
     "execution_count": 1,
     "metadata": {},
     "output_type": "execute_result"
    },
    {
     "data": {
      "image/png": "[encoded data removed]",
      "text/plain": [
       "<matplotlib.figure.Figure at 0x7fbe69e17810>"
      ]
     },
     "metadata": {},
     "output_type": "display_data"
    }
   ],
   "source": [
    "fp = '/home/grg/TBSS/ALFA_DWI/roivalues/jhu-labels_skeleton.nii.gz'\n",
    "%matplotlib inline\n",
    "from nilearn import image, plotting, datasets\n",
    "rois = image.load_img(fp)\n",
    "plotting.plot_roi(rois)"
   ]
  },
  {
   "cell_type": "code",
   "execution_count": 2,
   "metadata": {
    "collapsed": false
   },
   "outputs": [
    {
     "name": "stdout",
     "output_type": "stream",
     "text": [
      "/usr/lib/fsl/5.0\n",
      "('data/atlases/JHU/JHU-ICBM-tracts-maxprob-thr25-1mm.nii.gz', 'http://neurovault.org/media/images/264/JHU.tgz', {'uncompress': True})\n"
     ]
    },
    {
     "ename": "ValueError",
     "evalue": "Dataset files are missing but dataset repository is read-only. Contact your data administrator to solve the problem",
     "output_type": "error",
     "traceback": [
      "\u001b[0;31m\u001b[0m",
      "\u001b[0;31mValueError\u001b[0mTraceback (most recent call last)",
      "\u001b[0;32m<ipython-input-2-ad86f18e51d9>\u001b[0m in \u001b[0;36m<module>\u001b[0;34m()\u001b[0m\n\u001b[1;32m      3\u001b[0m \u001b[0mmaps_fp\u001b[0m \u001b[0;34m=\u001b[0m \u001b[0msorted\u001b[0m\u001b[0;34m(\u001b[0m\u001b[0mglob\u001b[0m\u001b[0;34m(\u001b[0m\u001b[0;34m'/tmp/amylstaging_FA/*nii.gz'\u001b[0m\u001b[0;34m)\u001b[0m\u001b[0;34m)\u001b[0m\u001b[0;34m\u001b[0m\u001b[0m\n\u001b[1;32m      4\u001b[0m \u001b[0msubjects\u001b[0m \u001b[0;34m=\u001b[0m \u001b[0;34m[\u001b[0m\u001b[0mop\u001b[0m\u001b[0;34m.\u001b[0m\u001b[0mbasename\u001b[0m\u001b[0;34m(\u001b[0m\u001b[0me\u001b[0m\u001b[0;34m)\u001b[0m\u001b[0;34m.\u001b[0m\u001b[0msplit\u001b[0m\u001b[0;34m(\u001b[0m\u001b[0;34m'_'\u001b[0m\u001b[0;34m)\u001b[0m\u001b[0;34m[\u001b[0m\u001b[0;36m0\u001b[0m\u001b[0;34m]\u001b[0m \u001b[0;32mfor\u001b[0m \u001b[0me\u001b[0m \u001b[0;32min\u001b[0m \u001b[0mmaps_fp\u001b[0m\u001b[0;34m]\u001b[0m\u001b[0;34m\u001b[0m\u001b[0m\n\u001b[0;32m----> 5\u001b[0;31m \u001b[0mlabels\u001b[0m\u001b[0;34m,\u001b[0m \u001b[0m_\u001b[0m \u001b[0;34m=\u001b[0m \u001b[0mdatasets\u001b[0m\u001b[0;34m.\u001b[0m\u001b[0mfetch_atlas_JHU\u001b[0m\u001b[0;34m(\u001b[0m\u001b[0;34m'ICBM-tracts-maxprob-thr25-1mm'\u001b[0m\u001b[0;34m)\u001b[0m\u001b[0;34m\u001b[0m\u001b[0m\n\u001b[0m\u001b[1;32m      6\u001b[0m \u001b[0;34m\u001b[0m\u001b[0m\n\u001b[1;32m      7\u001b[0m \u001b[0mdf\u001b[0m \u001b[0;34m=\u001b[0m \u001b[0mregions_values\u001b[0m\u001b[0;34m(\u001b[0m\u001b[0mrois\u001b[0m\u001b[0;34m,\u001b[0m \u001b[0mmaps_fp\u001b[0m\u001b[0;34m,\u001b[0m \u001b[0msubjects\u001b[0m\u001b[0;34m,\u001b[0m \u001b[0mlabels\u001b[0m\u001b[0;34m)\u001b[0m\u001b[0;34m\u001b[0m\u001b[0m\n",
      "\u001b[0;32m/home/grg/jupyter/local/lib/python2.7/site-packages/nilearn/datasets/atlas.pyc\u001b[0m in \u001b[0;36mfetch_atlas_JHU\u001b[0;34m(atlas_name, data_dir, symmetric_split, resume, verbose)\u001b[0m\n\u001b[1;32m    377\u001b[0m         \u001b[0mdata_dir\u001b[0m\u001b[0;34m,\u001b[0m\u001b[0;34m\u001b[0m\u001b[0m\n\u001b[1;32m    378\u001b[0m         \u001b[0;34m[\u001b[0m\u001b[0;34m(\u001b[0m\u001b[0matlas_file\u001b[0m\u001b[0;34m,\u001b[0m \u001b[0murl\u001b[0m\u001b[0;34m,\u001b[0m \u001b[0mopts\u001b[0m\u001b[0;34m)\u001b[0m\u001b[0;34m,\u001b[0m \u001b[0;34m(\u001b[0m\u001b[0mlabel_file\u001b[0m\u001b[0;34m,\u001b[0m \u001b[0murl\u001b[0m\u001b[0;34m,\u001b[0m \u001b[0mopts\u001b[0m\u001b[0;34m)\u001b[0m\u001b[0;34m]\u001b[0m\u001b[0;34m,\u001b[0m\u001b[0;34m\u001b[0m\u001b[0m\n\u001b[0;32m--> 379\u001b[0;31m         resume=resume, verbose=verbose)\n\u001b[0m\u001b[1;32m    380\u001b[0m \u001b[0;34m\u001b[0m\u001b[0m\n\u001b[1;32m    381\u001b[0m     \u001b[0mnames\u001b[0m \u001b[0;34m=\u001b[0m \u001b[0;34m{\u001b[0m\u001b[0;34m}\u001b[0m\u001b[0;34m\u001b[0m\u001b[0m\n",
      "\u001b[0;32m/home/grg/jupyter/local/lib/python2.7/site-packages/nilearn/datasets/utils.pyc\u001b[0m in \u001b[0;36m_fetch_files\u001b[0;34m(data_dir, files, resume, mock, verbose)\u001b[0m\n\u001b[1;32m    720\u001b[0m             \u001b[0;31m# download files.\u001b[0m\u001b[0;34m\u001b[0m\u001b[0;34m\u001b[0m\u001b[0m\n\u001b[1;32m    721\u001b[0m             \u001b[0;32mif\u001b[0m \u001b[0;32mnot\u001b[0m \u001b[0mos\u001b[0m\u001b[0;34m.\u001b[0m\u001b[0maccess\u001b[0m\u001b[0;34m(\u001b[0m\u001b[0mdata_dir\u001b[0m\u001b[0;34m,\u001b[0m \u001b[0mos\u001b[0m\u001b[0;34m.\u001b[0m\u001b[0mW_OK\u001b[0m\u001b[0;34m)\u001b[0m\u001b[0;34m:\u001b[0m\u001b[0;34m\u001b[0m\u001b[0m\n\u001b[0;32m--> 722\u001b[0;31m                 raise ValueError('Dataset files are missing but dataset'\n\u001b[0m\u001b[1;32m    723\u001b[0m                                  \u001b[0;34m' repository is read-only. Contact your data'\u001b[0m\u001b[0;34m\u001b[0m\u001b[0m\n\u001b[1;32m    724\u001b[0m                                  ' administrator to solve the problem')\n",
      "\u001b[0;31mValueError\u001b[0m: Dataset files are missing but dataset repository is read-only. Contact your data administrator to solve the problem"
     ]
    }
   ],
   "source": [
    "from glob import glob\n",
    "import os.path as op\n",
    "maps_fp = sorted(glob('/tmp/amylstaging_FA/*nii.gz'))\n",
    "subjects = [op.basename(e).split('_')[0] for e in maps_fp]\n",
    "labels, _ = datasets.fetch_atlas_JHU('ICBM-tracts-maxprob-thr25-1mm')\n",
    "\n",
    "df = regions_values(rois, maps_fp, subjects, labels)"
   ]
  },
  {
   "cell_type": "code",
   "execution_count": 1,
   "metadata": {
    "collapsed": true
   },
   "outputs": [],
   "source": [
    "from nilearn import datasets"
   ]
  },
  {
   "cell_type": "code",
   "execution_count": 2,
   "metadata": {
    "collapsed": false
   },
   "outputs": [
    {
     "name": "stdout",
     "output_type": "stream",
     "text": [
      "/usr/lib/fsl/5.0\n",
      "('data/atlases/JHU/JHU-ICBM-tracts-maxprob-thr25-1mm.nii.gz', 'http://neurovault.org/media/images/264/JHU.tgz', {'uncompress': True})\n"
     ]
    },
    {
     "ename": "ValueError",
     "evalue": "Dataset files are missing but dataset repository is read-only. Contact your data administrator to solve the problem",
     "output_type": "error",
     "traceback": [
      "\u001b[0;31m\u001b[0m",
      "\u001b[0;31mValueError\u001b[0mTraceback (most recent call last)",
      "\u001b[0;32m<ipython-input-2-1bcf6d36e570>\u001b[0m in \u001b[0;36m<module>\u001b[0;34m()\u001b[0m\n\u001b[0;32m----> 1\u001b[0;31m \u001b[0mdatasets\u001b[0m\u001b[0;34m.\u001b[0m\u001b[0mfetch_atlas_JHU\u001b[0m\u001b[0;34m(\u001b[0m\u001b[0;34m'ICBM-tracts-maxprob-thr25-1mm'\u001b[0m\u001b[0;34m)\u001b[0m\u001b[0;34m\u001b[0m\u001b[0m\n\u001b[0m",
      "\u001b[0;32m/home/grg/jupyter/local/lib/python2.7/site-packages/nilearn/datasets/atlas.pyc\u001b[0m in \u001b[0;36mfetch_atlas_JHU\u001b[0;34m(atlas_name, data_dir, symmetric_split, resume, verbose)\u001b[0m\n\u001b[1;32m    377\u001b[0m         \u001b[0mdata_dir\u001b[0m\u001b[0;34m,\u001b[0m\u001b[0;34m\u001b[0m\u001b[0m\n\u001b[1;32m    378\u001b[0m         \u001b[0;34m[\u001b[0m\u001b[0;34m(\u001b[0m\u001b[0matlas_file\u001b[0m\u001b[0;34m,\u001b[0m \u001b[0murl\u001b[0m\u001b[0;34m,\u001b[0m \u001b[0mopts\u001b[0m\u001b[0;34m)\u001b[0m\u001b[0;34m,\u001b[0m \u001b[0;34m(\u001b[0m\u001b[0mlabel_file\u001b[0m\u001b[0;34m,\u001b[0m \u001b[0murl\u001b[0m\u001b[0;34m,\u001b[0m \u001b[0mopts\u001b[0m\u001b[0;34m)\u001b[0m\u001b[0;34m]\u001b[0m\u001b[0;34m,\u001b[0m\u001b[0;34m\u001b[0m\u001b[0m\n\u001b[0;32m--> 379\u001b[0;31m         resume=resume, verbose=verbose)\n\u001b[0m\u001b[1;32m    380\u001b[0m \u001b[0;34m\u001b[0m\u001b[0m\n\u001b[1;32m    381\u001b[0m     \u001b[0mnames\u001b[0m \u001b[0;34m=\u001b[0m \u001b[0;34m{\u001b[0m\u001b[0;34m}\u001b[0m\u001b[0;34m\u001b[0m\u001b[0m\n",
      "\u001b[0;32m/home/grg/jupyter/local/lib/python2.7/site-packages/nilearn/datasets/utils.pyc\u001b[0m in \u001b[0;36m_fetch_files\u001b[0;34m(data_dir, files, resume, mock, verbose)\u001b[0m\n\u001b[1;32m    720\u001b[0m             \u001b[0;31m# download files.\u001b[0m\u001b[0;34m\u001b[0m\u001b[0;34m\u001b[0m\u001b[0m\n\u001b[1;32m    721\u001b[0m             \u001b[0;32mif\u001b[0m \u001b[0;32mnot\u001b[0m \u001b[0mos\u001b[0m\u001b[0;34m.\u001b[0m\u001b[0maccess\u001b[0m\u001b[0;34m(\u001b[0m\u001b[0mdata_dir\u001b[0m\u001b[0;34m,\u001b[0m \u001b[0mos\u001b[0m\u001b[0;34m.\u001b[0m\u001b[0mW_OK\u001b[0m\u001b[0;34m)\u001b[0m\u001b[0;34m:\u001b[0m\u001b[0;34m\u001b[0m\u001b[0m\n\u001b[0;32m--> 722\u001b[0;31m                 raise ValueError('Dataset files are missing but dataset'\n\u001b[0m\u001b[1;32m    723\u001b[0m                                  \u001b[0;34m' repository is read-only. Contact your data'\u001b[0m\u001b[0;34m\u001b[0m\u001b[0m\n\u001b[1;32m    724\u001b[0m                                  ' administrator to solve the problem')\n",
      "\u001b[0;31mValueError\u001b[0m: Dataset files are missing but dataset repository is read-only. Contact your data administrator to solve the problem"
     ]
    }
   ],
   "source": [
    "datasets.fetch_atlas_JHU('ICBM-tracts-maxprob-thr25-1mm')"
   ]
  },
  {
   "cell_type": "code",
   "execution_count": null,
   "metadata": {
    "collapsed": true
   },
   "outputs": [],
   "source": []
  }
 ],
 "metadata": {
  "kernelspec": {
   "display_name": "Python 2",
   "language": "python",
   "name": "python2"
  },
  "language_info": {
   "codemirror_mode": {
    "name": "ipython",
    "version": 2
   },
   "file_extension": ".py",
   "mimetype": "text/x-python",
   "name": "python",
   "nbconvert_exporter": "python",
   "pygments_lexer": "ipython2",
   "version": "2.7.11+"
  }
 },
 "nbformat": 4,
 "nbformat_minor": 1
}
