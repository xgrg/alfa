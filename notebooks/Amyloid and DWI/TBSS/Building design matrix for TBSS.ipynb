{
 "cells": [
  {
   "cell_type": "markdown",
   "metadata": {
    "slideshow": {
     "slide_type": "slide"
    }
   },
   "source": [
    "# Building the design matrix for TBSS"
   ]
  },
  {
   "cell_type": "markdown",
   "metadata": {},
   "source": [
    "Modeling the interaction between ApoE and centiloids on DWI"
   ]
  },
  {
   "cell_type": "code",
   "execution_count": 52,
   "metadata": {
    "collapsed": false,
    "slideshow": {
     "slide_type": "skip"
    }
   },
   "outputs": [],
   "source": [
    "%run /home/grg/git/alfa/nilearn-helper.py\n",
    "%run /home/grg/git/alfa/build_matrix.py\n",
    "%matplotlib inline"
   ]
  },
  {
   "cell_type": "code",
   "execution_count": 17,
   "metadata": {
    "collapsed": false,
    "slideshow": {
     "slide_type": "fragment"
    }
   },
   "outputs": [
    {
     "name": "stdout",
     "output_type": "stream",
     "text": [
      "[10019, 10044, 10065, 10070, 10137, 10162, 10200, 10225, 10235, 10245, 10319, 10329, 10424, 10515, 10560, 10613, 10627, 10649, 10696, 10711, 10724, 10779, 10810, 10881, 10949, 11042, 11055, 11111, 11114, 11125, 11127, 11132, 11248, 11257, 11262, 11273, 11291, 11387, 11397, 11478, 11514, 11540, 11587, 11593, 11656, 11711, 11742, 11745, 11747, 11829, 11866, 12118, 12184, 12269, 12279, 12304, 12308, 12627, 12741, 12769, 12778, 12783, 12810, 12991, 13035, 13041, 13059, 13105, 13107, 13166, 13193, 13244, 13259, 21136, 21138, 21156, 44008, 44158, 44214, 44231, 44301, 44304, 44329, 44349, 44363, 44396, 44660, 55038, 55210, 55607, 55630, 55777, 55797, 55834, 55854, 66008, 66027, 66045, 66067, 66100, 66162, 66224, 66237, 66249, 66296, 66301, 66488, 66489, 77012, 77101, 77104, 77164, 77224, 77341]\n"
     ]
    }
   ],
   "source": [
    "import json, string\n",
    "import os.path as op\n",
    "from glob import glob\n",
    "dd = '/home/grg/SPM/2018'\n",
    "data_dir = '/home/grg/TBSS/AMYLOID/amylstaging/origdata/'\n",
    "subjects = sorted([string.atoi(op.basename(e).split('_')[0]) for e in glob(op.join(data_dir, '*.nii.gz'))]) #.difference(set(failed)))\n",
    "len(subjects)\n",
    "print subjects"
   ]
  },
  {
   "cell_type": "code",
   "execution_count": 83,
   "metadata": {
    "collapsed": false
   },
   "outputs": [],
   "source": [
    "variables = ['subject', 'age', 'centiloids', 'apoe']\n",
    "cov = pd.DataFrame(pd.read_excel(osp.join(dd, 'covariates.xlsx'), converters={'subject':int, 'apoe':int}), columns=variables).set_index('subject')\n",
    "cov = cov.loc[subjects]"
   ]
  },
  {
   "cell_type": "code",
   "execution_count": 67,
   "metadata": {
    "collapsed": false
   },
   "outputs": [
    {
     "name": "stdout",
     "output_type": "stream",
     "text": [
      "[10019, 10044, 10065, 10070, 10137, 10162, 10200, 10225, 10235, 10245, 10319, 10329, 10424, 10515, 10560, 10613, 10627, 10649, 10696, 10711, 10724, 10779, 10810, 10881, 10949, 11042, 11055, 11111, 11114, 11125, 11127, 11132, 11248, 11257, 11262, 11273, 11291, 11387, 11397, 11478, 11514, 11540, 11587, 11593, 11656, 11711, 11742, 11745, 11747, 11829, 11866, 12118, 12184, 12269, 12279, 12304, 12308, 12627, 12741, 12769, 12778, 12783, 12810, 12991, 13035, 13041, 13059, 13105, 13107, 13166, 13193, 13244, 13259, 21136, 21138, 21156, 44008, 44158, 44214, 44231, 44301, 44304, 44329, 44349, 44363, 44396, 44660, 55038, 55210, 55607, 55630, 55777, 55797, 55834, 55854, 66008, 66027, 66045, 66067, 66100, 66162, 66224, 66237, 66249, 66296, 66301, 66488, 66489, 77012, 77101, 77104, 77164, 77224, 77341]\n",
      "114\n"
     ]
    },
    {
     "data": {
      "text/html": [
       "<div>\n",
       "<style>\n",
       "    .dataframe thead tr:only-child th {\n",
       "        text-align: right;\n",
       "    }\n",
       "\n",
       "    .dataframe thead th {\n",
       "        text-align: left;\n",
       "    }\n",
       "\n",
       "    .dataframe tbody tr th {\n",
       "        vertical-align: top;\n",
       "    }\n",
       "</style>\n",
       "<table border=\"1\" class=\"dataframe\">\n",
       "  <thead>\n",
       "    <tr style=\"text-align: right;\">\n",
       "      <th></th>\n",
       "      <th>images</th>\n",
       "      <th>age</th>\n",
       "      <th>gender</th>\n",
       "      <th>centiloids</th>\n",
       "      <th>0</th>\n",
       "      <th>1</th>\n",
       "      <th>2</th>\n",
       "      <th>centiloids0</th>\n",
       "      <th>centiloids1</th>\n",
       "      <th>centiloids2</th>\n",
       "    </tr>\n",
       "  </thead>\n",
       "  <tbody>\n",
       "    <tr>\n",
       "      <th>0</th>\n",
       "      <td>/home/grg/TBSS/AMYLOID/amylstaging/origdata/10...</td>\n",
       "      <td>63.422313</td>\n",
       "      <td>2</td>\n",
       "      <td>-7.62</td>\n",
       "      <td>1</td>\n",
       "      <td>0</td>\n",
       "      <td>0</td>\n",
       "      <td>-7.62</td>\n",
       "      <td>-0.0</td>\n",
       "      <td>-0.00</td>\n",
       "    </tr>\n",
       "    <tr>\n",
       "      <th>1</th>\n",
       "      <td>/home/grg/TBSS/AMYLOID/amylstaging/origdata/10...</td>\n",
       "      <td>54.757016</td>\n",
       "      <td>1</td>\n",
       "      <td>-1.84</td>\n",
       "      <td>1</td>\n",
       "      <td>0</td>\n",
       "      <td>0</td>\n",
       "      <td>-1.84</td>\n",
       "      <td>-0.0</td>\n",
       "      <td>-0.00</td>\n",
       "    </tr>\n",
       "    <tr>\n",
       "      <th>2</th>\n",
       "      <td>/home/grg/TBSS/AMYLOID/amylstaging/origdata/10...</td>\n",
       "      <td>50.390144</td>\n",
       "      <td>2</td>\n",
       "      <td>-0.16</td>\n",
       "      <td>0</td>\n",
       "      <td>0</td>\n",
       "      <td>1</td>\n",
       "      <td>-0.00</td>\n",
       "      <td>-0.0</td>\n",
       "      <td>-0.16</td>\n",
       "    </tr>\n",
       "    <tr>\n",
       "      <th>3</th>\n",
       "      <td>/home/grg/TBSS/AMYLOID/amylstaging/origdata/10...</td>\n",
       "      <td>54.151951</td>\n",
       "      <td>1</td>\n",
       "      <td>-4.12</td>\n",
       "      <td>1</td>\n",
       "      <td>0</td>\n",
       "      <td>0</td>\n",
       "      <td>-4.12</td>\n",
       "      <td>-0.0</td>\n",
       "      <td>-0.00</td>\n",
       "    </tr>\n",
       "    <tr>\n",
       "      <th>4</th>\n",
       "      <td>/home/grg/TBSS/AMYLOID/amylstaging/origdata/10...</td>\n",
       "      <td>52.878850</td>\n",
       "      <td>1</td>\n",
       "      <td>-17.65</td>\n",
       "      <td>1</td>\n",
       "      <td>0</td>\n",
       "      <td>0</td>\n",
       "      <td>-17.65</td>\n",
       "      <td>-0.0</td>\n",
       "      <td>-0.00</td>\n",
       "    </tr>\n",
       "  </tbody>\n",
       "</table>\n",
       "</div>"
      ],
      "text/plain": [
       "                                              images        age  gender  \\\n",
       "0  /home/grg/TBSS/AMYLOID/amylstaging/origdata/10...  63.422313       2   \n",
       "1  /home/grg/TBSS/AMYLOID/amylstaging/origdata/10...  54.757016       1   \n",
       "2  /home/grg/TBSS/AMYLOID/amylstaging/origdata/10...  50.390144       2   \n",
       "3  /home/grg/TBSS/AMYLOID/amylstaging/origdata/10...  54.151951       1   \n",
       "4  /home/grg/TBSS/AMYLOID/amylstaging/origdata/10...  52.878850       1   \n",
       "\n",
       "   centiloids  0  1  2  centiloids0  centiloids1  centiloids2  \n",
       "0       -7.62  1  0  0        -7.62         -0.0        -0.00  \n",
       "1       -1.84  1  0  0        -1.84         -0.0        -0.00  \n",
       "2       -0.16  0  0  1        -0.00         -0.0        -0.16  \n",
       "3       -4.12  1  0  0        -4.12         -0.0        -0.00  \n",
       "4      -17.65  1  0  0       -17.65         -0.0        -0.00  "
      ]
     },
     "execution_count": 67,
     "metadata": {},
     "output_type": "execute_result"
    }
   ],
   "source": [
    "cov = pd.DataFrame(pd.read_excel(osp.join(dd, 'covariates.xlsx'), converters={'subject':int, 'apoe':int})) #.set_index('subject')\n",
    "print subjects\n",
    "images = [e for e in sorted(glob(osp.join(data_dir, '*.nii.gz'))) if string.atoi(e.split('/')[-1].split('_')[0]) in subjects]\n",
    "print len(images)\n",
    "\n",
    "data = build_matrix(images, ['age', 'gender', 'apoe', 'centiloids'], cov, subjects=subjects)\n",
    "data = build_dummy(data, 'apoe')\n",
    "data = build_interaction(data, 'centiloids', 'apoe')\n",
    "del data['apoe']\n",
    "#del data['stage']\n",
    "\n",
    "data.head()"
   ]
  },
  {
   "cell_type": "code",
   "execution_count": 85,
   "metadata": {
    "collapsed": false
   },
   "outputs": [
    {
     "data": {
      "text/plain": [
       "[(u'age(+)', [1, 0, 0, 0, 0, 0]),\n",
       " (u'age(-)', [-1, 0, 0, 0, 0, 0]),\n",
       " (u'gender(+)', [0, 1, 0, 0, 0, 0]),\n",
       " (u'gender(-)', [0, -1, 0, 0, 0, 0]),\n",
       " (u'centiloids(+)', [0, 0, 1, 0, 0, 0]),\n",
       " (u'centiloids(-)', [0, 0, -1, 0, 0, 0]),\n",
       " ('centiloids0(+)', [0, 0, 0, 1, 0, 0]),\n",
       " ('centiloids0(-)', [0, 0, 0, -1, 0, 0]),\n",
       " ('centiloids1(+)', [0, 0, 0, 0, 1, 0]),\n",
       " ('centiloids1(-)', [0, 0, 0, 0, -1, 0]),\n",
       " ('centiloids2(+)', [0, 0, 0, 0, 0, 1]),\n",
       " ('centiloids2(-)', [0, 0, 0, 0, 0, -1]),\n",
       " ('centiloids0>centiloids1', [0, 0, 0, 1, -1, 0]),\n",
       " ('centiloids0>centiloids2', [0, 0, 0, 1, 0, -1]),\n",
       " ('centiloids1>centiloids0', [0, 0, 0, -1, 1, 0]),\n",
       " ('centiloids1>centiloids2', [0, 0, 0, 0, 1, -1]),\n",
       " ('centiloids2>centiloids0', [0, 0, 0, -1, 0, 1]),\n",
       " ('centiloids2>centiloids1', [0, 0, 0, 0, -1, 1])]"
      ]
     },
     "execution_count": 85,
     "metadata": {},
     "output_type": "execute_result"
    }
   ],
   "source": [
    "data = pd.DataFrame(pd.read_excel(osp.join(dd, 'covariates.xlsx'), converters={'subject':int, 'apoe':int})) #.set_index('subject')\n",
    "del data['stage']\n",
    "del data['subject']\n",
    "#data = build_dummy(data, 'apoe')\n",
    "data = build_interaction(data, 'centiloids', 'apoe')\n",
    "del data['apoe']\n",
    "mat = build_tbss_matrix(data)\n",
    "con = tbss_covariates_simple_contrasts(list(data.columns))\n",
    "pair_con = tbss_2vs2_contrasts(['centiloids0', 'centiloids1', 'centiloids2'], list(data.columns))\n",
    "con.extend(pair_con)\n",
    "con"
   ]
  },
  {
   "cell_type": "code",
   "execution_count": 86,
   "metadata": {
    "collapsed": false,
    "scrolled": false,
    "slideshow": {
     "slide_type": "skip"
    }
   },
   "outputs": [
    {
     "name": "stdout",
     "output_type": "stream",
     "text": [
      "/NumWaves 6\n",
      "/ContrastName1 age(+)\n",
      "/ContrastName2 age(-)\n",
      "/ContrastName3 gender(+)\n",
      "/ContrastName4 gender(-)\n",
      "/ContrastName5 centiloids(+)\n",
      "/ContrastName6 centiloids(-)\n",
      "/ContrastName7 centiloids0(+)\n",
      "/ContrastName8 centiloids0(-)\n",
      "/ContrastName9 centiloids1(+)\n",
      "/ContrastName10 centiloids1(-)\n",
      "/ContrastName11 centiloids2(+)\n",
      "/ContrastName12 centiloids2(-)\n",
      "/ContrastName13 centiloids0>centiloids1\n",
      "/ContrastName14 centiloids0>centiloids2\n",
      "/ContrastName15 centiloids1>centiloids0\n",
      "/ContrastName16 centiloids1>centiloids2\n",
      "/ContrastName17 centiloids2>centiloids0\n",
      "/ContrastName18 centiloids2>centiloids1\n",
      "/NumContrasts 18\n",
      "/Matrix\n",
      "1 0 0 0 0 0\n",
      "-1 0 0 0 0 0\n",
      "0 1 0 0 0 0\n",
      "0 -1 0 0 0 0\n",
      "0 0 1 0 0 0\n",
      "0 0 -1 0 0 0\n",
      "0 0 0 1 0 0\n",
      "0 0 0 -1 0 0\n",
      "0 0 0 0 1 0\n",
      "0 0 0 0 -1 0\n",
      "0 0 0 0 0 1\n",
      "0 0 0 0 0 -1\n",
      "0 0 0 1 -1 0\n",
      "0 0 0 1 0 -1\n",
      "0 0 0 -1 1 0\n",
      "0 0 0 0 1 -1\n",
      "0 0 0 -1 0 1\n",
      "0 0 0 0 -1 1\n"
     ]
    }
   ],
   "source": [
    "mat = build_tbss_matrix(data)\n",
    "contrasts = tbss_covariates_simple_contrasts(data.columns)\n",
    "pair_contrasts = tbss_2vs2_contrasts(['centiloids%i'%i for i in range(0,3)], list(data.columns))\n",
    "contrasts.extend(pair_contrasts)\n",
    "print build_tbss_contrasts(contrasts)\n",
    "#dump(contrasts, ['/tmp/con%s.con'%i for i in xrange(1)])\n",
    "\n",
    "# writing files\n",
    "#w = open('/tmp/amylstaging_interaction_apoe_centiloids.mat','w')\n",
    "#w.write(mat)\n",
    "#w.close()\n",
    "#mat"
   ]
  },
  {
   "cell_type": "code",
   "execution_count": 35,
   "metadata": {
    "collapsed": false
   },
   "outputs": [
    {
     "name": "stdout",
     "output_type": "stream",
     "text": [
      "mailx -s \"MD - age(+) - con0 - tbss_MD_ApoeCentilInteraction_con0\" < /dev/null \"goperto@barcelonabeta.org\"\n",
      "mailx -s \"FA - age(+) - con0 - tbss_FA_ApoeCentilInteraction_con0\" < /dev/null \"goperto@barcelonabeta.org\"\n",
      "['randomise -i all_MD_skeletonised -o tbss_MD_ApoeCentilInteraction -m mean_FA_skeleton_mask -d interaction/amylstaging_interaction_apoe_centiloids.mat -t interaction/con0.con -n 1000 --T2 -V', 'randomise -i all_FA_skeletonised -o tbss_FA_ApoeCentilInteraction -m mean_FA_skeleton_mask -d interaction/amylstaging_interaction_apoe_centiloids.mat -t interaction/con0.con -n 1000 --T2 -V'] /tmp/script0.sh\n"
     ]
    }
   ],
   "source": [
    "commands = []\n",
    "def dump_commands(commands, fp):\n",
    "    def chunks(l, n): \n",
    "        for i in range(0, len(l), n): \n",
    "            yield l[i:i + n]\n",
    "    for each, f in zip(chunks(commands, len(commands)/len(fp)), fp):\n",
    "        print each, f\n",
    "        w = open(f, 'w')\n",
    "        for e in each:\n",
    "            w.write('%s\\n'%e)\n",
    "        w.close()\n",
    "\n",
    "for t in ['MD', 'FA']:\n",
    "    for i in xrange(1):        \n",
    "        cmd = 'mailx -s \"%s - %s - con%s - tbss_%s_ApoeCentilInteraction_con%s\" < /dev/null \"goperto@barcelonabeta.org\"'%(t, contrasts[i][0], i, t, i)\n",
    "        #commands.append(cmd)\n",
    "        print cmd\n",
    "        cmd = 'randomise -i all_%s_skeletonised -o tbss_%s_ApoeCentilInteraction -m mean_FA_skeleton_mask -d interaction/amylstaging_interaction_apoe_centiloids.mat -t interaction/%s -n 1000 --T2 -V'\\\n",
    "            %(t, t, 'con%s.con'%i)\n",
    "        commands.append(cmd)\n",
    "\n",
    "dump_commands(commands, ['/tmp/script%s.sh'%i for i in xrange(1)])"
   ]
  }
 ],
 "metadata": {
  "kernelspec": {
   "display_name": "Python 2",
   "language": "python",
   "name": "python2"
  },
  "language_info": {
   "codemirror_mode": {
    "name": "ipython",
    "version": 2
   },
   "file_extension": ".py",
   "mimetype": "text/x-python",
   "name": "python",
   "nbconvert_exporter": "python",
   "pygments_lexer": "ipython2",
   "version": "2.7.11+"
  }
 },
 "nbformat": 4,
 "nbformat_minor": 1
}
