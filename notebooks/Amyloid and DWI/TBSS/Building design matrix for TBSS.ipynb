{
 "cells": [
  {
   "cell_type": "markdown",
   "metadata": {
    "slideshow": {
     "slide_type": "slide"
    }
   },
   "source": [
    "# Building the design matrix for TBSS"
   ]
  },
  {
   "cell_type": "markdown",
   "metadata": {},
   "source": [
    "Modeling the interaction between ApoE and centiloids on DWI"
   ]
  },
  {
   "cell_type": "code",
   "execution_count": 82,
   "metadata": {
    "collapsed": false,
    "slideshow": {
     "slide_type": "skip"
    }
   },
   "outputs": [],
   "source": [
    "%run /home/grg/git/alfa/nilearn-helper.py\n",
    "%run /home/grg/git/alfa/build_matrix.py\n",
    "%matplotlib inline"
   ]
  },
  {
   "cell_type": "code",
   "execution_count": 5,
   "metadata": {
    "collapsed": false,
    "slideshow": {
     "slide_type": "fragment"
    }
   },
   "outputs": [],
   "source": [
    "import json, string\n",
    "import os.path as op\n",
    "from glob import glob\n",
    "dd = '/home/grg/SPM/2018'\n",
    "data_dir = '/home/grg/TBSS/AMYLOID/amylstaging/origdata'\n",
    "subjects = sorted([string.atoi(op.basename(e).split('_')[0]) for e in glob(op.join(data_dir, '*.nii.gz'))]) #.difference(set(failed)))\n"
   ]
  },
  {
   "cell_type": "code",
   "execution_count": 85,
   "metadata": {
    "collapsed": false,
    "scrolled": false,
    "slideshow": {
     "slide_type": "skip"
    }
   },
   "outputs": [],
   "source": [
    "variables = ['age', 'gender', 'centiloids', 'apoe']\n",
    "cov = pd.DataFrame(pd.read_excel(osp.join(dd, 'covariates.xlsx'), converters={'subject':int, 'apoe':int}), columns=variables)\n",
    "cov = build_interaction(cov, 'centiloids', 'apoe')\n",
    "del cov['centiloids']\n",
    "cov.head()\n",
    "#del data['stage']\n",
    "contrasts = tbss_covariates_simple_contrasts(cov.columns)\n",
    "contrasts_2vs2 = tbss_2vs2_contrasts(['centiloids0', 'centiloids1', 'centiloids2'], list(cov.columns))\n",
    "contrasts.extend(contrasts_2vs2)\n",
    "mat = build_tbss_matrix(cov)\n",
    "con = build_tbss_contrasts(contrasts)\n",
    "dump(contrasts, ['/tmp/con%s.con'%i for i in xrange(len(contrasts)/2)])\n",
    "\n",
    "# writing files\n",
    "w = open('/tmp/amylstaging_interaction_apoe_centiloids.mat','w')\n",
    "w.write(mat)\n",
    "w.close()\n",
    "         "
   ]
  },
  {
   "cell_type": "code",
   "execution_count": 95,
   "metadata": {
    "collapsed": false
   },
   "outputs": [
    {
     "name": "stdout",
     "output_type": "stream",
     "text": [
      "mailx -s \"MD - age(+) - con0 - tbss_MD_ApoeCentilInteraction_con0\" < /dev/null \"goperto@barcelonabeta.org\"\n",
      "mailx -s \"MD - age(-) - con1 - tbss_MD_ApoeCentilInteraction_con1\" < /dev/null \"goperto@barcelonabeta.org\"\n",
      "mailx -s \"MD - gender(+) - con2 - tbss_MD_ApoeCentilInteraction_con2\" < /dev/null \"goperto@barcelonabeta.org\"\n",
      "mailx -s \"MD - gender(-) - con3 - tbss_MD_ApoeCentilInteraction_con3\" < /dev/null \"goperto@barcelonabeta.org\"\n",
      "mailx -s \"MD - apoe(+) - con4 - tbss_MD_ApoeCentilInteraction_con4\" < /dev/null \"goperto@barcelonabeta.org\"\n",
      "mailx -s \"MD - apoe(-) - con5 - tbss_MD_ApoeCentilInteraction_con5\" < /dev/null \"goperto@barcelonabeta.org\"\n",
      "mailx -s \"MD - centiloids0(+) - con6 - tbss_MD_ApoeCentilInteraction_con6\" < /dev/null \"goperto@barcelonabeta.org\"\n",
      "mailx -s \"MD - centiloids0(-) - con7 - tbss_MD_ApoeCentilInteraction_con7\" < /dev/null \"goperto@barcelonabeta.org\"\n",
      "mailx -s \"MD - centiloids1(+) - con8 - tbss_MD_ApoeCentilInteraction_con8\" < /dev/null \"goperto@barcelonabeta.org\"\n",
      "mailx -s \"MD - centiloids1(-) - con9 - tbss_MD_ApoeCentilInteraction_con9\" < /dev/null \"goperto@barcelonabeta.org\"\n",
      "mailx -s \"MD - centiloids2(+) - con10 - tbss_MD_ApoeCentilInteraction_con10\" < /dev/null \"goperto@barcelonabeta.org\"\n",
      "mailx -s \"MD - centiloids2(-) - con11 - tbss_MD_ApoeCentilInteraction_con11\" < /dev/null \"goperto@barcelonabeta.org\"\n",
      "mailx -s \"FA - age(+) - con0 - tbss_FA_ApoeCentilInteraction_con0\" < /dev/null \"goperto@barcelonabeta.org\"\n",
      "mailx -s \"FA - age(-) - con1 - tbss_FA_ApoeCentilInteraction_con1\" < /dev/null \"goperto@barcelonabeta.org\"\n",
      "mailx -s \"FA - gender(+) - con2 - tbss_FA_ApoeCentilInteraction_con2\" < /dev/null \"goperto@barcelonabeta.org\"\n",
      "mailx -s \"FA - gender(-) - con3 - tbss_FA_ApoeCentilInteraction_con3\" < /dev/null \"goperto@barcelonabeta.org\"\n",
      "mailx -s \"FA - apoe(+) - con4 - tbss_FA_ApoeCentilInteraction_con4\" < /dev/null \"goperto@barcelonabeta.org\"\n",
      "mailx -s \"FA - apoe(-) - con5 - tbss_FA_ApoeCentilInteraction_con5\" < /dev/null \"goperto@barcelonabeta.org\"\n",
      "mailx -s \"FA - centiloids0(+) - con6 - tbss_FA_ApoeCentilInteraction_con6\" < /dev/null \"goperto@barcelonabeta.org\"\n",
      "mailx -s \"FA - centiloids0(-) - con7 - tbss_FA_ApoeCentilInteraction_con7\" < /dev/null \"goperto@barcelonabeta.org\"\n",
      "mailx -s \"FA - centiloids1(+) - con8 - tbss_FA_ApoeCentilInteraction_con8\" < /dev/null \"goperto@barcelonabeta.org\"\n",
      "mailx -s \"FA - centiloids1(-) - con9 - tbss_FA_ApoeCentilInteraction_con9\" < /dev/null \"goperto@barcelonabeta.org\"\n",
      "mailx -s \"FA - centiloids2(+) - con10 - tbss_FA_ApoeCentilInteraction_con10\" < /dev/null \"goperto@barcelonabeta.org\"\n",
      "mailx -s \"FA - centiloids2(-) - con11 - tbss_FA_ApoeCentilInteraction_con11\" < /dev/null \"goperto@barcelonabeta.org\"\n"
     ]
    }
   ],
   "source": [
    "commands = []\n",
    "def dump_commands(commands, fp):\n",
    "    def chunks(l, n): \n",
    "        for i in range(0, len(l), n): \n",
    "            yield l[i:i + n]\n",
    "    for each, f in zip(chunks(commands, len(commands)/len(fp)), fp):\n",
    "        print each, f\n",
    "        w = open(f, 'w')\n",
    "        for e in each:\n",
    "            w.write('%s\\n'%e)\n",
    "        w.close()\n",
    "\n",
    "for t in ['MD', 'FA']:\n",
    "    for i in xrange(len(contrasts)/2):        \n",
    "        cmd = 'mailx -s \"%s - %s - con%s - tbss_%s_ApoeCentilInteraction_con%s\" < /dev/null \"goperto@barcelonabeta.org\"'%(t, contrasts[i][0], i, t, i)\n",
    "        #commands.append(cmd)\n",
    "        print cmd\n",
    "        #cmd = 'randomise -i all_%s_skeletonised -o tbss_%s_ApoeCentilInteraction_con%s -m mean_FA_skeleton_mask -d interaction/amylstaging_interaction_apoe_centiloids.mat -t interaction/%s -n 1000 --T2 -V'\\\n",
    "        #    %(t, t, i, 'con%s.con'%i)\n",
    "        #commands.append(cmd)\n",
    "\n",
    "#dump_commands(commands, ['/tmp/script%s.sh'%i for i in xrange(7)])"
   ]
  },
  {
   "cell_type": "code",
   "execution_count": 89,
   "metadata": {
    "collapsed": false
   },
   "outputs": [
    {
     "data": {
      "text/plain": [
       "48"
      ]
     },
     "execution_count": 89,
     "metadata": {},
     "output_type": "execute_result"
    }
   ],
   "source": [
    "len(commands)"
   ]
  }
 ],
 "metadata": {
  "kernelspec": {
   "display_name": "Python 2",
   "language": "python",
   "name": "python2"
  },
  "language_info": {
   "codemirror_mode": {
    "name": "ipython",
    "version": 2
   },
   "file_extension": ".py",
   "mimetype": "text/x-python",
   "name": "python",
   "nbconvert_exporter": "python",
   "pygments_lexer": "ipython2",
   "version": "2.7.11+"
  }
 },
 "nbformat": 4,
 "nbformat_minor": 1
}
