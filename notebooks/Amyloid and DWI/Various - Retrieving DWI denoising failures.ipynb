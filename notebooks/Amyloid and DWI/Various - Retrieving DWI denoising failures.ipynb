{
 "cells": [
  {
   "cell_type": "markdown",
   "metadata": {},
   "source": [
    "To recover failures from DWI denoising, B0 maps will be taken off the DWI volumes before the denoising step."
   ]
  },
  {
   "cell_type": "code",
   "execution_count": 17,
   "metadata": {
    "collapsed": false
   },
   "outputs": [
    {
     "name": "stdout",
     "output_type": "stream",
     "text": [
      "AimsSubVolume -i /home/grg/data/AmylStaging/55854/DWI/55854.nii -o /home/grg/data/AmylStaging/55854/DWI/55854_B0.nii -t 0 -T 0\n",
      "AimsSubVolume -i /home/grg/data/AmylStaging/55854/DWI/55854.nii -o /home/grg/data/AmylStaging/55854/DWI/55854_DWI.nii -t 1 -T 71\n",
      "AimsSubVolume -i /home/grg/data/AmylStaging/10711/DWI/10711.nii -o /home/grg/data/AmylStaging/10711/DWI/10711_B0.nii -t 0 -T 0\n",
      "AimsSubVolume -i /home/grg/data/AmylStaging/10711/DWI/10711.nii -o /home/grg/data/AmylStaging/10711/DWI/10711_DWI.nii -t 1 -T 71\n",
      "AimsSubVolume -i /home/grg/data/AmylStaging/11514/DWI/11514.nii -o /home/grg/data/AmylStaging/11514/DWI/11514_B0.nii -t 0 -T 0\n",
      "AimsSubVolume -i /home/grg/data/AmylStaging/11514/DWI/11514.nii -o /home/grg/data/AmylStaging/11514/DWI/11514_DWI.nii -t 1 -T 71\n",
      "AimsSubVolume -i /home/grg/data/AmylStaging/11745/DWI/11745.nii -o /home/grg/data/AmylStaging/11745/DWI/11745_B0.nii -t 0 -T 0\n",
      "AimsSubVolume -i /home/grg/data/AmylStaging/11745/DWI/11745.nii -o /home/grg/data/AmylStaging/11745/DWI/11745_DWI.nii -t 1 -T 71\n",
      "AimsSubVolume -i /home/grg/data/AmylStaging/12279/DWI/12279.nii -o /home/grg/data/AmylStaging/12279/DWI/12279_B0.nii -t 0 -T 0\n",
      "AimsSubVolume -i /home/grg/data/AmylStaging/12279/DWI/12279.nii -o /home/grg/data/AmylStaging/12279/DWI/12279_DWI.nii -t 1 -T 71\n",
      "AimsSubVolume -i /home/grg/data/AmylStaging/12741/DWI/12741.nii -o /home/grg/data/AmylStaging/12741/DWI/12741_B0.nii -t 0 -T 0\n",
      "AimsSubVolume -i /home/grg/data/AmylStaging/12741/DWI/12741.nii -o /home/grg/data/AmylStaging/12741/DWI/12741_DWI.nii -t 1 -T 71\n",
      "AimsSubVolume -i /home/grg/data/AmylStaging/12991/DWI/12991.nii -o /home/grg/data/AmylStaging/12991/DWI/12991_B0.nii -t 0 -T 0\n",
      "AimsSubVolume -i /home/grg/data/AmylStaging/12991/DWI/12991.nii -o /home/grg/data/AmylStaging/12991/DWI/12991_DWI.nii -t 1 -T 71\n",
      "AimsSubVolume -i /home/grg/data/AmylStaging/13035/DWI/13035.nii -o /home/grg/data/AmylStaging/13035/DWI/13035_B0.nii -t 0 -T 0\n",
      "AimsSubVolume -i /home/grg/data/AmylStaging/13035/DWI/13035.nii -o /home/grg/data/AmylStaging/13035/DWI/13035_DWI.nii -t 1 -T 71\n",
      "AimsSubVolume -i /home/grg/data/AmylStaging/13105/DWI/13105.nii -o /home/grg/data/AmylStaging/13105/DWI/13105_B0.nii -t 0 -T 0\n",
      "AimsSubVolume -i /home/grg/data/AmylStaging/13105/DWI/13105.nii -o /home/grg/data/AmylStaging/13105/DWI/13105_DWI.nii -t 1 -T 71\n",
      "AimsSubVolume -i /home/grg/data/AmylStaging/13107/DWI/13107.nii -o /home/grg/data/AmylStaging/13107/DWI/13107_B0.nii -t 0 -T 0\n",
      "AimsSubVolume -i /home/grg/data/AmylStaging/13107/DWI/13107.nii -o /home/grg/data/AmylStaging/13107/DWI/13107_DWI.nii -t 1 -T 71\n",
      "AimsSubVolume -i /home/grg/data/AmylStaging/13193/DWI/13193.nii -o /home/grg/data/AmylStaging/13193/DWI/13193_B0.nii -t 0 -T 0\n",
      "AimsSubVolume -i /home/grg/data/AmylStaging/13193/DWI/13193.nii -o /home/grg/data/AmylStaging/13193/DWI/13193_DWI.nii -t 1 -T 71\n",
      "AimsSubVolume -i /home/grg/data/AmylStaging/13259/DWI/13259.nii -o /home/grg/data/AmylStaging/13259/DWI/13259_B0.nii -t 0 -T 0\n",
      "AimsSubVolume -i /home/grg/data/AmylStaging/13259/DWI/13259.nii -o /home/grg/data/AmylStaging/13259/DWI/13259_DWI.nii -t 1 -T 71\n",
      "AimsSubVolume -i /home/grg/data/AmylStaging/21136/DWI/21136.nii -o /home/grg/data/AmylStaging/21136/DWI/21136_B0.nii -t 0 -T 0\n",
      "AimsSubVolume -i /home/grg/data/AmylStaging/21136/DWI/21136.nii -o /home/grg/data/AmylStaging/21136/DWI/21136_DWI.nii -t 1 -T 71\n",
      "AimsSubVolume -i /home/grg/data/AmylStaging/21138/DWI/21138.nii -o /home/grg/data/AmylStaging/21138/DWI/21138_B0.nii -t 0 -T 0\n",
      "AimsSubVolume -i /home/grg/data/AmylStaging/21138/DWI/21138.nii -o /home/grg/data/AmylStaging/21138/DWI/21138_DWI.nii -t 1 -T 71\n",
      "AimsSubVolume -i /home/grg/data/AmylStaging/44008/DWI/44008.nii -o /home/grg/data/AmylStaging/44008/DWI/44008_B0.nii -t 0 -T 0\n",
      "AimsSubVolume -i /home/grg/data/AmylStaging/44008/DWI/44008.nii -o /home/grg/data/AmylStaging/44008/DWI/44008_DWI.nii -t 1 -T 71\n",
      "AimsSubVolume -i /home/grg/data/AmylStaging/44301/DWI/44301.nii -o /home/grg/data/AmylStaging/44301/DWI/44301_B0.nii -t 0 -T 0\n",
      "AimsSubVolume -i /home/grg/data/AmylStaging/44301/DWI/44301.nii -o /home/grg/data/AmylStaging/44301/DWI/44301_DWI.nii -t 1 -T 71\n",
      "AimsSubVolume -i /home/grg/data/AmylStaging/44396/DWI/44396.nii -o /home/grg/data/AmylStaging/44396/DWI/44396_B0.nii -t 0 -T 0\n",
      "AimsSubVolume -i /home/grg/data/AmylStaging/44396/DWI/44396.nii -o /home/grg/data/AmylStaging/44396/DWI/44396_DWI.nii -t 1 -T 71\n",
      "AimsSubVolume -i /home/grg/data/AmylStaging/66008/DWI/66008.nii -o /home/grg/data/AmylStaging/66008/DWI/66008_B0.nii -t 0 -T 0\n",
      "AimsSubVolume -i /home/grg/data/AmylStaging/66008/DWI/66008.nii -o /home/grg/data/AmylStaging/66008/DWI/66008_DWI.nii -t 1 -T 71\n",
      "AimsSubVolume -i /home/grg/data/AmylStaging/66027/DWI/66027.nii -o /home/grg/data/AmylStaging/66027/DWI/66027_B0.nii -t 0 -T 0\n",
      "AimsSubVolume -i /home/grg/data/AmylStaging/66027/DWI/66027.nii -o /home/grg/data/AmylStaging/66027/DWI/66027_DWI.nii -t 1 -T 71\n",
      "AimsSubVolume -i /home/grg/data/AmylStaging/66100/DWI/66100.nii -o /home/grg/data/AmylStaging/66100/DWI/66100_B0.nii -t 0 -T 0\n",
      "AimsSubVolume -i /home/grg/data/AmylStaging/66100/DWI/66100.nii -o /home/grg/data/AmylStaging/66100/DWI/66100_DWI.nii -t 1 -T 71\n",
      "AimsSubVolume -i /home/grg/data/AmylStaging/66162/DWI/66162.nii -o /home/grg/data/AmylStaging/66162/DWI/66162_B0.nii -t 0 -T 0\n",
      "AimsSubVolume -i /home/grg/data/AmylStaging/66162/DWI/66162.nii -o /home/grg/data/AmylStaging/66162/DWI/66162_DWI.nii -t 1 -T 71\n",
      "AimsSubVolume -i /home/grg/data/AmylStaging/66301/DWI/66301.nii -o /home/grg/data/AmylStaging/66301/DWI/66301_B0.nii -t 0 -T 0\n",
      "AimsSubVolume -i /home/grg/data/AmylStaging/66301/DWI/66301.nii -o /home/grg/data/AmylStaging/66301/DWI/66301_DWI.nii -t 1 -T 71\n",
      "AimsSubVolume -i /home/grg/data/AmylStaging/77012/DWI/77012.nii -o /home/grg/data/AmylStaging/77012/DWI/77012_B0.nii -t 0 -T 0\n",
      "AimsSubVolume -i /home/grg/data/AmylStaging/77012/DWI/77012.nii -o /home/grg/data/AmylStaging/77012/DWI/77012_DWI.nii -t 1 -T 71\n",
      "AimsSubVolume -i /home/grg/data/AmylStaging/77164/DWI/77164.nii -o /home/grg/data/AmylStaging/77164/DWI/77164_B0.nii -t 0 -T 0\n",
      "AimsSubVolume -i /home/grg/data/AmylStaging/77164/DWI/77164.nii -o /home/grg/data/AmylStaging/77164/DWI/77164_DWI.nii -t 1 -T 71\n"
     ]
    }
   ],
   "source": [
    "import os.path as osp\n",
    "from glob import glob\n",
    "import os\n",
    "\n",
    "failed = [55854, 10711, 11514, 11745, 12279, 12741, 12991, 13035, 13105, 13107, 13193, 13259, \n",
    "             21136, 21138, 44008, 44301, 44396, 66008, 66027, 66100, 66162, 66301, 77012, 77164]\n",
    "dd = '/home/grg/data/AmylStaging'\n",
    "\n",
    "for subject in failed:\n",
    "    dwi = osp.join(dd, str(subject), 'DWI', '%s.nii'%subject)\n",
    "    b0_fp = dwi.replace('.nii', '_B0.nii')\n",
    "    dwi_fp = dwi.replace('.nii', '_DWI.nii')\n",
    "    cmd = 'AimsSubVolume -i %s -o %s -t 0 -T 0'%(dwi, b0_fp)\n",
    "    print(cmd)\n",
    "    #os.system(cmd)\n",
    "    cmd = 'AimsSubVolume -i %s -o %s -t 1 -T 71'%(dwi, dwi_fp)\n",
    "    print(cmd)\n",
    "    #os.system(cmd)"
   ]
  },
  {
   "cell_type": "code",
   "execution_count": 51,
   "metadata": {
    "collapsed": false
   },
   "outputs": [
    {
     "name": "stdout",
     "output_type": "stream",
     "text": [
      "[['python', '/home/grg/git/alfa/denoising.py', '/home/grg/data/AmylStaging/55854/DWI/55854.nii', '--rescale'], ['python', '/home/grg/git/alfa/denoising.py', '/home/grg/data/AmylStaging/10711/DWI/10711.nii', '--rescale'], ['python', '/home/grg/git/alfa/denoising.py', '/home/grg/data/AmylStaging/11514/DWI/11514.nii', '--rescale'], ['python', '/home/grg/git/alfa/denoising.py', '/home/grg/data/AmylStaging/11745/DWI/11745.nii', '--rescale'], ['python', '/home/grg/git/alfa/denoising.py', '/home/grg/data/AmylStaging/12279/DWI/12279.nii', '--rescale'], ['python', '/home/grg/git/alfa/denoising.py', '/home/grg/data/AmylStaging/12741/DWI/12741.nii', '--rescale'], ['python', '/home/grg/git/alfa/denoising.py', '/home/grg/data/AmylStaging/12991/DWI/12991.nii', '--rescale'], ['python', '/home/grg/git/alfa/denoising.py', '/home/grg/data/AmylStaging/13035/DWI/13035.nii', '--rescale'], ['python', '/home/grg/git/alfa/denoising.py', '/home/grg/data/AmylStaging/13105/DWI/13105.nii', '--rescale'], ['python', '/home/grg/git/alfa/denoising.py', '/home/grg/data/AmylStaging/13107/DWI/13107.nii', '--rescale'], ['python', '/home/grg/git/alfa/denoising.py', '/home/grg/data/AmylStaging/13193/DWI/13193.nii', '--rescale'], ['python', '/home/grg/git/alfa/denoising.py', '/home/grg/data/AmylStaging/13259/DWI/13259.nii', '--rescale'], ['python', '/home/grg/git/alfa/denoising.py', '/home/grg/data/AmylStaging/21136/DWI/21136.nii', '--rescale'], ['python', '/home/grg/git/alfa/denoising.py', '/home/grg/data/AmylStaging/21138/DWI/21138.nii', '--rescale'], ['python', '/home/grg/git/alfa/denoising.py', '/home/grg/data/AmylStaging/44008/DWI/44008.nii', '--rescale'], ['python', '/home/grg/git/alfa/denoising.py', '/home/grg/data/AmylStaging/44301/DWI/44301.nii', '--rescale'], ['python', '/home/grg/git/alfa/denoising.py', '/home/grg/data/AmylStaging/44396/DWI/44396.nii', '--rescale'], ['python', '/home/grg/git/alfa/denoising.py', '/home/grg/data/AmylStaging/66008/DWI/66008.nii', '--rescale'], ['python', '/home/grg/git/alfa/denoising.py', '/home/grg/data/AmylStaging/66027/DWI/66027.nii', '--rescale'], ['python', '/home/grg/git/alfa/denoising.py', '/home/grg/data/AmylStaging/66100/DWI/66100.nii', '--rescale'], ['python', '/home/grg/git/alfa/denoising.py', '/home/grg/data/AmylStaging/66162/DWI/66162.nii', '--rescale'], ['python', '/home/grg/git/alfa/denoising.py', '/home/grg/data/AmylStaging/66301/DWI/66301.nii', '--rescale'], ['python', '/home/grg/git/alfa/denoising.py', '/home/grg/data/AmylStaging/77012/DWI/77012.nii', '--rescale'], ['python', '/home/grg/git/alfa/denoising.py', '/home/grg/data/AmylStaging/77164/DWI/77164.nii', '--rescale']]\n"
     ]
    }
   ],
   "source": [
    "import sys, string\n",
    "sys.path.append('/home/grg/git/thesaurus/')\n",
    "import thesaurus as th\n",
    "json_io = '/home/grg/git/thesaurus/alfa_dwi_pipeline_aug2016.json'\n",
    "a = th.ALFAHelper(directory=dd, jsonfile=json_io)\n",
    "\n",
    "step = 'denoising'\n",
    "fp1 = '/tmp/%s.sh'%step\n",
    "fp2 = '/tmp/%s.workflow'%step\n",
    "w = open(fp1,'w')\n",
    "\n",
    "for subject in failed:\n",
    "    dwi_fp = '/home/grg/data/AmylStaging/%s/DWI/%s.nii'%(subject, subject)\n",
    "    cmd = th.parse_command(\"python /home/grg/git/alfa/denoising.py %s --rescale\", [dwi_fp])\n",
    "    w.write(\"%s\\n\"%cmd)\n",
    "w.close()\n",
    "    \n",
    "import sys\n",
    "sys.path.append('/home/grg/git/alfa')\n",
    "import create_workflow as cw\n",
    "names = [str(e) for e in failed]\n",
    "\n",
    "cw.create_workflow(fp1, fp2, names=names, verbose=True)"
   ]
  },
  {
   "cell_type": "markdown",
   "metadata": {
    "collapsed": true
   },
   "source": [
    "### Denoising the separate BO maps"
   ]
  },
  {
   "cell_type": "code",
   "execution_count": 19,
   "metadata": {
    "collapsed": false
   },
   "outputs": [
    {
     "name": "stdout",
     "output_type": "stream",
     "text": [
      "[['python', '/home/grg/git/alfa/mabonlm.py', '-i', '/home/grg/data/AmylStaging/55854/DWI/55854_B0.nii'], ['python', '/home/grg/git/alfa/mabonlm.py', '-i', '/home/grg/data/AmylStaging/10711/DWI/10711_B0.nii'], ['python', '/home/grg/git/alfa/mabonlm.py', '-i', '/home/grg/data/AmylStaging/11514/DWI/11514_B0.nii'], ['python', '/home/grg/git/alfa/mabonlm.py', '-i', '/home/grg/data/AmylStaging/11745/DWI/11745_B0.nii'], ['python', '/home/grg/git/alfa/mabonlm.py', '-i', '/home/grg/data/AmylStaging/12279/DWI/12279_B0.nii'], ['python', '/home/grg/git/alfa/mabonlm.py', '-i', '/home/grg/data/AmylStaging/12741/DWI/12741_B0.nii'], ['python', '/home/grg/git/alfa/mabonlm.py', '-i', '/home/grg/data/AmylStaging/12991/DWI/12991_B0.nii'], ['python', '/home/grg/git/alfa/mabonlm.py', '-i', '/home/grg/data/AmylStaging/13035/DWI/13035_B0.nii'], ['python', '/home/grg/git/alfa/mabonlm.py', '-i', '/home/grg/data/AmylStaging/13105/DWI/13105_B0.nii'], ['python', '/home/grg/git/alfa/mabonlm.py', '-i', '/home/grg/data/AmylStaging/13107/DWI/13107_B0.nii'], ['python', '/home/grg/git/alfa/mabonlm.py', '-i', '/home/grg/data/AmylStaging/13193/DWI/13193_B0.nii'], ['python', '/home/grg/git/alfa/mabonlm.py', '-i', '/home/grg/data/AmylStaging/13259/DWI/13259_B0.nii'], ['python', '/home/grg/git/alfa/mabonlm.py', '-i', '/home/grg/data/AmylStaging/21136/DWI/21136_B0.nii'], ['python', '/home/grg/git/alfa/mabonlm.py', '-i', '/home/grg/data/AmylStaging/21138/DWI/21138_B0.nii'], ['python', '/home/grg/git/alfa/mabonlm.py', '-i', '/home/grg/data/AmylStaging/44008/DWI/44008_B0.nii'], ['python', '/home/grg/git/alfa/mabonlm.py', '-i', '/home/grg/data/AmylStaging/44301/DWI/44301_B0.nii'], ['python', '/home/grg/git/alfa/mabonlm.py', '-i', '/home/grg/data/AmylStaging/44396/DWI/44396_B0.nii'], ['python', '/home/grg/git/alfa/mabonlm.py', '-i', '/home/grg/data/AmylStaging/66008/DWI/66008_B0.nii'], ['python', '/home/grg/git/alfa/mabonlm.py', '-i', '/home/grg/data/AmylStaging/66027/DWI/66027_B0.nii'], ['python', '/home/grg/git/alfa/mabonlm.py', '-i', '/home/grg/data/AmylStaging/66100/DWI/66100_B0.nii'], ['python', '/home/grg/git/alfa/mabonlm.py', '-i', '/home/grg/data/AmylStaging/66162/DWI/66162_B0.nii'], ['python', '/home/grg/git/alfa/mabonlm.py', '-i', '/home/grg/data/AmylStaging/66301/DWI/66301_B0.nii'], ['python', '/home/grg/git/alfa/mabonlm.py', '-i', '/home/grg/data/AmylStaging/77012/DWI/77012_B0.nii'], ['python', '/home/grg/git/alfa/mabonlm.py', '-i', '/home/grg/data/AmylStaging/77164/DWI/77164_B0.nii']]\n"
     ]
    }
   ],
   "source": [
    "import sys, string\n",
    "sys.path.append('/home/grg/git/thesaurus/')\n",
    "import thesaurus as th\n",
    "json_io = '/home/grg/git/thesaurus/alfa_dwi_pipeline_aug2016.json'\n",
    "a = th.ALFAHelper(directory=dd, jsonfile=json_io)\n",
    "\n",
    "step = 'denoising_t1'\n",
    "fp1 = '/tmp/%s.sh'%step\n",
    "fp2 = '/tmp/%s.workflow'%step\n",
    "w = open(fp1,'w')\n",
    "\n",
    "for subject in failed:\n",
    "    dwi_fp = '/home/grg/data/AmylStaging/%s/DWI/%s_B0.nii'%(subject, subject)\n",
    "    cmd = th.parse_command(\"python /home/grg/git/alfa/mabonlm.py -i %s\", [dwi_fp])\n",
    "    w.write(\"%s\\n\"%cmd)\n",
    "w.close()\n",
    "    \n",
    "import sys\n",
    "sys.path.append('/home/grg/git/alfa')\n",
    "import create_workflow as cw\n",
    "names = [str(e) for e in failed]\n",
    "\n",
    "cw.create_workflow(fp1, fp2, names=names, verbose=True)"
   ]
  },
  {
   "cell_type": "markdown",
   "metadata": {},
   "source": [
    "#### Joining denoised B0 maps (mabonlm) with denoised DWI"
   ]
  },
  {
   "cell_type": "code",
   "execution_count": 35,
   "metadata": {
    "collapsed": false
   },
   "outputs": [
    {
     "name": "stdout",
     "output_type": "stream",
     "text": [
      "55854 /home/grg/data/AmylStaging/77164/DWI/77164_B0_mabonlm_nobias.nii False\n",
      "55854 /home/grg/data/AmylStaging/77164/DWI/77164_B0_mabonlm_nobias.nii True\n",
      "55854 /home/grg/data/AmylStaging/77164/DWI/77164_B0_mabonlm_nobias.nii False\n",
      "10711 /home/grg/data/AmylStaging/77164/DWI/77164_B0_mabonlm_nobias.nii False\n",
      "10711 /home/grg/data/AmylStaging/77164/DWI/77164_B0_mabonlm_nobias.nii True\n",
      "10711 /home/grg/data/AmylStaging/77164/DWI/77164_B0_mabonlm_nobias.nii False\n",
      "11514 /home/grg/data/AmylStaging/77164/DWI/77164_B0_mabonlm_nobias.nii True\n",
      "11514 /home/grg/data/AmylStaging/77164/DWI/77164_B0_mabonlm_nobias.nii True\n",
      "11514 /home/grg/data/AmylStaging/77164/DWI/77164_B0_mabonlm_nobias.nii False\n",
      "11745 /home/grg/data/AmylStaging/77164/DWI/77164_B0_mabonlm_nobias.nii True\n",
      "11745 /home/grg/data/AmylStaging/77164/DWI/77164_B0_mabonlm_nobias.nii True\n",
      "11745 /home/grg/data/AmylStaging/77164/DWI/77164_B0_mabonlm_nobias.nii False\n",
      "12279 /home/grg/data/AmylStaging/77164/DWI/77164_B0_mabonlm_nobias.nii True\n",
      "12279 /home/grg/data/AmylStaging/77164/DWI/77164_B0_mabonlm_nobias.nii True\n",
      "12279 /home/grg/data/AmylStaging/77164/DWI/77164_B0_mabonlm_nobias.nii False\n",
      "12741 /home/grg/data/AmylStaging/77164/DWI/77164_B0_mabonlm_nobias.nii True\n",
      "12741 /home/grg/data/AmylStaging/77164/DWI/77164_B0_mabonlm_nobias.nii True\n",
      "12741 /home/grg/data/AmylStaging/77164/DWI/77164_B0_mabonlm_nobias.nii False\n",
      "12991 /home/grg/data/AmylStaging/77164/DWI/77164_B0_mabonlm_nobias.nii True\n",
      "12991 /home/grg/data/AmylStaging/77164/DWI/77164_B0_mabonlm_nobias.nii True\n",
      "12991 /home/grg/data/AmylStaging/77164/DWI/77164_B0_mabonlm_nobias.nii False\n",
      "13035 /home/grg/data/AmylStaging/77164/DWI/77164_B0_mabonlm_nobias.nii True\n",
      "13035 /home/grg/data/AmylStaging/77164/DWI/77164_B0_mabonlm_nobias.nii True\n",
      "13035 /home/grg/data/AmylStaging/77164/DWI/77164_B0_mabonlm_nobias.nii False\n",
      "13105 /home/grg/data/AmylStaging/77164/DWI/77164_B0_mabonlm_nobias.nii True\n",
      "13105 /home/grg/data/AmylStaging/77164/DWI/77164_B0_mabonlm_nobias.nii True\n",
      "13105 /home/grg/data/AmylStaging/77164/DWI/77164_B0_mabonlm_nobias.nii False\n",
      "13107 /home/grg/data/AmylStaging/77164/DWI/77164_B0_mabonlm_nobias.nii True\n",
      "13107 /home/grg/data/AmylStaging/77164/DWI/77164_B0_mabonlm_nobias.nii True\n",
      "13107 /home/grg/data/AmylStaging/77164/DWI/77164_B0_mabonlm_nobias.nii False\n",
      "13193 /home/grg/data/AmylStaging/77164/DWI/77164_B0_mabonlm_nobias.nii True\n",
      "13193 /home/grg/data/AmylStaging/77164/DWI/77164_B0_mabonlm_nobias.nii True\n",
      "13193 /home/grg/data/AmylStaging/77164/DWI/77164_B0_mabonlm_nobias.nii False\n",
      "13259 /home/grg/data/AmylStaging/77164/DWI/77164_B0_mabonlm_nobias.nii True\n",
      "13259 /home/grg/data/AmylStaging/77164/DWI/77164_B0_mabonlm_nobias.nii True\n",
      "13259 /home/grg/data/AmylStaging/77164/DWI/77164_B0_mabonlm_nobias.nii False\n",
      "21136 /home/grg/data/AmylStaging/77164/DWI/77164_B0_mabonlm_nobias.nii True\n",
      "21136 /home/grg/data/AmylStaging/77164/DWI/77164_B0_mabonlm_nobias.nii True\n",
      "21136 /home/grg/data/AmylStaging/77164/DWI/77164_B0_mabonlm_nobias.nii False\n",
      "21138 /home/grg/data/AmylStaging/77164/DWI/77164_B0_mabonlm_nobias.nii True\n",
      "21138 /home/grg/data/AmylStaging/77164/DWI/77164_B0_mabonlm_nobias.nii True\n",
      "21138 /home/grg/data/AmylStaging/77164/DWI/77164_B0_mabonlm_nobias.nii False\n",
      "44008 /home/grg/data/AmylStaging/77164/DWI/77164_B0_mabonlm_nobias.nii True\n",
      "44008 /home/grg/data/AmylStaging/77164/DWI/77164_B0_mabonlm_nobias.nii True\n",
      "44008 /home/grg/data/AmylStaging/77164/DWI/77164_B0_mabonlm_nobias.nii False\n",
      "44301 /home/grg/data/AmylStaging/77164/DWI/77164_B0_mabonlm_nobias.nii True\n",
      "44301 /home/grg/data/AmylStaging/77164/DWI/77164_B0_mabonlm_nobias.nii True\n",
      "44301 /home/grg/data/AmylStaging/77164/DWI/77164_B0_mabonlm_nobias.nii False\n",
      "44396 /home/grg/data/AmylStaging/77164/DWI/77164_B0_mabonlm_nobias.nii True\n",
      "44396 /home/grg/data/AmylStaging/77164/DWI/77164_B0_mabonlm_nobias.nii True\n",
      "44396 /home/grg/data/AmylStaging/77164/DWI/77164_B0_mabonlm_nobias.nii False\n",
      "66008 /home/grg/data/AmylStaging/77164/DWI/77164_B0_mabonlm_nobias.nii True\n",
      "66008 /home/grg/data/AmylStaging/77164/DWI/77164_B0_mabonlm_nobias.nii True\n",
      "66008 /home/grg/data/AmylStaging/77164/DWI/77164_B0_mabonlm_nobias.nii False\n",
      "66027 /home/grg/data/AmylStaging/77164/DWI/77164_B0_mabonlm_nobias.nii True\n",
      "66027 /home/grg/data/AmylStaging/77164/DWI/77164_B0_mabonlm_nobias.nii True\n",
      "66027 /home/grg/data/AmylStaging/77164/DWI/77164_B0_mabonlm_nobias.nii False\n",
      "66100 /home/grg/data/AmylStaging/77164/DWI/77164_B0_mabonlm_nobias.nii True\n",
      "66100 /home/grg/data/AmylStaging/77164/DWI/77164_B0_mabonlm_nobias.nii True\n",
      "66100 /home/grg/data/AmylStaging/77164/DWI/77164_B0_mabonlm_nobias.nii False\n",
      "66162 /home/grg/data/AmylStaging/77164/DWI/77164_B0_mabonlm_nobias.nii True\n",
      "66162 /home/grg/data/AmylStaging/77164/DWI/77164_B0_mabonlm_nobias.nii True\n",
      "66162 /home/grg/data/AmylStaging/77164/DWI/77164_B0_mabonlm_nobias.nii False\n",
      "66301 /home/grg/data/AmylStaging/77164/DWI/77164_B0_mabonlm_nobias.nii True\n",
      "66301 /home/grg/data/AmylStaging/77164/DWI/77164_B0_mabonlm_nobias.nii True\n",
      "66301 /home/grg/data/AmylStaging/77164/DWI/77164_B0_mabonlm_nobias.nii False\n",
      "77012 /home/grg/data/AmylStaging/77164/DWI/77164_B0_mabonlm_nobias.nii True\n",
      "77012 /home/grg/data/AmylStaging/77164/DWI/77164_B0_mabonlm_nobias.nii True\n",
      "77012 /home/grg/data/AmylStaging/77164/DWI/77164_B0_mabonlm_nobias.nii False\n",
      "77164 /home/grg/data/AmylStaging/77164/DWI/77164_B0_mabonlm_nobias.nii True\n",
      "77164 /home/grg/data/AmylStaging/77164/DWI/77164_B0_mabonlm_nobias.nii True\n",
      "77164 /home/grg/data/AmylStaging/77164/DWI/77164_B0_mabonlm_nobias.nii False\n"
     ]
    }
   ],
   "source": [
    "for subject in failed:\n",
    "    #fp = osp.join(dd, str(subject), 'DWI', '%s_denoised.mat'%subject)\n",
    "\n",
    "    fp1 = osp.join(dd, str(subject), 'DWI', '%s_DWI_denoised.nii'%subject)\n",
    "    \n",
    "    print subject, fp, osp.isfile(fp1)\n",
    "    fp2 = osp.join(dd, str(subject), 'DWI', '%s_B0_mabonlm_nobias.nii'%subject)\n",
    "    print subject, fp, osp.isfile(fp2)\n",
    "    fp3 = osp.join(dd, str(subject), 'DWI', '%s_denoised.nii'%subject)\n",
    "    print subject, fp, osp.isfile(fp3)\n",
    "    if osp.isfile(fp1) and osp.isfile(fp2) and not osp.isfile(fp3):\n",
    "        cmd = \n"
   ]
  },
  {
   "cell_type": "markdown",
   "metadata": {},
   "source": [
    "#### Min-max ranges of images"
   ]
  },
  {
   "cell_type": "code",
   "execution_count": 47,
   "metadata": {
    "collapsed": false
   },
   "outputs": [
    {
     "ename": "NameError",
     "evalue": "name 'pd' is not defined",
     "output_type": "error",
     "traceback": [
      "\u001b[0;31m---------------------------------------------------------------------------\u001b[0m",
      "\u001b[0;31mNameError\u001b[0m                                 Traceback (most recent call last)",
      "\u001b[0;32m<ipython-input-47-d59a50e626cc>\u001b[0m in \u001b[0;36m<module>\u001b[0;34m()\u001b[0m\n\u001b[1;32m     10\u001b[0m         \u001b[0mres\u001b[0m\u001b[0;34m.\u001b[0m\u001b[0mappend\u001b[0m\u001b[0;34m(\u001b[0m\u001b[0;34m(\u001b[0m\u001b[0msubject\u001b[0m\u001b[0;34m,\u001b[0m \u001b[0mn\u001b[0m\u001b[0;34m.\u001b[0m\u001b[0mmax\u001b[0m\u001b[0;34m(\u001b[0m\u001b[0;34m)\u001b[0m\u001b[0;34m)\u001b[0m\u001b[0;34m)\u001b[0m\u001b[0;34m\u001b[0m\u001b[0m\n\u001b[1;32m     11\u001b[0m \u001b[0;34m\u001b[0m\u001b[0m\n\u001b[0;32m---> 12\u001b[0;31m \u001b[0mdf\u001b[0m \u001b[0;34m=\u001b[0m \u001b[0mpd\u001b[0m\u001b[0;34m.\u001b[0m\u001b[0mDataFrame\u001b[0m\u001b[0;34m(\u001b[0m\u001b[0mres\u001b[0m\u001b[0;34m,\u001b[0m \u001b[0mcolumns\u001b[0m\u001b[0;34m=\u001b[0m\u001b[0;34m[\u001b[0m\u001b[0;34m'subject'\u001b[0m\u001b[0;34m,\u001b[0m\u001b[0;34m'max_value'\u001b[0m\u001b[0;34m]\u001b[0m\u001b[0;34m)\u001b[0m\u001b[0;34m\u001b[0m\u001b[0m\n\u001b[0m\u001b[1;32m     13\u001b[0m \u001b[0mdf\u001b[0m\u001b[0;34m.\u001b[0m\u001b[0mhead\u001b[0m\u001b[0;34m(\u001b[0m\u001b[0;34m)\u001b[0m\u001b[0;34m\u001b[0m\u001b[0m\n",
      "\u001b[0;31mNameError\u001b[0m: name 'pd' is not defined"
     ]
    }
   ],
   "source": [
    "subjects = [string.atoi(e) for e in open('/tmp/amyloid_subjects.txt').read().split('\\n') if e != '']\n",
    "import nibabel as nib\n",
    "import numpy as np\n",
    "import pandas as pd\n",
    "\n",
    "res = []\n",
    "for subject in subjects:\n",
    "    fp = osp.join(dd, str(subject), 'DWI', '%s.nii'%subject)\n",
    "    if osp.isfile(fp):\n",
    "        n = np.array(nib.load(fp).dataobj)\n",
    "        res.append((subject, n.max()))\n",
    "        \n",
    "df = pd.DataFrame(res, columns=['subject','max_value'])\n",
    "df.head()"
   ]
  }
 ],
 "metadata": {
  "kernelspec": {
   "display_name": "Python 2",
   "language": "python",
   "name": "python2"
  },
  "language_info": {
   "codemirror_mode": {
    "name": "ipython",
    "version": 2
   },
   "file_extension": ".py",
   "mimetype": "text/x-python",
   "name": "python",
   "nbconvert_exporter": "python",
   "pygments_lexer": "ipython2",
   "version": "2.7.11+"
  }
 },
 "nbformat": 4,
 "nbformat_minor": 1
}
