{
 "cells": [
  {
   "cell_type": "code",
   "execution_count": 1,
   "metadata": {
    "collapsed": false
   },
   "outputs": [
    {
     "name": "stderr",
     "output_type": "stream",
     "text": [
      "/home/grg/jupyter/local/lib/python2.7/site-packages/sklearn/cross_validation.py:44: DeprecationWarning: This module was deprecated in version 0.18 in favor of the model_selection module into which all the refactored classes and functions are moved. Also note that the interface of the new CV iterators are different from that of this module. This module will be removed in 0.20.\n",
      "  \"This module will be removed in 0.20.\", DeprecationWarning)\n"
     ]
    },
    {
     "name": "stdout",
     "output_type": "stream",
     "text": [
      "180205-10:32:16,187 interface WARNING:\n",
      "\t Could not get linked libraries for \"which\".\n"
     ]
    }
   ],
   "source": [
    "%run /home/grg/git/alfa/nilearn-helper.py\n",
    "%run /home/grg/git/alfa/build_matrix.py\n",
    "%matplotlib inline"
   ]
  },
  {
   "cell_type": "code",
   "execution_count": 2,
   "metadata": {
    "collapsed": true
   },
   "outputs": [],
   "source": [
    "import json\n",
    "dd = '/home/grg/SPM/2018'\n",
    "data_dir = '/home/grg/data/AmylStaging/dartel_final/spm/MD/'\n",
    "subjects_amylneg = json.load(open(osp.join(dd, 'amyloid_negative.json')))\n",
    "matched_groups = json.load(open(osp.join(dd, 'subjects_groups.json')))\n",
    "amyloid_subjects = json.load(open(osp.join(dd, 'amyloid_subjects.json')))\n",
    "\n",
    "failed = [11055, 10779, 11111, 11114, 11540, 12783, 12810]\n",
    "subjects = sorted(set(matched_groups)) #.difference(set(failed)))\n"
   ]
  },
  {
   "cell_type": "code",
   "execution_count": 3,
   "metadata": {
    "collapsed": false
   },
   "outputs": [
    {
     "name": "stdout",
     "output_type": "stream",
     "text": [
      "51\n",
      "/NumWaves 3\n",
      "/NumPoints 51\n",
      "/Matrix\n",
      "54.757015742642 1.0 -1.84\n",
      "50.3901437371663 2.0 -0.16\n",
      "54.1519507186858 1.0 -4.12\n",
      "52.8788501026694 1.0 -17.65\n",
      "64.4052019164956 1.0 -18.08\n",
      "60.4736481861739 1.0 -8.48\n",
      "60.8268309377139 1.0 -3.73\n",
      "51.1403148528405 1.0 -2.52\n",
      "54.6255989048597 1.0 18.98\n",
      "60.6735112936345 1.0 19.42\n",
      "63.2142368240931 1.0 20.01\n",
      "59.4715947980835 2.0 -7.54\n",
      "52.0711841204654 1.0 2.22\n",
      "63.0581793292266 2.0 -9.35\n",
      "56.2190280629706 1.0 1.9\n",
      "57.1827515400411 1.0 11.09\n",
      "58.5133470225873 1.0 -12.38\n",
      "58.1930184804928 2.0 0.04\n",
      "59.5400410677618 2.0 24.71\n",
      "59.6413415468857 1.0 -0.37\n",
      "51.0499657768652 2.0 17.43\n",
      "60.2245037645448 1.0 2.99\n",
      "53.6098562628337 1.0 3.01\n",
      "58.8309377138946 2.0 -0.73\n",
      "55.2470910335387 2.0 -0.17\n",
      "57.5414099931554 2.0 -4.6\n",
      "55.2799452429843 1.0 -10.82\n",
      "53.0458590006845 1.0 -4.11\n",
      "64.2573579739904 1.0 26.89\n",
      "58.6666666666667 2.0 -4.45\n",
      "52.1232032854209 2.0 1.23\n",
      "53.7932922655715 1.0 4.93\n",
      "63.0609171800137 1.0 -5.3\n",
      "63.0828199863108 1.0 55.37\n",
      "59.7234770704997 1.0 15.35\n",
      "62.8062970568104 2.0 -3.94\n",
      "54.3874058863792 2.0 -9.24\n",
      "60.7611225188227 2.0 -9.19\n",
      "55.7262149212868 1.0 -5.54\n",
      "55.9123887748118 1.0 2.15\n",
      "66.9650924024641 2.0 -1.71\n",
      "59.9342915811088 1.0 -3.36\n",
      "66.8583162217659 2.0 2.8\n",
      "50.4996577686516 1.0 -5.35\n",
      "56.6652977412731 2.0 3.52\n",
      "64.2847364818617 1.0 -4.18\n",
      "63.4414784394251 1.0 4.18\n",
      "66.6228610540726 2.0 45.75\n",
      "56.7200547570157 1.0 -2.14\n",
      "55.7015742642026 1.0 -0.41\n",
      "64.1067761806981 1.0 1.09\n"
     ]
    }
   ],
   "source": [
    "cov = pd.read_excel(osp.join(dd, 'covariates.xlsx'), converters={'subject':int, 'apoe':int})\n",
    "\n",
    "images = [e for e in sorted(glob(osp.join(data_dir, '*nii'))) if string.atoi(e.split('/')[-1].split('_')[0]) in subjects]\n",
    "print len(images)\n",
    "subjects = [string.atoi(osp.basename(str(e))[:5]) for e in images]\n",
    "data = build_matrix(images, ['age', 'gender', 'centiloids'], cov, subjects=subjects)\n",
    "#data = build_dummy(data, 'stage')\n",
    "#data = build_interaction(data, 'age', 'apo')\n",
    "#del data['apoe']\n",
    "#del data['stage']\n",
    "data.head()\n",
    "mat, con = build_tbss_matrix(data)\n",
    "print mat"
   ]
  },
  {
   "cell_type": "code",
   "execution_count": null,
   "metadata": {
    "collapsed": true
   },
   "outputs": [],
   "source": []
  }
 ],
 "metadata": {
  "kernelspec": {
   "display_name": "Python 2",
   "language": "python",
   "name": "python2"
  },
  "language_info": {
   "codemirror_mode": {
    "name": "ipython",
    "version": 2
   },
   "file_extension": ".py",
   "mimetype": "text/x-python",
   "name": "python",
   "nbconvert_exporter": "python",
   "pygments_lexer": "ipython2",
   "version": "2.7.11+"
  }
 },
 "nbformat": 4,
 "nbformat_minor": 1
}
