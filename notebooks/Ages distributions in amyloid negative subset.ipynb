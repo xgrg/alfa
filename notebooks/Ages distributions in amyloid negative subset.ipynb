{
 "cells": [
  {
   "cell_type": "markdown",
   "metadata": {},
   "source": [
    "# Plotting age distributions with respect to genotype groups"
   ]
  },
  {
   "cell_type": "code",
   "execution_count": 4,
   "metadata": {
    "collapsed": false
   },
   "outputs": [
    {
     "name": "stdout",
     "output_type": "stream",
     "text": [
      " 0 W:0.8609 p:0.0000 - 58 subjects between 50 and 67\n",
      "1 W:0.8885 p:0.0637 - 15 subjects between 55 and 67\n",
      "2 W:0.9429 p:0.4561 - 14 subjects between 50 and 66\n"
     ]
    },
    {
     "data": {
      "image/png": "[encoded data removed]",
      "text/plain": [
       "<matplotlib.figure.Figure at 0x7f0cfae1c090>"
      ]
     },
     "metadata": {},
     "output_type": "display_data"
    }
   ],
   "source": [
    "%matplotlib inline\n",
    "import pandas as pd\n",
    "from scipy import stats\n",
    "from matplotlib import pyplot as plt\n",
    "\n",
    "import json\n",
    "data = pd.read_excel('/tmp/analysis_amylstaging/amyl_covariates.xlsx')\n",
    "subjects_amylneg = json.load(open('/tmp/amyloid_negative.json'))\n",
    "data = data[data['subject'].isin(subjects_amylneg)]\n",
    "\n",
    "for i in xrange(3):\n",
    "    x = data[data['apoe'] == i]['age'].values\n",
    "    plt.hist(x, bins=20)\n",
    "    print i, 'W:%.4f p:%.4f -'%stats.shapiro(x), len(x), 'subjects between', int(min(x)), 'and', int(max(x))\n",
    "\n",
    "plt.legend(['NC', 'HT', 'HO'])\n",
    "plt.show()"
   ]
  },
  {
   "cell_type": "markdown",
   "metadata": {},
   "source": [
    "For two of the 5 groups, the Shapiro test p-value is lower than 1e-3, which means that the distributions of these two groups can't be considered as normal. (But theorically none of them is)"
   ]
  },
  {
   "cell_type": "markdown",
   "metadata": {},
   "source": [
    "# Matching pairs using nearest neighbours\n",
    "\n",
    "The matching algorithm:"
   ]
  },
  {
   "cell_type": "code",
   "execution_count": 233,
   "metadata": {
    "collapsed": false
   },
   "outputs": [],
   "source": [
    "from sklearn.preprocessing import StandardScaler\n",
    "from sklearn.neighbors import NearestNeighbors\n",
    "\n",
    "def get_matching_pairs(treated_df, non_treated_df, scaler=True):\n",
    "\n",
    "    treated_x = treated_df.values\n",
    "    non_treated_x = non_treated_df.values\n",
    "    if scaler:\n",
    "        scaler = StandardScaler()\n",
    "        scaler.fit(treated_x)\n",
    "        treated_x = scaler.transform(treated_x)\n",
    "        non_treated_x = scaler.transform(non_treated_x)\n",
    "\n",
    "    nbrs = NearestNeighbors(n_neighbors=1, algorithm='ball_tree').fit(non_treated_x)\n",
    "    distances, indices = nbrs.kneighbors(treated_x)\n",
    "    indices = indices.reshape(indices.shape[0])    \n",
    "    matched = non_treated_df.ix[indices]\n",
    "    matched = non_treated_df.irow(matched.index)\n",
    "    return matched"
   ]
  },
  {
   "cell_type": "markdown",
   "metadata": {},
   "source": [
    "#### Loading data"
   ]
  },
  {
   "cell_type": "code",
   "execution_count": 234,
   "metadata": {
    "collapsed": false
   },
   "outputs": [],
   "source": [
    "df = pd.read_excel('/home/grg/spm/data/covariates.xls')\n",
    "df = df[['subject','apo','age','gender','educyears']]\n",
    "\n",
    "groups = [df[df['apo']==i] for i in xrange(5)]\n",
    "for i in xrange(5):\n",
    "    groups[i] = groups[i].set_index(groups[i]['subject'])\n",
    "    del groups[i]['subject']\n",
    "    del groups[i]['apo']"
   ]
  },
  {
   "cell_type": "markdown",
   "metadata": {},
   "source": [
    "### Matching the groups"
   ]
  },
  {
   "cell_type": "code",
   "execution_count": 235,
   "metadata": {
    "collapsed": false
   },
   "outputs": [
    {
     "name": "stderr",
     "output_type": "stream",
     "text": [
      "/home/grg/jupyter/lib/python2.7/site-packages/ipykernel/__main__.py:18: FutureWarning: irow(i) is deprecated. Please use .iloc[i]\n"
     ]
    }
   ],
   "source": [
    "treated_df =  groups[4]\n",
    "matched_df = [get_matching_pairs(treated_df, groups[i], scaler=False) for i in xrange(4)]"
   ]
  },
  {
   "cell_type": "markdown",
   "metadata": {},
   "source": [
    "#### Plotting data and see that the groups are now matching"
   ]
  },
  {
   "cell_type": "code",
   "execution_count": 236,
   "metadata": {
    "collapsed": false
   },
   "outputs": [
    {
     "name": "stdout",
     "output_type": "stream",
     "text": [
      "0 W:0.9165 p:0.0003 - 65 subjects between 46 and 66\n",
      "1 W:0.9271 p:0.0009 - 65 subjects between 45 and 67\n",
      "2 W:0.9295 p:0.0012 - 65 subjects between 45 and 68\n",
      "3 W:0.9163 p:0.0003 - 65 subjects between 46 and 68\n",
      "4 W:0.9306 p:0.0013 - 65 subjects between 45 and 67\n"
     ]
    },
    {
     "data": {
      "text/plain": [
       "<matplotlib.legend.Legend at 0x7f2b248685d0>"
      ]
     },
     "execution_count": 236,
     "metadata": {},
     "output_type": "execute_result"
    },
    {
     "data": {
      "image/png": "[encoded data removed]",
      "text/plain": [
       "<matplotlib.figure.Figure at 0x7f2b2313a810>"
      ]
     },
     "metadata": {},
     "output_type": "display_data"
    }
   ],
   "source": [
    "fig, ax = plt.subplots(figsize=(6,6))\n",
    "\n",
    "for i in xrange(4):\n",
    "    x = matched_df[i]['age']\n",
    "    plt.hist(x, bins=20)   \n",
    "    print i, 'W:%.4f p:%.4f -'%stats.shapiro(x), len(x), 'subjects between', int(min(x)), 'and', int(max(x))\n",
    "    \n",
    "x = treated_df['age']\n",
    "plt.hist(x, bins=20)   \n",
    "print 4, 'W:%.4f p:%.4f -'%stats.shapiro(x), len(x), 'subjects between', int(min(x)), 'and', int(max(x))\n",
    "\n",
    "plt.legend(['apoe23', 'apoe24', 'apoe33', 'apoe34', 'apoe44'])"
   ]
  },
  {
   "cell_type": "markdown",
   "metadata": {
    "collapsed": true
   },
   "source": [
    "# Matching groups using linear assignment method"
   ]
  },
  {
   "cell_type": "code",
   "execution_count": 5,
   "metadata": {
    "collapsed": false
   },
   "outputs": [],
   "source": [
    "import pandas as pd\n",
    "df = pd.read_excel('/tmp/analysis_amylstaging/amyl_covariates.xlsx')\n",
    "df = df[['subject','apoe','age','gender']]\n",
    "\n",
    "groups = [df[df['apoe']==i] for i in xrange(3)]\n",
    "for i in xrange(3):\n",
    "    groups[i] = groups[i].set_index(groups[i]['subject'])\n",
    "    del groups[i]['subject']\n",
    "    del groups[i]['apoe']"
   ]
  },
  {
   "cell_type": "code",
   "execution_count": 6,
   "metadata": {
    "collapsed": false
   },
   "outputs": [],
   "source": [
    "groups = [df[df['apoe']==i] for i in xrange(3)]\n",
    "for i in xrange(3):\n",
    "    groups[i] = groups[i].set_index(groups[i]['subject'])\n",
    "    del groups[i]['apoe']\n",
    "    del groups[i]['subject']\n",
    "treated_df =  groups[-1]\n",
    "non_treated_df = groups[0]"
   ]
  },
  {
   "cell_type": "code",
   "execution_count": 7,
   "metadata": {
    "collapsed": false
   },
   "outputs": [],
   "source": [
    "from scipy.spatial.distance import cdist\n",
    "from scipy import optimize\n",
    "\n",
    "def get_matching_pairs(treated_df, non_treated_df):\n",
    "    cost_matrix = cdist(treated_df.values, non_treated_df.values)\n",
    "    row_ind, col_ind = optimize.linear_sum_assignment(cost_matrix)\n",
    "    return non_treated_df.iloc[col_ind]"
   ]
  },
  {
   "cell_type": "code",
   "execution_count": 9,
   "metadata": {
    "collapsed": false
   },
   "outputs": [],
   "source": [
    "treated_df =  groups[-1]\n",
    "matched_df = [get_matching_pairs(treated_df, groups[i]) for i in xrange(2)]\n"
   ]
  },
  {
   "cell_type": "markdown",
   "metadata": {},
   "source": [
    "#### Plotting data and see that the groups are now matching"
   ]
  },
  {
   "cell_type": "code",
   "execution_count": 14,
   "metadata": {
    "collapsed": false
   },
   "outputs": [
    {
     "name": "stdout",
     "output_type": "stream",
     "text": [
      "0 W:0.9540 p:0.5228 - 17 subjects between 50 and 66\n",
      "1 W:0.8836 p:0.0363 - 17 subjects between 55 and 66\n",
      "2 W:0.9396 p:0.3139 - 17 subjects between 50 and 66\n"
     ]
    },
    {
     "data": {
      "text/plain": [
       "<matplotlib.legend.Legend at 0x7f0cfa8272d0>"
      ]
     },
     "execution_count": 14,
     "metadata": {},
     "output_type": "execute_result"
    },
    {
     "data": {
      "image/png": "[encoded data removed]",
      "text/plain": [
       "<matplotlib.figure.Figure at 0x7f0cfadaeb90>"
      ]
     },
     "metadata": {},
     "output_type": "display_data"
    }
   ],
   "source": [
    "fig, ax = plt.subplots(figsize=(6,6))\n",
    "\n",
    "for i in xrange(2):\n",
    "    x = matched_df[i]['age']\n",
    "    plt.hist(x, bins=20)   \n",
    "    print i, 'W:%.4f p:%.4f -'%stats.shapiro(x), len(x), 'subjects between', int(min(x)), 'and', int(max(x))\n",
    "    \n",
    "x = treated_df['age']\n",
    "plt.hist(x, bins=20)   \n",
    "print 2, 'W:%.4f p:%.4f -'%stats.shapiro(x), len(x), 'subjects between', int(min(x)), 'and', int(max(x))\n",
    "\n",
    "plt.legend(['NC', 'HT', 'HO'])"
   ]
  },
  {
   "cell_type": "code",
   "execution_count": 20,
   "metadata": {
    "collapsed": false
   },
   "outputs": [],
   "source": [
    "import json\n",
    "groups_index = [each.index.tolist() for each in matched_df]\n",
    "groups_index.append(groups[2].index.tolist())\n",
    "json.dump(groups_index, open('/tmp/groups.json','w'))"
   ]
  },
  {
   "cell_type": "markdown",
   "metadata": {},
   "source": [
    "### Assessing the effect from the matching\n",
    "\n",
    "We perform a two-sample t-test between each group and the target group, before and after applying the matching.\n",
    "As the dataset is composed of 3 variables (age, gender, education), this returns 3 t values and 3 p-values for each comparison."
   ]
  },
  {
   "cell_type": "code",
   "execution_count": 13,
   "metadata": {
    "collapsed": false
   },
   "outputs": [
    {
     "name": "stdout",
     "output_type": "stream",
     "text": [
      "=== Group 0 ===\n",
      "p-values before matching: [6.97275841e-08 1.17449673e-01] - p-values after matching: [0.63778662 0.03161072]\n",
      "=== Group 1 ===\n",
      "p-values before matching: [1.16451060e-07 3.82919716e-01] - p-values after matching: [7.45376563e-05 3.14674865e-01]\n"
     ]
    }
   ],
   "source": [
    "from scipy.stats import ttest_ind\n",
    "for i in xrange(2):\n",
    "    print '=== Group %s ==='%i\n",
    "    tval_bef, pval_bef = ttest_ind(groups[i].values, treated_df.values)\n",
    "    tval_aft, pval_aft = ttest_ind(matched_df[i].values, treated_df.values)\n",
    "    print 'p-values before matching: %s - p-values after matching: %s'%(pval_bef, pval_aft)"
   ]
  },
  {
   "cell_type": "code",
   "execution_count": 19,
   "metadata": {
    "collapsed": false
   },
   "outputs": [
    {
     "data": {
      "text/plain": [
       "28"
      ]
     },
     "execution_count": 19,
     "metadata": {},
     "output_type": "execute_result"
    }
   ],
   "source": [
    "len(groups[1].values)"
   ]
  },
  {
   "cell_type": "markdown",
   "metadata": {},
   "source": [
    "The p-values observe an overall increase after the matching, showing that the samples are more likely to follow the same distribution law after than before."
   ]
  }
 ],
 "metadata": {
  "kernelspec": {
   "display_name": "Python 2",
   "language": "python",
   "name": "python2"
  },
  "language_info": {
   "codemirror_mode": {
    "name": "ipython",
    "version": 2
   },
   "file_extension": ".py",
   "mimetype": "text/x-python",
   "name": "python",
   "nbconvert_exporter": "python",
   "pygments_lexer": "ipython2",
   "version": "2.7.11+"
  }
 },
 "nbformat": 4,
 "nbformat_minor": 1
}
