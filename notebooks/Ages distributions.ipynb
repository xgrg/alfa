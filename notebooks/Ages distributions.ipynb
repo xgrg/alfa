{
 "cells": [
  {
   "cell_type": "markdown",
   "metadata": {},
   "source": [
    "# Plotting age distributions with respect to genotype groups"
   ]
  },
  {
   "cell_type": "code",
   "execution_count": 68,
   "metadata": {
    "collapsed": false
   },
   "outputs": [
    {
     "name": "stdout",
     "output_type": "stream",
     "text": [
      "0 W:0.9705 p:0.0222 - 102 subjects between 46 and 75\n",
      "1 W:0.9539 p:0.0769 - 44 subjects between 45 and 71\n",
      "2 W:0.9613 p:0.0005 - 143 subjects between 45 and 75\n",
      "3 W:0.9640 p:0.0004 - 160 subjects between 45 and 74\n",
      "4 W:0.9306 p:0.0013 - 65 subjects between 45 and 67\n"
     ]
    },
    {
     "data": {
      "image/png": "[encoded data removed]",
      "text/plain": [
       "<matplotlib.figure.Figure at 0x7f1801cdce10>"
      ]
     },
     "metadata": {},
     "output_type": "display_data"
    }
   ],
   "source": [
    "%matplotlib inline\n",
    "import pandas as pd\n",
    "from scipy import stats\n",
    "from matplotlib import pyplot as plt\n",
    "\n",
    "data = pd.read_excel('/home/grg/spm/data/covariates.xls')\n",
    "\n",
    "for i in xrange(5):\n",
    "    x = data[data['apo'] == i]['age'].values\n",
    "    plt.hist(x, bins=20)\n",
    "    print i, 'W:%.4f p:%.4f -'%stats.shapiro(x), len(x), 'subjects between', int(min(x)), 'and', int(max(x))\n",
    "\n",
    "plt.legend(['apoe23', 'apoe24', 'apoe33', 'apoe34', 'apoe44'])\n",
    "plt.show()"
   ]
  },
  {
   "cell_type": "markdown",
   "metadata": {},
   "source": [
    "For two of the 5 groups, the Shapiro test p-value is lower than 1e-3, which means that the distributions of these two groups can't be considered as normal. (But theorically none of them is)"
   ]
  },
  {
   "cell_type": "markdown",
   "metadata": {},
   "source": [
    "# Matching pairs using nearest neighbours\n",
    "\n",
    "The matching algorithm:"
   ]
  },
  {
   "cell_type": "code",
   "execution_count": 233,
   "metadata": {
    "collapsed": false
   },
   "outputs": [],
   "source": [
    "from sklearn.preprocessing import StandardScaler\n",
    "from sklearn.neighbors import NearestNeighbors\n",
    "\n",
    "def get_matching_pairs(treated_df, non_treated_df, scaler=True):\n",
    "\n",
    "    treated_x = treated_df.values\n",
    "    non_treated_x = non_treated_df.values\n",
    "    if scaler:\n",
    "        scaler = StandardScaler()\n",
    "        scaler.fit(treated_x)\n",
    "        treated_x = scaler.transform(treated_x)\n",
    "        non_treated_x = scaler.transform(non_treated_x)\n",
    "\n",
    "    nbrs = NearestNeighbors(n_neighbors=1, algorithm='ball_tree').fit(non_treated_x)\n",
    "    distances, indices = nbrs.kneighbors(treated_x)\n",
    "    indices = indices.reshape(indices.shape[0])    \n",
    "    matched = non_treated_df.ix[indices]\n",
    "    matched = non_treated_df.irow(matched.index)\n",
    "    return matched"
   ]
  },
  {
   "cell_type": "markdown",
   "metadata": {},
   "source": [
    "#### Loading data"
   ]
  },
  {
   "cell_type": "code",
   "execution_count": 234,
   "metadata": {
    "collapsed": false
   },
   "outputs": [],
   "source": [
    "df = pd.read_excel('/home/grg/spm/data/covariates.xls')\n",
    "df = df[['subject','apo','age','gender','educyears']]\n",
    "\n",
    "groups = [df[df['apo']==i] for i in xrange(5)]\n",
    "for i in xrange(5):\n",
    "    groups[i] = groups[i].set_index(groups[i]['subject'])\n",
    "    del groups[i]['subject']\n",
    "    del groups[i]['apo']"
   ]
  },
  {
   "cell_type": "markdown",
   "metadata": {},
   "source": [
    "### Matching the groups"
   ]
  },
  {
   "cell_type": "code",
   "execution_count": 235,
   "metadata": {
    "collapsed": false
   },
   "outputs": [
    {
     "name": "stderr",
     "output_type": "stream",
     "text": [
      "/home/grg/jupyter/lib/python2.7/site-packages/ipykernel/__main__.py:18: FutureWarning: irow(i) is deprecated. Please use .iloc[i]\n"
     ]
    }
   ],
   "source": [
    "treated_df =  groups[4]\n",
    "matched_df = [get_matching_pairs(treated_df, groups[i], scaler=False) for i in xrange(4)]"
   ]
  },
  {
   "cell_type": "markdown",
   "metadata": {},
   "source": [
    "#### Plotting data and see that the groups are now matching"
   ]
  },
  {
   "cell_type": "code",
   "execution_count": 236,
   "metadata": {
    "collapsed": false
   },
   "outputs": [
    {
     "name": "stdout",
     "output_type": "stream",
     "text": [
      "0 W:0.9165 p:0.0003 - 65 subjects between 46 and 66\n",
      "1 W:0.9271 p:0.0009 - 65 subjects between 45 and 67\n",
      "2 W:0.9295 p:0.0012 - 65 subjects between 45 and 68\n",
      "3 W:0.9163 p:0.0003 - 65 subjects between 46 and 68\n",
      "4 W:0.9306 p:0.0013 - 65 subjects between 45 and 67\n"
     ]
    },
    {
     "data": {
      "text/plain": [
       "<matplotlib.legend.Legend at 0x7f2b248685d0>"
      ]
     },
     "execution_count": 236,
     "metadata": {},
     "output_type": "execute_result"
    },
    {
     "data": {
      "image/png": "[encoded data removed]",
      "text/plain": [
       "<matplotlib.figure.Figure at 0x7f2b2313a810>"
      ]
     },
     "metadata": {},
     "output_type": "display_data"
    }
   ],
   "source": [
    "fig, ax = plt.subplots(figsize=(6,6))\n",
    "\n",
    "for i in xrange(4):\n",
    "    x = matched_df[i]['age']\n",
    "    plt.hist(x, bins=20)   \n",
    "    print i, 'W:%.4f p:%.4f -'%stats.shapiro(x), len(x), 'subjects between', int(min(x)), 'and', int(max(x))\n",
    "    \n",
    "x = treated_df['age']\n",
    "plt.hist(x, bins=20)   \n",
    "print 4, 'W:%.4f p:%.4f -'%stats.shapiro(x), len(x), 'subjects between', int(min(x)), 'and', int(max(x))\n",
    "\n",
    "plt.legend(['apoe23', 'apoe24', 'apoe33', 'apoe34', 'apoe44'])"
   ]
  },
  {
   "cell_type": "markdown",
   "metadata": {
    "collapsed": true
   },
   "source": [
    "# Matching groups using linear assignment method"
   ]
  },
  {
   "cell_type": "code",
   "execution_count": 69,
   "metadata": {
    "collapsed": false
   },
   "outputs": [],
   "source": [
    "import pandas as pd\n",
    "df = pd.read_excel('/home/grg/spm/data/covariates.xls')\n",
    "df = df[['subject','apo','age','gender','educyears']]\n",
    "\n",
    "groups = [df[df['apo']==i] for i in xrange(5)]\n",
    "for i in xrange(5):\n",
    "    groups[i] = groups[i].set_index(groups[i]['subject'])\n",
    "    del groups[i]['subject']\n",
    "    del groups[i]['apo']"
   ]
  },
  {
   "cell_type": "code",
   "execution_count": 70,
   "metadata": {
    "collapsed": false
   },
   "outputs": [],
   "source": [
    "groups = [df[df['apo']==i] for i in xrange(5)]\n",
    "for i in xrange(5):\n",
    "    groups[i] = groups[i].set_index(groups[i]['subject'])\n",
    "    del groups[i]['apo']\n",
    "    del groups[i]['subject']\n",
    "treated_df =  groups[4]\n",
    "non_treated_df = groups[0]"
   ]
  },
  {
   "cell_type": "code",
   "execution_count": 71,
   "metadata": {
    "collapsed": false
   },
   "outputs": [],
   "source": [
    "from scipy.spatial.distance import cdist\n",
    "from scipy import optimize\n",
    "\n",
    "def get_matching_pairs(treated_df, non_treated_df):\n",
    "    cost_matrix = cdist(treated_df.values, non_treated_df.values)\n",
    "    row_ind, col_ind = optimize.linear_sum_assignment(cost_matrix)\n",
    "    return non_treated_df.iloc[col_ind]"
   ]
  },
  {
   "cell_type": "code",
   "execution_count": 72,
   "metadata": {
    "collapsed": false
   },
   "outputs": [],
   "source": [
    "treated_df =  groups[4]\n",
    "matched_df = [get_matching_pairs(treated_df, groups[i]) for i in xrange(4)]"
   ]
  },
  {
   "cell_type": "markdown",
   "metadata": {},
   "source": [
    "#### Plotting data and see that the groups are now matching"
   ]
  },
  {
   "cell_type": "code",
   "execution_count": 73,
   "metadata": {
    "collapsed": false
   },
   "outputs": [
    {
     "name": "stdout",
     "output_type": "stream",
     "text": [
      "0 W:0.9200 p:0.0004 - 65 subjects between 46 and 66\n",
      "1 W:0.9539 p:0.0769 - 44 subjects between 45 and 71\n",
      "2 W:0.9333 p:0.0017 - 65 subjects between 45 and 68\n",
      "3 W:0.9411 p:0.0039 - 65 subjects between 45 and 68\n",
      "4 W:0.9306 p:0.0013 - 65 subjects between 45 and 67\n"
     ]
    },
    {
     "data": {
      "text/plain": [
       "<matplotlib.legend.Legend at 0x7f180013e550>"
      ]
     },
     "execution_count": 73,
     "metadata": {},
     "output_type": "execute_result"
    },
    {
     "data": {
      "image/png": "[encoded data removed]",
      "text/plain": [
       "<matplotlib.figure.Figure at 0x7f18001b73d0>"
      ]
     },
     "metadata": {},
     "output_type": "display_data"
    }
   ],
   "source": [
    "fig, ax = plt.subplots(figsize=(6,6))\n",
    "\n",
    "for i in xrange(4):\n",
    "    x = matched_df[i]['age']\n",
    "    plt.hist(x, bins=20)   \n",
    "    print i, 'W:%.4f p:%.4f -'%stats.shapiro(x), len(x), 'subjects between', int(min(x)), 'and', int(max(x))\n",
    "    \n",
    "x = treated_df['age']\n",
    "plt.hist(x, bins=20)   \n",
    "print 4, 'W:%.4f p:%.4f -'%stats.shapiro(x), len(x), 'subjects between', int(min(x)), 'and', int(max(x))\n",
    "\n",
    "plt.legend(['apoe23', 'apoe24', 'apoe33', 'apoe34', 'apoe44'])"
   ]
  },
  {
   "cell_type": "code",
   "execution_count": 6,
   "metadata": {
    "collapsed": false
   },
   "outputs": [],
   "source": [
    "import json\n",
    "groups_index = [each.index.tolist() for each in matched_df]\n",
    "groups_index.append(groups[4].index.tolist())\n",
    "json.dump(groups_index, open('/tmp/groups.json','w'))"
   ]
  },
  {
   "cell_type": "markdown",
   "metadata": {},
   "source": [
    "### Assessing the effect from the matching\n",
    "\n",
    "We perform a two-sample t-test between each group and the target group, before and after applying the matching.\n",
    "As the dataset is composed of 3 variables (age, gender, education), this returns 3 t values and 3 p-values for each comparison."
   ]
  },
  {
   "cell_type": "code",
   "execution_count": 76,
   "metadata": {
    "collapsed": false
   },
   "outputs": [
    {
     "name": "stdout",
     "output_type": "stream",
     "text": [
      "=== Group 0 ===\n",
      "p-values before matching: [ 0.10239774  0.96574159  0.17485346] - p-values after matching: [ 0.8817942   0.85652515  0.79697805]\n",
      "=== Group 1 ===\n",
      "p-values before matching: [ 0.31275858  0.5163133   0.89363599] - p-values after matching: [ 0.31275858  0.5163133   0.89363599]\n",
      "=== Group 2 ===\n",
      "p-values before matching: [  7.87194137e-06   7.85788040e-01   7.59002122e-01] - p-values after matching: [ 0.97140587  0.35516616  0.74364497]\n",
      "=== Group 3 ===\n",
      "p-values before matching: [  1.01369434e-05   2.02634075e-01   5.06903917e-01] - p-values after matching: [ 0.97517904  0.21707092  0.69159306]\n"
     ]
    }
   ],
   "source": [
    "from scipy.stats import ttest_ind\n",
    "for i in xrange(4):\n",
    "    print '=== Group %s ==='%i\n",
    "    tval_bef, pval_bef = ttest_ind(groups[i].values, treated_df.values)\n",
    "    tval_aft, pval_aft = ttest_ind(matched_df[i].values, treated_df.values)\n",
    "    print 'p-values before matching: %s - p-values after matching: %s'%(pval_bef, pval_aft)"
   ]
  },
  {
   "cell_type": "markdown",
   "metadata": {},
   "source": [
    "The p-values observe an overall increase after the matching, showing that the samples are more likely to follow the same distribution law after than before."
   ]
  }
 ],
 "metadata": {
  "kernelspec": {
   "display_name": "Python 2",
   "language": "python",
   "name": "python2"
  },
  "language_info": {
   "codemirror_mode": {
    "name": "ipython",
    "version": 2
   },
   "file_extension": ".py",
   "mimetype": "text/x-python",
   "name": "python",
   "nbconvert_exporter": "python",
   "pygments_lexer": "ipython2",
   "version": "2.7.11+"
  }
 },
 "nbformat": 4,
 "nbformat_minor": 1
}
