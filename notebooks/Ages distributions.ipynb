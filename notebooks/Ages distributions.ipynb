{
 "cells": [
  {
   "cell_type": "markdown",
   "metadata": {},
   "source": [
    "# Plotting age distributions with respect to genotype groups"
   ]
  },
  {
   "cell_type": "code",
   "execution_count": 1,
   "metadata": {
    "collapsed": false
   },
   "outputs": [
    {
     "name": "stdout",
     "output_type": "stream",
     "text": [
      "[u'age23', u'age24', u'age33', u'age34', u'age44']\n",
      "age23 W:0.9705 p:0.0222 102 subjects between 46 and 75\n",
      "age24 W:0.9539 p:0.0769 44 subjects between 45 and 71\n",
      "age33 W:0.9613 p:0.0005 143 subjects between 45 and 75\n",
      "age34 W:0.9640 p:0.0004 160 subjects between 45 and 74\n",
      "age44 W:0.9306 p:0.0013 65 subjects between 45 and 67\n"
     ]
    },
    {
     "data": {
      "image/png": "[encoded data removed]",
      "text/plain": [
       "<matplotlib.figure.Figure at 0x7f6d1a2c1f50>"
      ]
     },
     "metadata": {},
     "output_type": "display_data"
    }
   ],
   "source": [
    "import pandas as pd\n",
    "data = pd.read_excel('/home/grg/spm/designmat/fullmatrix.xls')\n",
    "from matplotlib import pyplot as plt\n",
    "%matplotlib inline\n",
    "ages = [e for e in data.columns if 'age' in e and not 'sq' in e]\n",
    "print ages\n",
    "from scipy import stats\n",
    "data2 = {}\n",
    "for each in ages:\n",
    "    x = [int(i)/365.25 for i in data[each].tolist() if i>0]\n",
    "    data2[each] = x\n",
    "    plt.hist(x, bins=20)\n",
    "    print each, 'W:%.4f p:%.4f'%stats.shapiro(x), len(x), 'subjects between', int(min(x)), 'and', int(max(x))\n",
    "\n",
    "plt.legend(ages)\n",
    "plt.show()\n",
    "    "
   ]
  },
  {
   "cell_type": "markdown",
   "metadata": {},
   "source": [
    "For two of the 5 groups, the Shapiro test p-value is lower than 1e-3, which means that the distributions of these two groups can't be considered as normal."
   ]
  },
  {
   "cell_type": "code",
   "execution_count": null,
   "metadata": {
    "collapsed": true
   },
   "outputs": [],
   "source": []
  }
 ],
 "metadata": {
  "kernelspec": {
   "display_name": "Python 2",
   "language": "python",
   "name": "python2"
  },
  "language_info": {
   "codemirror_mode": {
    "name": "ipython",
    "version": 2
   },
   "file_extension": ".py",
   "mimetype": "text/x-python",
   "name": "python",
   "nbconvert_exporter": "python",
   "pygments_lexer": "ipython2",
   "version": "2.7.11+"
  }
 },
 "nbformat": 4,
 "nbformat_minor": 1
}
