{
 "cells": [
  {
   "cell_type": "markdown",
   "metadata": {},
   "source": [
    "# Plotting age distributions with respect to genotype groups"
   ]
  },
  {
   "cell_type": "code",
   "execution_count": 10,
   "metadata": {
    "collapsed": false
   },
   "outputs": [
    {
     "name": "stdout",
     "output_type": "stream",
     "text": [
      "[u'age23', u'age24', u'age33', u'age34', u'age44']\n",
      "age24 W:0.9539 p:0.0769 44 subjects between 45 and 71\n"
     ]
    },
    {
     "data": {
      "image/png": "[encoded data removed]",
      "text/plain": [
       "<matplotlib.figure.Figure at 0x7fc930399190>"
      ]
     },
     "metadata": {},
     "output_type": "display_data"
    }
   ],
   "source": [
    "import pandas as pd\n",
    "data = pd.read_excel('/home/grg/spm/designmat/fullmatrix.xls')\n",
    "from matplotlib import pyplot as plt\n",
    "%matplotlib inline\n",
    "ages = [e for e in data.columns if 'age' in e and not 'sq' in e]\n",
    "print ages\n",
    "from scipy import stats\n",
    "data2 = {}\n",
    "for each in ages[1:2]:\n",
    "    x = [int(i)/365.25 for i in data[each].tolist() if i>0]\n",
    "    data2[each] = x\n",
    "    plt.hist(x, bins=20)\n",
    "    print each, 'W:%.4f p:%.4f'%stats.shapiro(x), len(x), 'subjects between', int(min(x)), 'and', int(max(x))\n",
    "\n",
    "plt.legend(ages)\n",
    "plt.show()"
   ]
  },
  {
   "cell_type": "markdown",
   "metadata": {},
   "source": [
    "For two of the 5 groups, the Shapiro test p-value is lower than 1e-3, which means that the distributions of these two groups can't be considered as normal."
   ]
  },
  {
   "cell_type": "markdown",
   "metadata": {},
   "source": [
    "# Matching pairs using nearest neighbours"
   ]
  },
  {
   "cell_type": "code",
   "execution_count": 118,
   "metadata": {
    "collapsed": false
   },
   "outputs": [],
   "source": [
    "from sklearn.preprocessing import StandardScaler\n",
    "from sklearn.neighbors import NearestNeighbors\n",
    "\n",
    "def get_matching_pairs(treated_df, non_treated_df, scaler=True):\n",
    "\n",
    "    treated_x = treated_df.values\n",
    "    non_treated_x = non_treated_df.values\n",
    "    if scaler:\n",
    "        scaler = StandardScaler()\n",
    "        scaler.fit(treated_x)\n",
    "        treated_x = scaler.transform(treated_x)\n",
    "        non_treated_x = scaler.transform(non_treated_x)\n",
    "\n",
    "    nbrs = NearestNeighbors(n_neighbors=1, algorithm='ball_tree').fit(non_treated_x)\n",
    "    distances, indices = nbrs.kneighbors(treated_x)\n",
    "    indices = indices.reshape(indices.shape[0])    \n",
    "    matched = non_treated_df.ix[indices]\n",
    "    matched = non_treated_df.irow(matched.index)\n",
    "    return matched"
   ]
  },
  {
   "cell_type": "markdown",
   "metadata": {},
   "source": [
    "Loading data"
   ]
  },
  {
   "cell_type": "code",
   "execution_count": 119,
   "metadata": {
    "collapsed": false
   },
   "outputs": [],
   "source": [
    "df = pd.read_excel('/home/grg/spm/data/covariates.xls')\n",
    "df = df[['subject','apo','age']]\n",
    "groups = [df[df['apo']==i] for i in xrange(5)]\n",
    "for i in xrange(5):\n",
    "    groups[i] = groups[i].set_index(groups[i]['subject'])\n",
    "    del groups[i]['subject']\n",
    "    del groups[i]['apo']"
   ]
  },
  {
   "cell_type": "markdown",
   "metadata": {},
   "source": [
    "Plotting data and see that the groups are now matching"
   ]
  },
  {
   "cell_type": "code",
   "execution_count": 126,
   "metadata": {
    "collapsed": false
   },
   "outputs": [
    {
     "name": "stderr",
     "output_type": "stream",
     "text": [
      "/home/grg/jupyter/lib/python2.7/site-packages/ipykernel/__main__.py:18: FutureWarning: irow(i) is deprecated. Please use .iloc[i]\n"
     ]
    },
    {
     "data": {
      "text/plain": [
       "(array([  5.,   3.,   3.,   4.,  10.,   4.,   5.,   5.,   0.,   4.,   3.,\n",
       "          3.,   0.,   0.,   5.,   2.,   3.,   2.,   1.,   3.]),\n",
       " array([ 45.5578371 ,  46.66584531,  47.77385352,  48.88186174,\n",
       "         49.98986995,  51.09787817,  52.20588638,  53.31389459,\n",
       "         54.42190281,  55.52991102,  56.63791923,  57.74592745,\n",
       "         58.85393566,  59.96194387,  61.06995209,  62.1779603 ,\n",
       "         63.28596851,  64.39397673,  65.50198494,  66.60999316,  67.71800137]),\n",
       " <a list of 20 Patch objects>)"
      ]
     },
     "execution_count": 126,
     "metadata": {},
     "output_type": "execute_result"
    },
    {
     "data": {
      "image/png": "[encoded data removed]",
      "text/plain": [
       "<matplotlib.figure.Figure at 0x7fc90367a090>"
      ]
     },
     "metadata": {},
     "output_type": "display_data"
    }
   ],
   "source": [
    "treated_df =  groups[4]\n",
    "matched_df = [get_matching_pairs(treated_df, groups[i], False) for i in xrange(4)]\n",
    "\n",
    "fig, ax = plt.subplots(figsize=(6,6))\n",
    "for i in xrange(4):\n",
    "    plt.hist(matched_df[i]['age'], bins=20)    \n",
    "plt.hist(treated_df['age'], bins=20)"
   ]
  },
  {
   "cell_type": "markdown",
   "metadata": {},
   "source": [
    "But normality is still not respected"
   ]
  },
  {
   "cell_type": "code",
   "execution_count": 130,
   "metadata": {
    "collapsed": false
   },
   "outputs": [
    {
     "name": "stdout",
     "output_type": "stream",
     "text": [
      " 10070 W:0.9224 p:0.0006 65 subjects between 46 and 67\n",
      "10070 W:0.9255 p:0.0008 65 subjects between 45 and 67\n",
      "10070 W:0.9316 p:0.0014 65 subjects between 45 and 68\n",
      "10070 W:0.9315 p:0.0014 65 subjects between 45 and 67\n",
      "10070 W:0.9306 p:0.0013 65 subjects between 45 and 67\n"
     ]
    }
   ],
   "source": [
    "for i in xrange(4):\n",
    "    x = matched_df[i]['age'].tolist()\n",
    "    print each, 'W:%.4f p:%.4f'%stats.shapiro(x), len(x), 'subjects between', int(min(x)), 'and', int(max(x))\n",
    "x = groups[4]['age'].tolist()\n",
    "print each, 'W:%.4f p:%.4f'%stats.shapiro(x), len(x), 'subjects between', int(min(x)), 'and', int(max(x))"
   ]
  }
 ],
 "metadata": {
  "kernelspec": {
   "display_name": "Python 2",
   "language": "python",
   "name": "python2"
  },
  "language_info": {
   "codemirror_mode": {
    "name": "ipython",
    "version": 2
   },
   "file_extension": ".py",
   "mimetype": "text/x-python",
   "name": "python",
   "nbconvert_exporter": "python",
   "pygments_lexer": "ipython2",
   "version": "2.7.11+"
  }
 },
 "nbformat": 4,
 "nbformat_minor": 1
}
