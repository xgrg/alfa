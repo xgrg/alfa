{
 "cells": [
  {
   "cell_type": "markdown",
   "metadata": {},
   "source": [
    "# Plotting age distributions with respect to genotype groups"
   ]
  },
  {
   "cell_type": "code",
   "execution_count": 40,
   "metadata": {
    "collapsed": false
   },
   "outputs": [
    {
     "name": "stdout",
     "output_type": "stream",
     "text": [
      "0 W:0.9705 p:0.0222 - 102 subjects between 46 and 75\n",
      "1 W:0.9539 p:0.0769 - 44 subjects between 45 and 71\n",
      "2 W:0.9613 p:0.0005 - 143 subjects between 45 and 75\n",
      "3 W:0.9640 p:0.0004 - 160 subjects between 45 and 74\n",
      "4 W:0.9306 p:0.0013 - 65 subjects between 45 and 67\n"
     ]
    },
    {
     "data": {
      "image/png": "[encoded data removed]",
      "text/plain": [
       "<matplotlib.figure.Figure at 0x7f2b28369390>"
      ]
     },
     "metadata": {},
     "output_type": "display_data"
    }
   ],
   "source": [
    "%matplotlib inline\n",
    "import pandas as pd\n",
    "from scipy import stats\n",
    "from matplotlib import pyplot as plt\n",
    "\n",
    "data = pd.read_excel('/home/grg/spm/data/covariates.xls')\n",
    "\n",
    "for i in xrange(5):\n",
    "    x = data[data['apo'] == i]['age'].values\n",
    "    plt.hist(x, bins=20)\n",
    "    print i, 'W:%.4f p:%.4f -'%stats.shapiro(x), len(x), 'subjects between', int(min(x)), 'and', int(max(x))\n",
    "\n",
    "plt.legend(['apoe23', 'apoe24', 'apoe33', 'apoe34', 'apoe44'])\n",
    "plt.show()"
   ]
  },
  {
   "cell_type": "markdown",
   "metadata": {},
   "source": [
    "For two of the 5 groups, the Shapiro test p-value is lower than 1e-3, which means that the distributions of these two groups can't be considered as normal. (But theorically none of them is)"
   ]
  },
  {
   "cell_type": "markdown",
   "metadata": {},
   "source": [
    "# Matching pairs using nearest neighbours\n",
    "\n",
    "The matching algorithm:"
   ]
  },
  {
   "cell_type": "code",
   "execution_count": 41,
   "metadata": {
    "collapsed": false
   },
   "outputs": [],
   "source": [
    "from sklearn.preprocessing import StandardScaler\n",
    "from sklearn.neighbors import NearestNeighbors\n",
    "\n",
    "def get_matching_pairs(treated_df, non_treated_df, scaler=True):\n",
    "\n",
    "    treated_x = treated_df.values\n",
    "    non_treated_x = non_treated_df.values\n",
    "    if scaler:\n",
    "        scaler = StandardScaler()\n",
    "        scaler.fit(treated_x)\n",
    "        treated_x = scaler.transform(treated_x)\n",
    "        non_treated_x = scaler.transform(non_treated_x)\n",
    "\n",
    "    nbrs = NearestNeighbors(n_neighbors=1, algorithm='ball_tree').fit(non_treated_x)\n",
    "    distances, indices = nbrs.kneighbors(treated_x)\n",
    "    indices = indices.reshape(indices.shape[0])    \n",
    "    matched = non_treated_df.ix[indices]\n",
    "    matched = non_treated_df.irow(matched.index)\n",
    "    return matched"
   ]
  },
  {
   "cell_type": "markdown",
   "metadata": {},
   "source": [
    "#### Loading data"
   ]
  },
  {
   "cell_type": "code",
   "execution_count": 42,
   "metadata": {
    "collapsed": false
   },
   "outputs": [],
   "source": [
    "df = pd.read_excel('/home/grg/spm/data/covariates.xls')\n",
    "df = df[['subject','apo','age','gender']]\n",
    "\n",
    "groups = [df[df['apo']==i] for i in xrange(5)]\n",
    "for i in xrange(5):\n",
    "    groups[i] = groups[i].set_index(groups[i]['subject'])\n",
    "    del groups[i]['subject']\n",
    "    del groups[i]['apo']"
   ]
  },
  {
   "cell_type": "markdown",
   "metadata": {},
   "source": [
    "### Matching the groups"
   ]
  },
  {
   "cell_type": "code",
   "execution_count": 43,
   "metadata": {
    "collapsed": true
   },
   "outputs": [
    {
     "name": "stderr",
     "output_type": "stream",
     "text": [
      "/home/grg/jupyter/lib/python2.7/site-packages/ipykernel/__main__.py:18: FutureWarning: irow(i) is deprecated. Please use .iloc[i]\n"
     ]
    }
   ],
   "source": [
    "treated_df =  groups[4]\n",
    "matched_df = [get_matching_pairs(treated_df, groups[i], scaler=False) for i in xrange(4)]"
   ]
  },
  {
   "cell_type": "markdown",
   "metadata": {},
   "source": [
    "#### Plotting data and see that the groups are now matching"
   ]
  },
  {
   "cell_type": "code",
   "execution_count": 44,
   "metadata": {
    "collapsed": false
   },
   "outputs": [
    {
     "data": {
      "text/plain": [
       "(array([  5.,   3.,   3.,   4.,  10.,   4.,   5.,   5.,   0.,   4.,   3.,\n",
       "          3.,   0.,   0.,   5.,   2.,   3.,   2.,   1.,   3.]),\n",
       " array([ 45.5578371 ,  46.66584531,  47.77385352,  48.88186174,\n",
       "         49.98986995,  51.09787817,  52.20588638,  53.31389459,\n",
       "         54.42190281,  55.52991102,  56.63791923,  57.74592745,\n",
       "         58.85393566,  59.96194387,  61.06995209,  62.1779603 ,\n",
       "         63.28596851,  64.39397673,  65.50198494,  66.60999316,  67.71800137]),\n",
       " <a list of 20 Patch objects>)"
      ]
     },
     "execution_count": 44,
     "metadata": {},
     "output_type": "execute_result"
    },
    {
     "data": {
      "image/png": "[encoded data removed]",
      "text/plain": [
       "<matplotlib.figure.Figure at 0x7f2b291d00d0>"
      ]
     },
     "metadata": {},
     "output_type": "display_data"
    }
   ],
   "source": [
    "fig, ax = plt.subplots(figsize=(6,6))\n",
    "for i in xrange(4):\n",
    "    plt.hist(matched_df[i]['age'], bins=20)    \n",
    "plt.hist(treated_df['age'], bins=20)"
   ]
  }
 ],
 "metadata": {
  "kernelspec": {
   "display_name": "Python 2",
   "language": "python",
   "name": "python2"
  },
  "language_info": {
   "codemirror_mode": {
    "name": "ipython",
    "version": 2
   },
   "file_extension": ".py",
   "mimetype": "text/x-python",
   "name": "python",
   "nbconvert_exporter": "python",
   "pygments_lexer": "ipython2",
   "version": "2.7.11+"
  }
 },
 "nbformat": 4,
 "nbformat_minor": 1
}
