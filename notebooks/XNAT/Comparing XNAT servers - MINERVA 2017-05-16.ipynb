{
 "cells": [
  {
   "cell_type": "markdown",
   "metadata": {},
   "source": [
    "# Comparisons for MINERVA (2017-05-16)"
   ]
  },
  {
   "cell_type": "code",
   "execution_count": 8,
   "metadata": {
    "collapsed": false
   },
   "outputs": [],
   "source": [
    "# After running find . > $file on both archives (BSC and UPCnet)\n",
    "upcnet = open('/tmp/xnat_stats/MINERVA_upcnet_20170516.txt').readlines()\n",
    "bsc = open('/tmp/xnat_stats/MINERVA_bsc_20170516.txt').readlines()"
   ]
  },
  {
   "cell_type": "code",
   "execution_count": 9,
   "metadata": {
    "collapsed": true
   },
   "outputs": [],
   "source": [
    "from glob import glob\n",
    "import pandas as pd\n",
    "import os.path as osp\n",
    "upc_dcm = [(e.split('/')[-3], (osp.basename(e)[:-1],e[:-1])) for e in upcnet if e.endswith('.dcm\\n')]\n",
    "bsc_dcm = [(e.split('/')[-3], (osp.basename(e)[:-1], e[:-1])) for e in bsc if e.endswith('.dcm\\n')]"
   ]
  },
  {
   "cell_type": "markdown",
   "metadata": {},
   "source": [
    "### Display the first identified DICOM files"
   ]
  },
  {
   "cell_type": "code",
   "execution_count": 10,
   "metadata": {
    "collapsed": false
   },
   "outputs": [
    {
     "name": "stdout",
     "output_type": "stream",
     "text": [
      "[('401', ('1.3.46.670589.11.78036.5.0.4204.2016120120311268010-401-34-rgy2rp.dcm', './1001/SCANS/401/DICOM/1.3.46.670589.11.78036.5.0.4204.2016120120311268010-401-34-rgy2rp.dcm')), ('401', ('1.3.46.670589.11.78036.5.0.4204.2016120120311268010-401-134-qmrxgi.dcm', './1001/SCANS/401/DICOM/1.3.46.670589.11.78036.5.0.4204.2016120120311268010-401-134-qmrxgi.dcm')), ('401', ('1.3.46.670589.11.78036.5.0.4204.2016120120311268010-401-97-pp943y.dcm', './1001/SCANS/401/DICOM/1.3.46.670589.11.78036.5.0.4204.2016120120311268010-401-97-pp943y.dcm')), ('401', ('1.3.46.670589.11.78036.5.0.4204.2016120120311268010-401-106-pnkgbw.dcm', './1001/SCANS/401/DICOM/1.3.46.670589.11.78036.5.0.4204.2016120120311268010-401-106-pnkgbw.dcm')), ('401', ('1.3.46.670589.11.78036.5.0.4204.2016120120311268010-401-77-q558fa.dcm', './1001/SCANS/401/DICOM/1.3.46.670589.11.78036.5.0.4204.2016120120311268010-401-77-q558fa.dcm')), ('401', ('1.3.46.670589.11.78036.5.0.4204.2016120120311268010-401-94-ppnst4.dcm', './1001/SCANS/401/DICOM/1.3.46.670589.11.78036.5.0.4204.2016120120311268010-401-94-ppnst4.dcm')), ('401', ('1.3.46.670589.11.78036.5.0.4204.2016120120311268010-401-54-qn9t3g.dcm', './1001/SCANS/401/DICOM/1.3.46.670589.11.78036.5.0.4204.2016120120311268010-401-54-qn9t3g.dcm')), ('401', ('1.3.46.670589.11.78036.5.0.4204.2016120120311268010-401-12-poo1je.dcm', './1001/SCANS/401/DICOM/1.3.46.670589.11.78036.5.0.4204.2016120120311268010-401-12-poo1je.dcm')), ('401', ('1.3.46.670589.11.78036.5.0.4204.2016120120311268010-401-55-qmskg2.dcm', './1001/SCANS/401/DICOM/1.3.46.670589.11.78036.5.0.4204.2016120120311268010-401-55-qmskg2.dcm')), ('401', ('1.3.46.670589.11.78036.5.0.4204.2016120120311268010-401-126-pmi4lf.dcm', './1001/SCANS/401/DICOM/1.3.46.670589.11.78036.5.0.4204.2016120120311268010-401-126-pmi4lf.dcm'))] [('401', ('1.3.46.670589.11.78036.5.0.11548.2016121420184096006-401-3316-vnpexf.dcm', './1009-1/SCANS/401/DICOM/1.3.46.670589.11.78036.5.0.11548.2016121420184096006-401-3316-vnpexf.dcm')), ('401', ('1.3.46.670589.11.78036.5.0.11548.2016121420184096006-401-9557-1ymk4zo.dcm', './1009-1/SCANS/401/DICOM/1.3.46.670589.11.78036.5.0.11548.2016121420184096006-401-9557-1ymk4zo.dcm')), ('401', ('1.3.46.670589.11.78036.5.0.11548.2016121420184096006-401-9374-yvh6dr.dcm', './1009-1/SCANS/401/DICOM/1.3.46.670589.11.78036.5.0.11548.2016121420184096006-401-9374-yvh6dr.dcm')), ('401', ('1.3.46.670589.11.78036.5.0.11548.2016121420184096006-401-12636-5mcoxl.dcm', './1009-1/SCANS/401/DICOM/1.3.46.670589.11.78036.5.0.11548.2016121420184096006-401-12636-5mcoxl.dcm')), ('401', ('1.3.46.670589.11.78036.5.0.11548.2016121420184096006-401-722-1xdkak6.dcm', './1009-1/SCANS/401/DICOM/1.3.46.670589.11.78036.5.0.11548.2016121420184096006-401-722-1xdkak6.dcm')), ('401', ('1.3.46.670589.11.78036.5.0.11548.2016121420184096006-401-5589-13xoyw1.dcm', './1009-1/SCANS/401/DICOM/1.3.46.670589.11.78036.5.0.11548.2016121420184096006-401-5589-13xoyw1.dcm')), ('401', ('1.3.46.670589.11.78036.5.0.11548.2016121420184096006-401-5932-bx08om.dcm', './1009-1/SCANS/401/DICOM/1.3.46.670589.11.78036.5.0.11548.2016121420184096006-401-5932-bx08om.dcm')), ('401', ('1.3.46.670589.11.78036.5.0.11548.2016121420184096006-401-4433-cgurln.dcm', './1009-1/SCANS/401/DICOM/1.3.46.670589.11.78036.5.0.11548.2016121420184096006-401-4433-cgurln.dcm')), ('401', ('1.3.46.670589.11.78036.5.0.11548.2016121420184096006-401-288-dbyt9w.dcm', './1009-1/SCANS/401/DICOM/1.3.46.670589.11.78036.5.0.11548.2016121420184096006-401-288-dbyt9w.dcm')), ('401', ('1.3.46.670589.11.78036.5.0.11548.2016121420184096006-401-11781-ruwzcs.dcm', './1009-1/SCANS/401/DICOM/1.3.46.670589.11.78036.5.0.11548.2016121420184096006-401-11781-ruwzcs.dcm'))]\n"
     ]
    }
   ],
   "source": [
    "print upc_dcm[:10], bsc_dcm[:10]"
   ]
  },
  {
   "cell_type": "markdown",
   "metadata": {},
   "source": [
    "### Numbers of existing DICOM files on both sides:"
   ]
  },
  {
   "cell_type": "code",
   "execution_count": 11,
   "metadata": {
    "collapsed": false
   },
   "outputs": [
    {
     "name": "stdout",
     "output_type": "stream",
     "text": [
      "upc: 509455 bsc: 509455\n"
     ]
    }
   ],
   "source": [
    "print 'upc:', len(upc_dcm), 'bsc:', len(bsc_dcm)"
   ]
  },
  {
   "cell_type": "markdown",
   "metadata": {},
   "source": [
    "Numbers of non-dicom items:"
   ]
  },
  {
   "cell_type": "code",
   "execution_count": 12,
   "metadata": {
    "collapsed": false
   },
   "outputs": [
    {
     "name": "stdout",
     "output_type": "stream",
     "text": [
      "upc: 1078 bsc: 1040\n"
     ]
    }
   ],
   "source": [
    "nondcm_upcnet = [e[0] for e in upcnet if not '.dcm' in e]\n",
    "nondcm_bsc = [e[0] for e in bsc if not '.dcm' in e]\n",
    "print 'upc:', len(nondcm_upcnet), 'bsc:', len(nondcm_bsc)"
   ]
  },
  {
   "cell_type": "markdown",
   "metadata": {},
   "source": [
    "Dictionaries by sequences:"
   ]
  },
  {
   "cell_type": "code",
   "execution_count": 13,
   "metadata": {
    "collapsed": false
   },
   "outputs": [],
   "source": [
    "# Creating dictionaries\n",
    "upc_dict = {}\n",
    "bsc_dict = {}\n",
    "\n",
    "for seq, (dcmfile,_) in upc_dcm:\n",
    "    upc_dict.setdefault(seq, []).append(dcmfile)\n",
    "for seq, (dcmfile,_) in bsc_dcm:\n",
    "    bsc_dict.setdefault(seq, []).append(dcmfile)"
   ]
  },
  {
   "cell_type": "markdown",
   "metadata": {},
   "source": [
    "## Matching files between servers for every sequence:"
   ]
  },
  {
   "cell_type": "markdown",
   "metadata": {},
   "source": [
    "The good thing is that it appears that all files from BSC find their match on UPCnet.\n",
    "\n",
    "Yet the opposite is not true."
   ]
  },
  {
   "cell_type": "code",
   "execution_count": 14,
   "metadata": {
    "collapsed": false
   },
   "outputs": [
    {
     "name": "stdout",
     "output_type": "stream",
     "text": [
      "set([]) are in UPC, missing in BSC\n",
      "set([]) are in BSC, missing in UPC\n",
      "11 in common\n"
     ]
    },
    {
     "data": {
      "text/html": [
       "<div>\n",
       "<table border=\"1\" class=\"dataframe\">\n",
       "  <thead>\n",
       "    <tr style=\"text-align: right;\">\n",
       "      <th></th>\n",
       "      <th>UPCnet</th>\n",
       "      <th>BSC</th>\n",
       "      <th>upc.diff(bsc)</th>\n",
       "      <th>bsc.diff(upc)</th>\n",
       "      <th>UPCnet - BSC (raw diff in numbers)</th>\n",
       "    </tr>\n",
       "  </thead>\n",
       "  <tbody>\n",
       "    <tr>\n",
       "      <th>201</th>\n",
       "      <td>17</td>\n",
       "      <td>17</td>\n",
       "      <td>0</td>\n",
       "      <td>0</td>\n",
       "      <td>0</td>\n",
       "    </tr>\n",
       "    <tr>\n",
       "      <th>202</th>\n",
       "      <td>17</td>\n",
       "      <td>17</td>\n",
       "      <td>0</td>\n",
       "      <td>0</td>\n",
       "      <td>0</td>\n",
       "    </tr>\n",
       "    <tr>\n",
       "      <th>601</th>\n",
       "      <td>138495</td>\n",
       "      <td>138495</td>\n",
       "      <td>0</td>\n",
       "      <td>0</td>\n",
       "      <td>0</td>\n",
       "    </tr>\n",
       "    <tr>\n",
       "      <th>301</th>\n",
       "      <td>6818</td>\n",
       "      <td>6818</td>\n",
       "      <td>0</td>\n",
       "      <td>0</td>\n",
       "      <td>0</td>\n",
       "    </tr>\n",
       "    <tr>\n",
       "      <th>701</th>\n",
       "      <td>55202</td>\n",
       "      <td>55202</td>\n",
       "      <td>0</td>\n",
       "      <td>0</td>\n",
       "      <td>0</td>\n",
       "    </tr>\n",
       "    <tr>\n",
       "      <th>0</th>\n",
       "      <td>30</td>\n",
       "      <td>30</td>\n",
       "      <td>0</td>\n",
       "      <td>0</td>\n",
       "      <td>0</td>\n",
       "    </tr>\n",
       "    <tr>\n",
       "      <th>401</th>\n",
       "      <td>98818</td>\n",
       "      <td>98818</td>\n",
       "      <td>0</td>\n",
       "      <td>0</td>\n",
       "      <td>0</td>\n",
       "    </tr>\n",
       "    <tr>\n",
       "      <th>102</th>\n",
       "      <td>54</td>\n",
       "      <td>54</td>\n",
       "      <td>0</td>\n",
       "      <td>0</td>\n",
       "      <td>0</td>\n",
       "    </tr>\n",
       "    <tr>\n",
       "      <th>103</th>\n",
       "      <td>990</td>\n",
       "      <td>990</td>\n",
       "      <td>0</td>\n",
       "      <td>0</td>\n",
       "      <td>0</td>\n",
       "    </tr>\n",
       "    <tr>\n",
       "      <th>101</th>\n",
       "      <td>1818</td>\n",
       "      <td>1818</td>\n",
       "      <td>0</td>\n",
       "      <td>0</td>\n",
       "      <td>0</td>\n",
       "    </tr>\n",
       "    <tr>\n",
       "      <th>501</th>\n",
       "      <td>207196</td>\n",
       "      <td>207196</td>\n",
       "      <td>0</td>\n",
       "      <td>0</td>\n",
       "      <td>0</td>\n",
       "    </tr>\n",
       "  </tbody>\n",
       "</table>\n",
       "</div>"
      ],
      "text/plain": [
       "     UPCnet     BSC  upc.diff(bsc)  bsc.diff(upc)  \\\n",
       "201      17      17              0              0   \n",
       "202      17      17              0              0   \n",
       "601  138495  138495              0              0   \n",
       "301    6818    6818              0              0   \n",
       "701   55202   55202              0              0   \n",
       "0        30      30              0              0   \n",
       "401   98818   98818              0              0   \n",
       "102      54      54              0              0   \n",
       "103     990     990              0              0   \n",
       "101    1818    1818              0              0   \n",
       "501  207196  207196              0              0   \n",
       "\n",
       "     UPCnet - BSC (raw diff in numbers)  \n",
       "201                                   0  \n",
       "202                                   0  \n",
       "601                                   0  \n",
       "301                                   0  \n",
       "701                                   0  \n",
       "0                                     0  \n",
       "401                                   0  \n",
       "102                                   0  \n",
       "103                                   0  \n",
       "101                                   0  \n",
       "501                                   0  "
      ]
     },
     "execution_count": 14,
     "metadata": {},
     "output_type": "execute_result"
    }
   ],
   "source": [
    "results = []\n",
    "print set(upc_dict.keys()).difference(set(bsc_dict.keys())), 'are in UPC, missing in BSC'\n",
    "print set(bsc_dict.keys()).difference(set(upc_dict.keys())), 'are in BSC, missing in UPC'\n",
    "common_sq = set(bsc_dict.keys()).intersection(set(upc_dict.keys()))\n",
    "print len(common_sq), 'in common'\n",
    "\n",
    "for each in common_sq:\n",
    "    row = []\n",
    "    row.append(len(upc_dict[each]))\n",
    "    row.append(len(bsc_dict[each]))\n",
    "    row.append(len(set(upc_dict[each]).difference(set(bsc_dict[each]))))\n",
    "    row.append(len(set(bsc_dict[each]).difference(set(upc_dict[each]))))\n",
    "    row.append(len(upc_dict[each]) - len(bsc_dict[each]))\n",
    "    results.append(row)\n",
    "pd.DataFrame(results, index=common_sq, columns=['UPCnet', 'BSC', 'upc.diff(bsc)', 'bsc.diff(upc)', 'UPCnet - BSC (raw diff in numbers)'])"
   ]
  },
  {
   "cell_type": "code",
   "execution_count": null,
   "metadata": {
    "collapsed": true
   },
   "outputs": [],
   "source": []
  }
 ],
 "metadata": {
  "kernelspec": {
   "display_name": "Python 2",
   "language": "python",
   "name": "python2"
  },
  "language_info": {
   "codemirror_mode": {
    "name": "ipython",
    "version": 2
   },
   "file_extension": ".py",
   "mimetype": "text/x-python",
   "name": "python",
   "nbconvert_exporter": "python",
   "pygments_lexer": "ipython2",
   "version": "2.7.11+"
  }
 },
 "nbformat": 4,
 "nbformat_minor": 1
}
