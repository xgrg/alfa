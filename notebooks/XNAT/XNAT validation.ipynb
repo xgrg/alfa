{
 "cells": [
  {
   "cell_type": "code",
   "execution_count": 1,
   "metadata": {
    "collapsed": false
   },
   "outputs": [],
   "source": [
    "from pyxnat import Interface\n",
    "config_file = '/home/grg/.xnat_bsc.cfg'\n",
    "central = Interface(config=config_file)\n",
    "projects = central.select.projects().get()"
   ]
  },
  {
   "cell_type": "code",
   "execution_count": 21,
   "metadata": {
    "collapsed": false
   },
   "outputs": [
    {
     "ename": "KeyError",
     "evalue": "'AccessionNumber'",
     "output_type": "error",
     "traceback": [
      "\u001b[0;31m---------------------------------------------------------------------------\u001b[0m",
      "\u001b[0;31mKeyError\u001b[0m                                  Traceback (most recent call last)",
      "\u001b[0;32m<ipython-input-21-6ee41ae4f7cf>\u001b[0m in \u001b[0;36m<module>\u001b[0;34m()\u001b[0m\n\u001b[1;32m      4\u001b[0m \u001b[0mf1\u001b[0m \u001b[0;34m=\u001b[0m \u001b[0mpd\u001b[0m\u001b[0;34m.\u001b[0m\u001b[0mread_excel\u001b[0m\u001b[0;34m(\u001b[0m\u001b[0mf1\u001b[0m\u001b[0;34m)\u001b[0m\u001b[0;34m\u001b[0m\u001b[0m\n\u001b[1;32m      5\u001b[0m \u001b[0mf2\u001b[0m \u001b[0;34m=\u001b[0m \u001b[0mpd\u001b[0m\u001b[0;34m.\u001b[0m\u001b[0mread_excel\u001b[0m\u001b[0;34m(\u001b[0m\u001b[0mf2\u001b[0m\u001b[0;34m)\u001b[0m\u001b[0;34m\u001b[0m\u001b[0m\n\u001b[0;32m----> 6\u001b[0;31m \u001b[0md\u001b[0m \u001b[0;34m=\u001b[0m \u001b[0mset\u001b[0m\u001b[0;34m(\u001b[0m\u001b[0mf1\u001b[0m\u001b[0;34m[\u001b[0m\u001b[0;34m'AccessionNumber'\u001b[0m\u001b[0;34m]\u001b[0m\u001b[0;34m.\u001b[0m\u001b[0mtolist\u001b[0m\u001b[0;34m(\u001b[0m\u001b[0;34m)\u001b[0m\u001b[0;34m)\u001b[0m\u001b[0;34m.\u001b[0m\u001b[0mdifference\u001b[0m\u001b[0;34m(\u001b[0m\u001b[0mset\u001b[0m\u001b[0;34m(\u001b[0m\u001b[0mf2\u001b[0m\u001b[0;34m[\u001b[0m\u001b[0;34m'AccessionNumber'\u001b[0m\u001b[0;34m]\u001b[0m\u001b[0;34m.\u001b[0m\u001b[0mtolist\u001b[0m\u001b[0;34m(\u001b[0m\u001b[0;34m)\u001b[0m\u001b[0;34m)\u001b[0m\u001b[0;34m)\u001b[0m\u001b[0;34m\u001b[0m\u001b[0m\n\u001b[0m",
      "\u001b[0;32m/home/grg/jupyter/local/lib/python2.7/site-packages/pandas/core/frame.pyc\u001b[0m in \u001b[0;36m__getitem__\u001b[0;34m(self, key)\u001b[0m\n\u001b[1;32m   1995\u001b[0m             \u001b[0;32mreturn\u001b[0m \u001b[0mself\u001b[0m\u001b[0;34m.\u001b[0m\u001b[0m_getitem_multilevel\u001b[0m\u001b[0;34m(\u001b[0m\u001b[0mkey\u001b[0m\u001b[0;34m)\u001b[0m\u001b[0;34m\u001b[0m\u001b[0m\n\u001b[1;32m   1996\u001b[0m         \u001b[0;32melse\u001b[0m\u001b[0;34m:\u001b[0m\u001b[0;34m\u001b[0m\u001b[0m\n\u001b[0;32m-> 1997\u001b[0;31m             \u001b[0;32mreturn\u001b[0m \u001b[0mself\u001b[0m\u001b[0;34m.\u001b[0m\u001b[0m_getitem_column\u001b[0m\u001b[0;34m(\u001b[0m\u001b[0mkey\u001b[0m\u001b[0;34m)\u001b[0m\u001b[0;34m\u001b[0m\u001b[0m\n\u001b[0m\u001b[1;32m   1998\u001b[0m \u001b[0;34m\u001b[0m\u001b[0m\n\u001b[1;32m   1999\u001b[0m     \u001b[0;32mdef\u001b[0m \u001b[0m_getitem_column\u001b[0m\u001b[0;34m(\u001b[0m\u001b[0mself\u001b[0m\u001b[0;34m,\u001b[0m \u001b[0mkey\u001b[0m\u001b[0;34m)\u001b[0m\u001b[0;34m:\u001b[0m\u001b[0;34m\u001b[0m\u001b[0m\n",
      "\u001b[0;32m/home/grg/jupyter/local/lib/python2.7/site-packages/pandas/core/frame.pyc\u001b[0m in \u001b[0;36m_getitem_column\u001b[0;34m(self, key)\u001b[0m\n\u001b[1;32m   2002\u001b[0m         \u001b[0;31m# get column\u001b[0m\u001b[0;34m\u001b[0m\u001b[0;34m\u001b[0m\u001b[0m\n\u001b[1;32m   2003\u001b[0m         \u001b[0;32mif\u001b[0m \u001b[0mself\u001b[0m\u001b[0;34m.\u001b[0m\u001b[0mcolumns\u001b[0m\u001b[0;34m.\u001b[0m\u001b[0mis_unique\u001b[0m\u001b[0;34m:\u001b[0m\u001b[0;34m\u001b[0m\u001b[0m\n\u001b[0;32m-> 2004\u001b[0;31m             \u001b[0;32mreturn\u001b[0m \u001b[0mself\u001b[0m\u001b[0;34m.\u001b[0m\u001b[0m_get_item_cache\u001b[0m\u001b[0;34m(\u001b[0m\u001b[0mkey\u001b[0m\u001b[0;34m)\u001b[0m\u001b[0;34m\u001b[0m\u001b[0m\n\u001b[0m\u001b[1;32m   2005\u001b[0m \u001b[0;34m\u001b[0m\u001b[0m\n\u001b[1;32m   2006\u001b[0m         \u001b[0;31m# duplicate columns & possible reduce dimensionality\u001b[0m\u001b[0;34m\u001b[0m\u001b[0;34m\u001b[0m\u001b[0m\n",
      "\u001b[0;32m/home/grg/jupyter/local/lib/python2.7/site-packages/pandas/core/generic.pyc\u001b[0m in \u001b[0;36m_get_item_cache\u001b[0;34m(self, item)\u001b[0m\n\u001b[1;32m   1348\u001b[0m         \u001b[0mres\u001b[0m \u001b[0;34m=\u001b[0m \u001b[0mcache\u001b[0m\u001b[0;34m.\u001b[0m\u001b[0mget\u001b[0m\u001b[0;34m(\u001b[0m\u001b[0mitem\u001b[0m\u001b[0;34m)\u001b[0m\u001b[0;34m\u001b[0m\u001b[0m\n\u001b[1;32m   1349\u001b[0m         \u001b[0;32mif\u001b[0m \u001b[0mres\u001b[0m \u001b[0;32mis\u001b[0m \u001b[0mNone\u001b[0m\u001b[0;34m:\u001b[0m\u001b[0;34m\u001b[0m\u001b[0m\n\u001b[0;32m-> 1350\u001b[0;31m             \u001b[0mvalues\u001b[0m \u001b[0;34m=\u001b[0m \u001b[0mself\u001b[0m\u001b[0;34m.\u001b[0m\u001b[0m_data\u001b[0m\u001b[0;34m.\u001b[0m\u001b[0mget\u001b[0m\u001b[0;34m(\u001b[0m\u001b[0mitem\u001b[0m\u001b[0;34m)\u001b[0m\u001b[0;34m\u001b[0m\u001b[0m\n\u001b[0m\u001b[1;32m   1351\u001b[0m             \u001b[0mres\u001b[0m \u001b[0;34m=\u001b[0m \u001b[0mself\u001b[0m\u001b[0;34m.\u001b[0m\u001b[0m_box_item_values\u001b[0m\u001b[0;34m(\u001b[0m\u001b[0mitem\u001b[0m\u001b[0;34m,\u001b[0m \u001b[0mvalues\u001b[0m\u001b[0;34m)\u001b[0m\u001b[0;34m\u001b[0m\u001b[0m\n\u001b[1;32m   1352\u001b[0m             \u001b[0mcache\u001b[0m\u001b[0;34m[\u001b[0m\u001b[0mitem\u001b[0m\u001b[0;34m]\u001b[0m \u001b[0;34m=\u001b[0m \u001b[0mres\u001b[0m\u001b[0;34m\u001b[0m\u001b[0m\n",
      "\u001b[0;32m/home/grg/jupyter/local/lib/python2.7/site-packages/pandas/core/internals.pyc\u001b[0m in \u001b[0;36mget\u001b[0;34m(self, item, fastpath)\u001b[0m\n\u001b[1;32m   3288\u001b[0m \u001b[0;34m\u001b[0m\u001b[0m\n\u001b[1;32m   3289\u001b[0m             \u001b[0;32mif\u001b[0m \u001b[0;32mnot\u001b[0m \u001b[0misnull\u001b[0m\u001b[0;34m(\u001b[0m\u001b[0mitem\u001b[0m\u001b[0;34m)\u001b[0m\u001b[0;34m:\u001b[0m\u001b[0;34m\u001b[0m\u001b[0m\n\u001b[0;32m-> 3290\u001b[0;31m                 \u001b[0mloc\u001b[0m \u001b[0;34m=\u001b[0m \u001b[0mself\u001b[0m\u001b[0;34m.\u001b[0m\u001b[0mitems\u001b[0m\u001b[0;34m.\u001b[0m\u001b[0mget_loc\u001b[0m\u001b[0;34m(\u001b[0m\u001b[0mitem\u001b[0m\u001b[0;34m)\u001b[0m\u001b[0;34m\u001b[0m\u001b[0m\n\u001b[0m\u001b[1;32m   3291\u001b[0m             \u001b[0;32melse\u001b[0m\u001b[0;34m:\u001b[0m\u001b[0;34m\u001b[0m\u001b[0m\n\u001b[1;32m   3292\u001b[0m                 \u001b[0mindexer\u001b[0m \u001b[0;34m=\u001b[0m \u001b[0mnp\u001b[0m\u001b[0;34m.\u001b[0m\u001b[0marange\u001b[0m\u001b[0;34m(\u001b[0m\u001b[0mlen\u001b[0m\u001b[0;34m(\u001b[0m\u001b[0mself\u001b[0m\u001b[0;34m.\u001b[0m\u001b[0mitems\u001b[0m\u001b[0;34m)\u001b[0m\u001b[0;34m)\u001b[0m\u001b[0;34m[\u001b[0m\u001b[0misnull\u001b[0m\u001b[0;34m(\u001b[0m\u001b[0mself\u001b[0m\u001b[0;34m.\u001b[0m\u001b[0mitems\u001b[0m\u001b[0;34m)\u001b[0m\u001b[0;34m]\u001b[0m\u001b[0;34m\u001b[0m\u001b[0m\n",
      "\u001b[0;32m/home/grg/jupyter/local/lib/python2.7/site-packages/pandas/indexes/base.pyc\u001b[0m in \u001b[0;36mget_loc\u001b[0;34m(self, key, method, tolerance)\u001b[0m\n\u001b[1;32m   1945\u001b[0m                 \u001b[0;32mreturn\u001b[0m \u001b[0mself\u001b[0m\u001b[0;34m.\u001b[0m\u001b[0m_engine\u001b[0m\u001b[0;34m.\u001b[0m\u001b[0mget_loc\u001b[0m\u001b[0;34m(\u001b[0m\u001b[0mkey\u001b[0m\u001b[0;34m)\u001b[0m\u001b[0;34m\u001b[0m\u001b[0m\n\u001b[1;32m   1946\u001b[0m             \u001b[0;32mexcept\u001b[0m \u001b[0mKeyError\u001b[0m\u001b[0;34m:\u001b[0m\u001b[0;34m\u001b[0m\u001b[0m\n\u001b[0;32m-> 1947\u001b[0;31m                 \u001b[0;32mreturn\u001b[0m \u001b[0mself\u001b[0m\u001b[0;34m.\u001b[0m\u001b[0m_engine\u001b[0m\u001b[0;34m.\u001b[0m\u001b[0mget_loc\u001b[0m\u001b[0;34m(\u001b[0m\u001b[0mself\u001b[0m\u001b[0;34m.\u001b[0m\u001b[0m_maybe_cast_indexer\u001b[0m\u001b[0;34m(\u001b[0m\u001b[0mkey\u001b[0m\u001b[0;34m)\u001b[0m\u001b[0;34m)\u001b[0m\u001b[0;34m\u001b[0m\u001b[0m\n\u001b[0m\u001b[1;32m   1948\u001b[0m \u001b[0;34m\u001b[0m\u001b[0m\n\u001b[1;32m   1949\u001b[0m         \u001b[0mindexer\u001b[0m \u001b[0;34m=\u001b[0m \u001b[0mself\u001b[0m\u001b[0;34m.\u001b[0m\u001b[0mget_indexer\u001b[0m\u001b[0;34m(\u001b[0m\u001b[0;34m[\u001b[0m\u001b[0mkey\u001b[0m\u001b[0;34m]\u001b[0m\u001b[0;34m,\u001b[0m \u001b[0mmethod\u001b[0m\u001b[0;34m=\u001b[0m\u001b[0mmethod\u001b[0m\u001b[0;34m,\u001b[0m \u001b[0mtolerance\u001b[0m\u001b[0;34m=\u001b[0m\u001b[0mtolerance\u001b[0m\u001b[0;34m)\u001b[0m\u001b[0;34m\u001b[0m\u001b[0m\n",
      "\u001b[0;32mpandas/index.pyx\u001b[0m in \u001b[0;36mpandas.index.IndexEngine.get_loc (pandas/index.c:4154)\u001b[0;34m()\u001b[0m\n",
      "\u001b[0;32mpandas/index.pyx\u001b[0m in \u001b[0;36mpandas.index.IndexEngine.get_loc (pandas/index.c:4018)\u001b[0;34m()\u001b[0m\n",
      "\u001b[0;32mpandas/hashtable.pyx\u001b[0m in \u001b[0;36mpandas.hashtable.PyObjectHashTable.get_item (pandas/hashtable.c:12368)\u001b[0;34m()\u001b[0m\n",
      "\u001b[0;32mpandas/hashtable.pyx\u001b[0m in \u001b[0;36mpandas.hashtable.PyObjectHashTable.get_item (pandas/hashtable.c:12322)\u001b[0;34m()\u001b[0m\n",
      "\u001b[0;31mKeyError\u001b[0m: 'AccessionNumber'"
     ]
    }
   ],
   "source": [
    "f1 = '/home/grg/xnat/listado_XNAT_20170726.xls'\n",
    "f2 = '/home/grg/xnat/listado_XNAT_20170724.xls'\n",
    "import pandas as pd\n",
    "f1 = pd.read_excel(f1)\n",
    "f2 = pd.read_excel(f2)\n",
    "d = set(f1['AccessionNumber'].tolist()).difference(set(f2['AccessionNumber'].tolist()))"
   ]
  },
  {
   "cell_type": "code",
   "execution_count": 2,
   "metadata": {
    "collapsed": false
   },
   "outputs": [
    {
     "data": {
      "text/plain": [
       "<module 'validate_xnat' from 'validate_xnat.pyc'>"
      ]
     },
     "execution_count": 2,
     "metadata": {},
     "output_type": "execute_result"
    }
   ],
   "source": [
    "import os\n",
    "os.chdir('/home/grg/git/slack-integrations/')\n",
    "from pyxnat import Interface\n",
    "config_file = '/home/grg/.xnat_bsc.cfg'\n",
    "import validate_xnat as vx\n",
    "reload(vx)"
   ]
  },
  {
   "cell_type": "code",
   "execution_count": 4,
   "metadata": {
    "collapsed": false
   },
   "outputs": [
    {
     "name": "stdout",
     "output_type": "stream",
     "text": [
      "BBRC_E02179\n",
      "project ALFA_PLUS2 detected\n",
      "['SmartBrain SENSE', 'SmartBrain SENSE', 'VSmartBrain SENSE', 'Patient Aligned MPR AWPLAN_SMARTPLAN_TYPE_BRAIN', 'B1_calibration', 'B1_calibration', 'sT1W_3D_TFE_HR_32 iso1.2 long AT', 'VWIP sT1W_3D_TFE_HR_32 iso1.2 long AT SENSE', 'VWIP sT1W_3D_axial', 'VWIP sT1W_3D_coronal', 'SV_PRESS_100_Myo_CHESS_Hipo', 'SV_PRESS_100_Myo_CHESS_Cun', 'SV_PRESS_100_Myo_CHESS_Ang', 'M0_ASL', 'pCASL', 'sWIP pCASL SENSE', 'M2DI', 'M2DI', 'VM2DI CLEAR', 'VM2DI CLEAR', 'QFLOW_CAROTID', 'QFLOW_CSF', 'WIP muti-b bajo max', 'WIP muti-b medio max', 'WIP muti-b altos max', 'SWIp SENSE', 'DelRec - SWIp SENSE'] {'VWIP sT1W_3D_coronal': 'VWIP sT1W_3D_coronal', 'VSmartBrain SENSE': 'VSmartBrain SENSE', 'B1_calibration': 'B1_calibration', 'SmartBrain SENSE': 'SmartBrain SENSE', 'sT1W_3D_TFE_HR_32 iso1.2 long AT': 'sT1W_3D_TFE_HR_32 iso1.2 long AT', 'VWIP sT1W_3D_axial': 'VWIP sT1W_3D_axial', 'M0_ASL': 'M0_ASL', 'M2DI': 'M2DI', 'QFLOW_CSF': 'QFLOW_CSF', 'WIP muti-b medio max': 'WIP muti-b medio max', 'Patient Aligned MPR AWPLAN_SMARTPLAN_TYPE_BRAIN': 'Patient Aligned MPR AWPLAN_SMARTPLAN_TYPE_BRAIN', 'SV_PRESS_100_Myo_CHESS_Ang': 'SV_PRESS_100_Myo_CHESS_Ang', 'WIP muti-b altos max': 'WIP muti-b altos max', 'VM2DI CLEAR': 'VM2DI CLEAR', 'WIP muti-b bajo max': 'WIP muti-b  bajo max', 'SV_PRESS_100_Myo_CHESS_Hipo': 'SV_PRESS_100_Myo_CHESS_Hipo', 'SV_PRESS_100_Myo_CHESS_Cun': 'SV_PRESS_100_Myo_CHESS_Cun', 'SWIp SENSE': 'SWIp SENSE', 'DelRec - SWIp SENSE': 'DelRec - SWIp SENSE', 'sWIP pCASL SENSE': 'sWIP pCASL SENSE', 'pCASL': 'pCASL', 'QFLOW_CAROTID': 'QFLOW_CAROTID', 'VWIP sT1W_3D_TFE_HR_32 iso1.2 long AT SENSE': 'VWIP sT1W_3D_TFE_HR_32 iso1.2 long AT SENSE'}\n",
      "['goperto@fpmaragall.org', 'goperto@fpmaragall.org']\n"
     ]
    }
   ],
   "source": [
    "vx.build_mail('040510170717649', send_mail=True)"
   ]
  },
  {
   "cell_type": "code",
   "execution_count": 52,
   "metadata": {
    "collapsed": false
   },
   "outputs": [
    {
     "data": {
      "text/plain": [
       "{'ID': 'BBRC_E02169',\n",
       " 'UID': '1.2.840.113564.99.1.22002785184286.514.201772093745330.34.2',\n",
       " 'label': '040566270717239',\n",
       " 'project': 'ALFA_PLUS2',\n",
       " 'session_type': 'ALFA+2',\n",
       " '{http://www.w3.org/2001/XMLSchema-instance}schemaLocation': 'http://nrg.wustl.edu/workflow http://bscmaragall01.bsc.es:8080/schemas/workflow.xsd http://nrg.wustl.edu/catalog http://bscmaragall01.bsc.es:8080/schemas/catalog.xsd http://nrg.wustl.edu/pipe http://bscmaragall01.bsc.es:8080/schemas/repository.xsd http://nrg.wustl.edu/scr http://bscmaragall01.bsc.es:8080/schemas/screeningAssessment.xsd http://nrg.wustl.edu/arc http://bscmaragall01.bsc.es:8080/schemas/project.xsd http://nrg.wustl.edu/val http://bscmaragall01.bsc.es:8080/schemas/protocolValidation.xsd http://nrg.wustl.edu/xnat http://bscmaragall01.bsc.es:8080/schemas/xnat.xsd http://nrg.wustl.edu/xnat_assessments http://bscmaragall01.bsc.es:8080/schemas/assessments.xsd http://www.nbirn.net/prov http://bscmaragall01.bsc.es:8080/schemas/birnprov.xsd http://nrg.wustl.edu/security http://bscmaragall01.bsc.es:8080/schemas/security.xsd'}"
      ]
     },
     "execution_count": 52,
     "metadata": {},
     "output_type": "execute_result"
    }
   ],
   "source": [
    "e = central.select.experiment('040566270717239')\n",
    "e.id()\n",
    "xml = central._exec(central.select.experiment(str(e.id()))._uri +\n",
    "    '?format=xml');\n",
    "root = etree.ElementTree.XML(xml)\n",
    "NS=\"{http://nrg.wustl.edu/xnat}\"\n",
    "root.attrib"
   ]
  },
  {
   "cell_type": "code",
   "execution_count": 47,
   "metadata": {
    "collapsed": false
   },
   "outputs": [
    {
     "data": {
      "text/plain": [
       "'<?xml version=\"1.0\" encoding=\"UTF-8\" standalone=\"yes\"?>\\n<xnat:MRSession ID=\"BBRC_E02169\" project=\"ALFA_PLUS2\" label=\"040566270717239\" session_type=\"ALFA+2\" UID=\"1.2.840.113564.99.1.22002785184286.514.201772093745330.34.2\" xmlns:arc=\"http://nrg.wustl.edu/arc\" xmlns:val=\"http://nrg.wustl.edu/val\" xmlns:pipe=\"http://nrg.wustl.edu/pipe\" xmlns:wrk=\"http://nrg.wustl.edu/workflow\" xmlns:scr=\"http://nrg.wustl.edu/scr\" xmlns:xdat=\"http://nrg.wustl.edu/security\" xmlns:cat=\"http://nrg.wustl.edu/catalog\" xmlns:prov=\"http://www.nbirn.net/prov\" xmlns:xnat=\"http://nrg.wustl.edu/xnat\" xmlns:xnat_a=\"http://nrg.wustl.edu/xnat_assessments\" xmlns:xsi=\"http://www.w3.org/2001/XMLSchema-instance\" xsi:schemaLocation=\"http://nrg.wustl.edu/workflow http://bscmaragall01.bsc.es:8080/schemas/workflow.xsd http://nrg.wustl.edu/catalog http://bscmaragall01.bsc.es:8080/schemas/catalog.xsd http://nrg.wustl.edu/pipe http://bscmaragall01.bsc.es:8080/schemas/repository.xsd http://nrg.wustl.edu/scr http://bscmaragall01.bsc.es:8080/schemas/screeningAssessment.xsd http://nrg.wustl.edu/arc http://bscmaragall01.bsc.es:8080/schemas/project.xsd http://nrg.wustl.edu/val http://bscmaragall01.bsc.es:8080/schemas/protocolValidation.xsd http://nrg.wustl.edu/xnat http://bscmaragall01.bsc.es:8080/schemas/xnat.xsd http://nrg.wustl.edu/xnat_assessments http://bscmaragall01.bsc.es:8080/schemas/assessments.xsd http://www.nbirn.net/prov http://bscmaragall01.bsc.es:8080/schemas/birnprov.xsd http://nrg.wustl.edu/security http://bscmaragall01.bsc.es:8080/schemas/security.xsd\">\\n<xnat:date>2017-07-27</xnat:date>\\n<xnat:time>12:23:36</xnat:time>\\n<xnat:acquisition_site>FUNDACIO PASQUAL MARAGALL</xnat:acquisition_site>\\n<xnat:subject_ID>BBRC_S01755</xnat:subject_ID>\\n<xnat:scanner manufacturer=\"Philips Medical Systems\" model=\"Ingenia CX\">PHILIPS-V4HKJ2I</xnat:scanner>\\n<xnat:prearchivePath>/data/xnat/prearchive/ALFA_PLUS2/20170731_155138229/040566270717239</xnat:prearchivePath>\\n<xnat:scans>\\n<xnat:scan ID=\"0-OT1\" type=\"QFLOW_CAROTID\" UID=\"1.3.46.670589.11.0.0.51.4.51.0.78036.1.11284.1501161258204\" xsi:type=\"xnat:otherDicomScanData\">\\n<!--hidden_fields[xnat_imageScanData_id=\"26923\"]-->\\n<xnat:image_session_ID>BBRC_E02169</xnat:image_session_ID>\\n<xnat:quality>usable</xnat:quality>\\n<xnat:series_description>QFLOW_CAROTID</xnat:series_description>\\n<xnat:scanner manufacturer=\"Philips Medical Systems\" model=\"Ingenia CX\">PHILIPS-V4HKJ2I</xnat:scanner>\\n<xnat:frames>0</xnat:frames>\\n<xnat:file label=\"secondary\" file_count=\"2\" file_size=\"70278\" URI=\"/data/xnat/archive/ALFA_PLUS2/arc001/040566270717239/SCANS/0/DICOM/scan_0-OT1_secondary_catalog.xml\" format=\"DICOM\" content=\"secondary\" xsi:type=\"xnat:resourceCatalog\">\\n<!--hidden_fields[xnat_abstractResource_id=\"56664\",xnat_imageScanData_xnat_imagescandata_id=\"26923\"]-->\\n</xnat:file>\\n<xnat:startTime>13:07:41</xnat:startTime>\\n</xnat:scan>\\n<xnat:scan ID=\"0-OT2\" type=\"QFLOW_CSF\" UID=\"1.3.46.670589.11.0.0.51.4.51.0.78036.1.11284.1501161419450.2\" xsi:type=\"xnat:otherDicomScanData\">\\n<!--hidden_fields[xnat_imageScanData_id=\"26924\"]-->\\n<xnat:image_session_ID>BBRC_E02169</xnat:image_session_ID>\\n<xnat:quality>usable</xnat:quality>\\n<xnat:series_description>QFLOW_CSF</xnat:series_description>\\n<xnat:scanner manufacturer=\"Philips Medical Systems\" model=\"Ingenia CX\">PHILIPS-V4HKJ2I</xnat:scanner>\\n<xnat:frames>0</xnat:frames>\\n<xnat:file label=\"secondary\" file_count=\"2\" file_size=\"70220\" URI=\"/data/xnat/archive/ALFA_PLUS2/arc001/040566270717239/SCANS/0/DICOM/scan_0-OT2_secondary_catalog.xml\" format=\"DICOM\" content=\"secondary\" xsi:type=\"xnat:resourceCatalog\">\\n<!--hidden_fields[xnat_abstractResource_id=\"56665\",xnat_imageScanData_xnat_imagescandata_id=\"26924\"]-->\\n</xnat:file>\\n<xnat:startTime>13:11:43</xnat:startTime>\\n</xnat:scan>\\n<xnat:scan ID=\"0-OT3\" type=\"sT1W_3D_TFE_HR_32 iso1.2 long AT\" UID=\"1.3.46.670589.11.0.0.51.4.51.0.78036.1.11284.1501161419747.2\" xsi:type=\"xnat:otherDicomScanData\">\\n<!--hidden_fields[xnat_imageScanData_id=\"26925\"]-->\\n<xnat:image_session_ID>BBRC_E02169</xnat:image_session_ID>\\n<xnat:quality>usable</xnat:quality>\\n<xnat:series_description>sT1W_3D_TFE_HR_32 iso1.2 long AT</xnat:series_description>\\n<xnat:scanner manufacturer=\"Philips Medical Systems\" model=\"Ingenia CX\">PHILIPS-V4HKJ2I</xnat:scanner>\\n<xnat:frames>0</xnat:frames>\\n<xnat:file label=\"secondary\" file_count=\"1\" file_size=\"120938\" URI=\"/data/xnat/archive/ALFA_PLUS2/arc001/040566270717239/SCANS/0/DICOM/scan_0-OT3_secondary_catalog.xml\" format=\"DICOM\" content=\"secondary\" xsi:type=\"xnat:resourceCatalog\">\\n<!--hidden_fields[xnat_abstractResource_id=\"56666\",xnat_imageScanData_xnat_imagescandata_id=\"26925\"]-->\\n</xnat:file>\\n<xnat:startTime>12:35:43</xnat:startTime>\\n</xnat:scan>\\n<xnat:scan ID=\"0-OT4\" type=\"WIP muti-b medio max\" UID=\"1.3.46.670589.11.0.0.51.4.51.0.78036.1.11284.1501161918880\" xsi:type=\"xnat:otherDicomScanData\">\\n<!--hidden_fields[xnat_imageScanData_id=\"26926\"]-->\\n<xnat:image_session_ID>BBRC_E02169</xnat:image_session_ID>\\n<xnat:quality>usable</xnat:quality>\\n<xnat:series_description>WIP muti-b medio max</xnat:series_description>\\n<xnat:scanner manufacturer=\"Philips Medical Systems\" model=\"Ingenia CX\">PHILIPS-V4HKJ2I</xnat:scanner>\\n<xnat:frames>0</xnat:frames>\\n<xnat:file label=\"secondary\" file_count=\"1\" file_size=\"131312\" URI=\"/data/xnat/archive/ALFA_PLUS2/arc001/040566270717239/SCANS/0/DICOM/scan_0-OT4_secondary_catalog.xml\" format=\"DICOM\" content=\"secondary\" xsi:type=\"xnat:resourceCatalog\">\\n<!--hidden_fields[xnat_abstractResource_id=\"56667\",xnat_imageScanData_xnat_imagescandata_id=\"26926\"]-->\\n</xnat:file>\\n<xnat:startTime>13:17:00</xnat:startTime>\\n</xnat:scan>\\n<xnat:scan ID=\"0-OT5\" type=\"WIP muti-b altos max\" UID=\"1.3.46.670589.11.0.0.51.4.51.0.78036.1.11284.1501161924964.2\" xsi:type=\"xnat:otherDicomScanData\">\\n<!--hidden_fields[xnat_imageScanData_id=\"26927\"]-->\\n<xnat:image_session_ID>BBRC_E02169</xnat:image_session_ID>\\n<xnat:quality>usable</xnat:quality>\\n<xnat:series_description>WIP muti-b altos max</xnat:series_description>\\n<xnat:scanner manufacturer=\"Philips Medical Systems\" model=\"Ingenia CX\">PHILIPS-V4HKJ2I</xnat:scanner>\\n<xnat:frames>0</xnat:frames>\\n<xnat:file label=\"secondary\" file_count=\"1\" file_size=\"98486\" URI=\"/data/xnat/archive/ALFA_PLUS2/arc001/040566270717239/SCANS/0/DICOM/scan_0-OT5_secondary_catalog.xml\" format=\"DICOM\" content=\"secondary\" xsi:type=\"xnat:resourceCatalog\">\\n<!--hidden_fields[xnat_abstractResource_id=\"56668\",xnat_imageScanData_xnat_imagescandata_id=\"26927\"]-->\\n</xnat:file>\\n<xnat:startTime>13:18:31</xnat:startTime>\\n</xnat:scan>\\n<xnat:scan ID=\"0-OT6\" type=\"SWIp SENSE\" UID=\"1.3.46.670589.11.0.0.51.4.51.0.78036.1.11284.1501162110068\" xsi:type=\"xnat:otherDicomScanData\">\\n<!--hidden_fields[xnat_imageScanData_id=\"26928\"]-->\\n<xnat:image_session_ID>BBRC_E02169</xnat:image_session_ID>\\n<xnat:quality>usable</xnat:quality>\\n<xnat:series_description>SWIp SENSE</xnat:series_description>\\n<xnat:scanner manufacturer=\"Philips Medical Systems\" model=\"Ingenia CX\">PHILIPS-V4HKJ2I</xnat:scanner>\\n<xnat:frames>0</xnat:frames>\\n<xnat:file label=\"secondary\" file_count=\"2\" file_size=\"195412\" URI=\"/data/xnat/archive/ALFA_PLUS2/arc001/040566270717239/SCANS/0/DICOM/scan_0-OT6_secondary_catalog.xml\" format=\"DICOM\" content=\"secondary\" xsi:type=\"xnat:resourceCatalog\">\\n<!--hidden_fields[xnat_abstractResource_id=\"56669\",xnat_imageScanData_xnat_imagescandata_id=\"26928\"]-->\\n</xnat:file>\\n<xnat:startTime>13:21:03</xnat:startTime>\\n</xnat:scan>\\n<xnat:scan ID=\"0-OT7\" type=\"WIP muti-b  bajo max\" UID=\"1.3.46.670589.11.0.0.51.4.51.0.78036.1.11284.1501162111597\" xsi:type=\"xnat:otherDicomScanData\">\\n<!--hidden_fields[xnat_imageScanData_id=\"26929\"]-->\\n<xnat:image_session_ID>BBRC_E02169</xnat:image_session_ID>\\n<xnat:quality>usable</xnat:quality>\\n<xnat:series_description>WIP muti-b  bajo max</xnat:series_description>\\n<xnat:scanner manufacturer=\"Philips Medical Systems\" model=\"Ingenia CX\">PHILIPS-V4HKJ2I</xnat:scanner>\\n<xnat:frames>0</xnat:frames>\\n<xnat:file label=\"secondary\" file_count=\"1\" file_size=\"62128\" URI=\"/data/xnat/archive/ALFA_PLUS2/arc001/040566270717239/SCANS/0/DICOM/scan_0-OT7_secondary_catalog.xml\" format=\"DICOM\" content=\"secondary\" xsi:type=\"xnat:resourceCatalog\">\\n<!--hidden_fields[xnat_abstractResource_id=\"56670\",xnat_imageScanData_xnat_imagescandata_id=\"26929\"]-->\\n</xnat:file>\\n<xnat:startTime>13:16:16</xnat:startTime>\\n</xnat:scan>\\n<xnat:scan ID=\"0-MR1\" type=\"unknown\" UID=\"1.3.46.670589.11.78036.5.0.12808.2017072712235165000\" xsi:type=\"xnat:otherDicomScanData\">\\n<!--hidden_fields[xnat_imageScanData_id=\"26930\"]-->\\n<xnat:image_session_ID>BBRC_E02169</xnat:image_session_ID>\\n<xnat:quality>usable</xnat:quality>\\n<xnat:scanner manufacturer=\"Philips Medical Systems\" model=\"Ingenia CX\">PHILIPS-V4HKJ2I</xnat:scanner>\\n<xnat:frames>0</xnat:frames>\\n<xnat:file label=\"secondary\" file_count=\"1\" file_size=\"4197896\" URI=\"/data/xnat/archive/ALFA_PLUS2/arc001/040566270717239/SCANS/0/DICOM/scan_0-MR1_secondary_catalog.xml\" format=\"DICOM\" content=\"secondary\" xsi:type=\"xnat:resourceCatalog\">\\n<!--hidden_fields[xnat_abstractResource_id=\"56671\",xnat_imageScanData_xnat_imagescandata_id=\"26930\"]-->\\n</xnat:file>\\n<xnat:startTime>12:23:51</xnat:startTime>\\n</xnat:scan>\\n<xnat:scan ID=\"101\" type=\"SmartBrain SENSE\" UID=\"1.3.46.670589.11.78036.5.0.4228.2017072712331800122\" xsi:type=\"xnat:mrScanData\">\\n<!--hidden_fields[xnat_imageScanData_id=\"26931\"]-->\\n<xnat:image_session_ID>BBRC_E02169</xnat:image_session_ID>\\n<xnat:quality>usable</xnat:quality>\\n<xnat:series_description>SmartBrain SENSE</xnat:series_description>\\n<xnat:scanner manufacturer=\"Philips Medical Systems\" model=\"Ingenia CX\">PHILIPS-V4HKJ2I</xnat:scanner>\\n<xnat:frames>100</xnat:frames>\\n<xnat:file label=\"DICOM\" file_count=\"100\" file_size=\"21322378\" URI=\"/data/xnat/archive/ALFA_PLUS2/arc001/040566270717239/SCANS/101/DICOM/scan_101_catalog.xml\" format=\"DICOM\" content=\"RAW\" xsi:type=\"xnat:resourceCatalog\">\\n<!--hidden_fields[xnat_abstractResource_id=\"56672\",xnat_imageScanData_xnat_imagescandata_id=\"26931\"]-->\\n</xnat:file>\\n<xnat:file label=\"secondary\" file_count=\"1\" file_size=\"607962\" URI=\"/data/xnat/archive/ALFA_PLUS2/arc001/040566270717239/SCANS/101/DICOM/scan_101_secondary_catalog.xml\" format=\"DICOM\" content=\"secondary\" xsi:type=\"xnat:resourceCatalog\">\\n<!--hidden_fields[xnat_abstractResource_id=\"56673\",xnat_imageScanData_xnat_imagescandata_id=\"26931\"]-->\\n</xnat:file>\\n<xnat:file label=\"SNAPSHOTS\" file_count=\"2\" file_size=\"613335\" URI=\"/data/xnat/archive/ALFA_PLUS2/arc001/040566270717239/SCANS/101/SNAPSHOTS/101_catalog.xml\" format=\"GIF\" content=\"SNAPSHOTS\" xsi:type=\"xnat:resourceCatalog\">\\n<!--hidden_fields[xnat_abstractResource_id=\"56715\",xnat_imageScanData_xnat_imagescandata_id=\"26931\"]-->\\n</xnat:file>\\n<xnat:startTime>12:33:17</xnat:startTime>\\n<xnat:coil>MULTI COIL</xnat:coil>\\n<xnat:fieldStrength>3.0</xnat:fieldStrength>\\n<xnat:parameters>\\n<xnat:voxelRes x=\"1.09375\" y=\"1.09375\" z=\"2.2\"/>\\n<xnat:orientation>Sag</xnat:orientation>\\n<xnat:fov x=\"320\" y=\"320\"/>\\n<xnat:tr>3.13240003585815</xnat:tr>\\n<xnat:te>1.403</xnat:te>\\n<xnat:ti>0.0</xnat:ti>\\n<xnat:flip>8</xnat:flip>\\n<xnat:imageType>ORIGINAL\\\\PRIMARY\\\\M_FFE\\\\M\\\\FFE</xnat:imageType>\\n<xnat:scanSequence>GR</xnat:scanSequence>\\n<xnat:seqVariant>MP</xnat:seqVariant>\\n<xnat:scanOptions>OTHER</xnat:scanOptions>\\n<xnat:acqType>3D</xnat:acqType>\\n<xnat:pixelBandwidth>862.0</xnat:pixelBandwidth>\\n<xnat:diffusion>\\n<xnat:bValues>0.0</xnat:bValues>\\n<xnat:orientations>0.0\\\\0.0\\\\0.0</xnat:orientations>\\n</xnat:diffusion>\\n</xnat:parameters>\\n</xnat:scan>\\n<xnat:scan ID=\"102\" type=\"SmartBrain SENSE\" UID=\"1.3.46.670589.11.78036.5.0.4228.2017072712331803123\" xsi:type=\"xnat:mrScanData\">\\n<!--hidden_fields[xnat_imageScanData_id=\"26932\"]-->\\n<xnat:image_session_ID>BBRC_E02169</xnat:image_session_ID>\\n<xnat:quality>usable</xnat:quality>\\n<xnat:series_description>SmartBrain SENSE</xnat:series_description>\\n<xnat:scanner manufacturer=\"Philips Medical Systems\" model=\"Ingenia CX\">PHILIPS-V4HKJ2I</xnat:scanner>\\n<xnat:frames>2</xnat:frames>\\n<xnat:file label=\"DICOM\" file_count=\"2\" file_size=\"426880\" URI=\"/data/xnat/archive/ALFA_PLUS2/arc001/040566270717239/SCANS/102/DICOM/scan_102_catalog.xml\" format=\"DICOM\" content=\"RAW\" xsi:type=\"xnat:resourceCatalog\">\\n<!--hidden_fields[xnat_abstractResource_id=\"56674\",xnat_imageScanData_xnat_imagescandata_id=\"26932\"]-->\\n</xnat:file>\\n<xnat:file label=\"secondary\" file_count=\"1\" file_size=\"591682\" URI=\"/data/xnat/archive/ALFA_PLUS2/arc001/040566270717239/SCANS/102/DICOM/scan_102_secondary_catalog.xml\" format=\"DICOM\" content=\"secondary\" xsi:type=\"xnat:resourceCatalog\">\\n<!--hidden_fields[xnat_abstractResource_id=\"56675\",xnat_imageScanData_xnat_imagescandata_id=\"26932\"]-->\\n</xnat:file>\\n<xnat:file label=\"SNAPSHOTS\" file_count=\"2\" file_size=\"22170\" URI=\"/data/xnat/archive/ALFA_PLUS2/arc001/040566270717239/SCANS/102/SNAPSHOTS/102_catalog.xml\" format=\"GIF\" content=\"SNAPSHOTS\" xsi:type=\"xnat:resourceCatalog\">\\n<!--hidden_fields[xnat_abstractResource_id=\"56716\",xnat_imageScanData_xnat_imagescandata_id=\"26932\"]-->\\n</xnat:file>\\n<xnat:startTime>12:33:17</xnat:startTime>\\n<xnat:coil>MULTI COIL</xnat:coil>\\n<xnat:fieldStrength>3.0</xnat:fieldStrength>\\n<xnat:parameters>\\n<xnat:voxelRes x=\"1.09375\" y=\"1.09375\" z=\"1.094\"/>\\n<xnat:fov x=\"320\" y=\"320\"/>\\n<xnat:tr>3.13240003585815</xnat:tr>\\n<xnat:te>1.403</xnat:te>\\n<xnat:ti>0.0</xnat:ti>\\n<xnat:flip>8</xnat:flip>\\n<xnat:imageType>ORIGINAL\\\\PRIMARY\\\\MPR\\\\M\\\\FFE</xnat:imageType>\\n<xnat:scanSequence>GR</xnat:scanSequence>\\n<xnat:seqVariant>MP</xnat:seqVariant>\\n<xnat:scanOptions>OTHER</xnat:scanOptions>\\n<xnat:acqType>3D</xnat:acqType>\\n<xnat:pixelBandwidth>862.0</xnat:pixelBandwidth>\\n<xnat:diffusion>\\n<xnat:bValues>0.0</xnat:bValues>\\n<xnat:orientations>0.0\\\\0.0\\\\0.0</xnat:orientations>\\n</xnat:diffusion>\\n</xnat:parameters>\\n</xnat:scan>\\n<xnat:scan ID=\"103\" type=\"VSmartBrain SENSE\" UID=\"1.3.46.670589.11.78036.5.0.12924.2017072712340724000\" xsi:type=\"xnat:mrScanData\">\\n<!--hidden_fields[xnat_imageScanData_id=\"26933\"]-->\\n<xnat:image_session_ID>BBRC_E02169</xnat:image_session_ID>\\n<xnat:quality>usable</xnat:quality>\\n<xnat:series_description>VSmartBrain SENSE</xnat:series_description>\\n<xnat:scanner manufacturer=\"Philips Medical Systems\" model=\"Ingenia CX\">PHILIPS-V4HKJ2I</xnat:scanner>\\n<xnat:frames>50</xnat:frames>\\n<xnat:file label=\"DICOM\" file_count=\"50\" file_size=\"10677686\" URI=\"/data/xnat/archive/ALFA_PLUS2/arc001/040566270717239/SCANS/103/DICOM/scan_103_catalog.xml\" format=\"DICOM\" content=\"RAW\" xsi:type=\"xnat:resourceCatalog\">\\n<!--hidden_fields[xnat_abstractResource_id=\"56676\",xnat_imageScanData_xnat_imagescandata_id=\"26933\"]-->\\n</xnat:file>\\n<xnat:file label=\"SNAPSHOTS\" file_count=\"2\" file_size=\"436662\" URI=\"/data/xnat/archive/ALFA_PLUS2/arc001/040566270717239/SCANS/103/SNAPSHOTS/103_catalog.xml\" format=\"GIF\" content=\"SNAPSHOTS\" xsi:type=\"xnat:resourceCatalog\">\\n<!--hidden_fields[xnat_abstractResource_id=\"56717\",xnat_imageScanData_xnat_imagescandata_id=\"26933\"]-->\\n</xnat:file>\\n<xnat:startTime>12:34:07</xnat:startTime>\\n<xnat:coil>MULTI COIL</xnat:coil>\\n<xnat:fieldStrength>3.0</xnat:fieldStrength>\\n<xnat:parameters>\\n<xnat:voxelRes x=\"1.09375\" y=\"1.09375\" z=\"3.0\"/>\\n<xnat:orientation>Tra</xnat:orientation>\\n<xnat:fov x=\"320\" y=\"320\"/>\\n<xnat:tr>3.13240003585815</xnat:tr>\\n<xnat:te>1.403</xnat:te>\\n<xnat:flip>8</xnat:flip>\\n<xnat:imageType>ORIGINAL\\\\PRIMARY\\\\PROJECTION IMAGE\\\\M\\\\FFE</xnat:imageType>\\n<xnat:scanSequence>GR</xnat:scanSequence>\\n<xnat:seqVariant>MP</xnat:seqVariant>\\n<xnat:scanOptions>OTHER</xnat:scanOptions>\\n<xnat:acqType>3D</xnat:acqType>\\n<xnat:pixelBandwidth>862.0</xnat:pixelBandwidth>\\n<xnat:diffusion>\\n<xnat:bValues>0.0</xnat:bValues>\\n<xnat:orientations>0.0\\\\0.0\\\\0.0</xnat:orientations>\\n</xnat:diffusion>\\n</xnat:parameters>\\n</xnat:scan>\\n<xnat:scan ID=\"104\" type=\"Patient Aligned MPR AWPLAN_SMARTPLAN_TYPE_BRAIN\" UID=\"1.3.46.670589.11.78036.5.0.1548.2017072712341612000\" xsi:type=\"xnat:mrScanData\">\\n<!--hidden_fields[xnat_imageScanData_id=\"26934\"]-->\\n<xnat:image_session_ID>BBRC_E02169</xnat:image_session_ID>\\n<xnat:quality>usable</xnat:quality>\\n<xnat:series_description>Patient Aligned MPR AWPLAN_SMARTPLAN_TYPE_BRAIN</xnat:series_description>\\n<xnat:scanner manufacturer=\"Philips Medical Systems\" model=\"Ingenia CX\">PHILIPS-V4HKJ2I</xnat:scanner>\\n<xnat:frames>54</xnat:frames>\\n<xnat:file label=\"DICOM\" file_count=\"54\" file_size=\"11581512\" URI=\"/data/xnat/archive/ALFA_PLUS2/arc001/040566270717239/SCANS/104/DICOM/scan_104_catalog.xml\" format=\"DICOM\" content=\"RAW\" xsi:type=\"xnat:resourceCatalog\">\\n<!--hidden_fields[xnat_abstractResource_id=\"56677\",xnat_imageScanData_xnat_imagescandata_id=\"26934\"]-->\\n</xnat:file>\\n<xnat:file label=\"secondary\" file_count=\"1\" file_size=\"24626\" URI=\"/data/xnat/archive/ALFA_PLUS2/arc001/040566270717239/SCANS/104/DICOM/scan_104_secondary_catalog.xml\" format=\"DICOM\" content=\"secondary\" xsi:type=\"xnat:resourceCatalog\">\\n<!--hidden_fields[xnat_abstractResource_id=\"56678\",xnat_imageScanData_xnat_imagescandata_id=\"26934\"]-->\\n</xnat:file>\\n<xnat:file label=\"SNAPSHOTS\" file_count=\"2\" file_size=\"365584\" URI=\"/data/xnat/archive/ALFA_PLUS2/arc001/040566270717239/SCANS/104/SNAPSHOTS/104_catalog.xml\" format=\"GIF\" content=\"SNAPSHOTS\" xsi:type=\"xnat:resourceCatalog\">\\n<!--hidden_fields[xnat_abstractResource_id=\"56718\",xnat_imageScanData_xnat_imagescandata_id=\"26934\"]-->\\n</xnat:file>\\n<xnat:startTime>12:33:17</xnat:startTime>\\n<xnat:coil>MULTI COIL</xnat:coil>\\n<xnat:fieldStrength>3.0</xnat:fieldStrength>\\n<xnat:parameters>\\n<xnat:fov x=\"320\" y=\"320\"/>\\n<xnat:tr>3.13240003585815</xnat:tr>\\n<xnat:te>1.403</xnat:te>\\n<xnat:ti>0.0</xnat:ti>\\n<xnat:flip>8</xnat:flip>\\n<xnat:imageType>ORIGINAL\\\\PRIMARY\\\\MPR\\\\M\\\\FFE</xnat:imageType>\\n<xnat:scanSequence>GR</xnat:scanSequence>\\n<xnat:seqVariant>MP</xnat:seqVariant>\\n<xnat:scanOptions>OTHER</xnat:scanOptions>\\n<xnat:acqType>3D</xnat:acqType>\\n<xnat:pixelBandwidth>862.0</xnat:pixelBandwidth>\\n<xnat:diffusion>\\n<xnat:bValues>0.0</xnat:bValues>\\n<xnat:orientations>0.0\\\\0.0\\\\0.0</xnat:orientations>\\n</xnat:diffusion>\\n</xnat:parameters>\\n</xnat:scan>\\n<xnat:scan ID=\"201\" type=\"B1_calibration\" UID=\"1.3.46.670589.11.78036.5.0.4228.2017072712340798228\" xsi:type=\"xnat:otherDicomScanData\">\\n<!--hidden_fields[xnat_imageScanData_id=\"26935\"]-->\\n<xnat:image_session_ID>BBRC_E02169</xnat:image_session_ID>\\n<xnat:quality>usable</xnat:quality>\\n<xnat:series_description>B1_calibration</xnat:series_description>\\n<xnat:scanner manufacturer=\"Philips Medical Systems\" model=\"Ingenia CX\">PHILIPS-V4HKJ2I</xnat:scanner>\\n<xnat:frames>0</xnat:frames>\\n<xnat:file label=\"secondary\" file_count=\"1\" file_size=\"1499696\" URI=\"/data/xnat/archive/ALFA_PLUS2/arc001/040566270717239/SCANS/201/DICOM/scan_201_secondary_catalog.xml\" format=\"DICOM\" content=\"secondary\" xsi:type=\"xnat:resourceCatalog\">\\n<!--hidden_fields[xnat_abstractResource_id=\"56679\",xnat_imageScanData_xnat_imagescandata_id=\"26935\"]-->\\n</xnat:file>\\n<xnat:startTime>12:34:07</xnat:startTime>\\n</xnat:scan>\\n<xnat:scan ID=\"202\" type=\"B1_calibration\" UID=\"1.3.46.670589.11.78036.5.0.4228.2017072712340826230\" xsi:type=\"xnat:otherDicomScanData\">\\n<!--hidden_fields[xnat_imageScanData_id=\"26936\"]-->\\n<xnat:image_session_ID>BBRC_E02169</xnat:image_session_ID>\\n<xnat:quality>usable</xnat:quality>\\n<xnat:series_description>B1_calibration</xnat:series_description>\\n<xnat:scanner manufacturer=\"Philips Medical Systems\" model=\"Ingenia CX\">PHILIPS-V4HKJ2I</xnat:scanner>\\n<xnat:frames>0</xnat:frames>\\n<xnat:file label=\"secondary\" file_count=\"1\" file_size=\"1753294\" URI=\"/data/xnat/archive/ALFA_PLUS2/arc001/040566270717239/SCANS/202/DICOM/scan_202_secondary_catalog.xml\" format=\"DICOM\" content=\"secondary\" xsi:type=\"xnat:resourceCatalog\">\\n<!--hidden_fields[xnat_abstractResource_id=\"56680\",xnat_imageScanData_xnat_imagescandata_id=\"26936\"]-->\\n</xnat:file>\\n<xnat:startTime>12:34:07</xnat:startTime>\\n</xnat:scan>\\n<xnat:scan ID=\"301\" type=\"sT1W_3D_TFE_HR_32 iso1.2 long AT\" UID=\"1.3.46.670589.11.78036.5.0.4228.2017072712354309236\" xsi:type=\"xnat:mrScanData\">\\n<!--hidden_fields[xnat_imageScanData_id=\"26937\"]-->\\n<xnat:image_session_ID>BBRC_E02169</xnat:image_session_ID>\\n<xnat:quality>usable</xnat:quality>\\n<xnat:series_description>sT1W_3D_TFE_HR_32 iso1.2 long AT</xnat:series_description>\\n<xnat:scanner manufacturer=\"Philips Medical Systems\" model=\"Ingenia CX\">PHILIPS-V4HKJ2I</xnat:scanner>\\n<xnat:frames>150</xnat:frames>\\n<xnat:file label=\"DICOM\" file_count=\"150\" file_size=\"38504592\" URI=\"/data/xnat/archive/ALFA_PLUS2/arc001/040566270717239/SCANS/301/DICOM/scan_301_catalog.xml\" format=\"DICOM\" content=\"RAW\" xsi:type=\"xnat:resourceCatalog\">\\n<!--hidden_fields[xnat_abstractResource_id=\"56681\",xnat_imageScanData_xnat_imagescandata_id=\"26937\"]-->\\n</xnat:file>\\n<xnat:file label=\"secondary\" file_count=\"1\" file_size=\"591472\" URI=\"/data/xnat/archive/ALFA_PLUS2/arc001/040566270717239/SCANS/301/DICOM/scan_301_secondary_catalog.xml\" format=\"DICOM\" content=\"secondary\" xsi:type=\"xnat:resourceCatalog\">\\n<!--hidden_fields[xnat_abstractResource_id=\"56682\",xnat_imageScanData_xnat_imagescandata_id=\"26937\"]-->\\n</xnat:file>\\n<xnat:file label=\"SNAPSHOTS\" file_count=\"2\" file_size=\"1322947\" URI=\"/data/xnat/archive/ALFA_PLUS2/arc001/040566270717239/SCANS/301/SNAPSHOTS/301_catalog.xml\" format=\"GIF\" content=\"SNAPSHOTS\" xsi:type=\"xnat:resourceCatalog\">\\n<!--hidden_fields[xnat_abstractResource_id=\"56719\",xnat_imageScanData_xnat_imagescandata_id=\"26937\"]-->\\n</xnat:file>\\n<xnat:startTime>12:35:43</xnat:startTime>\\n<xnat:coil>MULTI COIL</xnat:coil>\\n<xnat:fieldStrength>3.0</xnat:fieldStrength>\\n<xnat:parameters>\\n<xnat:voxelRes x=\"0.68181818723678\" y=\"0.68181818723678\" z=\"1.2\"/>\\n<xnat:orientation>Sag</xnat:orientation>\\n<xnat:fov x=\"352\" y=\"352\"/>\\n<xnat:tr>9.80000019073486</xnat:tr>\\n<xnat:te>3.018</xnat:te>\\n<xnat:ti>0.0</xnat:ti>\\n<xnat:flip>8</xnat:flip>\\n<xnat:imageType>ORIGINAL\\\\PRIMARY\\\\M_FFE\\\\M\\\\FFE</xnat:imageType>\\n<xnat:scanSequence>GR</xnat:scanSequence>\\n<xnat:seqVariant>MP</xnat:seqVariant>\\n<xnat:scanOptions>OTHER</xnat:scanOptions>\\n<xnat:acqType>3D</xnat:acqType>\\n<xnat:pixelBandwidth>230.0</xnat:pixelBandwidth>\\n<xnat:diffusion>\\n<xnat:bValues>0.0</xnat:bValues>\\n<xnat:orientations>0.0\\\\0.0\\\\0.0</xnat:orientations>\\n</xnat:diffusion>\\n</xnat:parameters>\\n</xnat:scan>\\n<xnat:scan ID=\"302\" type=\"VWIP sT1W_3D_TFE_HR_32 iso1.2 long AT SENSE\" UID=\"1.3.46.670589.11.78036.5.0.5776.2017072712391533000\" xsi:type=\"xnat:mrScanData\">\\n<!--hidden_fields[xnat_imageScanData_id=\"26938\"]-->\\n<xnat:image_session_ID>BBRC_E02169</xnat:image_session_ID>\\n<xnat:quality>usable</xnat:quality>\\n<xnat:series_description>VWIP sT1W_3D_TFE_HR_32 iso1.2 long AT SENSE</xnat:series_description>\\n<xnat:scanner manufacturer=\"Philips Medical Systems\" model=\"Ingenia CX\">PHILIPS-V4HKJ2I</xnat:scanner>\\n<xnat:frames>150</xnat:frames>\\n<xnat:file label=\"DICOM\" file_count=\"150\" file_size=\"38494098\" URI=\"/data/xnat/archive/ALFA_PLUS2/arc001/040566270717239/SCANS/302/DICOM/scan_302_catalog.xml\" format=\"DICOM\" content=\"RAW\" xsi:type=\"xnat:resourceCatalog\">\\n<!--hidden_fields[xnat_abstractResource_id=\"56683\",xnat_imageScanData_xnat_imagescandata_id=\"26938\"]-->\\n</xnat:file>\\n<xnat:file label=\"SNAPSHOTS\" file_count=\"2\" file_size=\"1109095\" URI=\"/data/xnat/archive/ALFA_PLUS2/arc001/040566270717239/SCANS/302/SNAPSHOTS/302_catalog.xml\" format=\"GIF\" content=\"SNAPSHOTS\" xsi:type=\"xnat:resourceCatalog\">\\n<!--hidden_fields[xnat_abstractResource_id=\"56720\",xnat_imageScanData_xnat_imagescandata_id=\"26938\"]-->\\n</xnat:file>\\n<xnat:startTime>12:39:15</xnat:startTime>\\n<xnat:coil>MULTI COIL</xnat:coil>\\n<xnat:fieldStrength>3.0</xnat:fieldStrength>\\n<xnat:parameters>\\n<xnat:voxelRes x=\"0.68181818181818\" y=\"0.68181818181818\" z=\"1.2\"/>\\n<xnat:orientation>Cor</xnat:orientation>\\n<xnat:fov x=\"352\" y=\"352\"/>\\n<xnat:tr>9.80000019073486</xnat:tr>\\n<xnat:te>3.018</xnat:te>\\n<xnat:flip>8</xnat:flip>\\n<xnat:imageType>ORIGINAL\\\\PRIMARY\\\\PROJECTION IMAGE\\\\M\\\\FFE</xnat:imageType>\\n<xnat:scanSequence>GR</xnat:scanSequence>\\n<xnat:seqVariant>MP</xnat:seqVariant>\\n<xnat:scanOptions>OTHER</xnat:scanOptions>\\n<xnat:acqType>3D</xnat:acqType>\\n<xnat:pixelBandwidth>230.0</xnat:pixelBandwidth>\\n<xnat:diffusion>\\n<xnat:bValues>0.0</xnat:bValues>\\n<xnat:orientations>0.0\\\\0.0\\\\0.0</xnat:orientations>\\n</xnat:diffusion>\\n</xnat:parameters>\\n</xnat:scan>\\n<xnat:scan ID=\"303\" type=\"VWIP sT1W_3D_axial\" UID=\"1.3.46.670589.11.78036.5.0.8020.2017072712391937000\" xsi:type=\"xnat:mrScanData\">\\n<!--hidden_fields[xnat_imageScanData_id=\"26939\"]-->\\n<xnat:image_session_ID>BBRC_E02169</xnat:image_session_ID>\\n<xnat:quality>usable</xnat:quality>\\n<xnat:series_description>VWIP sT1W_3D_axial</xnat:series_description>\\n<xnat:scanner manufacturer=\"Philips Medical Systems\" model=\"Ingenia CX\">PHILIPS-V4HKJ2I</xnat:scanner>\\n<xnat:frames>250</xnat:frames>\\n<xnat:file label=\"DICOM\" file_count=\"250\" file_size=\"64145086\" URI=\"/data/xnat/archive/ALFA_PLUS2/arc001/040566270717239/SCANS/303/DICOM/scan_303_catalog.xml\" format=\"DICOM\" content=\"RAW\" xsi:type=\"xnat:resourceCatalog\">\\n<!--hidden_fields[xnat_abstractResource_id=\"56684\",xnat_imageScanData_xnat_imagescandata_id=\"26939\"]-->\\n</xnat:file>\\n<xnat:file label=\"SNAPSHOTS\" file_count=\"2\" file_size=\"831111\" URI=\"/data/xnat/archive/ALFA_PLUS2/arc001/040566270717239/SCANS/303/SNAPSHOTS/303_catalog.xml\" format=\"GIF\" content=\"SNAPSHOTS\" xsi:type=\"xnat:resourceCatalog\">\\n<!--hidden_fields[xnat_abstractResource_id=\"56721\",xnat_imageScanData_xnat_imagescandata_id=\"26939\"]-->\\n</xnat:file>\\n<xnat:startTime>12:39:19</xnat:startTime>\\n<xnat:coil>MULTI COIL</xnat:coil>\\n<xnat:fieldStrength>3.0</xnat:fieldStrength>\\n<xnat:parameters>\\n<xnat:voxelRes x=\"0.68181818181818\" y=\"0.68181818181818\" z=\"1.0\"/>\\n<xnat:orientation>Tra</xnat:orientation>\\n<xnat:fov x=\"352\" y=\"352\"/>\\n<xnat:tr>9.80000019073486</xnat:tr>\\n<xnat:te>3.018</xnat:te>\\n<xnat:flip>8</xnat:flip>\\n<xnat:imageType>ORIGINAL\\\\PRIMARY\\\\PROJECTION IMAGE\\\\M\\\\FFE</xnat:imageType>\\n<xnat:scanSequence>GR</xnat:scanSequence>\\n<xnat:seqVariant>MP</xnat:seqVariant>\\n<xnat:scanOptions>OTHER</xnat:scanOptions>\\n<xnat:acqType>3D</xnat:acqType>\\n<xnat:pixelBandwidth>230.0</xnat:pixelBandwidth>\\n<xnat:diffusion>\\n<xnat:bValues>0.0</xnat:bValues>\\n<xnat:orientations>0.0\\\\0.0\\\\0.0</xnat:orientations>\\n</xnat:diffusion>\\n</xnat:parameters>\\n</xnat:scan>\\n<xnat:scan ID=\"304\" type=\"VWIP sT1W_3D_coronal\" UID=\"1.3.46.670589.11.78036.5.0.12404.2017072712392412000\" xsi:type=\"xnat:mrScanData\">\\n<!--hidden_fields[xnat_imageScanData_id=\"26940\"]-->\\n<xnat:image_session_ID>BBRC_E02169</xnat:image_session_ID>\\n<xnat:quality>usable</xnat:quality>\\n<xnat:series_description>VWIP sT1W_3D_coronal</xnat:series_description>\\n<xnat:scanner manufacturer=\"Philips Medical Systems\" model=\"Ingenia CX\">PHILIPS-V4HKJ2I</xnat:scanner>\\n<xnat:frames>200</xnat:frames>\\n<xnat:file label=\"DICOM\" file_count=\"200\" file_size=\"51315992\" URI=\"/data/xnat/archive/ALFA_PLUS2/arc001/040566270717239/SCANS/304/DICOM/scan_304_catalog.xml\" format=\"DICOM\" content=\"RAW\" xsi:type=\"xnat:resourceCatalog\">\\n<!--hidden_fields[xnat_abstractResource_id=\"56685\",xnat_imageScanData_xnat_imagescandata_id=\"26940\"]-->\\n</xnat:file>\\n<xnat:file label=\"SNAPSHOTS\" file_count=\"2\" file_size=\"1046726\" URI=\"/data/xnat/archive/ALFA_PLUS2/arc001/040566270717239/SCANS/304/SNAPSHOTS/304_catalog.xml\" format=\"GIF\" content=\"SNAPSHOTS\" xsi:type=\"xnat:resourceCatalog\">\\n<!--hidden_fields[xnat_abstractResource_id=\"56722\",xnat_imageScanData_xnat_imagescandata_id=\"26940\"]-->\\n</xnat:file>\\n<xnat:startTime>12:39:24</xnat:startTime>\\n<xnat:coil>MULTI COIL</xnat:coil>\\n<xnat:fieldStrength>3.0</xnat:fieldStrength>\\n<xnat:parameters>\\n<xnat:voxelRes x=\"0.68181818181818\" y=\"0.68181818181818\" z=\"1.0\"/>\\n<xnat:orientation>Cor</xnat:orientation>\\n<xnat:fov x=\"352\" y=\"352\"/>\\n<xnat:tr>9.80000019073486</xnat:tr>\\n<xnat:te>3.018</xnat:te>\\n<xnat:flip>8</xnat:flip>\\n<xnat:imageType>ORIGINAL\\\\PRIMARY\\\\PROJECTION IMAGE\\\\M\\\\FFE</xnat:imageType>\\n<xnat:scanSequence>GR</xnat:scanSequence>\\n<xnat:seqVariant>MP</xnat:seqVariant>\\n<xnat:scanOptions>OTHER</xnat:scanOptions>\\n<xnat:acqType>3D</xnat:acqType>\\n<xnat:pixelBandwidth>230.0</xnat:pixelBandwidth>\\n<xnat:diffusion>\\n<xnat:bValues>0.0</xnat:bValues>\\n<xnat:orientations>0.0\\\\0.0\\\\0.0</xnat:orientations>\\n</xnat:diffusion>\\n</xnat:parameters>\\n</xnat:scan>\\n<xnat:scan ID=\"401\" type=\"SV_PRESS_100_Myo_CHESS_Hipo\" UID=\"1.3.46.670589.11.78036.5.0.4228.2017072712403631388\" xsi:type=\"xnat:otherDicomScanData\">\\n<!--hidden_fields[xnat_imageScanData_id=\"26941\"]-->\\n<xnat:image_session_ID>BBRC_E02169</xnat:image_session_ID>\\n<xnat:quality>usable</xnat:quality>\\n<xnat:series_description>SV_PRESS_100_Myo_CHESS_Hipo</xnat:series_description>\\n<xnat:scanner manufacturer=\"Philips Medical Systems\" model=\"Ingenia CX\">PHILIPS-V4HKJ2I</xnat:scanner>\\n<xnat:frames>0</xnat:frames>\\n<xnat:file label=\"secondary\" file_count=\"2\" file_size=\"622048\" URI=\"/data/xnat/archive/ALFA_PLUS2/arc001/040566270717239/SCANS/401/DICOM/scan_401_secondary_catalog.xml\" format=\"DICOM\" content=\"secondary\" xsi:type=\"xnat:resourceCatalog\">\\n<!--hidden_fields[xnat_abstractResource_id=\"56686\",xnat_imageScanData_xnat_imagescandata_id=\"26941\"]-->\\n</xnat:file>\\n<xnat:startTime>12:40:36</xnat:startTime>\\n</xnat:scan>\\n<xnat:scan ID=\"501\" type=\"SV_PRESS_100_Myo_CHESS_Cun\" UID=\"1.3.46.670589.11.78036.5.0.4228.2017072712474220392\" xsi:type=\"xnat:otherDicomScanData\">\\n<!--hidden_fields[xnat_imageScanData_id=\"26942\"]-->\\n<xnat:image_session_ID>BBRC_E02169</xnat:image_session_ID>\\n<xnat:quality>usable</xnat:quality>\\n<xnat:series_description>SV_PRESS_100_Myo_CHESS_Cun</xnat:series_description>\\n<xnat:scanner manufacturer=\"Philips Medical Systems\" model=\"Ingenia CX\">PHILIPS-V4HKJ2I</xnat:scanner>\\n<xnat:frames>0</xnat:frames>\\n<xnat:file label=\"secondary\" file_count=\"2\" file_size=\"622044\" URI=\"/data/xnat/archive/ALFA_PLUS2/arc001/040566270717239/SCANS/501/DICOM/scan_501_secondary_catalog.xml\" format=\"DICOM\" content=\"secondary\" xsi:type=\"xnat:resourceCatalog\">\\n<!--hidden_fields[xnat_abstractResource_id=\"56687\",xnat_imageScanData_xnat_imagescandata_id=\"26942\"]-->\\n</xnat:file>\\n<xnat:startTime>12:47:42</xnat:startTime>\\n</xnat:scan>\\n<xnat:scan ID=\"602\" type=\"SV_PRESS_100_Myo_CHESS_Ang\" UID=\"1.3.46.670589.11.78036.5.0.4228.2017072712534413397\" xsi:type=\"xnat:otherDicomScanData\">\\n<!--hidden_fields[xnat_imageScanData_id=\"26943\"]-->\\n<xnat:image_session_ID>BBRC_E02169</xnat:image_session_ID>\\n<xnat:quality>usable</xnat:quality>\\n<xnat:series_description>SV_PRESS_100_Myo_CHESS_Ang</xnat:series_description>\\n<xnat:scanner manufacturer=\"Philips Medical Systems\" model=\"Ingenia CX\">PHILIPS-V4HKJ2I</xnat:scanner>\\n<xnat:frames>0</xnat:frames>\\n<xnat:file label=\"secondary\" file_count=\"2\" file_size=\"622040\" URI=\"/data/xnat/archive/ALFA_PLUS2/arc001/040566270717239/SCANS/602/DICOM/scan_602_secondary_catalog.xml\" format=\"DICOM\" content=\"secondary\" xsi:type=\"xnat:resourceCatalog\">\\n<!--hidden_fields[xnat_abstractResource_id=\"56688\",xnat_imageScanData_xnat_imagescandata_id=\"26943\"]-->\\n</xnat:file>\\n<xnat:startTime>12:53:44</xnat:startTime>\\n</xnat:scan>\\n<xnat:scan ID=\"701\" type=\"M0_ASL\" UID=\"1.3.46.670589.11.78036.5.0.4228.2017072713002472402\" xsi:type=\"xnat:mrScanData\">\\n<!--hidden_fields[xnat_imageScanData_id=\"26944\"]-->\\n<xnat:image_session_ID>BBRC_E02169</xnat:image_session_ID>\\n<xnat:quality>usable</xnat:quality>\\n<xnat:series_description>M0_ASL</xnat:series_description>\\n<xnat:scanner manufacturer=\"Philips Medical Systems\" model=\"Ingenia CX\">PHILIPS-V4HKJ2I</xnat:scanner>\\n<xnat:frames>30</xnat:frames>\\n<xnat:file label=\"DICOM\" file_count=\"30\" file_size=\"1248118\" URI=\"/data/xnat/archive/ALFA_PLUS2/arc001/040566270717239/SCANS/701/DICOM/scan_701_catalog.xml\" format=\"DICOM\" content=\"RAW\" xsi:type=\"xnat:resourceCatalog\">\\n<!--hidden_fields[xnat_abstractResource_id=\"56689\",xnat_imageScanData_xnat_imagescandata_id=\"26944\"]-->\\n</xnat:file>\\n<xnat:file label=\"secondary\" file_count=\"1\" file_size=\"591408\" URI=\"/data/xnat/archive/ALFA_PLUS2/arc001/040566270717239/SCANS/701/DICOM/scan_701_secondary_catalog.xml\" format=\"DICOM\" content=\"secondary\" xsi:type=\"xnat:resourceCatalog\">\\n<!--hidden_fields[xnat_abstractResource_id=\"56690\",xnat_imageScanData_xnat_imagescandata_id=\"26944\"]-->\\n</xnat:file>\\n<xnat:file label=\"SNAPSHOTS\" file_count=\"2\" file_size=\"67582\" URI=\"/data/xnat/archive/ALFA_PLUS2/arc001/040566270717239/SCANS/701/SNAPSHOTS/701_catalog.xml\" format=\"GIF\" content=\"SNAPSHOTS\" xsi:type=\"xnat:resourceCatalog\">\\n<!--hidden_fields[xnat_abstractResource_id=\"56723\",xnat_imageScanData_xnat_imagescandata_id=\"26944\"]-->\\n</xnat:file>\\n<xnat:startTime>13:00:24</xnat:startTime>\\n<xnat:coil>MULTI COIL</xnat:coil>\\n<xnat:fieldStrength>3.0</xnat:fieldStrength>\\n<xnat:parameters>\\n<xnat:voxelRes x=\"1.875\" y=\"1.875\" z=\"4.0\"/>\\n<xnat:orientation>Tra</xnat:orientation>\\n<xnat:fov x=\"128\" y=\"128\"/>\\n<xnat:tr>5300.0009765625</xnat:tr>\\n<xnat:te>20.001</xnat:te>\\n<xnat:ti>0.0</xnat:ti>\\n<xnat:flip>90</xnat:flip>\\n<xnat:imageType>ORIGINAL\\\\PRIMARY\\\\M_FFE\\\\M\\\\FFE</xnat:imageType>\\n<xnat:scanSequence>GR</xnat:scanSequence>\\n<xnat:seqVariant>SK</xnat:seqVariant>\\n<xnat:scanOptions>FS</xnat:scanOptions>\\n<xnat:acqType>2D</xnat:acqType>\\n<xnat:pixelBandwidth>918.0</xnat:pixelBandwidth>\\n<xnat:diffusion>\\n<xnat:bValues>0.0</xnat:bValues>\\n<xnat:orientations>0.0\\\\0.0\\\\0.0</xnat:orientations>\\n</xnat:diffusion>\\n</xnat:parameters>\\n</xnat:scan>\\n<xnat:scan ID=\"801\" type=\"pCASL\" UID=\"1.3.46.670589.11.78036.5.0.4228.2017072713005096434\" xsi:type=\"xnat:mrScanData\">\\n<!--hidden_fields[xnat_imageScanData_id=\"26945\"]-->\\n<xnat:image_session_ID>BBRC_E02169</xnat:image_session_ID>\\n<xnat:quality>usable</xnat:quality>\\n<xnat:series_description>pCASL</xnat:series_description>\\n<xnat:scanner manufacturer=\"Philips Medical Systems\" model=\"Ingenia CX\">PHILIPS-V4HKJ2I</xnat:scanner>\\n<xnat:frames>1800</xnat:frames>\\n<xnat:file label=\"DICOM\" file_count=\"1800\" file_size=\"75252914\" URI=\"/data/xnat/archive/ALFA_PLUS2/arc001/040566270717239/SCANS/801/DICOM/scan_801_catalog.xml\" format=\"DICOM\" content=\"RAW\" xsi:type=\"xnat:resourceCatalog\">\\n<!--hidden_fields[xnat_abstractResource_id=\"56691\",xnat_imageScanData_xnat_imagescandata_id=\"26945\"]-->\\n</xnat:file>\\n<xnat:file label=\"secondary\" file_count=\"1\" file_size=\"591610\" URI=\"/data/xnat/archive/ALFA_PLUS2/arc001/040566270717239/SCANS/801/DICOM/scan_801_secondary_catalog.xml\" format=\"DICOM\" content=\"secondary\" xsi:type=\"xnat:resourceCatalog\">\\n<!--hidden_fields[xnat_abstractResource_id=\"56692\",xnat_imageScanData_xnat_imagescandata_id=\"26945\"]-->\\n</xnat:file>\\n<xnat:startTime>13:00:49</xnat:startTime>\\n<xnat:coil>MULTI COIL</xnat:coil>\\n<xnat:fieldStrength>3.0</xnat:fieldStrength>\\n<xnat:parameters>\\n<xnat:voxelRes x=\"1.875\" y=\"1.875\" z=\"4.0\"/>\\n<xnat:orientation>Tra</xnat:orientation>\\n<xnat:fov x=\"128\" y=\"128\"/>\\n<xnat:tr>5300.0</xnat:tr>\\n<xnat:te>20.0</xnat:te>\\n<xnat:ti>0.0</xnat:ti>\\n<xnat:flip>90</xnat:flip>\\n<xnat:imageType>ORIGINAL\\\\PRIMARY\\\\M_FFE\\\\M\\\\FFE</xnat:imageType>\\n<xnat:scanSequence>GR</xnat:scanSequence>\\n<xnat:seqVariant>SK</xnat:seqVariant>\\n<xnat:scanOptions>FS</xnat:scanOptions>\\n<xnat:acqType>2D</xnat:acqType>\\n<xnat:pixelBandwidth>1078.0</xnat:pixelBandwidth>\\n<xnat:diffusion>\\n<xnat:bValues>0.0</xnat:bValues>\\n<xnat:orientations>0.0\\\\0.0\\\\0.0</xnat:orientations>\\n</xnat:diffusion>\\n</xnat:parameters>\\n</xnat:scan>\\n<xnat:scan ID=\"802-MR1\" type=\"sWIP pCASL SENSE\" UID=\"1.3.46.670589.11.78036.5.0.9608.2017072713065408000\" xsi:type=\"xnat:mrScanData\">\\n<!--hidden_fields[xnat_imageScanData_id=\"26946\"]-->\\n<xnat:image_session_ID>BBRC_E02169</xnat:image_session_ID>\\n<xnat:quality>usable</xnat:quality>\\n<xnat:series_description>sWIP pCASL SENSE</xnat:series_description>\\n<xnat:scanner manufacturer=\"Philips Medical Systems\" model=\"Ingenia CX\">PHILIPS-V4HKJ2I</xnat:scanner>\\n<xnat:frames>30</xnat:frames>\\n<xnat:file label=\"DICOM\" file_count=\"30\" file_size=\"1265486\" URI=\"/data/xnat/archive/ALFA_PLUS2/arc001/040566270717239/SCANS/802/DICOM/scan_802-MR1_catalog.xml\" format=\"DICOM\" content=\"RAW\" xsi:type=\"xnat:resourceCatalog\">\\n<!--hidden_fields[xnat_abstractResource_id=\"56693\",xnat_imageScanData_xnat_imagescandata_id=\"26946\"]-->\\n</xnat:file>\\n<xnat:file label=\"SNAPSHOTS\" file_count=\"2\" file_size=\"53332\" URI=\"/data/xnat/archive/ALFA_PLUS2/arc001/040566270717239/SCANS/802-MR1/SNAPSHOTS/802-MR1_catalog.xml\" format=\"GIF\" content=\"SNAPSHOTS\" xsi:type=\"xnat:resourceCatalog\">\\n<!--hidden_fields[xnat_abstractResource_id=\"56724\",xnat_imageScanData_xnat_imagescandata_id=\"26946\"]-->\\n</xnat:file>\\n<xnat:startTime>13:06:54</xnat:startTime>\\n<xnat:coil>MULTI COIL</xnat:coil>\\n<xnat:fieldStrength>3.0</xnat:fieldStrength>\\n<xnat:parameters>\\n<xnat:voxelRes x=\"1.875\" y=\"1.875\" z=\"4.0\"/>\\n<xnat:orientation>Tra</xnat:orientation>\\n<xnat:fov x=\"128\" y=\"128\"/>\\n<xnat:tr>5300.0</xnat:tr>\\n<xnat:te>20.0</xnat:te>\\n<xnat:flip>90</xnat:flip>\\n<xnat:imageType>ORIGINAL\\\\PRIMARY\\\\PERFUSION_FFE\\\\PERFUSION\\\\FFE</xnat:imageType>\\n<xnat:scanSequence>GR</xnat:scanSequence>\\n<xnat:seqVariant>SK</xnat:seqVariant>\\n<xnat:scanOptions>FS</xnat:scanOptions>\\n<xnat:acqType>2D</xnat:acqType>\\n<xnat:pixelBandwidth>1078.0</xnat:pixelBandwidth>\\n<xnat:diffusion>\\n<xnat:bValues>0.0</xnat:bValues>\\n<xnat:orientations>0.0\\\\0.0\\\\0.0</xnat:orientations>\\n</xnat:diffusion>\\n</xnat:parameters>\\n</xnat:scan>\\n<xnat:scan ID=\"802-OT1\" type=\"sWIP pCASL SENSE\" UID=\"1.3.46.670589.11.78036.5.0.9608.2017072713065419002\" xsi:type=\"xnat:otherDicomScanData\">\\n<!--hidden_fields[xnat_imageScanData_id=\"26947\"]-->\\n<xnat:image_session_ID>BBRC_E02169</xnat:image_session_ID>\\n<xnat:quality>usable</xnat:quality>\\n<xnat:series_description>sWIP pCASL SENSE</xnat:series_description>\\n<xnat:scanner manufacturer=\"Philips Medical Systems\" model=\"Ingenia CX\">PHILIPS-V4HKJ2I</xnat:scanner>\\n<xnat:frames>0</xnat:frames>\\n<xnat:file label=\"secondary\" file_count=\"1\" file_size=\"36028\" URI=\"/data/xnat/archive/ALFA_PLUS2/arc001/040566270717239/SCANS/802/DICOM/scan_802-OT1_secondary_catalog.xml\" format=\"DICOM\" content=\"secondary\" xsi:type=\"xnat:resourceCatalog\">\\n<!--hidden_fields[xnat_abstractResource_id=\"56694\",xnat_imageScanData_xnat_imagescandata_id=\"26947\"]-->\\n</xnat:file>\\n<xnat:startTime>13:06:54</xnat:startTime>\\n</xnat:scan>\\n<xnat:scan ID=\"901\" type=\"QFLOW_CAROTID\" UID=\"1.3.46.670589.11.78036.5.0.4228.2017072713074178238\" xsi:type=\"xnat:mrScanData\">\\n<!--hidden_fields[xnat_imageScanData_id=\"26948\"]-->\\n<xnat:image_session_ID>BBRC_E02169</xnat:image_session_ID>\\n<xnat:quality>usable</xnat:quality>\\n<xnat:series_description>QFLOW_CAROTID</xnat:series_description>\\n<xnat:scanner manufacturer=\"Philips Medical Systems\" model=\"Ingenia CX\">PHILIPS-V4HKJ2I</xnat:scanner>\\n<xnat:frames>90</xnat:frames>\\n<xnat:file label=\"DICOM\" file_count=\"90\" file_size=\"19271736\" URI=\"/data/xnat/archive/ALFA_PLUS2/arc001/040566270717239/SCANS/901/DICOM/scan_901_catalog.xml\" format=\"DICOM\" content=\"RAW\" xsi:type=\"xnat:resourceCatalog\">\\n<!--hidden_fields[xnat_abstractResource_id=\"56695\",xnat_imageScanData_xnat_imagescandata_id=\"26948\"]-->\\n</xnat:file>\\n<xnat:file label=\"secondary\" file_count=\"1\" file_size=\"591904\" URI=\"/data/xnat/archive/ALFA_PLUS2/arc001/040566270717239/SCANS/901/DICOM/scan_901_secondary_catalog.xml\" format=\"DICOM\" content=\"secondary\" xsi:type=\"xnat:resourceCatalog\">\\n<!--hidden_fields[xnat_abstractResource_id=\"56696\",xnat_imageScanData_xnat_imagescandata_id=\"26948\"]-->\\n</xnat:file>\\n<xnat:file label=\"SNAPSHOTS\" file_count=\"2\" file_size=\"356271\" URI=\"/data/xnat/archive/ALFA_PLUS2/arc001/040566270717239/SCANS/901/SNAPSHOTS/901_catalog.xml\" format=\"GIF\" content=\"SNAPSHOTS\" xsi:type=\"xnat:resourceCatalog\">\\n<!--hidden_fields[xnat_abstractResource_id=\"56725\",xnat_imageScanData_xnat_imagescandata_id=\"26948\"]-->\\n</xnat:file>\\n<xnat:startTime>13:07:41</xnat:startTime>\\n<xnat:coil>MULTI COIL</xnat:coil>\\n<xnat:fieldStrength>3.0</xnat:fieldStrength>\\n<xnat:parameters>\\n<xnat:voxelRes x=\"0.56219285726547\" y=\"0.56219285726547\" z=\"5.0\"/>\\n<xnat:orientation>Tra</xnat:orientation>\\n<xnat:fov x=\"320\" y=\"320\"/>\\n<xnat:tr>8.61159992218017</xnat:tr>\\n<xnat:te>5.049</xnat:te>\\n<xnat:ti>0.0</xnat:ti>\\n<xnat:flip>10</xnat:flip>\\n<xnat:scanSequence>GR</xnat:scanSequence>\\n<xnat:seqVariant>SP</xnat:seqVariant>\\n<xnat:scanOptions>FC</xnat:scanOptions>\\n<xnat:acqType>2D</xnat:acqType>\\n<xnat:pixelBandwidth>221.0</xnat:pixelBandwidth>\\n<xnat:diffusion>\\n<xnat:bValues>0.0</xnat:bValues>\\n<xnat:orientations>0.0\\\\0.0\\\\0.0</xnat:orientations>\\n</xnat:diffusion>\\n</xnat:parameters>\\n</xnat:scan>\\n<xnat:scan ID=\"1001\" type=\"M2DI\" UID=\"1.3.46.670589.11.78036.5.0.4228.2017072713104731330\" xsi:type=\"xnat:mrScanData\">\\n<!--hidden_fields[xnat_imageScanData_id=\"26949\"]-->\\n<xnat:image_session_ID>BBRC_E02169</xnat:image_session_ID>\\n<xnat:quality>usable</xnat:quality>\\n<xnat:series_description>M2DI</xnat:series_description>\\n<xnat:scanner manufacturer=\"Philips Medical Systems\" model=\"Ingenia CX\">PHILIPS-V4HKJ2I</xnat:scanner>\\n<xnat:frames>30</xnat:frames>\\n<xnat:file label=\"DICOM\" file_count=\"30\" file_size=\"6415732\" URI=\"/data/xnat/archive/ALFA_PLUS2/arc001/040566270717239/SCANS/1001/DICOM/scan_1001_catalog.xml\" format=\"DICOM\" content=\"RAW\" xsi:type=\"xnat:resourceCatalog\">\\n<!--hidden_fields[xnat_abstractResource_id=\"56697\",xnat_imageScanData_xnat_imagescandata_id=\"26949\"]-->\\n</xnat:file>\\n<xnat:file label=\"secondary\" file_count=\"1\" file_size=\"591624\" URI=\"/data/xnat/archive/ALFA_PLUS2/arc001/040566270717239/SCANS/1001/DICOM/scan_1001_secondary_catalog.xml\" format=\"DICOM\" content=\"secondary\" xsi:type=\"xnat:resourceCatalog\">\\n<!--hidden_fields[xnat_abstractResource_id=\"56698\",xnat_imageScanData_xnat_imagescandata_id=\"26949\"]-->\\n</xnat:file>\\n<xnat:file label=\"SNAPSHOTS\" file_count=\"2\" file_size=\"463939\" URI=\"/data/xnat/archive/ALFA_PLUS2/arc001/040566270717239/SCANS/1001/SNAPSHOTS/1001_catalog.xml\" format=\"GIF\" content=\"SNAPSHOTS\" xsi:type=\"xnat:resourceCatalog\">\\n<!--hidden_fields[xnat_abstractResource_id=\"56726\",xnat_imageScanData_xnat_imagescandata_id=\"26949\"]-->\\n</xnat:file>\\n<xnat:startTime>13:10:47</xnat:startTime>\\n<xnat:coil>MULTI COIL</xnat:coil>\\n<xnat:fieldStrength>3.0</xnat:fieldStrength>\\n<xnat:parameters>\\n<xnat:voxelRes x=\"0.46875\" y=\"0.46875\" z=\"3.0\"/>\\n<xnat:orientation>Tra</xnat:orientation>\\n<xnat:fov x=\"320\" y=\"320\"/>\\n<xnat:tr>13.5539999008178</xnat:tr>\\n<xnat:te>2.906</xnat:te>\\n<xnat:ti>0.0</xnat:ti>\\n<xnat:flip>30</xnat:flip>\\n<xnat:imageType>ORIGINAL\\\\PRIMARY\\\\M_FFE\\\\M\\\\FFE</xnat:imageType>\\n<xnat:scanSequence>GR</xnat:scanSequence>\\n<xnat:seqVariant>SP</xnat:seqVariant>\\n<xnat:scanOptions>SP</xnat:scanOptions>\\n<xnat:acqType>2D</xnat:acqType>\\n<xnat:pixelBandwidth>378.0</xnat:pixelBandwidth>\\n<xnat:diffusion>\\n<xnat:bValues>0.0</xnat:bValues>\\n<xnat:orientations>0.0\\\\0.0\\\\0.0</xnat:orientations>\\n</xnat:diffusion>\\n</xnat:parameters>\\n</xnat:scan>\\n<xnat:scan ID=\"1002\" type=\"M2DI\" UID=\"1.3.46.670589.11.78036.5.0.4228.2017072713104734331\" xsi:type=\"xnat:mrScanData\">\\n<!--hidden_fields[xnat_imageScanData_id=\"26950\"]-->\\n<xnat:image_session_ID>BBRC_E02169</xnat:image_session_ID>\\n<xnat:quality>usable</xnat:quality>\\n<xnat:series_description>M2DI</xnat:series_description>\\n<xnat:scanner manufacturer=\"Philips Medical Systems\" model=\"Ingenia CX\">PHILIPS-V4HKJ2I</xnat:scanner>\\n<xnat:frames>3</xnat:frames>\\n<xnat:file label=\"DICOM\" file_count=\"3\" file_size=\"641286\" URI=\"/data/xnat/archive/ALFA_PLUS2/arc001/040566270717239/SCANS/1002/DICOM/scan_1002_catalog.xml\" format=\"DICOM\" content=\"RAW\" xsi:type=\"xnat:resourceCatalog\">\\n<!--hidden_fields[xnat_abstractResource_id=\"56699\",xnat_imageScanData_xnat_imagescandata_id=\"26950\"]-->\\n</xnat:file>\\n<xnat:file label=\"secondary\" file_count=\"1\" file_size=\"591866\" URI=\"/data/xnat/archive/ALFA_PLUS2/arc001/040566270717239/SCANS/1002/DICOM/scan_1002_secondary_catalog.xml\" format=\"DICOM\" content=\"secondary\" xsi:type=\"xnat:resourceCatalog\">\\n<!--hidden_fields[xnat_abstractResource_id=\"56700\",xnat_imageScanData_xnat_imagescandata_id=\"26950\"]-->\\n</xnat:file>\\n<xnat:file label=\"SNAPSHOTS\" file_count=\"2\" file_size=\"51451\" URI=\"/data/xnat/archive/ALFA_PLUS2/arc001/040566270717239/SCANS/1002/SNAPSHOTS/1002_catalog.xml\" format=\"GIF\" content=\"SNAPSHOTS\" xsi:type=\"xnat:resourceCatalog\">\\n<!--hidden_fields[xnat_abstractResource_id=\"56727\",xnat_imageScanData_xnat_imagescandata_id=\"26950\"]-->\\n</xnat:file>\\n<xnat:startTime>13:10:47</xnat:startTime>\\n<xnat:coil>MULTI COIL</xnat:coil>\\n<xnat:fieldStrength>3.0</xnat:fieldStrength>\\n<xnat:parameters>\\n<xnat:voxelRes x=\"0.46875\" y=\"0.46875\" z=\"150.0\"/>\\n<xnat:fov x=\"320\" y=\"320\"/>\\n<xnat:tr>13.5539999008178</xnat:tr>\\n<xnat:te>2.906</xnat:te>\\n<xnat:ti>0.0</xnat:ti>\\n<xnat:flip>30</xnat:flip>\\n<xnat:imageType>ORIGINAL\\\\PRIMARY\\\\PROJECTION IMAGE\\\\M\\\\FFE</xnat:imageType>\\n<xnat:scanSequence>GR</xnat:scanSequence>\\n<xnat:seqVariant>SP</xnat:seqVariant>\\n<xnat:scanOptions>SP</xnat:scanOptions>\\n<xnat:acqType>2D</xnat:acqType>\\n<xnat:pixelBandwidth>378.0</xnat:pixelBandwidth>\\n<xnat:diffusion>\\n<xnat:bValues>0.0</xnat:bValues>\\n<xnat:orientations>0.0\\\\0.0\\\\0.0</xnat:orientations>\\n</xnat:diffusion>\\n</xnat:parameters>\\n</xnat:scan>\\n<xnat:scan ID=\"1003\" type=\"VM2DI CLEAR\" UID=\"1.3.46.670589.11.78036.5.0.12076.2017072713112413000\" xsi:type=\"xnat:mrScanData\">\\n<!--hidden_fields[xnat_imageScanData_id=\"26951\"]-->\\n<xnat:image_session_ID>BBRC_E02169</xnat:image_session_ID>\\n<xnat:quality>usable</xnat:quality>\\n<xnat:series_description>VM2DI CLEAR</xnat:series_description>\\n<xnat:scanner manufacturer=\"Philips Medical Systems\" model=\"Ingenia CX\">PHILIPS-V4HKJ2I</xnat:scanner>\\n<xnat:frames>15</xnat:frames>\\n<xnat:file label=\"DICOM\" file_count=\"15\" file_size=\"3204316\" URI=\"/data/xnat/archive/ALFA_PLUS2/arc001/040566270717239/SCANS/1003/DICOM/scan_1003_catalog.xml\" format=\"DICOM\" content=\"RAW\" xsi:type=\"xnat:resourceCatalog\">\\n<!--hidden_fields[xnat_abstractResource_id=\"56701\",xnat_imageScanData_xnat_imagescandata_id=\"26951\"]-->\\n</xnat:file>\\n<xnat:file label=\"SNAPSHOTS\" file_count=\"2\" file_size=\"99025\" URI=\"/data/xnat/archive/ALFA_PLUS2/arc001/040566270717239/SCANS/1003/SNAPSHOTS/1003_catalog.xml\" format=\"GIF\" content=\"SNAPSHOTS\" xsi:type=\"xnat:resourceCatalog\">\\n<!--hidden_fields[xnat_abstractResource_id=\"56728\",xnat_imageScanData_xnat_imagescandata_id=\"26951\"]-->\\n</xnat:file>\\n<xnat:startTime>13:11:24</xnat:startTime>\\n<xnat:coil>MULTI COIL</xnat:coil>\\n<xnat:fieldStrength>3.0</xnat:fieldStrength>\\n<xnat:parameters>\\n<xnat:voxelRes x=\"0.46875\" y=\"0.46875\" z=\"220.728\"/>\\n<xnat:fov x=\"320\" y=\"320\"/>\\n<xnat:tr>13.5539999008178</xnat:tr>\\n<xnat:te>2.906</xnat:te>\\n<xnat:flip>30</xnat:flip>\\n<xnat:imageType>ORIGINAL\\\\PRIMARY\\\\PROJECTION IMAGE\\\\M\\\\FFE</xnat:imageType>\\n<xnat:scanSequence>GR</xnat:scanSequence>\\n<xnat:seqVariant>SP</xnat:seqVariant>\\n<xnat:scanOptions>SP</xnat:scanOptions>\\n<xnat:acqType>2D</xnat:acqType>\\n<xnat:pixelBandwidth>378.0</xnat:pixelBandwidth>\\n<xnat:diffusion>\\n<xnat:bValues>0.0</xnat:bValues>\\n<xnat:orientations>0.0\\\\0.0\\\\0.0</xnat:orientations>\\n</xnat:diffusion>\\n</xnat:parameters>\\n</xnat:scan>\\n<xnat:scan ID=\"1004\" type=\"VM2DI CLEAR\" UID=\"1.3.46.670589.11.78036.5.0.6164.2017072713112632000\" xsi:type=\"xnat:mrScanData\">\\n<!--hidden_fields[xnat_imageScanData_id=\"26952\"]-->\\n<xnat:image_session_ID>BBRC_E02169</xnat:image_session_ID>\\n<xnat:quality>usable</xnat:quality>\\n<xnat:series_description>VM2DI CLEAR</xnat:series_description>\\n<xnat:scanner manufacturer=\"Philips Medical Systems\" model=\"Ingenia CX\">PHILIPS-V4HKJ2I</xnat:scanner>\\n<xnat:frames>15</xnat:frames>\\n<xnat:file label=\"DICOM\" file_count=\"15\" file_size=\"3204316\" URI=\"/data/xnat/archive/ALFA_PLUS2/arc001/040566270717239/SCANS/1004/DICOM/scan_1004_catalog.xml\" format=\"DICOM\" content=\"RAW\" xsi:type=\"xnat:resourceCatalog\">\\n<!--hidden_fields[xnat_abstractResource_id=\"56702\",xnat_imageScanData_xnat_imagescandata_id=\"26952\"]-->\\n</xnat:file>\\n<xnat:file label=\"SNAPSHOTS\" file_count=\"2\" file_size=\"99010\" URI=\"/data/xnat/archive/ALFA_PLUS2/arc001/040566270717239/SCANS/1004/SNAPSHOTS/1004_catalog.xml\" format=\"GIF\" content=\"SNAPSHOTS\" xsi:type=\"xnat:resourceCatalog\">\\n<!--hidden_fields[xnat_abstractResource_id=\"56729\",xnat_imageScanData_xnat_imagescandata_id=\"26952\"]-->\\n</xnat:file>\\n<xnat:startTime>13:11:26</xnat:startTime>\\n<xnat:coil>MULTI COIL</xnat:coil>\\n<xnat:fieldStrength>3.0</xnat:fieldStrength>\\n<xnat:parameters>\\n<xnat:voxelRes x=\"0.46875\" y=\"0.46875\" z=\"220.728\"/>\\n<xnat:fov x=\"320\" y=\"320\"/>\\n<xnat:tr>13.5539999008178</xnat:tr>\\n<xnat:te>2.906</xnat:te>\\n<xnat:flip>30</xnat:flip>\\n<xnat:imageType>ORIGINAL\\\\PRIMARY\\\\PROJECTION IMAGE\\\\M\\\\FFE</xnat:imageType>\\n<xnat:scanSequence>GR</xnat:scanSequence>\\n<xnat:seqVariant>SP</xnat:seqVariant>\\n<xnat:scanOptions>SP</xnat:scanOptions>\\n<xnat:acqType>2D</xnat:acqType>\\n<xnat:pixelBandwidth>378.0</xnat:pixelBandwidth>\\n<xnat:diffusion>\\n<xnat:bValues>0.0</xnat:bValues>\\n<xnat:orientations>0.0\\\\0.0\\\\0.0</xnat:orientations>\\n</xnat:diffusion>\\n</xnat:parameters>\\n</xnat:scan>\\n<xnat:scan ID=\"1101\" type=\"QFLOW_CSF\" UID=\"1.3.46.670589.11.78036.5.0.4228.2017072713114349367\" xsi:type=\"xnat:mrScanData\">\\n<!--hidden_fields[xnat_imageScanData_id=\"26953\"]-->\\n<xnat:image_session_ID>BBRC_E02169</xnat:image_session_ID>\\n<xnat:quality>usable</xnat:quality>\\n<xnat:series_description>QFLOW_CSF</xnat:series_description>\\n<xnat:scanner manufacturer=\"Philips Medical Systems\" model=\"Ingenia CX\">PHILIPS-V4HKJ2I</xnat:scanner>\\n<xnat:frames>90</xnat:frames>\\n<xnat:file label=\"DICOM\" file_count=\"90\" file_size=\"7473876\" URI=\"/data/xnat/archive/ALFA_PLUS2/arc001/040566270717239/SCANS/1101/DICOM/scan_1101_catalog.xml\" format=\"DICOM\" content=\"RAW\" xsi:type=\"xnat:resourceCatalog\">\\n<!--hidden_fields[xnat_abstractResource_id=\"56703\",xnat_imageScanData_xnat_imagescandata_id=\"26953\"]-->\\n</xnat:file>\\n<xnat:file label=\"secondary\" file_count=\"1\" file_size=\"591908\" URI=\"/data/xnat/archive/ALFA_PLUS2/arc001/040566270717239/SCANS/1101/DICOM/scan_1101_secondary_catalog.xml\" format=\"DICOM\" content=\"secondary\" xsi:type=\"xnat:resourceCatalog\">\\n<!--hidden_fields[xnat_abstractResource_id=\"56704\",xnat_imageScanData_xnat_imagescandata_id=\"26953\"]-->\\n</xnat:file>\\n<xnat:file label=\"SNAPSHOTS\" file_count=\"2\" file_size=\"162675\" URI=\"/data/xnat/archive/ALFA_PLUS2/arc001/040566270717239/SCANS/1101/SNAPSHOTS/1101_catalog.xml\" format=\"GIF\" content=\"SNAPSHOTS\" xsi:type=\"xnat:resourceCatalog\">\\n<!--hidden_fields[xnat_abstractResource_id=\"56730\",xnat_imageScanData_xnat_imagescandata_id=\"26953\"]-->\\n</xnat:file>\\n<xnat:startTime>13:11:43</xnat:startTime>\\n<xnat:coil>MULTI COIL</xnat:coil>\\n<xnat:fieldStrength>3.0</xnat:fieldStrength>\\n<xnat:parameters>\\n<xnat:voxelRes x=\"0.78125\" y=\"0.78125\" z=\"4.0\"/>\\n<xnat:orientation>Tra</xnat:orientation>\\n<xnat:fov x=\"192\" y=\"192\"/>\\n<xnat:tr>10.7381000518798</xnat:tr>\\n<xnat:te>6.998</xnat:te>\\n<xnat:ti>0.0</xnat:ti>\\n<xnat:flip>15</xnat:flip>\\n<xnat:scanSequence>GR</xnat:scanSequence>\\n<xnat:seqVariant>SP</xnat:seqVariant>\\n<xnat:scanOptions>FC</xnat:scanOptions>\\n<xnat:acqType>2D</xnat:acqType>\\n<xnat:pixelBandwidth>217.0</xnat:pixelBandwidth>\\n<xnat:diffusion>\\n<xnat:bValues>0.0</xnat:bValues>\\n<xnat:orientations>0.0\\\\0.0\\\\0.0</xnat:orientations>\\n</xnat:diffusion>\\n</xnat:parameters>\\n</xnat:scan>\\n<xnat:scan ID=\"1201\" type=\"WIP muti-b  bajo max\" UID=\"1.3.46.670589.11.78036.5.0.4228.2017072713161602459\" xsi:type=\"xnat:mrScanData\">\\n<!--hidden_fields[xnat_imageScanData_id=\"26954\"]-->\\n<xnat:image_session_ID>BBRC_E02169</xnat:image_session_ID>\\n<xnat:quality>usable</xnat:quality>\\n<xnat:series_description>WIP muti-b  bajo max</xnat:series_description>\\n<xnat:scanner manufacturer=\"Philips Medical Systems\" model=\"Ingenia CX\">PHILIPS-V4HKJ2I</xnat:scanner>\\n<xnat:frames>64</xnat:frames>\\n<xnat:file label=\"DICOM\" file_count=\"64\" file_size=\"8954826\" URI=\"/data/xnat/archive/ALFA_PLUS2/arc001/040566270717239/SCANS/1201/DICOM/scan_1201_catalog.xml\" format=\"DICOM\" content=\"RAW\" xsi:type=\"xnat:resourceCatalog\">\\n<!--hidden_fields[xnat_abstractResource_id=\"56705\",xnat_imageScanData_xnat_imagescandata_id=\"26954\"]-->\\n</xnat:file>\\n<xnat:file label=\"secondary\" file_count=\"1\" file_size=\"591430\" URI=\"/data/xnat/archive/ALFA_PLUS2/arc001/040566270717239/SCANS/1201/DICOM/scan_1201_secondary_catalog.xml\" format=\"DICOM\" content=\"secondary\" xsi:type=\"xnat:resourceCatalog\">\\n<!--hidden_fields[xnat_abstractResource_id=\"56706\",xnat_imageScanData_xnat_imagescandata_id=\"26954\"]-->\\n</xnat:file>\\n<xnat:file label=\"SNAPSHOTS\" file_count=\"2\" file_size=\"382822\" URI=\"/data/xnat/archive/ALFA_PLUS2/arc001/040566270717239/SCANS/1201/SNAPSHOTS/1201_catalog.xml\" format=\"GIF\" content=\"SNAPSHOTS\" xsi:type=\"xnat:resourceCatalog\">\\n<!--hidden_fields[xnat_abstractResource_id=\"56731\",xnat_imageScanData_xnat_imagescandata_id=\"26954\"]-->\\n</xnat:file>\\n<xnat:startTime>13:16:16</xnat:startTime>\\n<xnat:coil>MULTI COIL</xnat:coil>\\n<xnat:fieldStrength>3.0</xnat:fieldStrength>\\n<xnat:parameters>\\n<xnat:voxelRes x=\"0.9375\" y=\"0.9375\" z=\"4.0\"/>\\n<xnat:orientation>Tra</xnat:orientation>\\n<xnat:fov x=\"256\" y=\"256\"/>\\n<xnat:tr>5000.0</xnat:tr>\\n<xnat:te>41.624</xnat:te>\\n<xnat:ti>0.0</xnat:ti>\\n<xnat:flip>90</xnat:flip>\\n<xnat:imageType>ORIGINAL\\\\PRIMARY\\\\M_SE\\\\M\\\\SE</xnat:imageType>\\n<xnat:scanSequence>SE</xnat:scanSequence>\\n<xnat:seqVariant>SK</xnat:seqVariant>\\n<xnat:scanOptions>FS</xnat:scanOptions>\\n<xnat:acqType>2D</xnat:acqType>\\n<xnat:pixelBandwidth>2566.0</xnat:pixelBandwidth>\\n<xnat:diffusion>\\n<xnat:orientations>0.0\\\\0.0\\\\0.0</xnat:orientations>\\n</xnat:diffusion>\\n</xnat:parameters>\\n</xnat:scan>\\n<xnat:scan ID=\"1301\" type=\"WIP muti-b medio max\" UID=\"1.3.46.670589.11.78036.5.0.4228.2017072713170021460\" xsi:type=\"xnat:mrScanData\">\\n<!--hidden_fields[xnat_imageScanData_id=\"26955\"]-->\\n<xnat:image_session_ID>BBRC_E02169</xnat:image_session_ID>\\n<xnat:quality>usable</xnat:quality>\\n<xnat:series_description>WIP muti-b medio max</xnat:series_description>\\n<xnat:scanner manufacturer=\"Philips Medical Systems\" model=\"Ingenia CX\">PHILIPS-V4HKJ2I</xnat:scanner>\\n<xnat:frames>128</xnat:frames>\\n<xnat:file label=\"DICOM\" file_count=\"128\" file_size=\"17909954\" URI=\"/data/xnat/archive/ALFA_PLUS2/arc001/040566270717239/SCANS/1301/DICOM/scan_1301_catalog.xml\" format=\"DICOM\" content=\"RAW\" xsi:type=\"xnat:resourceCatalog\">\\n<!--hidden_fields[xnat_abstractResource_id=\"56707\",xnat_imageScanData_xnat_imagescandata_id=\"26955\"]-->\\n</xnat:file>\\n<xnat:file label=\"secondary\" file_count=\"1\" file_size=\"591430\" URI=\"/data/xnat/archive/ALFA_PLUS2/arc001/040566270717239/SCANS/1301/DICOM/scan_1301_secondary_catalog.xml\" format=\"DICOM\" content=\"secondary\" xsi:type=\"xnat:resourceCatalog\">\\n<!--hidden_fields[xnat_abstractResource_id=\"56708\",xnat_imageScanData_xnat_imagescandata_id=\"26955\"]-->\\n</xnat:file>\\n<xnat:file label=\"SNAPSHOTS\" file_count=\"2\" file_size=\"427601\" URI=\"/data/xnat/archive/ALFA_PLUS2/arc001/040566270717239/SCANS/1301/SNAPSHOTS/1301_catalog.xml\" format=\"GIF\" content=\"SNAPSHOTS\" xsi:type=\"xnat:resourceCatalog\">\\n<!--hidden_fields[xnat_abstractResource_id=\"56732\",xnat_imageScanData_xnat_imagescandata_id=\"26955\"]-->\\n</xnat:file>\\n<xnat:startTime>13:17:00</xnat:startTime>\\n<xnat:coil>MULTI COIL</xnat:coil>\\n<xnat:fieldStrength>3.0</xnat:fieldStrength>\\n<xnat:parameters>\\n<xnat:voxelRes x=\"0.9375\" y=\"0.9375\" z=\"4.0\"/>\\n<xnat:orientation>Tra</xnat:orientation>\\n<xnat:fov x=\"256\" y=\"256\"/>\\n<xnat:tr>5000.0</xnat:tr>\\n<xnat:te>59.803</xnat:te>\\n<xnat:ti>0.0</xnat:ti>\\n<xnat:flip>90</xnat:flip>\\n<xnat:imageType>ORIGINAL\\\\PRIMARY\\\\M_SE\\\\M\\\\SE</xnat:imageType>\\n<xnat:scanSequence>SE</xnat:scanSequence>\\n<xnat:seqVariant>SK</xnat:seqVariant>\\n<xnat:scanOptions>FS</xnat:scanOptions>\\n<xnat:acqType>2D</xnat:acqType>\\n<xnat:pixelBandwidth>2566.0</xnat:pixelBandwidth>\\n<xnat:diffusion>\\n<xnat:orientations>0.0\\\\0.0\\\\0.0</xnat:orientations>\\n</xnat:diffusion>\\n</xnat:parameters>\\n</xnat:scan>\\n<xnat:scan ID=\"1401\" type=\"WIP muti-b altos max\" UID=\"1.3.46.670589.11.78036.5.0.4228.2017072713183128527\" xsi:type=\"xnat:mrScanData\">\\n<!--hidden_fields[xnat_imageScanData_id=\"26956\"]-->\\n<xnat:image_session_ID>BBRC_E02169</xnat:image_session_ID>\\n<xnat:quality>usable</xnat:quality>\\n<xnat:series_description>WIP muti-b altos max</xnat:series_description>\\n<xnat:scanner manufacturer=\"Philips Medical Systems\" model=\"Ingenia CX\">PHILIPS-V4HKJ2I</xnat:scanner>\\n<xnat:frames>96</xnat:frames>\\n<xnat:file label=\"DICOM\" file_count=\"96\" file_size=\"13432334\" URI=\"/data/xnat/archive/ALFA_PLUS2/arc001/040566270717239/SCANS/1401/DICOM/scan_1401_catalog.xml\" format=\"DICOM\" content=\"RAW\" xsi:type=\"xnat:resourceCatalog\">\\n<!--hidden_fields[xnat_abstractResource_id=\"56709\",xnat_imageScanData_xnat_imagescandata_id=\"26956\"]-->\\n</xnat:file>\\n<xnat:file label=\"secondary\" file_count=\"1\" file_size=\"591430\" URI=\"/data/xnat/archive/ALFA_PLUS2/arc001/040566270717239/SCANS/1401/DICOM/scan_1401_secondary_catalog.xml\" format=\"DICOM\" content=\"secondary\" xsi:type=\"xnat:resourceCatalog\">\\n<!--hidden_fields[xnat_abstractResource_id=\"56710\",xnat_imageScanData_xnat_imagescandata_id=\"26956\"]-->\\n</xnat:file>\\n<xnat:file label=\"SNAPSHOTS\" file_count=\"2\" file_size=\"298695\" URI=\"/data/xnat/archive/ALFA_PLUS2/arc001/040566270717239/SCANS/1401/SNAPSHOTS/1401_catalog.xml\" format=\"GIF\" content=\"SNAPSHOTS\" xsi:type=\"xnat:resourceCatalog\">\\n<!--hidden_fields[xnat_abstractResource_id=\"56733\",xnat_imageScanData_xnat_imagescandata_id=\"26956\"]-->\\n</xnat:file>\\n<xnat:startTime>13:18:31</xnat:startTime>\\n<xnat:coil>MULTI COIL</xnat:coil>\\n<xnat:fieldStrength>3.0</xnat:fieldStrength>\\n<xnat:parameters>\\n<xnat:voxelRes x=\"0.9375\" y=\"0.9375\" z=\"4.0\"/>\\n<xnat:orientation>Tra</xnat:orientation>\\n<xnat:fov x=\"256\" y=\"256\"/>\\n<xnat:tr>5000.0</xnat:tr>\\n<xnat:te>83.837</xnat:te>\\n<xnat:ti>0.0</xnat:ti>\\n<xnat:flip>90</xnat:flip>\\n<xnat:imageType>ORIGINAL\\\\PRIMARY\\\\M_SE\\\\M\\\\SE</xnat:imageType>\\n<xnat:scanSequence>SE</xnat:scanSequence>\\n<xnat:seqVariant>SK</xnat:seqVariant>\\n<xnat:scanOptions>FS</xnat:scanOptions>\\n<xnat:acqType>2D</xnat:acqType>\\n<xnat:pixelBandwidth>2566.0</xnat:pixelBandwidth>\\n<xnat:diffusion>\\n<xnat:orientations>0.0\\\\0.0\\\\0.0</xnat:orientations>\\n</xnat:diffusion>\\n</xnat:parameters>\\n</xnat:scan>\\n<xnat:scan ID=\"1501\" type=\"SWIp SENSE\" UID=\"1.3.46.670589.11.78036.5.0.4228.2017072713210386753\" xsi:type=\"xnat:mrScanData\">\\n<!--hidden_fields[xnat_imageScanData_id=\"26957\"]-->\\n<xnat:image_session_ID>BBRC_E02169</xnat:image_session_ID>\\n<xnat:quality>usable</xnat:quality>\\n<xnat:series_description>SWIp SENSE</xnat:series_description>\\n<xnat:scanner manufacturer=\"Philips Medical Systems\" model=\"Ingenia CX\">PHILIPS-V4HKJ2I</xnat:scanner>\\n<xnat:frames>280</xnat:frames>\\n<xnat:file label=\"DICOM\" file_count=\"280\" file_size=\"332791014\" URI=\"/data/xnat/archive/ALFA_PLUS2/arc001/040566270717239/SCANS/1501/DICOM/scan_1501_catalog.xml\" format=\"DICOM\" content=\"RAW\" xsi:type=\"xnat:resourceCatalog\">\\n<!--hidden_fields[xnat_abstractResource_id=\"56711\",xnat_imageScanData_xnat_imagescandata_id=\"26957\"]-->\\n</xnat:file>\\n<xnat:file label=\"secondary\" file_count=\"1\" file_size=\"591454\" URI=\"/data/xnat/archive/ALFA_PLUS2/arc001/040566270717239/SCANS/1501/DICOM/scan_1501_secondary_catalog.xml\" format=\"DICOM\" content=\"secondary\" xsi:type=\"xnat:resourceCatalog\">\\n<!--hidden_fields[xnat_abstractResource_id=\"56712\",xnat_imageScanData_xnat_imagescandata_id=\"26957\"]-->\\n</xnat:file>\\n<xnat:file label=\"SNAPSHOTS\" file_count=\"2\" file_size=\"2075231\" URI=\"/data/xnat/archive/ALFA_PLUS2/arc001/040566270717239/SCANS/1501/SNAPSHOTS/1501_catalog.xml\" format=\"GIF\" content=\"SNAPSHOTS\" xsi:type=\"xnat:resourceCatalog\">\\n<!--hidden_fields[xnat_abstractResource_id=\"56734\",xnat_imageScanData_xnat_imagescandata_id=\"26957\"]-->\\n</xnat:file>\\n<xnat:startTime>13:21:03</xnat:startTime>\\n<xnat:coil>MULTI COIL</xnat:coil>\\n<xnat:fieldStrength>3.0</xnat:fieldStrength>\\n<xnat:parameters>\\n<xnat:voxelRes x=\"0.29947915673255\" y=\"0.29947915673255\" z=\"2.0\"/>\\n<xnat:orientation>Tra</xnat:orientation>\\n<xnat:fov x=\"768\" y=\"768\"/>\\n<xnat:tr>31.0</xnat:tr>\\n<xnat:te>0.0</xnat:te>\\n<xnat:ti>0.0</xnat:ti>\\n<xnat:flip>17</xnat:flip>\\n<xnat:scanSequence>GR</xnat:scanSequence>\\n<xnat:seqVariant>SP</xnat:seqVariant>\\n<xnat:scanOptions>FC</xnat:scanOptions>\\n<xnat:acqType>3D</xnat:acqType>\\n<xnat:pixelBandwidth>255.0</xnat:pixelBandwidth>\\n<xnat:diffusion>\\n<xnat:bValues>0.0</xnat:bValues>\\n<xnat:orientations>0.0\\\\0.0\\\\0.0</xnat:orientations>\\n</xnat:diffusion>\\n</xnat:parameters>\\n</xnat:scan>\\n<xnat:scan ID=\"1503\" type=\"DelRec - SWIp SENSE\" UID=\"1.3.46.670589.11.78036.5.0.4228.2017072713281456037\" xsi:type=\"xnat:mrScanData\">\\n<!--hidden_fields[xnat_imageScanData_id=\"26958\"]-->\\n<xnat:image_session_ID>BBRC_E02169</xnat:image_session_ID>\\n<xnat:quality>usable</xnat:quality>\\n<xnat:series_description>DelRec - SWIp SENSE</xnat:series_description>\\n<xnat:scanner manufacturer=\"Philips Medical Systems\" model=\"Ingenia CX\">PHILIPS-V4HKJ2I</xnat:scanner>\\n<xnat:frames>1120</xnat:frames>\\n<xnat:file label=\"DICOM\" file_count=\"1120\" file_size=\"1331496698\" URI=\"/data/xnat/archive/ALFA_PLUS2/arc001/040566270717239/SCANS/1503/DICOM/scan_1503_catalog.xml\" format=\"DICOM\" content=\"RAW\" xsi:type=\"xnat:resourceCatalog\">\\n<!--hidden_fields[xnat_abstractResource_id=\"56713\",xnat_imageScanData_xnat_imagescandata_id=\"26958\"]-->\\n</xnat:file>\\n<xnat:file label=\"secondary\" file_count=\"1\" file_size=\"892758\" URI=\"/data/xnat/archive/ALFA_PLUS2/arc001/040566270717239/SCANS/1503/DICOM/scan_1503_secondary_catalog.xml\" format=\"DICOM\" content=\"secondary\" xsi:type=\"xnat:resourceCatalog\">\\n<!--hidden_fields[xnat_abstractResource_id=\"56714\",xnat_imageScanData_xnat_imagescandata_id=\"26958\"]-->\\n</xnat:file>\\n<xnat:startTime>13:21:03</xnat:startTime>\\n<xnat:coil>MULTI COIL</xnat:coil>\\n<xnat:fieldStrength>3.0</xnat:fieldStrength>\\n<xnat:parameters>\\n<xnat:voxelRes x=\"0.29947915673255\" y=\"0.29947915673255\" z=\"2.0\"/>\\n<xnat:orientation>Tra</xnat:orientation>\\n<xnat:fov x=\"768\" y=\"768\"/>\\n<xnat:tr>31.0</xnat:tr>\\n<xnat:ti>0.0</xnat:ti>\\n<xnat:flip>17</xnat:flip>\\n<xnat:scanSequence>GR</xnat:scanSequence>\\n<xnat:seqVariant>SP</xnat:seqVariant>\\n<xnat:scanOptions>FC</xnat:scanOptions>\\n<xnat:acqType>3D</xnat:acqType>\\n<xnat:pixelBandwidth>255.0</xnat:pixelBandwidth>\\n<xnat:diffusion>\\n<xnat:bValues>0.0</xnat:bValues>\\n<xnat:orientations>0.0\\\\0.0\\\\0.0</xnat:orientations>\\n</xnat:diffusion>\\n<xnat:addParam name=\"MultiEcho_TE1\">\\n<!--hidden_fields[xnat_addField_id=\"347\",parameters_addparam_xnat_mrScan_xnat_imagescandata_id=\"26958\",parameters_addparam_xnat_recons_xnat_reconstructedimagedata_id=\"null\",parameters_addparam_xnat_petSca_xnat_imagescandata_id=\"null\",parameters_addparam_xnat_imageA_id=\"null\"]-->7.2</xnat:addParam>\\n<xnat:addParam name=\"MultiEcho_TE2\">\\n<!--hidden_fields[xnat_addField_id=\"348\",parameters_addparam_xnat_mrScan_xnat_imagescandata_id=\"26958\",parameters_addparam_xnat_recons_xnat_reconstructedimagedata_id=\"null\",parameters_addparam_xnat_petSca_xnat_imagescandata_id=\"null\",parameters_addparam_xnat_imageA_id=\"null\"]-->13.4</xnat:addParam>\\n<xnat:addParam name=\"MultiEcho_TE3\">\\n<!--hidden_fields[xnat_addField_id=\"349\",parameters_addparam_xnat_mrScan_xnat_imagescandata_id=\"26958\",parameters_addparam_xnat_recons_xnat_reconstructedimagedata_id=\"null\",parameters_addparam_xnat_petSca_xnat_imagescandata_id=\"null\",parameters_addparam_xnat_imageA_id=\"null\"]-->19.6</xnat:addParam>\\n<xnat:addParam name=\"MultiEcho_TE4\">\\n<!--hidden_fields[xnat_addField_id=\"350\",parameters_addparam_xnat_mrScan_xnat_imagescandata_id=\"26958\",parameters_addparam_xnat_recons_xnat_reconstructedimagedata_id=\"null\",parameters_addparam_xnat_petSca_xnat_imagescandata_id=\"null\",parameters_addparam_xnat_imageA_id=\"null\"]-->25.8</xnat:addParam>\\n</xnat:parameters>\\n</xnat:scan>\\n</xnat:scans>\\n<xnat:dcmAccessionNumber>040566270717239</xnat:dcmAccessionNumber>\\n<xnat:dcmPatientId>66239</xnat:dcmPatientId>\\n<xnat:dcmPatientName>66239</xnat:dcmPatientName>\\n<xnat:dcmPatientBirthDate>1951-05-25</xnat:dcmPatientBirthDate>\\n<xnat:fieldStrength>3.0</xnat:fieldStrength>\\n</xnat:MRSession>\\n'"
      ]
     },
     "execution_count": 47,
     "metadata": {},
     "output_type": "execute_result"
    }
   ],
   "source": [
    "xml"
   ]
  },
  {
   "cell_type": "code",
   "execution_count": 62,
   "metadata": {
    "collapsed": false
   },
   "outputs": [
    {
     "data": {
      "text/html": [
       "<div>\n",
       "<table border=\"1\" class=\"dataframe\">\n",
       "  <thead>\n",
       "    <tr style=\"text-align: right;\">\n",
       "      <th></th>\n",
       "      <th>project</th>\n",
       "      <th>xnatId</th>\n",
       "      <th>ID</th>\n",
       "      <th>type</th>\n",
       "      <th>file_count</th>\n",
       "      <th>frames</th>\n",
       "    </tr>\n",
       "  </thead>\n",
       "  <tbody>\n",
       "    <tr>\n",
       "      <th>9244</th>\n",
       "      <td>ALFA_OPCIONAL</td>\n",
       "      <td>030411300617697</td>\n",
       "      <td>0-OT1</td>\n",
       "      <td>AXIAL</td>\n",
       "      <td>not found</td>\n",
       "      <td>0</td>\n",
       "    </tr>\n",
       "    <tr>\n",
       "      <th>9245</th>\n",
       "      <td>ALFA_OPCIONAL</td>\n",
       "      <td>030411300617697</td>\n",
       "      <td>0-OT2</td>\n",
       "      <td>CORONAL</td>\n",
       "      <td>not found</td>\n",
       "      <td>0</td>\n",
       "    </tr>\n",
       "    <tr>\n",
       "      <th>9246</th>\n",
       "      <td>ALFA_OPCIONAL</td>\n",
       "      <td>030411300617697</td>\n",
       "      <td>0-OT3</td>\n",
       "      <td>T1_ALFA1</td>\n",
       "      <td>not found</td>\n",
       "      <td>0</td>\n",
       "    </tr>\n",
       "    <tr>\n",
       "      <th>9247</th>\n",
       "      <td>ALFA_OPCIONAL</td>\n",
       "      <td>030411300617697</td>\n",
       "      <td>0-OT4</td>\n",
       "      <td>IR_ALFA1 SENSE</td>\n",
       "      <td>not found</td>\n",
       "      <td>0</td>\n",
       "    </tr>\n",
       "    <tr>\n",
       "      <th>9248</th>\n",
       "      <td>ALFA_OPCIONAL</td>\n",
       "      <td>030411300617697</td>\n",
       "      <td>0-OT5</td>\n",
       "      <td>FLAIR_ALFA1</td>\n",
       "      <td>not found</td>\n",
       "      <td>0</td>\n",
       "    </tr>\n",
       "    <tr>\n",
       "      <th>9249</th>\n",
       "      <td>ALFA_OPCIONAL</td>\n",
       "      <td>030411300617697</td>\n",
       "      <td>0-MR1</td>\n",
       "      <td>unknown</td>\n",
       "      <td>not found</td>\n",
       "      <td>0</td>\n",
       "    </tr>\n",
       "    <tr>\n",
       "      <th>9250</th>\n",
       "      <td>ALFA_OPCIONAL</td>\n",
       "      <td>030411300617697</td>\n",
       "      <td>101</td>\n",
       "      <td>SmartBrain SENSE</td>\n",
       "      <td>100</td>\n",
       "      <td>100</td>\n",
       "    </tr>\n",
       "    <tr>\n",
       "      <th>9251</th>\n",
       "      <td>ALFA_OPCIONAL</td>\n",
       "      <td>030411300617697</td>\n",
       "      <td>102</td>\n",
       "      <td>SmartBrain SENSE</td>\n",
       "      <td>2</td>\n",
       "      <td>2</td>\n",
       "    </tr>\n",
       "    <tr>\n",
       "      <th>9252</th>\n",
       "      <td>ALFA_OPCIONAL</td>\n",
       "      <td>030411300617697</td>\n",
       "      <td>103</td>\n",
       "      <td>Patient Aligned MPR AWPLAN_SMARTPLAN_TYPE_BRAIN</td>\n",
       "      <td>54</td>\n",
       "      <td>54</td>\n",
       "    </tr>\n",
       "    <tr>\n",
       "      <th>9253</th>\n",
       "      <td>ALFA_OPCIONAL</td>\n",
       "      <td>030411300617697</td>\n",
       "      <td>201</td>\n",
       "      <td>B1_calibration</td>\n",
       "      <td>not found</td>\n",
       "      <td>0</td>\n",
       "    </tr>\n",
       "    <tr>\n",
       "      <th>9254</th>\n",
       "      <td>ALFA_OPCIONAL</td>\n",
       "      <td>030411300617697</td>\n",
       "      <td>202</td>\n",
       "      <td>B1_calibration</td>\n",
       "      <td>not found</td>\n",
       "      <td>0</td>\n",
       "    </tr>\n",
       "    <tr>\n",
       "      <th>9255</th>\n",
       "      <td>ALFA_OPCIONAL</td>\n",
       "      <td>030411300617697</td>\n",
       "      <td>301</td>\n",
       "      <td>T1_ALFA1</td>\n",
       "      <td>240</td>\n",
       "      <td>240</td>\n",
       "    </tr>\n",
       "    <tr>\n",
       "      <th>9256</th>\n",
       "      <td>ALFA_OPCIONAL</td>\n",
       "      <td>030411300617697</td>\n",
       "      <td>302</td>\n",
       "      <td>CORONAL</td>\n",
       "      <td>90</td>\n",
       "      <td>90</td>\n",
       "    </tr>\n",
       "    <tr>\n",
       "      <th>9257</th>\n",
       "      <td>ALFA_OPCIONAL</td>\n",
       "      <td>030411300617697</td>\n",
       "      <td>303</td>\n",
       "      <td>AXIAL</td>\n",
       "      <td>90</td>\n",
       "      <td>90</td>\n",
       "    </tr>\n",
       "    <tr>\n",
       "      <th>9258</th>\n",
       "      <td>ALFA_OPCIONAL</td>\n",
       "      <td>030411300617697</td>\n",
       "      <td>401</td>\n",
       "      <td>B0_ALFA1</td>\n",
       "      <td>400</td>\n",
       "      <td>400</td>\n",
       "    </tr>\n",
       "    <tr>\n",
       "      <th>9259</th>\n",
       "      <td>ALFA_OPCIONAL</td>\n",
       "      <td>030411300617697</td>\n",
       "      <td>501</td>\n",
       "      <td>rRS_ALFA1 SENSE</td>\n",
       "      <td>230</td>\n",
       "      <td>230</td>\n",
       "    </tr>\n",
       "    <tr>\n",
       "      <th>9260</th>\n",
       "      <td>ALFA_OPCIONAL</td>\n",
       "      <td>030411300617697</td>\n",
       "      <td>601</td>\n",
       "      <td>RS_ALFA1 SENSE</td>\n",
       "      <td>13800</td>\n",
       "      <td>13800</td>\n",
       "    </tr>\n",
       "    <tr>\n",
       "      <th>9261</th>\n",
       "      <td>ALFA_OPCIONAL</td>\n",
       "      <td>030411300617697</td>\n",
       "      <td>701</td>\n",
       "      <td>SE-fMRI-AP SENSE</td>\n",
       "      <td>225</td>\n",
       "      <td>225</td>\n",
       "    </tr>\n",
       "    <tr>\n",
       "      <th>9262</th>\n",
       "      <td>ALFA_OPCIONAL</td>\n",
       "      <td>030411300617697</td>\n",
       "      <td>801</td>\n",
       "      <td>SE-fMRI-PA SENSE</td>\n",
       "      <td>225</td>\n",
       "      <td>225</td>\n",
       "    </tr>\n",
       "    <tr>\n",
       "      <th>9263</th>\n",
       "      <td>ALFA_OPCIONAL</td>\n",
       "      <td>030411300617697</td>\n",
       "      <td>901</td>\n",
       "      <td>FLAIR_ALFA1</td>\n",
       "      <td>180</td>\n",
       "      <td>180</td>\n",
       "    </tr>\n",
       "    <tr>\n",
       "      <th>9264</th>\n",
       "      <td>ALFA_OPCIONAL</td>\n",
       "      <td>030411300617697</td>\n",
       "      <td>902</td>\n",
       "      <td>CORONAL</td>\n",
       "      <td>90</td>\n",
       "      <td>90</td>\n",
       "    </tr>\n",
       "    <tr>\n",
       "      <th>9265</th>\n",
       "      <td>ALFA_OPCIONAL</td>\n",
       "      <td>030411300617697</td>\n",
       "      <td>903</td>\n",
       "      <td>AXIAL</td>\n",
       "      <td>90</td>\n",
       "      <td>90</td>\n",
       "    </tr>\n",
       "    <tr>\n",
       "      <th>9266</th>\n",
       "      <td>ALFA_OPCIONAL</td>\n",
       "      <td>030411300617697</td>\n",
       "      <td>1001</td>\n",
       "      <td>T2_ALFA1</td>\n",
       "      <td>360</td>\n",
       "      <td>360</td>\n",
       "    </tr>\n",
       "    <tr>\n",
       "      <th>9267</th>\n",
       "      <td>ALFA_OPCIONAL</td>\n",
       "      <td>030411300617697</td>\n",
       "      <td>1101</td>\n",
       "      <td>IR_ALFA1 SENSE</td>\n",
       "      <td>78</td>\n",
       "      <td>78</td>\n",
       "    </tr>\n",
       "    <tr>\n",
       "      <th>9268</th>\n",
       "      <td>ALFA_OPCIONAL</td>\n",
       "      <td>030411300617697</td>\n",
       "      <td>1201</td>\n",
       "      <td>rDWI_ALFA1</td>\n",
       "      <td>66</td>\n",
       "      <td>66</td>\n",
       "    </tr>\n",
       "    <tr>\n",
       "      <th>9269</th>\n",
       "      <td>ALFA_OPCIONAL</td>\n",
       "      <td>030411300617697</td>\n",
       "      <td>1301</td>\n",
       "      <td>DWI_ALFA1</td>\n",
       "      <td>4752</td>\n",
       "      <td>4752</td>\n",
       "    </tr>\n",
       "  </tbody>\n",
       "</table>\n",
       "</div>"
      ],
      "text/plain": [
       "            project           xnatId     ID  \\\n",
       "9244  ALFA_OPCIONAL  030411300617697  0-OT1   \n",
       "9245  ALFA_OPCIONAL  030411300617697  0-OT2   \n",
       "9246  ALFA_OPCIONAL  030411300617697  0-OT3   \n",
       "9247  ALFA_OPCIONAL  030411300617697  0-OT4   \n",
       "9248  ALFA_OPCIONAL  030411300617697  0-OT5   \n",
       "9249  ALFA_OPCIONAL  030411300617697  0-MR1   \n",
       "9250  ALFA_OPCIONAL  030411300617697    101   \n",
       "9251  ALFA_OPCIONAL  030411300617697    102   \n",
       "9252  ALFA_OPCIONAL  030411300617697    103   \n",
       "9253  ALFA_OPCIONAL  030411300617697    201   \n",
       "9254  ALFA_OPCIONAL  030411300617697    202   \n",
       "9255  ALFA_OPCIONAL  030411300617697    301   \n",
       "9256  ALFA_OPCIONAL  030411300617697    302   \n",
       "9257  ALFA_OPCIONAL  030411300617697    303   \n",
       "9258  ALFA_OPCIONAL  030411300617697    401   \n",
       "9259  ALFA_OPCIONAL  030411300617697    501   \n",
       "9260  ALFA_OPCIONAL  030411300617697    601   \n",
       "9261  ALFA_OPCIONAL  030411300617697    701   \n",
       "9262  ALFA_OPCIONAL  030411300617697    801   \n",
       "9263  ALFA_OPCIONAL  030411300617697    901   \n",
       "9264  ALFA_OPCIONAL  030411300617697    902   \n",
       "9265  ALFA_OPCIONAL  030411300617697    903   \n",
       "9266  ALFA_OPCIONAL  030411300617697   1001   \n",
       "9267  ALFA_OPCIONAL  030411300617697   1101   \n",
       "9268  ALFA_OPCIONAL  030411300617697   1201   \n",
       "9269  ALFA_OPCIONAL  030411300617697   1301   \n",
       "\n",
       "                                                 type file_count frames  \n",
       "9244                                            AXIAL  not found      0  \n",
       "9245                                          CORONAL  not found      0  \n",
       "9246                                         T1_ALFA1  not found      0  \n",
       "9247                                   IR_ALFA1 SENSE  not found      0  \n",
       "9248                                      FLAIR_ALFA1  not found      0  \n",
       "9249                                          unknown  not found      0  \n",
       "9250                                 SmartBrain SENSE        100    100  \n",
       "9251                                 SmartBrain SENSE          2      2  \n",
       "9252  Patient Aligned MPR AWPLAN_SMARTPLAN_TYPE_BRAIN         54     54  \n",
       "9253                                   B1_calibration  not found      0  \n",
       "9254                                   B1_calibration  not found      0  \n",
       "9255                                         T1_ALFA1        240    240  \n",
       "9256                                          CORONAL         90     90  \n",
       "9257                                            AXIAL         90     90  \n",
       "9258                                         B0_ALFA1        400    400  \n",
       "9259                                  rRS_ALFA1 SENSE        230    230  \n",
       "9260                                   RS_ALFA1 SENSE      13800  13800  \n",
       "9261                                 SE-fMRI-AP SENSE        225    225  \n",
       "9262                                 SE-fMRI-PA SENSE        225    225  \n",
       "9263                                      FLAIR_ALFA1        180    180  \n",
       "9264                                          CORONAL         90     90  \n",
       "9265                                            AXIAL         90     90  \n",
       "9266                                         T2_ALFA1        360    360  \n",
       "9267                                   IR_ALFA1 SENSE         78     78  \n",
       "9268                                       rDWI_ALFA1         66     66  \n",
       "9269                                        DWI_ALFA1       4752   4752  "
      ]
     },
     "execution_count": 62,
     "metadata": {},
     "output_type": "execute_result"
    }
   ],
   "source": [
    "df = pd.read_excel('/home/grg/xnat/sequences_XNAT_20170727.xls')\n",
    "df[df['xnatId']=='030411300617697']"
   ]
  },
  {
   "cell_type": "code",
   "execution_count": 124,
   "metadata": {
    "collapsed": false
   },
   "outputs": [
    {
     "data": {
      "text/plain": [
       "NoneType"
      ]
     },
     "execution_count": 124,
     "metadata": {},
     "output_type": "execute_result"
    }
   ],
   "source": [
    "e = central.select.experiment('040544270717008')\n"
   ]
  },
  {
   "cell_type": "code",
   "execution_count": 116,
   "metadata": {
    "collapsed": false
   },
   "outputs": [],
   "source": [
    "xml = central._exec(central.select.project('ALFA_PLUS2').experiment(str('040544270717008'))._uri +\n",
    "'?format=xml');\n",
    "from xml import etree\n",
    "root = etree.ElementTree.XML(xml)"
   ]
  },
  {
   "cell_type": "code",
   "execution_count": 125,
   "metadata": {
    "collapsed": false
   },
   "outputs": [],
   "source": [
    "NS=\"{http://nrg.wustl.edu/xnat}\"\n"
   ]
  },
  {
   "cell_type": "code",
   "execution_count": 129,
   "metadata": {
    "collapsed": false
   },
   "outputs": [
    {
     "data": {
      "text/plain": [
       "'44008'"
      ]
     },
     "execution_count": 129,
     "metadata": {},
     "output_type": "execute_result"
    }
   ],
   "source": [
    "f =root.find(NS+'dcmPatientId')\n",
    "f.text"
   ]
  },
  {
   "cell_type": "code",
   "execution_count": null,
   "metadata": {
    "collapsed": true
   },
   "outputs": [],
   "source": []
  }
 ],
 "metadata": {
  "kernelspec": {
   "display_name": "Python 2",
   "language": "python",
   "name": "python2"
  },
  "language_info": {
   "codemirror_mode": {
    "name": "ipython",
    "version": 2
   },
   "file_extension": ".py",
   "mimetype": "text/x-python",
   "name": "python",
   "nbconvert_exporter": "python",
   "pygments_lexer": "ipython2",
   "version": "2.7.11+"
  }
 },
 "nbformat": 4,
 "nbformat_minor": 1
}
