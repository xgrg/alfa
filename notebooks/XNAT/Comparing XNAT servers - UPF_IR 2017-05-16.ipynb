{
 "cells": [
  {
   "cell_type": "markdown",
   "metadata": {},
   "source": [
    "# Comparisons for UPF_IR (2017-05-16)"
   ]
  },
  {
   "cell_type": "code",
   "execution_count": 2,
   "metadata": {
    "collapsed": false
   },
   "outputs": [],
   "source": [
    "# After running find . > $file on both archives (BSC and UPCnet)\n",
    "upcnet = open('/tmp/xnat_stats/UPF_IR_upcnet_20170516.txt').readlines()\n",
    "bsc = open('/tmp/xnat_stats/UPF_IR_bsc_20170516.txt').readlines()"
   ]
  },
  {
   "cell_type": "code",
   "execution_count": 3,
   "metadata": {
    "collapsed": true
   },
   "outputs": [],
   "source": [
    "from glob import glob\n",
    "import pandas as pd\n",
    "import os.path as osp\n",
    "upc_dcm = [(e.split('/')[-3], (osp.basename(e)[:-1],e[:-1])) for e in upcnet if e.endswith('.dcm\\n')]\n",
    "bsc_dcm = [(e.split('/')[-3], (osp.basename(e)[:-1], e[:-1])) for e in bsc if e.endswith('.dcm\\n')]"
   ]
  },
  {
   "cell_type": "markdown",
   "metadata": {},
   "source": [
    "### Display the first identified DICOM files"
   ]
  },
  {
   "cell_type": "code",
   "execution_count": 4,
   "metadata": {
    "collapsed": false
   },
   "outputs": [
    {
     "name": "stdout",
     "output_type": "stream",
     "text": [
      "[('104', ('1.3.46.670589.11.78036.5.0.5136.2016102710360115000-104-25-1njv2zh.dcm', './0003/SCANS/104/DICOM/1.3.46.670589.11.78036.5.0.5136.2016102710360115000-104-25-1njv2zh.dcm')), ('104', ('1.3.46.670589.11.78036.5.0.5136.2016102710360115000-104-52-19wnu6z.dcm', './0003/SCANS/104/DICOM/1.3.46.670589.11.78036.5.0.5136.2016102710360115000-104-52-19wnu6z.dcm')), ('104', ('1.3.46.670589.11.78036.5.0.5136.2016102710360115000-104-23-19wnu4f.dcm', './0003/SCANS/104/DICOM/1.3.46.670589.11.78036.5.0.5136.2016102710360115000-104-23-19wnu4f.dcm')), ('104', ('1.3.46.670589.11.78036.5.0.5136.2016102710360115000-104-34-1njv5br.dcm', './0003/SCANS/104/DICOM/1.3.46.670589.11.78036.5.0.5136.2016102710360115000-104-34-1njv5br.dcm')), ('104', ('1.3.46.670589.11.78036.5.0.5136.2016102710360115000-104-39-1njvpav.dcm', './0003/SCANS/104/DICOM/1.3.46.670589.11.78036.5.0.5136.2016102710360115000-104-39-1njvpav.dcm')), ('104', ('1.3.46.670589.11.78036.5.0.5136.2016102710360115000-104-26-1njv327.dcm', './0003/SCANS/104/DICOM/1.3.46.670589.11.78036.5.0.5136.2016102710360115000-104-26-1njv327.dcm')), ('104', ('1.3.46.670589.11.78036.5.0.5136.2016102710360115000-104-18-19wnu3p.dcm', './0003/SCANS/104/DICOM/1.3.46.670589.11.78036.5.0.5136.2016102710360115000-104-18-19wnu3p.dcm')), ('104', ('1.3.46.670589.11.78036.5.0.5136.2016102710360115000-104-36-19wnu5d.dcm', './0003/SCANS/104/DICOM/1.3.46.670589.11.78036.5.0.5136.2016102710360115000-104-36-19wnu5d.dcm')), ('104', ('1.3.46.670589.11.78036.5.0.5136.2016102710360115000-104-5-19wnu2r.dcm', './0003/SCANS/104/DICOM/1.3.46.670589.11.78036.5.0.5136.2016102710360115000-104-5-19wnu2r.dcm')), ('104', ('1.3.46.670589.11.78036.5.0.5136.2016102710360115000-104-22-1njv1ne.dcm', './0003/SCANS/104/DICOM/1.3.46.670589.11.78036.5.0.5136.2016102710360115000-104-22-1njv1ne.dcm'))] [('404', ('1.3.46.670589.11.78036.5.0.11788.2016102619334214006-404-71-12rmhj.dcm', './0007/SCANS/404/DICOM/1.3.46.670589.11.78036.5.0.11788.2016102619334214006-404-71-12rmhj.dcm')), ('404', ('1.3.46.670589.11.78036.5.0.11788.2016102619334214006-404-50-12qcg5.dcm', './0007/SCANS/404/DICOM/1.3.46.670589.11.78036.5.0.11788.2016102619334214006-404-50-12qcg5.dcm')), ('404', ('1.3.46.670589.11.78036.5.0.11788.2016102619334214006-404-59-12qzgi.dcm', './0007/SCANS/404/DICOM/1.3.46.670589.11.78036.5.0.11788.2016102619334214006-404-59-12qzgi.dcm')), ('404', ('1.3.46.670589.11.78036.5.0.11788.2016102619334214006-404-54-12qzgd.dcm', './0007/SCANS/404/DICOM/1.3.46.670589.11.78036.5.0.11788.2016102619334214006-404-54-12qzgd.dcm')), ('404', ('1.3.46.670589.11.78036.5.0.11788.2016102619334214006-404-53-12qzgc.dcm', './0007/SCANS/404/DICOM/1.3.46.670589.11.78036.5.0.11788.2016102619334214006-404-53-12qzgc.dcm')), ('404', ('1.3.46.670589.11.78036.5.0.11788.2016102619334214006-404-10-12p2dn.dcm', './0007/SCANS/404/DICOM/1.3.46.670589.11.78036.5.0.11788.2016102619334214006-404-10-12p2dn.dcm')), ('404', ('1.3.46.670589.11.78036.5.0.11788.2016102619334214006-404-70-12rmgx.dcm', './0007/SCANS/404/DICOM/1.3.46.670589.11.78036.5.0.11788.2016102619334214006-404-70-12rmgx.dcm')), ('404', ('1.3.46.670589.11.78036.5.0.11788.2016102619334214006-404-3-12b0nu.dcm', './0007/SCANS/404/DICOM/1.3.46.670589.11.78036.5.0.11788.2016102619334214006-404-3-12b0nu.dcm')), ('404', ('1.3.46.670589.11.78036.5.0.11788.2016102619334214006-404-69-12qzhd.dcm', './0007/SCANS/404/DICOM/1.3.46.670589.11.78036.5.0.11788.2016102619334214006-404-69-12qzhd.dcm')), ('404', ('1.3.46.670589.11.78036.5.0.11788.2016102619334214006-404-21-12p2f4.dcm', './0007/SCANS/404/DICOM/1.3.46.670589.11.78036.5.0.11788.2016102619334214006-404-21-12p2f4.dcm'))]\n"
     ]
    }
   ],
   "source": [
    "print upc_dcm[:10], bsc_dcm[:10]"
   ]
  },
  {
   "cell_type": "markdown",
   "metadata": {},
   "source": [
    "### Numbers of existing DICOM files on both sides:"
   ]
  },
  {
   "cell_type": "code",
   "execution_count": 5,
   "metadata": {
    "collapsed": false
   },
   "outputs": [
    {
     "name": "stdout",
     "output_type": "stream",
     "text": [
      "upc: 6932 bsc: 6932\n"
     ]
    }
   ],
   "source": [
    "print 'upc:', len(upc_dcm), 'bsc:', len(bsc_dcm)"
   ]
  },
  {
   "cell_type": "markdown",
   "metadata": {},
   "source": [
    "Numbers of non-dicom items:"
   ]
  },
  {
   "cell_type": "code",
   "execution_count": 6,
   "metadata": {
    "collapsed": false
   },
   "outputs": [
    {
     "name": "stdout",
     "output_type": "stream",
     "text": [
      "upc: 178 bsc: 344\n"
     ]
    }
   ],
   "source": [
    "nondcm_upcnet = [e[0] for e in upcnet if not '.dcm' in e]\n",
    "nondcm_bsc = [e[0] for e in bsc if not '.dcm' in e]\n",
    "print 'upc:', len(nondcm_upcnet), 'bsc:', len(nondcm_bsc)"
   ]
  },
  {
   "cell_type": "code",
   "execution_count": 7,
   "metadata": {
    "collapsed": false
   },
   "outputs": [],
   "source": [
    "# removing all files in upcnet from subject 000000123\n",
    "#upc_dcm = [(a,(b,e)) for (a, (b,e)) in upc_dcm if not '000123' in e.split('/')[1]]"
   ]
  },
  {
   "cell_type": "markdown",
   "metadata": {},
   "source": [
    "Dictionaries by sequences:"
   ]
  },
  {
   "cell_type": "code",
   "execution_count": 8,
   "metadata": {
    "collapsed": false
   },
   "outputs": [],
   "source": [
    "# Creating dictionaries\n",
    "upc_dict = {}\n",
    "bsc_dict = {}\n",
    "\n",
    "for seq, (dcmfile,_) in upc_dcm:\n",
    "    upc_dict.setdefault(seq, []).append(dcmfile)\n",
    "for seq, (dcmfile,_) in bsc_dcm:\n",
    "    bsc_dict.setdefault(seq, []).append(dcmfile)"
   ]
  },
  {
   "cell_type": "markdown",
   "metadata": {},
   "source": [
    "## Matching files between servers for every sequence:"
   ]
  },
  {
   "cell_type": "markdown",
   "metadata": {},
   "source": [
    "The good thing is that it appears that all files from BSC find their match on UPCnet.\n",
    "\n",
    "Yet the opposite is not true."
   ]
  },
  {
   "cell_type": "code",
   "execution_count": 9,
   "metadata": {
    "collapsed": false
   },
   "outputs": [
    {
     "name": "stdout",
     "output_type": "stream",
     "text": [
      "set([]) are in UPC, missing in BSC\n",
      "set([]) are in BSC, missing in UPC\n",
      "13 in common\n"
     ]
    },
    {
     "data": {
      "text/html": [
       "<div>\n",
       "<table border=\"1\" class=\"dataframe\">\n",
       "  <thead>\n",
       "    <tr style=\"text-align: right;\">\n",
       "      <th></th>\n",
       "      <th>UPCnet</th>\n",
       "      <th>BSC</th>\n",
       "      <th>upc.diff(bsc)</th>\n",
       "      <th>bsc.diff(upc)</th>\n",
       "      <th>UPCnet - BSC (raw diff in numbers)</th>\n",
       "    </tr>\n",
       "  </thead>\n",
       "  <tbody>\n",
       "    <tr>\n",
       "      <th>901</th>\n",
       "      <td>78</td>\n",
       "      <td>78</td>\n",
       "      <td>0</td>\n",
       "      <td>0</td>\n",
       "      <td>0</td>\n",
       "    </tr>\n",
       "    <tr>\n",
       "      <th>301</th>\n",
       "      <td>240</td>\n",
       "      <td>240</td>\n",
       "      <td>0</td>\n",
       "      <td>0</td>\n",
       "      <td>0</td>\n",
       "    </tr>\n",
       "    <tr>\n",
       "      <th>303</th>\n",
       "      <td>90</td>\n",
       "      <td>90</td>\n",
       "      <td>0</td>\n",
       "      <td>0</td>\n",
       "      <td>0</td>\n",
       "    </tr>\n",
       "    <tr>\n",
       "      <th>304</th>\n",
       "      <td>180</td>\n",
       "      <td>180</td>\n",
       "      <td>0</td>\n",
       "      <td>0</td>\n",
       "      <td>0</td>\n",
       "    </tr>\n",
       "    <tr>\n",
       "      <th>405</th>\n",
       "      <td>340</td>\n",
       "      <td>340</td>\n",
       "      <td>0</td>\n",
       "      <td>0</td>\n",
       "      <td>0</td>\n",
       "    </tr>\n",
       "    <tr>\n",
       "      <th>404</th>\n",
       "      <td>1080</td>\n",
       "      <td>1080</td>\n",
       "      <td>0</td>\n",
       "      <td>0</td>\n",
       "      <td>0</td>\n",
       "    </tr>\n",
       "    <tr>\n",
       "      <th>403</th>\n",
       "      <td>1110</td>\n",
       "      <td>1110</td>\n",
       "      <td>0</td>\n",
       "      <td>0</td>\n",
       "      <td>0</td>\n",
       "    </tr>\n",
       "    <tr>\n",
       "      <th>402</th>\n",
       "      <td>160</td>\n",
       "      <td>160</td>\n",
       "      <td>0</td>\n",
       "      <td>0</td>\n",
       "      <td>0</td>\n",
       "    </tr>\n",
       "    <tr>\n",
       "      <th>401</th>\n",
       "      <td>2718</td>\n",
       "      <td>2718</td>\n",
       "      <td>0</td>\n",
       "      <td>0</td>\n",
       "      <td>0</td>\n",
       "    </tr>\n",
       "    <tr>\n",
       "      <th>1101</th>\n",
       "      <td>624</td>\n",
       "      <td>624</td>\n",
       "      <td>0</td>\n",
       "      <td>0</td>\n",
       "      <td>0</td>\n",
       "    </tr>\n",
       "    <tr>\n",
       "      <th>103</th>\n",
       "      <td>4</td>\n",
       "      <td>4</td>\n",
       "      <td>0</td>\n",
       "      <td>0</td>\n",
       "      <td>0</td>\n",
       "    </tr>\n",
       "    <tr>\n",
       "      <th>101</th>\n",
       "      <td>200</td>\n",
       "      <td>200</td>\n",
       "      <td>0</td>\n",
       "      <td>0</td>\n",
       "      <td>0</td>\n",
       "    </tr>\n",
       "    <tr>\n",
       "      <th>104</th>\n",
       "      <td>108</td>\n",
       "      <td>108</td>\n",
       "      <td>0</td>\n",
       "      <td>0</td>\n",
       "      <td>0</td>\n",
       "    </tr>\n",
       "  </tbody>\n",
       "</table>\n",
       "</div>"
      ],
      "text/plain": [
       "      UPCnet   BSC  upc.diff(bsc)  bsc.diff(upc)  \\\n",
       "901       78    78              0              0   \n",
       "301      240   240              0              0   \n",
       "303       90    90              0              0   \n",
       "304      180   180              0              0   \n",
       "405      340   340              0              0   \n",
       "404     1080  1080              0              0   \n",
       "403     1110  1110              0              0   \n",
       "402      160   160              0              0   \n",
       "401     2718  2718              0              0   \n",
       "1101     624   624              0              0   \n",
       "103        4     4              0              0   \n",
       "101      200   200              0              0   \n",
       "104      108   108              0              0   \n",
       "\n",
       "      UPCnet - BSC (raw diff in numbers)  \n",
       "901                                    0  \n",
       "301                                    0  \n",
       "303                                    0  \n",
       "304                                    0  \n",
       "405                                    0  \n",
       "404                                    0  \n",
       "403                                    0  \n",
       "402                                    0  \n",
       "401                                    0  \n",
       "1101                                   0  \n",
       "103                                    0  \n",
       "101                                    0  \n",
       "104                                    0  "
      ]
     },
     "execution_count": 9,
     "metadata": {},
     "output_type": "execute_result"
    }
   ],
   "source": [
    "results = []\n",
    "print set(upc_dict.keys()).difference(set(bsc_dict.keys())), 'are in UPC, missing in BSC'\n",
    "print set(bsc_dict.keys()).difference(set(upc_dict.keys())), 'are in BSC, missing in UPC'\n",
    "common_sq = set(bsc_dict.keys()).intersection(set(upc_dict.keys()))\n",
    "print len(common_sq), 'in common'\n",
    "\n",
    "for each in common_sq:\n",
    "    row = []\n",
    "    row.append(len(upc_dict[each]))\n",
    "    row.append(len(bsc_dict[each]))\n",
    "    row.append(len(set(upc_dict[each]).difference(set(bsc_dict[each]))))\n",
    "    row.append(len(set(bsc_dict[each]).difference(set(upc_dict[each]))))\n",
    "    row.append(len(upc_dict[each]) - len(bsc_dict[each]))\n",
    "    results.append(row)\n",
    "pd.DataFrame(results, index=common_sq, columns=['UPCnet', 'BSC', 'upc.diff(bsc)', 'bsc.diff(upc)', 'UPCnet - BSC (raw diff in numbers)'])"
   ]
  },
  {
   "cell_type": "code",
   "execution_count": null,
   "metadata": {
    "collapsed": true
   },
   "outputs": [],
   "source": []
  }
 ],
 "metadata": {
  "kernelspec": {
   "display_name": "Python 2",
   "language": "python",
   "name": "python2"
  },
  "language_info": {
   "codemirror_mode": {
    "name": "ipython",
    "version": 2
   },
   "file_extension": ".py",
   "mimetype": "text/x-python",
   "name": "python",
   "nbconvert_exporter": "python",
   "pygments_lexer": "ipython2",
   "version": "2.7.11+"
  }
 },
 "nbformat": 4,
 "nbformat_minor": 1
}
