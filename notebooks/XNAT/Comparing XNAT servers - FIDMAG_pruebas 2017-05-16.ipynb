{
 "cells": [
  {
   "cell_type": "markdown",
   "metadata": {},
   "source": [
    "# Comparisons for FIDMAG_pruebas (2017-05-16)"
   ]
  },
  {
   "cell_type": "code",
   "execution_count": 47,
   "metadata": {
    "collapsed": false
   },
   "outputs": [],
   "source": [
    "# After running find . > $file on both archives (BSC and UPCnet)\n",
    "upcnet = open('/tmp/xnat_stats/FIDMAG_pruebas_upcnet_20170515.txt').readlines()\n",
    "bsc = open('/tmp/xnat_stats/FIDMAG_pruebas_bsc_20170516.txt').readlines()"
   ]
  },
  {
   "cell_type": "code",
   "execution_count": 48,
   "metadata": {
    "collapsed": true
   },
   "outputs": [],
   "source": [
    "from glob import glob\n",
    "import pandas as pd\n",
    "import os.path as osp\n",
    "upc_dcm = [(e.split('/')[-3], (osp.basename(e)[:-1],e[:-1])) for e in upcnet if e.endswith('.dcm\\n')]\n",
    "bsc_dcm = [(e.split('/')[-3], (osp.basename(e)[:-1], e[:-1])) for e in bsc if e.endswith('.dcm\\n')]"
   ]
  },
  {
   "cell_type": "markdown",
   "metadata": {},
   "source": [
    "### Display the first identified DICOM files"
   ]
  },
  {
   "cell_type": "code",
   "execution_count": 49,
   "metadata": {
    "collapsed": false
   },
   "outputs": [
    {
     "name": "stdout",
     "output_type": "stream",
     "text": [
      "[('701', ('1.3.46.670589.11.78036.5.0.4596.2017013110555772004-701-21872-1agrtcp.dcm', './600204_20170131_VRM/SCANS/701/DICOM/1.3.46.670589.11.78036.5.0.4596.2017013110555772004-701-21872-1agrtcp.dcm')), ('701', ('1.3.46.670589.11.78036.5.0.4596.2017013110555772004-701-21370-1a1djzw.dcm', './600204_20170131_VRM/SCANS/701/DICOM/1.3.46.670589.11.78036.5.0.4596.2017013110555772004-701-21370-1a1djzw.dcm')), ('701', ('1.3.46.670589.11.78036.5.0.4596.2017013110555772004-701-9627-i2u1t3.dcm', './600204_20170131_VRM/SCANS/701/DICOM/1.3.46.670589.11.78036.5.0.4596.2017013110555772004-701-9627-i2u1t3.dcm')), ('701', ('1.3.46.670589.11.78036.5.0.4596.2017013110555772004-701-8158-h5ww08.dcm', './600204_20170131_VRM/SCANS/701/DICOM/1.3.46.670589.11.78036.5.0.4596.2017013110555772004-701-8158-h5ww08.dcm')), ('701', ('1.3.46.670589.11.78036.5.0.4596.2017013110555772004-701-8378-h6hym8.dcm', './600204_20170131_VRM/SCANS/701/DICOM/1.3.46.670589.11.78036.5.0.4596.2017013110555772004-701-8378-h6hym8.dcm')), ('701', ('1.3.46.670589.11.78036.5.0.4596.2017013110555772004-701-1749-307qg5.dcm', './600204_20170131_VRM/SCANS/701/DICOM/1.3.46.670589.11.78036.5.0.4596.2017013110555772004-701-1749-307qg5.dcm')), ('701', ('1.3.46.670589.11.78036.5.0.4596.2017013110555772004-701-21884-1agwaab.dcm', './600204_20170131_VRM/SCANS/701/DICOM/1.3.46.670589.11.78036.5.0.4596.2017013110555772004-701-21884-1agwaab.dcm')), ('701', ('1.3.46.670589.11.78036.5.0.4596.2017013110555772004-701-32097-1l3eld.dcm', './600204_20170131_VRM/SCANS/701/DICOM/1.3.46.670589.11.78036.5.0.4596.2017013110555772004-701-32097-1l3eld.dcm')), ('701', ('1.3.46.670589.11.78036.5.0.4596.2017013110555772004-701-22935-1kz48oc.dcm', './600204_20170131_VRM/SCANS/701/DICOM/1.3.46.670589.11.78036.5.0.4596.2017013110555772004-701-22935-1kz48oc.dcm')), ('701', ('1.3.46.670589.11.78036.5.0.4596.2017013110555772004-701-8135-h5cgdj.dcm', './600204_20170131_VRM/SCANS/701/DICOM/1.3.46.670589.11.78036.5.0.4596.2017013110555772004-701-8135-h5cgdj.dcm'))] [('401', ('1.3.46.670589.11.78036.5.0.608.2017020209551276002-401-119-1su5ygw.dcm', './0945020217/SCANS/401/DICOM/1.3.46.670589.11.78036.5.0.608.2017020209551276002-401-119-1su5ygw.dcm')), ('401', ('1.3.46.670589.11.78036.5.0.608.2017020209551276002-401-15-1u5d39f.dcm', './0945020217/SCANS/401/DICOM/1.3.46.670589.11.78036.5.0.608.2017020209551276002-401-15-1u5d39f.dcm')), ('401', ('1.3.46.670589.11.78036.5.0.608.2017020209551276002-401-91-1rr4k5e.dcm', './0945020217/SCANS/401/DICOM/1.3.46.670589.11.78036.5.0.608.2017020209551276002-401-91-1rr4k5e.dcm')), ('401', ('1.3.46.670589.11.78036.5.0.608.2017020209551276002-401-155-1sbwwul.dcm', './0945020217/SCANS/401/DICOM/1.3.46.670589.11.78036.5.0.608.2017020209551276002-401-155-1sbwwul.dcm')), ('401', ('1.3.46.670589.11.78036.5.0.608.2017020209551276002-401-78-1toxtc3.dcm', './0945020217/SCANS/401/DICOM/1.3.46.670589.11.78036.5.0.608.2017020209551276002-401-78-1toxtc3.dcm')), ('401', ('1.3.46.670589.11.78036.5.0.608.2017020209551276002-401-60-1u47l38.dcm', './0945020217/SCANS/401/DICOM/1.3.46.670589.11.78036.5.0.608.2017020209551276002-401-60-1u47l38.dcm')), ('401', ('1.3.46.670589.11.78036.5.0.608.2017020209551276002-401-92-1tamivf.dcm', './0945020217/SCANS/401/DICOM/1.3.46.670589.11.78036.5.0.608.2017020209551276002-401-92-1tamivf.dcm')), ('401', ('1.3.46.670589.11.78036.5.0.608.2017020209551276002-401-94-1tb1uk5.dcm', './0945020217/SCANS/401/DICOM/1.3.46.670589.11.78036.5.0.608.2017020209551276002-401-94-1tb1uk5.dcm')), ('401', ('1.3.46.670589.11.78036.5.0.608.2017020209551276002-401-107-1t8av1j.dcm', './0945020217/SCANS/401/DICOM/1.3.46.670589.11.78036.5.0.608.2017020209551276002-401-107-1t8av1j.dcm')), ('401', ('1.3.46.670589.11.78036.5.0.608.2017020209551276002-401-105-1t8yi2w.dcm', './0945020217/SCANS/401/DICOM/1.3.46.670589.11.78036.5.0.608.2017020209551276002-401-105-1t8yi2w.dcm'))]\n"
     ]
    }
   ],
   "source": [
    "print upc_dcm[:10], bsc_dcm[:10]"
   ]
  },
  {
   "cell_type": "markdown",
   "metadata": {},
   "source": [
    "### Numbers of existing DICOM files on both sides:"
   ]
  },
  {
   "cell_type": "code",
   "execution_count": 50,
   "metadata": {
    "collapsed": false
   },
   "outputs": [
    {
     "name": "stdout",
     "output_type": "stream",
     "text": [
      "upc: 675297 bsc: 649495\n"
     ]
    }
   ],
   "source": [
    "print 'upc:', len(upc_dcm), 'bsc:', len(bsc_dcm)"
   ]
  },
  {
   "cell_type": "markdown",
   "metadata": {},
   "source": [
    "Numbers of non-dicom items:"
   ]
  },
  {
   "cell_type": "code",
   "execution_count": 51,
   "metadata": {
    "collapsed": false
   },
   "outputs": [
    {
     "name": "stdout",
     "output_type": "stream",
     "text": [
      "upc: 1967 bsc: 2574\n"
     ]
    }
   ],
   "source": [
    "nondcm_upcnet = [e[0] for e in upcnet if not '.dcm' in e]\n",
    "nondcm_bsc = [e[0] for e in bsc if not '.dcm' in e]\n",
    "print 'upc:', len(nondcm_upcnet), 'bsc:', len(nondcm_bsc)"
   ]
  },
  {
   "cell_type": "code",
   "execution_count": 52,
   "metadata": {
    "collapsed": false
   },
   "outputs": [],
   "source": [
    "# removing all files in upcnet from subject 000000123\n",
    "upc_dcm = [(a,(b,e)) for (a, (b,e)) in upc_dcm if not '000123' in e.split('/')[1]]"
   ]
  },
  {
   "cell_type": "markdown",
   "metadata": {},
   "source": [
    "Dictionaries by sequences:"
   ]
  },
  {
   "cell_type": "code",
   "execution_count": 53,
   "metadata": {
    "collapsed": false
   },
   "outputs": [],
   "source": [
    "# Creating dictionaries\n",
    "upc_dict = {}\n",
    "bsc_dict = {}\n",
    "\n",
    "for seq, (dcmfile,_) in upc_dcm:\n",
    "    upc_dict.setdefault(seq, []).append(dcmfile)\n",
    "for seq, (dcmfile,_) in bsc_dcm:\n",
    "    bsc_dict.setdefault(seq, []).append(dcmfile)"
   ]
  },
  {
   "cell_type": "markdown",
   "metadata": {},
   "source": [
    "## Matching files between servers for every sequence:"
   ]
  },
  {
   "cell_type": "markdown",
   "metadata": {},
   "source": [
    "The good thing is that it appears that all files from BSC find their match on UPCnet.\n",
    "\n",
    "Yet the opposite is not true."
   ]
  },
  {
   "cell_type": "code",
   "execution_count": 54,
   "metadata": {
    "collapsed": false
   },
   "outputs": [
    {
     "name": "stdout",
     "output_type": "stream",
     "text": [
      "set([]) are in UPC, missing in BSC\n",
      "set([]) are in BSC, missing in UPC\n",
      "34 in common\n"
     ]
    },
    {
     "data": {
      "text/html": [
       "<div>\n",
       "<table border=\"1\" class=\"dataframe\">\n",
       "  <thead>\n",
       "    <tr style=\"text-align: right;\">\n",
       "      <th></th>\n",
       "      <th>UPCnet</th>\n",
       "      <th>BSC</th>\n",
       "      <th>upc.diff(bsc)</th>\n",
       "      <th>bsc.diff(upc)</th>\n",
       "      <th>UPCnet - BSC (raw diff in numbers)</th>\n",
       "    </tr>\n",
       "  </thead>\n",
       "  <tbody>\n",
       "    <tr>\n",
       "      <th>601</th>\n",
       "      <td>4498</td>\n",
       "      <td>4498</td>\n",
       "      <td>0</td>\n",
       "      <td>0</td>\n",
       "      <td>0</td>\n",
       "    </tr>\n",
       "    <tr>\n",
       "      <th>1301</th>\n",
       "      <td>3</td>\n",
       "      <td>3</td>\n",
       "      <td>0</td>\n",
       "      <td>0</td>\n",
       "      <td>0</td>\n",
       "    </tr>\n",
       "    <tr>\n",
       "      <th>603</th>\n",
       "      <td>2497</td>\n",
       "      <td>2497</td>\n",
       "      <td>0</td>\n",
       "      <td>0</td>\n",
       "      <td>0</td>\n",
       "    </tr>\n",
       "    <tr>\n",
       "      <th>602</th>\n",
       "      <td>1</td>\n",
       "      <td>1</td>\n",
       "      <td>0</td>\n",
       "      <td>0</td>\n",
       "      <td>0</td>\n",
       "    </tr>\n",
       "    <tr>\n",
       "      <th>1201</th>\n",
       "      <td>103</td>\n",
       "      <td>103</td>\n",
       "      <td>0</td>\n",
       "      <td>0</td>\n",
       "      <td>0</td>\n",
       "    </tr>\n",
       "    <tr>\n",
       "      <th>701</th>\n",
       "      <td>186842</td>\n",
       "      <td>186842</td>\n",
       "      <td>0</td>\n",
       "      <td>0</td>\n",
       "      <td>0</td>\n",
       "    </tr>\n",
       "    <tr>\n",
       "      <th>1203</th>\n",
       "      <td>55</td>\n",
       "      <td>55</td>\n",
       "      <td>0</td>\n",
       "      <td>0</td>\n",
       "      <td>0</td>\n",
       "    </tr>\n",
       "    <tr>\n",
       "      <th>1202</th>\n",
       "      <td>3</td>\n",
       "      <td>3</td>\n",
       "      <td>0</td>\n",
       "      <td>0</td>\n",
       "      <td>0</td>\n",
       "    </tr>\n",
       "    <tr>\n",
       "      <th>1302</th>\n",
       "      <td>1</td>\n",
       "      <td>1</td>\n",
       "      <td>0</td>\n",
       "      <td>0</td>\n",
       "      <td>0</td>\n",
       "    </tr>\n",
       "    <tr>\n",
       "      <th>1</th>\n",
       "      <td>1</td>\n",
       "      <td>1</td>\n",
       "      <td>0</td>\n",
       "      <td>0</td>\n",
       "      <td>0</td>\n",
       "    </tr>\n",
       "    <tr>\n",
       "      <th>0</th>\n",
       "      <td>82</td>\n",
       "      <td>82</td>\n",
       "      <td>0</td>\n",
       "      <td>0</td>\n",
       "      <td>0</td>\n",
       "    </tr>\n",
       "    <tr>\n",
       "      <th>1501</th>\n",
       "      <td>14365</td>\n",
       "      <td>14365</td>\n",
       "      <td>0</td>\n",
       "      <td>0</td>\n",
       "      <td>0</td>\n",
       "    </tr>\n",
       "    <tr>\n",
       "      <th>401</th>\n",
       "      <td>21115</td>\n",
       "      <td>21115</td>\n",
       "      <td>0</td>\n",
       "      <td>0</td>\n",
       "      <td>0</td>\n",
       "    </tr>\n",
       "    <tr>\n",
       "      <th>1102</th>\n",
       "      <td>30</td>\n",
       "      <td>30</td>\n",
       "      <td>0</td>\n",
       "      <td>0</td>\n",
       "      <td>0</td>\n",
       "    </tr>\n",
       "    <tr>\n",
       "      <th>1401</th>\n",
       "      <td>61</td>\n",
       "      <td>61</td>\n",
       "      <td>0</td>\n",
       "      <td>0</td>\n",
       "      <td>0</td>\n",
       "    </tr>\n",
       "    <tr>\n",
       "      <th>502</th>\n",
       "      <td>3</td>\n",
       "      <td>3</td>\n",
       "      <td>0</td>\n",
       "      <td>0</td>\n",
       "      <td>0</td>\n",
       "    </tr>\n",
       "    <tr>\n",
       "      <th>503</th>\n",
       "      <td>55</td>\n",
       "      <td>55</td>\n",
       "      <td>0</td>\n",
       "      <td>0</td>\n",
       "      <td>0</td>\n",
       "    </tr>\n",
       "    <tr>\n",
       "      <th>501</th>\n",
       "      <td>5234</td>\n",
       "      <td>5234</td>\n",
       "      <td>0</td>\n",
       "      <td>0</td>\n",
       "      <td>0</td>\n",
       "    </tr>\n",
       "    <tr>\n",
       "      <th>201</th>\n",
       "      <td>30</td>\n",
       "      <td>30</td>\n",
       "      <td>0</td>\n",
       "      <td>0</td>\n",
       "      <td>0</td>\n",
       "    </tr>\n",
       "    <tr>\n",
       "      <th>202</th>\n",
       "      <td>30</td>\n",
       "      <td>30</td>\n",
       "      <td>0</td>\n",
       "      <td>0</td>\n",
       "      <td>0</td>\n",
       "    </tr>\n",
       "    <tr>\n",
       "      <th>301</th>\n",
       "      <td>3211</td>\n",
       "      <td>3211</td>\n",
       "      <td>0</td>\n",
       "      <td>0</td>\n",
       "      <td>0</td>\n",
       "    </tr>\n",
       "    <tr>\n",
       "      <th>102</th>\n",
       "      <td>92</td>\n",
       "      <td>92</td>\n",
       "      <td>0</td>\n",
       "      <td>0</td>\n",
       "      <td>0</td>\n",
       "    </tr>\n",
       "    <tr>\n",
       "      <th>103</th>\n",
       "      <td>1704</td>\n",
       "      <td>1704</td>\n",
       "      <td>0</td>\n",
       "      <td>0</td>\n",
       "      <td>0</td>\n",
       "    </tr>\n",
       "    <tr>\n",
       "      <th>101</th>\n",
       "      <td>3130</td>\n",
       "      <td>3130</td>\n",
       "      <td>0</td>\n",
       "      <td>0</td>\n",
       "      <td>0</td>\n",
       "    </tr>\n",
       "    <tr>\n",
       "      <th>902</th>\n",
       "      <td>3</td>\n",
       "      <td>3</td>\n",
       "      <td>0</td>\n",
       "      <td>0</td>\n",
       "      <td>0</td>\n",
       "    </tr>\n",
       "    <tr>\n",
       "      <th>903</th>\n",
       "      <td>55</td>\n",
       "      <td>55</td>\n",
       "      <td>0</td>\n",
       "      <td>0</td>\n",
       "      <td>0</td>\n",
       "    </tr>\n",
       "    <tr>\n",
       "      <th>901</th>\n",
       "      <td>43528</td>\n",
       "      <td>43528</td>\n",
       "      <td>0</td>\n",
       "      <td>0</td>\n",
       "      <td>0</td>\n",
       "    </tr>\n",
       "    <tr>\n",
       "      <th>1601</th>\n",
       "      <td>1321</td>\n",
       "      <td>1321</td>\n",
       "      <td>0</td>\n",
       "      <td>0</td>\n",
       "      <td>0</td>\n",
       "    </tr>\n",
       "    <tr>\n",
       "      <th>100001</th>\n",
       "      <td>1</td>\n",
       "      <td>1</td>\n",
       "      <td>0</td>\n",
       "      <td>0</td>\n",
       "      <td>0</td>\n",
       "    </tr>\n",
       "    <tr>\n",
       "      <th>1103</th>\n",
       "      <td>30</td>\n",
       "      <td>30</td>\n",
       "      <td>0</td>\n",
       "      <td>0</td>\n",
       "      <td>0</td>\n",
       "    </tr>\n",
       "    <tr>\n",
       "      <th>1101</th>\n",
       "      <td>181</td>\n",
       "      <td>181</td>\n",
       "      <td>0</td>\n",
       "      <td>0</td>\n",
       "      <td>0</td>\n",
       "    </tr>\n",
       "    <tr>\n",
       "      <th>801</th>\n",
       "      <td>359907</td>\n",
       "      <td>359907</td>\n",
       "      <td>0</td>\n",
       "      <td>0</td>\n",
       "      <td>0</td>\n",
       "    </tr>\n",
       "    <tr>\n",
       "      <th>1002</th>\n",
       "      <td>1</td>\n",
       "      <td>1</td>\n",
       "      <td>0</td>\n",
       "      <td>0</td>\n",
       "      <td>0</td>\n",
       "    </tr>\n",
       "    <tr>\n",
       "      <th>1001</th>\n",
       "      <td>1322</td>\n",
       "      <td>1322</td>\n",
       "      <td>0</td>\n",
       "      <td>0</td>\n",
       "      <td>0</td>\n",
       "    </tr>\n",
       "  </tbody>\n",
       "</table>\n",
       "</div>"
      ],
      "text/plain": [
       "        UPCnet     BSC  upc.diff(bsc)  bsc.diff(upc)  \\\n",
       "601       4498    4498              0              0   \n",
       "1301         3       3              0              0   \n",
       "603       2497    2497              0              0   \n",
       "602          1       1              0              0   \n",
       "1201       103     103              0              0   \n",
       "701     186842  186842              0              0   \n",
       "1203        55      55              0              0   \n",
       "1202         3       3              0              0   \n",
       "1302         1       1              0              0   \n",
       "1            1       1              0              0   \n",
       "0           82      82              0              0   \n",
       "1501     14365   14365              0              0   \n",
       "401      21115   21115              0              0   \n",
       "1102        30      30              0              0   \n",
       "1401        61      61              0              0   \n",
       "502          3       3              0              0   \n",
       "503         55      55              0              0   \n",
       "501       5234    5234              0              0   \n",
       "201         30      30              0              0   \n",
       "202         30      30              0              0   \n",
       "301       3211    3211              0              0   \n",
       "102         92      92              0              0   \n",
       "103       1704    1704              0              0   \n",
       "101       3130    3130              0              0   \n",
       "902          3       3              0              0   \n",
       "903         55      55              0              0   \n",
       "901      43528   43528              0              0   \n",
       "1601      1321    1321              0              0   \n",
       "100001       1       1              0              0   \n",
       "1103        30      30              0              0   \n",
       "1101       181     181              0              0   \n",
       "801     359907  359907              0              0   \n",
       "1002         1       1              0              0   \n",
       "1001      1322    1322              0              0   \n",
       "\n",
       "        UPCnet - BSC (raw diff in numbers)  \n",
       "601                                      0  \n",
       "1301                                     0  \n",
       "603                                      0  \n",
       "602                                      0  \n",
       "1201                                     0  \n",
       "701                                      0  \n",
       "1203                                     0  \n",
       "1202                                     0  \n",
       "1302                                     0  \n",
       "1                                        0  \n",
       "0                                        0  \n",
       "1501                                     0  \n",
       "401                                      0  \n",
       "1102                                     0  \n",
       "1401                                     0  \n",
       "502                                      0  \n",
       "503                                      0  \n",
       "501                                      0  \n",
       "201                                      0  \n",
       "202                                      0  \n",
       "301                                      0  \n",
       "102                                      0  \n",
       "103                                      0  \n",
       "101                                      0  \n",
       "902                                      0  \n",
       "903                                      0  \n",
       "901                                      0  \n",
       "1601                                     0  \n",
       "100001                                   0  \n",
       "1103                                     0  \n",
       "1101                                     0  \n",
       "801                                      0  \n",
       "1002                                     0  \n",
       "1001                                     0  "
      ]
     },
     "execution_count": 54,
     "metadata": {},
     "output_type": "execute_result"
    }
   ],
   "source": [
    "results = []\n",
    "print set(upc_dict.keys()).difference(set(bsc_dict.keys())), 'are in UPC, missing in BSC'\n",
    "print set(bsc_dict.keys()).difference(set(upc_dict.keys())), 'are in BSC, missing in UPC'\n",
    "common_sq = set(bsc_dict.keys()).intersection(set(upc_dict.keys()))\n",
    "print len(common_sq), 'in common'\n",
    "\n",
    "for each in common_sq:\n",
    "    row = []\n",
    "    row.append(len(upc_dict[each]))\n",
    "    row.append(len(bsc_dict[each]))\n",
    "    row.append(len(set(upc_dict[each]).difference(set(bsc_dict[each]))))\n",
    "    row.append(len(set(bsc_dict[each]).difference(set(upc_dict[each]))))\n",
    "    row.append(len(upc_dict[each]) - len(bsc_dict[each]))\n",
    "    results.append(row)\n",
    "pd.DataFrame(results, index=common_sq, columns=['UPCnet', 'BSC', 'upc.diff(bsc)', 'bsc.diff(upc)', 'UPCnet - BSC (raw diff in numbers)'])"
   ]
  },
  {
   "cell_type": "code",
   "execution_count": null,
   "metadata": {
    "collapsed": true
   },
   "outputs": [],
   "source": []
  }
 ],
 "metadata": {
  "kernelspec": {
   "display_name": "Python 2",
   "language": "python",
   "name": "python2"
  },
  "language_info": {
   "codemirror_mode": {
    "name": "ipython",
    "version": 2
   },
   "file_extension": ".py",
   "mimetype": "text/x-python",
   "name": "python",
   "nbconvert_exporter": "python",
   "pygments_lexer": "ipython2",
   "version": "2.7.11+"
  }
 },
 "nbformat": 4,
 "nbformat_minor": 1
}
