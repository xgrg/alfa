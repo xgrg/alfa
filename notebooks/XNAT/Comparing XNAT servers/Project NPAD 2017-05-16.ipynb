{
 "cells": [
  {
   "cell_type": "markdown",
   "metadata": {},
   "source": [
    "# Comparisons for NPAD (2017-05-16)"
   ]
  },
  {
   "cell_type": "code",
   "execution_count": 2,
   "metadata": {
    "collapsed": false
   },
   "outputs": [],
   "source": [
    "# After running find . > $file on both archives (BSC and UPCnet)\n",
    "upcnet = open('/tmp/xnat_stats/NPAD_upcnet_20170516.txt').readlines()\n",
    "bsc = open('/tmp/xnat_stats/NPAD_bsc_20170516.txt').readlines()"
   ]
  },
  {
   "cell_type": "code",
   "execution_count": 3,
   "metadata": {
    "collapsed": true
   },
   "outputs": [],
   "source": [
    "from glob import glob\n",
    "import pandas as pd\n",
    "import os.path as osp\n",
    "upc_dcm = [(e.split('/')[-3], (osp.basename(e)[:-1],e[:-1])) for e in upcnet if e.endswith('.dcm\\n')]\n",
    "bsc_dcm = [(e.split('/')[-3], (osp.basename(e)[:-1], e[:-1])) for e in bsc if e.endswith('.dcm\\n')]"
   ]
  },
  {
   "cell_type": "markdown",
   "metadata": {},
   "source": [
    "### Display the first identified DICOM files"
   ]
  },
  {
   "cell_type": "code",
   "execution_count": 4,
   "metadata": {
    "collapsed": false
   },
   "outputs": [
    {
     "name": "stdout",
     "output_type": "stream",
     "text": [
      "[('701', ('1.3.46.670589.11.78036.5.0.8164.2017011910573193000-701-13729-ck85iy.dcm', './1901171055/SCANS/701/DICOM/1.3.46.670589.11.78036.5.0.8164.2017011910573193000-701-13729-ck85iy.dcm')), ('701', ('1.3.46.670589.11.78036.5.0.8164.2017011910573193000-701-5364-1n6nibi.dcm', './1901171055/SCANS/701/DICOM/1.3.46.670589.11.78036.5.0.8164.2017011910573193000-701-5364-1n6nibi.dcm')), ('701', ('1.3.46.670589.11.78036.5.0.8164.2017011910573193000-701-8636-ekugrs.dcm', './1901171055/SCANS/701/DICOM/1.3.46.670589.11.78036.5.0.8164.2017011910573193000-701-8636-ekugrs.dcm')), ('701', ('1.3.46.670589.11.78036.5.0.8164.2017011910573193000-701-7935-1ibsadj.dcm', './1901171055/SCANS/701/DICOM/1.3.46.670589.11.78036.5.0.8164.2017011910573193000-701-7935-1ibsadj.dcm')), ('701', ('1.3.46.670589.11.78036.5.0.8164.2017011910573193000-701-3106-an63hg.dcm', './1901171055/SCANS/701/DICOM/1.3.46.670589.11.78036.5.0.8164.2017011910573193000-701-3106-an63hg.dcm')), ('701', ('1.3.46.670589.11.78036.5.0.8164.2017011910573193000-701-7619-1kkunmu.dcm', './1901171055/SCANS/701/DICOM/1.3.46.670589.11.78036.5.0.8164.2017011910573193000-701-7619-1kkunmu.dcm')), ('701', ('1.3.46.670589.11.78036.5.0.8164.2017011910573193000-701-6652-nn91ir.dcm', './1901171055/SCANS/701/DICOM/1.3.46.670589.11.78036.5.0.8164.2017011910573193000-701-6652-nn91ir.dcm')), ('701', ('1.3.46.670589.11.78036.5.0.8164.2017011910573193000-701-15019-qqde8j.dcm', './1901171055/SCANS/701/DICOM/1.3.46.670589.11.78036.5.0.8164.2017011910573193000-701-15019-qqde8j.dcm')), ('701', ('1.3.46.670589.11.78036.5.0.8164.2017011910573193000-701-9597-1k53dxh.dcm', './1901171055/SCANS/701/DICOM/1.3.46.670589.11.78036.5.0.8164.2017011910573193000-701-9597-1k53dxh.dcm')), ('701', ('1.3.46.670589.11.78036.5.0.8164.2017011910573193000-701-7617-17rodhc.dcm', './1901171055/SCANS/701/DICOM/1.3.46.670589.11.78036.5.0.8164.2017011910573193000-701-7617-17rodhc.dcm'))] [('0', ('1.3.46.670589.11.78036.5.0.9768.2017012615493596000-0-1-1jntze1.dcm', './2601171526/SCANS/0/DICOM/1.3.46.670589.11.78036.5.0.9768.2017012615493596000-0-1-1jntze1.dcm')), ('301', ('1.3.46.670589.11.78036.5.0.9768.2017012615493596000-301-69-vbsl7y.dcm', './2601171526/SCANS/301/DICOM/1.3.46.670589.11.78036.5.0.9768.2017012615493596000-301-69-vbsl7y.dcm')), ('301', ('1.3.46.670589.11.78036.5.0.9768.2017012615493596000-301-35-vcu9jm.dcm', './2601171526/SCANS/301/DICOM/1.3.46.670589.11.78036.5.0.9768.2017012615493596000-301-35-vcu9jm.dcm')), ('301', ('1.3.46.670589.11.78036.5.0.9768.2017012615493596000-301-133-vpzfh4.dcm', './2601171526/SCANS/301/DICOM/1.3.46.670589.11.78036.5.0.9768.2017012615493596000-301-133-vpzfh4.dcm')), ('301', ('1.3.46.670589.11.78036.5.0.9768.2017012615493596000-301-44-vcw6ju.dcm', './2601171526/SCANS/301/DICOM/1.3.46.670589.11.78036.5.0.9768.2017012615493596000-301-44-vcw6ju.dcm')), ('301', ('1.3.46.670589.11.78036.5.0.9768.2017012615493596000-301-13-vq02i6.dcm', './2601171526/SCANS/301/DICOM/1.3.46.670589.11.78036.5.0.9768.2017012615493596000-301-13-vq02i6.dcm')), ('301', ('1.3.46.670589.11.78036.5.0.9768.2017012615493596000-301-174-vcsck5.dcm', './2601171526/SCANS/301/DICOM/1.3.46.670589.11.78036.5.0.9768.2017012615493596000-301-174-vcsck5.dcm')), ('301', ('1.3.46.670589.11.78036.5.0.9768.2017012615493596000-301-37-vcvjjj.dcm', './2601171526/SCANS/301/DICOM/1.3.46.670589.11.78036.5.0.9768.2017012615493596000-301-37-vcvjjj.dcm')), ('301', ('1.3.46.670589.11.78036.5.0.9768.2017012615493596000-301-116-vqil65.dcm', './2601171526/SCANS/301/DICOM/1.3.46.670589.11.78036.5.0.9768.2017012615493596000-301-116-vqil65.dcm')), ('301', ('1.3.46.670589.11.78036.5.0.9768.2017012615493596000-301-94-vr2ec7.dcm', './2601171526/SCANS/301/DICOM/1.3.46.670589.11.78036.5.0.9768.2017012615493596000-301-94-vr2ec7.dcm'))]\n"
     ]
    }
   ],
   "source": [
    "print upc_dcm[:10], bsc_dcm[:10]"
   ]
  },
  {
   "cell_type": "markdown",
   "metadata": {},
   "source": [
    "### Numbers of existing DICOM files on both sides:"
   ]
  },
  {
   "cell_type": "code",
   "execution_count": 5,
   "metadata": {
    "collapsed": false
   },
   "outputs": [
    {
     "name": "stdout",
     "output_type": "stream",
     "text": [
      "upc: 181513 bsc: 181513\n"
     ]
    }
   ],
   "source": [
    "print 'upc:', len(upc_dcm), 'bsc:', len(bsc_dcm)"
   ]
  },
  {
   "cell_type": "markdown",
   "metadata": {},
   "source": [
    "Numbers of non-dicom items:"
   ]
  },
  {
   "cell_type": "code",
   "execution_count": 6,
   "metadata": {
    "collapsed": false
   },
   "outputs": [
    {
     "name": "stdout",
     "output_type": "stream",
     "text": [
      "upc: 348 bsc: 366\n"
     ]
    }
   ],
   "source": [
    "nondcm_upcnet = [e[0] for e in upcnet if not '.dcm' in e]\n",
    "nondcm_bsc = [e[0] for e in bsc if not '.dcm' in e]\n",
    "print 'upc:', len(nondcm_upcnet), 'bsc:', len(nondcm_bsc)"
   ]
  },
  {
   "cell_type": "code",
   "execution_count": 7,
   "metadata": {
    "collapsed": false
   },
   "outputs": [],
   "source": [
    "# removing all files in upcnet from subject 000000123\n",
    "#upc_dcm = [(a,(b,e)) for (a, (b,e)) in upc_dcm if not '000123' in e.split('/')[1]]"
   ]
  },
  {
   "cell_type": "markdown",
   "metadata": {},
   "source": [
    "Dictionaries by sequences:"
   ]
  },
  {
   "cell_type": "code",
   "execution_count": 8,
   "metadata": {
    "collapsed": false
   },
   "outputs": [],
   "source": [
    "# Creating dictionaries\n",
    "upc_dict = {}\n",
    "bsc_dict = {}\n",
    "\n",
    "for seq, (dcmfile,_) in upc_dcm:\n",
    "    upc_dict.setdefault(seq, []).append(dcmfile)\n",
    "for seq, (dcmfile,_) in bsc_dcm:\n",
    "    bsc_dict.setdefault(seq, []).append(dcmfile)"
   ]
  },
  {
   "cell_type": "markdown",
   "metadata": {},
   "source": [
    "## Matching files between servers for every sequence:"
   ]
  },
  {
   "cell_type": "markdown",
   "metadata": {},
   "source": [
    "The good thing is that it appears that all files from BSC find their match on UPCnet.\n",
    "\n",
    "Yet the opposite is not true."
   ]
  },
  {
   "cell_type": "code",
   "execution_count": 9,
   "metadata": {
    "collapsed": false
   },
   "outputs": [
    {
     "name": "stdout",
     "output_type": "stream",
     "text": [
      "set([]) are in UPC, missing in BSC\n",
      "set([]) are in BSC, missing in UPC\n",
      "14 in common\n"
     ]
    },
    {
     "data": {
      "text/html": [
       "<div>\n",
       "<table border=\"1\" class=\"dataframe\">\n",
       "  <thead>\n",
       "    <tr style=\"text-align: right;\">\n",
       "      <th></th>\n",
       "      <th>UPCnet</th>\n",
       "      <th>BSC</th>\n",
       "      <th>upc.diff(bsc)</th>\n",
       "      <th>bsc.diff(upc)</th>\n",
       "      <th>UPCnet - BSC (raw diff in numbers)</th>\n",
       "    </tr>\n",
       "  </thead>\n",
       "  <tbody>\n",
       "    <tr>\n",
       "      <th>201</th>\n",
       "      <td>5</td>\n",
       "      <td>5</td>\n",
       "      <td>0</td>\n",
       "      <td>0</td>\n",
       "      <td>0</td>\n",
       "    </tr>\n",
       "    <tr>\n",
       "      <th>202</th>\n",
       "      <td>5</td>\n",
       "      <td>5</td>\n",
       "      <td>0</td>\n",
       "      <td>0</td>\n",
       "      <td>0</td>\n",
       "    </tr>\n",
       "    <tr>\n",
       "      <th>601</th>\n",
       "      <td>18004</td>\n",
       "      <td>18004</td>\n",
       "      <td>0</td>\n",
       "      <td>0</td>\n",
       "      <td>0</td>\n",
       "    </tr>\n",
       "    <tr>\n",
       "      <th>301</th>\n",
       "      <td>936</td>\n",
       "      <td>936</td>\n",
       "      <td>0</td>\n",
       "      <td>0</td>\n",
       "      <td>0</td>\n",
       "    </tr>\n",
       "    <tr>\n",
       "      <th>302</th>\n",
       "      <td>840</td>\n",
       "      <td>840</td>\n",
       "      <td>0</td>\n",
       "      <td>0</td>\n",
       "      <td>0</td>\n",
       "    </tr>\n",
       "    <tr>\n",
       "      <th>303</th>\n",
       "      <td>1330</td>\n",
       "      <td>1330</td>\n",
       "      <td>0</td>\n",
       "      <td>0</td>\n",
       "      <td>0</td>\n",
       "    </tr>\n",
       "    <tr>\n",
       "      <th>304</th>\n",
       "      <td>1000</td>\n",
       "      <td>1000</td>\n",
       "      <td>0</td>\n",
       "      <td>0</td>\n",
       "      <td>0</td>\n",
       "    </tr>\n",
       "    <tr>\n",
       "      <th>701</th>\n",
       "      <td>73805</td>\n",
       "      <td>73805</td>\n",
       "      <td>0</td>\n",
       "      <td>0</td>\n",
       "      <td>0</td>\n",
       "    </tr>\n",
       "    <tr>\n",
       "      <th>0</th>\n",
       "      <td>8</td>\n",
       "      <td>8</td>\n",
       "      <td>0</td>\n",
       "      <td>0</td>\n",
       "      <td>0</td>\n",
       "    </tr>\n",
       "    <tr>\n",
       "      <th>901</th>\n",
       "      <td>16201</td>\n",
       "      <td>16201</td>\n",
       "      <td>0</td>\n",
       "      <td>0</td>\n",
       "      <td>0</td>\n",
       "    </tr>\n",
       "    <tr>\n",
       "      <th>401</th>\n",
       "      <td>28804</td>\n",
       "      <td>28804</td>\n",
       "      <td>0</td>\n",
       "      <td>0</td>\n",
       "      <td>0</td>\n",
       "    </tr>\n",
       "    <tr>\n",
       "      <th>801</th>\n",
       "      <td>4511</td>\n",
       "      <td>4511</td>\n",
       "      <td>0</td>\n",
       "      <td>0</td>\n",
       "      <td>0</td>\n",
       "    </tr>\n",
       "    <tr>\n",
       "      <th>101</th>\n",
       "      <td>60</td>\n",
       "      <td>60</td>\n",
       "      <td>0</td>\n",
       "      <td>0</td>\n",
       "      <td>0</td>\n",
       "    </tr>\n",
       "    <tr>\n",
       "      <th>501</th>\n",
       "      <td>36004</td>\n",
       "      <td>36004</td>\n",
       "      <td>0</td>\n",
       "      <td>0</td>\n",
       "      <td>0</td>\n",
       "    </tr>\n",
       "  </tbody>\n",
       "</table>\n",
       "</div>"
      ],
      "text/plain": [
       "     UPCnet    BSC  upc.diff(bsc)  bsc.diff(upc)  \\\n",
       "201       5      5              0              0   \n",
       "202       5      5              0              0   \n",
       "601   18004  18004              0              0   \n",
       "301     936    936              0              0   \n",
       "302     840    840              0              0   \n",
       "303    1330   1330              0              0   \n",
       "304    1000   1000              0              0   \n",
       "701   73805  73805              0              0   \n",
       "0         8      8              0              0   \n",
       "901   16201  16201              0              0   \n",
       "401   28804  28804              0              0   \n",
       "801    4511   4511              0              0   \n",
       "101      60     60              0              0   \n",
       "501   36004  36004              0              0   \n",
       "\n",
       "     UPCnet - BSC (raw diff in numbers)  \n",
       "201                                   0  \n",
       "202                                   0  \n",
       "601                                   0  \n",
       "301                                   0  \n",
       "302                                   0  \n",
       "303                                   0  \n",
       "304                                   0  \n",
       "701                                   0  \n",
       "0                                     0  \n",
       "901                                   0  \n",
       "401                                   0  \n",
       "801                                   0  \n",
       "101                                   0  \n",
       "501                                   0  "
      ]
     },
     "execution_count": 9,
     "metadata": {},
     "output_type": "execute_result"
    }
   ],
   "source": [
    "results = []\n",
    "print set(upc_dict.keys()).difference(set(bsc_dict.keys())), 'are in UPC, missing in BSC'\n",
    "print set(bsc_dict.keys()).difference(set(upc_dict.keys())), 'are in BSC, missing in UPC'\n",
    "common_sq = set(bsc_dict.keys()).intersection(set(upc_dict.keys()))\n",
    "print len(common_sq), 'in common'\n",
    "\n",
    "for each in common_sq:\n",
    "    row = []\n",
    "    row.append(len(upc_dict[each]))\n",
    "    row.append(len(bsc_dict[each]))\n",
    "    row.append(len(set(upc_dict[each]).difference(set(bsc_dict[each]))))\n",
    "    row.append(len(set(bsc_dict[each]).difference(set(upc_dict[each]))))\n",
    "    row.append(len(upc_dict[each]) - len(bsc_dict[each]))\n",
    "    results.append(row)\n",
    "pd.DataFrame(results, index=common_sq, columns=['UPCnet', 'BSC', 'upc.diff(bsc)', 'bsc.diff(upc)', 'UPCnet - BSC (raw diff in numbers)'])"
   ]
  },
  {
   "cell_type": "code",
   "execution_count": null,
   "metadata": {
    "collapsed": true
   },
   "outputs": [],
   "source": []
  }
 ],
 "metadata": {
  "kernelspec": {
   "display_name": "Python 2",
   "language": "python",
   "name": "python2"
  },
  "language_info": {
   "codemirror_mode": {
    "name": "ipython",
    "version": 2
   },
   "file_extension": ".py",
   "mimetype": "text/x-python",
   "name": "python",
   "nbconvert_exporter": "python",
   "pygments_lexer": "ipython2",
   "version": "2.7.11+"
  }
 },
 "nbformat": 4,
 "nbformat_minor": 1
}
