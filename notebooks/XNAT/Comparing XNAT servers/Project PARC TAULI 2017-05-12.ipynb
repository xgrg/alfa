{
 "cells": [
  {
   "cell_type": "markdown",
   "metadata": {},
   "source": [
    "# Comparisons for PARC TAULI (2017-05-10)"
   ]
  },
  {
   "cell_type": "code",
   "execution_count": 9,
   "metadata": {
    "collapsed": false
   },
   "outputs": [],
   "source": [
    "# After running find . > $file on both archives (BSC and UPCnet)\n",
    "upcnet = open('/tmp/xnat_stats/PARC_TAULI_upcnet_20170512.txt').readlines()\n",
    "bsc = open('/tmp/xnat_stats/PARC_TAULI_bsc_20170512.txt').readlines()"
   ]
  },
  {
   "cell_type": "code",
   "execution_count": 10,
   "metadata": {
    "collapsed": true
   },
   "outputs": [],
   "source": [
    "from glob import glob\n",
    "import pandas as pd\n",
    "import os.path as osp\n",
    "upc_dcm = [(e.split('/')[-3], osp.basename(e)[:-1]) for e in upcnet if e.endswith('.dcm\\n')]\n",
    "bsc_dcm = [(e.split('/')[-3], osp.basename(e)[:-1]) for e in bsc if e.endswith('.dcm\\n')]"
   ]
  },
  {
   "cell_type": "markdown",
   "metadata": {},
   "source": [
    "### Display the first identified DICOM files"
   ]
  },
  {
   "cell_type": "code",
   "execution_count": 11,
   "metadata": {
    "collapsed": false
   },
   "outputs": [
    {
     "name": "stdout",
     "output_type": "stream",
     "text": [
      "[('1001', '1.3.46.670589.11.78036.5.0.608.2017020211145378006-1001-305-aa7j9k.dcm'), ('1001', '1.3.46.670589.11.78036.5.0.608.2017020211145378006-1001-3-aao4yw.dcm'), ('1001', '1.3.46.670589.11.78036.5.0.608.2017020211145378006-1001-251-a93aci.dcm'), ('1001', '1.3.46.670589.11.78036.5.0.608.2017020211145378006-1001-367-ab9v7q.dcm'), ('1001', '1.3.46.670589.11.78036.5.0.608.2017020211145378006-1001-227-a93xc4.dcm'), ('1001', '1.3.46.670589.11.78036.5.0.608.2017020211145378006-1001-322-ab8l7s.dcm'), ('1001', '1.3.46.670589.11.78036.5.0.608.2017020211145378006-1001-28-ab987h.dcm'), ('1001', '1.3.46.670589.11.78036.5.0.608.2017020211145378006-1001-162-acvzta.dcm'), ('1001', '1.3.46.670589.11.78036.5.0.608.2017020211145378006-1001-374-abqgy5.dcm'), ('1001', '1.3.46.670589.11.78036.5.0.608.2017020211145378006-1001-394-abvkyj.dcm')] [('201', '1.3.46.670589.11.78036.5.0.2260.2017021809035732002-201-1-p7rwq4.dcm'), ('501', '1.3.46.670589.11.78036.5.0.2260.2017021809035732002-501-212-w5mism.dcm'), ('501', '1.3.46.670589.11.78036.5.0.2260.2017021809035732002-501-163-v6gy4a.dcm'), ('501', '1.3.46.670589.11.78036.5.0.2260.2017021809035732002-501-147-vmfmd6.dcm'), ('501', '1.3.46.670589.11.78036.5.0.2260.2017021809035732002-501-240-x5d614.dcm'), ('501', '1.3.46.670589.11.78036.5.0.2260.2017021809035732002-501-110-w7btk5.dcm'), ('501', '1.3.46.670589.11.78036.5.0.2260.2017021809035732002-501-83-x2m6j9.dcm'), ('501', '1.3.46.670589.11.78036.5.0.2260.2017021809035732002-501-138-vp9stb.dcm'), ('501', '1.3.46.670589.11.78036.5.0.2260.2017021809035732002-501-55-vlydpu.dcm'), ('501', '1.3.46.670589.11.78036.5.0.2260.2017021809035732002-501-105-wkjit3.dcm')]\n"
     ]
    }
   ],
   "source": [
    "print upc_dcm[:10], bsc_dcm[:10]"
   ]
  },
  {
   "cell_type": "markdown",
   "metadata": {},
   "source": [
    "### Numbers of existing DICOM files on both sides:"
   ]
  },
  {
   "cell_type": "code",
   "execution_count": 12,
   "metadata": {
    "collapsed": false
   },
   "outputs": [
    {
     "name": "stdout",
     "output_type": "stream",
     "text": [
      "upc: 138960 bsc: 138960\n"
     ]
    }
   ],
   "source": [
    "print 'upc:', len(upc_dcm), 'bsc:', len(bsc_dcm)"
   ]
  },
  {
   "cell_type": "markdown",
   "metadata": {},
   "source": [
    "Numbers of non-dicom items:"
   ]
  },
  {
   "cell_type": "code",
   "execution_count": 13,
   "metadata": {
    "collapsed": false
   },
   "outputs": [
    {
     "name": "stdout",
     "output_type": "stream",
     "text": [
      "upc: 337 bsc: 573\n"
     ]
    }
   ],
   "source": [
    "nondcm_upcnet = [e for e in upcnet if not '.dcm' in e]\n",
    "nondcm_bsc = [e for e in bsc if not '.dcm' in e]\n",
    "print 'upc:', len(nondcm_upcnet), 'bsc:', len(nondcm_bsc)"
   ]
  },
  {
   "cell_type": "markdown",
   "metadata": {},
   "source": [
    "Dictionaries by sequences:"
   ]
  },
  {
   "cell_type": "code",
   "execution_count": 14,
   "metadata": {
    "collapsed": false
   },
   "outputs": [],
   "source": [
    "# Creating dictionaries\n",
    "upc_dict = {}\n",
    "bsc_dict = {}\n",
    "\n",
    "for seq, dcmfile in upc_dcm:\n",
    "    upc_dict.setdefault(seq, []).append(dcmfile)\n",
    "for seq, dcmfile in bsc_dcm:\n",
    "    bsc_dict.setdefault(seq, []).append(dcmfile)"
   ]
  },
  {
   "cell_type": "markdown",
   "metadata": {},
   "source": [
    "## Matching files between servers for every sequence:"
   ]
  },
  {
   "cell_type": "markdown",
   "metadata": {},
   "source": [
    "The good thing is that it appears that all files from BSC find their match on UPCnet.\n",
    "\n",
    "Yet the opposite is not true."
   ]
  },
  {
   "cell_type": "code",
   "execution_count": 15,
   "metadata": {
    "collapsed": false
   },
   "outputs": [
    {
     "name": "stdout",
     "output_type": "stream",
     "text": [
      "set([]) are in UPC, missing in BSC\n",
      "set([]) are in BSC, missing in UPC\n",
      "28 in common\n"
     ]
    },
    {
     "data": {
      "text/html": [
       "<div>\n",
       "<table border=\"1\" class=\"dataframe\">\n",
       "  <thead>\n",
       "    <tr style=\"text-align: right;\">\n",
       "      <th></th>\n",
       "      <th>UPCnet</th>\n",
       "      <th>BSC</th>\n",
       "      <th>upc.diff(bsc)</th>\n",
       "      <th>bsc.diff(upc)</th>\n",
       "      <th>UPCnet - BSC (raw diff in numbers)</th>\n",
       "    </tr>\n",
       "  </thead>\n",
       "  <tbody>\n",
       "    <tr>\n",
       "      <th>601</th>\n",
       "      <td>27784</td>\n",
       "      <td>27784</td>\n",
       "      <td>0</td>\n",
       "      <td>0</td>\n",
       "      <td>0</td>\n",
       "    </tr>\n",
       "    <tr>\n",
       "      <th>603</th>\n",
       "      <td>80</td>\n",
       "      <td>80</td>\n",
       "      <td>0</td>\n",
       "      <td>0</td>\n",
       "      <td>0</td>\n",
       "    </tr>\n",
       "    <tr>\n",
       "      <th>602</th>\n",
       "      <td>94</td>\n",
       "      <td>94</td>\n",
       "      <td>0</td>\n",
       "      <td>0</td>\n",
       "      <td>0</td>\n",
       "    </tr>\n",
       "    <tr>\n",
       "      <th>1201</th>\n",
       "      <td>1027</td>\n",
       "      <td>1027</td>\n",
       "      <td>0</td>\n",
       "      <td>0</td>\n",
       "      <td>0</td>\n",
       "    </tr>\n",
       "    <tr>\n",
       "      <th>701</th>\n",
       "      <td>20801</td>\n",
       "      <td>20801</td>\n",
       "      <td>0</td>\n",
       "      <td>0</td>\n",
       "      <td>0</td>\n",
       "    </tr>\n",
       "    <tr>\n",
       "      <th>0</th>\n",
       "      <td>15</td>\n",
       "      <td>15</td>\n",
       "      <td>0</td>\n",
       "      <td>0</td>\n",
       "      <td>0</td>\n",
       "    </tr>\n",
       "    <tr>\n",
       "      <th>405</th>\n",
       "      <td>80</td>\n",
       "      <td>80</td>\n",
       "      <td>0</td>\n",
       "      <td>0</td>\n",
       "      <td>0</td>\n",
       "    </tr>\n",
       "    <tr>\n",
       "      <th>404</th>\n",
       "      <td>98</td>\n",
       "      <td>98</td>\n",
       "      <td>0</td>\n",
       "      <td>0</td>\n",
       "      <td>0</td>\n",
       "    </tr>\n",
       "    <tr>\n",
       "      <th>403</th>\n",
       "      <td>258</td>\n",
       "      <td>258</td>\n",
       "      <td>0</td>\n",
       "      <td>0</td>\n",
       "      <td>0</td>\n",
       "    </tr>\n",
       "    <tr>\n",
       "      <th>402</th>\n",
       "      <td>272</td>\n",
       "      <td>272</td>\n",
       "      <td>0</td>\n",
       "      <td>0</td>\n",
       "      <td>0</td>\n",
       "    </tr>\n",
       "    <tr>\n",
       "      <th>401</th>\n",
       "      <td>1195</td>\n",
       "      <td>1195</td>\n",
       "      <td>0</td>\n",
       "      <td>0</td>\n",
       "      <td>0</td>\n",
       "    </tr>\n",
       "    <tr>\n",
       "      <th>502</th>\n",
       "      <td>94</td>\n",
       "      <td>94</td>\n",
       "      <td>0</td>\n",
       "      <td>0</td>\n",
       "      <td>0</td>\n",
       "    </tr>\n",
       "    <tr>\n",
       "      <th>503</th>\n",
       "      <td>80</td>\n",
       "      <td>80</td>\n",
       "      <td>0</td>\n",
       "      <td>0</td>\n",
       "      <td>0</td>\n",
       "    </tr>\n",
       "    <tr>\n",
       "      <th>501</th>\n",
       "      <td>19197</td>\n",
       "      <td>19197</td>\n",
       "      <td>0</td>\n",
       "      <td>0</td>\n",
       "      <td>0</td>\n",
       "    </tr>\n",
       "    <tr>\n",
       "      <th>201</th>\n",
       "      <td>5</td>\n",
       "      <td>5</td>\n",
       "      <td>0</td>\n",
       "      <td>0</td>\n",
       "      <td>0</td>\n",
       "    </tr>\n",
       "    <tr>\n",
       "      <th>202</th>\n",
       "      <td>5</td>\n",
       "      <td>5</td>\n",
       "      <td>0</td>\n",
       "      <td>0</td>\n",
       "      <td>0</td>\n",
       "    </tr>\n",
       "    <tr>\n",
       "      <th>301</th>\n",
       "      <td>2005</td>\n",
       "      <td>2005</td>\n",
       "      <td>0</td>\n",
       "      <td>0</td>\n",
       "      <td>0</td>\n",
       "    </tr>\n",
       "    <tr>\n",
       "      <th>102</th>\n",
       "      <td>15</td>\n",
       "      <td>15</td>\n",
       "      <td>0</td>\n",
       "      <td>0</td>\n",
       "      <td>0</td>\n",
       "    </tr>\n",
       "    <tr>\n",
       "      <th>103</th>\n",
       "      <td>275</td>\n",
       "      <td>275</td>\n",
       "      <td>0</td>\n",
       "      <td>0</td>\n",
       "      <td>0</td>\n",
       "    </tr>\n",
       "    <tr>\n",
       "      <th>101</th>\n",
       "      <td>505</td>\n",
       "      <td>505</td>\n",
       "      <td>0</td>\n",
       "      <td>0</td>\n",
       "      <td>0</td>\n",
       "    </tr>\n",
       "    <tr>\n",
       "      <th>902</th>\n",
       "      <td>3</td>\n",
       "      <td>3</td>\n",
       "      <td>0</td>\n",
       "      <td>0</td>\n",
       "      <td>0</td>\n",
       "    </tr>\n",
       "    <tr>\n",
       "      <th>903</th>\n",
       "      <td>55</td>\n",
       "      <td>55</td>\n",
       "      <td>0</td>\n",
       "      <td>0</td>\n",
       "      <td>0</td>\n",
       "    </tr>\n",
       "    <tr>\n",
       "      <th>901</th>\n",
       "      <td>235</td>\n",
       "      <td>235</td>\n",
       "      <td>0</td>\n",
       "      <td>0</td>\n",
       "      <td>0</td>\n",
       "    </tr>\n",
       "    <tr>\n",
       "      <th>1102</th>\n",
       "      <td>98</td>\n",
       "      <td>98</td>\n",
       "      <td>0</td>\n",
       "      <td>0</td>\n",
       "      <td>0</td>\n",
       "    </tr>\n",
       "    <tr>\n",
       "      <th>1103</th>\n",
       "      <td>80</td>\n",
       "      <td>80</td>\n",
       "      <td>0</td>\n",
       "      <td>0</td>\n",
       "      <td>0</td>\n",
       "    </tr>\n",
       "    <tr>\n",
       "      <th>1101</th>\n",
       "      <td>9195</td>\n",
       "      <td>9195</td>\n",
       "      <td>0</td>\n",
       "      <td>0</td>\n",
       "      <td>0</td>\n",
       "    </tr>\n",
       "    <tr>\n",
       "      <th>801</th>\n",
       "      <td>50650</td>\n",
       "      <td>50650</td>\n",
       "      <td>0</td>\n",
       "      <td>0</td>\n",
       "      <td>0</td>\n",
       "    </tr>\n",
       "    <tr>\n",
       "      <th>1001</th>\n",
       "      <td>4759</td>\n",
       "      <td>4759</td>\n",
       "      <td>0</td>\n",
       "      <td>0</td>\n",
       "      <td>0</td>\n",
       "    </tr>\n",
       "  </tbody>\n",
       "</table>\n",
       "</div>"
      ],
      "text/plain": [
       "      UPCnet    BSC  upc.diff(bsc)  bsc.diff(upc)  \\\n",
       "601    27784  27784              0              0   \n",
       "603       80     80              0              0   \n",
       "602       94     94              0              0   \n",
       "1201    1027   1027              0              0   \n",
       "701    20801  20801              0              0   \n",
       "0         15     15              0              0   \n",
       "405       80     80              0              0   \n",
       "404       98     98              0              0   \n",
       "403      258    258              0              0   \n",
       "402      272    272              0              0   \n",
       "401     1195   1195              0              0   \n",
       "502       94     94              0              0   \n",
       "503       80     80              0              0   \n",
       "501    19197  19197              0              0   \n",
       "201        5      5              0              0   \n",
       "202        5      5              0              0   \n",
       "301     2005   2005              0              0   \n",
       "102       15     15              0              0   \n",
       "103      275    275              0              0   \n",
       "101      505    505              0              0   \n",
       "902        3      3              0              0   \n",
       "903       55     55              0              0   \n",
       "901      235    235              0              0   \n",
       "1102      98     98              0              0   \n",
       "1103      80     80              0              0   \n",
       "1101    9195   9195              0              0   \n",
       "801    50650  50650              0              0   \n",
       "1001    4759   4759              0              0   \n",
       "\n",
       "      UPCnet - BSC (raw diff in numbers)  \n",
       "601                                    0  \n",
       "603                                    0  \n",
       "602                                    0  \n",
       "1201                                   0  \n",
       "701                                    0  \n",
       "0                                      0  \n",
       "405                                    0  \n",
       "404                                    0  \n",
       "403                                    0  \n",
       "402                                    0  \n",
       "401                                    0  \n",
       "502                                    0  \n",
       "503                                    0  \n",
       "501                                    0  \n",
       "201                                    0  \n",
       "202                                    0  \n",
       "301                                    0  \n",
       "102                                    0  \n",
       "103                                    0  \n",
       "101                                    0  \n",
       "902                                    0  \n",
       "903                                    0  \n",
       "901                                    0  \n",
       "1102                                   0  \n",
       "1103                                   0  \n",
       "1101                                   0  \n",
       "801                                    0  \n",
       "1001                                   0  "
      ]
     },
     "execution_count": 15,
     "metadata": {},
     "output_type": "execute_result"
    }
   ],
   "source": [
    "results = []\n",
    "print set(upc_dict.keys()).difference(set(bsc_dict.keys())), 'are in UPC, missing in BSC'\n",
    "print set(bsc_dict.keys()).difference(set(upc_dict.keys())), 'are in BSC, missing in UPC'\n",
    "common_sq = set(bsc_dict.keys()).intersection(set(upc_dict.keys()))\n",
    "print len(common_sq), 'in common'\n",
    "\n",
    "for each in common_sq:\n",
    "    row = []\n",
    "    row.append(len(upc_dict[each]))\n",
    "    row.append(len(bsc_dict[each]))\n",
    "    row.append(len(set(upc_dict[each]).difference(set(bsc_dict[each]))))\n",
    "    row.append(len(set(bsc_dict[each]).difference(set(upc_dict[each]))))\n",
    "    row.append(len(upc_dict[each]) - len(bsc_dict[each]))\n",
    "    results.append(row)\n",
    "pd.DataFrame(results, index=common_sq, columns=['UPCnet', 'BSC', 'upc.diff(bsc)', 'bsc.diff(upc)', 'UPCnet - BSC (raw diff in numbers)'])"
   ]
  },
  {
   "cell_type": "code",
   "execution_count": null,
   "metadata": {
    "collapsed": true
   },
   "outputs": [],
   "source": []
  }
 ],
 "metadata": {
  "kernelspec": {
   "display_name": "Python 2",
   "language": "python",
   "name": "python2"
  },
  "language_info": {
   "codemirror_mode": {
    "name": "ipython",
    "version": 2
   },
   "file_extension": ".py",
   "mimetype": "text/x-python",
   "name": "python",
   "nbconvert_exporter": "python",
   "pygments_lexer": "ipython2",
   "version": "2.7.11+"
  }
 },
 "nbformat": 4,
 "nbformat_minor": 1
}
