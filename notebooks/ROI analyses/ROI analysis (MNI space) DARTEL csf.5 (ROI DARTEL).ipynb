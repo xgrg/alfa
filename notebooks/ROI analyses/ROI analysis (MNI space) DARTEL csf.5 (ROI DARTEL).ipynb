{
 "cells": [
  {
   "cell_type": "markdown",
   "metadata": {},
   "source": [
    "This plots ROI values extracted from images that have been normalized using DARTEL, \n",
    "but the values have been extracted from ROI derived from a prior analysis done using images normalized using DARTEL."
   ]
  },
  {
   "cell_type": "code",
   "execution_count": 3,
   "metadata": {
    "collapsed": false
   },
   "outputs": [],
   "source": [
    "%run /home/grg/git/alfa/nilearn-helper.py\n",
    "%matplotlib inline"
   ]
  },
  {
   "cell_type": "code",
   "execution_count": 30,
   "metadata": {
    "collapsed": false
   },
   "outputs": [],
   "source": [
    "spmdir = '/home/grg/spm/'\n",
    "subjects = json.load(open(osp.join(spmdir, 'data', 'subjects_dartel2.json')))\n",
    "subjects = [string.atoi(osp.split(e)[-1].split('_')[0]) for e in glob('/home/grg/spm/ROIapoE/ROI_DARTEL/roivalues_csf.5/*.csv')]\n"
   ]
  },
  {
   "cell_type": "code",
   "execution_count": 31,
   "metadata": {
    "collapsed": false
   },
   "outputs": [],
   "source": [
    "def getdict(data, key, column, column2=None, value=None):\n",
    "    import string\n",
    "    if not value is None:\n",
    "        data = data[data[column2] == value]\n",
    "        \n",
    "    d1 = dict([(string.atoi(str(int(e))), v) for e, v in data[[key, column]].to_dict(orient='split')['data']])\n",
    "    return d1\n",
    "\n",
    "fsvol_fp = osp.join(spmdir, 'data', 'aseg FS ALFA.xlsx')\n",
    "vvol = pd.read_excel(fsvol_fp)    \n",
    "d = getdict(vvol, 'subject', 'Volume_mm3', 'StructName', 'Right-Lateral-Ventricle')"
   ]
  },
  {
   "cell_type": "code",
   "execution_count": 32,
   "metadata": {
    "collapsed": false
   },
   "outputs": [
    {
     "name": "stdout",
     "output_type": "stream",
     "text": [
      "Hippocampus_L 37\n"
     ]
    },
    {
     "data": {
      "text/html": [
       "<div>\n",
       "<table border=\"1\" class=\"dataframe\">\n",
       "  <thead>\n",
       "    <tr style=\"text-align: right;\">\n",
       "      <th></th>\n",
       "      <th>apo</th>\n",
       "      <th>age</th>\n",
       "      <th>gender</th>\n",
       "      <th>educyears</th>\n",
       "      <th>ventricles</th>\n",
       "    </tr>\n",
       "  </thead>\n",
       "  <tbody>\n",
       "    <tr>\n",
       "      <th>44229</th>\n",
       "      <td>4</td>\n",
       "      <td>53.117043</td>\n",
       "      <td>0</td>\n",
       "      <td>10</td>\n",
       "      <td>9.732561</td>\n",
       "    </tr>\n",
       "    <tr>\n",
       "      <th>10367</th>\n",
       "      <td>4</td>\n",
       "      <td>53.946612</td>\n",
       "      <td>1</td>\n",
       "      <td>8</td>\n",
       "      <td>10.993070</td>\n",
       "    </tr>\n",
       "    <tr>\n",
       "      <th>55636</th>\n",
       "      <td>1</td>\n",
       "      <td>53.675565</td>\n",
       "      <td>0</td>\n",
       "      <td>8</td>\n",
       "      <td>10.719495</td>\n",
       "    </tr>\n",
       "    <tr>\n",
       "      <th>21073</th>\n",
       "      <td>2</td>\n",
       "      <td>70.902122</td>\n",
       "      <td>1</td>\n",
       "      <td>12</td>\n",
       "      <td>14.828451</td>\n",
       "    </tr>\n",
       "    <tr>\n",
       "      <th>12711</th>\n",
       "      <td>4</td>\n",
       "      <td>53.210130</td>\n",
       "      <td>1</td>\n",
       "      <td>15</td>\n",
       "      <td>7.929412</td>\n",
       "    </tr>\n",
       "  </tbody>\n",
       "</table>\n",
       "</div>"
      ],
      "text/plain": [
       "       apo        age  gender  educyears  ventricles\n",
       "44229    4  53.117043       0         10    9.732561\n",
       "10367    4  53.946612       1          8   10.993070\n",
       "55636    1  53.675565       0          8   10.719495\n",
       "21073    2  70.902122       1         12   14.828451\n",
       "12711    4  53.210130       1         15    7.929412"
      ]
     },
     "execution_count": 32,
     "metadata": {},
     "output_type": "execute_result"
    }
   ],
   "source": [
    "# From AAL V4, load labels - names translation table\n",
    "labels_fp = '/home/grg/data/templates/MNI_atlas_templates/aal_MNI_V4.txt'\n",
    "df = pd.read_csv(labels_fp, sep='\\t', skiprows=0)\n",
    "labels = {}\n",
    "for i in range(1,117):\n",
    "    labels[i] = json.loads(df.to_json()).items()[0][1][str(i)]\n",
    "\n",
    "roiname = 'Hippocampus_L'\n",
    "roilabel = [k for k,v in labels.items() if v == roiname][0]\n",
    "print roiname, roilabel\n",
    "\n",
    "def collect_data(verbose=False):\n",
    "    \n",
    "    # Loading json data etc..\n",
    "    spmdir = '/home/grg/spm/'\n",
    "\n",
    "    # Reading main tables with metadata\n",
    "    demo_fp = osp.join(spmdir, 'data', 'Data_VBM_Alfa.csv')\n",
    "    subj_fp= osp.join(spmdir, 'data', 'subjects_dartel2.json')\n",
    "    gend_fp= osp.join(spmdir, 'data', 'genders.json')\n",
    "    grp_fp= osp.join(spmdir, 'data', 'apoe_groups.json')\n",
    "    educ_fp = osp.join(spmdir, 'data', 'educyears.json')\n",
    "    tiv_fp = osp.join(spmdir, 'data', 'tiv.json')\n",
    "    fsvol_fp = osp.join(spmdir, 'data', 'aseg FS ALFA.xlsx')\n",
    "    ages_fp = osp.join(spmdir, 'data', 'age.json') # contains ages in days\n",
    "\n",
    "    demo = pd.read_csv(demo_fp)\n",
    "    subjects = json.load(open(subj_fp))\n",
    "    subjects = [string.atoi(osp.split(e)[-1].split('_')[0]) for e in glob('/home/grg/spm/ROIapoE/ROI_DARTEL/roivalues_csf.5/*.csv')]\n",
    "\n",
    "    # Sorting out groups\n",
    "    groups = json.load(open(grp_fp))\n",
    "    ages = json.load(open(ages_fp))\n",
    "    genders = json.load(open(gend_fp))\n",
    "    educyears = json.load(open(educ_fp))\n",
    "    tivs = json.load(open(tiv_fp))\n",
    "    vvol = pd.read_excel(fsvol_fp)    \n",
    "    \n",
    "    # FreeSurfer Volumes\n",
    "    vvol_l = getdict(vvol, 'subject', 'Volume_mm3', 'StructName', 'Left-Lateral-Ventricle')\n",
    "    vvol_r = getdict(vvol, 'subject', 'Volume_mm3', 'StructName', 'Right-Lateral-Ventricle')\n",
    "    vvol_li = getdict(vvol, 'subject', 'Volume_mm3', 'StructName','Left-Inf-Lat-Vent')\n",
    "    vvol_ri = getdict(vvol, 'subject', 'Volume_mm3', 'StructName','Right-Inf-Lat-Vent')\n",
    "    vvol_3 = getdict(vvol, 'subject', 'Volume_mm3', 'StructName','3rd-Ventricle')\n",
    "    vvol_4 = getdict(vvol, 'subject', 'Volume_mm3', 'StructName', '4th-Ventricle')    \n",
    "    \n",
    "    # Building dataframe\n",
    "    data = []\n",
    "    subj = []\n",
    "    for s in subjects:    \n",
    "        if verbose: print s\n",
    "        group_nb = groups[str(s)]\n",
    "        row = []\n",
    "        try:\n",
    "            fsvol_l = (vvol_l[s] + vvol_li[s]) / tivs[str(s)]\n",
    "            fsvol_r = (vvol_r[s] + vvol_ri[s]) / tivs[str(s)]\n",
    "            fsvol = fsvol_l + fsvol_r\n",
    "            age = ages[str(s)]\n",
    "            row.append(group_nb)\n",
    "            row.extend([age/365.25, genders[str(s)], educyears[str(s)], fsvol])            \n",
    "            subj.append(s)\n",
    "            data.append(row)\n",
    "        except KeyError as e:\n",
    "            print e\n",
    "        except IndexError as e:\n",
    "            print e\n",
    "            print 'removed', s\n",
    "            \n",
    "    columns=['apo', 'age', 'gender', 'educyears', 'ventricles']\n",
    "    return pd.DataFrame(data, index=subj, columns=columns)\n",
    "\n",
    "data = collect_data()\n",
    "#data.to_excel('/tmp/covariates.xls')\n",
    "data.head()"
   ]
  },
  {
   "cell_type": "code",
   "execution_count": 33,
   "metadata": {
    "collapsed": true
   },
   "outputs": [],
   "source": [
    "def collect_roivalues(roilabel, verbose=False):\n",
    "    ''' This collect the values from *_AAL_MD_stats.csv files, that is \n",
    "    MD mean values in every subject's NATIVE space.\n",
    "    '''\n",
    "    import string\n",
    "    subjects  = json.load(open('/home/grg/spm/data/subjects.json'))\n",
    "    #subjects = [string.atoi(osp.split(e)[-1].split('_')[0]) for e in glob('/home/grg/spm/ROIapoE/ROI_DARTEL/roivalues_csf.5/*.csv')]\n",
    "    subjects = [string.atoi(osp.split(e)[-1].split('_')[0]) for e in glob('/home/grg/spm/ROIapoE/ROI_DARTEL/roivalues_csf.5/*.csv')]\n",
    "\n",
    "    data_wd = '/home/grg/data/ALFA_DWI'\n",
    "    \n",
    "    data = []\n",
    "    subj = []\n",
    "    \n",
    "    for s in subjects:    \n",
    "        fp = '/tmp/roivalues_csf.5/%s_stats.csv'%s\n",
    "        if verbose:\n",
    "            print s, fp\n",
    "        df = pd.read_csv(fp, sep='\\t').set_index('ROI_label')   \n",
    "        try:\n",
    "            data.append(df.ix[roilabel]['mean'])            \n",
    "            subj.append(s)            \n",
    "        except KeyError as e:\n",
    "            print 'KeyError: skipped subject', s, 'label', e\n",
    "        except IndexError as e:\n",
    "            print 'IndexError: skipped subject', s, 'label', e\n",
    "    return pd.DataFrame(data, index=subj, columns=['roi'])"
   ]
  },
  {
   "cell_type": "code",
   "execution_count": 9,
   "metadata": {
    "collapsed": false
   },
   "outputs": [
    {
     "data": {
      "text/html": [
       "<div>\n",
       "<table border=\"1\" class=\"dataframe\">\n",
       "  <thead>\n",
       "    <tr style=\"text-align: right;\">\n",
       "      <th></th>\n",
       "      <th>apo</th>\n",
       "      <th>age</th>\n",
       "      <th>gender</th>\n",
       "      <th>educyears</th>\n",
       "      <th>ventricles</th>\n",
       "      <th>subject</th>\n",
       "    </tr>\n",
       "  </thead>\n",
       "  <tbody>\n",
       "    <tr>\n",
       "      <th>10070</th>\n",
       "      <td>0</td>\n",
       "      <td>50.781656</td>\n",
       "      <td>0</td>\n",
       "      <td>10</td>\n",
       "      <td>4.520876</td>\n",
       "      <td>10070</td>\n",
       "    </tr>\n",
       "    <tr>\n",
       "      <th>10102</th>\n",
       "      <td>0</td>\n",
       "      <td>64.065708</td>\n",
       "      <td>1</td>\n",
       "      <td>18</td>\n",
       "      <td>16.507219</td>\n",
       "      <td>10102</td>\n",
       "    </tr>\n",
       "    <tr>\n",
       "      <th>10108</th>\n",
       "      <td>0</td>\n",
       "      <td>58.683094</td>\n",
       "      <td>0</td>\n",
       "      <td>15</td>\n",
       "      <td>10.421616</td>\n",
       "      <td>10108</td>\n",
       "    </tr>\n",
       "    <tr>\n",
       "      <th>10235</th>\n",
       "      <td>0</td>\n",
       "      <td>61.245722</td>\n",
       "      <td>0</td>\n",
       "      <td>8</td>\n",
       "      <td>7.564201</td>\n",
       "      <td>10235</td>\n",
       "    </tr>\n",
       "    <tr>\n",
       "      <th>10365</th>\n",
       "      <td>0</td>\n",
       "      <td>48.720055</td>\n",
       "      <td>0</td>\n",
       "      <td>12</td>\n",
       "      <td>7.770477</td>\n",
       "      <td>10365</td>\n",
       "    </tr>\n",
       "  </tbody>\n",
       "</table>\n",
       "</div>"
      ],
      "text/plain": [
       "       apo        age  gender  educyears  ventricles  subject\n",
       "10070    0  50.781656       0         10    4.520876    10070\n",
       "10102    0  64.065708       1         18   16.507219    10102\n",
       "10108    0  58.683094       0         15   10.421616    10108\n",
       "10235    0  61.245722       0          8    7.564201    10235\n",
       "10365    0  48.720055       0         12    7.770477    10365"
      ]
     },
     "execution_count": 9,
     "metadata": {},
     "output_type": "execute_result"
    }
   ],
   "source": [
    "def correct(df):\n",
    "    model = 'roi ~ 1 + C(apo) + gender + educyears + ventricles'\n",
    "    test_scores = ols(model, data=df).fit()\n",
    "    \n",
    "    err = test_scores.predict(df) - df['roi']\n",
    "    ycorr = np.mean(df['roi']) - err   \n",
    "    \n",
    "    return ycorr\n",
    "\n",
    "# Loading, joining, dropping etc.\n",
    "data = pd.read_excel('/tmp/covariates.xls')\n",
    "#data = data.drop(data[data['ventricles']>30].index)\n",
    "data['subject'] = data.index\n",
    "data = data.sort_values(['apo', 'subject'])\n",
    "#roilabel = 1\n",
    "#roivalues = collect_roivalues(roilabel)\n",
    "#df = data.join(roivalues)\n",
    "#df['subject'] = df.index\n",
    "#df = df.sort_values(['apo', 'subject']).dropna()\n",
    "#df = df.drop(df[df['ventricles']>30].index)\n",
    "\n",
    "# Correcting data for covariates\n",
    "#ycorr = correct(df)\n",
    "#df = data.join(ycorr)\n",
    "#df['subject'] = df.index\n",
    "#df = df.sort_values(['apo', 'subject']).dropna()\n",
    "#df = df.drop(df[df['ventricles']>30].index)\n",
    "\n",
    "\n",
    "data.head()"
   ]
  },
  {
   "cell_type": "code",
   "execution_count": 27,
   "metadata": {
    "collapsed": false
   },
   "outputs": [
    {
     "ename": "NameError",
     "evalue": "name 'df' is not defined",
     "output_type": "error",
     "traceback": [
      "\u001b[0;31m---------------------------------------------------------------------------\u001b[0m",
      "\u001b[0;31mNameError\u001b[0m                                 Traceback (most recent call last)",
      "\u001b[0;32m<ipython-input-27-af98b4c33ed6>\u001b[0m in \u001b[0;36m<module>\u001b[0;34m()\u001b[0m\n\u001b[1;32m      3\u001b[0m \u001b[0;31m#test_scores = sm.OLS(np.asarray(df[y_name]), np.asarray(df[x_name])).fit()\u001b[0m\u001b[0;34m\u001b[0m\u001b[0;34m\u001b[0m\u001b[0m\n\u001b[1;32m      4\u001b[0m \u001b[0mmodel\u001b[0m \u001b[0;34m=\u001b[0m \u001b[0;34m'roi ~ 1 + C(apo) + age + gender + educyears + ventricles'\u001b[0m\u001b[0;34m\u001b[0m\u001b[0m\n\u001b[0;32m----> 5\u001b[0;31m \u001b[0mtest_scores\u001b[0m \u001b[0;34m=\u001b[0m \u001b[0mols\u001b[0m\u001b[0;34m(\u001b[0m\u001b[0mmodel\u001b[0m\u001b[0;34m,\u001b[0m \u001b[0mdata\u001b[0m\u001b[0;34m=\u001b[0m\u001b[0mdf\u001b[0m\u001b[0;34m)\u001b[0m\u001b[0;34m.\u001b[0m\u001b[0mfit\u001b[0m\u001b[0;34m(\u001b[0m\u001b[0;34m)\u001b[0m\u001b[0;34m\u001b[0m\u001b[0m\n\u001b[0m",
      "\u001b[0;31mNameError\u001b[0m: name 'df' is not defined"
     ]
    }
   ],
   "source": [
    "y_name = 'roi'\n",
    "x_name = ['apo', 'age', 'gender', 'educyears', 'ventricles']\n",
    "#test_scores = sm.OLS(np.asarray(df[y_name]), np.asarray(df[x_name])).fit()\n",
    "model = 'roi ~ 1 + C(apo) + age + gender + educyears + ventricles'\n",
    "test_scores = ols(model, data=df).fit()"
   ]
  },
  {
   "cell_type": "code",
   "execution_count": 34,
   "metadata": {
    "collapsed": true
   },
   "outputs": [],
   "source": [
    "import statsmodels.api as sm\n",
    "from statsmodels.formula.api import ols\n",
    "\n",
    "def set_figaxes(df):\n",
    "    plt.xlabel('age')\n",
    "    plt.ylabel('roi')\n",
    "    #plt.ylim([0.0005, 0.0010]) #df['roi'].max()])\n",
    "    plt.xlim([df['age'].min(), df['age'].max()])\n",
    "\n",
    "def plot_region(roiname, dataset, order=1, ax=None):\n",
    "    if ax == None:\n",
    "        fig = plt.figure(figsize=(6, 6))\n",
    "        set_figaxes(dataset)\n",
    "        ax = fig.add_subplot(111)\n",
    "\n",
    "    colors = ['b','r','g','m','y']\n",
    "    formulas = ['roi ~ 1 + age', \n",
    "                'roi ~ 1 + age + I(age**2)', \n",
    "                'roi ~ 1 + age + I(age**2) + I(age**3)']\n",
    "    print 'Region:', roiname, '- Fitting order:', order, '- Formula:', formulas[order-1]\n",
    "    \n",
    "    # take each group separately  \n",
    "    groups_names = ['apoe23', 'apoe24', 'apoe33', 'apoe34', 'apoe44']\n",
    "    groups1 = []\n",
    "    for i in xrange(5):\n",
    "        groups1.append(dataset[dataset['apo'] == i])\n",
    "    groups = []\n",
    "    groups_names = ['HO', 'All']\n",
    "    groups.append(pd.concat([groups1[i] for i in [4]]))\n",
    "    groups.append(pd.concat([groups1[i] for i in [0,1,2,3]]))\n",
    "        \n",
    "    for i, df in enumerate(groups):\n",
    "        ax.scatter(df['age'], df['roi'], edgecolors=colors[i], facecolors='none', \n",
    "                   label='%s'%groups_names[i].capitalize(), s=10, alpha=0.7)\n",
    "        x = pd.DataFrame({'age': np.linspace(df['age'].min(), df['age'].max(), 100)})\n",
    "        \n",
    "        poly = ols(formula=formulas[order-1], data=df).fit()\n",
    "        ypred = poly.predict(x)\n",
    "        #print np.std(ypred)\n",
    "        ax.plot(x['age'], ypred, colors[i]+'-', \n",
    "                label='%s n=%s $R^2$=%.2f $AIC$=%.2f $\\sigma$=%.3e' % (groups_names[i].capitalize(), order, poly.rsquared, poly.aic, np.std(ypred)), \n",
    "                alpha=1.0)\n",
    "\n",
    "    ax.legend(prop={'size':8})\n",
    "    ax.text(0.15, 0.95, roiname, horizontalalignment='center', verticalalignment='center', transform = ax.transAxes)\n",
    "    plt.title(roiname)\n"
   ]
  },
  {
   "cell_type": "code",
   "execution_count": 35,
   "metadata": {
    "collapsed": true
   },
   "outputs": [],
   "source": [
    "def plot_regions(data, regions, nb_orders=3):\n",
    "    nb_regions = len(regions)\n",
    "    fig = plt.figure(figsize=(8*nb_orders, 8*nb_regions), dpi=300, facecolor='white')\n",
    "    \n",
    "    for i, roilabel in enumerate(regions):\n",
    "        labels = ['left_occip', 'left_temporal', 'left_temporal2', 'right_perihorn', \n",
    "                  'left_occip2', 'left_perihorn', 'left_wm', 'right_occip', 'right_temporal', 'left_insula']\n",
    "        roiname = '%s'%labels[roilabel-1]\n",
    "        # 1-st order\n",
    "        ax = fig.add_subplot(nb_regions, nb_orders, nb_orders*i + 1)\n",
    "        roivalues = collect_roivalues(roilabel)\n",
    "        df = data.join(roivalues)\n",
    "        print np.std(df['roi'])\n",
    "        ycorr = pd.DataFrame(correct(df), columns=['roi'])\n",
    "        df = data.join(ycorr)\n",
    "        df['subject'] = df.index\n",
    "        df = df.sort_values(['apo', 'subject']).dropna()\n",
    "    \n",
    "        set_figaxes(df)\n",
    "        print np.std(df['roi'])\n",
    "        plot_region(roiname, df, order=1, ax=ax)\n",
    "\n",
    "#        # 2-nd order\n",
    "#        ax = fig.add_subplot(nb_regions, nb_orders, nb_orders*i + 2)\n",
    "#        roivalues = collect_roivalues(roilabel)\n",
    "#        df = data.join(roivalues)\n",
    "#        ycorr = pd.DataFrame(correct(df), columns=['roi'])\n",
    "#        df = data.join(ycorr)\n",
    "#        df['subject'] = df.index\n",
    "#        df = df.sort_values(['apo', 'subject']).dropna()\n",
    "    \n",
    "#        set_figaxes(df)\n",
    "#        plot_region(roiname, df, order=2, ax=ax)\n",
    "\n",
    "#        # 3-rd order\n",
    "#        ax = fig.add_subplot(nb_regions, nb_orders, nb_orders*i + 3)\n",
    "#        roivalues = collect_roivalues(roilabel)\n",
    "#        df = data.join(roivalues)\n",
    "#        ycorr = pd.DataFrame(correct(df), columns=['roi'])\n",
    "#        df = data.join(ycorr)\n",
    "#        df['subject'] = df.index\n",
    "#        df = df.sort_values(['apo', 'subject']).dropna()\n",
    "    \n",
    "#        set_figaxes(df)\n",
    "#        plot_region(roiname, df, order=3, ax=ax)\n",
    " "
   ]
  },
  {
   "cell_type": "markdown",
   "metadata": {},
   "source": [
    "This collect the values from \\*\\_stats.csv files, i.e. values that have been extracted from ROI manually drawn in MNI space.\n",
    "The bad thing with this is that the ROI is defined in a reference space. This is subject to individual registration errors."
   ]
  },
  {
   "cell_type": "code",
   "execution_count": 36,
   "metadata": {
    "collapsed": false,
    "scrolled": false
   },
   "outputs": [
    {
     "name": "stdout",
     "output_type": "stream",
     "text": [
      "0.000125657175895\n",
      "0.000123440471918\n",
      "Region: left_temporal2 - Fitting order: 1 - Formula: roi ~ 1 + age\n"
     ]
    },
    {
     "data": {
      "image/png": "[encoded data removed]",
      "text/plain": [
       "<matplotlib.figure.Figure at 0x7f99722f4510>"
      ]
     },
     "metadata": {},
     "output_type": "display_data"
    }
   ],
   "source": [
    "import seaborn\n",
    "regions = [3]\n",
    "plot_regions(data, regions)\n",
    "\n",
    "#plot_regions(data, [71,72])"
   ]
  },
  {
   "cell_type": "code",
   "execution_count": 28,
   "metadata": {
    "collapsed": false
   },
   "outputs": [],
   "source": [
    "import plotly\n",
    "#plotly.init_notebook_mode()\n",
    "\n",
    "def plotly_region(roilabel):\n",
    "    to_remove = [55166, 66159, 77068, 10182, 13059, 66019, 66264, 77024, 77263,\n",
    "            10846, 66026, 66039, 66131, 66368, 77027, 77047]\n",
    "    data = collect_data()\n",
    "    roivalues = collect_roivalues(roilabel)\n",
    "    #data = data[data['apo']==0]\n",
    "    df = data.join(roivalues)\n",
    "    df['subject'] = df.index\n",
    "    #df = df.drop(to_remove)\n",
    "    \n",
    "    \n",
    "    import plotly.plotly as py\n",
    "    import plotly.graph_objs as go\n",
    "\n",
    "    #data = [trace]\n",
    "\n",
    "    # Plot and embed in ipython notebook!\n",
    "    #\n",
    "\n",
    "    trace = go.Scatter(\n",
    "        x = df['age'],\n",
    "        y = df['roi'],\n",
    "\n",
    "        marker=dict(\n",
    "            size='4',\n",
    "            color = df['apo'], #set color equal to a variable\n",
    "            colorscale='Jet',\n",
    "            showscale=True),\n",
    "        text = df['subject'],\n",
    "        mode = 'markers'\n",
    "    )\n",
    "\n",
    "    data = [trace]\n",
    "\n",
    "    # Plot and embed in ipython notebook!\n",
    "    py.iplot(data)\n",
    "    # or plot with: plot_url = py.plot(data, filename='basic-line')"
   ]
  },
  {
   "cell_type": "code",
   "execution_count": 29,
   "metadata": {
    "collapsed": false
   },
   "outputs": [],
   "source": [
    "plotly_region(3)"
   ]
  }
 ],
 "metadata": {
  "kernelspec": {
   "display_name": "Python 2",
   "language": "python",
   "name": "python2"
  },
  "language_info": {
   "codemirror_mode": {
    "name": "ipython",
    "version": 2
   },
   "file_extension": ".py",
   "mimetype": "text/x-python",
   "name": "python",
   "nbconvert_exporter": "python",
   "pygments_lexer": "ipython2",
   "version": "2.7.11+"
  }
 },
 "nbformat": 4,
 "nbformat_minor": 1
}
