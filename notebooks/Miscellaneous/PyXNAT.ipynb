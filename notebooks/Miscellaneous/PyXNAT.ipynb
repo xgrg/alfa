{
 "cells": [
  {
   "cell_type": "code",
   "execution_count": 4,
   "metadata": {
    "collapsed": false
   },
   "outputs": [
    {
     "name": "stdout",
     "output_type": "stream",
     "text": [
      "[('testenv', (4, 7))]\n"
     ]
    }
   ],
   "source": [
    "from pyxnat import Interface\n",
    "config_file = '/home/grg/.xnat_ci.cfg'\n",
    "central = Interface(config=config_file, verify=False)\n",
    "projects = central.select.projects().get()\n",
    "\n",
    "sizes = {}\n",
    "for project in projects:\n",
    "    \n",
    "    p = central.select.project(project).subjects().get()\n",
    "    e = central.select.project(project).experiments().get()\n",
    "    sizes[project] = (len(p), len(e))\n",
    "    \n",
    "import operator \n",
    "sizes = sorted(sizes.items(), key=operator.itemgetter(1), reverse=True)\n",
    "print sizes\n",
    "\n",
    "import warnings\n",
    "warnings.filterwarnings('ignore')"
   ]
  },
  {
   "cell_type": "code",
   "execution_count": 5,
   "metadata": {
    "collapsed": false
   },
   "outputs": [],
   "source": [
    "from pyxnat import Interface\n",
    "config_file = '/home/grg/.xnat_ci.cfg'\n",
    "central = Interface(config=config_file, verify=False)\n",
    "projects = central.select.projects().get()\n",
    "\n",
    "project = 'testenv'\n",
    "\n",
    "# Collecting data from XNAT\n",
    "subjects = central.select.project(project).subjects()\n",
    "info = []\n",
    "for s in subjects:\n",
    "    try:\n",
    "        sid = s.get().split('xnat:dcmPatientId>')[1].split('</')[0]\n",
    "        sname = s.get().split('xnat:dcmPatientName>')[1].split('</')[0]\n",
    "        birthdate = s.get().split('xnat:dcmPatientBirthDate>')[1].split('</')[0]\n",
    "        scandate = s.get().split('xnat:date>')[1].split('</')[0]\n",
    "        info.append([sid, sname, birthdate, scandate])\n",
    "    except IndexError:\n",
    "        print s.label(), s.id(), 'error'\n",
    "  \n",
    "# Building DataFrame\n",
    "import pandas as pd\n",
    "df = pd.DataFrame(info, columns=('PatientId', 'PatientName', 'Birthdate', 'Scandate'))\n",
    "df = pd.DataFrame(info, index=df['PatientId'], columns=('PatientId', 'PatientName', 'Birthdate', 'Scandate'))\n",
    "df = df.sort_index()\n",
    "del df['PatientId']\n",
    "df.head()\n",
    "\n",
    "# Saving it in an Excel table\n",
    "ew = pd.ExcelWriter('/tmp/%s.xls'%project, encoding='utf-8')\n",
    "df.to_excel(ew)\n",
    "ew.save()"
   ]
  }
 ],
 "metadata": {
  "kernelspec": {
   "display_name": "Python 2",
   "language": "python",
   "name": "python2"
  },
  "language_info": {
   "codemirror_mode": {
    "name": "ipython",
    "version": 2
   },
   "file_extension": ".py",
   "mimetype": "text/x-python",
   "name": "python",
   "nbconvert_exporter": "python",
   "pygments_lexer": "ipython2",
   "version": "2.7.11+"
  }
 },
 "nbformat": 4,
 "nbformat_minor": 1
}
