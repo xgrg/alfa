{
 "cells": [
  {
   "cell_type": "code",
   "execution_count": 1,
   "metadata": {
    "collapsed": false,
    "slideshow": {
     "slide_type": "skip"
    }
   },
   "outputs": [
    {
     "name": "stderr",
     "output_type": "stream",
     "text": [
      "/home/grg/jupyter/local/lib/python2.7/site-packages/sklearn/cross_validation.py:44: DeprecationWarning: This module was deprecated in version 0.18 in favor of the model_selection module into which all the refactored classes and functions are moved. Also note that the interface of the new CV iterators are different from that of this module. This module will be removed in 0.20.\n",
      "  \"This module will be removed in 0.20.\", DeprecationWarning)\n"
     ]
    }
   ],
   "source": [
    "%matplotlib inline\n",
    "from glob import glob\n",
    "from soma import aims\n",
    "import pandas as pd\n",
    "import numpy as np\n",
    "from scipy import stats \n",
    "import os.path as osp\n",
    "from nilearn import plotting\n",
    "from IPython.display import display_html, display_jpeg, display"
   ]
  },
  {
   "cell_type": "code",
   "execution_count": 36,
   "metadata": {
    "collapsed": false,
    "slideshow": {
     "slide_type": "skip"
    }
   },
   "outputs": [],
   "source": [
    "\n"
   ]
  },
  {
   "cell_type": "markdown",
   "metadata": {
    "slideshow": {
     "slide_type": "slide"
    }
   },
   "source": [
    "Loading the data"
   ]
  },
  {
   "cell_type": "code",
   "execution_count": 2,
   "metadata": {
    "collapsed": false,
    "slideshow": {
     "slide_type": "fragment"
    }
   },
   "outputs": [],
   "source": [
    "datadir = '/home/grg/upf'\n",
    "controls = sorted(glob(osp.join(datadir, 'Data/Control/s12*.nii')))\n",
    "diazepam = sorted(glob(osp.join(datadir, 'Data/Diazepam/s12*.nii')))\n",
    "rois = glob(osp.join(datadir, 'Data/ROI/*.nii'))\n",
    "roinames = [each.split('/')[-1][:-4] for each in rois]"
   ]
  },
  {
   "cell_type": "code",
   "execution_count": 30,
   "metadata": {
    "collapsed": false
   },
   "outputs": [],
   "source": [
    "data = pd.read_excel(osp.join(datadir, 'Dades.xlsx'), header=1)\n",
    "\n",
    "table_cont = []    \n",
    "table_diaz = []    \n",
    "\n",
    "# For controls first\n",
    "for i, cont in enumerate(controls):\n",
    "    line = []\n",
    "    c = aims.read(cont).arraydata()  # Loads the subject's image\n",
    "\n",
    "    for j, roiname in enumerate(roinames): \n",
    "        roi = aims.read(rois[j]).arraydata()  # Loads the ROI mask\n",
    "        line.append(c[roi==1].mean())  # Gets the mean value over the ROI\n",
    "        \n",
    "    table_cont.append(line)\n",
    "\n",
    "# For diazepam subjects then\n",
    "for i, diaz in enumerate(diazepam):\n",
    "    line = []\n",
    "    d = aims.read(diaz).arraydata()\n",
    "    for j, roiname in enumerate(roinames):\n",
    "        roi = aims.read(rois[j]).arraydata()\n",
    "        line.append(d[roi==1].mean())\n",
    "        \n",
    "    table_diaz.append(line)"
   ]
  },
  {
   "cell_type": "code",
   "execution_count": 29,
   "metadata": {
    "collapsed": false
   },
   "outputs": [
    {
     "data": {
      "text/html": [
       "<div>\n",
       "<table border=\"1\" class=\"dataframe\">\n",
       "  <thead>\n",
       "    <tr style=\"text-align: right;\">\n",
       "      <th></th>\n",
       "      <th>LFC</th>\n",
       "      <th>right_thalamus</th>\n",
       "      <th>ROC</th>\n",
       "      <th>CB</th>\n",
       "      <th>LPC</th>\n",
       "      <th>LTC</th>\n",
       "      <th>left_thalamus</th>\n",
       "      <th>CG</th>\n",
       "      <th>RFC</th>\n",
       "      <th>LOC</th>\n",
       "      <th>RTC</th>\n",
       "      <th>RPC</th>\n",
       "    </tr>\n",
       "  </thead>\n",
       "  <tbody>\n",
       "    <tr>\n",
       "      <th>0</th>\n",
       "      <td>179.358994</td>\n",
       "      <td>186.699799</td>\n",
       "      <td>219.575668</td>\n",
       "      <td>180.775497</td>\n",
       "      <td>194.883606</td>\n",
       "      <td>177.751236</td>\n",
       "      <td>185.650955</td>\n",
       "      <td>211.669113</td>\n",
       "      <td>207.848938</td>\n",
       "      <td>211.366180</td>\n",
       "      <td>189.847733</td>\n",
       "      <td>208.110031</td>\n",
       "    </tr>\n",
       "    <tr>\n",
       "      <th>1</th>\n",
       "      <td>171.325226</td>\n",
       "      <td>148.514114</td>\n",
       "      <td>221.105530</td>\n",
       "      <td>176.712311</td>\n",
       "      <td>173.886871</td>\n",
       "      <td>168.469009</td>\n",
       "      <td>160.214767</td>\n",
       "      <td>188.369034</td>\n",
       "      <td>194.161224</td>\n",
       "      <td>213.974136</td>\n",
       "      <td>184.699905</td>\n",
       "      <td>175.787064</td>\n",
       "    </tr>\n",
       "    <tr>\n",
       "      <th>2</th>\n",
       "      <td>196.760956</td>\n",
       "      <td>187.048477</td>\n",
       "      <td>221.141190</td>\n",
       "      <td>172.515274</td>\n",
       "      <td>216.794312</td>\n",
       "      <td>193.338623</td>\n",
       "      <td>193.496536</td>\n",
       "      <td>221.980804</td>\n",
       "      <td>211.531433</td>\n",
       "      <td>230.271393</td>\n",
       "      <td>192.251266</td>\n",
       "      <td>211.688156</td>\n",
       "    </tr>\n",
       "    <tr>\n",
       "      <th>3</th>\n",
       "      <td>199.775345</td>\n",
       "      <td>188.935928</td>\n",
       "      <td>238.674820</td>\n",
       "      <td>174.658737</td>\n",
       "      <td>209.249725</td>\n",
       "      <td>189.484604</td>\n",
       "      <td>185.881027</td>\n",
       "      <td>228.031403</td>\n",
       "      <td>231.884216</td>\n",
       "      <td>235.167023</td>\n",
       "      <td>205.941284</td>\n",
       "      <td>223.173935</td>\n",
       "    </tr>\n",
       "    <tr>\n",
       "      <th>4</th>\n",
       "      <td>207.801010</td>\n",
       "      <td>183.258347</td>\n",
       "      <td>247.195282</td>\n",
       "      <td>181.636459</td>\n",
       "      <td>230.883118</td>\n",
       "      <td>205.805573</td>\n",
       "      <td>179.413315</td>\n",
       "      <td>236.425095</td>\n",
       "      <td>235.574280</td>\n",
       "      <td>243.522293</td>\n",
       "      <td>223.400970</td>\n",
       "      <td>238.598862</td>\n",
       "    </tr>\n",
       "  </tbody>\n",
       "</table>\n",
       "</div>"
      ],
      "text/plain": [
       "          LFC  right_thalamus         ROC          CB         LPC         LTC  \\\n",
       "0  179.358994      186.699799  219.575668  180.775497  194.883606  177.751236   \n",
       "1  171.325226      148.514114  221.105530  176.712311  173.886871  168.469009   \n",
       "2  196.760956      187.048477  221.141190  172.515274  216.794312  193.338623   \n",
       "3  199.775345      188.935928  238.674820  174.658737  209.249725  189.484604   \n",
       "4  207.801010      183.258347  247.195282  181.636459  230.883118  205.805573   \n",
       "\n",
       "   left_thalamus          CG         RFC         LOC         RTC         RPC  \n",
       "0     185.650955  211.669113  207.848938  211.366180  189.847733  208.110031  \n",
       "1     160.214767  188.369034  194.161224  213.974136  184.699905  175.787064  \n",
       "2     193.496536  221.980804  211.531433  230.271393  192.251266  211.688156  \n",
       "3     185.881027  228.031403  231.884216  235.167023  205.941284  223.173935  \n",
       "4     179.413315  236.425095  235.574280  243.522293  223.400970  238.598862  "
      ]
     },
     "execution_count": 29,
     "metadata": {},
     "output_type": "execute_result"
    }
   ],
   "source": [
    "pd.DataFrame(table_cont, columns=roinames).head()"
   ]
  },
  {
   "cell_type": "code",
   "execution_count": 26,
   "metadata": {
    "collapsed": false
   },
   "outputs": [
    {
     "name": "stdout",
     "output_type": "stream",
     "text": [
      "31 31\n"
     ]
    },
    {
     "data": {
      "text/html": [
       "<div>\n",
       "<table border=\"1\" class=\"dataframe\">\n",
       "  <thead>\n",
       "    <tr style=\"text-align: right;\">\n",
       "      <th></th>\n",
       "      <th>LFC</th>\n",
       "      <th>right_thalamus</th>\n",
       "      <th>ROC</th>\n",
       "      <th>CB</th>\n",
       "      <th>LPC</th>\n",
       "      <th>LTC</th>\n",
       "      <th>left_thalamus</th>\n",
       "      <th>CG</th>\n",
       "      <th>RFC</th>\n",
       "      <th>LOC</th>\n",
       "      <th>RTC</th>\n",
       "      <th>RPC</th>\n",
       "      <th>group</th>\n",
       "    </tr>\n",
       "  </thead>\n",
       "  <tbody>\n",
       "    <tr>\n",
       "      <th>0</th>\n",
       "      <td>179.358994</td>\n",
       "      <td>186.699799</td>\n",
       "      <td>219.575668</td>\n",
       "      <td>180.775497</td>\n",
       "      <td>194.883606</td>\n",
       "      <td>177.751236</td>\n",
       "      <td>185.650955</td>\n",
       "      <td>211.669113</td>\n",
       "      <td>207.848938</td>\n",
       "      <td>211.366180</td>\n",
       "      <td>189.847733</td>\n",
       "      <td>208.110031</td>\n",
       "      <td>controls</td>\n",
       "    </tr>\n",
       "    <tr>\n",
       "      <th>1</th>\n",
       "      <td>171.325226</td>\n",
       "      <td>148.514114</td>\n",
       "      <td>221.105530</td>\n",
       "      <td>176.712311</td>\n",
       "      <td>173.886871</td>\n",
       "      <td>168.469009</td>\n",
       "      <td>160.214767</td>\n",
       "      <td>188.369034</td>\n",
       "      <td>194.161224</td>\n",
       "      <td>213.974136</td>\n",
       "      <td>184.699905</td>\n",
       "      <td>175.787064</td>\n",
       "      <td>controls</td>\n",
       "    </tr>\n",
       "    <tr>\n",
       "      <th>2</th>\n",
       "      <td>196.760956</td>\n",
       "      <td>187.048477</td>\n",
       "      <td>221.141190</td>\n",
       "      <td>172.515274</td>\n",
       "      <td>216.794312</td>\n",
       "      <td>193.338623</td>\n",
       "      <td>193.496536</td>\n",
       "      <td>221.980804</td>\n",
       "      <td>211.531433</td>\n",
       "      <td>230.271393</td>\n",
       "      <td>192.251266</td>\n",
       "      <td>211.688156</td>\n",
       "      <td>controls</td>\n",
       "    </tr>\n",
       "    <tr>\n",
       "      <th>3</th>\n",
       "      <td>199.775345</td>\n",
       "      <td>188.935928</td>\n",
       "      <td>238.674820</td>\n",
       "      <td>174.658737</td>\n",
       "      <td>209.249725</td>\n",
       "      <td>189.484604</td>\n",
       "      <td>185.881027</td>\n",
       "      <td>228.031403</td>\n",
       "      <td>231.884216</td>\n",
       "      <td>235.167023</td>\n",
       "      <td>205.941284</td>\n",
       "      <td>223.173935</td>\n",
       "      <td>controls</td>\n",
       "    </tr>\n",
       "    <tr>\n",
       "      <th>4</th>\n",
       "      <td>207.801010</td>\n",
       "      <td>183.258347</td>\n",
       "      <td>247.195282</td>\n",
       "      <td>181.636459</td>\n",
       "      <td>230.883118</td>\n",
       "      <td>205.805573</td>\n",
       "      <td>179.413315</td>\n",
       "      <td>236.425095</td>\n",
       "      <td>235.574280</td>\n",
       "      <td>243.522293</td>\n",
       "      <td>223.400970</td>\n",
       "      <td>238.598862</td>\n",
       "      <td>controls</td>\n",
       "    </tr>\n",
       "    <tr>\n",
       "      <th>31</th>\n",
       "      <td>163.051575</td>\n",
       "      <td>158.068573</td>\n",
       "      <td>191.719406</td>\n",
       "      <td>173.171509</td>\n",
       "      <td>163.455994</td>\n",
       "      <td>160.453979</td>\n",
       "      <td>160.256378</td>\n",
       "      <td>185.482498</td>\n",
       "      <td>186.323242</td>\n",
       "      <td>186.157883</td>\n",
       "      <td>175.077118</td>\n",
       "      <td>172.901855</td>\n",
       "      <td>patients</td>\n",
       "    </tr>\n",
       "    <tr>\n",
       "      <th>32</th>\n",
       "      <td>183.672501</td>\n",
       "      <td>178.068909</td>\n",
       "      <td>213.720749</td>\n",
       "      <td>170.943436</td>\n",
       "      <td>198.986069</td>\n",
       "      <td>181.608826</td>\n",
       "      <td>181.978516</td>\n",
       "      <td>205.605286</td>\n",
       "      <td>207.568832</td>\n",
       "      <td>209.636078</td>\n",
       "      <td>187.987305</td>\n",
       "      <td>198.357254</td>\n",
       "      <td>patients</td>\n",
       "    </tr>\n",
       "    <tr>\n",
       "      <th>33</th>\n",
       "      <td>147.552734</td>\n",
       "      <td>164.469803</td>\n",
       "      <td>188.526093</td>\n",
       "      <td>159.121475</td>\n",
       "      <td>161.353836</td>\n",
       "      <td>148.640457</td>\n",
       "      <td>160.614075</td>\n",
       "      <td>184.469742</td>\n",
       "      <td>172.435150</td>\n",
       "      <td>179.419586</td>\n",
       "      <td>160.928955</td>\n",
       "      <td>168.320023</td>\n",
       "      <td>patients</td>\n",
       "    </tr>\n",
       "    <tr>\n",
       "      <th>34</th>\n",
       "      <td>167.137741</td>\n",
       "      <td>181.582306</td>\n",
       "      <td>209.816757</td>\n",
       "      <td>157.065018</td>\n",
       "      <td>183.041168</td>\n",
       "      <td>163.135193</td>\n",
       "      <td>187.674652</td>\n",
       "      <td>194.217102</td>\n",
       "      <td>187.559280</td>\n",
       "      <td>200.215546</td>\n",
       "      <td>171.823303</td>\n",
       "      <td>180.024445</td>\n",
       "      <td>patients</td>\n",
       "    </tr>\n",
       "    <tr>\n",
       "      <th>35</th>\n",
       "      <td>158.228973</td>\n",
       "      <td>172.708038</td>\n",
       "      <td>200.012039</td>\n",
       "      <td>168.890778</td>\n",
       "      <td>173.728775</td>\n",
       "      <td>166.016052</td>\n",
       "      <td>172.897018</td>\n",
       "      <td>191.115204</td>\n",
       "      <td>181.449203</td>\n",
       "      <td>192.831467</td>\n",
       "      <td>171.918381</td>\n",
       "      <td>180.107162</td>\n",
       "      <td>patients</td>\n",
       "    </tr>\n",
       "  </tbody>\n",
       "</table>\n",
       "</div>"
      ],
      "text/plain": [
       "           LFC  right_thalamus         ROC          CB         LPC  \\\n",
       "0   179.358994      186.699799  219.575668  180.775497  194.883606   \n",
       "1   171.325226      148.514114  221.105530  176.712311  173.886871   \n",
       "2   196.760956      187.048477  221.141190  172.515274  216.794312   \n",
       "3   199.775345      188.935928  238.674820  174.658737  209.249725   \n",
       "4   207.801010      183.258347  247.195282  181.636459  230.883118   \n",
       "31  163.051575      158.068573  191.719406  173.171509  163.455994   \n",
       "32  183.672501      178.068909  213.720749  170.943436  198.986069   \n",
       "33  147.552734      164.469803  188.526093  159.121475  161.353836   \n",
       "34  167.137741      181.582306  209.816757  157.065018  183.041168   \n",
       "35  158.228973      172.708038  200.012039  168.890778  173.728775   \n",
       "\n",
       "           LTC  left_thalamus          CG         RFC         LOC         RTC  \\\n",
       "0   177.751236     185.650955  211.669113  207.848938  211.366180  189.847733   \n",
       "1   168.469009     160.214767  188.369034  194.161224  213.974136  184.699905   \n",
       "2   193.338623     193.496536  221.980804  211.531433  230.271393  192.251266   \n",
       "3   189.484604     185.881027  228.031403  231.884216  235.167023  205.941284   \n",
       "4   205.805573     179.413315  236.425095  235.574280  243.522293  223.400970   \n",
       "31  160.453979     160.256378  185.482498  186.323242  186.157883  175.077118   \n",
       "32  181.608826     181.978516  205.605286  207.568832  209.636078  187.987305   \n",
       "33  148.640457     160.614075  184.469742  172.435150  179.419586  160.928955   \n",
       "34  163.135193     187.674652  194.217102  187.559280  200.215546  171.823303   \n",
       "35  166.016052     172.897018  191.115204  181.449203  192.831467  171.918381   \n",
       "\n",
       "           RPC     group  \n",
       "0   208.110031  controls  \n",
       "1   175.787064  controls  \n",
       "2   211.688156  controls  \n",
       "3   223.173935  controls  \n",
       "4   238.598862  controls  \n",
       "31  172.901855  patients  \n",
       "32  198.357254  patients  \n",
       "33  168.320023  patients  \n",
       "34  180.024445  patients  \n",
       "35  180.107162  patients  "
      ]
     },
     "execution_count": 26,
     "metadata": {},
     "output_type": "execute_result"
    }
   ],
   "source": [
    "table = table_cont[:]\n",
    "table.extend(table_diaz)\n",
    "print len(table_cont), len(table_diaz)\n",
    "roivalues = pd.DataFrame(table, columns=roinames)\n",
    "groups = ['controls'] * 31\n",
    "groups.extend(['patients'] * 31)\n",
    "roivalues['group'] = groups\n",
    "roivalues.groupby('group').head()"
   ]
  },
  {
   "cell_type": "markdown",
   "metadata": {
    "slideshow": {
     "slide_type": "slide"
    }
   },
   "source": [
    "Converting values to SUV..."
   ]
  },
  {
   "cell_type": "code",
   "execution_count": 8,
   "metadata": {
    "collapsed": true,
    "slideshow": {
     "slide_type": "subslide"
    }
   },
   "outputs": [],
   "source": [
    "def convert(val, p, d):\n",
    "    cf = 65.98\n",
    "    voxel_size = .008\n",
    "    nci_to_bq = 37.0\n",
    "    val = val * cf / nci_to_bq / voxel_size\n",
    "    val = val / (d / p)\n",
    "    return val"
   ]
  },
  {
   "cell_type": "code",
   "execution_count": 39,
   "metadata": {
    "collapsed": false,
    "slideshow": {
     "slide_type": "subslide"
    }
   },
   "outputs": [],
   "source": [
    "ttests = []\n",
    "\n",
    "suv_controls = []\n",
    "suv_diaz = []\n",
    "suv_controls_wb = []\n",
    "suv_controls_wm = []\n",
    "\n",
    "# Converting kg to g and mCi to nCi\n",
    "weights_cont = data['Pes [Kg]'] * 1000.0\n",
    "dose_cont = data['Dosi [mCi]'] * 1000000.0\n",
    "weights_diaz = data['Pes [Kg].1'] * 1000.0\n",
    "dose_diaz = data['Dosi [mCi].1'] * 1000000.0\n",
    "\n",
    "for i, h in enumerate(roinames):\n",
    "    # Converting values to SUV for controls\n",
    "    a = np.array(np.array(table_cont)[:,i], dtype=np.float64)\n",
    "    a = convert(a, weights_cont, dose_cont)\n",
    "    suv_controls.append(a)\n",
    "    \n",
    "    # Converting values to SUV for diazepam\n",
    "    b = np.array(np.array(table_diaz)[:,i], dtype=np.float64)\n",
    "    b = convert(b, weights_diaz, dose_diaz)  \n",
    "    suv_diaz.append(b)\n",
    "\n",
    "    # Computing t-tests\n",
    "    ttests.append(stats.ttest_ind(a, b)[1] / 2.0)    "
   ]
  },
  {
   "cell_type": "code",
   "execution_count": 40,
   "metadata": {
    "collapsed": false,
    "slideshow": {
     "slide_type": "skip"
    }
   },
   "outputs": [],
   "source": [
    "suv_controls = np.array(suv_controls).transpose()\n",
    "suv_diaz = np.array(suv_diaz).transpose()"
   ]
  },
  {
   "cell_type": "markdown",
   "metadata": {
    "slideshow": {
     "slide_type": "slide"
    }
   },
   "source": [
    "Now what effects do we observe ?"
   ]
  },
  {
   "cell_type": "code",
   "execution_count": 43,
   "metadata": {
    "collapsed": false
   },
   "outputs": [
    {
     "data": {
      "text/html": [
       "<div>\n",
       "<table border=\"1\" class=\"dataframe\">\n",
       "  <thead>\n",
       "    <tr style=\"text-align: right;\">\n",
       "      <th></th>\n",
       "      <th>suv</th>\n",
       "    </tr>\n",
       "  </thead>\n",
       "  <tbody>\n",
       "    <tr>\n",
       "      <th>LFC</th>\n",
       "      <td>0.396962</td>\n",
       "    </tr>\n",
       "    <tr>\n",
       "      <th>right_thalamus</th>\n",
       "      <td>0.210560</td>\n",
       "    </tr>\n",
       "    <tr>\n",
       "      <th>ROC</th>\n",
       "      <td>0.296078</td>\n",
       "    </tr>\n",
       "    <tr>\n",
       "      <th>CB</th>\n",
       "      <td>0.066951</td>\n",
       "    </tr>\n",
       "    <tr>\n",
       "      <th>LPC</th>\n",
       "      <td>0.443431</td>\n",
       "    </tr>\n",
       "    <tr>\n",
       "      <th>LTC</th>\n",
       "      <td>0.183824</td>\n",
       "    </tr>\n",
       "    <tr>\n",
       "      <th>left_thalamus</th>\n",
       "      <td>0.192545</td>\n",
       "    </tr>\n",
       "    <tr>\n",
       "      <th>CG</th>\n",
       "      <td>0.285838</td>\n",
       "    </tr>\n",
       "    <tr>\n",
       "      <th>RFC</th>\n",
       "      <td>0.432132</td>\n",
       "    </tr>\n",
       "    <tr>\n",
       "      <th>LOC</th>\n",
       "      <td>0.324266</td>\n",
       "    </tr>\n",
       "    <tr>\n",
       "      <th>RTC</th>\n",
       "      <td>0.354002</td>\n",
       "    </tr>\n",
       "    <tr>\n",
       "      <th>RPC</th>\n",
       "      <td>0.489626</td>\n",
       "    </tr>\n",
       "  </tbody>\n",
       "</table>\n",
       "</div>"
      ],
      "text/plain": [
       "                     suv\n",
       "LFC             0.396962\n",
       "right_thalamus  0.210560\n",
       "ROC             0.296078\n",
       "CB              0.066951\n",
       "LPC             0.443431\n",
       "LTC             0.183824\n",
       "left_thalamus   0.192545\n",
       "CG              0.285838\n",
       "RFC             0.432132\n",
       "LOC             0.324266\n",
       "RTC             0.354002\n",
       "RPC             0.489626"
      ]
     },
     "execution_count": 43,
     "metadata": {},
     "output_type": "execute_result"
    }
   ],
   "source": [
    "pd.DataFrame(ttests, index=roinames, columns=['suv'])\n"
   ]
  },
  {
   "cell_type": "markdown",
   "metadata": {
    "slideshow": {
     "slide_type": "slide"
    }
   },
   "source": [
    "# Plots"
   ]
  },
  {
   "cell_type": "code",
   "execution_count": 44,
   "metadata": {
    "collapsed": true,
    "slideshow": {
     "slide_type": "subslide"
    }
   },
   "outputs": [],
   "source": [
    "def plot_data(suv_controls, suv_diaz, ylim=None):\n",
    "    from matplotlib import pyplot as plt\n",
    "    import matplotlib\n",
    "    matplotlib.rc('figure', facecolor='white')\n",
    "\n",
    "    fig, ax1 = plt.subplots(figsize=(10, 6))\n",
    "    pos_cont = xrange(0,len(roinames)*2,2)\n",
    "    pos_diaz = xrange(1,len(roinames)*2,2)\n",
    "\n",
    "    box_c = plt.boxplot(np.array(suv_controls), positions=pos_cont, patch_artist=True)\n",
    "    for patch in box_c['boxes']:\n",
    "        patch.set(facecolor='cyan')\n",
    "\n",
    "    box_d = plt.boxplot(np.array(suv_diaz), positions=pos_diaz, patch_artist=True)\n",
    "    for patch in box_d['boxes']:\n",
    "        patch.set(facecolor='pink')\n",
    "    ax1.yaxis.grid(True, linestyle='-', which='major', color='lightgray',\n",
    "                   alpha=0.5)\n",
    "    ax1.set_xlim(-1)\n",
    "    if not ylim is None:\n",
    "        ax1.set_ylim([0,ylim])\n",
    "    plt.xticks(rotation=70)\n",
    "    ax1.set_xticks(list(np.array(range(0, 2*len(roinames), 2)) + np.array([0.5]*len(roinames))))\n",
    "    ax1.set_xticklabels(roinames)\n",
    "\n",
    "    plt.figtext(0.80, 0.0015, 'controls', backgroundcolor='cyan', color='black', weight='roman', size='x-small')\n",
    "    plt.figtext(0.80, 0.025, 'diazepam', backgroundcolor='pink', color='black', weight='roman', size='x-small')\n",
    "    plt.show()"
   ]
  },
  {
   "cell_type": "code",
   "execution_count": 45,
   "metadata": {
    "collapsed": false,
    "slideshow": {
     "slide_type": "fragment"
    }
   },
   "outputs": [
    {
     "data": {
      "image/png": "[encoded data removed]",
      "text/plain": [
       "<matplotlib.figure.Figure at 0x7f2bf5c59710>"
      ]
     },
     "metadata": {},
     "output_type": "display_data"
    }
   ],
   "source": [
    "plot_data(suv_controls, suv_diaz)"
   ]
  },
  {
   "cell_type": "code",
   "execution_count": 49,
   "metadata": {
    "collapsed": false
   },
   "outputs": [
    {
     "data": {
      "image/png": "[encoded data removed]",
      "text/plain": [
       "<matplotlib.figure.Figure at 0x7f2bf5b13bd0>"
      ]
     },
     "metadata": {},
     "output_type": "display_data"
    }
   ],
   "source": [
    "from matplotlib import pyplot as plt\n",
    "_ = plt.boxplot(np.array(suv_controls))"
   ]
  },
  {
   "cell_type": "code",
   "execution_count": null,
   "metadata": {
    "collapsed": true
   },
   "outputs": [],
   "source": []
  }
 ],
 "metadata": {
  "celltoolbar": "Slideshow",
  "kernelspec": {
   "display_name": "Python 2",
   "language": "python",
   "name": "python2"
  },
  "language_info": {
   "codemirror_mode": {
    "name": "ipython",
    "version": 2
   },
   "file_extension": ".py",
   "mimetype": "text/x-python",
   "name": "python",
   "nbconvert_exporter": "python",
   "pygments_lexer": "ipython2",
   "version": "2.7.11+"
  }
 },
 "nbformat": 4,
 "nbformat_minor": 1
}
