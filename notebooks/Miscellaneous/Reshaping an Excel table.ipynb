{
 "cells": [
  {
   "cell_type": "code",
   "execution_count": 3,
   "metadata": {
    "collapsed": true
   },
   "outputs": [],
   "source": [
    "import pandas as pd"
   ]
  },
  {
   "cell_type": "markdown",
   "metadata": {},
   "source": [
    "Show me the first lines of the original file"
   ]
  },
  {
   "cell_type": "code",
   "execution_count": 14,
   "metadata": {
    "collapsed": false
   },
   "outputs": [
    {
     "data": {
      "text/html": [
       "<div>\n",
       "<table border=\"1\" class=\"dataframe\">\n",
       "  <thead>\n",
       "    <tr style=\"text-align: right;\">\n",
       "      <th></th>\n",
       "      <th>subject</th>\n",
       "      <th>Index</th>\n",
       "      <th>SegId</th>\n",
       "      <th>NVoxels</th>\n",
       "      <th>Volume_mm3</th>\n",
       "      <th>StructName</th>\n",
       "      <th>normMean</th>\n",
       "      <th>normStdDev</th>\n",
       "      <th>normMin</th>\n",
       "      <th>normMax</th>\n",
       "      <th>normRang</th>\n",
       "    </tr>\n",
       "  </thead>\n",
       "  <tbody>\n",
       "    <tr>\n",
       "      <th>0</th>\n",
       "      <td>55297</td>\n",
       "      <td>1</td>\n",
       "      <td>4</td>\n",
       "      <td>24645</td>\n",
       "      <td>24645.4</td>\n",
       "      <td>Left-Lateral-Ventricle</td>\n",
       "      <td>15.8438</td>\n",
       "      <td>11.5978</td>\n",
       "      <td>0.0</td>\n",
       "      <td>95.0</td>\n",
       "      <td>95.0</td>\n",
       "    </tr>\n",
       "    <tr>\n",
       "      <th>1</th>\n",
       "      <td>55297</td>\n",
       "      <td>2</td>\n",
       "      <td>5</td>\n",
       "      <td>408</td>\n",
       "      <td>408.4</td>\n",
       "      <td>Left-Inf-Lat-Vent</td>\n",
       "      <td>45.1204</td>\n",
       "      <td>12.7040</td>\n",
       "      <td>9.0</td>\n",
       "      <td>79.0</td>\n",
       "      <td>70.0</td>\n",
       "    </tr>\n",
       "    <tr>\n",
       "      <th>2</th>\n",
       "      <td>55297</td>\n",
       "      <td>3</td>\n",
       "      <td>7</td>\n",
       "      <td>15096</td>\n",
       "      <td>15095.8</td>\n",
       "      <td>Left-Cerebellum-White-Matter</td>\n",
       "      <td>88.0008</td>\n",
       "      <td>6.0972</td>\n",
       "      <td>18.0</td>\n",
       "      <td>105.0</td>\n",
       "      <td>87.0</td>\n",
       "    </tr>\n",
       "    <tr>\n",
       "      <th>3</th>\n",
       "      <td>55297</td>\n",
       "      <td>4</td>\n",
       "      <td>8</td>\n",
       "      <td>53369</td>\n",
       "      <td>53368.9</td>\n",
       "      <td>Left-Cerebellum-Cortex</td>\n",
       "      <td>64.8514</td>\n",
       "      <td>9.0857</td>\n",
       "      <td>13.0</td>\n",
       "      <td>165.0</td>\n",
       "      <td>152.0</td>\n",
       "    </tr>\n",
       "    <tr>\n",
       "      <th>4</th>\n",
       "      <td>55297</td>\n",
       "      <td>5</td>\n",
       "      <td>10</td>\n",
       "      <td>7452</td>\n",
       "      <td>7451.7</td>\n",
       "      <td>Left-Thalamus-Proper</td>\n",
       "      <td>88.8853</td>\n",
       "      <td>8.9959</td>\n",
       "      <td>49.0</td>\n",
       "      <td>109.0</td>\n",
       "      <td>60.0</td>\n",
       "    </tr>\n",
       "  </tbody>\n",
       "</table>\n",
       "</div>"
      ],
      "text/plain": [
       "   subject  Index  SegId  NVoxels  Volume_mm3                    StructName  \\\n",
       "0    55297      1      4    24645     24645.4        Left-Lateral-Ventricle   \n",
       "1    55297      2      5      408       408.4             Left-Inf-Lat-Vent   \n",
       "2    55297      3      7    15096     15095.8  Left-Cerebellum-White-Matter   \n",
       "3    55297      4      8    53369     53368.9        Left-Cerebellum-Cortex   \n",
       "4    55297      5     10     7452      7451.7          Left-Thalamus-Proper   \n",
       "\n",
       "   normMean  normStdDev  normMin  normMax  normRang  \n",
       "0   15.8438     11.5978      0.0     95.0      95.0  \n",
       "1   45.1204     12.7040      9.0     79.0      70.0  \n",
       "2   88.0008      6.0972     18.0    105.0      87.0  \n",
       "3   64.8514      9.0857     13.0    165.0     152.0  \n",
       "4   88.8853      8.9959     49.0    109.0      60.0  "
      ]
     },
     "execution_count": 14,
     "metadata": {},
     "output_type": "execute_result"
    }
   ],
   "source": [
    "df = pd.read_excel('/tmp/gonzalo_test/aseg.xls')\n",
    "df.head()"
   ]
  },
  {
   "cell_type": "markdown",
   "metadata": {},
   "source": [
    "Show me the region names containing 'Vent' or 'WM' or 'Hippo'"
   ]
  },
  {
   "cell_type": "code",
   "execution_count": 26,
   "metadata": {
    "collapsed": false
   },
   "outputs": [
    {
     "data": {
      "text/plain": [
       "{u'3rd-Ventricle',\n",
       " u'4th-Ventricle',\n",
       " u'5th-Ventricle',\n",
       " u'Left-Hippocampus',\n",
       " u'Left-Inf-Lat-Vent',\n",
       " u'Left-Lateral-Ventricle',\n",
       " u'Left-VentralDC',\n",
       " u'Left-WM-hypointensities',\n",
       " u'Left-non-WM-hypointensities',\n",
       " u'Right-Hippocampus',\n",
       " u'Right-Inf-Lat-Vent',\n",
       " u'Right-Lateral-Ventricle',\n",
       " u'Right-VentralDC',\n",
       " u'Right-WM-hypointensities',\n",
       " u'Right-non-WM-hypointensities',\n",
       " u'WM-hypointensities',\n",
       " u'non-WM-hypointensities'}"
      ]
     },
     "execution_count": 26,
     "metadata": {},
     "output_type": "execute_result"
    }
   ],
   "source": [
    "names = set([each for each in df['StructName'].tolist() \\\n",
    "             if 'WM' in each \n",
    "             or 'Vent' in each \n",
    "             or 'Hippo' in each])\n",
    "names"
   ]
  },
  {
   "cell_type": "markdown",
   "metadata": {},
   "source": [
    "Reshape the table and show me the first lines"
   ]
  },
  {
   "cell_type": "code",
   "execution_count": 27,
   "metadata": {
    "collapsed": false
   },
   "outputs": [
    {
     "data": {
      "text/html": [
       "<div>\n",
       "<table border=\"1\" class=\"dataframe\">\n",
       "  <thead>\n",
       "    <tr style=\"text-align: right;\">\n",
       "      <th>StructName</th>\n",
       "      <th>3rd-Ventricle</th>\n",
       "      <th>4th-Ventricle</th>\n",
       "      <th>5th-Ventricle</th>\n",
       "      <th>Left-Hippocampus</th>\n",
       "      <th>Left-Inf-Lat-Vent</th>\n",
       "      <th>Left-Lateral-Ventricle</th>\n",
       "      <th>Left-VentralDC</th>\n",
       "      <th>Left-WM-hypointensities</th>\n",
       "      <th>Left-non-WM-hypointensities</th>\n",
       "      <th>Right-Hippocampus</th>\n",
       "      <th>Right-Inf-Lat-Vent</th>\n",
       "      <th>Right-Lateral-Ventricle</th>\n",
       "      <th>Right-VentralDC</th>\n",
       "      <th>Right-WM-hypointensities</th>\n",
       "      <th>Right-non-WM-hypointensities</th>\n",
       "      <th>WM-hypointensities</th>\n",
       "      <th>non-WM-hypointensities</th>\n",
       "    </tr>\n",
       "    <tr>\n",
       "      <th>subject</th>\n",
       "      <th></th>\n",
       "      <th></th>\n",
       "      <th></th>\n",
       "      <th></th>\n",
       "      <th></th>\n",
       "      <th></th>\n",
       "      <th></th>\n",
       "      <th></th>\n",
       "      <th></th>\n",
       "      <th></th>\n",
       "      <th></th>\n",
       "      <th></th>\n",
       "      <th></th>\n",
       "      <th></th>\n",
       "      <th></th>\n",
       "      <th></th>\n",
       "      <th></th>\n",
       "    </tr>\n",
       "  </thead>\n",
       "  <tbody>\n",
       "    <tr>\n",
       "      <th>10010</th>\n",
       "      <td>977.3</td>\n",
       "      <td>1073.1</td>\n",
       "      <td>0.0</td>\n",
       "      <td>5004.7</td>\n",
       "      <td>125.4</td>\n",
       "      <td>7938.0</td>\n",
       "      <td>4161.4</td>\n",
       "      <td>0.0</td>\n",
       "      <td>0.0</td>\n",
       "      <td>5197.9</td>\n",
       "      <td>165.9</td>\n",
       "      <td>7546.8</td>\n",
       "      <td>3766.3</td>\n",
       "      <td>0.0</td>\n",
       "      <td>0.0</td>\n",
       "      <td>1077.5</td>\n",
       "      <td>16.0</td>\n",
       "    </tr>\n",
       "    <tr>\n",
       "      <th>10013</th>\n",
       "      <td>1664.2</td>\n",
       "      <td>1421.9</td>\n",
       "      <td>0.0</td>\n",
       "      <td>4010.4</td>\n",
       "      <td>400.5</td>\n",
       "      <td>13127.5</td>\n",
       "      <td>3373.0</td>\n",
       "      <td>0.0</td>\n",
       "      <td>0.0</td>\n",
       "      <td>3857.0</td>\n",
       "      <td>268.1</td>\n",
       "      <td>11640.2</td>\n",
       "      <td>3371.3</td>\n",
       "      <td>0.0</td>\n",
       "      <td>0.0</td>\n",
       "      <td>2248.2</td>\n",
       "      <td>32.9</td>\n",
       "    </tr>\n",
       "    <tr>\n",
       "      <th>10015</th>\n",
       "      <td>1169.6</td>\n",
       "      <td>1034.0</td>\n",
       "      <td>0.0</td>\n",
       "      <td>4656.0</td>\n",
       "      <td>280.9</td>\n",
       "      <td>7856.5</td>\n",
       "      <td>3953.5</td>\n",
       "      <td>0.0</td>\n",
       "      <td>0.0</td>\n",
       "      <td>4771.1</td>\n",
       "      <td>323.1</td>\n",
       "      <td>9392.0</td>\n",
       "      <td>3846.2</td>\n",
       "      <td>0.0</td>\n",
       "      <td>0.0</td>\n",
       "      <td>1241.3</td>\n",
       "      <td>15.8</td>\n",
       "    </tr>\n",
       "    <tr>\n",
       "      <th>10016</th>\n",
       "      <td>554.9</td>\n",
       "      <td>998.7</td>\n",
       "      <td>12.9</td>\n",
       "      <td>4788.4</td>\n",
       "      <td>275.8</td>\n",
       "      <td>3982.5</td>\n",
       "      <td>3948.4</td>\n",
       "      <td>0.0</td>\n",
       "      <td>0.0</td>\n",
       "      <td>5122.7</td>\n",
       "      <td>108.9</td>\n",
       "      <td>3088.8</td>\n",
       "      <td>3807.7</td>\n",
       "      <td>0.0</td>\n",
       "      <td>0.0</td>\n",
       "      <td>712.8</td>\n",
       "      <td>14.1</td>\n",
       "    </tr>\n",
       "    <tr>\n",
       "      <th>10019</th>\n",
       "      <td>1990.1</td>\n",
       "      <td>2295.1</td>\n",
       "      <td>0.0</td>\n",
       "      <td>4984.5</td>\n",
       "      <td>183.9</td>\n",
       "      <td>9272.8</td>\n",
       "      <td>4051.0</td>\n",
       "      <td>0.0</td>\n",
       "      <td>0.0</td>\n",
       "      <td>4948.4</td>\n",
       "      <td>127.1</td>\n",
       "      <td>9330.8</td>\n",
       "      <td>3796.3</td>\n",
       "      <td>0.0</td>\n",
       "      <td>0.0</td>\n",
       "      <td>3267.2</td>\n",
       "      <td>32.1</td>\n",
       "    </tr>\n",
       "  </tbody>\n",
       "</table>\n",
       "</div>"
      ],
      "text/plain": [
       "StructName  3rd-Ventricle  4th-Ventricle  5th-Ventricle  Left-Hippocampus  \\\n",
       "subject                                                                     \n",
       "10010               977.3         1073.1            0.0            5004.7   \n",
       "10013              1664.2         1421.9            0.0            4010.4   \n",
       "10015              1169.6         1034.0            0.0            4656.0   \n",
       "10016               554.9          998.7           12.9            4788.4   \n",
       "10019              1990.1         2295.1            0.0            4984.5   \n",
       "\n",
       "StructName  Left-Inf-Lat-Vent  Left-Lateral-Ventricle  Left-VentralDC  \\\n",
       "subject                                                                 \n",
       "10010                   125.4                  7938.0          4161.4   \n",
       "10013                   400.5                 13127.5          3373.0   \n",
       "10015                   280.9                  7856.5          3953.5   \n",
       "10016                   275.8                  3982.5          3948.4   \n",
       "10019                   183.9                  9272.8          4051.0   \n",
       "\n",
       "StructName  Left-WM-hypointensities  Left-non-WM-hypointensities  \\\n",
       "subject                                                            \n",
       "10010                           0.0                          0.0   \n",
       "10013                           0.0                          0.0   \n",
       "10015                           0.0                          0.0   \n",
       "10016                           0.0                          0.0   \n",
       "10019                           0.0                          0.0   \n",
       "\n",
       "StructName  Right-Hippocampus  Right-Inf-Lat-Vent  Right-Lateral-Ventricle  \\\n",
       "subject                                                                      \n",
       "10010                  5197.9               165.9                   7546.8   \n",
       "10013                  3857.0               268.1                  11640.2   \n",
       "10015                  4771.1               323.1                   9392.0   \n",
       "10016                  5122.7               108.9                   3088.8   \n",
       "10019                  4948.4               127.1                   9330.8   \n",
       "\n",
       "StructName  Right-VentralDC  Right-WM-hypointensities  \\\n",
       "subject                                                 \n",
       "10010                3766.3                       0.0   \n",
       "10013                3371.3                       0.0   \n",
       "10015                3846.2                       0.0   \n",
       "10016                3807.7                       0.0   \n",
       "10019                3796.3                       0.0   \n",
       "\n",
       "StructName  Right-non-WM-hypointensities  WM-hypointensities  \\\n",
       "subject                                                        \n",
       "10010                                0.0              1077.5   \n",
       "10013                                0.0              2248.2   \n",
       "10015                                0.0              1241.3   \n",
       "10016                                0.0               712.8   \n",
       "10019                                0.0              3267.2   \n",
       "\n",
       "StructName  non-WM-hypointensities  \n",
       "subject                             \n",
       "10010                         16.0  \n",
       "10013                         32.9  \n",
       "10015                         15.8  \n",
       "10016                         14.1  \n",
       "10019                         32.1  "
      ]
     },
     "execution_count": 27,
     "metadata": {},
     "output_type": "execute_result"
    }
   ],
   "source": [
    "df = pd.DataFrame(df[df['StructName'].isin(names)], columns=['subject', 'StructName', 'Volume_mm3'])\n",
    "df = df.pivot(index='subject', columns='StructName', values='Volume_mm3')\n",
    "df.head()"
   ]
  },
  {
   "cell_type": "markdown",
   "metadata": {},
   "source": [
    "Save it and success !"
   ]
  },
  {
   "cell_type": "code",
   "execution_count": 28,
   "metadata": {
    "collapsed": true
   },
   "outputs": [],
   "source": [
    "df.to_excel('/tmp/gonzalo_test/aseg_pivot.xls')"
   ]
  },
  {
   "cell_type": "code",
   "execution_count": 25,
   "metadata": {
    "collapsed": false
   },
   "outputs": [
    {
     "data": {
      "text/html": [
       "<img src=\"http://s2.quickmeme.com/img/c3/c37a6cc5f88867e5387b8787aaf67afc350b3f37f357ed0a3088241488063bce.jpg\"/>"
      ],
      "text/plain": [
       "<IPython.core.display.Image object>"
      ]
     },
     "execution_count": 25,
     "metadata": {},
     "output_type": "execute_result"
    }
   ],
   "source": [
    "from IPython.display import Image\n",
    "Image(url='http://s2.quickmeme.com/img/c3/c37a6cc5f88867e5387b8787aaf67afc350b3f37f357ed0a3088241488063bce.jpg')"
   ]
  },
  {
   "cell_type": "code",
   "execution_count": null,
   "metadata": {
    "collapsed": true
   },
   "outputs": [],
   "source": []
  }
 ],
 "metadata": {
  "kernelspec": {
   "display_name": "Python 2",
   "language": "python",
   "name": "python2"
  },
  "language_info": {
   "codemirror_mode": {
    "name": "ipython",
    "version": 2
   },
   "file_extension": ".py",
   "mimetype": "text/x-python",
   "name": "python",
   "nbconvert_exporter": "python",
   "pygments_lexer": "ipython2",
   "version": "2.7.11+"
  }
 },
 "nbformat": 4,
 "nbformat_minor": 1
}
