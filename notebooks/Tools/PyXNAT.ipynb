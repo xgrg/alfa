{
 "cells": [
  {
   "cell_type": "code",
   "execution_count": 3,
   "metadata": {
    "collapsed": false
   },
   "outputs": [
    {
     "name": "stdout",
     "output_type": "stream",
     "text": [
      "[('ALFA', (627, 630)), ('ALFAnotQA', (601, 666)), ('ALFA1', (349, 348)), ('ALFA_PLUS', (51, 51)), ('EPAD', (48, 48)), ('FIDMAG_pruebas', (33, 33)), ('ALFA_PLUS2', (21, 21)), ('VOLUNTARIOS', (14, 14)), ('UPF_IR', (10, 10)), ('MINERVA', (9, 18)), ('Test', (9, 7)), ('NPAD', (6, 6)), ('T2', (5, 4)), ('PARC_TAULI', (4, 4)), ('003', (2, 2)), ('Anonymization_', (2, 1)), ('Aetionomy', (1, 1)), ('MRTEST', (1, 1)), ('002', (0, 0)), ('005', (0, 0))]\n"
     ]
    }
   ],
   "source": [
    "from pyxnat import Interface\n",
    "config_file = '/home/grg/.xnat.cfg'\n",
    "central = Interface(config=config_file, verify=False)\n",
    "projects = central.select.projects().get()\n",
    "\n",
    "sizes = {}\n",
    "for project in projects:\n",
    "    \n",
    "    p = central.select.project(project).subjects().get()\n",
    "    e = central.select.project(project).experiments().get()\n",
    "    sizes[project] = (len(p), len(e))\n",
    "    \n",
    "import operator \n",
    "sizes = sorted(sizes.items(), key=operator.itemgetter(1), reverse=True)\n",
    "print sizes\n",
    "\n",
    "import warnings\n",
    "warnings.filterwarnings('ignore')"
   ]
  },
  {
   "cell_type": "code",
   "execution_count": 279,
   "metadata": {
    "collapsed": false
   },
   "outputs": [
    {
     "name": "stdout",
     "output_type": "stream",
     "text": [
      "ESPASA_BORRAS_EVA xnat_S00070 error\n",
      "MONTERO_DE_ESPINOSA_SOLBES_MIGUEL_ANGEL xnat_S00454 error\n",
      "dqa xnat_S00472 error\n",
      "VAZQUEZ_FERNANDEZ_MARIA_TERESA xnat_S00479 error\n",
      "FREIXER_CONCA_FELIX xnat_S00501 error\n"
     ]
    }
   ],
   "source": [
    "from pyxnat import Interface\n",
    "config_file = '/home/grg/.xnat.cfg'\n",
    "central = Interface(config=config_file, verify=False)\n",
    "projects = central.select.projects().get()\n",
    "\n",
    "project = 'ALFAnotQA'\n",
    "\n",
    "# Collecting data from XNAT\n",
    "subjects = central.select.project(project).subjects()\n",
    "info = []\n",
    "for s in subjects:\n",
    "    try:\n",
    "        sid = s.get().split('xnat:dcmPatientId>')[1].split('</')[0]\n",
    "        sname = s.get().split('xnat:dcmPatientName>')[1].split('</')[0]\n",
    "        birthdate = s.get().split('xnat:dcmPatientBirthDate>')[1].split('</')[0]\n",
    "        scandate = s.get().split('xnat:date>')[1].split('</')[0]\n",
    "        info.append([sid, sname, birthdate, scandate])\n",
    "    except IndexError:\n",
    "        print s.label(), s.id(), 'error'\n",
    "  \n",
    "# Building DataFrame\n",
    "import pandas as pd\n",
    "df = pd.DataFrame(info, columns=('PatientId', 'PatientName', 'Birthdate', 'Scandate'))\n",
    "df = pd.DataFrame(info, index=df['PatientId'], columns=('PatientId', 'PatientName', 'Birthdate', 'Scandate'))\n",
    "df = df.sort_index()\n",
    "del df['PatientId']\n",
    "df.head()\n",
    "\n",
    "# Saving it in an Excel table\n",
    "ew = pd.ExcelWriter('/tmp/%s.xls'%project, encoding='utf-8')\n",
    "df.to_excel(ew)\n",
    "ew.save()"
   ]
  },
  {
   "cell_type": "code",
   "execution_count": 278,
   "metadata": {
    "collapsed": false
   },
   "outputs": [],
   "source": []
  },
  {
   "cell_type": "code",
   "execution_count": 272,
   "metadata": {
    "collapsed": false
   },
   "outputs": [],
   "source": []
  },
  {
   "cell_type": "code",
   "execution_count": 263,
   "metadata": {
    "collapsed": false
   },
   "outputs": [
    {
     "data": {
      "text/plain": [
       "'Nuria_Gomez_Gallego'"
      ]
     },
     "execution_count": 263,
     "metadata": {},
     "output_type": "execute_result"
    }
   ],
   "source": [
    "s.label()"
   ]
  },
  {
   "cell_type": "code",
   "execution_count": null,
   "metadata": {
    "collapsed": true
   },
   "outputs": [],
   "source": []
  }
 ],
 "metadata": {
  "kernelspec": {
   "display_name": "Python 2",
   "language": "python",
   "name": "python2"
  },
  "language_info": {
   "codemirror_mode": {
    "name": "ipython",
    "version": 2
   },
   "file_extension": ".py",
   "mimetype": "text/x-python",
   "name": "python",
   "nbconvert_exporter": "python",
   "pygments_lexer": "ipython2",
   "version": "2.7.11+"
  }
 },
 "nbformat": 4,
 "nbformat_minor": 1
}
