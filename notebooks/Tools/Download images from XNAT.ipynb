{
 "cells": [
  {
   "cell_type": "markdown",
   "metadata": {},
   "source": [
    "# Download images from XNAT"
   ]
  },
  {
   "cell_type": "code",
   "execution_count": 1,
   "metadata": {
    "collapsed": true
   },
   "outputs": [],
   "source": [
    "import os\n",
    "path_to_repository = '/home/grg/git/xnat-monitor'\n",
    "os.chdir(path_to_repository)\n",
    "import bbrc"
   ]
  },
  {
   "cell_type": "markdown",
   "metadata": {},
   "source": [
    "Setting up a connection to XNAT and defining which images to retrieve."
   ]
  },
  {
   "cell_type": "code",
   "execution_count": 2,
   "metadata": {
    "collapsed": false
   },
   "outputs": [],
   "source": [
    "# Author: Grégory Operto <goperto@barcelonabeta.org>\n",
    "\n",
    "from pyxnat import Interface\n",
    "from bbrc import xnat\n",
    "\n",
    "config_file = '/home/grg/.xnat_bsc.cfg'\n",
    "dest_dir = '/tmp/downloads'\n",
    "project = 'ALFA_OPCIONAL'\n",
    "subjects = ['10065', '10014']\n",
    "sequences = ['IR_ALFA1 SENSE']\n",
    "\n",
    "# Setting up an active connexion to XNAT\n",
    "central = Interface(config=config_file)"
   ]
  },
  {
   "cell_type": "code",
   "execution_count": 3,
   "metadata": {
    "collapsed": false
   },
   "outputs": [
    {
     "name": "stdout",
     "output_type": "stream",
     "text": [
      "10065 has the following sequences {'0-OT1': 'SmartBrain SENSE', '901': 'RS_ALFA1', '601': 'B0_ALFA1', '1301': 'T2_ALFA1', '1601': 'DWI_ALFA1', '1401': 'IR_ALFA1', '1201': 'FLAIR_ALFA1', '701': 'T1_ALFA1', '404': 'Patient Aligned MPR AWPLAN_SMARTPLAN_TYPE_BRAIN', '1101': 'SE-fMRI-PA', '103': 'SmartBrain SENSE', '801': 'rRS_ALFA1', '101': 'SmartBrain SENSE', '1501': 'rDWI_ALFA1', '503': 'B1_calibration', '1001': 'SE-fMRI-AP', '501': 'B1_calibration'}\n",
      "IR_ALFA1 SENSE is missing for subject 10065\n",
      "\n",
      "10014 has the following sequences {'0-OT1': 'rRS_ALFA1 SENSE', '201': 'B1_calibration', '1201': 'rDWI_ALFA1', '202': 'B1_calibration', '601': 'RS_ALFA1 SENSE', '1301': 'DWI_ALFA1', '902': 'FLAIR_CORONAL', '301': 'T1_ALFA1', '302': 'T1_CORONAL', '303': 'T1_AXIAL', '903': 'FLAIR_AXIAL', '701': 'SE-fMRI-AP SENSE', '901': 'FLAIR_ALFA1', '401': 'B0_ALFA1', '1101': 'IR_ALFA1 SENSE', '102': 'SmartBrain SENSE', '103': 'Patient Aligned MPR AWPLAN_SMARTPLAN_TYPE_BRAIN', '801': 'SE-fMRI-PA SENSE', '101': 'SmartBrain SENSE', '1001': 'T2_ALFA1', '501': 'rRS_ALFA1 SENSE'}\n",
      "Resource files of sequence IR_ALFA1 SENSE: [<File Object> 10014_1101.nii.gz]\n",
      "[u'/tmp/downloads/NIFTI/10014_1101.nii.gz'] have been created successfully\n",
      "\n"
     ]
    }
   ],
   "source": [
    "# Selecting a project from which download images\n",
    "p = central.select.project(project)\n",
    "# Get a list of subjects in the project to download all of them (instead of a list)\n",
    "#subjects = [e.label() for e in list(p.subjects())]\n",
    "\n",
    "for subject in subjects:\n",
    "    # For each subject iterate on associated experiments\n",
    "    exp = list(p.subject(str(subject)).experiments())    \n",
    "    for e in exp:\n",
    "        # Get a list of available sequences\n",
    "        d = xnat.series_desc(central, e.id())        \n",
    "        print('%s has the following sequences %s'%(subject, d))\n",
    "        for sq in sequences:                    \n",
    "            # Get the scan corresponding to sequence if available and select the NIFTI resource\n",
    "            if sq in d.values():\n",
    "                sids = [k for k,v in d.items() if v == sq and not k.startswith('0')]\n",
    "                assert(len(sids)!=0)\n",
    "                for sid in sids:\n",
    "                    sc = e.scan(sid)\n",
    "                    res = sc.resource('NIFTI')\n",
    "\n",
    "                    # Displays a list of contained files\n",
    "                    print('Resource files of sequence %s: %s'%(sq, list(res.files())))\n",
    "\n",
    "                    # Download the corresponding archive and extract it in dest_dir\n",
    "                    fp1 = res.get(dest_dir, extract=True)\n",
    "                    print('%s have been created successfully'%fp1)\n",
    "            else:\n",
    "                print('%s is missing for subject %s'%(sq, subject))\n",
    "    print('')"
   ]
  },
  {
   "cell_type": "markdown",
   "metadata": {},
   "source": [
    "Are there any missing subjects?"
   ]
  },
  {
   "cell_type": "code",
   "execution_count": 4,
   "metadata": {
    "collapsed": false
   },
   "outputs": [
    {
     "name": "stdout",
     "output_type": "stream",
     "text": [
      "Missing subjects: ['10065']\n"
     ]
    }
   ],
   "source": [
    "import os.path as osp\n",
    "from glob import glob\n",
    "import pandas as pd\n",
    "\n",
    "wd = '/tmp/downloads/NIFTI'\n",
    "t = [[subject, len(glob(osp.join(wd, '%s*'%subject)))] for subject in subjects]\n",
    "df = pd.DataFrame(t, columns=['subject', 'n'])\n",
    "\n",
    "missing = df[df['n']==0]['subject'].tolist()\n",
    "print('Missing subjects: %s'%missing)"
   ]
  },
  {
   "cell_type": "markdown",
   "metadata": {},
   "source": [
    "Applying online protocol validation on first missing subject (first experiment if any)"
   ]
  },
  {
   "cell_type": "code",
   "execution_count": 5,
   "metadata": {
    "collapsed": false
   },
   "outputs": [
    {
     "name": "stdout",
     "output_type": "stream",
     "text": [
      "10065 resulted with WARNING\n"
     ]
    },
    {
     "data": {
      "text/plain": [
       "['Ignoring sequence 0-OT1',\n",
       " 'Ignoring sequence 0-MR1',\n",
       " 'Ignoring sequence 0-MR2',\n",
       " 'rRS_ALFA1 SENSE is found as rRS_ALFA1',\n",
       " 'RS_ALFA1 SENSE is found as RS_ALFA1',\n",
       " 'SE-fMRI-AP SENSE is found as SE-fMRI-AP',\n",
       " 'SE-fMRI-PA SENSE is found as SE-fMRI-PA',\n",
       " '<br> ===== Missing ========',\n",
       " 'T1_CORONAL missing',\n",
       " 'T1_AXIAL missing',\n",
       " 'FLAIR_CORONAL missing',\n",
       " 'FLAIR_AXIAL missing',\n",
       " '<br> ========= Not identified ==========',\n",
       " '<br> ========= Silently identified ==========',\n",
       " 'SmartBrain SENSE silently identified',\n",
       " 'SmartBrain SENSE silently identified',\n",
       " 'Patient Aligned MPR AWPLAN_SMARTPLAN_TYPE_BRAIN silently identified',\n",
       " 'B1_calibration silently identified',\n",
       " 'B1_calibration silently identified',\n",
       " 'B0_ALFA1 silently identified']"
      ]
     },
     "execution_count": 5,
     "metadata": {},
     "output_type": "execute_result"
    }
   ],
   "source": [
    "first = missing[0]\n",
    "expid = xnat.subject_experiments(central, project, first)[0].id()\n",
    "destination = [['goperto@barcelonabeta.org'], ['goperto@barcelonabeta.org']]\n",
    "res, logs = xnat.check_session(central, expid, destination=destination, send_mail=True)\n",
    "print('%s resulted with %s'%(first, ['SUCCESS', 'WARNING', 'ERRORS'][res]))\n",
    "logs"
   ]
  },
  {
   "cell_type": "code",
   "execution_count": null,
   "metadata": {
    "collapsed": true
   },
   "outputs": [],
   "source": []
  }
 ],
 "metadata": {
  "kernelspec": {
   "display_name": "Python 2",
   "language": "python",
   "name": "python2"
  },
  "language_info": {
   "codemirror_mode": {
    "name": "ipython",
    "version": 2
   },
   "file_extension": ".py",
   "mimetype": "text/x-python",
   "name": "python",
   "nbconvert_exporter": "python",
   "pygments_lexer": "ipython2",
   "version": "2.7.11+"
  }
 },
 "nbformat": 4,
 "nbformat_minor": 1
}
