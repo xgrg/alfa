{
 "cells": [
  {
   "cell_type": "code",
   "execution_count": 72,
   "metadata": {
    "collapsed": false
   },
   "outputs": [
    {
     "name": "stdout",
     "output_type": "stream",
     "text": [
      "ALFA_OPCIONAL\n",
      "396 sessions\n",
      "<Experiment Object> BBRC_E02036 0 396\n",
      "<Experiment Object> BBRC_E02043 1 396\n",
      "<Experiment Object> BBRC_E02045 2 396\n",
      "<Experiment Object> BBRC_E00183 3 396\n",
      "<Experiment Object> BBRC_E00184 4 396\n",
      "<Experiment Object> BBRC_E00189 5 396\n"
     ]
    },
    {
     "ename": "KeyboardInterrupt",
     "evalue": "",
     "output_type": "error",
     "traceback": [
      "\u001b[0;31m---------------------------------------------------------------------------\u001b[0m",
      "\u001b[0;31mKeyboardInterrupt\u001b[0m                         Traceback (most recent call last)",
      "\u001b[0;32m<ipython-input-72-c1d97620458a>\u001b[0m in \u001b[0;36m<module>\u001b[0;34m()\u001b[0m\n\u001b[1;32m     17\u001b[0m         \u001b[0;32mprint\u001b[0m \u001b[0ms\u001b[0m\u001b[0;34m,\u001b[0m \u001b[0mi\u001b[0m\u001b[0;34m,\u001b[0m \u001b[0mlen\u001b[0m\u001b[0;34m(\u001b[0m\u001b[0mlist\u001b[0m\u001b[0;34m(\u001b[0m\u001b[0mexp\u001b[0m\u001b[0;34m)\u001b[0m\u001b[0;34m)\u001b[0m\u001b[0;34m\u001b[0m\u001b[0m\n\u001b[1;32m     18\u001b[0m         \u001b[0;32mtry\u001b[0m\u001b[0;34m:\u001b[0m\u001b[0;34m\u001b[0m\u001b[0m\n\u001b[0;32m---> 19\u001b[0;31m             \u001b[0mt\u001b[0m \u001b[0;34m=\u001b[0m \u001b[0ms\u001b[0m\u001b[0;34m.\u001b[0m\u001b[0mget\u001b[0m\u001b[0;34m(\u001b[0m\u001b[0;34m)\u001b[0m\u001b[0;34m\u001b[0m\u001b[0m\n\u001b[0m\u001b[1;32m     20\u001b[0m             \u001b[0;32mif\u001b[0m \u001b[0;34m'session_type'\u001b[0m \u001b[0;32min\u001b[0m \u001b[0mt\u001b[0m\u001b[0;34m:\u001b[0m\u001b[0;34m\u001b[0m\u001b[0m\n\u001b[1;32m     21\u001b[0m                 \u001b[0mstudy_desc\u001b[0m \u001b[0;34m=\u001b[0m \u001b[0mt\u001b[0m\u001b[0;34m.\u001b[0m\u001b[0msplit\u001b[0m\u001b[0;34m(\u001b[0m\u001b[0;34m'session_type=\"'\u001b[0m\u001b[0;34m)\u001b[0m\u001b[0;34m[\u001b[0m\u001b[0;36m1\u001b[0m\u001b[0;34m]\u001b[0m\u001b[0;34m.\u001b[0m\u001b[0msplit\u001b[0m\u001b[0;34m(\u001b[0m\u001b[0;34m'\"'\u001b[0m\u001b[0;34m)\u001b[0m\u001b[0;34m[\u001b[0m\u001b[0;36m0\u001b[0m\u001b[0;34m]\u001b[0m\u001b[0;34m\u001b[0m\u001b[0m\n",
      "\u001b[0;32m/home/grg/jupyter/local/lib/python2.7/site-packages/pyxnat/core/resources.pyc\u001b[0m in \u001b[0;36mget\u001b[0;34m(self)\u001b[0m\n\u001b[1;32m    417\u001b[0m         \"\"\" Retrieves the XML document corresponding to this element.\n\u001b[1;32m    418\u001b[0m         \"\"\"\n\u001b[0;32m--> 419\u001b[0;31m         \u001b[0;32mreturn\u001b[0m \u001b[0mself\u001b[0m\u001b[0;34m.\u001b[0m\u001b[0m_intf\u001b[0m\u001b[0;34m.\u001b[0m\u001b[0m_exec\u001b[0m\u001b[0;34m(\u001b[0m\u001b[0mself\u001b[0m\u001b[0;34m.\u001b[0m\u001b[0m_uri\u001b[0m \u001b[0;34m+\u001b[0m \u001b[0;34m'?format=xml'\u001b[0m\u001b[0;34m,\u001b[0m \u001b[0;34m'GET'\u001b[0m\u001b[0;34m)\u001b[0m\u001b[0;34m\u001b[0m\u001b[0m\n\u001b[0m\u001b[1;32m    420\u001b[0m \u001b[0;34m\u001b[0m\u001b[0m\n\u001b[1;32m    421\u001b[0m     \u001b[0;32mdef\u001b[0m \u001b[0mxpath\u001b[0m\u001b[0;34m(\u001b[0m\u001b[0mself\u001b[0m\u001b[0;34m,\u001b[0m \u001b[0mxpath\u001b[0m\u001b[0;34m)\u001b[0m\u001b[0;34m:\u001b[0m\u001b[0;34m\u001b[0m\u001b[0m\n",
      "\u001b[0;32m/home/grg/jupyter/local/lib/python2.7/site-packages/pyxnat/core/interfaces.pyc\u001b[0m in \u001b[0;36m_exec\u001b[0;34m(self, uri, method, body, headers, force_preemptive_auth, **kwargs)\u001b[0m\n\u001b[1;32m    339\u001b[0m             \u001b[0mresponse\u001b[0m \u001b[0;34m=\u001b[0m \u001b[0mself\u001b[0m\u001b[0;34m.\u001b[0m\u001b[0m_http\u001b[0m\u001b[0;34m.\u001b[0m\u001b[0mput\u001b[0m\u001b[0;34m(\u001b[0m\u001b[0muri\u001b[0m\u001b[0;34m,\u001b[0m \u001b[0mheaders\u001b[0m\u001b[0;34m=\u001b[0m\u001b[0mheaders\u001b[0m\u001b[0;34m,\u001b[0m \u001b[0mdata\u001b[0m\u001b[0;34m=\u001b[0m\u001b[0mbody\u001b[0m\u001b[0;34m,\u001b[0m \u001b[0;34m**\u001b[0m\u001b[0mkwargs\u001b[0m\u001b[0;34m)\u001b[0m\u001b[0;34m\u001b[0m\u001b[0m\n\u001b[1;32m    340\u001b[0m         \u001b[0;32melif\u001b[0m \u001b[0mmethod\u001b[0m \u001b[0;32mis\u001b[0m \u001b[0;34m'GET'\u001b[0m\u001b[0;34m:\u001b[0m\u001b[0;34m\u001b[0m\u001b[0m\n\u001b[0;32m--> 341\u001b[0;31m             \u001b[0mresponse\u001b[0m \u001b[0;34m=\u001b[0m \u001b[0mself\u001b[0m\u001b[0;34m.\u001b[0m\u001b[0m_http\u001b[0m\u001b[0;34m.\u001b[0m\u001b[0mget\u001b[0m\u001b[0;34m(\u001b[0m\u001b[0muri\u001b[0m\u001b[0;34m,\u001b[0m \u001b[0mheaders\u001b[0m\u001b[0;34m=\u001b[0m\u001b[0mheaders\u001b[0m\u001b[0;34m,\u001b[0m \u001b[0mparams\u001b[0m\u001b[0;34m=\u001b[0m\u001b[0mbody\u001b[0m\u001b[0;34m,\u001b[0m \u001b[0;34m**\u001b[0m\u001b[0mkwargs\u001b[0m\u001b[0;34m)\u001b[0m\u001b[0;34m\u001b[0m\u001b[0m\n\u001b[0m\u001b[1;32m    342\u001b[0m         \u001b[0;32melif\u001b[0m \u001b[0mmethod\u001b[0m \u001b[0;32mis\u001b[0m \u001b[0;34m'POST'\u001b[0m\u001b[0;34m:\u001b[0m\u001b[0;34m\u001b[0m\u001b[0m\n\u001b[1;32m    343\u001b[0m             \u001b[0mresponse\u001b[0m \u001b[0;34m=\u001b[0m \u001b[0mself\u001b[0m\u001b[0;34m.\u001b[0m\u001b[0m_http\u001b[0m\u001b[0;34m.\u001b[0m\u001b[0mpost\u001b[0m\u001b[0;34m(\u001b[0m\u001b[0muri\u001b[0m\u001b[0;34m,\u001b[0m \u001b[0mheaders\u001b[0m\u001b[0;34m=\u001b[0m\u001b[0mheaders\u001b[0m\u001b[0;34m,\u001b[0m \u001b[0mdata\u001b[0m\u001b[0;34m=\u001b[0m\u001b[0mbody\u001b[0m\u001b[0;34m,\u001b[0m \u001b[0;34m**\u001b[0m\u001b[0mkwargs\u001b[0m\u001b[0;34m)\u001b[0m\u001b[0;34m\u001b[0m\u001b[0m\n",
      "\u001b[0;32m/home/grg/jupyter/local/lib/python2.7/site-packages/requests/sessions.pyc\u001b[0m in \u001b[0;36mget\u001b[0;34m(self, url, **kwargs)\u001b[0m\n\u001b[1;32m    499\u001b[0m \u001b[0;34m\u001b[0m\u001b[0m\n\u001b[1;32m    500\u001b[0m         \u001b[0mkwargs\u001b[0m\u001b[0;34m.\u001b[0m\u001b[0msetdefault\u001b[0m\u001b[0;34m(\u001b[0m\u001b[0;34m'allow_redirects'\u001b[0m\u001b[0;34m,\u001b[0m \u001b[0mTrue\u001b[0m\u001b[0;34m)\u001b[0m\u001b[0;34m\u001b[0m\u001b[0m\n\u001b[0;32m--> 501\u001b[0;31m         \u001b[0;32mreturn\u001b[0m \u001b[0mself\u001b[0m\u001b[0;34m.\u001b[0m\u001b[0mrequest\u001b[0m\u001b[0;34m(\u001b[0m\u001b[0;34m'GET'\u001b[0m\u001b[0;34m,\u001b[0m \u001b[0murl\u001b[0m\u001b[0;34m,\u001b[0m \u001b[0;34m**\u001b[0m\u001b[0mkwargs\u001b[0m\u001b[0;34m)\u001b[0m\u001b[0;34m\u001b[0m\u001b[0m\n\u001b[0m\u001b[1;32m    502\u001b[0m \u001b[0;34m\u001b[0m\u001b[0m\n\u001b[1;32m    503\u001b[0m     \u001b[0;32mdef\u001b[0m \u001b[0moptions\u001b[0m\u001b[0;34m(\u001b[0m\u001b[0mself\u001b[0m\u001b[0;34m,\u001b[0m \u001b[0murl\u001b[0m\u001b[0;34m,\u001b[0m \u001b[0;34m**\u001b[0m\u001b[0mkwargs\u001b[0m\u001b[0;34m)\u001b[0m\u001b[0;34m:\u001b[0m\u001b[0;34m\u001b[0m\u001b[0m\n",
      "\u001b[0;32m/home/grg/jupyter/local/lib/python2.7/site-packages/requests/sessions.pyc\u001b[0m in \u001b[0;36mrequest\u001b[0;34m(self, method, url, params, data, headers, cookies, files, auth, timeout, allow_redirects, proxies, hooks, stream, verify, cert, json)\u001b[0m\n\u001b[1;32m    486\u001b[0m         }\n\u001b[1;32m    487\u001b[0m         \u001b[0msend_kwargs\u001b[0m\u001b[0;34m.\u001b[0m\u001b[0mupdate\u001b[0m\u001b[0;34m(\u001b[0m\u001b[0msettings\u001b[0m\u001b[0;34m)\u001b[0m\u001b[0;34m\u001b[0m\u001b[0m\n\u001b[0;32m--> 488\u001b[0;31m         \u001b[0mresp\u001b[0m \u001b[0;34m=\u001b[0m \u001b[0mself\u001b[0m\u001b[0;34m.\u001b[0m\u001b[0msend\u001b[0m\u001b[0;34m(\u001b[0m\u001b[0mprep\u001b[0m\u001b[0;34m,\u001b[0m \u001b[0;34m**\u001b[0m\u001b[0msend_kwargs\u001b[0m\u001b[0;34m)\u001b[0m\u001b[0;34m\u001b[0m\u001b[0m\n\u001b[0m\u001b[1;32m    489\u001b[0m \u001b[0;34m\u001b[0m\u001b[0m\n\u001b[1;32m    490\u001b[0m         \u001b[0;32mreturn\u001b[0m \u001b[0mresp\u001b[0m\u001b[0;34m\u001b[0m\u001b[0m\n",
      "\u001b[0;32m/home/grg/jupyter/local/lib/python2.7/site-packages/requests/sessions.pyc\u001b[0m in \u001b[0;36msend\u001b[0;34m(self, request, **kwargs)\u001b[0m\n\u001b[1;32m    607\u001b[0m \u001b[0;34m\u001b[0m\u001b[0m\n\u001b[1;32m    608\u001b[0m         \u001b[0;31m# Send the request\u001b[0m\u001b[0;34m\u001b[0m\u001b[0;34m\u001b[0m\u001b[0m\n\u001b[0;32m--> 609\u001b[0;31m         \u001b[0mr\u001b[0m \u001b[0;34m=\u001b[0m \u001b[0madapter\u001b[0m\u001b[0;34m.\u001b[0m\u001b[0msend\u001b[0m\u001b[0;34m(\u001b[0m\u001b[0mrequest\u001b[0m\u001b[0;34m,\u001b[0m \u001b[0;34m**\u001b[0m\u001b[0mkwargs\u001b[0m\u001b[0;34m)\u001b[0m\u001b[0;34m\u001b[0m\u001b[0m\n\u001b[0m\u001b[1;32m    610\u001b[0m \u001b[0;34m\u001b[0m\u001b[0m\n\u001b[1;32m    611\u001b[0m         \u001b[0;31m# Total elapsed time of the request (approximately)\u001b[0m\u001b[0;34m\u001b[0m\u001b[0;34m\u001b[0m\u001b[0m\n",
      "\u001b[0;32m/home/grg/jupyter/local/lib/python2.7/site-packages/requests/adapters.pyc\u001b[0m in \u001b[0;36msend\u001b[0;34m(self, request, stream, timeout, verify, cert, proxies)\u001b[0m\n\u001b[1;32m    421\u001b[0m                     \u001b[0mdecode_content\u001b[0m\u001b[0;34m=\u001b[0m\u001b[0mFalse\u001b[0m\u001b[0;34m,\u001b[0m\u001b[0;34m\u001b[0m\u001b[0m\n\u001b[1;32m    422\u001b[0m                     \u001b[0mretries\u001b[0m\u001b[0;34m=\u001b[0m\u001b[0mself\u001b[0m\u001b[0;34m.\u001b[0m\u001b[0mmax_retries\u001b[0m\u001b[0;34m,\u001b[0m\u001b[0;34m\u001b[0m\u001b[0m\n\u001b[0;32m--> 423\u001b[0;31m                     \u001b[0mtimeout\u001b[0m\u001b[0;34m=\u001b[0m\u001b[0mtimeout\u001b[0m\u001b[0;34m\u001b[0m\u001b[0m\n\u001b[0m\u001b[1;32m    424\u001b[0m                 )\n\u001b[1;32m    425\u001b[0m \u001b[0;34m\u001b[0m\u001b[0m\n",
      "\u001b[0;32m/home/grg/jupyter/local/lib/python2.7/site-packages/requests/packages/urllib3/connectionpool.pyc\u001b[0m in \u001b[0;36murlopen\u001b[0;34m(self, method, url, body, headers, retries, redirect, assert_same_host, timeout, pool_timeout, release_conn, chunked, **response_kw)\u001b[0m\n\u001b[1;32m    592\u001b[0m                                                   \u001b[0mtimeout\u001b[0m\u001b[0;34m=\u001b[0m\u001b[0mtimeout_obj\u001b[0m\u001b[0;34m,\u001b[0m\u001b[0;34m\u001b[0m\u001b[0m\n\u001b[1;32m    593\u001b[0m                                                   \u001b[0mbody\u001b[0m\u001b[0;34m=\u001b[0m\u001b[0mbody\u001b[0m\u001b[0;34m,\u001b[0m \u001b[0mheaders\u001b[0m\u001b[0;34m=\u001b[0m\u001b[0mheaders\u001b[0m\u001b[0;34m,\u001b[0m\u001b[0;34m\u001b[0m\u001b[0m\n\u001b[0;32m--> 594\u001b[0;31m                                                   chunked=chunked)\n\u001b[0m\u001b[1;32m    595\u001b[0m \u001b[0;34m\u001b[0m\u001b[0m\n\u001b[1;32m    596\u001b[0m             \u001b[0;31m# If we're going to release the connection in ``finally:``, then\u001b[0m\u001b[0;34m\u001b[0m\u001b[0;34m\u001b[0m\u001b[0m\n",
      "\u001b[0;32m/home/grg/jupyter/local/lib/python2.7/site-packages/requests/packages/urllib3/connectionpool.pyc\u001b[0m in \u001b[0;36m_make_request\u001b[0;34m(self, conn, method, url, timeout, chunked, **httplib_request_kw)\u001b[0m\n\u001b[1;32m    382\u001b[0m         \u001b[0;32mtry\u001b[0m\u001b[0;34m:\u001b[0m\u001b[0;34m\u001b[0m\u001b[0m\n\u001b[1;32m    383\u001b[0m             \u001b[0;32mtry\u001b[0m\u001b[0;34m:\u001b[0m  \u001b[0;31m# Python 2.7, use buffering of HTTP responses\u001b[0m\u001b[0;34m\u001b[0m\u001b[0m\n\u001b[0;32m--> 384\u001b[0;31m                 \u001b[0mhttplib_response\u001b[0m \u001b[0;34m=\u001b[0m \u001b[0mconn\u001b[0m\u001b[0;34m.\u001b[0m\u001b[0mgetresponse\u001b[0m\u001b[0;34m(\u001b[0m\u001b[0mbuffering\u001b[0m\u001b[0;34m=\u001b[0m\u001b[0mTrue\u001b[0m\u001b[0;34m)\u001b[0m\u001b[0;34m\u001b[0m\u001b[0m\n\u001b[0m\u001b[1;32m    385\u001b[0m             \u001b[0;32mexcept\u001b[0m \u001b[0mTypeError\u001b[0m\u001b[0;34m:\u001b[0m  \u001b[0;31m# Python 2.6 and older, Python 3\u001b[0m\u001b[0;34m\u001b[0m\u001b[0m\n\u001b[1;32m    386\u001b[0m                 \u001b[0;32mtry\u001b[0m\u001b[0;34m:\u001b[0m\u001b[0;34m\u001b[0m\u001b[0m\n",
      "\u001b[0;32m/usr/lib/python2.7/httplib.pyc\u001b[0m in \u001b[0;36mgetresponse\u001b[0;34m(self, buffering)\u001b[0m\n\u001b[1;32m   1134\u001b[0m \u001b[0;34m\u001b[0m\u001b[0m\n\u001b[1;32m   1135\u001b[0m         \u001b[0;32mtry\u001b[0m\u001b[0;34m:\u001b[0m\u001b[0;34m\u001b[0m\u001b[0m\n\u001b[0;32m-> 1136\u001b[0;31m             \u001b[0mresponse\u001b[0m\u001b[0;34m.\u001b[0m\u001b[0mbegin\u001b[0m\u001b[0;34m(\u001b[0m\u001b[0;34m)\u001b[0m\u001b[0;34m\u001b[0m\u001b[0m\n\u001b[0m\u001b[1;32m   1137\u001b[0m             \u001b[0;32massert\u001b[0m \u001b[0mresponse\u001b[0m\u001b[0;34m.\u001b[0m\u001b[0mwill_close\u001b[0m \u001b[0;34m!=\u001b[0m \u001b[0m_UNKNOWN\u001b[0m\u001b[0;34m\u001b[0m\u001b[0m\n\u001b[1;32m   1138\u001b[0m             \u001b[0mself\u001b[0m\u001b[0;34m.\u001b[0m\u001b[0m__state\u001b[0m \u001b[0;34m=\u001b[0m \u001b[0m_CS_IDLE\u001b[0m\u001b[0;34m\u001b[0m\u001b[0m\n",
      "\u001b[0;32m/usr/lib/python2.7/httplib.pyc\u001b[0m in \u001b[0;36mbegin\u001b[0;34m(self)\u001b[0m\n\u001b[1;32m    451\u001b[0m         \u001b[0;31m# read until we get a non-100 response\u001b[0m\u001b[0;34m\u001b[0m\u001b[0;34m\u001b[0m\u001b[0m\n\u001b[1;32m    452\u001b[0m         \u001b[0;32mwhile\u001b[0m \u001b[0mTrue\u001b[0m\u001b[0;34m:\u001b[0m\u001b[0;34m\u001b[0m\u001b[0m\n\u001b[0;32m--> 453\u001b[0;31m             \u001b[0mversion\u001b[0m\u001b[0;34m,\u001b[0m \u001b[0mstatus\u001b[0m\u001b[0;34m,\u001b[0m \u001b[0mreason\u001b[0m \u001b[0;34m=\u001b[0m \u001b[0mself\u001b[0m\u001b[0;34m.\u001b[0m\u001b[0m_read_status\u001b[0m\u001b[0;34m(\u001b[0m\u001b[0;34m)\u001b[0m\u001b[0;34m\u001b[0m\u001b[0m\n\u001b[0m\u001b[1;32m    454\u001b[0m             \u001b[0;32mif\u001b[0m \u001b[0mstatus\u001b[0m \u001b[0;34m!=\u001b[0m \u001b[0mCONTINUE\u001b[0m\u001b[0;34m:\u001b[0m\u001b[0;34m\u001b[0m\u001b[0m\n\u001b[1;32m    455\u001b[0m                 \u001b[0;32mbreak\u001b[0m\u001b[0;34m\u001b[0m\u001b[0m\n",
      "\u001b[0;32m/usr/lib/python2.7/httplib.pyc\u001b[0m in \u001b[0;36m_read_status\u001b[0;34m(self)\u001b[0m\n\u001b[1;32m    407\u001b[0m     \u001b[0;32mdef\u001b[0m \u001b[0m_read_status\u001b[0m\u001b[0;34m(\u001b[0m\u001b[0mself\u001b[0m\u001b[0;34m)\u001b[0m\u001b[0;34m:\u001b[0m\u001b[0;34m\u001b[0m\u001b[0m\n\u001b[1;32m    408\u001b[0m         \u001b[0;31m# Initialize with Simple-Response defaults\u001b[0m\u001b[0;34m\u001b[0m\u001b[0;34m\u001b[0m\u001b[0m\n\u001b[0;32m--> 409\u001b[0;31m         \u001b[0mline\u001b[0m \u001b[0;34m=\u001b[0m \u001b[0mself\u001b[0m\u001b[0;34m.\u001b[0m\u001b[0mfp\u001b[0m\u001b[0;34m.\u001b[0m\u001b[0mreadline\u001b[0m\u001b[0;34m(\u001b[0m\u001b[0m_MAXLINE\u001b[0m \u001b[0;34m+\u001b[0m \u001b[0;36m1\u001b[0m\u001b[0;34m)\u001b[0m\u001b[0;34m\u001b[0m\u001b[0m\n\u001b[0m\u001b[1;32m    410\u001b[0m         \u001b[0;32mif\u001b[0m \u001b[0mlen\u001b[0m\u001b[0;34m(\u001b[0m\u001b[0mline\u001b[0m\u001b[0;34m)\u001b[0m \u001b[0;34m>\u001b[0m \u001b[0m_MAXLINE\u001b[0m\u001b[0;34m:\u001b[0m\u001b[0;34m\u001b[0m\u001b[0m\n\u001b[1;32m    411\u001b[0m             \u001b[0;32mraise\u001b[0m \u001b[0mLineTooLong\u001b[0m\u001b[0;34m(\u001b[0m\u001b[0;34m\"header line\"\u001b[0m\u001b[0;34m)\u001b[0m\u001b[0;34m\u001b[0m\u001b[0m\n",
      "\u001b[0;32m/usr/lib/python2.7/socket.pyc\u001b[0m in \u001b[0;36mreadline\u001b[0;34m(self, size)\u001b[0m\n\u001b[1;32m    478\u001b[0m             \u001b[0;32mwhile\u001b[0m \u001b[0mTrue\u001b[0m\u001b[0;34m:\u001b[0m\u001b[0;34m\u001b[0m\u001b[0m\n\u001b[1;32m    479\u001b[0m                 \u001b[0;32mtry\u001b[0m\u001b[0;34m:\u001b[0m\u001b[0;34m\u001b[0m\u001b[0m\n\u001b[0;32m--> 480\u001b[0;31m                     \u001b[0mdata\u001b[0m \u001b[0;34m=\u001b[0m \u001b[0mself\u001b[0m\u001b[0;34m.\u001b[0m\u001b[0m_sock\u001b[0m\u001b[0;34m.\u001b[0m\u001b[0mrecv\u001b[0m\u001b[0;34m(\u001b[0m\u001b[0mself\u001b[0m\u001b[0;34m.\u001b[0m\u001b[0m_rbufsize\u001b[0m\u001b[0;34m)\u001b[0m\u001b[0;34m\u001b[0m\u001b[0m\n\u001b[0m\u001b[1;32m    481\u001b[0m                 \u001b[0;32mexcept\u001b[0m \u001b[0merror\u001b[0m\u001b[0;34m,\u001b[0m \u001b[0me\u001b[0m\u001b[0;34m:\u001b[0m\u001b[0;34m\u001b[0m\u001b[0m\n\u001b[1;32m    482\u001b[0m                     \u001b[0;32mif\u001b[0m \u001b[0me\u001b[0m\u001b[0;34m.\u001b[0m\u001b[0margs\u001b[0m\u001b[0;34m[\u001b[0m\u001b[0;36m0\u001b[0m\u001b[0;34m]\u001b[0m \u001b[0;34m==\u001b[0m \u001b[0mEINTR\u001b[0m\u001b[0;34m:\u001b[0m\u001b[0;34m\u001b[0m\u001b[0m\n",
      "\u001b[0;31mKeyboardInterrupt\u001b[0m: "
     ]
    }
   ],
   "source": [
    "from pyxnat import Interface\n",
    "config_file = '/home/grg/.xnat_bsc.cfg'\n",
    "central = Interface(config=config_file, verify=False)\n",
    "projects = central.select.projects().get()\n",
    "\n",
    "info = []\n",
    "for project in projects:\n",
    "    print project\n",
    "    #project = 'ALFA_OPCIONAL'\n",
    "\n",
    "    # Collecting data from XNAT\n",
    "    subjects = central.select.project(project).subjects()\n",
    "    exp = central.select.project(project).experiments()\n",
    "\n",
    "    print len(list(exp)), 'sessions'\n",
    "    for i, s in enumerate(exp):\n",
    "        print s, i, len(list(exp))\n",
    "        try:\n",
    "            t = s.get()\n",
    "            if 'session_type' in t:\n",
    "                study_desc = t.split('session_type=\"')[1].split('\"')[0]\n",
    "            else:\n",
    "                study_desc = 'not found'\n",
    "            row = [project, study_desc]\n",
    "            for each in ['xnat:dcmPatientId>', 'xnat:dcmPatientName>', 'xnat:dcmPatientBirthDate>', 'xnat:dcmAccessionNumber>', 'xnat:date>']:\n",
    "                if each in t:\n",
    "                    row.append(t.split(each)[1].split('</')[0])          \n",
    "                else:\n",
    "                    row.append('not found')\n",
    "            info.append(row)\n",
    "        except IndexError as e :\n",
    "            print s.label(), s.id(), 'error', e  \n",
    "            info.append([project, s.label(), s.id(), '*', '*', '*', 'ERROR'])"
   ]
  },
  {
   "cell_type": "code",
   "execution_count": 49,
   "metadata": {
    "collapsed": false
   },
   "outputs": [
    {
     "data": {
      "text/html": [
       "<div>\n",
       "<table border=\"1\" class=\"dataframe\">\n",
       "  <thead>\n",
       "    <tr style=\"text-align: right;\">\n",
       "      <th></th>\n",
       "      <th>project</th>\n",
       "      <th>StudyDesc</th>\n",
       "      <th>PatientId</th>\n",
       "      <th>PatientName</th>\n",
       "      <th>BirthDate</th>\n",
       "      <th>AccessionNumber</th>\n",
       "      <th>AcquisitionDate</th>\n",
       "    </tr>\n",
       "  </thead>\n",
       "  <tbody>\n",
       "    <tr>\n",
       "      <th>0</th>\n",
       "      <td>ALFA_OPCIONAL</td>\n",
       "      <td>ALFA_OPCIONAL</td>\n",
       "      <td>12603</td>\n",
       "      <td>12603</td>\n",
       "      <td>1964-11-17</td>\n",
       "      <td>030412060717603</td>\n",
       "      <td>2017-07-06</td>\n",
       "    </tr>\n",
       "    <tr>\n",
       "      <th>1</th>\n",
       "      <td>ALFA_OPCIONAL</td>\n",
       "      <td>ALFA_OPCIONAL</td>\n",
       "      <td>11128</td>\n",
       "      <td>11128</td>\n",
       "      <td>1962-02-24</td>\n",
       "      <td>030411060717128</td>\n",
       "      <td>2017-07-06</td>\n",
       "    </tr>\n",
       "    <tr>\n",
       "      <th>2</th>\n",
       "      <td>ALFA_OPCIONAL</td>\n",
       "      <td>ALFA_OPCIONAL</td>\n",
       "      <td>10398</td>\n",
       "      <td>10398</td>\n",
       "      <td>1955-03-30</td>\n",
       "      <td>030410070717398</td>\n",
       "      <td>2017-07-07</td>\n",
       "    </tr>\n",
       "    <tr>\n",
       "      <th>3</th>\n",
       "      <td>ALFA_OPCIONAL</td>\n",
       "      <td>ALFA1</td>\n",
       "      <td>44058</td>\n",
       "      <td>44058</td>\n",
       "      <td>1946-04-13</td>\n",
       "      <td>040144130716058</td>\n",
       "      <td>2016-07-13</td>\n",
       "    </tr>\n",
       "    <tr>\n",
       "      <th>4</th>\n",
       "      <td>ALFA_OPCIONAL</td>\n",
       "      <td>ALFA1</td>\n",
       "      <td>12332</td>\n",
       "      <td>12332</td>\n",
       "      <td>1957-06-08</td>\n",
       "      <td>040112190716332</td>\n",
       "      <td>2016-07-19</td>\n",
       "    </tr>\n",
       "  </tbody>\n",
       "</table>\n",
       "</div>"
      ],
      "text/plain": [
       "         project      StudyDesc PatientId PatientName   BirthDate  \\\n",
       "0  ALFA_OPCIONAL  ALFA_OPCIONAL     12603       12603  1964-11-17   \n",
       "1  ALFA_OPCIONAL  ALFA_OPCIONAL     11128       11128  1962-02-24   \n",
       "2  ALFA_OPCIONAL  ALFA_OPCIONAL     10398       10398  1955-03-30   \n",
       "3  ALFA_OPCIONAL          ALFA1     44058       44058  1946-04-13   \n",
       "4  ALFA_OPCIONAL          ALFA1     12332       12332  1957-06-08   \n",
       "\n",
       "   AccessionNumber AcquisitionDate  \n",
       "0  030412060717603      2017-07-06  \n",
       "1  030411060717128      2017-07-06  \n",
       "2  030410070717398      2017-07-07  \n",
       "3  040144130716058      2016-07-13  \n",
       "4  040112190716332      2016-07-19  "
      ]
     },
     "execution_count": 49,
     "metadata": {},
     "output_type": "execute_result"
    }
   ],
   "source": [
    "import pandas as pd\n",
    "df = pd.DataFrame(info, columns=['project', 'StudyDesc', 'PatientId', 'PatientName', 'BirthDate', 'AccessionNumber', 'AcquisitionDate'])\n",
    "df.to_excel('/tmp/listado_XNAT_20170713.xls')\n",
    "df.head()"
   ]
  },
  {
   "cell_type": "code",
   "execution_count": 253,
   "metadata": {
    "collapsed": true
   },
   "outputs": [],
   "source": [
    "from pyxnat import Interface\n",
    "config_file = '/home/grg/.xnat_bsc.cfg'\n",
    "central = Interface(config=config_file, verify=False)\n",
    "projects = central.select.projects().get()\n",
    "\n",
    "pa = [(e, central.manage.prearchive.status(e)) for e in central.manage.prearchive.get()]\n",
    "pa_by_type = {}\n",
    "for each, t in pa:\n",
    "    pa_by_type.setdefault(t, []).append(each)\n"
   ]
  },
  {
   "cell_type": "code",
   "execution_count": 254,
   "metadata": {
    "collapsed": false
   },
   "outputs": [
    {
     "data": {
      "text/plain": [
       "(22,\n",
       " {'CONFLICT': [['FIDMAG_pruebas', '20170513_100607245', '201220160912'],\n",
       "   ['FIDMAG_pruebas', '20170720_161620561', '60026120170323'],\n",
       "   ['FIDMAG_pruebas', '20170621_152451264', '60031720170509']],\n",
       "  'ERROR': [['TEST', '20170509_171628456', 'PTC_TEST_MR1'],\n",
       "   ['NPAD', '20170722_101655381', '091477220717164']],\n",
       "  'QUEUED_DELETING': [['FIDMAG_pruebas',\n",
       "    '20170514_074534027',\n",
       "    '0089_20160726_150649'],\n",
       "   ['FIDMAG_pruebas', '20170705_170324970', '170501032017'],\n",
       "   ['EPAD', '20170623_123555413', '071112230617261'],\n",
       "   ['FIDMAG_pruebas', '20170705_164913661', '110228022017'],\n",
       "   ['FIDMAG_pruebas', '20170627_162951452', '60035120170601']],\n",
       "  'READY': [['Unassigned', '20170703_111905783', '030411290617325'],\n",
       "   ['Unassigned', '20170705_174015191', '181801032017'],\n",
       "   ['Unassigned', '20170708_105532777', '030455080717231'],\n",
       "   ['Unassigned', '20170711_091251517', '49331120170523_20170523_113349']],\n",
       "  'RECEIVING': [['ALFA_PLUS', '20170725_163847962', '040511250717111'],\n",
       "   ['FIDMAG_pruebas', '20170621_184858799', '60032720170511']],\n",
       "  '_ARCHIVING': [['FIDMAG_pruebas', '20170725_142410472', '60026420170324']],\n",
       "  '_BUILDING': [['FIDMAG_pruebas', '20170725_154927971', '60026720170328'],\n",
       "   ['FIDMAG_pruebas', '20170725_150449351', '60026520170328'],\n",
       "   ['ALFA_PLUS', '20170725_153442542', '040512250717125'],\n",
       "   ['FIDMAG_pruebas', '20170725_152212245', '60026620170328']],\n",
       "  '_MOVING': [['Unassigned', '20170621_173039219', '030411210617539']]})"
      ]
     },
     "execution_count": 254,
     "metadata": {},
     "output_type": "execute_result"
    }
   ],
   "source": [
    "len(pa), pa_by_type"
   ]
  },
  {
   "cell_type": "code",
   "execution_count": 257,
   "metadata": {
    "collapsed": false
   },
   "outputs": [
    {
     "data": {
      "text/html": [
       "<div>\n",
       "<table border=\"1\" class=\"dataframe\">\n",
       "  <thead>\n",
       "    <tr style=\"text-align: right;\">\n",
       "      <th></th>\n",
       "      <th>project</th>\n",
       "      <th>upload_date</th>\n",
       "      <th>session_id</th>\n",
       "    </tr>\n",
       "  </thead>\n",
       "  <tbody>\n",
       "    <tr>\n",
       "      <th>0</th>\n",
       "      <td>FIDMAG_pruebas</td>\n",
       "      <td>20170513_100607245</td>\n",
       "      <td>201220160912</td>\n",
       "    </tr>\n",
       "    <tr>\n",
       "      <th>1</th>\n",
       "      <td>FIDMAG_pruebas</td>\n",
       "      <td>20170720_161620561</td>\n",
       "      <td>60026120170323</td>\n",
       "    </tr>\n",
       "    <tr>\n",
       "      <th>2</th>\n",
       "      <td>FIDMAG_pruebas</td>\n",
       "      <td>20170621_152451264</td>\n",
       "      <td>60031720170509</td>\n",
       "    </tr>\n",
       "  </tbody>\n",
       "</table>\n",
       "</div>"
      ],
      "text/plain": [
       "          project         upload_date      session_id\n",
       "0  FIDMAG_pruebas  20170513_100607245    201220160912\n",
       "1  FIDMAG_pruebas  20170720_161620561  60026120170323\n",
       "2  FIDMAG_pruebas  20170621_152451264  60031720170509"
      ]
     },
     "execution_count": 257,
     "metadata": {},
     "output_type": "execute_result"
    }
   ],
   "source": [
    "import pandas as pd\n",
    "df = pd.DataFrame(pa_by_type['CONFLICT'], columns=['project', 'upload_date', 'session_id'])\n",
    "df"
   ]
  },
  {
   "cell_type": "code",
   "execution_count": 261,
   "metadata": {
    "collapsed": false
   },
   "outputs": [
    {
     "data": {
      "text/html": [
       "<div>\n",
       "<table border=\"1\" class=\"dataframe\">\n",
       "  <thead>\n",
       "    <tr style=\"text-align: right;\">\n",
       "      <th></th>\n",
       "      <th>project</th>\n",
       "      <th>upload_date</th>\n",
       "      <th>session_id</th>\n",
       "    </tr>\n",
       "  </thead>\n",
       "  <tbody>\n",
       "    <tr>\n",
       "      <th>0</th>\n",
       "      <td>TEST</td>\n",
       "      <td>20170509_171628456</td>\n",
       "      <td>PTC_TEST_MR1</td>\n",
       "    </tr>\n",
       "    <tr>\n",
       "      <th>1</th>\n",
       "      <td>NPAD</td>\n",
       "      <td>20170722_101655381</td>\n",
       "      <td>091477220717164</td>\n",
       "    </tr>\n",
       "  </tbody>\n",
       "</table>\n",
       "</div>"
      ],
      "text/plain": [
       "  project         upload_date       session_id\n",
       "0    TEST  20170509_171628456     PTC_TEST_MR1\n",
       "1    NPAD  20170722_101655381  091477220717164"
      ]
     },
     "execution_count": 261,
     "metadata": {},
     "output_type": "execute_result"
    }
   ],
   "source": [
    "df = pd.DataFrame(pa_by_type['ERROR'], columns=['project', 'upload_date', 'session_id'])\n",
    "df"
   ]
  },
  {
   "cell_type": "code",
   "execution_count": 260,
   "metadata": {
    "collapsed": false
   },
   "outputs": [
    {
     "data": {
      "text/plain": [
       "[['TEST', '20170509_171628456', 'PTC_TEST_MR1'],\n",
       " ['NPAD', '20170722_101655381', '091477220717164']]"
      ]
     },
     "execution_count": 260,
     "metadata": {},
     "output_type": "execute_result"
    }
   ],
   "source": []
  },
  {
   "cell_type": "code",
   "execution_count": 123,
   "metadata": {
    "collapsed": false
   },
   "outputs": [
    {
     "data": {
      "text/plain": [
       "'<?xml version=\"1.0\" encoding=\"UTF-8\" standalone=\"yes\"?>\\n<xnat:MRSession ID=\"BBRC_E00189\" project=\"ALFA_OPCIONAL\" label=\"040110150916164\" session_type=\"ALFA1\" modality=\"MR\" UID=\"1.3.46.670589.11.78036.5.0.12144.2016091512190905002\" xmlns:arc=\"http://nrg.wustl.edu/arc\" xmlns:val=\"http://nrg.wustl.edu/val\" xmlns:pipe=\"http://nrg.wustl.edu/pipe\" xmlns:wrk=\"http://nrg.wustl.edu/workflow\" xmlns:scr=\"http://nrg.wustl.edu/scr\" xmlns:xdat=\"http://nrg.wustl.edu/security\" xmlns:cat=\"http://nrg.wustl.edu/catalog\" xmlns:prov=\"http://www.nbirn.net/prov\" xmlns:xnat=\"http://nrg.wustl.edu/xnat\" xmlns:xnat_a=\"http://nrg.wustl.edu/xnat_assessments\" xmlns:xsi=\"http://www.w3.org/2001/XMLSchema-instance\" xsi:schemaLocation=\"http://nrg.wustl.edu/workflow http://bscmaragall01.bsc.es:8080/schemas/workflow.xsd http://nrg.wustl.edu/catalog http://bscmaragall01.bsc.es:8080/schemas/catalog.xsd http://nrg.wustl.edu/pipe http://bscmaragall01.bsc.es:8080/schemas/repository.xsd http://nrg.wustl.edu/scr http://bscmaragall01.bsc.es:8080/schemas/screeningAssessment.xsd http://nrg.wustl.edu/arc http://bscmaragall01.bsc.es:8080/schemas/project.xsd http://nrg.wustl.edu/val http://bscmaragall01.bsc.es:8080/schemas/protocolValidation.xsd http://nrg.wustl.edu/xnat http://bscmaragall01.bsc.es:8080/schemas/xnat.xsd http://nrg.wustl.edu/xnat_assessments http://bscmaragall01.bsc.es:8080/schemas/assessments.xsd http://www.nbirn.net/prov http://bscmaragall01.bsc.es:8080/schemas/birnprov.xsd http://nrg.wustl.edu/security http://bscmaragall01.bsc.es:8080/schemas/security.xsd\">\\n<xnat:date>2016-09-15</xnat:date>\\n<xnat:time>12:19:09</xnat:time>\\n<xnat:acquisition_site>FUNDACIO PASQUAL MARAGALL</xnat:acquisition_site>\\n<xnat:subject_ID>BBRC_S00201</xnat:subject_ID>\\n<xnat:scanner manufacturer=\"Philips Medical Systems\" model=\"Ingenia CX\">PHILIPS-V4HKJ2I</xnat:scanner>\\n<xnat:prearchivePath>/data/xnat/prearchive1/ALFA_OPCIONAL/20170330_005622062/040110150916164</xnat:prearchivePath>\\n<xnat:scans>\\n<xnat:scan ID=\"0\" type=\"unknown\" UID=\"1.3.46.670589.11.78036.5.0.8208.2016091512245143000\" xsi:type=\"xnat:otherDicomScanData\">\\n<!--hidden_fields[xnat_imageScanData_id=\"3651\"]-->\\n<xnat:image_session_ID>BBRC_E00189</xnat:image_session_ID>\\n<xnat:quality>usable</xnat:quality>\\n<xnat:scanner manufacturer=\"Philips Medical Systems\" model=\"Ingenia CX\">PHILIPS-V4HKJ2I</xnat:scanner>\\n<xnat:frames>0</xnat:frames>\\n<xnat:file label=\"secondary\" file_count=\"1\" file_size=\"2100326\" URI=\"/data/xnat/archive/ALFA_OPCIONAL/arc001/040110150916164/SCANS/0/DICOM/scan_0_secondary_catalog.xml\" format=\"DICOM\" content=\"secondary\" xsi:type=\"xnat:resourceCatalog\">\\n<!--hidden_fields[xnat_abstractResource_id=\"6819\",xnat_imageScanData_xnat_imagescandata_id=\"3651\"]-->\\n</xnat:file>\\n<xnat:startTime>12:24:51</xnat:startTime>\\n</xnat:scan>\\n<xnat:scan ID=\"101\" type=\"SmartBrain SENSE\" UID=\"1.3.46.670589.11.78036.5.0.10288.2016091512261821416\" xsi:type=\"xnat:mrScanData\">\\n<!--hidden_fields[xnat_imageScanData_id=\"3652\"]-->\\n<xnat:image_session_ID>BBRC_E00189</xnat:image_session_ID>\\n<xnat:quality>usable</xnat:quality>\\n<xnat:series_description>SmartBrain SENSE</xnat:series_description>\\n<xnat:scanner manufacturer=\"Philips Medical Systems\" model=\"Ingenia CX\">PHILIPS-V4HKJ2I</xnat:scanner>\\n<xnat:frames>100</xnat:frames>\\n<xnat:file label=\"DICOM\" file_count=\"100\" file_size=\"21291978\" URI=\"/data/xnat/archive/ALFA_OPCIONAL/arc001/040110150916164/SCANS/101/DICOM/scan_101_catalog.xml\" format=\"DICOM\" content=\"RAW\" xsi:type=\"xnat:resourceCatalog\">\\n<!--hidden_fields[xnat_abstractResource_id=\"6820\",xnat_imageScanData_xnat_imagescandata_id=\"3652\"]-->\\n</xnat:file>\\n<xnat:file label=\"secondary\" file_count=\"1\" file_size=\"607778\" URI=\"/data/xnat/archive/ALFA_OPCIONAL/arc001/040110150916164/SCANS/101/DICOM/scan_101_secondary_catalog.xml\" format=\"DICOM\" content=\"secondary\" xsi:type=\"xnat:resourceCatalog\">\\n<!--hidden_fields[xnat_abstractResource_id=\"6821\",xnat_imageScanData_xnat_imagescandata_id=\"3652\"]-->\\n</xnat:file>\\n<xnat:file label=\"SNAPSHOTS\" file_count=\"2\" file_size=\"760676\" URI=\"/data/xnat/archive/ALFA_OPCIONAL/arc001/040110150916164/SCANS/101/SNAPSHOTS/101_catalog.xml\" format=\"GIF\" content=\"SNAPSHOTS\" xsi:type=\"xnat:resourceCatalog\">\\n<!--hidden_fields[xnat_abstractResource_id=\"7200\",xnat_imageScanData_xnat_imagescandata_id=\"3652\"]-->\\n</xnat:file>\\n<xnat:startTime>12:26:18</xnat:startTime>\\n<xnat:coil>MULTI COIL</xnat:coil>\\n<xnat:fieldStrength>3.0</xnat:fieldStrength>\\n<xnat:parameters>\\n<xnat:voxelRes x=\"1.09375\" y=\"1.09375\" z=\"2.2\"/>\\n<xnat:orientation>Sag</xnat:orientation>\\n<xnat:fov x=\"320\" y=\"320\"/>\\n<xnat:tr>3.13240003585815</xnat:tr>\\n<xnat:te>1.403</xnat:te>\\n<xnat:ti>0.0</xnat:ti>\\n<xnat:flip>8</xnat:flip>\\n<xnat:imageType>ORIGINAL\\\\PRIMARY\\\\M_FFE\\\\M\\\\FFE</xnat:imageType>\\n<xnat:scanSequence>GR</xnat:scanSequence>\\n<xnat:seqVariant>MP</xnat:seqVariant>\\n<xnat:scanOptions>OTHER</xnat:scanOptions>\\n<xnat:acqType>3D</xnat:acqType>\\n<xnat:pixelBandwidth>862.0</xnat:pixelBandwidth>\\n<xnat:diffusion>\\n<xnat:bValues>0.0</xnat:bValues>\\n<xnat:orientations>0.0\\\\0.0\\\\0.0</xnat:orientations>\\n</xnat:diffusion>\\n</xnat:parameters>\\n</xnat:scan>\\n<xnat:scan ID=\"103\" type=\"SmartBrain SENSE\" UID=\"1.3.46.670589.11.78036.5.0.10288.2016091512261827418\" xsi:type=\"xnat:mrScanData\">\\n<!--hidden_fields[xnat_imageScanData_id=\"3653\"]-->\\n<xnat:image_session_ID>BBRC_E00189</xnat:image_session_ID>\\n<xnat:quality>usable</xnat:quality>\\n<xnat:series_description>SmartBrain SENSE</xnat:series_description>\\n<xnat:scanner manufacturer=\"Philips Medical Systems\" model=\"Ingenia CX\">PHILIPS-V4HKJ2I</xnat:scanner>\\n<xnat:frames>2</xnat:frames>\\n<xnat:file label=\"DICOM\" file_count=\"2\" file_size=\"426272\" URI=\"/data/xnat/archive/ALFA_OPCIONAL/arc001/040110150916164/SCANS/103/DICOM/scan_103_catalog.xml\" format=\"DICOM\" content=\"RAW\" xsi:type=\"xnat:resourceCatalog\">\\n<!--hidden_fields[xnat_abstractResource_id=\"6822\",xnat_imageScanData_xnat_imagescandata_id=\"3653\"]-->\\n</xnat:file>\\n<xnat:file label=\"secondary\" file_count=\"1\" file_size=\"591498\" URI=\"/data/xnat/archive/ALFA_OPCIONAL/arc001/040110150916164/SCANS/103/DICOM/scan_103_secondary_catalog.xml\" format=\"DICOM\" content=\"secondary\" xsi:type=\"xnat:resourceCatalog\">\\n<!--hidden_fields[xnat_abstractResource_id=\"6823\",xnat_imageScanData_xnat_imagescandata_id=\"3653\"]-->\\n</xnat:file>\\n<xnat:file label=\"SNAPSHOTS\" file_count=\"2\" file_size=\"16088\" URI=\"/data/xnat/archive/ALFA_OPCIONAL/arc001/040110150916164/SCANS/103/SNAPSHOTS/103_catalog.xml\" format=\"GIF\" content=\"SNAPSHOTS\" xsi:type=\"xnat:resourceCatalog\">\\n<!--hidden_fields[xnat_abstractResource_id=\"7201\",xnat_imageScanData_xnat_imagescandata_id=\"3653\"]-->\\n</xnat:file>\\n<xnat:startTime>12:26:18</xnat:startTime>\\n<xnat:coil>MULTI COIL</xnat:coil>\\n<xnat:fieldStrength>3.0</xnat:fieldStrength>\\n<xnat:parameters>\\n<xnat:voxelRes x=\"1.09375\" y=\"1.09375\" z=\"1.094\"/>\\n<xnat:fov x=\"320\" y=\"320\"/>\\n<xnat:tr>3.13240003585815</xnat:tr>\\n<xnat:te>1.403</xnat:te>\\n<xnat:ti>0.0</xnat:ti>\\n<xnat:flip>8</xnat:flip>\\n<xnat:imageType>ORIGINAL\\\\PRIMARY\\\\MPR\\\\M\\\\FFE</xnat:imageType>\\n<xnat:scanSequence>GR</xnat:scanSequence>\\n<xnat:seqVariant>MP</xnat:seqVariant>\\n<xnat:scanOptions>OTHER</xnat:scanOptions>\\n<xnat:acqType>3D</xnat:acqType>\\n<xnat:pixelBandwidth>862.0</xnat:pixelBandwidth>\\n<xnat:diffusion>\\n<xnat:bValues>0.0</xnat:bValues>\\n<xnat:orientations>0.0\\\\0.0\\\\0.0</xnat:orientations>\\n</xnat:diffusion>\\n</xnat:parameters>\\n</xnat:scan>\\n<xnat:scan ID=\"104\" type=\"Patient Aligned MPR AWPLAN_SMARTPLAN_TYPE_BRAIN\" UID=\"1.3.46.670589.11.78036.5.0.13280.2016091512271837000\" xsi:type=\"xnat:mrScanData\">\\n<!--hidden_fields[xnat_imageScanData_id=\"3654\"]-->\\n<xnat:image_session_ID>BBRC_E00189</xnat:image_session_ID>\\n<xnat:quality>usable</xnat:quality>\\n<xnat:series_description>Patient Aligned MPR AWPLAN_SMARTPLAN_TYPE_BRAIN</xnat:series_description>\\n<xnat:scanner manufacturer=\"Philips Medical Systems\" model=\"Ingenia CX\">PHILIPS-V4HKJ2I</xnat:scanner>\\n<xnat:frames>54</xnat:frames>\\n<xnat:file label=\"DICOM\" file_count=\"54\" file_size=\"11565138\" URI=\"/data/xnat/archive/ALFA_OPCIONAL/arc001/040110150916164/SCANS/104/DICOM/scan_104_catalog.xml\" format=\"DICOM\" content=\"RAW\" xsi:type=\"xnat:resourceCatalog\">\\n<!--hidden_fields[xnat_abstractResource_id=\"6824\",xnat_imageScanData_xnat_imagescandata_id=\"3654\"]-->\\n</xnat:file>\\n<xnat:file label=\"secondary\" file_count=\"1\" file_size=\"24218\" URI=\"/data/xnat/archive/ALFA_OPCIONAL/arc001/040110150916164/SCANS/104/DICOM/scan_104_secondary_catalog.xml\" format=\"DICOM\" content=\"secondary\" xsi:type=\"xnat:resourceCatalog\">\\n<!--hidden_fields[xnat_abstractResource_id=\"6825\",xnat_imageScanData_xnat_imagescandata_id=\"3654\"]-->\\n</xnat:file>\\n<xnat:file label=\"SNAPSHOTS\" file_count=\"2\" file_size=\"471627\" URI=\"/data/xnat/archive/ALFA_OPCIONAL/arc001/040110150916164/SCANS/104/SNAPSHOTS/104_catalog.xml\" format=\"GIF\" content=\"SNAPSHOTS\" xsi:type=\"xnat:resourceCatalog\">\\n<!--hidden_fields[xnat_abstractResource_id=\"7202\",xnat_imageScanData_xnat_imagescandata_id=\"3654\"]-->\\n</xnat:file>\\n<xnat:startTime>12:26:18</xnat:startTime>\\n<xnat:coil>MULTI COIL</xnat:coil>\\n<xnat:fieldStrength>3.0</xnat:fieldStrength>\\n<xnat:parameters>\\n<xnat:fov x=\"320\" y=\"320\"/>\\n<xnat:tr>3.13240003585815</xnat:tr>\\n<xnat:te>1.403</xnat:te>\\n<xnat:ti>0.0</xnat:ti>\\n<xnat:flip>8</xnat:flip>\\n<xnat:imageType>ORIGINAL\\\\PRIMARY\\\\MPR\\\\M\\\\FFE</xnat:imageType>\\n<xnat:scanSequence>GR</xnat:scanSequence>\\n<xnat:seqVariant>MP</xnat:seqVariant>\\n<xnat:scanOptions>OTHER</xnat:scanOptions>\\n<xnat:acqType>3D</xnat:acqType>\\n<xnat:pixelBandwidth>862.0</xnat:pixelBandwidth>\\n<xnat:diffusion>\\n<xnat:bValues>0.0</xnat:bValues>\\n<xnat:orientations>0.0\\\\0.0\\\\0.0</xnat:orientations>\\n</xnat:diffusion>\\n</xnat:parameters>\\n</xnat:scan>\\n<xnat:scan ID=\"201\" type=\"B1_calibration\" UID=\"1.3.46.670589.11.78036.5.0.10288.2016091512275402524\" xsi:type=\"xnat:otherDicomScanData\">\\n<!--hidden_fields[xnat_imageScanData_id=\"3655\"]-->\\n<xnat:image_session_ID>BBRC_E00189</xnat:image_session_ID>\\n<xnat:quality>usable</xnat:quality>\\n<xnat:series_description>B1_calibration</xnat:series_description>\\n<xnat:scanner manufacturer=\"Philips Medical Systems\" model=\"Ingenia CX\">PHILIPS-V4HKJ2I</xnat:scanner>\\n<xnat:frames>0</xnat:frames>\\n<xnat:file label=\"secondary\" file_count=\"1\" file_size=\"1499576\" URI=\"/data/xnat/archive/ALFA_OPCIONAL/arc001/040110150916164/SCANS/201/DICOM/scan_201_secondary_catalog.xml\" format=\"DICOM\" content=\"secondary\" xsi:type=\"xnat:resourceCatalog\">\\n<!--hidden_fields[xnat_abstractResource_id=\"6826\",xnat_imageScanData_xnat_imagescandata_id=\"3655\"]-->\\n</xnat:file>\\n<xnat:startTime>12:27:54</xnat:startTime>\\n</xnat:scan>\\n<xnat:scan ID=\"203\" type=\"B1_calibration\" UID=\"1.3.46.670589.11.78036.5.0.10288.2016091512275411526\" xsi:type=\"xnat:otherDicomScanData\">\\n<!--hidden_fields[xnat_imageScanData_id=\"3656\"]-->\\n<xnat:image_session_ID>BBRC_E00189</xnat:image_session_ID>\\n<xnat:quality>usable</xnat:quality>\\n<xnat:series_description>B1_calibration</xnat:series_description>\\n<xnat:scanner manufacturer=\"Philips Medical Systems\" model=\"Ingenia CX\">PHILIPS-V4HKJ2I</xnat:scanner>\\n<xnat:frames>0</xnat:frames>\\n<xnat:file label=\"secondary\" file_count=\"1\" file_size=\"1673302\" URI=\"/data/xnat/archive/ALFA_OPCIONAL/arc001/040110150916164/SCANS/203/DICOM/scan_203_secondary_catalog.xml\" format=\"DICOM\" content=\"secondary\" xsi:type=\"xnat:resourceCatalog\">\\n<!--hidden_fields[xnat_abstractResource_id=\"6827\",xnat_imageScanData_xnat_imagescandata_id=\"3656\"]-->\\n</xnat:file>\\n<xnat:startTime>12:27:54</xnat:startTime>\\n</xnat:scan>\\n<xnat:scan ID=\"301\" type=\"B0_ALFA1\" UID=\"1.3.46.670589.11.78036.5.0.10288.2016091512290454530\" xsi:type=\"xnat:mrScanData\">\\n<!--hidden_fields[xnat_imageScanData_id=\"3657\"]-->\\n<xnat:image_session_ID>BBRC_E00189</xnat:image_session_ID>\\n<xnat:quality>usable</xnat:quality>\\n<xnat:series_description>B0_ALFA1</xnat:series_description>\\n<xnat:scanner manufacturer=\"Philips Medical Systems\" model=\"Ingenia CX\">PHILIPS-V4HKJ2I</xnat:scanner>\\n<xnat:frames>400</xnat:frames>\\n<xnat:file label=\"DICOM\" file_count=\"400\" file_size=\"32920354\" URI=\"/data/xnat/archive/ALFA_OPCIONAL/arc001/040110150916164/SCANS/301/DICOM/scan_301_catalog.xml\" format=\"DICOM\" content=\"RAW\" xsi:type=\"xnat:resourceCatalog\">\\n<!--hidden_fields[xnat_abstractResource_id=\"6828\",xnat_imageScanData_xnat_imagescandata_id=\"3657\"]-->\\n</xnat:file>\\n<xnat:file label=\"secondary\" file_count=\"1\" file_size=\"591252\" URI=\"/data/xnat/archive/ALFA_OPCIONAL/arc001/040110150916164/SCANS/301/DICOM/scan_301_secondary_catalog.xml\" format=\"DICOM\" content=\"secondary\" xsi:type=\"xnat:resourceCatalog\">\\n<!--hidden_fields[xnat_abstractResource_id=\"6829\",xnat_imageScanData_xnat_imagescandata_id=\"3657\"]-->\\n</xnat:file>\\n<xnat:file label=\"SNAPSHOTS\" file_count=\"2\" file_size=\"148906\" URI=\"/data/xnat/archive/ALFA_OPCIONAL/arc001/040110150916164/SCANS/301/SNAPSHOTS/301_catalog.xml\" format=\"GIF\" content=\"SNAPSHOTS\" xsi:type=\"xnat:resourceCatalog\">\\n<!--hidden_fields[xnat_abstractResource_id=\"7205\",xnat_imageScanData_xnat_imagescandata_id=\"3657\"]-->\\n</xnat:file>\\n<xnat:startTime>12:29:04</xnat:startTime>\\n<xnat:coil>MULTI COIL</xnat:coil>\\n<xnat:fieldStrength>3.0</xnat:fieldStrength>\\n<xnat:parameters>\\n<xnat:voxelRes x=\"1.66666662693023\" y=\"1.66666662693023\" z=\"4.0\"/>\\n<xnat:orientation>Tra</xnat:orientation>\\n<xnat:fov x=\"192\" y=\"192\"/>\\n<xnat:ti>0.0</xnat:ti>\\n<xnat:flip>3</xnat:flip>\\n<xnat:scanSequence>RM</xnat:scanSequence>\\n<xnat:seqVariant>SP</xnat:seqVariant>\\n<xnat:scanOptions>OTHER</xnat:scanOptions>\\n<xnat:acqType>3D</xnat:acqType>\\n<xnat:pixelBandwidth>1240.0</xnat:pixelBandwidth>\\n<xnat:diffusion>\\n<xnat:bValues>0.0</xnat:bValues>\\n<xnat:orientations>0.0\\\\0.0\\\\0.0</xnat:orientations>\\n</xnat:diffusion>\\n</xnat:parameters>\\n</xnat:scan>\\n<xnat:scan ID=\"401\" type=\"T1_ALFA1\" UID=\"1.3.46.670589.11.78036.5.0.10288.2016091512325300942\" xsi:type=\"xnat:mrScanData\">\\n<!--hidden_fields[xnat_imageScanData_id=\"3658\"]-->\\n<xnat:image_session_ID>BBRC_E00189</xnat:image_session_ID>\\n<xnat:quality>usable</xnat:quality>\\n<xnat:series_description>T1_ALFA1</xnat:series_description>\\n<xnat:scanner manufacturer=\"Philips Medical Systems\" model=\"Ingenia CX\">PHILIPS-V4HKJ2I</xnat:scanner>\\n<xnat:frames>240</xnat:frames>\\n<xnat:file label=\"DICOM\" file_count=\"240\" file_size=\"51248708\" URI=\"/data/xnat/archive/ALFA_OPCIONAL/arc001/040110150916164/SCANS/401/DICOM/scan_401_catalog.xml\" format=\"DICOM\" content=\"RAW\" xsi:type=\"xnat:resourceCatalog\">\\n<!--hidden_fields[xnat_abstractResource_id=\"6830\",xnat_imageScanData_xnat_imagescandata_id=\"3658\"]-->\\n</xnat:file>\\n<xnat:file label=\"secondary\" file_count=\"1\" file_size=\"591436\" URI=\"/data/xnat/archive/ALFA_OPCIONAL/arc001/040110150916164/SCANS/401/DICOM/scan_401_secondary_catalog.xml\" format=\"DICOM\" content=\"secondary\" xsi:type=\"xnat:resourceCatalog\">\\n<!--hidden_fields[xnat_abstractResource_id=\"6831\",xnat_imageScanData_xnat_imagescandata_id=\"3658\"]-->\\n</xnat:file>\\n<xnat:file label=\"SNAPSHOTS\" file_count=\"2\" file_size=\"1052931\" URI=\"/data/xnat/archive/ALFA_OPCIONAL/arc001/040110150916164/SCANS/401/SNAPSHOTS/401_catalog.xml\" format=\"GIF\" content=\"SNAPSHOTS\" xsi:type=\"xnat:resourceCatalog\">\\n<!--hidden_fields[xnat_abstractResource_id=\"7207\",xnat_imageScanData_xnat_imagescandata_id=\"3658\"]-->\\n</xnat:file>\\n<xnat:startTime>12:32:52</xnat:startTime>\\n<xnat:coil>MULTI COIL</xnat:coil>\\n<xnat:fieldStrength>3.0</xnat:fieldStrength>\\n<xnat:parameters>\\n<xnat:voxelRes x=\"0.75\" y=\"0.75\" z=\"0.75\"/>\\n<xnat:orientation>Sag</xnat:orientation>\\n<xnat:fov x=\"320\" y=\"320\"/>\\n<xnat:tr>9.89999961853027</xnat:tr>\\n<xnat:te>4.6</xnat:te>\\n<xnat:ti>0.0</xnat:ti>\\n<xnat:flip>8</xnat:flip>\\n<xnat:imageType>ORIGINAL\\\\PRIMARY\\\\M_FFE\\\\M\\\\FFE</xnat:imageType>\\n<xnat:scanSequence>GR</xnat:scanSequence>\\n<xnat:seqVariant>MP</xnat:seqVariant>\\n<xnat:scanOptions>SP</xnat:scanOptions>\\n<xnat:acqType>3D</xnat:acqType>\\n<xnat:pixelBandwidth>143.0</xnat:pixelBandwidth>\\n<xnat:diffusion>\\n<xnat:bValues>0.0</xnat:bValues>\\n<xnat:orientations>0.0\\\\0.0\\\\0.0</xnat:orientations>\\n</xnat:diffusion>\\n</xnat:parameters>\\n</xnat:scan>\\n<xnat:scan ID=\"403\" type=\"T1 CORONAL\" UID=\"1.3.46.670589.11.78036.5.0.7664.2016091512463488000\" xsi:type=\"xnat:mrScanData\">\\n<!--hidden_fields[xnat_imageScanData_id=\"3659\"]-->\\n<xnat:image_session_ID>BBRC_E00189</xnat:image_session_ID>\\n<xnat:quality>usable</xnat:quality>\\n<xnat:series_description>T1 CORONAL</xnat:series_description>\\n<xnat:scanner manufacturer=\"Philips Medical Systems\" model=\"Ingenia CX\">PHILIPS-V4HKJ2I</xnat:scanner>\\n<xnat:frames>95</xnat:frames>\\n<xnat:file label=\"DICOM\" file_count=\"95\" file_size=\"20261404\" URI=\"/data/xnat/archive/ALFA_OPCIONAL/arc001/040110150916164/SCANS/403/DICOM/scan_403_catalog.xml\" format=\"DICOM\" content=\"RAW\" xsi:type=\"xnat:resourceCatalog\">\\n<!--hidden_fields[xnat_abstractResource_id=\"6832\",xnat_imageScanData_xnat_imagescandata_id=\"3659\"]-->\\n</xnat:file>\\n<xnat:file label=\"SNAPSHOTS\" file_count=\"2\" file_size=\"868390\" URI=\"/data/xnat/archive/ALFA_OPCIONAL/arc001/040110150916164/SCANS/403/SNAPSHOTS/403_catalog.xml\" format=\"GIF\" content=\"SNAPSHOTS\" xsi:type=\"xnat:resourceCatalog\">\\n<!--hidden_fields[xnat_abstractResource_id=\"7208\",xnat_imageScanData_xnat_imagescandata_id=\"3659\"]-->\\n</xnat:file>\\n<xnat:startTime>12:46:34</xnat:startTime>\\n<xnat:coil>MULTI COIL</xnat:coil>\\n<xnat:fieldStrength>3.0</xnat:fieldStrength>\\n<xnat:parameters>\\n<xnat:voxelRes x=\"0.75\" y=\"0.75\" z=\"1.0\"/>\\n<xnat:orientation>Cor</xnat:orientation>\\n<xnat:fov x=\"320\" y=\"320\"/>\\n<xnat:tr>9.89999961853027</xnat:tr>\\n<xnat:te>4.6</xnat:te>\\n<xnat:flip>8</xnat:flip>\\n<xnat:imageType>ORIGINAL\\\\PRIMARY\\\\PROJECTION IMAGE\\\\M\\\\FFE</xnat:imageType>\\n<xnat:scanSequence>GR</xnat:scanSequence>\\n<xnat:seqVariant>MP</xnat:seqVariant>\\n<xnat:scanOptions>SP</xnat:scanOptions>\\n<xnat:acqType>3D</xnat:acqType>\\n<xnat:pixelBandwidth>143.0</xnat:pixelBandwidth>\\n<xnat:diffusion>\\n<xnat:bValues>0.0</xnat:bValues>\\n<xnat:orientations>0.0\\\\0.0\\\\0.0</xnat:orientations>\\n</xnat:diffusion>\\n</xnat:parameters>\\n</xnat:scan>\\n<xnat:scan ID=\"404\" type=\"T1 AXIAL\" UID=\"1.3.46.670589.11.78036.5.0.10164.2016091512475972000\" xsi:type=\"xnat:mrScanData\">\\n<!--hidden_fields[xnat_imageScanData_id=\"3660\"]-->\\n<xnat:image_session_ID>BBRC_E00189</xnat:image_session_ID>\\n<xnat:quality>usable</xnat:quality>\\n<xnat:series_description>T1 AXIAL</xnat:series_description>\\n<xnat:scanner manufacturer=\"Philips Medical Systems\" model=\"Ingenia CX\">PHILIPS-V4HKJ2I</xnat:scanner>\\n<xnat:frames>85</xnat:frames>\\n<xnat:file label=\"DICOM\" file_count=\"85\" file_size=\"18128626\" URI=\"/data/xnat/archive/ALFA_OPCIONAL/arc001/040110150916164/SCANS/404/DICOM/scan_404_catalog.xml\" format=\"DICOM\" content=\"RAW\" xsi:type=\"xnat:resourceCatalog\">\\n<!--hidden_fields[xnat_abstractResource_id=\"6833\",xnat_imageScanData_xnat_imagescandata_id=\"3660\"]-->\\n</xnat:file>\\n<xnat:file label=\"SNAPSHOTS\" file_count=\"2\" file_size=\"758127\" URI=\"/data/xnat/archive/ALFA_OPCIONAL/arc001/040110150916164/SCANS/404/SNAPSHOTS/404_catalog.xml\" format=\"GIF\" content=\"SNAPSHOTS\" xsi:type=\"xnat:resourceCatalog\">\\n<!--hidden_fields[xnat_abstractResource_id=\"7210\",xnat_imageScanData_xnat_imagescandata_id=\"3660\"]-->\\n</xnat:file>\\n<xnat:startTime>12:47:59</xnat:startTime>\\n<xnat:coil>MULTI COIL</xnat:coil>\\n<xnat:fieldStrength>3.0</xnat:fieldStrength>\\n<xnat:parameters>\\n<xnat:voxelRes x=\"0.75\" y=\"0.75\" z=\"1.0\"/>\\n<xnat:orientation>Tra</xnat:orientation>\\n<xnat:fov x=\"320\" y=\"320\"/>\\n<xnat:tr>9.89999961853027</xnat:tr>\\n<xnat:te>4.6</xnat:te>\\n<xnat:flip>8</xnat:flip>\\n<xnat:imageType>ORIGINAL\\\\PRIMARY\\\\PROJECTION IMAGE\\\\M\\\\FFE</xnat:imageType>\\n<xnat:scanSequence>GR</xnat:scanSequence>\\n<xnat:seqVariant>MP</xnat:seqVariant>\\n<xnat:scanOptions>SP</xnat:scanOptions>\\n<xnat:acqType>3D</xnat:acqType>\\n<xnat:pixelBandwidth>143.0</xnat:pixelBandwidth>\\n<xnat:diffusion>\\n<xnat:bValues>0.0</xnat:bValues>\\n<xnat:orientations>0.0\\\\0.0\\\\0.0</xnat:orientations>\\n</xnat:diffusion>\\n</xnat:parameters>\\n</xnat:scan>\\n<xnat:scan ID=\"501\" type=\"rRS_ALFA1\" UID=\"1.3.46.670589.11.78036.5.0.10288.2016091512434137186\" xsi:type=\"xnat:mrScanData\">\\n<!--hidden_fields[xnat_imageScanData_id=\"3661\"]-->\\n<xnat:image_session_ID>BBRC_E00189</xnat:image_session_ID>\\n<xnat:quality>usable</xnat:quality>\\n<xnat:series_description>rRS_ALFA1</xnat:series_description>\\n<xnat:scanner manufacturer=\"Philips Medical Systems\" model=\"Ingenia CX\">PHILIPS-V4HKJ2I</xnat:scanner>\\n<xnat:frames>230</xnat:frames>\\n<xnat:file label=\"DICOM\" file_count=\"230\" file_size=\"4907320\" URI=\"/data/xnat/archive/ALFA_OPCIONAL/arc001/040110150916164/SCANS/501/DICOM/scan_501_catalog.xml\" format=\"DICOM\" content=\"RAW\" xsi:type=\"xnat:resourceCatalog\">\\n<!--hidden_fields[xnat_abstractResource_id=\"6834\",xnat_imageScanData_xnat_imagescandata_id=\"3661\"]-->\\n</xnat:file>\\n<xnat:file label=\"secondary\" file_count=\"1\" file_size=\"591232\" URI=\"/data/xnat/archive/ALFA_OPCIONAL/arc001/040110150916164/SCANS/501/DICOM/scan_501_secondary_catalog.xml\" format=\"DICOM\" content=\"secondary\" xsi:type=\"xnat:resourceCatalog\">\\n<!--hidden_fields[xnat_abstractResource_id=\"6835\",xnat_imageScanData_xnat_imagescandata_id=\"3661\"]-->\\n</xnat:file>\\n<xnat:file label=\"SNAPSHOTS\" file_count=\"2\" file_size=\"57113\" URI=\"/data/xnat/archive/ALFA_OPCIONAL/arc001/040110150916164/SCANS/501/SNAPSHOTS/501_catalog.xml\" format=\"GIF\" content=\"SNAPSHOTS\" xsi:type=\"xnat:resourceCatalog\">\\n<!--hidden_fields[xnat_abstractResource_id=\"7212\",xnat_imageScanData_xnat_imagescandata_id=\"3661\"]-->\\n</xnat:file>\\n<xnat:startTime>12:43:41</xnat:startTime>\\n<xnat:coil>MULTI COIL</xnat:coil>\\n<xnat:fieldStrength>3.0</xnat:fieldStrength>\\n<xnat:parameters>\\n<xnat:voxelRes x=\"3.0\" y=\"3.0\" z=\"3.1\"/>\\n<xnat:orientation>Tra</xnat:orientation>\\n<xnat:fov x=\"80\" y=\"80\"/>\\n<xnat:tr>1599.99890136718</xnat:tr>\\n<xnat:te>35.0</xnat:te>\\n<xnat:ti>0.0</xnat:ti>\\n<xnat:flip>70</xnat:flip>\\n<xnat:imageType>ORIGINAL\\\\PRIMARY\\\\M_FFE\\\\M\\\\FFE</xnat:imageType>\\n<xnat:scanSequence>GR</xnat:scanSequence>\\n<xnat:seqVariant>SK</xnat:seqVariant>\\n<xnat:scanOptions>FS</xnat:scanOptions>\\n<xnat:acqType>2D</xnat:acqType>\\n<xnat:pixelBandwidth>3820.0</xnat:pixelBandwidth>\\n<xnat:diffusion>\\n<xnat:bValues>0.0</xnat:bValues>\\n<xnat:orientations>0.0\\\\0.0\\\\0.0</xnat:orientations>\\n</xnat:diffusion>\\n</xnat:parameters>\\n</xnat:scan>\\n<xnat:scan ID=\"601\" type=\"RS_ALFA1\" UID=\"1.3.46.670589.11.78036.5.0.10288.2016091512441499372\" xsi:type=\"xnat:mrScanData\">\\n<!--hidden_fields[xnat_imageScanData_id=\"3662\"]-->\\n<xnat:image_session_ID>BBRC_E00189</xnat:image_session_ID>\\n<xnat:quality>usable</xnat:quality>\\n<xnat:series_description>RS_ALFA1</xnat:series_description>\\n<xnat:scanner manufacturer=\"Philips Medical Systems\" model=\"Ingenia CX\">PHILIPS-V4HKJ2I</xnat:scanner>\\n<xnat:frames>13800</xnat:frames>\\n<xnat:file label=\"DICOM\" file_count=\"13800\" file_size=\"294565162\" URI=\"/data/xnat/archive/ALFA_OPCIONAL/arc001/040110150916164/SCANS/601/DICOM/scan_601_catalog.xml\" format=\"DICOM\" content=\"RAW\" xsi:type=\"xnat:resourceCatalog\">\\n<!--hidden_fields[xnat_abstractResource_id=\"6836\",xnat_imageScanData_xnat_imagescandata_id=\"3662\"]-->\\n</xnat:file>\\n<xnat:file label=\"secondary\" file_count=\"1\" file_size=\"591232\" URI=\"/data/xnat/archive/ALFA_OPCIONAL/arc001/040110150916164/SCANS/601/DICOM/scan_601_secondary_catalog.xml\" format=\"DICOM\" content=\"secondary\" xsi:type=\"xnat:resourceCatalog\">\\n<!--hidden_fields[xnat_abstractResource_id=\"6837\",xnat_imageScanData_xnat_imagescandata_id=\"3662\"]-->\\n</xnat:file>\\n<xnat:startTime>12:44:14</xnat:startTime>\\n<xnat:coil>MULTI COIL</xnat:coil>\\n<xnat:fieldStrength>3.0</xnat:fieldStrength>\\n<xnat:parameters>\\n<xnat:voxelRes x=\"3.0\" y=\"3.0\" z=\"3.1\"/>\\n<xnat:orientation>Tra</xnat:orientation>\\n<xnat:fov x=\"80\" y=\"80\"/>\\n<xnat:tr>1599.99890136718</xnat:tr>\\n<xnat:te>35.0</xnat:te>\\n<xnat:ti>0.0</xnat:ti>\\n<xnat:flip>70</xnat:flip>\\n<xnat:imageType>ORIGINAL\\\\PRIMARY\\\\M_FFE\\\\M\\\\FFE</xnat:imageType>\\n<xnat:scanSequence>GR</xnat:scanSequence>\\n<xnat:seqVariant>SK</xnat:seqVariant>\\n<xnat:scanOptions>FS</xnat:scanOptions>\\n<xnat:acqType>2D</xnat:acqType>\\n<xnat:pixelBandwidth>3820.0</xnat:pixelBandwidth>\\n<xnat:diffusion>\\n<xnat:bValues>0.0</xnat:bValues>\\n<xnat:orientations>0.0\\\\0.0\\\\0.0</xnat:orientations>\\n</xnat:diffusion>\\n</xnat:parameters>\\n</xnat:scan>\\n<xnat:scan ID=\"701\" type=\"FLAIR_ALFA1\" UID=\"1.3.46.670589.11.78036.5.0.10288.2016091512535396224\" xsi:type=\"xnat:mrScanData\">\\n<!--hidden_fields[xnat_imageScanData_id=\"3663\"]-->\\n<xnat:image_session_ID>BBRC_E00189</xnat:image_session_ID>\\n<xnat:quality>usable</xnat:quality>\\n<xnat:series_description>FLAIR_ALFA1</xnat:series_description>\\n<xnat:scanner manufacturer=\"Philips Medical Systems\" model=\"Ingenia CX\">PHILIPS-V4HKJ2I</xnat:scanner>\\n<xnat:frames>180</xnat:frames>\\n<xnat:file label=\"DICOM\" file_count=\"180\" file_size=\"25132612\" URI=\"/data/xnat/archive/ALFA_OPCIONAL/arc001/040110150916164/SCANS/701/DICOM/scan_701_catalog.xml\" format=\"DICOM\" content=\"RAW\" xsi:type=\"xnat:resourceCatalog\">\\n<!--hidden_fields[xnat_abstractResource_id=\"6838\",xnat_imageScanData_xnat_imagescandata_id=\"3663\"]-->\\n</xnat:file>\\n<xnat:file label=\"secondary\" file_count=\"1\" file_size=\"591250\" URI=\"/data/xnat/archive/ALFA_OPCIONAL/arc001/040110150916164/SCANS/701/DICOM/scan_701_secondary_catalog.xml\" format=\"DICOM\" content=\"secondary\" xsi:type=\"xnat:resourceCatalog\">\\n<!--hidden_fields[xnat_abstractResource_id=\"6839\",xnat_imageScanData_xnat_imagescandata_id=\"3663\"]-->\\n</xnat:file>\\n<xnat:file label=\"SNAPSHOTS\" file_count=\"2\" file_size=\"650542\" URI=\"/data/xnat/archive/ALFA_OPCIONAL/arc001/040110150916164/SCANS/701/SNAPSHOTS/701_catalog.xml\" format=\"GIF\" content=\"SNAPSHOTS\" xsi:type=\"xnat:resourceCatalog\">\\n<!--hidden_fields[xnat_abstractResource_id=\"7292\",xnat_imageScanData_xnat_imagescandata_id=\"3663\"]-->\\n</xnat:file>\\n<xnat:startTime>12:53:53</xnat:startTime>\\n<xnat:coil>MULTI COIL</xnat:coil>\\n<xnat:fieldStrength>3.0</xnat:fieldStrength>\\n<xnat:parameters>\\n<xnat:voxelRes x=\"0.9765625\" y=\"0.9765625\" z=\"1.0\"/>\\n<xnat:orientation>Sag</xnat:orientation>\\n<xnat:fov x=\"256\" y=\"256\"/>\\n<xnat:tr>5000.0</xnat:tr>\\n<xnat:te>312.0</xnat:te>\\n<xnat:ti>1700.0</xnat:ti>\\n<xnat:flip>90</xnat:flip>\\n<xnat:imageType>ORIGINAL\\\\PRIMARY\\\\M_IR\\\\M\\\\IR</xnat:imageType>\\n<xnat:scanSequence>IR</xnat:scanSequence>\\n<xnat:seqVariant>SK</xnat:seqVariant>\\n<xnat:scanOptions>FS</xnat:scanOptions>\\n<xnat:acqType>3D</xnat:acqType>\\n<xnat:pixelBandwidth>1055.0</xnat:pixelBandwidth>\\n<xnat:diffusion>\\n<xnat:bValues>0.0</xnat:bValues>\\n<xnat:orientations>0.0\\\\0.0\\\\0.0</xnat:orientations>\\n</xnat:diffusion>\\n</xnat:parameters>\\n</xnat:scan>\\n<xnat:scan ID=\"703\" type=\"FLAIR CORONAL\" UID=\"1.3.46.670589.11.78036.5.0.12460.2016091513025635000\" xsi:type=\"xnat:mrScanData\">\\n<!--hidden_fields[xnat_imageScanData_id=\"3664\"]-->\\n<xnat:image_session_ID>BBRC_E00189</xnat:image_session_ID>\\n<xnat:quality>usable</xnat:quality>\\n<xnat:series_description>FLAIR CORONAL</xnat:series_description>\\n<xnat:scanner manufacturer=\"Philips Medical Systems\" model=\"Ingenia CX\">PHILIPS-V4HKJ2I</xnat:scanner>\\n<xnat:frames>95</xnat:frames>\\n<xnat:file label=\"DICOM\" file_count=\"95\" file_size=\"13259334\" URI=\"/data/xnat/archive/ALFA_OPCIONAL/arc001/040110150916164/SCANS/703/DICOM/scan_703_catalog.xml\" format=\"DICOM\" content=\"RAW\" xsi:type=\"xnat:resourceCatalog\">\\n<!--hidden_fields[xnat_abstractResource_id=\"6840\",xnat_imageScanData_xnat_imagescandata_id=\"3664\"]-->\\n</xnat:file>\\n<xnat:file label=\"SNAPSHOTS\" file_count=\"2\" file_size=\"505160\" URI=\"/data/xnat/archive/ALFA_OPCIONAL/arc001/040110150916164/SCANS/703/SNAPSHOTS/703_catalog.xml\" format=\"GIF\" content=\"SNAPSHOTS\" xsi:type=\"xnat:resourceCatalog\">\\n<!--hidden_fields[xnat_abstractResource_id=\"7293\",xnat_imageScanData_xnat_imagescandata_id=\"3664\"]-->\\n</xnat:file>\\n<xnat:startTime>13:02:56</xnat:startTime>\\n<xnat:coil>MULTI COIL</xnat:coil>\\n<xnat:fieldStrength>3.0</xnat:fieldStrength>\\n<xnat:parameters>\\n<xnat:voxelRes x=\"0.9765625\" y=\"0.9765625\" z=\"1.0\"/>\\n<xnat:orientation>Cor</xnat:orientation>\\n<xnat:fov x=\"256\" y=\"256\"/>\\n<xnat:tr>5000.0</xnat:tr>\\n<xnat:te>312.0</xnat:te>\\n<xnat:ti>1700.0</xnat:ti>\\n<xnat:flip>90</xnat:flip>\\n<xnat:imageType>ORIGINAL\\\\PRIMARY\\\\PROJECTION IMAGE\\\\M\\\\IR</xnat:imageType>\\n<xnat:scanSequence>IR</xnat:scanSequence>\\n<xnat:seqVariant>SK</xnat:seqVariant>\\n<xnat:scanOptions>FS</xnat:scanOptions>\\n<xnat:acqType>3D</xnat:acqType>\\n<xnat:pixelBandwidth>1055.0</xnat:pixelBandwidth>\\n<xnat:diffusion>\\n<xnat:bValues>0.0</xnat:bValues>\\n<xnat:orientations>0.0\\\\0.0\\\\0.0</xnat:orientations>\\n</xnat:diffusion>\\n</xnat:parameters>\\n</xnat:scan>\\n<xnat:scan ID=\"704\" type=\"FLAIR AXIAL\" UID=\"1.3.46.670589.11.78036.5.0.11572.2016091513072245000\" xsi:type=\"xnat:mrScanData\">\\n<!--hidden_fields[xnat_imageScanData_id=\"3665\"]-->\\n<xnat:image_session_ID>BBRC_E00189</xnat:image_session_ID>\\n<xnat:quality>usable</xnat:quality>\\n<xnat:series_description>FLAIR AXIAL</xnat:series_description>\\n<xnat:scanner manufacturer=\"Philips Medical Systems\" model=\"Ingenia CX\">PHILIPS-V4HKJ2I</xnat:scanner>\\n<xnat:frames>85</xnat:frames>\\n<xnat:file label=\"DICOM\" file_count=\"85\" file_size=\"11863614\" URI=\"/data/xnat/archive/ALFA_OPCIONAL/arc001/040110150916164/SCANS/704/DICOM/scan_704_catalog.xml\" format=\"DICOM\" content=\"RAW\" xsi:type=\"xnat:resourceCatalog\">\\n<!--hidden_fields[xnat_abstractResource_id=\"6841\",xnat_imageScanData_xnat_imagescandata_id=\"3665\"]-->\\n</xnat:file>\\n<xnat:file label=\"SNAPSHOTS\" file_count=\"2\" file_size=\"464216\" URI=\"/data/xnat/archive/ALFA_OPCIONAL/arc001/040110150916164/SCANS/704/SNAPSHOTS/704_catalog.xml\" format=\"GIF\" content=\"SNAPSHOTS\" xsi:type=\"xnat:resourceCatalog\">\\n<!--hidden_fields[xnat_abstractResource_id=\"7294\",xnat_imageScanData_xnat_imagescandata_id=\"3665\"]-->\\n</xnat:file>\\n<xnat:startTime>13:07:22</xnat:startTime>\\n<xnat:coil>MULTI COIL</xnat:coil>\\n<xnat:fieldStrength>3.0</xnat:fieldStrength>\\n<xnat:parameters>\\n<xnat:voxelRes x=\"0.9765625\" y=\"0.9765625\" z=\"1.0\"/>\\n<xnat:orientation>Tra</xnat:orientation>\\n<xnat:fov x=\"256\" y=\"256\"/>\\n<xnat:tr>5000.0</xnat:tr>\\n<xnat:te>312.0</xnat:te>\\n<xnat:ti>1700.0</xnat:ti>\\n<xnat:flip>90</xnat:flip>\\n<xnat:imageType>ORIGINAL\\\\PRIMARY\\\\PROJECTION IMAGE\\\\M\\\\IR</xnat:imageType>\\n<xnat:scanSequence>IR</xnat:scanSequence>\\n<xnat:seqVariant>SK</xnat:seqVariant>\\n<xnat:scanOptions>FS</xnat:scanOptions>\\n<xnat:acqType>3D</xnat:acqType>\\n<xnat:pixelBandwidth>1055.0</xnat:pixelBandwidth>\\n<xnat:diffusion>\\n<xnat:bValues>0.0</xnat:bValues>\\n<xnat:orientations>0.0\\\\0.0\\\\0.0</xnat:orientations>\\n</xnat:diffusion>\\n</xnat:parameters>\\n</xnat:scan>\\n<xnat:scan ID=\"801\" type=\"T2_ALFA1\" UID=\"1.3.46.670589.11.78036.5.0.10288.2016091513003497246\" xsi:type=\"xnat:mrScanData\">\\n<!--hidden_fields[xnat_imageScanData_id=\"3666\"]-->\\n<xnat:image_session_ID>BBRC_E00189</xnat:image_session_ID>\\n<xnat:quality>usable</xnat:quality>\\n<xnat:series_description>T2_ALFA1</xnat:series_description>\\n<xnat:scanner manufacturer=\"Philips Medical Systems\" model=\"Ingenia CX\">PHILIPS-V4HKJ2I</xnat:scanner>\\n<xnat:frames>360</xnat:frames>\\n<xnat:file label=\"DICOM\" file_count=\"360\" file_size=\"50255560\" URI=\"/data/xnat/archive/ALFA_OPCIONAL/arc001/040110150916164/SCANS/801/DICOM/scan_801_catalog.xml\" format=\"DICOM\" content=\"RAW\" xsi:type=\"xnat:resourceCatalog\">\\n<!--hidden_fields[xnat_abstractResource_id=\"6842\",xnat_imageScanData_xnat_imagescandata_id=\"3666\"]-->\\n</xnat:file>\\n<xnat:file label=\"secondary\" file_count=\"1\" file_size=\"591234\" URI=\"/data/xnat/archive/ALFA_OPCIONAL/arc001/040110150916164/SCANS/801/DICOM/scan_801_secondary_catalog.xml\" format=\"DICOM\" content=\"secondary\" xsi:type=\"xnat:resourceCatalog\">\\n<!--hidden_fields[xnat_abstractResource_id=\"6843\",xnat_imageScanData_xnat_imagescandata_id=\"3666\"]-->\\n</xnat:file>\\n<xnat:file label=\"SNAPSHOTS\" file_count=\"2\" file_size=\"550555\" URI=\"/data/xnat/archive/ALFA_OPCIONAL/arc001/040110150916164/SCANS/801/SNAPSHOTS/801_catalog.xml\" format=\"GIF\" content=\"SNAPSHOTS\" xsi:type=\"xnat:resourceCatalog\">\\n<!--hidden_fields[xnat_abstractResource_id=\"7298\",xnat_imageScanData_xnat_imagescandata_id=\"3666\"]-->\\n</xnat:file>\\n<xnat:startTime>13:00:34</xnat:startTime>\\n<xnat:coil>MULTI COIL</xnat:coil>\\n<xnat:fieldStrength>3.0</xnat:fieldStrength>\\n<xnat:parameters>\\n<xnat:voxelRes x=\"0.9765625\" y=\"0.9765625\" z=\"1.0\"/>\\n<xnat:orientation>Sag</xnat:orientation>\\n<xnat:fov x=\"256\" y=\"256\"/>\\n<xnat:tr>2500.0</xnat:tr>\\n<xnat:te>264.0</xnat:te>\\n<xnat:ti>0.0</xnat:ti>\\n<xnat:flip>90</xnat:flip>\\n<xnat:imageType>ORIGINAL\\\\PRIMARY\\\\M_SE\\\\M\\\\SE</xnat:imageType>\\n<xnat:scanSequence>SE</xnat:scanSequence>\\n<xnat:seqVariant>SK</xnat:seqVariant>\\n<xnat:scanOptions>FS</xnat:scanOptions>\\n<xnat:acqType>3D</xnat:acqType>\\n<xnat:pixelBandwidth>729.0</xnat:pixelBandwidth>\\n<xnat:diffusion>\\n<xnat:bValues>0.0</xnat:bValues>\\n<xnat:orientations>0.0\\\\0.0\\\\0.0</xnat:orientations>\\n</xnat:diffusion>\\n</xnat:parameters>\\n</xnat:scan>\\n<xnat:scan ID=\"901\" type=\"IR_ALFA1\" UID=\"1.3.46.670589.11.78036.5.0.10288.2016091513065636772\" xsi:type=\"xnat:mrScanData\">\\n<!--hidden_fields[xnat_imageScanData_id=\"3667\"]-->\\n<xnat:image_session_ID>BBRC_E00189</xnat:image_session_ID>\\n<xnat:quality>usable</xnat:quality>\\n<xnat:series_description>IR_ALFA1</xnat:series_description>\\n<xnat:scanner manufacturer=\"Philips Medical Systems\" model=\"Ingenia CX\">PHILIPS-V4HKJ2I</xnat:scanner>\\n<xnat:frames>78</xnat:frames>\\n<xnat:file label=\"DICOM\" file_count=\"78\" file_size=\"52425506\" URI=\"/data/xnat/archive/ALFA_OPCIONAL/arc001/040110150916164/SCANS/901/DICOM/scan_901_catalog.xml\" format=\"DICOM\" content=\"RAW\" xsi:type=\"xnat:resourceCatalog\">\\n<!--hidden_fields[xnat_abstractResource_id=\"6844\",xnat_imageScanData_xnat_imagescandata_id=\"3667\"]-->\\n</xnat:file>\\n<xnat:file label=\"secondary\" file_count=\"1\" file_size=\"591232\" URI=\"/data/xnat/archive/ALFA_OPCIONAL/arc001/040110150916164/SCANS/901/DICOM/scan_901_secondary_catalog.xml\" format=\"DICOM\" content=\"secondary\" xsi:type=\"xnat:resourceCatalog\">\\n<!--hidden_fields[xnat_abstractResource_id=\"6845\",xnat_imageScanData_xnat_imagescandata_id=\"3667\"]-->\\n</xnat:file>\\n<xnat:file label=\"SNAPSHOTS\" file_count=\"2\" file_size=\"1151881\" URI=\"/data/xnat/archive/ALFA_OPCIONAL/arc001/040110150916164/SCANS/901/SNAPSHOTS/901_catalog.xml\" format=\"GIF\" content=\"SNAPSHOTS\" xsi:type=\"xnat:resourceCatalog\">\\n<!--hidden_fields[xnat_abstractResource_id=\"7299\",xnat_imageScanData_xnat_imagescandata_id=\"3667\"]-->\\n</xnat:file>\\n<xnat:startTime>13:06:56</xnat:startTime>\\n<xnat:coil>MULTI COIL</xnat:coil>\\n<xnat:fieldStrength>3.0</xnat:fieldStrength>\\n<xnat:parameters>\\n<xnat:voxelRes x=\"0.39930555224418\" y=\"0.39930555224418\" z=\"2.0\"/>\\n<xnat:orientation>Cor</xnat:orientation>\\n<xnat:fov x=\"576\" y=\"576\"/>\\n<xnat:tr>3666.71142578125</xnat:tr>\\n<xnat:te>26.0</xnat:te>\\n<xnat:ti>400.0</xnat:ti>\\n<xnat:flip>90</xnat:flip>\\n<xnat:scanSequence>IR</xnat:scanSequence>\\n<xnat:seqVariant>SK</xnat:seqVariant>\\n<xnat:scanOptions>OTHER</xnat:scanOptions>\\n<xnat:acqType>2D</xnat:acqType>\\n<xnat:pixelBandwidth>137.0</xnat:pixelBandwidth>\\n<xnat:diffusion>\\n<xnat:bValues>0.0</xnat:bValues>\\n<xnat:orientations>0.0\\\\0.0\\\\0.0</xnat:orientations>\\n</xnat:diffusion>\\n</xnat:parameters>\\n</xnat:scan>\\n<xnat:scan ID=\"1001\" type=\"rDWI_ALFA1\" UID=\"1.3.46.670589.11.78036.5.0.10288.2016091513145058854\" xsi:type=\"xnat:mrScanData\">\\n<!--hidden_fields[xnat_imageScanData_id=\"3668\"]-->\\n<xnat:image_session_ID>BBRC_E00189</xnat:image_session_ID>\\n<xnat:quality>usable</xnat:quality>\\n<xnat:series_description>rDWI_ALFA1</xnat:series_description>\\n<xnat:scanner manufacturer=\"Philips Medical Systems\" model=\"Ingenia CX\">PHILIPS-V4HKJ2I</xnat:scanner>\\n<xnat:frames>66</xnat:frames>\\n<xnat:file label=\"DICOM\" file_count=\"66\" file_size=\"2220558\" URI=\"/data/xnat/archive/ALFA_OPCIONAL/arc001/040110150916164/SCANS/1001/DICOM/scan_1001_catalog.xml\" format=\"DICOM\" content=\"RAW\" xsi:type=\"xnat:resourceCatalog\">\\n<!--hidden_fields[xnat_abstractResource_id=\"6846\",xnat_imageScanData_xnat_imagescandata_id=\"3668\"]-->\\n</xnat:file>\\n<xnat:file label=\"secondary\" file_count=\"1\" file_size=\"591234\" URI=\"/data/xnat/archive/ALFA_OPCIONAL/arc001/040110150916164/SCANS/1001/DICOM/scan_1001_secondary_catalog.xml\" format=\"DICOM\" content=\"secondary\" xsi:type=\"xnat:resourceCatalog\">\\n<!--hidden_fields[xnat_abstractResource_id=\"6847\",xnat_imageScanData_xnat_imagescandata_id=\"3668\"]-->\\n</xnat:file>\\n<xnat:file label=\"SNAPSHOTS\" file_count=\"2\" file_size=\"68454\" URI=\"/data/xnat/archive/ALFA_OPCIONAL/arc001/040110150916164/SCANS/1001/SNAPSHOTS/1001_catalog.xml\" format=\"GIF\" content=\"SNAPSHOTS\" xsi:type=\"xnat:resourceCatalog\">\\n<!--hidden_fields[xnat_abstractResource_id=\"7300\",xnat_imageScanData_xnat_imagescandata_id=\"3668\"]-->\\n</xnat:file>\\n<xnat:startTime>13:14:50</xnat:startTime>\\n<xnat:coil>MULTI COIL</xnat:coil>\\n<xnat:fieldStrength>3.0</xnat:fieldStrength>\\n<xnat:parameters>\\n<xnat:voxelRes x=\"2.05357146263122\" y=\"2.05357146263122\" z=\"2.2\"/>\\n<xnat:orientation>Tra</xnat:orientation>\\n<xnat:fov x=\"112\" y=\"112\"/>\\n<xnat:tr>8999.998046875</xnat:tr>\\n<xnat:te>90.0</xnat:te>\\n<xnat:ti>0.0</xnat:ti>\\n<xnat:flip>90</xnat:flip>\\n<xnat:imageType>ORIGINAL\\\\PRIMARY\\\\M_SE\\\\M\\\\SE</xnat:imageType>\\n<xnat:scanSequence>SE</xnat:scanSequence>\\n<xnat:seqVariant>SK</xnat:seqVariant>\\n<xnat:scanOptions>FS</xnat:scanOptions>\\n<xnat:acqType>2D</xnat:acqType>\\n<xnat:pixelBandwidth>1575.0</xnat:pixelBandwidth>\\n<xnat:diffusion>\\n<xnat:bValues>0.0</xnat:bValues>\\n<xnat:orientations>0.0\\\\0.0\\\\0.0</xnat:orientations>\\n</xnat:diffusion>\\n</xnat:parameters>\\n</xnat:scan>\\n<xnat:scan ID=\"1101\" type=\"DWI_ALFA1\" UID=\"1.3.46.670589.11.78036.5.0.10288.2016091513151698924\" xsi:type=\"xnat:mrScanData\">\\n<!--hidden_fields[xnat_imageScanData_id=\"3669\"]-->\\n<xnat:image_session_ID>BBRC_E00189</xnat:image_session_ID>\\n<xnat:quality>usable</xnat:quality>\\n<xnat:series_description>DWI_ALFA1</xnat:series_description>\\n<xnat:scanner manufacturer=\"Philips Medical Systems\" model=\"Ingenia CX\">PHILIPS-V4HKJ2I</xnat:scanner>\\n<xnat:frames>4752</xnat:frames>\\n<xnat:file label=\"DICOM\" file_count=\"4752\" file_size=\"159933748\" URI=\"/data/xnat/archive/ALFA_OPCIONAL/arc001/040110150916164/SCANS/1101/DICOM/scan_1101_catalog.xml\" format=\"DICOM\" content=\"RAW\" xsi:type=\"xnat:resourceCatalog\">\\n<!--hidden_fields[xnat_abstractResource_id=\"6848\",xnat_imageScanData_xnat_imagescandata_id=\"3669\"]-->\\n</xnat:file>\\n<xnat:file label=\"secondary\" file_count=\"1\" file_size=\"591234\" URI=\"/data/xnat/archive/ALFA_OPCIONAL/arc001/040110150916164/SCANS/1101/DICOM/scan_1101_secondary_catalog.xml\" format=\"DICOM\" content=\"secondary\" xsi:type=\"xnat:resourceCatalog\">\\n<!--hidden_fields[xnat_abstractResource_id=\"6849\",xnat_imageScanData_xnat_imagescandata_id=\"3669\"]-->\\n</xnat:file>\\n<xnat:startTime>13:15:16</xnat:startTime>\\n<xnat:coil>MULTI COIL</xnat:coil>\\n<xnat:fieldStrength>3.0</xnat:fieldStrength>\\n<xnat:parameters>\\n<xnat:voxelRes x=\"2.05357146263122\" y=\"2.05357146263122\" z=\"2.2\"/>\\n<xnat:orientation>Tra</xnat:orientation>\\n<xnat:fov x=\"112\" y=\"112\"/>\\n<xnat:tr>8999.998046875</xnat:tr>\\n<xnat:te>90.0</xnat:te>\\n<xnat:ti>0.0</xnat:ti>\\n<xnat:flip>90</xnat:flip>\\n<xnat:imageType>ORIGINAL\\\\PRIMARY\\\\M_SE\\\\M\\\\SE</xnat:imageType>\\n<xnat:scanSequence>SE</xnat:scanSequence>\\n<xnat:seqVariant>SK</xnat:seqVariant>\\n<xnat:scanOptions>FS</xnat:scanOptions>\\n<xnat:acqType>2D</xnat:acqType>\\n<xnat:pixelBandwidth>1652.0</xnat:pixelBandwidth>\\n</xnat:parameters>\\n</xnat:scan>\\n</xnat:scans>\\n<xnat:dcmAccessionNumber>040110150916164</xnat:dcmAccessionNumber>\\n<xnat:dcmPatientId>10164</xnat:dcmPatientId>\\n<xnat:dcmPatientName>10164</xnat:dcmPatientName>\\n<xnat:dcmPatientBirthDate>1956-09-13</xnat:dcmPatientBirthDate>\\n<xnat:fieldStrength>3.0</xnat:fieldStrength>\\n</xnat:MRSession>\\n'"
      ]
     },
     "execution_count": 123,
     "metadata": {},
     "output_type": "execute_result"
    }
   ],
   "source": [
    "o = s.scan('101')\n",
    "o.get()"
   ]
  },
  {
   "cell_type": "code",
   "execution_count": 296,
   "metadata": {
    "collapsed": false
   },
   "outputs": [
    {
     "data": {
      "text/plain": [
       "['xnat:mrSessionData']"
      ]
     },
     "execution_count": 296,
     "metadata": {},
     "output_type": "execute_result"
    }
   ],
   "source": []
  },
  {
   "cell_type": "code",
   "execution_count": 262,
   "metadata": {
    "collapsed": false
   },
   "outputs": [],
   "source": [
    "subjects = central.select.project(project).subjects()\n",
    "exp = central.select.project(project).experiment(s.label())"
   ]
  },
  {
   "cell_type": "code",
   "execution_count": 483,
   "metadata": {
    "collapsed": false
   },
   "outputs": [
    {
     "name": "stdout",
     "output_type": "stream",
     "text": [
      "Starting project ALFA_OPCIONAL\n",
      "0 416\n",
      "1 416\n",
      "2 416\n",
      "3 416\n",
      "4 416\n",
      "5 416\n",
      "6 416\n",
      "7 416\n"
     ]
    },
    {
     "ename": "KeyboardInterrupt",
     "evalue": "",
     "output_type": "error",
     "traceback": [
      "\u001b[0;31m---------------------------------------------------------------------------\u001b[0m",
      "\u001b[0;31mKeyboardInterrupt\u001b[0m                         Traceback (most recent call last)",
      "\u001b[0;32m<ipython-input-483-140630190e11>\u001b[0m in \u001b[0;36m<module>\u001b[0;34m()\u001b[0m\n\u001b[1;32m      8\u001b[0m \u001b[0mreload\u001b[0m\u001b[0;34m(\u001b[0m\u001b[0mbsc\u001b[0m\u001b[0;34m)\u001b[0m\u001b[0;34m\u001b[0m\u001b[0m\n\u001b[1;32m      9\u001b[0m \u001b[0;34m\u001b[0m\u001b[0m\n\u001b[0;32m---> 10\u001b[0;31m \u001b[0mbsc\u001b[0m\u001b[0;34m.\u001b[0m\u001b[0mcollect_all_sequences_list\u001b[0m\u001b[0;34m(\u001b[0m\u001b[0mcentral\u001b[0m\u001b[0;34m)\u001b[0m\u001b[0;34m\u001b[0m\u001b[0m\n\u001b[0m",
      "\u001b[0;32m/home/grg/git/slack-integrations/xnat_bsc_monitor.py\u001b[0m in \u001b[0;36mcollect_all_sequences_list\u001b[0;34m(central)\u001b[0m\n\u001b[1;32m    174\u001b[0m         \u001b[0;32mfor\u001b[0m \u001b[0mi\u001b[0m\u001b[0;34m,\u001b[0m\u001b[0me\u001b[0m \u001b[0;32min\u001b[0m \u001b[0menumerate\u001b[0m\u001b[0;34m(\u001b[0m\u001b[0mexp\u001b[0m\u001b[0;34m)\u001b[0m\u001b[0;34m:\u001b[0m\u001b[0;34m\u001b[0m\u001b[0m\n\u001b[1;32m    175\u001b[0m             \u001b[0;32mprint\u001b[0m \u001b[0mi\u001b[0m\u001b[0;34m,\u001b[0m \u001b[0mlength\u001b[0m\u001b[0;34m\u001b[0m\u001b[0m\n\u001b[0;32m--> 176\u001b[0;31m             \u001b[0mxnatId\u001b[0m \u001b[0;34m=\u001b[0m \u001b[0me\u001b[0m\u001b[0;34m.\u001b[0m\u001b[0mlabel\u001b[0m\u001b[0;34m(\u001b[0m\u001b[0;34m)\u001b[0m\u001b[0;34m\u001b[0m\u001b[0m\n\u001b[0m\u001b[1;32m    177\u001b[0m             \u001b[0md\u001b[0m \u001b[0;34m=\u001b[0m \u001b[0mcollect_sequences_list\u001b[0m\u001b[0;34m(\u001b[0m\u001b[0mcentral\u001b[0m\u001b[0;34m,\u001b[0m \u001b[0mproject\u001b[0m\u001b[0;34m,\u001b[0m \u001b[0mxnatId\u001b[0m\u001b[0;34m)\u001b[0m\u001b[0;34m\u001b[0m\u001b[0m\n\u001b[1;32m    178\u001b[0m             \u001b[0mkeys\u001b[0m \u001b[0;34m=\u001b[0m \u001b[0;34m[\u001b[0m\u001b[0;34m'ID'\u001b[0m\u001b[0;34m,\u001b[0m \u001b[0;34m'type'\u001b[0m\u001b[0;34m,\u001b[0m \u001b[0;34m'file_count'\u001b[0m\u001b[0;34m,\u001b[0m \u001b[0;34m'frames'\u001b[0m\u001b[0;34m]\u001b[0m\u001b[0;34m\u001b[0m\u001b[0m\n",
      "\u001b[0;32m/home/grg/jupyter/local/lib/python2.7/site-packages/pyxnat/core/resources.pyc\u001b[0m in \u001b[0;36mlabel\u001b[0;34m(self)\u001b[0m\n\u001b[1;32m    224\u001b[0m         \"\"\" Returns the element resource label.\n\u001b[1;32m    225\u001b[0m         \"\"\"\n\u001b[0;32m--> 226\u001b[0;31m         \u001b[0;32mreturn\u001b[0m \u001b[0mself\u001b[0m\u001b[0;34m.\u001b[0m\u001b[0m_getcell\u001b[0m\u001b[0;34m(\u001b[0m\u001b[0mschema\u001b[0m\u001b[0;34m.\u001b[0m\u001b[0mjson\u001b[0m\u001b[0;34m[\u001b[0m\u001b[0mself\u001b[0m\u001b[0;34m.\u001b[0m\u001b[0m_urt\u001b[0m\u001b[0;34m]\u001b[0m\u001b[0;34m[\u001b[0m\u001b[0;36m1\u001b[0m\u001b[0;34m]\u001b[0m\u001b[0;34m)\u001b[0m\u001b[0;34m\u001b[0m\u001b[0m\n\u001b[0m\u001b[1;32m    227\u001b[0m \u001b[0;34m\u001b[0m\u001b[0m\n\u001b[1;32m    228\u001b[0m     \u001b[0;32mdef\u001b[0m \u001b[0mdatatype\u001b[0m\u001b[0;34m(\u001b[0m\u001b[0mself\u001b[0m\u001b[0;34m)\u001b[0m\u001b[0;34m:\u001b[0m\u001b[0;34m\u001b[0m\u001b[0m\n",
      "\u001b[0;32m/home/grg/jupyter/local/lib/python2.7/site-packages/pyxnat/core/resources.pyc\u001b[0m in \u001b[0;36m_getcell\u001b[0;34m(self, col)\u001b[0m\n\u001b[1;32m    165\u001b[0m         \"\"\" Gets a single property of the element resource.\n\u001b[1;32m    166\u001b[0m         \"\"\"\n\u001b[0;32m--> 167\u001b[0;31m         \u001b[0;32mreturn\u001b[0m \u001b[0mself\u001b[0m\u001b[0;34m.\u001b[0m\u001b[0m_getcells\u001b[0m\u001b[0;34m(\u001b[0m\u001b[0;34m[\u001b[0m\u001b[0mcol\u001b[0m\u001b[0;34m]\u001b[0m\u001b[0;34m)\u001b[0m\u001b[0;34m\u001b[0m\u001b[0m\n\u001b[0m\u001b[1;32m    168\u001b[0m \u001b[0;34m\u001b[0m\u001b[0m\n\u001b[1;32m    169\u001b[0m     \u001b[0;32mdef\u001b[0m \u001b[0m_getcells\u001b[0m\u001b[0;34m(\u001b[0m\u001b[0mself\u001b[0m\u001b[0;34m,\u001b[0m \u001b[0mcols\u001b[0m\u001b[0;34m)\u001b[0m\u001b[0;34m:\u001b[0m\u001b[0;34m\u001b[0m\u001b[0m\n",
      "\u001b[0;32m/home/grg/jupyter/local/lib/python2.7/site-packages/pyxnat/core/resources.pyc\u001b[0m in \u001b[0;36m_getcells\u001b[0;34m(self, cols)\u001b[0m\n\u001b[1;32m    184\u001b[0m             if fnmatch(uri_segment(\n\u001b[1;32m    185\u001b[0m                     self._uri.split(\n\u001b[0;32m--> 186\u001b[0;31m                         self._intf._get_entry_point(), 1)[1], -2), pattern):\n\u001b[0m\u001b[1;32m    187\u001b[0m \u001b[0;34m\u001b[0m\u001b[0m\n\u001b[1;32m    188\u001b[0m                 \u001b[0mreg_pat\u001b[0m \u001b[0;34m=\u001b[0m \u001b[0mself\u001b[0m\u001b[0;34m.\u001b[0m\u001b[0m_intf\u001b[0m\u001b[0;34m.\u001b[0m\u001b[0m_struct\u001b[0m\u001b[0;34m[\u001b[0m\u001b[0mpattern\u001b[0m\u001b[0;34m]\u001b[0m\u001b[0;34m\u001b[0m\u001b[0m\n",
      "\u001b[0;32m/home/grg/jupyter/lib/python2.7/fnmatch.pyc\u001b[0m in \u001b[0;36mfnmatch\u001b[0;34m(name, pat)\u001b[0m\n\u001b[1;32m     41\u001b[0m     \u001b[0mname\u001b[0m \u001b[0;34m=\u001b[0m \u001b[0mos\u001b[0m\u001b[0;34m.\u001b[0m\u001b[0mpath\u001b[0m\u001b[0;34m.\u001b[0m\u001b[0mnormcase\u001b[0m\u001b[0;34m(\u001b[0m\u001b[0mname\u001b[0m\u001b[0;34m)\u001b[0m\u001b[0;34m\u001b[0m\u001b[0m\n\u001b[1;32m     42\u001b[0m     \u001b[0mpat\u001b[0m \u001b[0;34m=\u001b[0m \u001b[0mos\u001b[0m\u001b[0;34m.\u001b[0m\u001b[0mpath\u001b[0m\u001b[0;34m.\u001b[0m\u001b[0mnormcase\u001b[0m\u001b[0;34m(\u001b[0m\u001b[0mpat\u001b[0m\u001b[0;34m)\u001b[0m\u001b[0;34m\u001b[0m\u001b[0m\n\u001b[0;32m---> 43\u001b[0;31m     \u001b[0;32mreturn\u001b[0m \u001b[0mfnmatchcase\u001b[0m\u001b[0;34m(\u001b[0m\u001b[0mname\u001b[0m\u001b[0;34m,\u001b[0m \u001b[0mpat\u001b[0m\u001b[0;34m)\u001b[0m\u001b[0;34m\u001b[0m\u001b[0m\n\u001b[0m\u001b[1;32m     44\u001b[0m \u001b[0;34m\u001b[0m\u001b[0m\n\u001b[1;32m     45\u001b[0m \u001b[0;32mdef\u001b[0m \u001b[0mfilter\u001b[0m\u001b[0;34m(\u001b[0m\u001b[0mnames\u001b[0m\u001b[0;34m,\u001b[0m \u001b[0mpat\u001b[0m\u001b[0;34m)\u001b[0m\u001b[0;34m:\u001b[0m\u001b[0;34m\u001b[0m\u001b[0m\n",
      "\u001b[0;32m/home/grg/jupyter/lib/python2.7/fnmatch.pyc\u001b[0m in \u001b[0;36mfnmatchcase\u001b[0;34m(name, pat)\u001b[0m\n\u001b[1;32m     80\u001b[0m         \u001b[0;32mif\u001b[0m \u001b[0mlen\u001b[0m\u001b[0;34m(\u001b[0m\u001b[0m_cache\u001b[0m\u001b[0;34m)\u001b[0m \u001b[0;34m>=\u001b[0m \u001b[0m_MAXCACHE\u001b[0m\u001b[0;34m:\u001b[0m\u001b[0;34m\u001b[0m\u001b[0m\n\u001b[1;32m     81\u001b[0m             \u001b[0m_cache\u001b[0m\u001b[0;34m.\u001b[0m\u001b[0mclear\u001b[0m\u001b[0;34m(\u001b[0m\u001b[0;34m)\u001b[0m\u001b[0;34m\u001b[0m\u001b[0m\n\u001b[0;32m---> 82\u001b[0;31m         \u001b[0m_cache\u001b[0m\u001b[0;34m[\u001b[0m\u001b[0mpat\u001b[0m\u001b[0;34m]\u001b[0m \u001b[0;34m=\u001b[0m \u001b[0mre_pat\u001b[0m \u001b[0;34m=\u001b[0m \u001b[0mre\u001b[0m\u001b[0;34m.\u001b[0m\u001b[0mcompile\u001b[0m\u001b[0;34m(\u001b[0m\u001b[0mres\u001b[0m\u001b[0;34m)\u001b[0m\u001b[0;34m\u001b[0m\u001b[0m\n\u001b[0m\u001b[1;32m     83\u001b[0m     \u001b[0;32mreturn\u001b[0m \u001b[0mre_pat\u001b[0m\u001b[0;34m.\u001b[0m\u001b[0mmatch\u001b[0m\u001b[0;34m(\u001b[0m\u001b[0mname\u001b[0m\u001b[0;34m)\u001b[0m \u001b[0;32mis\u001b[0m \u001b[0;32mnot\u001b[0m \u001b[0mNone\u001b[0m\u001b[0;34m\u001b[0m\u001b[0m\n\u001b[1;32m     84\u001b[0m \u001b[0;34m\u001b[0m\u001b[0m\n",
      "\u001b[0;32m/home/grg/jupyter/lib/python2.7/re.pyc\u001b[0m in \u001b[0;36mcompile\u001b[0;34m(pattern, flags)\u001b[0m\n\u001b[1;32m    192\u001b[0m \u001b[0;32mdef\u001b[0m \u001b[0mcompile\u001b[0m\u001b[0;34m(\u001b[0m\u001b[0mpattern\u001b[0m\u001b[0;34m,\u001b[0m \u001b[0mflags\u001b[0m\u001b[0;34m=\u001b[0m\u001b[0;36m0\u001b[0m\u001b[0;34m)\u001b[0m\u001b[0;34m:\u001b[0m\u001b[0;34m\u001b[0m\u001b[0m\n\u001b[1;32m    193\u001b[0m     \u001b[0;34m\"Compile a regular expression pattern, returning a pattern object.\"\u001b[0m\u001b[0;34m\u001b[0m\u001b[0m\n\u001b[0;32m--> 194\u001b[0;31m     \u001b[0;32mreturn\u001b[0m \u001b[0m_compile\u001b[0m\u001b[0;34m(\u001b[0m\u001b[0mpattern\u001b[0m\u001b[0;34m,\u001b[0m \u001b[0mflags\u001b[0m\u001b[0;34m)\u001b[0m\u001b[0;34m\u001b[0m\u001b[0m\n\u001b[0m\u001b[1;32m    195\u001b[0m \u001b[0;34m\u001b[0m\u001b[0m\n\u001b[1;32m    196\u001b[0m \u001b[0;32mdef\u001b[0m \u001b[0mpurge\u001b[0m\u001b[0;34m(\u001b[0m\u001b[0;34m)\u001b[0m\u001b[0;34m:\u001b[0m\u001b[0;34m\u001b[0m\u001b[0m\n",
      "\u001b[0;32m/home/grg/jupyter/lib/python2.7/re.pyc\u001b[0m in \u001b[0;36m_compile\u001b[0;34m(*key)\u001b[0m\n\u001b[1;32m    247\u001b[0m         \u001b[0;32mraise\u001b[0m \u001b[0mTypeError\u001b[0m\u001b[0;34m,\u001b[0m \u001b[0;34m\"first argument must be string or compiled pattern\"\u001b[0m\u001b[0;34m\u001b[0m\u001b[0m\n\u001b[1;32m    248\u001b[0m     \u001b[0;32mtry\u001b[0m\u001b[0;34m:\u001b[0m\u001b[0;34m\u001b[0m\u001b[0m\n\u001b[0;32m--> 249\u001b[0;31m         \u001b[0mp\u001b[0m \u001b[0;34m=\u001b[0m \u001b[0msre_compile\u001b[0m\u001b[0;34m.\u001b[0m\u001b[0mcompile\u001b[0m\u001b[0;34m(\u001b[0m\u001b[0mpattern\u001b[0m\u001b[0;34m,\u001b[0m \u001b[0mflags\u001b[0m\u001b[0;34m)\u001b[0m\u001b[0;34m\u001b[0m\u001b[0m\n\u001b[0m\u001b[1;32m    250\u001b[0m     \u001b[0;32mexcept\u001b[0m \u001b[0merror\u001b[0m\u001b[0;34m,\u001b[0m \u001b[0mv\u001b[0m\u001b[0;34m:\u001b[0m\u001b[0;34m\u001b[0m\u001b[0m\n\u001b[1;32m    251\u001b[0m         \u001b[0;32mraise\u001b[0m \u001b[0merror\u001b[0m\u001b[0;34m,\u001b[0m \u001b[0mv\u001b[0m \u001b[0;31m# invalid expression\u001b[0m\u001b[0;34m\u001b[0m\u001b[0m\n",
      "\u001b[0;32m/home/grg/jupyter/lib/python2.7/sre_compile.pyc\u001b[0m in \u001b[0;36mcompile\u001b[0;34m(p, flags)\u001b[0m\n\u001b[1;32m    574\u001b[0m         \u001b[0mpattern\u001b[0m \u001b[0;34m=\u001b[0m \u001b[0mNone\u001b[0m\u001b[0;34m\u001b[0m\u001b[0m\n\u001b[1;32m    575\u001b[0m \u001b[0;34m\u001b[0m\u001b[0m\n\u001b[0;32m--> 576\u001b[0;31m     \u001b[0mcode\u001b[0m \u001b[0;34m=\u001b[0m \u001b[0m_code\u001b[0m\u001b[0;34m(\u001b[0m\u001b[0mp\u001b[0m\u001b[0;34m,\u001b[0m \u001b[0mflags\u001b[0m\u001b[0;34m)\u001b[0m\u001b[0;34m\u001b[0m\u001b[0m\n\u001b[0m\u001b[1;32m    577\u001b[0m \u001b[0;34m\u001b[0m\u001b[0m\n\u001b[1;32m    578\u001b[0m     \u001b[0;31m# print code\u001b[0m\u001b[0;34m\u001b[0m\u001b[0;34m\u001b[0m\u001b[0m\n",
      "\u001b[0;32m/home/grg/jupyter/lib/python2.7/sre_compile.pyc\u001b[0m in \u001b[0;36m_code\u001b[0;34m(p, flags)\u001b[0m\n\u001b[1;32m    559\u001b[0m \u001b[0;34m\u001b[0m\u001b[0m\n\u001b[1;32m    560\u001b[0m     \u001b[0;31m# compile the pattern\u001b[0m\u001b[0;34m\u001b[0m\u001b[0;34m\u001b[0m\u001b[0m\n\u001b[0;32m--> 561\u001b[0;31m     \u001b[0m_compile\u001b[0m\u001b[0;34m(\u001b[0m\u001b[0mcode\u001b[0m\u001b[0;34m,\u001b[0m \u001b[0mp\u001b[0m\u001b[0;34m.\u001b[0m\u001b[0mdata\u001b[0m\u001b[0;34m,\u001b[0m \u001b[0mflags\u001b[0m\u001b[0;34m)\u001b[0m\u001b[0;34m\u001b[0m\u001b[0m\n\u001b[0m\u001b[1;32m    562\u001b[0m \u001b[0;34m\u001b[0m\u001b[0m\n\u001b[1;32m    563\u001b[0m     \u001b[0mcode\u001b[0m\u001b[0;34m.\u001b[0m\u001b[0mappend\u001b[0m\u001b[0;34m(\u001b[0m\u001b[0mOPCODES\u001b[0m\u001b[0;34m[\u001b[0m\u001b[0mSUCCESS\u001b[0m\u001b[0;34m]\u001b[0m\u001b[0;34m)\u001b[0m\u001b[0;34m\u001b[0m\u001b[0m\n",
      "\u001b[0;32m/home/grg/jupyter/lib/python2.7/sre_compile.pyc\u001b[0m in \u001b[0;36m_compile\u001b[0;34m(code, pattern, flags)\u001b[0m\n\u001b[1;32m     95\u001b[0m             \u001b[0;32melse\u001b[0m\u001b[0;34m:\u001b[0m\u001b[0;34m\u001b[0m\u001b[0m\n\u001b[1;32m     96\u001b[0m                 \u001b[0memit\u001b[0m\u001b[0;34m(\u001b[0m\u001b[0mOPCODES\u001b[0m\u001b[0;34m[\u001b[0m\u001b[0mop\u001b[0m\u001b[0;34m]\u001b[0m\u001b[0;34m)\u001b[0m\u001b[0;34m\u001b[0m\u001b[0m\n\u001b[0;32m---> 97\u001b[0;31m                 \u001b[0memit\u001b[0m\u001b[0;34m(\u001b[0m\u001b[0mav\u001b[0m\u001b[0;34m)\u001b[0m\u001b[0;34m\u001b[0m\u001b[0m\n\u001b[0m\u001b[1;32m     98\u001b[0m         \u001b[0;32melif\u001b[0m \u001b[0mop\u001b[0m \u001b[0;32mis\u001b[0m \u001b[0mIN\u001b[0m\u001b[0;34m:\u001b[0m\u001b[0;34m\u001b[0m\u001b[0m\n\u001b[1;32m     99\u001b[0m             \u001b[0;32mif\u001b[0m \u001b[0mflags\u001b[0m \u001b[0;34m&\u001b[0m \u001b[0mSRE_FLAG_IGNORECASE\u001b[0m\u001b[0;34m:\u001b[0m\u001b[0;34m\u001b[0m\u001b[0m\n",
      "\u001b[0;31mKeyboardInterrupt\u001b[0m: "
     ]
    }
   ],
   "source": [
    "exp = central.select.project(project).experiments()\n",
    "#sc = exp.get\n",
    "#central.inspect.scan_values('xnat:mrSessionData', 'ALFA_PLUS')\n",
    "\n",
    "import os\n",
    "os.chdir('/home/grg/git/slack-integrations/')\n",
    "import xnat_bsc_monitor as bsc\n",
    "reload(bsc)\n",
    "\n",
    "bsc.collect_all_sequences_list(central)"
   ]
  },
  {
   "cell_type": "code",
   "execution_count": 380,
   "metadata": {
    "collapsed": false
   },
   "outputs": [
    {
     "ename": "TypeError",
     "evalue": "object of type 'Experiments' has no len()",
     "output_type": "error",
     "traceback": [
      "\u001b[0;31m---------------------------------------------------------------------------\u001b[0m",
      "\u001b[0;31mTypeError\u001b[0m                                 Traceback (most recent call last)",
      "\u001b[0;32m<ipython-input-380-f9aab37bfd1d>\u001b[0m in \u001b[0;36m<module>\u001b[0;34m()\u001b[0m\n\u001b[0;32m----> 1\u001b[0;31m \u001b[0mlen\u001b[0m\u001b[0;34m(\u001b[0m\u001b[0mexp\u001b[0m\u001b[0;34m)\u001b[0m\u001b[0;34m\u001b[0m\u001b[0m\n\u001b[0m",
      "\u001b[0;31mTypeError\u001b[0m: object of type 'Experiments' has no len()"
     ]
    }
   ],
   "source": []
  },
  {
   "cell_type": "code",
   "execution_count": 507,
   "metadata": {
    "collapsed": false,
    "scrolled": false
   },
   "outputs": [
    {
     "name": "stdout",
     "output_type": "stream",
     "text": [
      "1 \n",
      "\n",
      "### 040510240717600 ###\n",
      "SV_PRESS_100_Myo_CHESS_Ang is unique but has wrong file_count not found 2\n",
      "SV_PRESS_100_Myo_CHESS_Hipo is unique but has wrong file_count not found 2\n",
      "SV_PRESS_100_Myo_CHESS_Cun is unique but has wrong file_count not found 2\n",
      "QFLOW_CAROTID multiple occurrences [u'1101', u'1301']\n",
      "\n",
      " ===== Missing ========\n",
      "WIP muti-b bajo max was found as WIP muti-b  bajo max\n",
      "VWIP sT1W_3D_TFE_HR_32 iso1.2 long AT SENSE missing\n",
      "VWIP sT1W_3D_axial missing\n",
      "VWIP sT1W_3D_coronal missing\n",
      "\n",
      "========= Not identified ==========\n",
      "VM2DI CLEAR not identified\n",
      "Patient Aligned MPR AWPLAN_SMARTPLAN_TYPE_BRAIN not identified\n",
      "T1_AXIAL not identified\n",
      "VSmartBrain SENSE not identified\n",
      "T1_CORONAL not identified\n",
      "B1_calibration not identified\n",
      "M2DI not identified\n",
      "\n",
      "========= Silently identified ==========\n",
      "SmartBrain SENSE silently identified\n",
      "SmartBrain SENSE silently identified\n",
      "QFLOW_CAROTID silently identified\n",
      "QFLOW_CAROTID silently identified\n",
      "\n",
      "==> #0 040510240717600 2 <==\n",
      "\n",
      "1 0 1\n"
     ]
    }
   ],
   "source": [
    "df = pd.read_excel('/home/grg/xnat/listado_XNAT_20170727.xls')\n",
    "#exp = list(central.select.project(project).experiments())\n",
    "project = 'ALFA_PLUS2'\n",
    "exp = ['040510240717600'] #list(set(df[df['project']==project]['xnatId'].tolist())) #'040144130716058'\n",
    "#print exp\n",
    "\n",
    "import os\n",
    "os.chdir('/home/grg/git/slack-integrations/')\n",
    "import xnat_bsc_monitor as bsc\n",
    "reload(bsc)\n",
    "\n",
    "\n",
    "print len(exp), '\\n'\n",
    "true = 0\n",
    "false = 0\n",
    "\n",
    "for i, xnatId in enumerate(exp[:20]):\n",
    "    print '###', xnatId, '###'\n",
    "    \n",
    "    df2 = df[df['xnatId'] == xnatId][['ID', 'type', 'file_count']]\n",
    "    res = bsc.validate_session(df2, project, True)\n",
    "    print '==>', '#%s'%i, xnatId, res, '<==\\n'\n",
    "    if res: true = true + 1\n",
    "    else: false = false + 1\n",
    "\n",
    "print true, false, true+false"
   ]
  },
  {
   "cell_type": "markdown",
   "metadata": {},
   "source": [
    "# Testing validation"
   ]
  },
  {
   "cell_type": "code",
   "execution_count": 513,
   "metadata": {
    "collapsed": false
   },
   "outputs": [
    {
     "name": "stdout",
     "output_type": "stream",
     "text": [
      "### 030411300617697 ###\n",
      "\n",
      " ===== Missing ========\n",
      "IR_ALFA1 was found as IR_ALFA1 SENSE\n",
      "T1_CORONAL missing\n",
      "T1_AXIAL missing\n",
      "FLAIR_CORONAL missing\n",
      "FLAIR_AXIAL missing\n",
      "\n",
      "========= Not identified ==========\n",
      "AXIAL not identified\n",
      "CORONAL not identified\n",
      "\n",
      "========= Silently identified ==========\n",
      "SmartBrain SENSE silently identified\n",
      "SmartBrain SENSE silently identified\n",
      "Patient Aligned MPR AWPLAN_SMARTPLAN_TYPE_BRAIN silently identified\n",
      "B1_calibration silently identified\n",
      "B1_calibration silently identified\n",
      "B0_ALFA1 silently identified\n",
      "\n",
      "==> #0 030411300617697 1 <==\n",
      "\n"
     ]
    }
   ],
   "source": [
    "project = 'ALFA_PLUS'\n",
    "xnatId = '040511260717414'\n",
    "print '###', xnatId, '###'\n",
    "\n",
    "df2 = df[df['xnatId'] == xnatId][['ID', 'type', 'file_count']]\n",
    "res = bsc.validate_session(df2, project, True)\n",
    "print '==>', '#%s'%i, xnatId, res, '<==\\n'\n"
   ]
  },
  {
   "cell_type": "code",
   "execution_count": 511,
   "metadata": {
    "collapsed": false
   },
   "outputs": [
    {
     "data": {
      "text/plain": [
       "[{'ID': '0-OT1',\n",
       "  'file_count': 'not found',\n",
       "  'frames': '0',\n",
       "  'series_description': 'QFLOW_CAROTID',\n",
       "  'type': 'QFLOW_CAROTID'},\n",
       " {'ID': '0-OT2',\n",
       "  'file_count': 'not found',\n",
       "  'frames': '0',\n",
       "  'series_description': 'QFLOW_CAROTID',\n",
       "  'type': 'QFLOW_CAROTID'},\n",
       " {'ID': '0-OT3',\n",
       "  'file_count': 'not found',\n",
       "  'frames': '0',\n",
       "  'series_description': 'QFLOW_CSF',\n",
       "  'type': 'QFLOW_CSF'},\n",
       " {'ID': '0-MR1',\n",
       "  'file_count': 'not found',\n",
       "  'frames': '0',\n",
       "  'series_description': 'not found',\n",
       "  'type': 'unknown'},\n",
       " {'ID': '101',\n",
       "  'URI': '/data/xnat/archive/ALFA_PLUS2/arc001/040510240717600/SCANS/101/DICOM/scan_101_catalog.xml',\n",
       "  'file_count': '100',\n",
       "  'file_size': '21322578',\n",
       "  'format': 'DICOM',\n",
       "  'frames': '100',\n",
       "  'label': 'DICOM',\n",
       "  'series_description': 'SmartBrain SENSE',\n",
       "  'type': 'SmartBrain SENSE'},\n",
       " {'ID': '102',\n",
       "  'URI': '/data/xnat/archive/ALFA_PLUS2/arc001/040510240717600/SCANS/102/DICOM/scan_102_catalog.xml',\n",
       "  'file_count': '2',\n",
       "  'file_size': '426884',\n",
       "  'format': 'DICOM',\n",
       "  'frames': '2',\n",
       "  'label': 'DICOM',\n",
       "  'series_description': 'SmartBrain SENSE',\n",
       "  'type': 'SmartBrain SENSE'},\n",
       " {'ID': '103',\n",
       "  'URI': '/data/xnat/archive/ALFA_PLUS2/arc001/040510240717600/SCANS/103/DICOM/scan_103_catalog.xml',\n",
       "  'file_count': '50',\n",
       "  'file_size': '10678086',\n",
       "  'format': 'DICOM',\n",
       "  'frames': '50',\n",
       "  'label': 'DICOM',\n",
       "  'series_description': 'VSmartBrain SENSE',\n",
       "  'type': 'VSmartBrain SENSE'},\n",
       " {'ID': '104',\n",
       "  'URI': '/data/xnat/archive/ALFA_PLUS2/arc001/040510240717600/SCANS/104/DICOM/scan_104_catalog.xml',\n",
       "  'file_count': '54',\n",
       "  'file_size': '11581690',\n",
       "  'format': 'DICOM',\n",
       "  'frames': '54',\n",
       "  'label': 'DICOM',\n",
       "  'series_description': 'Patient Aligned MPR AWPLAN_SMARTPLAN_TYPE_BRAIN',\n",
       "  'type': 'Patient Aligned MPR AWPLAN_SMARTPLAN_TYPE_BRAIN'},\n",
       " {'ID': '201',\n",
       "  'file_count': 'not found',\n",
       "  'frames': '0',\n",
       "  'series_description': 'B1_calibration',\n",
       "  'type': 'B1_calibration'},\n",
       " {'ID': '202',\n",
       "  'file_count': 'not found',\n",
       "  'frames': '0',\n",
       "  'series_description': 'B1_calibration',\n",
       "  'type': 'B1_calibration'},\n",
       " {'ID': '301',\n",
       "  'URI': '/data/xnat/archive/ALFA_PLUS2/arc001/040510240717600/SCANS/301/DICOM/scan_301_catalog.xml',\n",
       "  'file_count': '150',\n",
       "  'file_size': '38509082',\n",
       "  'format': 'DICOM',\n",
       "  'frames': '150',\n",
       "  'label': 'DICOM',\n",
       "  'series_description': 'sT1W_3D_TFE_HR_32 iso1.2 long AT',\n",
       "  'type': 'sT1W_3D_TFE_HR_32 iso1.2 long AT'},\n",
       " {'ID': '302',\n",
       "  'URI': '/data/xnat/archive/ALFA_PLUS2/arc001/040510240717600/SCANS/302/DICOM/scan_302_catalog.xml',\n",
       "  'file_count': '100',\n",
       "  'file_size': '25661796',\n",
       "  'format': 'DICOM',\n",
       "  'frames': '100',\n",
       "  'label': 'DICOM',\n",
       "  'series_description': 'T1_CORONAL',\n",
       "  'type': 'T1_CORONAL'},\n",
       " {'ID': '303',\n",
       "  'URI': '/data/xnat/archive/ALFA_PLUS2/arc001/040510240717600/SCANS/303/DICOM/scan_303_catalog.xml',\n",
       "  'file_count': '120',\n",
       "  'file_size': '30793994',\n",
       "  'format': 'DICOM',\n",
       "  'frames': '120',\n",
       "  'label': 'DICOM',\n",
       "  'series_description': 'T1_AXIAL',\n",
       "  'type': 'T1_AXIAL'},\n",
       " {'ID': '401',\n",
       "  'file_count': '2',\n",
       "  'frames': '0',\n",
       "  'series_description': 'SV_PRESS_100_Myo_CHESS_Hipo',\n",
       "  'type': 'SV_PRESS_100_Myo_CHESS_Hipo'},\n",
       " {'ID': '501',\n",
       "  'file_count': '2',\n",
       "  'frames': '0',\n",
       "  'series_description': 'SV_PRESS_100_Myo_CHESS_Cun',\n",
       "  'type': 'SV_PRESS_100_Myo_CHESS_Cun'},\n",
       " {'ID': '602',\n",
       "  'file_count': '2',\n",
       "  'frames': '0',\n",
       "  'series_description': 'SV_PRESS_100_Myo_CHESS_Ang',\n",
       "  'type': 'SV_PRESS_100_Myo_CHESS_Ang'},\n",
       " {'ID': '701',\n",
       "  'URI': '/data/xnat/archive/ALFA_PLUS2/arc001/040510240717600/SCANS/701/DICOM/scan_701_catalog.xml',\n",
       "  'file_count': '30',\n",
       "  'file_size': '1247996',\n",
       "  'format': 'DICOM',\n",
       "  'frames': '30',\n",
       "  'label': 'DICOM',\n",
       "  'series_description': 'M0_ASL',\n",
       "  'type': 'M0_ASL'},\n",
       " {'ID': '801',\n",
       "  'URI': '/data/xnat/archive/ALFA_PLUS2/arc001/040510240717600/SCANS/801/DICOM/scan_801_catalog.xml',\n",
       "  'file_count': '1800',\n",
       "  'file_size': '75253074',\n",
       "  'format': 'DICOM',\n",
       "  'frames': '1800',\n",
       "  'label': 'DICOM',\n",
       "  'series_description': 'pCASL',\n",
       "  'type': 'pCASL'},\n",
       " {'ID': '802-MR1',\n",
       "  'URI': '/data/xnat/archive/ALFA_PLUS2/arc001/040510240717600/SCANS/802/DICOM/scan_802-MR1_catalog.xml',\n",
       "  'file_count': '30',\n",
       "  'file_size': '1265508',\n",
       "  'format': 'DICOM',\n",
       "  'frames': '30',\n",
       "  'label': 'DICOM',\n",
       "  'series_description': 'sWIP pCASL SENSE',\n",
       "  'type': 'sWIP pCASL SENSE'},\n",
       " {'ID': '802-OT1',\n",
       "  'file_count': 'not found',\n",
       "  'frames': '0',\n",
       "  'series_description': 'sWIP pCASL SENSE',\n",
       "  'type': 'sWIP pCASL SENSE'},\n",
       " {'ID': '1001',\n",
       "  'URI': '/data/xnat/archive/ALFA_PLUS2/arc001/040510240717600/SCANS/1001/DICOM/scan_1001_catalog.xml',\n",
       "  'file_count': '30',\n",
       "  'file_size': '6415734',\n",
       "  'format': 'DICOM',\n",
       "  'frames': '30',\n",
       "  'label': 'DICOM',\n",
       "  'series_description': 'M2DI',\n",
       "  'type': 'M2DI'},\n",
       " {'ID': '1002',\n",
       "  'URI': '/data/xnat/archive/ALFA_PLUS2/arc001/040510240717600/SCANS/1002/DICOM/scan_1002_catalog.xml',\n",
       "  'file_count': '3',\n",
       "  'file_size': '641294',\n",
       "  'format': 'DICOM',\n",
       "  'frames': '3',\n",
       "  'label': 'DICOM',\n",
       "  'series_description': 'M2DI',\n",
       "  'type': 'M2DI'},\n",
       " {'ID': '1003',\n",
       "  'URI': '/data/xnat/archive/ALFA_PLUS2/arc001/040510240717600/SCANS/1003/DICOM/scan_1003_catalog.xml',\n",
       "  'file_count': '15',\n",
       "  'file_size': '3204322',\n",
       "  'format': 'DICOM',\n",
       "  'frames': '15',\n",
       "  'label': 'DICOM',\n",
       "  'series_description': 'VM2DI CLEAR',\n",
       "  'type': 'VM2DI CLEAR'},\n",
       " {'ID': '1004',\n",
       "  'URI': '/data/xnat/archive/ALFA_PLUS2/arc001/040510240717600/SCANS/1004/DICOM/scan_1004_catalog.xml',\n",
       "  'file_count': '15',\n",
       "  'file_size': '3204322',\n",
       "  'format': 'DICOM',\n",
       "  'frames': '15',\n",
       "  'label': 'DICOM',\n",
       "  'series_description': 'VM2DI CLEAR',\n",
       "  'type': 'VM2DI CLEAR'},\n",
       " {'ID': '1101',\n",
       "  'URI': '/data/xnat/archive/ALFA_PLUS2/arc001/040510240717600/SCANS/1101/DICOM/scan_1101_catalog.xml',\n",
       "  'file_count': '90',\n",
       "  'file_size': '19271622',\n",
       "  'format': 'DICOM',\n",
       "  'frames': '90',\n",
       "  'label': 'DICOM',\n",
       "  'series_description': 'QFLOW_CAROTID',\n",
       "  'type': 'QFLOW_CAROTID'},\n",
       " {'ID': '1201',\n",
       "  'URI': '/data/xnat/archive/ALFA_PLUS2/arc001/040510240717600/SCANS/1201/DICOM/scan_1201_catalog.xml',\n",
       "  'file_count': '90',\n",
       "  'file_size': '7473702',\n",
       "  'format': 'DICOM',\n",
       "  'frames': '90',\n",
       "  'label': 'DICOM',\n",
       "  'series_description': 'QFLOW_CSF',\n",
       "  'type': 'QFLOW_CSF'},\n",
       " {'ID': '1301',\n",
       "  'URI': '/data/xnat/archive/ALFA_PLUS2/arc001/040510240717600/SCANS/1301/DICOM/scan_1301_catalog.xml',\n",
       "  'file_count': '90',\n",
       "  'file_size': '19271502',\n",
       "  'format': 'DICOM',\n",
       "  'frames': '90',\n",
       "  'label': 'DICOM',\n",
       "  'series_description': 'QFLOW_CAROTID',\n",
       "  'type': 'QFLOW_CAROTID'},\n",
       " {'ID': '1401',\n",
       "  'URI': '/data/xnat/archive/ALFA_PLUS2/arc001/040510240717600/SCANS/1401/DICOM/scan_1401_catalog.xml',\n",
       "  'file_count': '64',\n",
       "  'file_size': '8954944',\n",
       "  'format': 'DICOM',\n",
       "  'frames': '64',\n",
       "  'label': 'DICOM',\n",
       "  'series_description': 'WIP muti-b  bajo max',\n",
       "  'type': 'WIP muti-b  bajo max'},\n",
       " {'ID': '1501',\n",
       "  'URI': '/data/xnat/archive/ALFA_PLUS2/arc001/040510240717600/SCANS/1501/DICOM/scan_1501_catalog.xml',\n",
       "  'file_count': '128',\n",
       "  'file_size': '17909942',\n",
       "  'format': 'DICOM',\n",
       "  'frames': '128',\n",
       "  'label': 'DICOM',\n",
       "  'series_description': 'WIP muti-b medio max',\n",
       "  'type': 'WIP muti-b medio max'},\n",
       " {'ID': '1601',\n",
       "  'URI': '/data/xnat/archive/ALFA_PLUS2/arc001/040510240717600/SCANS/1601/DICOM/scan_1601_catalog.xml',\n",
       "  'file_count': '96',\n",
       "  'file_size': '13432326',\n",
       "  'format': 'DICOM',\n",
       "  'frames': '96',\n",
       "  'label': 'DICOM',\n",
       "  'series_description': 'WIP muti-b altos max',\n",
       "  'type': 'WIP muti-b altos max'},\n",
       " {'ID': '1701',\n",
       "  'URI': '/data/xnat/archive/ALFA_PLUS2/arc001/040510240717600/SCANS/1701/DICOM/scan_1701_catalog.xml',\n",
       "  'file_count': '280',\n",
       "  'file_size': '332791274',\n",
       "  'format': 'DICOM',\n",
       "  'frames': '280',\n",
       "  'label': 'DICOM',\n",
       "  'series_description': 'SWIp SENSE',\n",
       "  'type': 'SWIp SENSE'},\n",
       " {'ID': '1703',\n",
       "  'URI': '/data/xnat/archive/ALFA_PLUS2/arc001/040510240717600/SCANS/1703/DICOM/scan_1703_catalog.xml',\n",
       "  'file_count': '1120',\n",
       "  'file_size': '1331487658',\n",
       "  'format': 'DICOM',\n",
       "  'frames': '1120',\n",
       "  'label': 'DICOM',\n",
       "  'series_description': 'DelRec - SWIp SENSE',\n",
       "  'type': 'DelRec - SWIp SENSE'}]"
      ]
     },
     "execution_count": 511,
     "metadata": {},
     "output_type": "execute_result"
    }
   ],
   "source": [
    "bsc.collect_sequences_list(central, project, xnatId)"
   ]
  },
  {
   "cell_type": "code",
   "execution_count": null,
   "metadata": {
    "collapsed": true
   },
   "outputs": [],
   "source": []
  }
 ],
 "metadata": {
  "kernelspec": {
   "display_name": "Python 2",
   "language": "python",
   "name": "python2"
  },
  "language_info": {
   "codemirror_mode": {
    "name": "ipython",
    "version": 2
   },
   "file_extension": ".py",
   "mimetype": "text/x-python",
   "name": "python",
   "nbconvert_exporter": "python",
   "pygments_lexer": "ipython2",
   "version": "2.7.11+"
  }
 },
 "nbformat": 4,
 "nbformat_minor": 1
}
